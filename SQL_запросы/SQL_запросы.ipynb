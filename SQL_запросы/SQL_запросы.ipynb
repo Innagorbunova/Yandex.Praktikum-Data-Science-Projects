{
 "cells": [
  {
   "cell_type": "markdown",
   "metadata": {
    "id": "nlZBlglMDWKe"
   },
   "source": [
    "# Решение задач средствами SQL запросов #"
   ]
  },
  {
   "cell_type": "markdown",
   "metadata": {},
   "source": [
    "Импортируем необходимые библиотеки"
   ]
  },
  {
   "cell_type": "code",
   "execution_count": null,
   "metadata": {},
   "outputs": [],
   "source": [
    "import pandas as pd\n",
    "import matplotlib.pyplot as plt\n",
    "import seaborn as sns\n",
    "from sqlalchemy import create_engine "
   ]
  },
  {
   "cell_type": "markdown",
   "metadata": {
    "id": "XnOE3n28DWKg"
   },
   "source": [
    "### Конфигурация для подключения к базе данных `data-analyst-advanced-sql`\n",
    "Эта база данных содержит схему `stackoverflow`для работы в проекте"
   ]
  },
  {
   "cell_type": "code",
   "execution_count": 2,
   "metadata": {
    "id": "6p-yGp7qDWKg"
   },
   "outputs": [],
   "source": [
    "db_config = {\n",
    "    'user': 'praktikum_student', # имя пользователя\n",
    "    'pwd': 'Sdf4$2;d-d30pp', # пароль\n",
    "    'host': 'rc1b-wcoijxj3yxfsf3fs.mdb.yandexcloud.net',\n",
    "    'port': 6432, # порт подключения\n",
    "    'db': 'data-analyst-advanced-sql' # название базы данных\n",
    "}  \n",
    "\n",
    "connection_string = 'postgresql://{}:{}@{}:{}/{}'.format(\n",
    "    db_config['user'],\n",
    "    db_config['pwd'],\n",
    "    db_config['host'],\n",
    "    db_config['port'],\n",
    "    db_config['db'],\n",
    ")"
   ]
  },
  {
   "cell_type": "markdown",
   "metadata": {
    "id": "2Rg8ZpS0DWKh"
   },
   "source": [
    "Создание подключения"
   ]
  },
  {
   "cell_type": "code",
   "execution_count": 3,
   "metadata": {
    "id": "DamCUTR6DWKi"
   },
   "outputs": [],
   "source": [
    "engine = create_engine(connection_string) "
   ]
  },
  {
   "cell_type": "code",
   "execution_count": 4,
   "metadata": {
    "id": "6Z_fw0yLDWKk"
   },
   "outputs": [],
   "source": [
    "query = '''\n",
    "SELECT *\n",
    "FROM stackoverflow.users\n",
    "LIMIT 10;\n",
    "'''\n",
    "\n",
    "sample_df = pd.read_sql_query(query, con=engine) "
   ]
  },
  {
   "cell_type": "code",
   "execution_count": 5,
   "metadata": {
    "id": "ZpuZ290oDWKk",
    "outputId": "22785a0a-e2bc-4559-ec3c-4879c4b377eb"
   },
   "outputs": [
    {
     "data": {
      "text/html": [
       "<div>\n",
       "<style scoped>\n",
       "    .dataframe tbody tr th:only-of-type {\n",
       "        vertical-align: middle;\n",
       "    }\n",
       "\n",
       "    .dataframe tbody tr th {\n",
       "        vertical-align: top;\n",
       "    }\n",
       "\n",
       "    .dataframe thead th {\n",
       "        text-align: right;\n",
       "    }\n",
       "</style>\n",
       "<table border=\"1\" class=\"dataframe\">\n",
       "  <thead>\n",
       "    <tr style=\"text-align: right;\">\n",
       "      <th></th>\n",
       "      <th>id</th>\n",
       "      <th>creation_date</th>\n",
       "      <th>display_name</th>\n",
       "      <th>last_access_date</th>\n",
       "      <th>location</th>\n",
       "      <th>reputation</th>\n",
       "      <th>views</th>\n",
       "    </tr>\n",
       "  </thead>\n",
       "  <tbody>\n",
       "    <tr>\n",
       "      <th>0</th>\n",
       "      <td>1</td>\n",
       "      <td>2008-07-31 14:22:31</td>\n",
       "      <td>Jeff Atwood</td>\n",
       "      <td>2018-08-29 02:34:23</td>\n",
       "      <td>El Cerrito, CA</td>\n",
       "      <td>44300</td>\n",
       "      <td>408587</td>\n",
       "    </tr>\n",
       "    <tr>\n",
       "      <th>1</th>\n",
       "      <td>2</td>\n",
       "      <td>2008-07-31 14:22:31</td>\n",
       "      <td>Geoff Dalgas</td>\n",
       "      <td>2018-08-23 17:31:56</td>\n",
       "      <td>Corvallis, OR</td>\n",
       "      <td>3491</td>\n",
       "      <td>23966</td>\n",
       "    </tr>\n",
       "    <tr>\n",
       "      <th>2</th>\n",
       "      <td>3</td>\n",
       "      <td>2008-07-31 14:22:31</td>\n",
       "      <td>Jarrod Dixon</td>\n",
       "      <td>2018-08-30 20:56:24</td>\n",
       "      <td>Raleigh, NC, United States</td>\n",
       "      <td>13418</td>\n",
       "      <td>24396</td>\n",
       "    </tr>\n",
       "    <tr>\n",
       "      <th>3</th>\n",
       "      <td>4</td>\n",
       "      <td>2008-07-31 14:22:31</td>\n",
       "      <td>Joel Spolsky</td>\n",
       "      <td>2018-08-14 22:18:15</td>\n",
       "      <td>New York, NY</td>\n",
       "      <td>28768</td>\n",
       "      <td>73755</td>\n",
       "    </tr>\n",
       "    <tr>\n",
       "      <th>4</th>\n",
       "      <td>5</td>\n",
       "      <td>2008-07-31 14:22:31</td>\n",
       "      <td>Jon Galloway</td>\n",
       "      <td>2018-08-29 16:48:36</td>\n",
       "      <td>San Diego, CA</td>\n",
       "      <td>39172</td>\n",
       "      <td>11700</td>\n",
       "    </tr>\n",
       "    <tr>\n",
       "      <th>5</th>\n",
       "      <td>8</td>\n",
       "      <td>2008-07-31 21:33:24</td>\n",
       "      <td>Eggs McLaren</td>\n",
       "      <td>2018-04-09 02:04:56</td>\n",
       "      <td>None</td>\n",
       "      <td>942</td>\n",
       "      <td>6372</td>\n",
       "    </tr>\n",
       "    <tr>\n",
       "      <th>6</th>\n",
       "      <td>9</td>\n",
       "      <td>2008-07-31 21:35:27</td>\n",
       "      <td>Kevin Dente</td>\n",
       "      <td>2018-08-30 18:18:03</td>\n",
       "      <td>Oakland, CA</td>\n",
       "      <td>14337</td>\n",
       "      <td>4949</td>\n",
       "    </tr>\n",
       "    <tr>\n",
       "      <th>7</th>\n",
       "      <td>11</td>\n",
       "      <td>2008-08-01 00:59:11</td>\n",
       "      <td>Anonymous User</td>\n",
       "      <td>2008-08-01 00:59:11</td>\n",
       "      <td>None</td>\n",
       "      <td>1890</td>\n",
       "      <td>2123</td>\n",
       "    </tr>\n",
       "    <tr>\n",
       "      <th>8</th>\n",
       "      <td>13</td>\n",
       "      <td>2008-08-01 04:18:05</td>\n",
       "      <td>Chris Jester-Young</td>\n",
       "      <td>2018-08-30 02:47:23</td>\n",
       "      <td>Raleigh, NC, United States</td>\n",
       "      <td>177138</td>\n",
       "      <td>35414</td>\n",
       "    </tr>\n",
       "    <tr>\n",
       "      <th>9</th>\n",
       "      <td>17</td>\n",
       "      <td>2008-08-01 12:02:22</td>\n",
       "      <td>Nick Berardi</td>\n",
       "      <td>2018-01-22 01:35:38</td>\n",
       "      <td>Issaquah, WA</td>\n",
       "      <td>44443</td>\n",
       "      <td>4786</td>\n",
       "    </tr>\n",
       "  </tbody>\n",
       "</table>\n",
       "</div>"
      ],
      "text/plain": [
       "   id       creation_date        display_name    last_access_date  \\\n",
       "0   1 2008-07-31 14:22:31         Jeff Atwood 2018-08-29 02:34:23   \n",
       "1   2 2008-07-31 14:22:31        Geoff Dalgas 2018-08-23 17:31:56   \n",
       "2   3 2008-07-31 14:22:31        Jarrod Dixon 2018-08-30 20:56:24   \n",
       "3   4 2008-07-31 14:22:31        Joel Spolsky 2018-08-14 22:18:15   \n",
       "4   5 2008-07-31 14:22:31        Jon Galloway 2018-08-29 16:48:36   \n",
       "5   8 2008-07-31 21:33:24        Eggs McLaren 2018-04-09 02:04:56   \n",
       "6   9 2008-07-31 21:35:27         Kevin Dente 2018-08-30 18:18:03   \n",
       "7  11 2008-08-01 00:59:11      Anonymous User 2008-08-01 00:59:11   \n",
       "8  13 2008-08-01 04:18:05  Chris Jester-Young 2018-08-30 02:47:23   \n",
       "9  17 2008-08-01 12:02:22        Nick Berardi 2018-01-22 01:35:38   \n",
       "\n",
       "                     location  reputation   views  \n",
       "0              El Cerrito, CA       44300  408587  \n",
       "1               Corvallis, OR        3491   23966  \n",
       "2  Raleigh, NC, United States       13418   24396  \n",
       "3                New York, NY       28768   73755  \n",
       "4               San Diego, CA       39172   11700  \n",
       "5                        None         942    6372  \n",
       "6                 Oakland, CA       14337    4949  \n",
       "7                        None        1890    2123  \n",
       "8  Raleigh, NC, United States      177138   35414  \n",
       "9                Issaquah, WA       44443    4786  "
      ]
     },
     "execution_count": 5,
     "metadata": {},
     "output_type": "execute_result"
    }
   ],
   "source": [
    "sample_df"
   ]
  },
  {
   "cell_type": "markdown",
   "metadata": {
    "id": "gnBMXkDBDWKm"
   },
   "source": [
    "# Задание 1"
   ]
  },
  {
   "cell_type": "markdown",
   "metadata": {
    "id": "vHsfOrrNDWKn"
   },
   "source": [
    "Выведите общую сумму просмотров постов за каждый месяц 2008 года. Если данных за какой-либо месяц в базе нет, такой месяц можно пропустить. Результат отсортируйте по убыванию общего количества просмотров."
   ]
  },
  {
   "cell_type": "markdown",
   "metadata": {
    "id": "N5rTgGNmDWKn"
   },
   "source": [
    "| month_date  | total_views |\n",
    "| ------------- | ------------- |\n",
    "| 2008-09-01  | 452928568  |\n",
    "| 2008-10-01  | 365400138  |\n",
    "| ...         | ... |"
   ]
  },
  {
   "cell_type": "code",
   "execution_count": 6,
   "metadata": {
    "id": "eWvykcXTDWKo"
   },
   "outputs": [
    {
     "data": {
      "text/html": [
       "<div>\n",
       "<style scoped>\n",
       "    .dataframe tbody tr th:only-of-type {\n",
       "        vertical-align: middle;\n",
       "    }\n",
       "\n",
       "    .dataframe tbody tr th {\n",
       "        vertical-align: top;\n",
       "    }\n",
       "\n",
       "    .dataframe thead th {\n",
       "        text-align: right;\n",
       "    }\n",
       "</style>\n",
       "<table border=\"1\" class=\"dataframe\">\n",
       "  <thead>\n",
       "    <tr style=\"text-align: right;\">\n",
       "      <th></th>\n",
       "      <th>month_date</th>\n",
       "      <th>total_views</th>\n",
       "    </tr>\n",
       "  </thead>\n",
       "  <tbody>\n",
       "    <tr>\n",
       "      <th>0</th>\n",
       "      <td>2008-09-01</td>\n",
       "      <td>452928568</td>\n",
       "    </tr>\n",
       "    <tr>\n",
       "      <th>1</th>\n",
       "      <td>2008-10-01</td>\n",
       "      <td>365400138</td>\n",
       "    </tr>\n",
       "    <tr>\n",
       "      <th>2</th>\n",
       "      <td>2008-11-01</td>\n",
       "      <td>221759651</td>\n",
       "    </tr>\n",
       "    <tr>\n",
       "      <th>3</th>\n",
       "      <td>2008-12-01</td>\n",
       "      <td>197792841</td>\n",
       "    </tr>\n",
       "    <tr>\n",
       "      <th>4</th>\n",
       "      <td>2008-08-01</td>\n",
       "      <td>131367083</td>\n",
       "    </tr>\n",
       "    <tr>\n",
       "      <th>5</th>\n",
       "      <td>2008-07-01</td>\n",
       "      <td>669895</td>\n",
       "    </tr>\n",
       "  </tbody>\n",
       "</table>\n",
       "</div>"
      ],
      "text/plain": [
       "   month_date  total_views\n",
       "0  2008-09-01    452928568\n",
       "1  2008-10-01    365400138\n",
       "2  2008-11-01    221759651\n",
       "3  2008-12-01    197792841\n",
       "4  2008-08-01    131367083\n",
       "5  2008-07-01       669895"
      ]
     },
     "execution_count": 6,
     "metadata": {},
     "output_type": "execute_result"
    }
   ],
   "source": [
    "query = '''\n",
    "SELECT DATE_TRUNC('month', creation_date)::date AS month_date,\n",
    "       SUM(views_count) AS total_views\n",
    "FROM stackoverflow.posts\n",
    "GROUP BY DATE_TRUNC('month', creation_date)\n",
    "ORDER BY SUM(views_count) DESC;\n",
    "'''\n",
    "\n",
    "one = pd.read_sql_query(query, con=engine)\n",
    "one  "
   ]
  },
  {
   "cell_type": "markdown",
   "metadata": {
    "id": "I_ZvhOxkDWKp"
   },
   "source": [
    "Проанализируйте итоговую таблицу. Отличаются ли данные за разные месяцы? С чем могут быть связаны отличия?"
   ]
  },
  {
   "cell_type": "markdown",
   "metadata": {},
   "source": [
    "Для анализа итоговой таблицы визуализируем динамику просмотров по месяцам, предварительно выделив месяц методом sql."
   ]
  },
  {
   "cell_type": "code",
   "execution_count": 7,
   "metadata": {},
   "outputs": [
    {
     "data": {
      "text/html": [
       "<div>\n",
       "<style scoped>\n",
       "    .dataframe tbody tr th:only-of-type {\n",
       "        vertical-align: middle;\n",
       "    }\n",
       "\n",
       "    .dataframe tbody tr th {\n",
       "        vertical-align: top;\n",
       "    }\n",
       "\n",
       "    .dataframe thead th {\n",
       "        text-align: right;\n",
       "    }\n",
       "</style>\n",
       "<table border=\"1\" class=\"dataframe\">\n",
       "  <thead>\n",
       "    <tr style=\"text-align: right;\">\n",
       "      <th></th>\n",
       "      <th>month_date</th>\n",
       "      <th>total_views</th>\n",
       "    </tr>\n",
       "  </thead>\n",
       "  <tbody>\n",
       "    <tr>\n",
       "      <th>0</th>\n",
       "      <td>9.0</td>\n",
       "      <td>452928568</td>\n",
       "    </tr>\n",
       "    <tr>\n",
       "      <th>1</th>\n",
       "      <td>10.0</td>\n",
       "      <td>365400138</td>\n",
       "    </tr>\n",
       "    <tr>\n",
       "      <th>2</th>\n",
       "      <td>11.0</td>\n",
       "      <td>221759651</td>\n",
       "    </tr>\n",
       "    <tr>\n",
       "      <th>3</th>\n",
       "      <td>12.0</td>\n",
       "      <td>197792841</td>\n",
       "    </tr>\n",
       "    <tr>\n",
       "      <th>4</th>\n",
       "      <td>8.0</td>\n",
       "      <td>131367083</td>\n",
       "    </tr>\n",
       "    <tr>\n",
       "      <th>5</th>\n",
       "      <td>7.0</td>\n",
       "      <td>669895</td>\n",
       "    </tr>\n",
       "  </tbody>\n",
       "</table>\n",
       "</div>"
      ],
      "text/plain": [
       "   month_date  total_views\n",
       "0         9.0    452928568\n",
       "1        10.0    365400138\n",
       "2        11.0    221759651\n",
       "3        12.0    197792841\n",
       "4         8.0    131367083\n",
       "5         7.0       669895"
      ]
     },
     "execution_count": 7,
     "metadata": {},
     "output_type": "execute_result"
    }
   ],
   "source": [
    "query = '''\n",
    "SELECT EXTRACT (MONTH FROM (DATE_TRUNC('month', creation_date)::date)) AS month_date, \n",
    "       SUM(views_count) AS total_views\n",
    "FROM stackoverflow.posts\n",
    "GROUP BY month_date\n",
    "ORDER BY SUM(views_count) DESC;\n",
    "'''\n",
    "one = pd.read_sql_query(query, con=engine)\n",
    "one "
   ]
  },
  {
   "cell_type": "code",
   "execution_count": 8,
   "metadata": {},
   "outputs": [
    {
     "data": {
      "image/png": "[encoded data removed]",
      "text/plain": [
       "<Figure size 576x216 with 1 Axes>"
      ]
     },
     "metadata": {
      "needs_background": "light"
     },
     "output_type": "display_data"
    }
   ],
   "source": [
    "ax = one.pivot_table(index='month_date', values='total_views'\n",
    "                ).plot( title='Количество просмотров', grid=True,figsize=(8, 3))"
   ]
  },
  {
   "cell_type": "markdown",
   "metadata": {
    "id": "luxSj17oDWKq"
   },
   "source": [
    " Динамика просмотров такова, что минимальное их количество (почти 670 тыс.) в период создания сайта StackOverflow - июле 2008 года. Пик просмотров достигается в сентябре (более 450 млн.), после чего наступает снижение и в ноябре-декабре их количество составляет около 220-200 млн.\n",
    "    \n",
    "Такая динамика характерна для любого нововведения: вначале интерес к новому сайту нарастает, после чего часть пользователей может посчитать для себя этот ресурс бесполезным и перестать им пользоваться. Остается та часть пользователей, которые избрали сайт StackOverflow источником информации на постоянной основе. \n",
    "</div> "
   ]
  },
  {
   "cell_type": "markdown",
   "metadata": {},
   "source": [
    "<hr style=\"border: 2px solid green;\" />"
   ]
  },
  {
   "cell_type": "markdown",
   "metadata": {
    "id": "FziIXkn5DWKr"
   },
   "source": [
    "# Задание 2"
   ]
  },
  {
   "cell_type": "markdown",
   "metadata": {
    "id": "fTGESZvYDWKr"
   },
   "source": [
    "Выведите имена самых активных пользователей, которые в первый месяц после регистрации (включая день регистрации) дали больше 100 ответов. Вопросы, которые задавали пользователи, не учитывайте. Для каждого имени пользователя выведите количество уникальных значений `user_id`. Отсортируйте результат по полю с именами в лексикографическом порядке."
   ]
  },
  {
   "cell_type": "markdown",
   "metadata": {
    "id": "W5-tv6Y3DWKs"
   },
   "source": [
    "| display_name | count |\n",
    "| ------------ | ----- |\n",
    "| 1800 INFORMATION | 1 |\n",
    "| Adam Bellaire | 1 |\n",
    "| Adam Davis | 1 |\n",
    "| ... | ... |"
   ]
  },
  {
   "cell_type": "code",
   "execution_count": 9,
   "metadata": {},
   "outputs": [
    {
     "data": {
      "text/html": [
       "<div>\n",
       "<style scoped>\n",
       "    .dataframe tbody tr th:only-of-type {\n",
       "        vertical-align: middle;\n",
       "    }\n",
       "\n",
       "    .dataframe tbody tr th {\n",
       "        vertical-align: top;\n",
       "    }\n",
       "\n",
       "    .dataframe thead th {\n",
       "        text-align: right;\n",
       "    }\n",
       "</style>\n",
       "<table border=\"1\" class=\"dataframe\">\n",
       "  <thead>\n",
       "    <tr style=\"text-align: right;\">\n",
       "      <th></th>\n",
       "      <th>display_name</th>\n",
       "      <th>count</th>\n",
       "    </tr>\n",
       "  </thead>\n",
       "  <tbody>\n",
       "    <tr>\n",
       "      <th>0</th>\n",
       "      <td>1800 INFORMATION</td>\n",
       "      <td>1</td>\n",
       "    </tr>\n",
       "    <tr>\n",
       "      <th>1</th>\n",
       "      <td>Adam Bellaire</td>\n",
       "      <td>1</td>\n",
       "    </tr>\n",
       "    <tr>\n",
       "      <th>2</th>\n",
       "      <td>Adam Davis</td>\n",
       "      <td>1</td>\n",
       "    </tr>\n",
       "    <tr>\n",
       "      <th>3</th>\n",
       "      <td>Adam Liss</td>\n",
       "      <td>1</td>\n",
       "    </tr>\n",
       "    <tr>\n",
       "      <th>4</th>\n",
       "      <td>Alan</td>\n",
       "      <td>8</td>\n",
       "    </tr>\n",
       "  </tbody>\n",
       "</table>\n",
       "</div>"
      ],
      "text/plain": [
       "       display_name  count\n",
       "0  1800 INFORMATION      1\n",
       "1     Adam Bellaire      1\n",
       "2        Adam Davis      1\n",
       "3         Adam Liss      1\n",
       "4              Alan      8"
      ]
     },
     "execution_count": 9,
     "metadata": {},
     "output_type": "execute_result"
    }
   ],
   "source": [
    "query = '''\n",
    "SELECT \n",
    "      us.display_name,\n",
    "      COUNT(DISTINCT ps.user_id)\n",
    "FROM stackoverflow.users AS us\n",
    "JOIN stackoverflow.posts AS ps ON us.id = ps.user_id\n",
    "JOIN stackoverflow.post_types AS pst ON pst.id = ps.post_type_id\n",
    "WHERE pst.type = 'Answer'\n",
    "AND (ps.creation_date::date BETWEEN us.creation_date::date AND (us.creation_date::date + INTERVAL '1 month'))\n",
    "GROUP BY us.display_name\n",
    "HAVING COUNT(ps.id)>100\n",
    "'''\n",
    "two = pd.read_sql_query(query, con=engine)\n",
    "two.head()"
   ]
  },
  {
   "cell_type": "markdown",
   "metadata": {
    "id": "I3Wr82TplKpI"
   },
   "source": [
    "Какие аномалии наблюдаются в данных? О чём они говорят?"
   ]
  },
  {
   "cell_type": "markdown",
   "metadata": {},
   "source": [
    "Для поиска аномальных значений выведем уникальные значения поля \"count\". В поле \"display_name\" аномальные значения искать не будем, так как оно сформировано по имени пользователя, которое он может указывать в любом виде."
   ]
  },
  {
   "cell_type": "code",
   "execution_count": 10,
   "metadata": {},
   "outputs": [
    {
     "data": {
      "text/html": [
       "<div>\n",
       "<style scoped>\n",
       "    .dataframe tbody tr th:only-of-type {\n",
       "        vertical-align: middle;\n",
       "    }\n",
       "\n",
       "    .dataframe tbody tr th {\n",
       "        vertical-align: top;\n",
       "    }\n",
       "\n",
       "    .dataframe thead th {\n",
       "        text-align: right;\n",
       "    }\n",
       "</style>\n",
       "<table border=\"1\" class=\"dataframe\">\n",
       "  <thead>\n",
       "    <tr style=\"text-align: right;\">\n",
       "      <th></th>\n",
       "      <th>count</th>\n",
       "    </tr>\n",
       "  </thead>\n",
       "  <tbody>\n",
       "    <tr>\n",
       "      <th>0</th>\n",
       "      <td>1</td>\n",
       "    </tr>\n",
       "    <tr>\n",
       "      <th>1</th>\n",
       "      <td>3</td>\n",
       "    </tr>\n",
       "    <tr>\n",
       "      <th>2</th>\n",
       "      <td>5</td>\n",
       "    </tr>\n",
       "    <tr>\n",
       "      <th>3</th>\n",
       "      <td>7</td>\n",
       "    </tr>\n",
       "    <tr>\n",
       "      <th>4</th>\n",
       "      <td>8</td>\n",
       "    </tr>\n",
       "    <tr>\n",
       "      <th>5</th>\n",
       "      <td>9</td>\n",
       "    </tr>\n",
       "    <tr>\n",
       "      <th>6</th>\n",
       "      <td>10</td>\n",
       "    </tr>\n",
       "    <tr>\n",
       "      <th>7</th>\n",
       "      <td>11</td>\n",
       "    </tr>\n",
       "    <tr>\n",
       "      <th>8</th>\n",
       "      <td>12</td>\n",
       "    </tr>\n",
       "    <tr>\n",
       "      <th>9</th>\n",
       "      <td>15</td>\n",
       "    </tr>\n",
       "    <tr>\n",
       "      <th>10</th>\n",
       "      <td>16</td>\n",
       "    </tr>\n",
       "    <tr>\n",
       "      <th>11</th>\n",
       "      <td>17</td>\n",
       "    </tr>\n",
       "    <tr>\n",
       "      <th>12</th>\n",
       "      <td>19</td>\n",
       "    </tr>\n",
       "    <tr>\n",
       "      <th>13</th>\n",
       "      <td>21</td>\n",
       "    </tr>\n",
       "    <tr>\n",
       "      <th>14</th>\n",
       "      <td>29</td>\n",
       "    </tr>\n",
       "  </tbody>\n",
       "</table>\n",
       "</div>"
      ],
      "text/plain": [
       "    count\n",
       "0       1\n",
       "1       3\n",
       "2       5\n",
       "3       7\n",
       "4       8\n",
       "5       9\n",
       "6      10\n",
       "7      11\n",
       "8      12\n",
       "9      15\n",
       "10     16\n",
       "11     17\n",
       "12     19\n",
       "13     21\n",
       "14     29"
      ]
     },
     "execution_count": 10,
     "metadata": {},
     "output_type": "execute_result"
    }
   ],
   "source": [
    "query = '''\n",
    "SELECT \n",
    "      DISTINCT\n",
    "      COUNT(DISTINCT ps.user_id)\n",
    "FROM stackoverflow.users AS us\n",
    "JOIN stackoverflow.posts AS ps ON us.id = ps.user_id\n",
    "JOIN stackoverflow.post_types AS pst ON pst.id = ps.post_type_id\n",
    "WHERE pst.type = 'Answer'\n",
    "AND (ps.creation_date::date BETWEEN us.creation_date::date AND (us.creation_date::date + INTERVAL '1 month'))\n",
    "GROUP BY us.display_name\n",
    "HAVING COUNT(ps.id)>100\n",
    "'''\n",
    "two = pd.read_sql_query(query, con=engine)\n",
    "two"
   ]
  },
  {
   "cell_type": "markdown",
   "metadata": {},
   "source": [
    "Запрос выводит для каждого имени кол-во уникальных идентификаторов, значит при регистрации нового пользователя он указывает уже существующее в базе имя и это разрешено - то есть имя пользователя не уникально и можно понять какие имена популярны, то есть это не один и тот же пользователь, а разные с одинаковыми именами\n"
   ]
  },
  {
   "cell_type": "markdown",
   "metadata": {
    "id": "JhM2xXj5DWKu"
   },
   "source": [
    "# Задание 3"
   ]
  },
  {
   "cell_type": "markdown",
   "metadata": {
    "id": "IS6xPqyyDWKu"
   },
   "source": [
    "Выведите количество постов за 2008 год по месяцам. Отберите посты от пользователей, которые зарегистрировались в сентябре 2008 года и сделали хотя бы один пост в декабре того же года. Отсортируйте таблицу по значению месяца по убыванию."
   ]
  },
  {
   "cell_type": "markdown",
   "metadata": {
    "id": "WmjhjV2xDWKv"
   },
   "source": [
    "| month | count |\n",
    "| ------|------ |\n",
    "| 2008-12-01 | 17641 |\n",
    "| 2008-11-01 | 18294 |\n",
    "| ... | ... |"
   ]
  },
  {
   "cell_type": "code",
   "execution_count": 11,
   "metadata": {},
   "outputs": [
    {
     "data": {
      "text/html": [
       "<div>\n",
       "<style scoped>\n",
       "    .dataframe tbody tr th:only-of-type {\n",
       "        vertical-align: middle;\n",
       "    }\n",
       "\n",
       "    .dataframe tbody tr th {\n",
       "        vertical-align: top;\n",
       "    }\n",
       "\n",
       "    .dataframe thead th {\n",
       "        text-align: right;\n",
       "    }\n",
       "</style>\n",
       "<table border=\"1\" class=\"dataframe\">\n",
       "  <thead>\n",
       "    <tr style=\"text-align: right;\">\n",
       "      <th></th>\n",
       "      <th>month</th>\n",
       "      <th>count</th>\n",
       "    </tr>\n",
       "  </thead>\n",
       "  <tbody>\n",
       "    <tr>\n",
       "      <th>0</th>\n",
       "      <td>2008-12-01</td>\n",
       "      <td>17641</td>\n",
       "    </tr>\n",
       "    <tr>\n",
       "      <th>1</th>\n",
       "      <td>2008-11-01</td>\n",
       "      <td>18294</td>\n",
       "    </tr>\n",
       "    <tr>\n",
       "      <th>2</th>\n",
       "      <td>2008-10-01</td>\n",
       "      <td>27171</td>\n",
       "    </tr>\n",
       "    <tr>\n",
       "      <th>3</th>\n",
       "      <td>2008-09-01</td>\n",
       "      <td>24870</td>\n",
       "    </tr>\n",
       "    <tr>\n",
       "      <th>4</th>\n",
       "      <td>2008-08-01</td>\n",
       "      <td>32</td>\n",
       "    </tr>\n",
       "  </tbody>\n",
       "</table>\n",
       "</div>"
      ],
      "text/plain": [
       "        month  count\n",
       "0  2008-12-01  17641\n",
       "1  2008-11-01  18294\n",
       "2  2008-10-01  27171\n",
       "3  2008-09-01  24870\n",
       "4  2008-08-01     32"
      ]
     },
     "execution_count": 11,
     "metadata": {},
     "output_type": "execute_result"
    }
   ],
   "source": [
    "query = '''\n",
    "WITH n AS\n",
    "(SELECT                     \n",
    "       ps.user_id \n",
    "FROM stackoverflow.users AS us\n",
    "JOIN stackoverflow.posts AS ps ON us.id = ps.user_id\n",
    "WHERE DATE_TRUNC('month', us.creation_date)::date = '2008-09-01'\n",
    "AND DATE_TRUNC('month', ps.creation_date)::date =  '2008-12-01')\n",
    "\n",
    "SELECT DATE_TRUNC('month', ps.creation_date)::date AS month,\n",
    "       COUNT(ps.id)       \n",
    "       FROM stackoverflow.posts AS ps\n",
    "       WHERE ps.user_id IN (SELECT *\n",
    "                            FROM n)\n",
    "       AND DATE_TRUNC('year', ps.creation_date)::date = '2008-01-01'\n",
    "       GROUP BY DATE_TRUNC('month', ps.creation_date)::date\n",
    "       ORDER BY DATE_TRUNC('month', ps.creation_date)::date DESC;                      \n",
    "'''\n",
    "three = pd.read_sql_query(query, con=engine)\n",
    "three"
   ]
  },
  {
   "cell_type": "markdown",
   "metadata": {
    "id": "Vnxn9DVHDWKx"
   },
   "source": [
    "Изучите данные: есть ли в них аномалии? Предположите, почему могли появиться аномальные значения."
   ]
  },
  {
   "cell_type": "markdown",
   "metadata": {},
   "source": [
    "В полученных данных есть аномалия: одним из условий отбора была регистрация пользователей  в сентябре 2008 года. Вместе с тем, группировка по дате размещения такими пользователями постов показала, что 32 поста опубликованы в августе 2008 года, т.е. на месяц раньше их регистрации. Выберем данные об этих пользователях."
   ]
  },
  {
   "cell_type": "code",
   "execution_count": 12,
   "metadata": {},
   "outputs": [
    {
     "data": {
      "text/html": [
       "<div>\n",
       "<style scoped>\n",
       "    .dataframe tbody tr th:only-of-type {\n",
       "        vertical-align: middle;\n",
       "    }\n",
       "\n",
       "    .dataframe tbody tr th {\n",
       "        vertical-align: top;\n",
       "    }\n",
       "\n",
       "    .dataframe thead th {\n",
       "        text-align: right;\n",
       "    }\n",
       "</style>\n",
       "<table border=\"1\" class=\"dataframe\">\n",
       "  <thead>\n",
       "    <tr style=\"text-align: right;\">\n",
       "      <th></th>\n",
       "      <th>user_id</th>\n",
       "      <th>month_creation_date</th>\n",
       "    </tr>\n",
       "  </thead>\n",
       "  <tbody>\n",
       "    <tr>\n",
       "      <th>0</th>\n",
       "      <td>4381</td>\n",
       "      <td>2008-08-01</td>\n",
       "    </tr>\n",
       "    <tr>\n",
       "      <th>1</th>\n",
       "      <td>31505</td>\n",
       "      <td>2008-08-01</td>\n",
       "    </tr>\n",
       "  </tbody>\n",
       "</table>\n",
       "</div>"
      ],
      "text/plain": [
       "   user_id month_creation_date\n",
       "0     4381          2008-08-01\n",
       "1    31505          2008-08-01"
      ]
     },
     "execution_count": 12,
     "metadata": {},
     "output_type": "execute_result"
    }
   ],
   "source": [
    "query = '''\n",
    "WITH n AS\n",
    "(SELECT                   \n",
    "       ps.user_id      \n",
    "FROM stackoverflow.users AS us\n",
    "JOIN stackoverflow.posts AS ps ON us.id = ps.user_id\n",
    "WHERE DATE_TRUNC('month', us.creation_date)::date = '2008-09-01'\n",
    "AND DATE_TRUNC('month', ps.creation_date)::date =  '2008-12-01')\n",
    "\n",
    "SELECT DISTINCT ps.user_id,\n",
    "      DATE_TRUNC('month', ps.creation_date)::date AS month_creation_date\n",
    "      FROM stackoverflow.posts AS ps\n",
    "      WHERE ps.user_id IN (SELECT *\n",
    "                            FROM n)\n",
    "      AND DATE_TRUNC('month', ps.creation_date)::date = '2008-08-01'\n",
    "                           \n",
    "'''\n",
    "three = pd.read_sql_query(query, con=engine)\n",
    "three"
   ]
  },
  {
   "cell_type": "markdown",
   "metadata": {},
   "source": [
    "Таких пользователей в нашем срезе данных 2.\n",
    "    \n",
    "    \n",
    "Как говорит история создания сайта StackOverflow, самая первая версия его была запущена в начале августа 2008 года и в течение 1.5 мес. проходила тестирование, после чего сайт был доукомплектован оборудованием. Вполне возможно, что на этом этапе произошло обновление накопленной базы данных в связи с чем дата регистрации части пользователей также обновилась в более позднюю сторону.\n",
    "</div>      "
   ]
  },
  {
   "cell_type": "markdown",
   "metadata": {
    "id": "5Pcizm0DDWKz"
   },
   "source": [
    "# Задание 4"
   ]
  },
  {
   "cell_type": "markdown",
   "metadata": {
    "id": "KUZPF6vHDWKz"
   },
   "source": [
    "Используя данные о постах, выведите несколько полей:\n",
    "\n",
    "- идентификатор пользователя, который написал пост;\n",
    "- дата создания поста;\n",
    "- количество просмотров у текущего поста;\n",
    "- сумму просмотров постов автора с накоплением.\n",
    "\n",
    "Данные в таблице должны быть отсортированы по возрастанию идентификаторов пользователей, а данные об одном и том же пользователе — по возрастанию даты создания поста."
   ]
  },
  {
   "cell_type": "markdown",
   "metadata": {
    "id": "ZpsTUVDYDWK0"
   },
   "source": [
    "| user_id | creation_date | views_count | cumulative_count |\n",
    "| ------ | -------------- | ----------- | ---------------- |\n",
    "| 1 | 2008-07-31 23:41:00  | 480476   | 480476  |\n",
    "| 1 | 2008-07-31 23:55:38  | 136033 | 616509  | \n",
    "| 1 | 2008-07-31 23:56:41  | 0 |  616509  |\n",
    "| ... | ... | ... | ... |\n",
    "| 2 | 2008-07-31 23:56:41 | 79087  | 79087 |\n",
    "| 2 | 2008-08-01 05:09:56 | 65443 | 144530 |\n",
    "| ... | ...  | ...  | ...  |"
   ]
  },
  {
   "cell_type": "code",
   "execution_count": 13,
   "metadata": {
    "id": "hDoJhMzfDWK0"
   },
   "outputs": [
    {
     "data": {
      "text/html": [
       "<div>\n",
       "<style scoped>\n",
       "    .dataframe tbody tr th:only-of-type {\n",
       "        vertical-align: middle;\n",
       "    }\n",
       "\n",
       "    .dataframe tbody tr th {\n",
       "        vertical-align: top;\n",
       "    }\n",
       "\n",
       "    .dataframe thead th {\n",
       "        text-align: right;\n",
       "    }\n",
       "</style>\n",
       "<table border=\"1\" class=\"dataframe\">\n",
       "  <thead>\n",
       "    <tr style=\"text-align: right;\">\n",
       "      <th></th>\n",
       "      <th>user_id</th>\n",
       "      <th>creation_date</th>\n",
       "      <th>views_count</th>\n",
       "      <th>cumulative_count</th>\n",
       "    </tr>\n",
       "  </thead>\n",
       "  <tbody>\n",
       "    <tr>\n",
       "      <th>0</th>\n",
       "      <td>1</td>\n",
       "      <td>2008-07-31 23:41:00</td>\n",
       "      <td>480476</td>\n",
       "      <td>480476</td>\n",
       "    </tr>\n",
       "    <tr>\n",
       "      <th>1</th>\n",
       "      <td>1</td>\n",
       "      <td>2008-07-31 23:55:38</td>\n",
       "      <td>136033</td>\n",
       "      <td>616509</td>\n",
       "    </tr>\n",
       "    <tr>\n",
       "      <th>2</th>\n",
       "      <td>1</td>\n",
       "      <td>2008-07-31 23:56:41</td>\n",
       "      <td>0</td>\n",
       "      <td>616509</td>\n",
       "    </tr>\n",
       "    <tr>\n",
       "      <th>3</th>\n",
       "      <td>1</td>\n",
       "      <td>2008-08-04 02:45:08</td>\n",
       "      <td>0</td>\n",
       "      <td>616509</td>\n",
       "    </tr>\n",
       "    <tr>\n",
       "      <th>4</th>\n",
       "      <td>1</td>\n",
       "      <td>2008-08-04 04:31:03</td>\n",
       "      <td>0</td>\n",
       "      <td>616509</td>\n",
       "    </tr>\n",
       "  </tbody>\n",
       "</table>\n",
       "</div>"
      ],
      "text/plain": [
       "   user_id       creation_date  views_count  cumulative_count\n",
       "0        1 2008-07-31 23:41:00       480476            480476\n",
       "1        1 2008-07-31 23:55:38       136033            616509\n",
       "2        1 2008-07-31 23:56:41            0            616509\n",
       "3        1 2008-08-04 02:45:08            0            616509\n",
       "4        1 2008-08-04 04:31:03            0            616509"
      ]
     },
     "execution_count": 13,
     "metadata": {},
     "output_type": "execute_result"
    }
   ],
   "source": [
    "query = '''\n",
    "SELECT  user_id,\n",
    "       creation_date,\n",
    "       views_count,\n",
    "       SUM(views_count) OVER (PARTITION BY user_id ORDER BY creation_date) AS cumulative_count\n",
    "  \n",
    "FROM stackoverflow.posts\n",
    "\n",
    "'''\n",
    "four = pd.read_sql_query(query, con=engine)\n",
    "four.head()"
   ]
  },
  {
   "cell_type": "markdown",
   "metadata": {
    "id": "N0kHRHvIDWK2"
   },
   "source": [
    "# Задание 5"
   ]
  },
  {
   "cell_type": "markdown",
   "metadata": {
    "id": "gBgvmPtODWK2"
   },
   "source": [
    "Найдите среднее количество постов пользователей в день за август 2008 года. Отберите данные о пользователях, которые опубликовали больше 120 постов за август. Дни без публикаций не учитывайте. \n",
    "\n",
    "Отсортируйте результат по возрастанию среднего количества постов. Значения можно не округлять."
   ]
  },
  {
   "cell_type": "markdown",
   "metadata": {
    "id": "nfzR08BODWK3"
   },
   "source": [
    "| user_id | avg_daily |\n",
    "| ------- | --------- |\n",
    "| 116     | 4.777778  |\n",
    "| 234     | 5.208333  |\n",
    "| ...     | ... |"
   ]
  },
  {
   "cell_type": "code",
   "execution_count": 14,
   "metadata": {},
   "outputs": [
    {
     "data": {
      "text/html": [
       "<div>\n",
       "<style scoped>\n",
       "    .dataframe tbody tr th:only-of-type {\n",
       "        vertical-align: middle;\n",
       "    }\n",
       "\n",
       "    .dataframe tbody tr th {\n",
       "        vertical-align: top;\n",
       "    }\n",
       "\n",
       "    .dataframe thead th {\n",
       "        text-align: right;\n",
       "    }\n",
       "</style>\n",
       "<table border=\"1\" class=\"dataframe\">\n",
       "  <thead>\n",
       "    <tr style=\"text-align: right;\">\n",
       "      <th></th>\n",
       "      <th>user_id</th>\n",
       "      <th>avg_daily</th>\n",
       "    </tr>\n",
       "  </thead>\n",
       "  <tbody>\n",
       "    <tr>\n",
       "      <th>0</th>\n",
       "      <td>116</td>\n",
       "      <td>4.777778</td>\n",
       "    </tr>\n",
       "    <tr>\n",
       "      <th>1</th>\n",
       "      <td>234</td>\n",
       "      <td>5.208333</td>\n",
       "    </tr>\n",
       "    <tr>\n",
       "      <th>2</th>\n",
       "      <td>91</td>\n",
       "      <td>5.681818</td>\n",
       "    </tr>\n",
       "    <tr>\n",
       "      <th>3</th>\n",
       "      <td>905</td>\n",
       "      <td>7.000000</td>\n",
       "    </tr>\n",
       "    <tr>\n",
       "      <th>4</th>\n",
       "      <td>383</td>\n",
       "      <td>7.277778</td>\n",
       "    </tr>\n",
       "  </tbody>\n",
       "</table>\n",
       "</div>"
      ],
      "text/plain": [
       "   user_id  avg_daily\n",
       "0      116   4.777778\n",
       "1      234   5.208333\n",
       "2       91   5.681818\n",
       "3      905   7.000000\n",
       "4      383   7.277778"
      ]
     },
     "execution_count": 14,
     "metadata": {},
     "output_type": "execute_result"
    }
   ],
   "source": [
    "query = '''\n",
    "WITH nn AS\n",
    "(WITH n AS\n",
    "(SELECT user_id\n",
    "FROM stackoverflow.posts AS ps\n",
    "WHERE DATE_TRUNC('month', creation_date::date) = '2008-08-01'\n",
    "GROUP BY user_id\n",
    "HAVING COUNT(id)>120)\n",
    "\n",
    "SELECT user_id,\n",
    "       COUNT(id),\n",
    "       creation_date::date\n",
    "FROM stackoverflow.posts AS ps\n",
    "WHERE user_id IN (SELECT*\n",
    "                  FROM n)\n",
    "AND DATE_TRUNC('month', creation_date::date) = '2008-08-01'\n",
    "GROUP BY  user_id,\n",
    "        creation_date::date)\n",
    "SELECT DISTINCT user_id,\n",
    "         AVG(count) OVER (PARTITION BY user_id) AS avg_daily\n",
    "FROM nn\n",
    "ORDER BY avg_daily\n",
    "'''\n",
    "five = pd.read_sql_query(query, con=engine)\n",
    "five"
   ]
  },
  {
   "cell_type": "markdown",
   "metadata": {
    "id": "EQ0dcFH4DWK5"
   },
   "source": [
    "# Задание 6"
   ]
  },
  {
   "cell_type": "markdown",
   "metadata": {
    "id": "c7flfg_hDWK5"
   },
   "source": [
    "Сколько в среднем дней в период с 1 по 7 декабря 2008 года пользователи взаимодействовали с платформой? Для каждого пользователя отберите дни, в которые он или она опубликовали хотя бы один пост. Нужно получить одно целое число — не забудьте округлить результат. "
   ]
  },
  {
   "cell_type": "markdown",
   "metadata": {
    "id": "RC1Ibzm9DWK6"
   },
   "source": [
    "| result |\n",
    "| -----  |\n",
    "| <целое число> |"
   ]
  },
  {
   "cell_type": "code",
   "execution_count": 15,
   "metadata": {},
   "outputs": [
    {
     "data": {
      "text/html": [
       "<div>\n",
       "<style scoped>\n",
       "    .dataframe tbody tr th:only-of-type {\n",
       "        vertical-align: middle;\n",
       "    }\n",
       "\n",
       "    .dataframe tbody tr th {\n",
       "        vertical-align: top;\n",
       "    }\n",
       "\n",
       "    .dataframe thead th {\n",
       "        text-align: right;\n",
       "    }\n",
       "</style>\n",
       "<table border=\"1\" class=\"dataframe\">\n",
       "  <thead>\n",
       "    <tr style=\"text-align: right;\">\n",
       "      <th></th>\n",
       "      <th>result</th>\n",
       "    </tr>\n",
       "  </thead>\n",
       "  <tbody>\n",
       "    <tr>\n",
       "      <th>0</th>\n",
       "      <td>2.0</td>\n",
       "    </tr>\n",
       "  </tbody>\n",
       "</table>\n",
       "</div>"
      ],
      "text/plain": [
       "   result\n",
       "0     2.0"
      ]
     },
     "execution_count": 15,
     "metadata": {},
     "output_type": "execute_result"
    }
   ],
   "source": [
    "query = '''\n",
    "WITH n AS\n",
    "(SELECT user_id,\n",
    "       COUNT (DISTINCT creation_date::date) AS count_days \n",
    "FROM stackoverflow.posts\n",
    "WHERE creation_date::date BETWEEN '2008-12-01' AND '2008-12-07'\n",
    "GROUP BY user_id\n",
    "ORDER BY user_id)\n",
    "SELECT ROUND(AVG (count_days)) AS result\n",
    "FROM n\n",
    "'''\n",
    "six = pd.read_sql_query(query, con=engine)\n",
    "six"
   ]
  },
  {
   "cell_type": "markdown",
   "metadata": {
    "id": "UJFtNNggDWK7"
   },
   "source": [
    "Проанализируйте итоговую таблицу — какие выводы можно сделать?"
   ]
  },
  {
   "cell_type": "markdown",
   "metadata": {
    "id": "LfUuYz-1DWK8"
   },
   "source": [
    " В первую неделю декабря 2008 года (с 1 по 7 декабря) пользователи сайта StackOverflow  взаимодействовали с указанной платформой в среднем 2 дня,  в каждый из  которых опубликовали как минимум один пост.\n",
    "</div>      "
   ]
  },
  {
   "cell_type": "markdown",
   "metadata": {
    "id": "wfOmqmfLDWK8"
   },
   "source": [
    "# Задание 7"
   ]
  },
  {
   "cell_type": "markdown",
   "metadata": {
    "id": "X4ARQimADWK9"
   },
   "source": [
    "Выведите историю активности каждого пользователя в таком виде: идентификатор пользователя, дата публикации поста. Отсортируйте вывод по возрастанию идентификаторов пользователей, а для каждого пользователя — по возрастанию даты публикации.\n",
    "\n",
    "Добавьте в таблицу новое поле: для каждого поста в нём будет указано название месяца предпоследней публикации пользователя относительно текущей. Если такой публикации нет, укажите `NULL`.  Python автоматически поменяет `NULL` на `None`, но дополнительно преобразовывать значения `None` вам не нужно.\n",
    "\n",
    "Посмотрите внимательно на образец таблицы: для первых двух постов предпоследней публикации нет, но, начиная с третьего поста, в новое поле входит нужный месяц. Для следующего пользователя в первые две записи поля `second_last_month` тоже войдёт `NULL`."
   ]
  },
  {
   "cell_type": "markdown",
   "metadata": {
    "id": "IGPjRP01DWK9"
   },
   "source": [
    "| user_id | creation_date | second_last_month |\n",
    "| ------- | ------------- | ----------------- |\n",
    "| 1       | 2008-07-31 23:41:00 | None |\n",
    "| 1       | 2008-07-31 23:55:38 | None |\n",
    "| 1       | 2008-07-31 23:56:41 | July |\n",
    "| 1       | 2008-08-04 02:45:08 | July |\n",
    "| 1       | 2008-08-04 04:31:03 | July |\n",
    "| 1       | 2008-08-04 08:04:42 | August |\n",
    "| ... | ... | ... |"
   ]
  },
  {
   "cell_type": "code",
   "execution_count": 16,
   "metadata": {},
   "outputs": [
    {
     "data": {
      "text/html": [
       "<div>\n",
       "<style scoped>\n",
       "    .dataframe tbody tr th:only-of-type {\n",
       "        vertical-align: middle;\n",
       "    }\n",
       "\n",
       "    .dataframe tbody tr th {\n",
       "        vertical-align: top;\n",
       "    }\n",
       "\n",
       "    .dataframe thead th {\n",
       "        text-align: right;\n",
       "    }\n",
       "</style>\n",
       "<table border=\"1\" class=\"dataframe\">\n",
       "  <thead>\n",
       "    <tr style=\"text-align: right;\">\n",
       "      <th></th>\n",
       "      <th>user_id</th>\n",
       "      <th>creation_date</th>\n",
       "      <th>second_last_month</th>\n",
       "    </tr>\n",
       "  </thead>\n",
       "  <tbody>\n",
       "    <tr>\n",
       "      <th>0</th>\n",
       "      <td>1</td>\n",
       "      <td>2008-07-31 23:41:00</td>\n",
       "      <td>None</td>\n",
       "    </tr>\n",
       "    <tr>\n",
       "      <th>1</th>\n",
       "      <td>1</td>\n",
       "      <td>2008-07-31 23:55:38</td>\n",
       "      <td>None</td>\n",
       "    </tr>\n",
       "    <tr>\n",
       "      <th>2</th>\n",
       "      <td>1</td>\n",
       "      <td>2008-07-31 23:56:41</td>\n",
       "      <td>July</td>\n",
       "    </tr>\n",
       "    <tr>\n",
       "      <th>3</th>\n",
       "      <td>1</td>\n",
       "      <td>2008-08-04 02:45:08</td>\n",
       "      <td>July</td>\n",
       "    </tr>\n",
       "    <tr>\n",
       "      <th>4</th>\n",
       "      <td>1</td>\n",
       "      <td>2008-08-04 04:31:03</td>\n",
       "      <td>July</td>\n",
       "    </tr>\n",
       "    <tr>\n",
       "      <th>...</th>\n",
       "      <td>...</td>\n",
       "      <td>...</td>\n",
       "      <td>...</td>\n",
       "    </tr>\n",
       "    <tr>\n",
       "      <th>243791</th>\n",
       "      <td>5696608</td>\n",
       "      <td>2008-12-23 16:00:37</td>\n",
       "      <td>December</td>\n",
       "    </tr>\n",
       "    <tr>\n",
       "      <th>243792</th>\n",
       "      <td>5696608</td>\n",
       "      <td>2008-12-23 17:35:09</td>\n",
       "      <td>December</td>\n",
       "    </tr>\n",
       "    <tr>\n",
       "      <th>243793</th>\n",
       "      <td>5696608</td>\n",
       "      <td>2008-12-24 01:02:48</td>\n",
       "      <td>December</td>\n",
       "    </tr>\n",
       "    <tr>\n",
       "      <th>243794</th>\n",
       "      <td>5696608</td>\n",
       "      <td>2008-12-30 14:34:45</td>\n",
       "      <td>December</td>\n",
       "    </tr>\n",
       "    <tr>\n",
       "      <th>243795</th>\n",
       "      <td>5696608</td>\n",
       "      <td>2008-12-30 16:32:12</td>\n",
       "      <td>December</td>\n",
       "    </tr>\n",
       "  </tbody>\n",
       "</table>\n",
       "<p>243796 rows × 3 columns</p>\n",
       "</div>"
      ],
      "text/plain": [
       "        user_id       creation_date second_last_month\n",
       "0             1 2008-07-31 23:41:00              None\n",
       "1             1 2008-07-31 23:55:38              None\n",
       "2             1 2008-07-31 23:56:41              July\n",
       "3             1 2008-08-04 02:45:08              July\n",
       "4             1 2008-08-04 04:31:03              July\n",
       "...         ...                 ...               ...\n",
       "243791  5696608 2008-12-23 16:00:37          December\n",
       "243792  5696608 2008-12-23 17:35:09          December\n",
       "243793  5696608 2008-12-24 01:02:48          December\n",
       "243794  5696608 2008-12-30 14:34:45          December\n",
       "243795  5696608 2008-12-30 16:32:12          December\n",
       "\n",
       "[243796 rows x 3 columns]"
      ]
     },
     "execution_count": 16,
     "metadata": {},
     "output_type": "execute_result"
    }
   ],
   "source": [
    "query = '''\n",
    "WITH n AS\n",
    "(SELECT user_id,\n",
    "       creation_date,\n",
    "       EXTRACT('month' FROM(LAG(creation_date, 2, NULL)OVER (PARTITION BY user_id ORDER BY creation_date))) AS second_last_month\n",
    "FROM stackoverflow.posts)\n",
    "SELECT user_id,\n",
    "       creation_date,\n",
    "CASE\n",
    "   WHEN second_last_month = 7 THEN 'July'\n",
    "   WHEN second_last_month = 8 THEN 'August'\n",
    "   WHEN second_last_month = 9 THEN 'September'\n",
    "   WHEN second_last_month = 10 THEN 'October'\n",
    "   WHEN second_last_month = 11 THEN 'November'\n",
    "   WHEN second_last_month = 12 THEN 'December'\n",
    "END second_last_month\n",
    "FROM n\n",
    "'''\n",
    "seven = pd.read_sql_query(query, con=engine)\n",
    "seven"
   ]
  },
  {
   "cell_type": "markdown",
   "metadata": {},
   "source": [
    "Можно и так "
   ]
  },
  {
   "cell_type": "code",
   "execution_count": 17,
   "metadata": {},
   "outputs": [
    {
     "data": {
      "text/html": [
       "<div>\n",
       "<style scoped>\n",
       "    .dataframe tbody tr th:only-of-type {\n",
       "        vertical-align: middle;\n",
       "    }\n",
       "\n",
       "    .dataframe tbody tr th {\n",
       "        vertical-align: top;\n",
       "    }\n",
       "\n",
       "    .dataframe thead th {\n",
       "        text-align: right;\n",
       "    }\n",
       "</style>\n",
       "<table border=\"1\" class=\"dataframe\">\n",
       "  <thead>\n",
       "    <tr style=\"text-align: right;\">\n",
       "      <th></th>\n",
       "      <th>user_id</th>\n",
       "      <th>creation_date</th>\n",
       "      <th>second_last_month</th>\n",
       "    </tr>\n",
       "  </thead>\n",
       "  <tbody>\n",
       "    <tr>\n",
       "      <th>0</th>\n",
       "      <td>1</td>\n",
       "      <td>2008-07-31 23:41:00</td>\n",
       "      <td>None</td>\n",
       "    </tr>\n",
       "    <tr>\n",
       "      <th>1</th>\n",
       "      <td>1</td>\n",
       "      <td>2008-07-31 23:55:38</td>\n",
       "      <td>None</td>\n",
       "    </tr>\n",
       "    <tr>\n",
       "      <th>2</th>\n",
       "      <td>1</td>\n",
       "      <td>2008-07-31 23:56:41</td>\n",
       "      <td>July</td>\n",
       "    </tr>\n",
       "    <tr>\n",
       "      <th>3</th>\n",
       "      <td>1</td>\n",
       "      <td>2008-08-04 02:45:08</td>\n",
       "      <td>July</td>\n",
       "    </tr>\n",
       "    <tr>\n",
       "      <th>4</th>\n",
       "      <td>1</td>\n",
       "      <td>2008-08-04 04:31:03</td>\n",
       "      <td>July</td>\n",
       "    </tr>\n",
       "    <tr>\n",
       "      <th>...</th>\n",
       "      <td>...</td>\n",
       "      <td>...</td>\n",
       "      <td>...</td>\n",
       "    </tr>\n",
       "    <tr>\n",
       "      <th>243791</th>\n",
       "      <td>5696608</td>\n",
       "      <td>2008-12-23 16:00:37</td>\n",
       "      <td>December</td>\n",
       "    </tr>\n",
       "    <tr>\n",
       "      <th>243792</th>\n",
       "      <td>5696608</td>\n",
       "      <td>2008-12-23 17:35:09</td>\n",
       "      <td>December</td>\n",
       "    </tr>\n",
       "    <tr>\n",
       "      <th>243793</th>\n",
       "      <td>5696608</td>\n",
       "      <td>2008-12-24 01:02:48</td>\n",
       "      <td>December</td>\n",
       "    </tr>\n",
       "    <tr>\n",
       "      <th>243794</th>\n",
       "      <td>5696608</td>\n",
       "      <td>2008-12-30 14:34:45</td>\n",
       "      <td>December</td>\n",
       "    </tr>\n",
       "    <tr>\n",
       "      <th>243795</th>\n",
       "      <td>5696608</td>\n",
       "      <td>2008-12-30 16:32:12</td>\n",
       "      <td>December</td>\n",
       "    </tr>\n",
       "  </tbody>\n",
       "</table>\n",
       "<p>243796 rows × 3 columns</p>\n",
       "</div>"
      ],
      "text/plain": [
       "        user_id       creation_date second_last_month\n",
       "0             1 2008-07-31 23:41:00              None\n",
       "1             1 2008-07-31 23:55:38              None\n",
       "2             1 2008-07-31 23:56:41         July     \n",
       "3             1 2008-08-04 02:45:08         July     \n",
       "4             1 2008-08-04 04:31:03         July     \n",
       "...         ...                 ...               ...\n",
       "243791  5696608 2008-12-23 16:00:37         December \n",
       "243792  5696608 2008-12-23 17:35:09         December \n",
       "243793  5696608 2008-12-24 01:02:48         December \n",
       "243794  5696608 2008-12-30 14:34:45         December \n",
       "243795  5696608 2008-12-30 16:32:12         December \n",
       "\n",
       "[243796 rows x 3 columns]"
      ]
     },
     "execution_count": 17,
     "metadata": {},
     "output_type": "execute_result"
    }
   ],
   "source": [
    "query = '''\n",
    "WITH n AS\n",
    "(SELECT user_id,\n",
    "       creation_date,\n",
    "      TO_CHAR((DATE_TRUNC('month', LAG(creation_date, 2, NULL) OVER (PARTITION BY user_id ORDER BY creation_date))),'Month')\n",
    "      AS second_last_month \n",
    "FROM stackoverflow.posts)\n",
    "SELECT user_id,\n",
    "       creation_date,\n",
    "       second_last_month\n",
    "       \n",
    "FROM n\n",
    "'''\n",
    "seven = pd.read_sql_query(query, con=engine)\n",
    "seven"
   ]
  },
  {
   "cell_type": "markdown",
   "metadata": {
    "id": "tf9qq2yzDWK_"
   },
   "source": [
    "# Задание 8"
   ]
  },
  {
   "cell_type": "markdown",
   "metadata": {
    "id": "gfwLVXBYDWLA"
   },
   "source": [
    "Рассчитайте аналог Retention Rate по месяцам для пользователей StackOverflow. Объедините пользователей в когорты по месяцу их первого поста. Возвращение определяйте по наличию поста в текущем месяце. "
   ]
  },
  {
   "cell_type": "markdown",
   "metadata": {
    "id": "kN2ic39WlKpl"
   },
   "source": [
    "| cohort_dt | session_date | users_cnt | cohort_users_cnt | retention_rate |\n",
    "| --- | --- | --- | --- | --- |\n",
    "| 2008-07-01 00:00:00 | 2008-07-01 00:00:00 | 3 | 3 | 100 |\n",
    "| 2008-07-01 00:00:00 | 2008-08-01 00:00:00 | 2 | 3 | 66,67 |\n",
    "| 2008-07-01 00:00:00 | 2008-09-01 00:00:00 | 1 | 3 | 33,33 |\n",
    "| 2008-07-01 00:00:00 | 2008-10-01 00:00:00 | 2 | 3 | 66,67 |\n",
    "| 2008-07-01 00:00:00 | 2008-11-01 00:00:00 | 1 | 3 | 33,33 |\n",
    "| 2008-07-01 00:00:00 | 2008-12-01 00:00:00 | 2 | 3 | 66,67 |\n",
    "| 2008-08-01 00:00:00 | 2008-08-01 00:00:00 | 2151 | 2151 | 100 |\n",
    "| ... | ... | ... | ... | ... |"
   ]
  },
  {
   "cell_type": "code",
   "execution_count": 18,
   "metadata": {},
   "outputs": [
    {
     "data": {
      "text/html": [
       "<div>\n",
       "<style scoped>\n",
       "    .dataframe tbody tr th:only-of-type {\n",
       "        vertical-align: middle;\n",
       "    }\n",
       "\n",
       "    .dataframe tbody tr th {\n",
       "        vertical-align: top;\n",
       "    }\n",
       "\n",
       "    .dataframe thead th {\n",
       "        text-align: right;\n",
       "    }\n",
       "</style>\n",
       "<table border=\"1\" class=\"dataframe\">\n",
       "  <thead>\n",
       "    <tr style=\"text-align: right;\">\n",
       "      <th></th>\n",
       "      <th>cohort_dt</th>\n",
       "      <th>session_date</th>\n",
       "      <th>users_cnt</th>\n",
       "      <th>cohort_users_cnt</th>\n",
       "      <th>retention_rate</th>\n",
       "    </tr>\n",
       "  </thead>\n",
       "  <tbody>\n",
       "    <tr>\n",
       "      <th>0</th>\n",
       "      <td>2008-07-01</td>\n",
       "      <td>2008-07-01</td>\n",
       "      <td>3</td>\n",
       "      <td>3</td>\n",
       "      <td>100.00</td>\n",
       "    </tr>\n",
       "    <tr>\n",
       "      <th>1</th>\n",
       "      <td>2008-07-01</td>\n",
       "      <td>2008-08-01</td>\n",
       "      <td>2</td>\n",
       "      <td>3</td>\n",
       "      <td>66.67</td>\n",
       "    </tr>\n",
       "    <tr>\n",
       "      <th>2</th>\n",
       "      <td>2008-07-01</td>\n",
       "      <td>2008-09-01</td>\n",
       "      <td>1</td>\n",
       "      <td>3</td>\n",
       "      <td>33.33</td>\n",
       "    </tr>\n",
       "    <tr>\n",
       "      <th>3</th>\n",
       "      <td>2008-07-01</td>\n",
       "      <td>2008-10-01</td>\n",
       "      <td>2</td>\n",
       "      <td>3</td>\n",
       "      <td>66.67</td>\n",
       "    </tr>\n",
       "    <tr>\n",
       "      <th>4</th>\n",
       "      <td>2008-07-01</td>\n",
       "      <td>2008-11-01</td>\n",
       "      <td>1</td>\n",
       "      <td>3</td>\n",
       "      <td>33.33</td>\n",
       "    </tr>\n",
       "    <tr>\n",
       "      <th>5</th>\n",
       "      <td>2008-07-01</td>\n",
       "      <td>2008-12-01</td>\n",
       "      <td>2</td>\n",
       "      <td>3</td>\n",
       "      <td>66.67</td>\n",
       "    </tr>\n",
       "    <tr>\n",
       "      <th>6</th>\n",
       "      <td>2008-08-01</td>\n",
       "      <td>2008-08-01</td>\n",
       "      <td>2151</td>\n",
       "      <td>2151</td>\n",
       "      <td>100.00</td>\n",
       "    </tr>\n",
       "  </tbody>\n",
       "</table>\n",
       "</div>"
      ],
      "text/plain": [
       "   cohort_dt session_date  users_cnt  cohort_users_cnt  retention_rate\n",
       "0 2008-07-01   2008-07-01          3                 3          100.00\n",
       "1 2008-07-01   2008-08-01          2                 3           66.67\n",
       "2 2008-07-01   2008-09-01          1                 3           33.33\n",
       "3 2008-07-01   2008-10-01          2                 3           66.67\n",
       "4 2008-07-01   2008-11-01          1                 3           33.33\n",
       "5 2008-07-01   2008-12-01          2                 3           66.67\n",
       "6 2008-08-01   2008-08-01       2151              2151          100.00"
      ]
     },
     "execution_count": 18,
     "metadata": {},
     "output_type": "execute_result"
    }
   ],
   "source": [
    "query = '''\n",
    "WITH profile AS\n",
    "(SELECT  user_id,\n",
    "         cohort_dt,\n",
    "        COUNT(*)OVER (PARTITION BY cohort_dt) AS cohort_users_cnt\n",
    "FROM\n",
    "(WITH orders AS  \n",
    "  (SELECT user_id,\n",
    "        DATE_TRUNC('month', creation_date) AS cohort_dt,\n",
    "        ROW_NUMBER() OVER (PARTITION BY user_id ORDER BY DATE_TRUNC('month', creation_date))AS rn \n",
    "FROM stackoverflow.posts)\n",
    "SELECT * \n",
    "FROM orders\n",
    "WHERE rn = 1) as my) ,\n",
    "sessions AS\n",
    "(SELECT user_id,\n",
    "        DATE_TRUNC('month', creation_date) AS session_date \n",
    "FROM stackoverflow.posts\n",
    "GROUP BY 1,\n",
    "         2)\n",
    " SELECT p.cohort_dt,\n",
    "        session_date,\n",
    "        COUNT(p.user_id) AS users_cnt,\n",
    "        cohort_users_cnt,\n",
    "        ROUND(COUNT(p.user_id) * 100.0 / cohort_users_cnt, 2) AS retention_rate\n",
    " FROM profile p\n",
    "JOIN sessions s ON p.user_id = s.user_id\n",
    "GROUP BY 1,\n",
    "         2,\n",
    "         4\n",
    "ORDER BY p.cohort_dt,\n",
    "         session_date\n",
    "'''\n",
    "eight = pd.read_sql_query(query, con=engine)\n",
    "eight.head(7)"
   ]
  },
  {
   "cell_type": "markdown",
   "metadata": {
    "id": "_msBtnb2DWLC"
   },
   "source": [
    "Постройте тепловую карту Retention Rate. Какие аномалии или другие необычные явления удалось выявить? Сформулируйте гипотезы о возможных причинах."
   ]
  },
  {
   "cell_type": "code",
   "execution_count": 19,
   "metadata": {},
   "outputs": [
    {
     "data": {
      "image/png": "[encoded data removed]",
      "text/plain": [
       "<Figure size 576x576 with 2 Axes>"
      ]
     },
     "metadata": {
      "needs_background": "light"
     },
     "output_type": "display_data"
    }
   ],
   "source": [
    "retention = eight.pivot('cohort_dt', 'session_date', 'retention_rate')\n",
    "retention.index = [str(x)[0:10] for x in retention.index]\n",
    "retention.columns = [str(x)[0:10] for x in retention.columns]\n",
    "\n",
    "plt.figure(figsize=(8, 8)) \n",
    "sns.heatmap(retention, \n",
    "            annot=True, \n",
    "            fmt='') \n",
    "plt.title('Коэффициент удержания пользователей') \n",
    "plt.show()"
   ]
  },
  {
   "cell_type": "markdown",
   "metadata": {},
   "source": [
    " В когортах, сформированных в августе и последующие месяцы коэффициент удержания логично  со 100 % в месяц создания постепенно снижается в последующие месяцы, что вполне объяснимо тем, что заинтересованность части пользователей в сайте может постепенно снижаться и по истечении некоторого времени они вовсе перестают его посещать. \n",
    "    \n",
    "Для пользователей, впервые разместивших пост в июле 2008 года, начиная с августа коэффициент удержания \"скачет\" через месяц от 66 % до 33 %. В абсолютных значениях - это с 3 до 2 пользователей.\n",
    "    \n",
    "Как уже пояснялось ранее (к задаче 3) период начала опытной эксплуатации сайта StackOverflow -начало августа 2008 года. Вполне возможно что это первые пользователи из команды разработчиков сайта, тестировавшие  работу сайта на своих данных, которые так и остались в базе.\n",
    "    \n",
    "Проверим эту гипотезу, отобрав имена пользователей по уже известному месяцу образования когорты - июль 2008 года.\n",
    "</div>      "
   ]
  },
  {
   "cell_type": "code",
   "execution_count": 20,
   "metadata": {},
   "outputs": [
    {
     "data": {
      "text/html": [
       "<div>\n",
       "<style scoped>\n",
       "    .dataframe tbody tr th:only-of-type {\n",
       "        vertical-align: middle;\n",
       "    }\n",
       "\n",
       "    .dataframe tbody tr th {\n",
       "        vertical-align: top;\n",
       "    }\n",
       "\n",
       "    .dataframe thead th {\n",
       "        text-align: right;\n",
       "    }\n",
       "</style>\n",
       "<table border=\"1\" class=\"dataframe\">\n",
       "  <thead>\n",
       "    <tr style=\"text-align: right;\">\n",
       "      <th></th>\n",
       "      <th>display_name</th>\n",
       "      <th>cohort_dt</th>\n",
       "    </tr>\n",
       "  </thead>\n",
       "  <tbody>\n",
       "    <tr>\n",
       "      <th>0</th>\n",
       "      <td>Eggs McLaren</td>\n",
       "      <td>2008-07-01</td>\n",
       "    </tr>\n",
       "    <tr>\n",
       "      <th>1</th>\n",
       "      <td>Jeff Atwood</td>\n",
       "      <td>2008-07-01</td>\n",
       "    </tr>\n",
       "    <tr>\n",
       "      <th>2</th>\n",
       "      <td>Kevin Dente</td>\n",
       "      <td>2008-07-01</td>\n",
       "    </tr>\n",
       "  </tbody>\n",
       "</table>\n",
       "</div>"
      ],
      "text/plain": [
       "   display_name   cohort_dt\n",
       "0  Eggs McLaren  2008-07-01\n",
       "1   Jeff Atwood  2008-07-01\n",
       "2   Kevin Dente  2008-07-01"
      ]
     },
     "execution_count": 20,
     "metadata": {},
     "output_type": "execute_result"
    }
   ],
   "source": [
    "query = '''\n",
    "SELECT DISTINCT us.display_name,\n",
    "       DATE_TRUNC('month', ps.creation_date)::date AS cohort_dt\n",
    "FROM stackoverflow.users AS us\n",
    "JOIN stackoverflow.posts AS ps ON us.id = ps.user_id\n",
    "WHERE DATE_TRUNC('month', ps.creation_date)::date  = '2008-07-01'\n",
    "'''\n",
    "eight = pd.read_sql_query(query, con=engine)\n",
    "eight               "
   ]
  },
  {
   "cell_type": "markdown",
   "metadata": {},
   "source": [
    " Похоже, что все так и есть, в первой когорте Jeff Atwood - один из основателей  StackOverflow.\n",
    "</div>    "
   ]
  },
  {
   "cell_type": "markdown",
   "metadata": {
    "id": "1k7oPWt5DWLK"
   },
   "source": [
    "# Задание 9\n"
   ]
  },
  {
   "cell_type": "markdown",
   "metadata": {
    "id": "ALsYVSyRDWLM"
   },
   "source": [
    "На сколько процентов менялось количество постов ежемесячно с 1 сентября по 31 декабря 2008 года? Отобразите таблицу со следующими полями:\n",
    "\n",
    "- номер месяца;\n",
    "- количество постов за месяц;\n",
    "- процент, который показывает, насколько изменилось количество постов в текущем месяце по сравнению с предыдущим.\n",
    "\n",
    "Если постов стало меньше, значение процента должно быть отрицательным, если больше — положительным. Округлите значение процента до двух знаков после запятой.\n",
    "\n",
    "Напомним, что при делении одного целого числа на другое в PostgreSQL в результате получится целое число, округлённое до ближайшего целого вниз. Чтобы этого избежать, переведите делимое в тип `numeric`."
   ]
  },
  {
   "cell_type": "markdown",
   "metadata": {
    "id": "u4E2zF8DDWLM"
   },
   "source": [
    "| creation_month | posts_count | percentage |\n",
    "| -------------- | ----------- | ---------- |\n",
    "| 9 | 70731 | Nan |\n",
    "| 10 | 63102 | -10.33 |\n",
    "| ... | ... | ... |"
   ]
  },
  {
   "cell_type": "code",
   "execution_count": 21,
   "metadata": {},
   "outputs": [
    {
     "data": {
      "text/html": [
       "<div>\n",
       "<style scoped>\n",
       "    .dataframe tbody tr th:only-of-type {\n",
       "        vertical-align: middle;\n",
       "    }\n",
       "\n",
       "    .dataframe tbody tr th {\n",
       "        vertical-align: top;\n",
       "    }\n",
       "\n",
       "    .dataframe thead th {\n",
       "        text-align: right;\n",
       "    }\n",
       "</style>\n",
       "<table border=\"1\" class=\"dataframe\">\n",
       "  <thead>\n",
       "    <tr style=\"text-align: right;\">\n",
       "      <th></th>\n",
       "      <th>creation_month</th>\n",
       "      <th>posts_count</th>\n",
       "      <th>percentage</th>\n",
       "    </tr>\n",
       "  </thead>\n",
       "  <tbody>\n",
       "    <tr>\n",
       "      <th>0</th>\n",
       "      <td>9.0</td>\n",
       "      <td>70371</td>\n",
       "      <td>NaN</td>\n",
       "    </tr>\n",
       "    <tr>\n",
       "      <th>1</th>\n",
       "      <td>10.0</td>\n",
       "      <td>63102</td>\n",
       "      <td>-10.33</td>\n",
       "    </tr>\n",
       "    <tr>\n",
       "      <th>2</th>\n",
       "      <td>11.0</td>\n",
       "      <td>46975</td>\n",
       "      <td>-25.56</td>\n",
       "    </tr>\n",
       "    <tr>\n",
       "      <th>3</th>\n",
       "      <td>12.0</td>\n",
       "      <td>44592</td>\n",
       "      <td>-5.07</td>\n",
       "    </tr>\n",
       "  </tbody>\n",
       "</table>\n",
       "</div>"
      ],
      "text/plain": [
       "   creation_month  posts_count  percentage\n",
       "0             9.0        70371         NaN\n",
       "1            10.0        63102      -10.33\n",
       "2            11.0        46975      -25.56\n",
       "3            12.0        44592       -5.07"
      ]
     },
     "execution_count": 21,
     "metadata": {},
     "output_type": "execute_result"
    }
   ],
   "source": [
    "query = '''\n",
    "WITH month_post AS (SELECT EXTRACT(MONTH from creation_date::date) AS creation_month,\n",
    "                    COUNT(DISTINCT id) AS posts_count   \n",
    "                    FROM stackoverflow.posts\n",
    "                    WHERE creation_date::date BETWEEN '2008-09-01' AND '2008-12-31'\n",
    "                    GROUP BY creation_month)\n",
    "\n",
    "SELECT *,\n",
    "       ROUND(((posts_count::numeric / LAG(posts_count) OVER (ORDER BY creation_month)) - 1) * 100, 2) AS percentage\n",
    "FROM month_post;\n",
    "'''\n",
    "nine = pd.read_sql_query(query, con=engine)\n",
    "nine"
   ]
  },
  {
   "cell_type": "markdown",
   "metadata": {
    "id": "G0VSDL4HDWLO"
   },
   "source": [
    "<details>\n",
    "\n",
    "<summary>Подсказка</summary>\n",
    "Эту задачу стоит декомпозировать. Сформируйте запрос, который отобразит номер месяца и количество постов. Затем можно использовать оконную функцию, которая вернёт значение за предыдущий месяц, и посчитать процент.\n",
    "</details>"
   ]
  },
  {
   "cell_type": "markdown",
   "metadata": {
    "id": "9NQE2y_MDWLP"
   },
   "source": [
    "Постройте круговую диаграмму с количеством постов по месяцам."
   ]
  },
  {
   "cell_type": "code",
   "execution_count": 22,
   "metadata": {
    "scrolled": false
   },
   "outputs": [
    {
     "data": {
      "image/png": "[encoded data removed]",
      "text/plain": [
       "<Figure size 432x288 with 1 Axes>"
      ]
     },
     "metadata": {},
     "output_type": "display_data"
    }
   ],
   "source": [
    "ax = nine.groupby(['creation_month']).sum().plot(kind='pie', y='posts_count', colors = ['pink', 'dodgerblue', 'red', 'purple'])"
   ]
  },
  {
   "cell_type": "markdown",
   "metadata": {
    "id": "uw7qMtafDWLP"
   },
   "source": [
    "# Задание 10"
   ]
  },
  {
   "cell_type": "markdown",
   "metadata": {
    "id": "oRBpWKx3DWLQ"
   },
   "source": [
    "Выгрузите данные активности пользователя, который опубликовал больше всего постов за всё время. Выведите данные за октябрь 2008 года в таком виде:\n",
    "\n",
    "- номер недели;\n",
    "- дата и время последнего поста, опубликованного на этой неделе."
   ]
  },
  {
   "cell_type": "markdown",
   "metadata": {
    "id": "XjAWSn_3DWLQ"
   },
   "source": [
    "| week_creation | creation_date |\n",
    "| ------------- | ------------- |\n",
    "| 40 | 2008-10-05 09:00:58 |\n",
    "| 41 | 2008-10-12 21:22:23 |\n",
    "| ... | ... |"
   ]
  },
  {
   "cell_type": "code",
   "execution_count": 23,
   "metadata": {},
   "outputs": [
    {
     "data": {
      "text/html": [
       "<div>\n",
       "<style scoped>\n",
       "    .dataframe tbody tr th:only-of-type {\n",
       "        vertical-align: middle;\n",
       "    }\n",
       "\n",
       "    .dataframe tbody tr th {\n",
       "        vertical-align: top;\n",
       "    }\n",
       "\n",
       "    .dataframe thead th {\n",
       "        text-align: right;\n",
       "    }\n",
       "</style>\n",
       "<table border=\"1\" class=\"dataframe\">\n",
       "  <thead>\n",
       "    <tr style=\"text-align: right;\">\n",
       "      <th></th>\n",
       "      <th>week_creation</th>\n",
       "      <th>creation_date</th>\n",
       "    </tr>\n",
       "  </thead>\n",
       "  <tbody>\n",
       "    <tr>\n",
       "      <th>0</th>\n",
       "      <td>40.0</td>\n",
       "      <td>2008-10-05 09:00:58</td>\n",
       "    </tr>\n",
       "    <tr>\n",
       "      <th>1</th>\n",
       "      <td>41.0</td>\n",
       "      <td>2008-10-12 21:22:23</td>\n",
       "    </tr>\n",
       "    <tr>\n",
       "      <th>2</th>\n",
       "      <td>42.0</td>\n",
       "      <td>2008-10-19 06:49:30</td>\n",
       "    </tr>\n",
       "    <tr>\n",
       "      <th>3</th>\n",
       "      <td>43.0</td>\n",
       "      <td>2008-10-26 21:44:36</td>\n",
       "    </tr>\n",
       "    <tr>\n",
       "      <th>4</th>\n",
       "      <td>44.0</td>\n",
       "      <td>2008-10-31 22:16:01</td>\n",
       "    </tr>\n",
       "  </tbody>\n",
       "</table>\n",
       "</div>"
      ],
      "text/plain": [
       "   week_creation       creation_date\n",
       "0           40.0 2008-10-05 09:00:58\n",
       "1           41.0 2008-10-12 21:22:23\n",
       "2           42.0 2008-10-19 06:49:30\n",
       "3           43.0 2008-10-26 21:44:36\n",
       "4           44.0 2008-10-31 22:16:01"
      ]
     },
     "execution_count": 23,
     "metadata": {},
     "output_type": "execute_result"
    }
   ],
   "source": [
    "query = '''\n",
    "WITH l AS\n",
    "(WITH n AS\n",
    "(SELECT user_id\n",
    "FROM stackoverflow.posts\n",
    "GROUP  BY user_id\n",
    "ORDER BY COUNT(id)DESC\n",
    "LIMIT 1)\n",
    "SELECT creation_date,\n",
    "       EXTRACT('week'FROM creation_date::date) AS week_creation\n",
    "       FROM stackoverflow.posts\n",
    "WHERE  user_id IN (SELECT*\n",
    "                  FROM n)\n",
    "AND DATE_TRUNC('month', creation_date)::date = '2008-10-01') \n",
    "SELECT  DISTINCT week_creation,\n",
    "        MAX(creation_date) OVER (PARTITION BY week_creation) AS creation_date\n",
    "FROM l\n",
    "ORDER BY  week_creation\n",
    "'''\n",
    "ten= pd.read_sql_query(query, con=engine)\n",
    "ten"
   ]
  }
 ],
 "metadata": {
  "ExecuteTimeLog": [
   {
    "duration": 832,
    "start_time": "2023-02-21T03:36:20.647Z"
   },
   {
    "duration": 3,
    "start_time": "2023-02-21T03:36:21.481Z"
   },
   {
    "duration": 7806,
    "start_time": "2023-02-21T03:36:21.486Z"
   },
   {
    "duration": 252,
    "start_time": "2023-02-21T03:36:29.294Z"
   },
   {
    "duration": 14,
    "start_time": "2023-02-21T03:36:29.548Z"
   },
   {
    "duration": 3,
    "start_time": "2023-02-21T03:36:29.563Z"
   },
   {
    "duration": 5,
    "start_time": "2023-02-21T03:36:29.568Z"
   },
   {
    "duration": 6,
    "start_time": "2023-02-21T03:36:29.574Z"
   },
   {
    "duration": 4,
    "start_time": "2023-02-21T03:36:29.582Z"
   },
   {
    "duration": 4,
    "start_time": "2023-02-21T03:36:29.589Z"
   },
   {
    "duration": 5,
    "start_time": "2023-02-21T03:36:29.594Z"
   },
   {
    "duration": 6,
    "start_time": "2023-02-21T03:36:29.600Z"
   },
   {
    "duration": 5,
    "start_time": "2023-02-21T03:36:29.607Z"
   },
   {
    "duration": 6,
    "start_time": "2023-02-21T03:36:29.614Z"
   },
   {
    "duration": 17,
    "start_time": "2023-02-21T03:36:29.621Z"
   },
   {
    "duration": 7,
    "start_time": "2023-02-21T03:36:29.640Z"
   },
   {
    "duration": 6,
    "start_time": "2023-02-21T03:36:29.649Z"
   },
   {
    "duration": 5,
    "start_time": "2023-02-21T03:36:29.656Z"
   },
   {
    "duration": 5,
    "start_time": "2023-02-21T03:36:29.662Z"
   },
   {
    "duration": 5,
    "start_time": "2023-02-21T03:36:29.668Z"
   },
   {
    "duration": 6,
    "start_time": "2023-02-21T03:36:29.675Z"
   },
   {
    "duration": 9,
    "start_time": "2023-02-21T03:36:29.683Z"
   },
   {
    "duration": 4,
    "start_time": "2023-02-21T03:39:29.396Z"
   },
   {
    "duration": 22,
    "start_time": "2023-02-21T03:39:29.402Z"
   },
   {
    "duration": 6,
    "start_time": "2023-02-21T03:39:29.426Z"
   },
   {
    "duration": 219,
    "start_time": "2023-02-21T03:39:29.434Z"
   },
   {
    "duration": 10,
    "start_time": "2023-02-21T03:39:29.656Z"
   },
   {
    "duration": 73,
    "start_time": "2023-02-21T03:39:29.667Z"
   },
   {
    "duration": 0,
    "start_time": "2023-02-21T03:39:29.743Z"
   },
   {
    "duration": 0,
    "start_time": "2023-02-21T03:39:29.744Z"
   },
   {
    "duration": 0,
    "start_time": "2023-02-21T03:39:29.745Z"
   },
   {
    "duration": 0,
    "start_time": "2023-02-21T03:39:29.746Z"
   },
   {
    "duration": 0,
    "start_time": "2023-02-21T03:39:29.748Z"
   },
   {
    "duration": 0,
    "start_time": "2023-02-21T03:39:29.749Z"
   },
   {
    "duration": 0,
    "start_time": "2023-02-21T03:39:29.751Z"
   },
   {
    "duration": 0,
    "start_time": "2023-02-21T03:39:29.752Z"
   },
   {
    "duration": 0,
    "start_time": "2023-02-21T03:39:29.753Z"
   },
   {
    "duration": 0,
    "start_time": "2023-02-21T03:39:29.755Z"
   },
   {
    "duration": 0,
    "start_time": "2023-02-21T03:39:29.756Z"
   },
   {
    "duration": 0,
    "start_time": "2023-02-21T03:39:29.757Z"
   },
   {
    "duration": 0,
    "start_time": "2023-02-21T03:39:29.758Z"
   },
   {
    "duration": 0,
    "start_time": "2023-02-21T03:39:29.759Z"
   },
   {
    "duration": 0,
    "start_time": "2023-02-21T03:39:29.760Z"
   },
   {
    "duration": 0,
    "start_time": "2023-02-21T03:39:29.760Z"
   },
   {
    "duration": 3,
    "start_time": "2023-02-21T03:40:22.871Z"
   },
   {
    "duration": 11,
    "start_time": "2023-02-21T03:40:22.875Z"
   },
   {
    "duration": 18,
    "start_time": "2023-02-21T03:40:22.888Z"
   },
   {
    "duration": 219,
    "start_time": "2023-02-21T03:40:22.909Z"
   },
   {
    "duration": 12,
    "start_time": "2023-02-21T03:40:23.130Z"
   },
   {
    "duration": 176,
    "start_time": "2023-02-21T03:40:23.144Z"
   },
   {
    "duration": 3,
    "start_time": "2023-02-21T03:40:23.322Z"
   },
   {
    "duration": 82,
    "start_time": "2023-02-21T03:40:23.327Z"
   },
   {
    "duration": 0,
    "start_time": "2023-02-21T03:40:23.412Z"
   },
   {
    "duration": 0,
    "start_time": "2023-02-21T03:40:23.413Z"
   },
   {
    "duration": 0,
    "start_time": "2023-02-21T03:40:23.414Z"
   },
   {
    "duration": 0,
    "start_time": "2023-02-21T03:40:23.415Z"
   },
   {
    "duration": 0,
    "start_time": "2023-02-21T03:40:23.416Z"
   },
   {
    "duration": 0,
    "start_time": "2023-02-21T03:40:23.417Z"
   },
   {
    "duration": 0,
    "start_time": "2023-02-21T03:40:23.419Z"
   },
   {
    "duration": 0,
    "start_time": "2023-02-21T03:40:23.423Z"
   },
   {
    "duration": 0,
    "start_time": "2023-02-21T03:40:23.424Z"
   },
   {
    "duration": 0,
    "start_time": "2023-02-21T03:40:23.425Z"
   },
   {
    "duration": 0,
    "start_time": "2023-02-21T03:40:23.427Z"
   },
   {
    "duration": 0,
    "start_time": "2023-02-21T03:40:23.427Z"
   },
   {
    "duration": 0,
    "start_time": "2023-02-21T03:40:23.428Z"
   },
   {
    "duration": 0,
    "start_time": "2023-02-21T03:40:23.429Z"
   },
   {
    "duration": 3,
    "start_time": "2023-02-21T03:40:41.042Z"
   },
   {
    "duration": 6,
    "start_time": "2023-02-21T03:40:41.046Z"
   },
   {
    "duration": 5,
    "start_time": "2023-02-21T03:40:41.053Z"
   },
   {
    "duration": 227,
    "start_time": "2023-02-21T03:40:41.060Z"
   },
   {
    "duration": 12,
    "start_time": "2023-02-21T03:40:41.290Z"
   },
   {
    "duration": 160,
    "start_time": "2023-02-21T03:40:41.304Z"
   },
   {
    "duration": 3,
    "start_time": "2023-02-21T03:40:41.465Z"
   },
   {
    "duration": 174,
    "start_time": "2023-02-21T03:40:41.469Z"
   },
   {
    "duration": 3,
    "start_time": "2023-02-21T03:40:41.645Z"
   },
   {
    "duration": 5,
    "start_time": "2023-02-21T03:40:41.650Z"
   },
   {
    "duration": 6,
    "start_time": "2023-02-21T03:40:41.656Z"
   },
   {
    "duration": 5,
    "start_time": "2023-02-21T03:40:41.663Z"
   },
   {
    "duration": 4,
    "start_time": "2023-02-21T03:40:41.670Z"
   },
   {
    "duration": 4,
    "start_time": "2023-02-21T03:40:41.677Z"
   },
   {
    "duration": 5,
    "start_time": "2023-02-21T03:40:41.682Z"
   },
   {
    "duration": 20,
    "start_time": "2023-02-21T03:40:41.688Z"
   },
   {
    "duration": 5,
    "start_time": "2023-02-21T03:40:41.710Z"
   },
   {
    "duration": 5,
    "start_time": "2023-02-21T03:40:41.717Z"
   },
   {
    "duration": 5,
    "start_time": "2023-02-21T03:40:41.724Z"
   },
   {
    "duration": 8,
    "start_time": "2023-02-21T03:40:41.731Z"
   },
   {
    "duration": 6,
    "start_time": "2023-02-21T03:40:41.740Z"
   },
   {
    "duration": 8,
    "start_time": "2023-02-21T03:40:41.747Z"
   },
   {
    "duration": 3,
    "start_time": "2023-02-21T05:22:16.316Z"
   },
   {
    "duration": 3,
    "start_time": "2023-02-21T05:22:21.416Z"
   },
   {
    "duration": 22,
    "start_time": "2023-02-21T05:22:21.422Z"
   },
   {
    "duration": 10,
    "start_time": "2023-02-21T05:22:21.447Z"
   },
   {
    "duration": 639,
    "start_time": "2023-02-21T05:22:21.459Z"
   },
   {
    "duration": 15,
    "start_time": "2023-02-21T05:22:22.103Z"
   },
   {
    "duration": 173,
    "start_time": "2023-02-21T05:22:22.120Z"
   },
   {
    "duration": 5,
    "start_time": "2023-02-21T05:22:22.295Z"
   },
   {
    "duration": 199,
    "start_time": "2023-02-21T05:22:22.302Z"
   },
   {
    "duration": 2,
    "start_time": "2023-02-21T05:22:22.507Z"
   },
   {
    "duration": 17,
    "start_time": "2023-02-21T05:22:22.511Z"
   },
   {
    "duration": 15,
    "start_time": "2023-02-21T05:22:22.529Z"
   },
   {
    "duration": 8,
    "start_time": "2023-02-21T05:22:22.546Z"
   },
   {
    "duration": 8,
    "start_time": "2023-02-21T05:22:22.555Z"
   },
   {
    "duration": 43,
    "start_time": "2023-02-21T05:22:22.565Z"
   },
   {
    "duration": 11,
    "start_time": "2023-02-21T05:22:22.610Z"
   },
   {
    "duration": 8,
    "start_time": "2023-02-21T05:22:22.623Z"
   },
   {
    "duration": 11,
    "start_time": "2023-02-21T05:22:22.632Z"
   },
   {
    "duration": 5,
    "start_time": "2023-02-21T05:22:22.645Z"
   },
   {
    "duration": 9,
    "start_time": "2023-02-21T05:22:22.652Z"
   },
   {
    "duration": 8,
    "start_time": "2023-02-21T05:22:22.663Z"
   },
   {
    "duration": 10,
    "start_time": "2023-02-21T05:22:22.673Z"
   },
   {
    "duration": 21,
    "start_time": "2023-02-21T05:22:22.684Z"
   },
   {
    "duration": 145,
    "start_time": "2023-02-21T05:23:26.125Z"
   },
   {
    "duration": 149,
    "start_time": "2023-02-21T05:23:37.977Z"
   },
   {
    "duration": 3,
    "start_time": "2023-02-21T05:23:51.056Z"
   },
   {
    "duration": 5,
    "start_time": "2023-02-21T05:23:51.062Z"
   },
   {
    "duration": 8,
    "start_time": "2023-02-21T05:23:51.069Z"
   },
   {
    "duration": 254,
    "start_time": "2023-02-21T05:23:51.079Z"
   },
   {
    "duration": 10,
    "start_time": "2023-02-21T05:23:51.336Z"
   },
   {
    "duration": 176,
    "start_time": "2023-02-21T05:23:51.348Z"
   },
   {
    "duration": 3,
    "start_time": "2023-02-21T05:23:51.526Z"
   },
   {
    "duration": 170,
    "start_time": "2023-02-21T05:23:51.531Z"
   },
   {
    "duration": 6,
    "start_time": "2023-02-21T05:23:51.703Z"
   },
   {
    "duration": 152,
    "start_time": "2023-02-21T05:23:51.711Z"
   },
   {
    "duration": 3,
    "start_time": "2023-02-21T05:23:51.865Z"
   },
   {
    "duration": 15,
    "start_time": "2023-02-21T05:23:51.869Z"
   },
   {
    "duration": 38,
    "start_time": "2023-02-21T05:23:51.886Z"
   },
   {
    "duration": 5,
    "start_time": "2023-02-21T05:23:51.927Z"
   },
   {
    "duration": 5,
    "start_time": "2023-02-21T05:23:51.935Z"
   },
   {
    "duration": 8,
    "start_time": "2023-02-21T05:23:51.942Z"
   },
   {
    "duration": 5,
    "start_time": "2023-02-21T05:23:51.951Z"
   },
   {
    "duration": 5,
    "start_time": "2023-02-21T05:23:51.958Z"
   },
   {
    "duration": 8,
    "start_time": "2023-02-21T05:23:51.965Z"
   },
   {
    "duration": 5,
    "start_time": "2023-02-21T05:23:51.975Z"
   },
   {
    "duration": 5,
    "start_time": "2023-02-21T05:23:51.983Z"
   },
   {
    "duration": 28,
    "start_time": "2023-02-21T05:23:51.990Z"
   },
   {
    "duration": 149,
    "start_time": "2023-02-21T05:24:50.346Z"
   },
   {
    "duration": 150,
    "start_time": "2023-02-21T05:28:43.675Z"
   },
   {
    "duration": 167,
    "start_time": "2023-02-21T05:30:19.384Z"
   },
   {
    "duration": 144,
    "start_time": "2023-02-21T05:37:28.014Z"
   },
   {
    "duration": 3,
    "start_time": "2023-02-21T05:37:31.665Z"
   },
   {
    "duration": 17,
    "start_time": "2023-02-21T05:37:31.670Z"
   },
   {
    "duration": 6,
    "start_time": "2023-02-21T05:37:31.689Z"
   },
   {
    "duration": 229,
    "start_time": "2023-02-21T05:37:31.697Z"
   },
   {
    "duration": 12,
    "start_time": "2023-02-21T05:37:31.928Z"
   },
   {
    "duration": 155,
    "start_time": "2023-02-21T05:37:31.942Z"
   },
   {
    "duration": 2,
    "start_time": "2023-02-21T05:37:32.099Z"
   },
   {
    "duration": 165,
    "start_time": "2023-02-21T05:37:32.103Z"
   },
   {
    "duration": 2,
    "start_time": "2023-02-21T05:37:32.270Z"
   },
   {
    "duration": 144,
    "start_time": "2023-02-21T05:37:32.274Z"
   },
   {
    "duration": 2,
    "start_time": "2023-02-21T05:37:32.419Z"
   },
   {
    "duration": 6,
    "start_time": "2023-02-21T05:37:32.423Z"
   },
   {
    "duration": 6,
    "start_time": "2023-02-21T05:37:32.430Z"
   },
   {
    "duration": 5,
    "start_time": "2023-02-21T05:37:32.437Z"
   },
   {
    "duration": 8,
    "start_time": "2023-02-21T05:37:32.443Z"
   },
   {
    "duration": 6,
    "start_time": "2023-02-21T05:37:32.453Z"
   },
   {
    "duration": 4,
    "start_time": "2023-02-21T05:37:32.461Z"
   },
   {
    "duration": 14,
    "start_time": "2023-02-21T05:37:32.467Z"
   },
   {
    "duration": 5,
    "start_time": "2023-02-21T05:37:32.483Z"
   },
   {
    "duration": 6,
    "start_time": "2023-02-21T05:37:32.489Z"
   },
   {
    "duration": 6,
    "start_time": "2023-02-21T05:37:32.496Z"
   },
   {
    "duration": 6,
    "start_time": "2023-02-21T05:37:32.503Z"
   },
   {
    "duration": 3,
    "start_time": "2023-02-21T06:03:19.565Z"
   },
   {
    "duration": 6,
    "start_time": "2023-02-21T06:03:19.571Z"
   },
   {
    "duration": 8,
    "start_time": "2023-02-21T06:03:19.579Z"
   },
   {
    "duration": 233,
    "start_time": "2023-02-21T06:03:19.589Z"
   },
   {
    "duration": 10,
    "start_time": "2023-02-21T06:03:19.824Z"
   },
   {
    "duration": 176,
    "start_time": "2023-02-21T06:03:19.836Z"
   },
   {
    "duration": 3,
    "start_time": "2023-02-21T06:03:20.014Z"
   },
   {
    "duration": 180,
    "start_time": "2023-02-21T06:03:20.018Z"
   },
   {
    "duration": 3,
    "start_time": "2023-02-21T06:03:20.201Z"
   },
   {
    "duration": 162,
    "start_time": "2023-02-21T06:03:20.216Z"
   },
   {
    "duration": 2,
    "start_time": "2023-02-21T06:03:20.380Z"
   },
   {
    "duration": 9,
    "start_time": "2023-02-21T06:03:20.384Z"
   },
   {
    "duration": 17,
    "start_time": "2023-02-21T06:03:20.395Z"
   },
   {
    "duration": 13,
    "start_time": "2023-02-21T06:03:20.415Z"
   },
   {
    "duration": 11,
    "start_time": "2023-02-21T06:03:20.430Z"
   },
   {
    "duration": 14,
    "start_time": "2023-02-21T06:03:20.442Z"
   },
   {
    "duration": 7,
    "start_time": "2023-02-21T06:03:20.458Z"
   },
   {
    "duration": 20,
    "start_time": "2023-02-21T06:03:20.466Z"
   },
   {
    "duration": 10,
    "start_time": "2023-02-21T06:03:20.488Z"
   },
   {
    "duration": 13,
    "start_time": "2023-02-21T06:03:20.500Z"
   },
   {
    "duration": 21,
    "start_time": "2023-02-21T06:03:20.515Z"
   },
   {
    "duration": 19,
    "start_time": "2023-02-21T06:03:20.538Z"
   },
   {
    "duration": 3,
    "start_time": "2023-02-21T06:05:26.644Z"
   },
   {
    "duration": 1386,
    "start_time": "2023-02-21T06:06:18.052Z"
   },
   {
    "duration": 1546,
    "start_time": "2023-02-21T06:06:34.725Z"
   },
   {
    "duration": 1286,
    "start_time": "2023-02-21T06:09:31.521Z"
   },
   {
    "duration": 3,
    "start_time": "2023-02-21T06:10:03.132Z"
   },
   {
    "duration": 15,
    "start_time": "2023-02-21T06:10:03.137Z"
   },
   {
    "duration": 30,
    "start_time": "2023-02-21T06:10:03.154Z"
   },
   {
    "duration": 338,
    "start_time": "2023-02-21T06:10:03.186Z"
   },
   {
    "duration": 14,
    "start_time": "2023-02-21T06:10:03.526Z"
   },
   {
    "duration": 180,
    "start_time": "2023-02-21T06:10:03.542Z"
   },
   {
    "duration": 3,
    "start_time": "2023-02-21T06:10:03.724Z"
   },
   {
    "duration": 202,
    "start_time": "2023-02-21T06:10:03.729Z"
   },
   {
    "duration": 2,
    "start_time": "2023-02-21T06:10:03.933Z"
   },
   {
    "duration": 176,
    "start_time": "2023-02-21T06:10:03.937Z"
   },
   {
    "duration": 5,
    "start_time": "2023-02-21T06:10:04.114Z"
   },
   {
    "duration": 1201,
    "start_time": "2023-02-21T06:10:04.120Z"
   },
   {
    "duration": 4,
    "start_time": "2023-02-21T06:10:05.326Z"
   },
   {
    "duration": 12,
    "start_time": "2023-02-21T06:10:05.332Z"
   },
   {
    "duration": 7,
    "start_time": "2023-02-21T06:10:05.345Z"
   },
   {
    "duration": 10,
    "start_time": "2023-02-21T06:10:05.353Z"
   },
   {
    "duration": 8,
    "start_time": "2023-02-21T06:10:05.364Z"
   },
   {
    "duration": 13,
    "start_time": "2023-02-21T06:10:05.374Z"
   },
   {
    "duration": 49,
    "start_time": "2023-02-21T06:10:05.388Z"
   },
   {
    "duration": 7,
    "start_time": "2023-02-21T06:10:05.439Z"
   },
   {
    "duration": 24,
    "start_time": "2023-02-21T06:10:05.448Z"
   },
   {
    "duration": 17,
    "start_time": "2023-02-21T06:10:05.474Z"
   },
   {
    "duration": 94,
    "start_time": "2023-02-21T12:03:37.466Z"
   },
   {
    "duration": 141,
    "start_time": "2023-02-21T12:03:52.308Z"
   },
   {
    "duration": 102,
    "start_time": "2023-02-21T12:05:51.627Z"
   },
   {
    "duration": 102,
    "start_time": "2023-02-21T12:17:29.520Z"
   },
   {
    "duration": 3,
    "start_time": "2023-02-21T12:18:26.366Z"
   },
   {
    "duration": 66,
    "start_time": "2023-02-21T12:19:23.929Z"
   },
   {
    "duration": 1308,
    "start_time": "2023-02-25T08:41:49.614Z"
   },
   {
    "duration": 4,
    "start_time": "2023-02-25T08:41:50.925Z"
   },
   {
    "duration": 8310,
    "start_time": "2023-02-25T08:41:50.931Z"
   },
   {
    "duration": 265,
    "start_time": "2023-02-25T08:41:59.243Z"
   },
   {
    "duration": 16,
    "start_time": "2023-02-25T08:41:59.509Z"
   },
   {
    "duration": 174,
    "start_time": "2023-02-25T08:41:59.527Z"
   },
   {
    "duration": 163,
    "start_time": "2023-02-25T08:41:59.703Z"
   },
   {
    "duration": 188,
    "start_time": "2023-02-25T08:41:59.869Z"
   },
   {
    "duration": 167,
    "start_time": "2023-02-25T08:42:00.060Z"
   },
   {
    "duration": 168,
    "start_time": "2023-02-25T08:42:00.230Z"
   },
   {
    "duration": 146,
    "start_time": "2023-02-25T08:42:00.400Z"
   },
   {
    "duration": 118,
    "start_time": "2023-02-25T08:42:00.549Z"
   },
   {
    "duration": 1438,
    "start_time": "2023-02-25T08:42:00.669Z"
   },
   {
    "duration": 116,
    "start_time": "2023-02-25T08:42:02.109Z"
   },
   {
    "duration": 65,
    "start_time": "2023-02-25T08:42:02.226Z"
   },
   {
    "duration": 1161,
    "start_time": "2023-02-25T08:42:02.293Z"
   },
   {
    "duration": 489,
    "start_time": "2023-02-25T08:42:03.457Z"
   },
   {
    "duration": 489,
    "start_time": "2023-02-25T08:42:03.949Z"
   },
   {
    "duration": 71,
    "start_time": "2023-02-25T08:42:04.445Z"
   },
   {
    "duration": 160,
    "start_time": "2023-02-25T08:42:04.518Z"
   },
   {
    "duration": 121,
    "start_time": "2023-02-25T08:42:04.680Z"
   },
   {
    "duration": 0,
    "start_time": "2023-02-25T08:42:04.803Z"
   },
   {
    "duration": 12,
    "start_time": "2023-02-25T08:49:43.766Z"
   },
   {
    "duration": 132,
    "start_time": "2023-02-25T08:55:14.069Z"
   },
   {
    "duration": 44,
    "start_time": "2023-02-25T09:54:06.787Z"
   },
   {
    "duration": 1438,
    "start_time": "2023-02-25T09:54:16.381Z"
   },
   {
    "duration": 4,
    "start_time": "2023-02-25T09:54:17.821Z"
   },
   {
    "duration": 4500,
    "start_time": "2023-02-25T09:54:17.826Z"
   },
   {
    "duration": 68,
    "start_time": "2023-02-25T09:54:22.328Z"
   },
   {
    "duration": 14,
    "start_time": "2023-02-25T09:54:22.398Z"
   },
   {
    "duration": 118,
    "start_time": "2023-02-25T09:54:22.414Z"
   },
   {
    "duration": 134,
    "start_time": "2023-02-25T09:54:22.534Z"
   },
   {
    "duration": 153,
    "start_time": "2023-02-25T09:54:22.670Z"
   },
   {
    "duration": 131,
    "start_time": "2023-02-25T09:54:22.825Z"
   },
   {
    "duration": 129,
    "start_time": "2023-02-25T09:54:22.958Z"
   },
   {
    "duration": 114,
    "start_time": "2023-02-25T09:54:23.089Z"
   },
   {
    "duration": 64,
    "start_time": "2023-02-25T09:54:23.205Z"
   },
   {
    "duration": 1267,
    "start_time": "2023-02-25T09:54:23.271Z"
   },
   {
    "duration": 79,
    "start_time": "2023-02-25T09:54:24.540Z"
   },
   {
    "duration": 30,
    "start_time": "2023-02-25T09:54:24.621Z"
   },
   {
    "duration": 1038,
    "start_time": "2023-02-25T09:54:24.653Z"
   },
   {
    "duration": 469,
    "start_time": "2023-02-25T09:54:25.693Z"
   },
   {
    "duration": 423,
    "start_time": "2023-02-25T09:54:26.164Z"
   },
   {
    "duration": 37,
    "start_time": "2023-02-25T09:54:26.589Z"
   },
   {
    "duration": 124,
    "start_time": "2023-02-25T09:54:26.628Z"
   },
   {
    "duration": 137,
    "start_time": "2023-02-25T09:54:26.754Z"
   },
   {
    "duration": 102,
    "start_time": "2023-02-25T09:54:26.893Z"
   },
   {
    "duration": 2,
    "start_time": "2023-02-25T10:38:29.213Z"
   },
   {
    "duration": 9,
    "start_time": "2023-02-25T10:38:29.219Z"
   },
   {
    "duration": 10,
    "start_time": "2023-02-25T10:38:29.231Z"
   },
   {
    "duration": 38,
    "start_time": "2023-02-25T10:38:29.243Z"
   },
   {
    "duration": 10,
    "start_time": "2023-02-25T10:38:29.283Z"
   },
   {
    "duration": 127,
    "start_time": "2023-02-25T10:38:29.294Z"
   },
   {
    "duration": 129,
    "start_time": "2023-02-25T10:38:29.422Z"
   },
   {
    "duration": 130,
    "start_time": "2023-02-25T10:38:29.553Z"
   },
   {
    "duration": 128,
    "start_time": "2023-02-25T10:38:29.685Z"
   },
   {
    "duration": 131,
    "start_time": "2023-02-25T10:38:29.815Z"
   },
   {
    "duration": 119,
    "start_time": "2023-02-25T10:38:29.950Z"
   },
   {
    "duration": 65,
    "start_time": "2023-02-25T10:38:30.071Z"
   },
   {
    "duration": 1118,
    "start_time": "2023-02-25T10:38:30.138Z"
   },
   {
    "duration": 80,
    "start_time": "2023-02-25T10:38:31.258Z"
   },
   {
    "duration": 32,
    "start_time": "2023-02-25T10:38:31.339Z"
   },
   {
    "duration": 1009,
    "start_time": "2023-02-25T10:38:31.373Z"
   },
   {
    "duration": 445,
    "start_time": "2023-02-25T10:38:32.384Z"
   },
   {
    "duration": 381,
    "start_time": "2023-02-25T10:38:32.832Z"
   },
   {
    "duration": 36,
    "start_time": "2023-02-25T10:38:33.215Z"
   },
   {
    "duration": 125,
    "start_time": "2023-02-25T10:38:33.253Z"
   },
   {
    "duration": 155,
    "start_time": "2023-02-25T10:38:33.380Z"
   },
   {
    "duration": 100,
    "start_time": "2023-02-25T10:38:33.537Z"
   },
   {
    "duration": 1146,
    "start_time": "2023-02-25T12:57:37.517Z"
   },
   {
    "duration": 1127,
    "start_time": "2023-02-25T13:01:31.132Z"
   },
   {
    "duration": 1136,
    "start_time": "2023-02-25T13:01:39.551Z"
   },
   {
    "duration": 1598,
    "start_time": "2023-02-25T13:02:07.640Z"
   },
   {
    "duration": 1350,
    "start_time": "2023-02-25T13:02:37.216Z"
   },
   {
    "duration": 1218,
    "start_time": "2023-02-25T13:02:56.367Z"
   },
   {
    "duration": 1239,
    "start_time": "2023-02-25T13:16:57.222Z"
   },
   {
    "duration": 4,
    "start_time": "2023-02-25T13:24:06.371Z"
   },
   {
    "duration": 18,
    "start_time": "2023-02-25T13:24:06.377Z"
   },
   {
    "duration": 13,
    "start_time": "2023-02-25T13:24:06.397Z"
   },
   {
    "duration": 50,
    "start_time": "2023-02-25T13:24:06.412Z"
   },
   {
    "duration": 11,
    "start_time": "2023-02-25T13:24:06.464Z"
   },
   {
    "duration": 135,
    "start_time": "2023-02-25T13:24:06.476Z"
   },
   {
    "duration": 132,
    "start_time": "2023-02-25T13:24:06.613Z"
   },
   {
    "duration": 148,
    "start_time": "2023-02-25T13:24:06.746Z"
   },
   {
    "duration": 143,
    "start_time": "2023-02-25T13:24:06.897Z"
   },
   {
    "duration": 131,
    "start_time": "2023-02-25T13:24:07.042Z"
   },
   {
    "duration": 117,
    "start_time": "2023-02-25T13:24:07.175Z"
   },
   {
    "duration": 68,
    "start_time": "2023-02-25T13:24:07.294Z"
   },
   {
    "duration": 1323,
    "start_time": "2023-02-25T13:24:07.364Z"
   },
   {
    "duration": 81,
    "start_time": "2023-02-25T13:24:08.689Z"
   },
   {
    "duration": 31,
    "start_time": "2023-02-25T13:24:08.772Z"
   },
   {
    "duration": 1230,
    "start_time": "2023-02-25T13:24:08.805Z"
   },
   {
    "duration": 1581,
    "start_time": "2023-02-25T13:24:10.037Z"
   },
   {
    "duration": 1111,
    "start_time": "2023-02-25T13:24:11.620Z"
   },
   {
    "duration": 366,
    "start_time": "2023-02-25T13:24:12.733Z"
   },
   {
    "duration": 35,
    "start_time": "2023-02-25T13:24:13.101Z"
   },
   {
    "duration": 863,
    "start_time": "2023-02-25T13:24:13.138Z"
   },
   {
    "duration": 212,
    "start_time": "2023-02-25T13:24:14.004Z"
   },
   {
    "duration": 107,
    "start_time": "2023-02-25T13:24:14.218Z"
   },
   {
    "duration": 1221,
    "start_time": "2023-02-26T05:19:37.721Z"
   },
   {
    "duration": 3,
    "start_time": "2023-02-26T05:19:38.945Z"
   },
   {
    "duration": 8063,
    "start_time": "2023-02-26T05:19:38.949Z"
   },
   {
    "duration": 241,
    "start_time": "2023-02-26T05:19:47.013Z"
   },
   {
    "duration": 13,
    "start_time": "2023-02-26T05:19:47.256Z"
   },
   {
    "duration": 148,
    "start_time": "2023-02-26T05:19:47.270Z"
   },
   {
    "duration": 156,
    "start_time": "2023-02-26T05:19:47.420Z"
   },
   {
    "duration": 139,
    "start_time": "2023-02-26T05:19:47.578Z"
   },
   {
    "duration": 157,
    "start_time": "2023-02-26T05:19:47.718Z"
   },
   {
    "duration": 153,
    "start_time": "2023-02-26T05:19:47.877Z"
   },
   {
    "duration": 144,
    "start_time": "2023-02-26T05:19:48.031Z"
   },
   {
    "duration": 92,
    "start_time": "2023-02-26T05:19:48.177Z"
   },
   {
    "duration": 1208,
    "start_time": "2023-02-26T05:19:48.271Z"
   },
   {
    "duration": 108,
    "start_time": "2023-02-26T05:19:49.481Z"
   },
   {
    "duration": 62,
    "start_time": "2023-02-26T05:19:49.590Z"
   },
   {
    "duration": 1084,
    "start_time": "2023-02-26T05:19:49.653Z"
   },
   {
    "duration": 1018,
    "start_time": "2023-02-26T05:19:50.738Z"
   },
   {
    "duration": 482,
    "start_time": "2023-02-26T05:19:51.758Z"
   },
   {
    "duration": 369,
    "start_time": "2023-02-26T05:19:52.242Z"
   },
   {
    "duration": 64,
    "start_time": "2023-02-26T05:19:52.613Z"
   },
   {
    "duration": 150,
    "start_time": "2023-02-26T05:19:52.679Z"
   },
   {
    "duration": 128,
    "start_time": "2023-02-26T05:19:52.831Z"
   },
   {
    "duration": 128,
    "start_time": "2023-02-26T05:19:52.960Z"
   }
  ],
  "colab": {
   "name": "AdvansedSQLProjectTemplate.ipynb",
   "provenance": []
  },
  "kernelspec": {
   "display_name": "Python 3 (ipykernel)",
   "language": "python",
   "name": "python3"
  },
  "language_info": {
   "codemirror_mode": {
    "name": "ipython",
    "version": 3
   },
   "file_extension": ".py",
   "mimetype": "text/x-python",
   "name": "python",
   "nbconvert_exporter": "python",
   "pygments_lexer": "ipython3",
   "version": "3.9.13"
  },
  "toc": {
   "base_numbering": 1,
   "nav_menu": {},
   "number_sections": true,
   "sideBar": true,
   "skip_h1_title": true,
   "title_cell": "Table of Contents",
   "title_sidebar": "Contents",
   "toc_cell": false,
   "toc_position": {},
   "toc_section_display": true,
   "toc_window_display": false
  }
 },
 "nbformat": 4,
 "nbformat_minor": 1
}
