{
 "cells": [
  {
   "cell_type": "markdown",
   "id": "f46e8327",
   "metadata": {
    "id": "GEqQaHzsZ_bA"
   },
   "source": [
    "# Предсказание стоимости жилья"
   ]
  },
  {
   "cell_type": "markdown",
   "id": "f2a5a9a5",
   "metadata": {},
   "source": [
    "Целью проекта является обучение модели линейной регрессии на данных о жилье в Калифорнии в 1990 году, предсказывающей медианную стоимость дома в жилом массиве.\n",
    "\n",
    "Данные собраны в рамках переписи населения в США. Каждая строка содержит агрегированную статистику о жилом массиве - минимальной географической единице с населением от 600 до 3000 человек в зависимости от штата. Одна строка в данных содержит статистику в среднем о 1425.5 обитателях жилого массива.\n",
    "\n",
    "В соответствие с условием проекта для обучения модели будет использован фреймворк Spark, для оценки качества модели используются метрики RMSE, MAE и R2."
   ]
  },
  {
   "cell_type": "markdown",
   "id": "c5b55337",
   "metadata": {},
   "source": [
    "В колонках датасета содержатся следующие данные:\n",
    "\n",
    "- `longitude` — широта;\n",
    "- `latitude` — долгота;\n",
    "- `housing_median_age` — медианный возраст жителей жилого массива;\n",
    "- `total_rooms` — общее количество комнат в домах жилого массива;\n",
    "- `total_bedrooms` — общее количество спален в домах жилого массива;\n",
    "- `population` — количество человек, которые проживают в жилом массиве;\n",
    "- `households` — количество домовладений в жилом массиве;\n",
    "- `median_income` — медианный доход жителей жилого массива;\n",
    "- `median_house_value` — медианная стоимость дома в жилом массиве;\n",
    "- `ocean_proximity` — близость к океану.\n",
    "\n",
    "Вcе колонки, за исключением одной, содержат количественные значения, столбец `ocean_proximity` - категориальные."
   ]
  },
  {
   "cell_type": "markdown",
   "id": "27122946",
   "metadata": {},
   "source": [
    "## Подготовка данных"
   ]
  },
  {
   "cell_type": "markdown",
   "id": "467905ce",
   "metadata": {
    "id": "53871372"
   },
   "source": [
    "### Общее изучение данных"
   ]
  },
  {
   "cell_type": "markdown",
   "id": "e58596d8",
   "metadata": {},
   "source": [
    "Импортируем необходимые библиотеки"
   ]
  },
  {
   "cell_type": "code",
   "execution_count": 884,
   "id": "f4355471",
   "metadata": {},
   "outputs": [],
   "source": [
    "import pandas as pd \n",
    "import numpy as np\n",
    "import matplotlib.pyplot as plt\n",
    "import pyspark\n",
    "from pyspark.sql import SparkSession\n",
    "from pyspark.sql.types import *\n",
    "import pyspark.sql.functions as F\n",
    "\n",
    "from pyspark.ml.feature import StringIndexer, VectorAssembler, StandardScaler\n",
    "from pyspark.ml.regression import LinearRegression\n",
    "from pyspark.ml.evaluation import RegressionEvaluator"
   ]
  },
  {
   "cell_type": "code",
   "execution_count": 885,
   "id": "8f19b3f8",
   "metadata": {},
   "outputs": [],
   "source": [
    "pyspark_version = pyspark.__version__\n",
    "if int(pyspark_version[:1]) == 3:\n",
    "    from pyspark.ml.feature import OneHotEncoder    \n",
    "elif int(pyspark_version[:1]) == 2:\n",
    "    from pyspark.ml.feature import OneHotEncodeEstimator\n",
    "        \n",
    "RANDOM_SEED = 2023"
   ]
  },
  {
   "cell_type": "markdown",
   "id": "c48ddf8a",
   "metadata": {},
   "source": [
    "Инициализируем Spark-сессию."
   ]
  },
  {
   "cell_type": "code",
   "execution_count": 886,
   "id": "df92e3ec",
   "metadata": {
    "id": "df92e3ec"
   },
   "outputs": [],
   "source": [
    "spark = SparkSession.builder \\\n",
    "                    .master(\"local\") \\\n",
    "                    .appName(\"EDA California Housing\") \\\n",
    "                    .getOrCreate()"
   ]
  },
  {
   "cell_type": "markdown",
   "id": "44cac314",
   "metadata": {},
   "source": [
    "Читаем содержимое файла /datasets/housing.csv."
   ]
  },
  {
   "cell_type": "code",
   "execution_count": 887,
   "id": "3a1a18e6",
   "metadata": {},
   "outputs": [
    {
     "name": "stdout",
     "output_type": "stream",
     "text": [
      "root\n",
      " |-- longitude: double (nullable = true)\n",
      " |-- latitude: double (nullable = true)\n",
      " |-- housing_median_age: double (nullable = true)\n",
      " |-- total_rooms: double (nullable = true)\n",
      " |-- total_bedrooms: double (nullable = true)\n",
      " |-- population: double (nullable = true)\n",
      " |-- households: double (nullable = true)\n",
      " |-- median_income: double (nullable = true)\n",
      " |-- median_house_value: double (nullable = true)\n",
      " |-- ocean_proximity: string (nullable = true)\n",
      "\n"
     ]
    }
   ],
   "source": [
    "df_housing = spark.read.load('/datasets/housing.csv',\n",
    "                             format=\"csv\", sep=\",\", inferSchema=True, header=\"true\")\n",
    "df_housing.printSchema() "
   ]
  },
  {
   "cell_type": "markdown",
   "id": "45bd4ef5",
   "metadata": {},
   "source": [
    "Выводим типы данных колонок датасета."
   ]
  },
  {
   "cell_type": "code",
   "execution_count": 888,
   "id": "800d6fe4",
   "metadata": {},
   "outputs": [
    {
     "name": "stdout",
     "output_type": "stream",
     "text": [
      "+------------------+------+\n",
      "|            column|  type|\n",
      "+------------------+------+\n",
      "|         longitude|double|\n",
      "|          latitude|double|\n",
      "|housing_median_age|double|\n",
      "|       total_rooms|double|\n",
      "|    total_bedrooms|double|\n",
      "|        population|double|\n",
      "|        households|double|\n",
      "|     median_income|double|\n",
      "|median_house_value|double|\n",
      "|   ocean_proximity|string|\n",
      "+------------------+------+\n",
      "\n"
     ]
    }
   ],
   "source": [
    "spark.createDataFrame(df_housing.dtypes,['column', 'type']).show()"
   ]
  },
  {
   "cell_type": "markdown",
   "id": "79521270",
   "metadata": {},
   "source": [
    "Выведем базовые описательные статистики данных в Spark."
   ]
  },
  {
   "cell_type": "code",
   "execution_count": 889,
   "id": "8f069555",
   "metadata": {},
   "outputs": [
    {
     "name": "stdout",
     "output_type": "stream",
     "text": [
      "+-------+-------------------+-----------------+------------------+------------------+------------------+\n",
      "|summary|          longitude|         latitude|housing_median_age|       total_rooms|    total_bedrooms|\n",
      "+-------+-------------------+-----------------+------------------+------------------+------------------+\n",
      "|  count|              20640|            20640|             20640|             20640|             20433|\n",
      "|   mean|-119.56970445736148| 35.6318614341087|28.639486434108527|2635.7630813953488| 537.8705525375618|\n",
      "| stddev|  2.003531723502584|2.135952397457101| 12.58555761211163|2181.6152515827944|421.38507007403115|\n",
      "|    min|            -124.35|            32.54|               1.0|               2.0|               1.0|\n",
      "|    max|            -114.31|            41.95|              52.0|           39320.0|            6445.0|\n",
      "+-------+-------------------+-----------------+------------------+------------------+------------------+\n",
      "\n"
     ]
    }
   ],
   "source": [
    "df_housing.select('longitude','latitude', 'housing_median_age', 'total_rooms', 'total_bedrooms').describe().show()"
   ]
  },
  {
   "cell_type": "code",
   "execution_count": 890,
   "id": "6befd1c6",
   "metadata": {},
   "outputs": [
    {
     "name": "stdout",
     "output_type": "stream",
     "text": [
      "+-------+------------------+-----------------+------------------+------------------+---------------+\n",
      "|summary|        population|       households|     median_income|median_house_value|ocean_proximity|\n",
      "+-------+------------------+-----------------+------------------+------------------+---------------+\n",
      "|  count|             20640|            20640|             20640|             20640|          20640|\n",
      "|   mean|1425.4767441860465|499.5396802325581|3.8706710029070246|206855.81690891474|           null|\n",
      "| stddev|  1132.46212176534|382.3297528316098| 1.899821717945263|115395.61587441359|           null|\n",
      "|    min|               3.0|              1.0|            0.4999|           14999.0|      <1H OCEAN|\n",
      "|    max|           35682.0|           6082.0|           15.0001|          500001.0|     NEAR OCEAN|\n",
      "+-------+------------------+-----------------+------------------+------------------+---------------+\n",
      "\n"
     ]
    }
   ],
   "source": [
    "df_housing.select('population','households', 'median_income', 'median_house_value', 'ocean_proximity').describe().show()"
   ]
  },
  {
   "cell_type": "markdown",
   "id": "c7ad7b40",
   "metadata": {},
   "source": [
    "Циклом, примененным ко всем столбцам датафрейма, методами isNull и isnan установим наличие пропусков, функциями filter() и count() найдем их сумму по каждому столбцу. Также в теле цикла все данные приведем к единому типу 'string'. "
   ]
  },
  {
   "cell_type": "code",
   "execution_count": 892,
   "id": "8e7b48e8",
   "metadata": {},
   "outputs": [
    {
     "name": "stdout",
     "output_type": "stream",
     "text": [
      "longitude 0\n",
      "latitude 0\n",
      "housing_median_age 0\n",
      "total_rooms 0\n",
      "total_bedrooms 207\n",
      "population 0\n",
      "households 0\n",
      "median_income 0\n",
      "median_house_value 0\n",
      "ocean_proximity 0\n"
     ]
    }
   ],
   "source": [
    "columns = df_housing.columns\n",
    "\n",
    "for column in columns:\n",
    "    c = F.col(column).cast('string') \n",
    "    check_null = c.isNull() \n",
    "    check_nan = F.isnan(c) \n",
    "    print(column, df_housing.filter(check_null | check_nan).count())"
   ]
  },
  {
   "cell_type": "markdown",
   "id": "27cc4128",
   "metadata": {},
   "source": [
    "Пропуски установлены по столбцу 'total_bedrooms', которые мы заменим медианным значением методом Spark."
   ]
  },
  {
   "cell_type": "code",
   "execution_count": 893,
   "id": "bdf2ef63",
   "metadata": {},
   "outputs": [],
   "source": [
    "w = int(df_housing.approxQuantile('total_bedrooms', [0.5], 0)[0]) \n",
    "df_housing = df_housing.na.fill({'total_bedrooms': w}) "
   ]
  },
  {
   "cell_type": "code",
   "execution_count": 894,
   "id": "e1bd4960",
   "metadata": {},
   "outputs": [
    {
     "name": "stdout",
     "output_type": "stream",
     "text": [
      "+---------+--------+------------------+-----------+--------------+----------+----------+-------------+------------------+---------------+\n",
      "|longitude|latitude|housing_median_age|total_rooms|total_bedrooms|population|households|median_income|median_house_value|ocean_proximity|\n",
      "+---------+--------+------------------+-----------+--------------+----------+----------+-------------+------------------+---------------+\n",
      "+---------+--------+------------------+-----------+--------------+----------+----------+-------------+------------------+---------------+\n",
      "\n"
     ]
    }
   ],
   "source": [
    "df_housing.filter(F.col('total_bedrooms').isNull()).show()"
   ]
  },
  {
   "cell_type": "markdown",
   "id": "dcb508a8",
   "metadata": {},
   "source": [
    "### Изучение взаимозависимости данных"
   ]
  },
  {
   "cell_type": "markdown",
   "id": "03066d1a",
   "metadata": {},
   "source": [
    "Изучим данные на предмет взаимозависимости, построив матрицу корелляции. \n",
    "\n",
    "Целевым признаком у нас является \"median_house_value\" - медианная стоимость дома. В качестве принзаков, в зависимости от которых она складывается, выберем \"total_rooms\", \"total_bedrooms\", \"population\", \"households\", \"median_income\" и 'ocean_proximity'. Остальные признаки во внимание принимать не станем:\n",
    "\n",
    "\"longitude\" и \"latitude\" - географические координаты широта и долгота в реальной жизни при покупке жилья не учитываются;\n",
    "\n",
    "\"housing_median_age\" - медианный возраст проживающих в жилом массиве складывается after the fact приобретения жилья, иногда может учитывться при решении вопроса о его приобретении в том или жилом массиве, но практически не влияет на его стоимость.\n"
   ]
  },
  {
   "cell_type": "markdown",
   "id": "17e37ba1",
   "metadata": {},
   "source": [
    "Для построения матрицы корелляции создадим переменную, в которую не войдет признак 'ocean_proximity', поскольку он пока является категориальным."
   ]
  },
  {
   "cell_type": "code",
   "execution_count": 895,
   "id": "a7d5c56a",
   "metadata": {},
   "outputs": [
    {
     "data": {
      "image/png": "[encoded data removed]",
      "text/plain": [
       "<Figure size 1296x864 with 36 Axes>"
      ]
     },
     "metadata": {
      "needs_background": "light"
     },
     "output_type": "display_data"
    }
   ],
   "source": [
    "r = df_housing.select(\"total_rooms\", \"total_bedrooms\", \"population\", \"households\", \"median_income\",\n",
    "                      \"median_house_value\").toPandas()\n",
    "ax = pd.plotting.scatter_matrix(r,figsize=(18, 12))"
   ]
  },
  {
   "cell_type": "markdown",
   "id": "45643a70",
   "metadata": {},
   "source": [
    "Прослеживается логичная прямая пропорциональная зависимость количества домовладений - с одной стороны и количеством комнат, спален, численностью населения - с другой.\n",
    "\n",
    "Но для предсказания стоимости дома более важной является установление ее зависимости от других признаков. Для этого посчитаем корреляцию, переведя датасет с признаками в  Spark."
   ]
  },
  {
   "cell_type": "code",
   "execution_count": 896,
   "id": "93456bca",
   "metadata": {},
   "outputs": [
    {
     "name": "stdout",
     "output_type": "stream",
     "text": [
      "root\n",
      " |-- total_rooms: double (nullable = true)\n",
      " |-- total_bedrooms: double (nullable = true)\n",
      " |-- population: double (nullable = true)\n",
      " |-- households: double (nullable = true)\n",
      " |-- median_income: double (nullable = true)\n",
      " |-- median_house_value: double (nullable = true)\n",
      "\n"
     ]
    }
   ],
   "source": [
    "r = spark.createDataFrame(r)\n",
    "r.printSchema()"
   ]
  },
  {
   "cell_type": "markdown",
   "id": "dc840e4c",
   "metadata": {},
   "source": [
    "Циклом пройдем по датасету функцией stat.corr(), построим график показателей корреляции целевого признака и признаков"
   ]
  },
  {
   "cell_type": "code",
   "execution_count": 897,
   "id": "b5c92986",
   "metadata": {},
   "outputs": [
    {
     "name": "stdout",
     "output_type": "stream",
     "text": [
      "Correlation to MHV for  total_rooms 0.13\n",
      "Correlation to MHV for  total_bedrooms 0.05\n"
     ]
    },
    {
     "name": "stderr",
     "output_type": "stream",
     "text": [
      "22/12/17 16:17:24 WARN TaskSetManager: Stage 1812 contains a task of very large size (1156 KiB). The maximum recommended task size is 1000 KiB.\n",
      "22/12/17 16:17:25 WARN TaskSetManager: Stage 1813 contains a task of very large size (1156 KiB). The maximum recommended task size is 1000 KiB.\n",
      "22/12/17 16:17:25 WARN TaskSetManager: Stage 1814 contains a task of very large size (1156 KiB). The maximum recommended task size is 1000 KiB.\n",
      "22/12/17 16:17:25 WARN TaskSetManager: Stage 1815 contains a task of very large size (1156 KiB). The maximum recommended task size is 1000 KiB.\n"
     ]
    },
    {
     "name": "stdout",
     "output_type": "stream",
     "text": [
      "Correlation to MHV for  population -0.02\n",
      "Correlation to MHV for  households 0.07\n",
      "Correlation to MHV for  median_income 0.69\n",
      "Correlation to MHV for  median_house_value 1.0\n"
     ]
    },
    {
     "name": "stderr",
     "output_type": "stream",
     "text": [
      "22/12/17 16:17:25 WARN TaskSetManager: Stage 1816 contains a task of very large size (1156 KiB). The maximum recommended task size is 1000 KiB.\n",
      "22/12/17 16:17:25 WARN TaskSetManager: Stage 1817 contains a task of very large size (1156 KiB). The maximum recommended task size is 1000 KiB.\n"
     ]
    }
   ],
   "source": [
    "for i in r.columns:\n",
    "    print(\"Correlation to MHV for \", i, round((r.stat.corr('median_house_value',i)),2))"
   ]
  },
  {
   "cell_type": "code",
   "execution_count": 898,
   "id": "6089297e",
   "metadata": {},
   "outputs": [
    {
     "name": "stderr",
     "output_type": "stream",
     "text": [
      "22/12/17 16:17:25 WARN TaskSetManager: Stage 1818 contains a task of very large size (1156 KiB). The maximum recommended task size is 1000 KiB.\n",
      "22/12/17 16:17:25 WARN TaskSetManager: Stage 1819 contains a task of very large size (1156 KiB). The maximum recommended task size is 1000 KiB.\n",
      "22/12/17 16:17:25 WARN TaskSetManager: Stage 1820 contains a task of very large size (1156 KiB). The maximum recommended task size is 1000 KiB.\n",
      "22/12/17 16:17:25 WARN TaskSetManager: Stage 1821 contains a task of very large size (1156 KiB). The maximum recommended task size is 1000 KiB.\n",
      "22/12/17 16:17:25 WARN TaskSetManager: Stage 1822 contains a task of very large size (1156 KiB). The maximum recommended task size is 1000 KiB.\n"
     ]
    }
   ],
   "source": [
    "C1 = round((r.stat.corr('median_house_value','total_rooms')),2)\n",
    "C2 = round((r.stat.corr('median_house_value','total_bedrooms')),2)\n",
    "C3 = round((r.stat.corr('median_house_value','population')),2)\n",
    "C4 = round((r.stat.corr('median_house_value','households')),2)\n",
    "C5 = round((r.stat.corr('median_house_value','median_income')),2)"
   ]
  },
  {
   "cell_type": "code",
   "execution_count": 899,
   "id": "b85ad17d",
   "metadata": {},
   "outputs": [
    {
     "data": {
      "image/png": "[encoded data removed]",
      "text/plain": [
       "<Figure size 576x360 with 1 Axes>"
      ]
     },
     "metadata": {
      "needs_background": "light"
     },
     "output_type": "display_data"
    }
   ],
   "source": [
    "l = pd.DataFrame({'total_rooms': C1, 'total_bedrooms': C2,'population': C3, 'households': C4, 'median_income': C5,},\n",
    "                 index = [''])\n",
    "ax = l.plot.bar(ylim=(-0.1, 1), title='Корреляция целевого признака и признаков', figsize=(8, 5), grid=True,)"
   ]
  },
  {
   "cell_type": "markdown",
   "id": "6affb587",
   "metadata": {},
   "source": [
    "Наиболее высокая (0.69) положительная корреляция наблюдается между  медианной стоимостью жилого дома и медианным доходом жителей жилого массива. Зависимость стоимости жилья от таких признаков как количество комнат, спален и домовладений также положителная, но незначительная. Между численностью населения и стоимостью жилья отмечается невысокая, но обратная пропорция. "
   ]
  },
  {
   "cell_type": "markdown",
   "id": "2d45be15",
   "metadata": {},
   "source": [
    "## Обучение моделей"
   ]
  },
  {
   "cell_type": "markdown",
   "id": "9511cbec",
   "metadata": {},
   "source": [
    "Выделяем признаки (отдельно категориальные и количественные) и целевой признак."
   ]
  },
  {
   "cell_type": "code",
   "execution_count": 900,
   "id": "7d33d12d",
   "metadata": {},
   "outputs": [],
   "source": [
    "categorical_cols = ['ocean_proximity']\n",
    "numerical_cols  = [\"housing_median_age\", \"total_rooms\", \"total_bedrooms\", \"population\", \"households\", \"median_income\"]\n",
    "target = \"median_house_value\""
   ]
  },
  {
   "cell_type": "markdown",
   "id": "9c6effa2",
   "metadata": {},
   "source": [
    "Разделим исходный датасет на обучающую и тестовую выборки в соотношении 4 : 1."
   ]
  },
  {
   "cell_type": "code",
   "execution_count": 901,
   "id": "aa16f7cc",
   "metadata": {},
   "outputs": [
    {
     "name": "stdout",
     "output_type": "stream",
     "text": [
      "16519 4121\n"
     ]
    }
   ],
   "source": [
    "train_housing, test_housing = df_housing.randomSplit([.8,.2], seed=RANDOM_SEED)\n",
    "print(train_housing.count(),test_housing.count())"
   ]
  },
  {
   "cell_type": "markdown",
   "id": "d90d3023",
   "metadata": {},
   "source": [
    "### Обучение модели на всех признаках"
   ]
  },
  {
   "cell_type": "markdown",
   "id": "2ddbd756",
   "metadata": {},
   "source": [
    "Подготовим для обучения модели признаки обучающей выборки"
   ]
  },
  {
   "cell_type": "markdown",
   "id": "ac33d5f5",
   "metadata": {},
   "source": [
    "Трансформируем категориальный признак 'ocean_proximity' с помощью трансформера StringIndexer"
   ]
  },
  {
   "cell_type": "code",
   "execution_count": 902,
   "id": "0706cfcc",
   "metadata": {},
   "outputs": [],
   "source": [
    "indexer = StringIndexer(inputCols=categorical_cols, outputCols= [c+'_idx' for c in categorical_cols])\n",
    "train_housing = indexer.fit(train_housing).transform(train_housing)"
   ]
  },
  {
   "cell_type": "markdown",
   "id": "3947e923",
   "metadata": {},
   "source": [
    "Дополнительно применяем к нему OHE-кодирование с помощью OneHotEncoder."
   ]
  },
  {
   "cell_type": "code",
   "execution_count": 903,
   "id": "3f773dee",
   "metadata": {},
   "outputs": [],
   "source": [
    "encoder = OneHotEncoder(inputCols= [c+'_idx' for c in categorical_cols\n",
    "                                   ], outputCols=[c+'_ohe' for c in categorical_cols])\n",
    "train_housing = encoder.fit(train_housing).transform(train_housing)"
   ]
  },
  {
   "cell_type": "markdown",
   "id": "93b4b746",
   "metadata": {},
   "source": [
    "Создадим вектор c категориальным признаком."
   ]
  },
  {
   "cell_type": "code",
   "execution_count": 904,
   "id": "930e530b",
   "metadata": {},
   "outputs": [],
   "source": [
    "categorical_assembler = VectorAssembler(inputCols=[c+'_ohe' for c in categorical_cols\n",
    "                                                  ], outputCol=\"categorical_features\")\n",
    "\n",
    "train_housing = categorical_assembler.transform(train_housing)"
   ]
  },
  {
   "cell_type": "markdown",
   "id": "642f6f1f",
   "metadata": {},
   "source": [
    "Создадим вектор количественных признаков и также их трансформируем."
   ]
  },
  {
   "cell_type": "code",
   "execution_count": 905,
   "id": "d56c7598",
   "metadata": {},
   "outputs": [],
   "source": [
    "numerical_assembler = VectorAssembler(inputCols=numerical_cols, outputCol=\"numerical_features\")\n",
    "train_housing = numerical_assembler.transform(train_housing)\n",
    "\n",
    "scaler = StandardScaler(inputCol='numerical_features', outputCol=\"numerical_features_scaled\")\n",
    "train_housing = scaler.fit(train_housing).transform(train_housing)"
   ]
  },
  {
   "cell_type": "markdown",
   "id": "d3b1196d",
   "metadata": {},
   "source": [
    "Создадим вектор всех признаков, которые будем передавать модели для предсказаний целевого признака, и посмотрим на результат всех трансформаций."
   ]
  },
  {
   "cell_type": "code",
   "execution_count": 906,
   "id": "35a244be",
   "metadata": {},
   "outputs": [],
   "source": [
    "all_features = ['categorical_features','numerical_features_scaled']\n",
    "\n",
    "final_assembler = VectorAssembler(inputCols=all_features, outputCol=\"features\") \n",
    "train_housing = final_assembler.transform(train_housing)"
   ]
  },
  {
   "cell_type": "code",
   "execution_count": 907,
   "id": "65109cf8",
   "metadata": {},
   "outputs": [
    {
     "name": "stdout",
     "output_type": "stream",
     "text": [
      "root\n",
      " |-- longitude: double (nullable = true)\n",
      " |-- latitude: double (nullable = true)\n",
      " |-- housing_median_age: double (nullable = true)\n",
      " |-- total_rooms: double (nullable = true)\n",
      " |-- total_bedrooms: double (nullable = false)\n",
      " |-- population: double (nullable = true)\n",
      " |-- households: double (nullable = true)\n",
      " |-- median_income: double (nullable = true)\n",
      " |-- median_house_value: double (nullable = true)\n",
      " |-- ocean_proximity: string (nullable = true)\n",
      " |-- ocean_proximity_idx: double (nullable = false)\n",
      " |-- ocean_proximity_ohe: vector (nullable = true)\n",
      " |-- categorical_features: vector (nullable = true)\n",
      " |-- numerical_features: vector (nullable = true)\n",
      " |-- numerical_features_scaled: vector (nullable = true)\n",
      " |-- features: vector (nullable = true)\n",
      "\n",
      "+--------------------+-------------------------+--------------------+\n",
      "|categorical_features|numerical_features_scaled|            features|\n",
      "+--------------------+-------------------------+--------------------+\n",
      "|       (4,[2],[1.0])|     [4.13699692929668...|[0.0,0.0,1.0,0.0,...|\n",
      "|       (4,[2],[1.0])|     [1.51159503185840...|[0.0,0.0,1.0,0.0,...|\n",
      "|       (4,[2],[1.0])|     [1.35247976534699...|[0.0,0.0,1.0,0.0,...|\n",
      "+--------------------+-------------------------+--------------------+\n",
      "only showing top 3 rows\n",
      "\n"
     ]
    }
   ],
   "source": [
    "train_housing.printSchema()\n",
    "train_housing.select('categorical_features','numerical_features_scaled', 'features').show(3) "
   ]
  },
  {
   "cell_type": "markdown",
   "id": "db1e3667",
   "metadata": {},
   "source": [
    "Аналогичный алгоритм трансформаций применим к тестовой выборке "
   ]
  },
  {
   "cell_type": "code",
   "execution_count": 908,
   "id": "e65299f3",
   "metadata": {},
   "outputs": [],
   "source": [
    "test_housing = indexer.fit(test_housing).transform(test_housing)\n",
    "\n",
    "test_housing = encoder.fit(test_housing).transform(test_housing)\n",
    "\n",
    "test_housing = categorical_assembler.transform(test_housing)\n",
    "\n",
    "test_housing = numerical_assembler.transform(test_housing)\n",
    "\n",
    "test_housing = scaler.fit(test_housing).transform(test_housing)\n",
    "\n",
    "test_housing = final_assembler.transform(test_housing)"
   ]
  },
  {
   "cell_type": "code",
   "execution_count": 909,
   "id": "459cc49f",
   "metadata": {},
   "outputs": [
    {
     "name": "stdout",
     "output_type": "stream",
     "text": [
      "root\n",
      " |-- longitude: double (nullable = true)\n",
      " |-- latitude: double (nullable = true)\n",
      " |-- housing_median_age: double (nullable = true)\n",
      " |-- total_rooms: double (nullable = true)\n",
      " |-- total_bedrooms: double (nullable = false)\n",
      " |-- population: double (nullable = true)\n",
      " |-- households: double (nullable = true)\n",
      " |-- median_income: double (nullable = true)\n",
      " |-- median_house_value: double (nullable = true)\n",
      " |-- ocean_proximity: string (nullable = true)\n",
      " |-- ocean_proximity_idx: double (nullable = false)\n",
      " |-- ocean_proximity_ohe: vector (nullable = true)\n",
      " |-- categorical_features: vector (nullable = true)\n",
      " |-- numerical_features: vector (nullable = true)\n",
      " |-- numerical_features_scaled: vector (nullable = true)\n",
      " |-- features: vector (nullable = true)\n",
      "\n",
      "+--------------------+-------------------------+--------------------+\n",
      "|categorical_features|numerical_features_scaled|            features|\n",
      "+--------------------+-------------------------+--------------------+\n",
      "|       (4,[2],[1.0])|     [2.21403010033479...|[0.0,0.0,1.0,0.0,...|\n",
      "|       (4,[2],[1.0])|     [2.68846512183511...|[0.0,0.0,1.0,0.0,...|\n",
      "|       (4,[2],[1.0])|     [4.11177018633605...|[0.0,0.0,1.0,0.0,...|\n",
      "+--------------------+-------------------------+--------------------+\n",
      "only showing top 3 rows\n",
      "\n"
     ]
    }
   ],
   "source": [
    "test_housing.printSchema()\n",
    "test_housing.select('categorical_features','numerical_features_scaled', 'features').show(3)"
   ]
  },
  {
   "cell_type": "markdown",
   "id": "be865601",
   "metadata": {},
   "source": [
    "Построим модель с использованием оценщика LinearRegression, передав ему вектор всех признаков 'features' и целевой признак 'median_house_value'. Выведем таблицу с целевым признаком и предсказаниями модели."
   ]
  },
  {
   "cell_type": "code",
   "execution_count": 910,
   "id": "169d6c87",
   "metadata": {},
   "outputs": [
    {
     "name": "stderr",
     "output_type": "stream",
     "text": [
      "22/12/17 16:17:27 WARN Instrumentation: [6f941021] regParam is zero, which might cause numerical instability and overfitting.\n"
     ]
    }
   ],
   "source": [
    "lr = LinearRegression(labelCol=target, featuresCol='features')\n",
    "\n",
    "AllModel = lr.fit(train_housing) "
   ]
  },
  {
   "cell_type": "code",
   "execution_count": 911,
   "id": "889bd571",
   "metadata": {},
   "outputs": [
    {
     "name": "stdout",
     "output_type": "stream",
     "text": [
      "+------------------+------------------+\n",
      "|median_house_value|        prediction|\n",
      "+------------------+------------------+\n",
      "|           78300.0| 176910.3931115353|\n",
      "|           67000.0|178847.40572768525|\n",
      "|           62500.0|193942.97375679715|\n",
      "|          100600.0|221603.00523720618|\n",
      "|          104200.0| 229561.9327908903|\n",
      "+------------------+------------------+\n",
      "only showing top 5 rows\n",
      "\n"
     ]
    }
   ],
   "source": [
    "predictionsAll = AllModel.transform(test_housing)\n",
    "predictionsAll.select(\"median_house_value\", \"prediction\").show(5)"
   ]
  },
  {
   "cell_type": "markdown",
   "id": "a80a04f0",
   "metadata": {},
   "source": [
    "Выводим метрики качества"
   ]
  },
  {
   "cell_type": "code",
   "execution_count": 912,
   "id": "b23ad270",
   "metadata": {},
   "outputs": [
    {
     "name": "stdout",
     "output_type": "stream",
     "text": [
      "R2:  0.64\n",
      "RMSE:  70309\n",
      "MAE:  51738\n"
     ]
    }
   ],
   "source": [
    "A = round((RegressionEvaluator(labelCol='median_house_value', metricName='r2').evaluate(predictionsAll)),2)\n",
    "B = round(RegressionEvaluator(labelCol='median_house_value', metricName='rmse').evaluate(predictionsAll))\n",
    "C = round(RegressionEvaluator(labelCol='median_house_value', metricName='mae').evaluate(predictionsAll))\n",
    "print('R2: ', A)\n",
    "print('RMSE: ', B)\n",
    "print('MAE: ', C)"
   ]
  },
  {
   "cell_type": "markdown",
   "id": "62d08b21",
   "metadata": {},
   "source": [
    "### Обучение на количественных признаках"
   ]
  },
  {
   "cell_type": "markdown",
   "id": "52fdb3ce",
   "metadata": {},
   "source": [
    "Создаем вектор количественных признаков "
   ]
  },
  {
   "cell_type": "code",
   "execution_count": 913,
   "id": "0d011c17",
   "metadata": {},
   "outputs": [],
   "source": [
    "numerical_assembler_num = VectorAssembler(inputCols= (\"housing_median_age\", \"total_rooms\", \"total_bedrooms\", \n",
    "                                    \"population\", \"households\", \"median_income\"), outputCol=\"NVfeatures\") "
   ]
  },
  {
   "cell_type": "markdown",
   "id": "83039ecb",
   "metadata": {},
   "source": [
    "Стандартизируем данные на учебной выборке, трансформируем их и выводим результат трансформации количественных признаков"
   ]
  },
  {
   "cell_type": "code",
   "execution_count": 914,
   "id": "173322c7",
   "metadata": {},
   "outputs": [
    {
     "name": "stdout",
     "output_type": "stream",
     "text": [
      "+--------------------+\n",
      "|   NVfeatures_scaled|\n",
      "+--------------------+\n",
      "|[4.13699692929668...|\n",
      "|[1.51159503185840...|\n",
      "|[1.35247976534699...|\n",
      "+--------------------+\n",
      "only showing top 3 rows\n",
      "\n"
     ]
    }
   ],
   "source": [
    "train_housing_num = numerical_assembler_num.transform(train_housing)\n",
    "\n",
    "scaler = StandardScaler(inputCol='NVfeatures', outputCol=\"NVfeatures_scaled\")\n",
    "train_housing_num = scaler.fit(train_housing_num).transform(train_housing_num)\n",
    "\n",
    "train_housing_num.select('NVfeatures_scaled').show(3) "
   ]
  },
  {
   "cell_type": "markdown",
   "id": "f57f7a31",
   "metadata": {},
   "source": [
    "Аналогичную трансформацию проделываем на тестовой выборке"
   ]
  },
  {
   "cell_type": "code",
   "execution_count": 915,
   "id": "9d69b16c",
   "metadata": {},
   "outputs": [
    {
     "name": "stdout",
     "output_type": "stream",
     "text": [
      "+--------------------+\n",
      "|   NVfeatures_scaled|\n",
      "+--------------------+\n",
      "|[2.21403010033479...|\n",
      "|[2.68846512183511...|\n",
      "|[4.11177018633605...|\n",
      "+--------------------+\n",
      "only showing top 3 rows\n",
      "\n"
     ]
    }
   ],
   "source": [
    "test_housing_num = numerical_assembler_num.transform(test_housing)\n",
    "\n",
    "test_housing_num = scaler.fit(test_housing_num).transform(test_housing_num)\n",
    "\n",
    "test_housing_num.select('NVfeatures_scaled').show(3) "
   ]
  },
  {
   "cell_type": "markdown",
   "id": "f2ebb6d0",
   "metadata": {},
   "source": [
    "Обучаем модель на учебной выборке и получаем предсказания на тестовой"
   ]
  },
  {
   "cell_type": "code",
   "execution_count": 916,
   "id": "4f85f9b2",
   "metadata": {},
   "outputs": [
    {
     "name": "stderr",
     "output_type": "stream",
     "text": [
      "22/12/17 16:17:29 WARN Instrumentation: [fe06592a] regParam is zero, which might cause numerical instability and overfitting.\n"
     ]
    },
    {
     "name": "stdout",
     "output_type": "stream",
     "text": [
      "+------------------+------------------+\n",
      "|median_house_value|        prediction|\n",
      "+------------------+------------------+\n",
      "|           78300.0|133550.01116977754|\n",
      "|           67000.0|136916.14967998682|\n",
      "|           62500.0|162424.29447972262|\n",
      "|          100600.0|179673.83394803246|\n",
      "|          104200.0|195550.92712472443|\n",
      "+------------------+------------------+\n",
      "only showing top 5 rows\n",
      "\n"
     ]
    }
   ],
   "source": [
    "lrNum = LinearRegression(labelCol=target, featuresCol='NVfeatures_scaled')\n",
    "\n",
    "NumModel = lrNum.fit(train_housing_num)\n",
    "\n",
    "predictionsNum = NumModel.transform(test_housing_num)\n",
    "predictionsNum.select(\"median_house_value\", \"prediction\").show(5)"
   ]
  },
  {
   "cell_type": "markdown",
   "id": "badd3b28",
   "metadata": {},
   "source": [
    "Выводим метрики качества"
   ]
  },
  {
   "cell_type": "code",
   "execution_count": 917,
   "id": "74ff61b2",
   "metadata": {},
   "outputs": [
    {
     "name": "stdout",
     "output_type": "stream",
     "text": [
      "R2:  0.56\n",
      "RMSE:  76772\n",
      "MAE:  57426\n"
     ]
    }
   ],
   "source": [
    "D = round((RegressionEvaluator(labelCol='median_house_value', metricName='r2').evaluate(predictionsNum)),2)\n",
    "E = round(RegressionEvaluator(labelCol='median_house_value', metricName='rmse').evaluate(predictionsNum))\n",
    "F = round(RegressionEvaluator(labelCol='median_house_value', metricName='mae').evaluate(predictionsNum))\n",
    "print('R2: ', D)\n",
    "print('RMSE: ', E)\n",
    "print('MAE: ', F)"
   ]
  },
  {
   "cell_type": "markdown",
   "id": "2b7a3208",
   "metadata": {
    "id": "757fd103"
   },
   "source": [
    "# Анализ результатов"
   ]
  },
  {
   "cell_type": "markdown",
   "id": "aa58aefa",
   "metadata": {},
   "source": [
    "Для анализа метрик качества моделей создадим датафрейм. "
   ]
  },
  {
   "cell_type": "code",
   "execution_count": 918,
   "id": "a066a248",
   "metadata": {},
   "outputs": [
    {
     "name": "stdout",
     "output_type": "stream",
     "text": [
      "root\n",
      " |-- model: string (nullable = true)\n",
      " |-- R2: double (nullable = true)\n",
      " |-- RMSE: long (nullable = true)\n",
      " |-- MAE: long (nullable = true)\n",
      "\n",
      "+----------+----+-----+-----+\n",
      "|     model|  R2| RMSE|  MAE|\n",
      "+----------+----+-----+-----+\n",
      "| model_all|0.64|70309|51738|\n",
      "|model_numb|0.56|76772|57426|\n",
      "+----------+----+-----+-----+\n",
      "\n"
     ]
    }
   ],
   "source": [
    "df = spark.createDataFrame([('model_all', A, B, C),('model_numb', D, E, F)], ['model','R2','RMSE','MAE'])\n",
    "df.printSchema()\n",
    "df.show()"
   ]
  },
  {
   "cell_type": "markdown",
   "id": "ca15bfb8",
   "metadata": {},
   "source": [
    "Для оценки метрик не только между моделями, но и в сравнении с описательными статистиками целевого признака выведем их на экран. "
   ]
  },
  {
   "cell_type": "code",
   "execution_count": 919,
   "id": "9634ea13",
   "metadata": {},
   "outputs": [
    {
     "name": "stdout",
     "output_type": "stream",
     "text": [
      "+-------+------------------+\n",
      "|summary|median_house_value|\n",
      "+-------+------------------+\n",
      "|  count|             20640|\n",
      "|   mean|206855.81690891474|\n",
      "| stddev|115395.61587441359|\n",
      "|    min|           14999.0|\n",
      "|    max|          500001.0|\n",
      "+-------+------------------+\n",
      "\n"
     ]
    }
   ],
   "source": [
    "df_housing.select('median_house_value').describe().show()"
   ]
  },
  {
   "cell_type": "markdown",
   "id": "ef5996de",
   "metadata": {},
   "source": [
    "Метрика для оценки качества модели регрессии RMSE (корень из среднеквадратичной ошибки) показывает насколько сильно правильный ответ отличается от предсказания, то есть, чем меньше значение, тем более предпочтительной является модель. RMSE model_all (70309) меньше RMSE model_numb (76772), значит по этому показателю приоритет у модели, построенной на всех признаках."
   ]
  },
  {
   "cell_type": "markdown",
   "id": "18414d00",
   "metadata": {},
   "source": [
    "Значение MAE (среднее абсолютное отклонение значения предсказания от значения целевого признака) модели, построенной на всех признаках, ниже MAE модели, обученной только на количественных признаках (51738 и 57426 соответственно), что также говорит в пользу model_all."
   ]
  },
  {
   "cell_type": "code",
   "execution_count": 920,
   "id": "90689901",
   "metadata": {},
   "outputs": [
    {
     "data": {
      "image/png": "[encoded data removed]",
      "text/plain": [
       "<Figure size 720x288 with 1 Axes>"
      ]
     },
     "metadata": {
      "needs_background": "light"
     },
     "output_type": "display_data"
    }
   ],
   "source": [
    "q = df.toPandas()[['model', 'RMSE', 'MAE']].pivot_table(index='model', values=['RMSE','MAE'])\n",
    "ax = q.plot(grid=True, kind='bar', title='Сравнение метрик моделей', color = ['purple', 'pink'], figsize=(10, 4))"
   ]
  },
  {
   "cell_type": "markdown",
   "id": "c65b14f0",
   "metadata": {},
   "source": [
    "Кроме того, значения RMSE и MAE обеих моделей для данных целевого признака в диапазоне от 14999 до 500001 и mean=206856 смотрятся не такими уж большими, что свидетельствует об их жизнеспособности."
   ]
  },
  {
   "cell_type": "markdown",
   "id": "44db1cd5",
   "metadata": {},
   "source": [
    "Метрика качества регрессии R2 (коэффициент детерминации), которая рассчитывается путем вычитания из единицы доли  среднеквадратичной ошибки модели от MSE среднего, в хорошей модели должна стремиться к 1. В наших моделях она выше у модели, обученной на всех признаках (0.64), что свидетельствует о ее более высоком качестве по сравнению с моделью model_numb (0.56)"
   ]
  },
  {
   "cell_type": "markdown",
   "id": "b8eed3a8",
   "metadata": {},
   "source": [
    "# Финальный вывод"
   ]
  },
  {
   "cell_type": "markdown",
   "id": "b6275cfe",
   "metadata": {},
   "source": [
    "В соответствии с условием проекта мы построили две модели линейной регрессии, предсказывающие медианную стоимость дома в жилом массиве на данных о жилье в Калифорнии в 1990 году (https://www.kaggle.com/bhavinmoriya/introduction-to-pyspark/data). \n",
    "\n",
    "Целевым признаком для моделей избран \"median_house_value\". Данные, которые передавались моделям в качестве признаков, за исключением 1, содержали количественные значения. Из числа признаков были исключены \"longitude\", \"latitude\" и \n",
    "\"housing_median_age\" как не влияющие на формирование стоимости жилья.\n",
    "  \n",
    "Изучением зависимости признаков и целевого признака установлено, что наиболее высокая (0.69) положительная корреляция наблюдается между медианной стоимостью жилого дома и медианным доходом жителей жилого массива. Зависимость стоимости жилья от таких признаков как количество комнат, спален и домовладений также положителная, но незначительная. Между численностью населения и стоимостью жилья отмечается невысокая, но обратная пропорция.  \n",
    "\n",
    "Для обучения моделей использован фреймворк Spark, посредством которого также были подготовлены данные: преобразован категориальный признак, в том числе техникой One hot encoding. Масштабированы численные данные, созданы векторы признаков, которые переданы оценщику.\n",
    "\n",
    "Первая модель model_all обучена на категориальных и количественных признаках датафрейма, вторая модель model_numb - только на количественных.\n",
    "\n",
    "Для оценки качества моделей применены метрики RMSE, MAE и R2.\n",
    "\n",
    "Все метрики качества моделей говорят в пользу модели model_all, обученной на всех признаках (количественных и категориальных).  Метрики RMSE и MAE у данной модели ниже чем у model_numb, для построения которой передавался только вектор количественных признаков.\n",
    "\n",
    "Кроме того, значения RMSE и MAE обеих моделей (68736 и 50037 соответственно для model_all и 75010 и 55802 для model_numb) для данных целевого признака в диапазоне от 14999 до 500001 и mean=206856 смотрятся не такими уж большими, что свидетельствует об их жизнеспособности.\n",
    "\n",
    "Метрика качества регрессии R2, которая в хорошей модели должна стремиться к 1, также выше у модели, обученной на всех признаках (0.64), что свидетельствует о ее более высоком качестве по сравнению с моделью model_numb (0.57).\n",
    "\n",
    "Таким образом, в качестве модели для предсказаний медианной стоимости дома в жилом массиве на данных о жилье в Калифорнии предлагается модель линейной регрессии model_all, обученная на количественных и категориальных признаках, имеющая наиболее лучшие метрики качества."
   ]
  }
 ],
 "metadata": {
  "ExecuteTimeLog": [
   {
    "duration": 15699,
    "start_time": "2022-12-09T12:29:46.853Z"
   },
   {
    "duration": 8056,
    "start_time": "2022-12-09T12:31:32.261Z"
   },
   {
    "duration": 677,
    "start_time": "2022-12-09T12:34:10.241Z"
   },
   {
    "duration": 5,
    "start_time": "2022-12-09T12:34:38.310Z"
   },
   {
    "duration": 827,
    "start_time": "2022-12-09T12:34:38.317Z"
   },
   {
    "duration": 72,
    "start_time": "2022-12-09T12:34:39.146Z"
   },
   {
    "duration": 5,
    "start_time": "2022-12-09T12:35:00.460Z"
   },
   {
    "duration": 759,
    "start_time": "2022-12-09T12:35:00.467Z"
   },
   {
    "duration": 298,
    "start_time": "2022-12-09T12:35:01.228Z"
   },
   {
    "duration": 10,
    "start_time": "2022-12-09T13:45:30.516Z"
   },
   {
    "duration": 4,
    "start_time": "2022-12-09T13:47:31.452Z"
   },
   {
    "duration": 3,
    "start_time": "2022-12-09T13:49:42.984Z"
   },
   {
    "duration": 64,
    "start_time": "2022-12-09T13:54:22.888Z"
   },
   {
    "duration": 4,
    "start_time": "2022-12-09T13:55:58.700Z"
   },
   {
    "duration": 7,
    "start_time": "2022-12-09T13:56:08.696Z"
   },
   {
    "duration": 4,
    "start_time": "2022-12-09T13:56:23.597Z"
   },
   {
    "duration": 840,
    "start_time": "2022-12-09T13:56:23.603Z"
   },
   {
    "duration": 6,
    "start_time": "2022-12-09T13:56:24.445Z"
   },
   {
    "duration": 14,
    "start_time": "2022-12-09T13:56:24.517Z"
   },
   {
    "duration": 0,
    "start_time": "2022-12-09T13:56:24.533Z"
   },
   {
    "duration": 0,
    "start_time": "2022-12-09T13:56:24.535Z"
   },
   {
    "duration": 198,
    "start_time": "2022-12-09T13:59:20.388Z"
   },
   {
    "duration": 54,
    "start_time": "2022-12-09T14:02:42.210Z"
   },
   {
    "duration": 43,
    "start_time": "2022-12-09T14:02:59.320Z"
   },
   {
    "duration": 44,
    "start_time": "2022-12-09T14:03:39.267Z"
   },
   {
    "duration": 61,
    "start_time": "2022-12-09T14:03:48.240Z"
   },
   {
    "duration": 4,
    "start_time": "2022-12-09T14:03:52.183Z"
   },
   {
    "duration": 555,
    "start_time": "2022-12-09T14:03:52.189Z"
   },
   {
    "duration": 70,
    "start_time": "2022-12-09T14:03:52.746Z"
   },
   {
    "duration": 126,
    "start_time": "2022-12-09T14:03:52.818Z"
   },
   {
    "duration": 0,
    "start_time": "2022-12-09T14:03:52.946Z"
   },
   {
    "duration": 0,
    "start_time": "2022-12-09T14:03:52.947Z"
   },
   {
    "duration": 0,
    "start_time": "2022-12-09T14:03:52.949Z"
   },
   {
    "duration": 4,
    "start_time": "2022-12-09T14:11:11.710Z"
   },
   {
    "duration": 75,
    "start_time": "2022-12-09T14:11:15.328Z"
   },
   {
    "duration": 1348,
    "start_time": "2022-12-09T14:11:38.781Z"
   },
   {
    "duration": 187,
    "start_time": "2022-12-09T14:14:25.036Z"
   },
   {
    "duration": 131,
    "start_time": "2022-12-09T14:15:23.798Z"
   },
   {
    "duration": 2,
    "start_time": "2022-12-09T14:17:50.784Z"
   },
   {
    "duration": 4,
    "start_time": "2022-12-09T14:18:01.083Z"
   },
   {
    "duration": 206,
    "start_time": "2022-12-09T14:21:26.211Z"
   },
   {
    "duration": 3,
    "start_time": "2022-12-09T14:22:10.907Z"
   },
   {
    "duration": 9,
    "start_time": "2022-12-09T14:22:10.912Z"
   },
   {
    "duration": 497,
    "start_time": "2022-12-09T14:22:10.922Z"
   },
   {
    "duration": 125,
    "start_time": "2022-12-09T14:22:11.420Z"
   },
   {
    "duration": 9,
    "start_time": "2022-12-09T14:29:42.264Z"
   },
   {
    "duration": 3,
    "start_time": "2022-12-09T14:29:56.417Z"
   },
   {
    "duration": 217,
    "start_time": "2022-12-09T14:29:57.322Z"
   },
   {
    "duration": 2,
    "start_time": "2022-12-09T14:30:42.373Z"
   },
   {
    "duration": 13,
    "start_time": "2022-12-09T14:30:42.378Z"
   },
   {
    "duration": 457,
    "start_time": "2022-12-09T14:30:42.393Z"
   },
   {
    "duration": 188,
    "start_time": "2022-12-09T14:30:42.852Z"
   },
   {
    "duration": 3,
    "start_time": "2022-12-09T14:30:43.115Z"
   },
   {
    "duration": 223,
    "start_time": "2022-12-09T14:30:43.120Z"
   },
   {
    "duration": 151,
    "start_time": "2022-12-09T14:31:54.330Z"
   },
   {
    "duration": 8,
    "start_time": "2022-12-09T14:50:52.784Z"
   },
   {
    "duration": 4960,
    "start_time": "2022-12-09T14:54:25.500Z"
   },
   {
    "duration": 2565,
    "start_time": "2022-12-09T14:55:09.710Z"
   },
   {
    "duration": 8,
    "start_time": "2022-12-09T15:01:11.972Z"
   },
   {
    "duration": 376,
    "start_time": "2022-12-09T15:01:28.991Z"
   },
   {
    "duration": 43,
    "start_time": "2022-12-09T15:03:01.109Z"
   },
   {
    "duration": 340,
    "start_time": "2022-12-09T15:03:15.076Z"
   },
   {
    "duration": 3,
    "start_time": "2022-12-09T15:03:26.115Z"
   },
   {
    "duration": 8,
    "start_time": "2022-12-09T15:03:26.120Z"
   },
   {
    "duration": 345,
    "start_time": "2022-12-09T15:03:26.129Z"
   },
   {
    "duration": 4,
    "start_time": "2022-12-09T15:03:26.476Z"
   },
   {
    "duration": 147,
    "start_time": "2022-12-09T15:03:26.482Z"
   },
   {
    "duration": 287,
    "start_time": "2022-12-09T15:03:26.631Z"
   },
   {
    "duration": 322,
    "start_time": "2022-12-09T15:03:26.920Z"
   },
   {
    "duration": 4,
    "start_time": "2022-12-09T15:04:04.561Z"
   },
   {
    "duration": 6,
    "start_time": "2022-12-09T15:04:04.567Z"
   },
   {
    "duration": 383,
    "start_time": "2022-12-09T15:04:04.574Z"
   },
   {
    "duration": 90,
    "start_time": "2022-12-09T15:04:04.959Z"
   },
   {
    "duration": 2168,
    "start_time": "2022-12-09T15:04:05.051Z"
   },
   {
    "duration": 1975,
    "start_time": "2022-12-09T15:04:07.221Z"
   },
   {
    "duration": 197,
    "start_time": "2022-12-09T15:39:54.295Z"
   },
   {
    "duration": 18,
    "start_time": "2022-12-09T15:40:16.585Z"
   },
   {
    "duration": 332,
    "start_time": "2022-12-09T15:40:58.510Z"
   },
   {
    "duration": 179,
    "start_time": "2022-12-09T15:41:31.762Z"
   },
   {
    "duration": 191,
    "start_time": "2022-12-09T15:42:04.041Z"
   },
   {
    "duration": 139,
    "start_time": "2022-12-09T15:44:25.878Z"
   },
   {
    "duration": 192,
    "start_time": "2022-12-09T15:45:54.024Z"
   },
   {
    "duration": 8,
    "start_time": "2022-12-09T15:50:50.348Z"
   },
   {
    "duration": 12,
    "start_time": "2022-12-09T15:53:55.943Z"
   },
   {
    "duration": 14,
    "start_time": "2022-12-09T15:54:14.682Z"
   },
   {
    "duration": 131,
    "start_time": "2022-12-09T15:54:24.601Z"
   },
   {
    "duration": 146,
    "start_time": "2022-12-09T16:01:03.633Z"
   },
   {
    "duration": 192,
    "start_time": "2022-12-09T16:01:56.698Z"
   },
   {
    "duration": 46,
    "start_time": "2022-12-09T16:09:53.522Z"
   },
   {
    "duration": 3,
    "start_time": "2022-12-09T16:10:08.860Z"
   },
   {
    "duration": 9,
    "start_time": "2022-12-09T16:10:08.865Z"
   },
   {
    "duration": 330,
    "start_time": "2022-12-09T16:10:08.875Z"
   },
   {
    "duration": 116,
    "start_time": "2022-12-09T16:10:09.215Z"
   },
   {
    "duration": 1854,
    "start_time": "2022-12-09T16:10:09.333Z"
   },
   {
    "duration": 45,
    "start_time": "2022-12-09T16:10:11.188Z"
   },
   {
    "duration": 0,
    "start_time": "2022-12-09T16:10:11.234Z"
   },
   {
    "duration": 0,
    "start_time": "2022-12-09T16:10:11.235Z"
   },
   {
    "duration": 179,
    "start_time": "2022-12-09T16:10:53.257Z"
   },
   {
    "duration": 140,
    "start_time": "2022-12-09T16:10:59.468Z"
   },
   {
    "duration": 366,
    "start_time": "2022-12-09T16:14:42.429Z"
   },
   {
    "duration": 2,
    "start_time": "2022-12-09T16:16:17.305Z"
   },
   {
    "duration": 5,
    "start_time": "2022-12-09T16:17:05.516Z"
   },
   {
    "duration": 3,
    "start_time": "2022-12-09T16:17:22.904Z"
   },
   {
    "duration": 13,
    "start_time": "2022-12-09T16:17:22.910Z"
   },
   {
    "duration": 396,
    "start_time": "2022-12-09T16:17:22.925Z"
   },
   {
    "duration": 101,
    "start_time": "2022-12-09T16:17:23.323Z"
   },
   {
    "duration": 2407,
    "start_time": "2022-12-09T16:17:23.426Z"
   },
   {
    "duration": 548,
    "start_time": "2022-12-09T16:17:25.834Z"
   },
   {
    "duration": 31,
    "start_time": "2022-12-09T16:17:26.384Z"
   },
   {
    "duration": 3,
    "start_time": "2022-12-09T16:17:26.418Z"
   },
   {
    "duration": 10,
    "start_time": "2022-12-09T16:17:26.422Z"
   },
   {
    "duration": 183,
    "start_time": "2022-12-09T16:17:26.434Z"
   },
   {
    "duration": 10,
    "start_time": "2022-12-09T16:17:26.620Z"
   },
   {
    "duration": 3,
    "start_time": "2022-12-09T16:17:56.603Z"
   },
   {
    "duration": 10,
    "start_time": "2022-12-09T16:17:56.608Z"
   },
   {
    "duration": 239,
    "start_time": "2022-12-09T16:17:56.619Z"
   },
   {
    "duration": 76,
    "start_time": "2022-12-09T16:17:56.861Z"
   },
   {
    "duration": 1521,
    "start_time": "2022-12-09T16:17:56.939Z"
   },
   {
    "duration": 265,
    "start_time": "2022-12-09T16:17:58.462Z"
   },
   {
    "duration": 8,
    "start_time": "2022-12-09T16:17:58.729Z"
   },
   {
    "duration": 9,
    "start_time": "2022-12-09T16:17:58.738Z"
   },
   {
    "duration": 6,
    "start_time": "2022-12-09T16:17:58.748Z"
   },
   {
    "duration": 5,
    "start_time": "2022-12-09T16:17:58.756Z"
   },
   {
    "duration": 10,
    "start_time": "2022-12-09T16:17:58.762Z"
   },
   {
    "duration": 323,
    "start_time": "2022-12-09T16:19:06.016Z"
   },
   {
    "duration": 4,
    "start_time": "2022-12-09T16:19:22.718Z"
   },
   {
    "duration": 6,
    "start_time": "2022-12-09T16:19:22.724Z"
   },
   {
    "duration": 245,
    "start_time": "2022-12-09T16:19:22.731Z"
   },
   {
    "duration": 69,
    "start_time": "2022-12-09T16:19:22.979Z"
   },
   {
    "duration": 1629,
    "start_time": "2022-12-09T16:19:23.050Z"
   },
   {
    "duration": 381,
    "start_time": "2022-12-09T16:19:24.681Z"
   },
   {
    "duration": 0,
    "start_time": "2022-12-09T16:19:25.065Z"
   },
   {
    "duration": 0,
    "start_time": "2022-12-09T16:19:25.066Z"
   },
   {
    "duration": 0,
    "start_time": "2022-12-09T16:19:25.115Z"
   },
   {
    "duration": 0,
    "start_time": "2022-12-09T16:19:25.117Z"
   },
   {
    "duration": 0,
    "start_time": "2022-12-09T16:19:25.118Z"
   },
   {
    "duration": 10,
    "start_time": "2022-12-09T16:20:05.969Z"
   },
   {
    "duration": 3,
    "start_time": "2022-12-09T16:20:12.906Z"
   },
   {
    "duration": 21,
    "start_time": "2022-12-09T16:20:12.911Z"
   },
   {
    "duration": 287,
    "start_time": "2022-12-09T16:20:12.933Z"
   },
   {
    "duration": 45,
    "start_time": "2022-12-09T16:20:13.222Z"
   },
   {
    "duration": 1784,
    "start_time": "2022-12-09T16:20:13.315Z"
   },
   {
    "duration": 483,
    "start_time": "2022-12-09T16:20:15.100Z"
   },
   {
    "duration": 7,
    "start_time": "2022-12-09T16:20:15.585Z"
   },
   {
    "duration": 9,
    "start_time": "2022-12-09T16:20:15.593Z"
   },
   {
    "duration": 22,
    "start_time": "2022-12-09T16:20:15.604Z"
   },
   {
    "duration": 8,
    "start_time": "2022-12-09T16:20:15.628Z"
   },
   {
    "duration": 17,
    "start_time": "2022-12-09T16:20:15.637Z"
   },
   {
    "duration": 1008,
    "start_time": "2022-12-09T16:22:35.219Z"
   },
   {
    "duration": 4,
    "start_time": "2022-12-09T16:23:14.303Z"
   },
   {
    "duration": 9,
    "start_time": "2022-12-09T16:23:14.309Z"
   },
   {
    "duration": 264,
    "start_time": "2022-12-09T16:23:14.320Z"
   },
   {
    "duration": 64,
    "start_time": "2022-12-09T16:23:14.586Z"
   },
   {
    "duration": 1730,
    "start_time": "2022-12-09T16:23:14.654Z"
   },
   {
    "duration": 286,
    "start_time": "2022-12-09T16:23:16.387Z"
   },
   {
    "duration": 7,
    "start_time": "2022-12-09T16:23:16.675Z"
   },
   {
    "duration": 920,
    "start_time": "2022-12-09T16:23:16.717Z"
   },
   {
    "duration": 2,
    "start_time": "2022-12-09T16:23:59.278Z"
   },
   {
    "duration": 13,
    "start_time": "2022-12-09T16:23:59.282Z"
   },
   {
    "duration": 233,
    "start_time": "2022-12-09T16:23:59.296Z"
   },
   {
    "duration": 89,
    "start_time": "2022-12-09T16:23:59.530Z"
   },
   {
    "duration": 1627,
    "start_time": "2022-12-09T16:23:59.621Z"
   },
   {
    "duration": 329,
    "start_time": "2022-12-09T16:24:01.250Z"
   },
   {
    "duration": 9,
    "start_time": "2022-12-09T16:24:01.581Z"
   },
   {
    "duration": 951,
    "start_time": "2022-12-09T16:24:01.591Z"
   },
   {
    "duration": 466,
    "start_time": "2022-12-09T16:25:28.020Z"
   },
   {
    "duration": 8,
    "start_time": "2022-12-09T16:25:36.567Z"
   },
   {
    "duration": 885,
    "start_time": "2022-12-09T16:25:57.966Z"
   },
   {
    "duration": 3,
    "start_time": "2022-12-09T16:26:28.921Z"
   },
   {
    "duration": 10,
    "start_time": "2022-12-09T16:26:47.883Z"
   },
   {
    "duration": 4,
    "start_time": "2022-12-09T16:27:15.613Z"
   },
   {
    "duration": 8,
    "start_time": "2022-12-09T16:27:15.619Z"
   },
   {
    "duration": 327,
    "start_time": "2022-12-09T16:27:15.629Z"
   },
   {
    "duration": 80,
    "start_time": "2022-12-09T16:27:15.958Z"
   },
   {
    "duration": 1687,
    "start_time": "2022-12-09T16:27:16.041Z"
   },
   {
    "duration": 1196,
    "start_time": "2022-12-09T16:27:17.730Z"
   },
   {
    "duration": 4,
    "start_time": "2022-12-09T16:27:18.928Z"
   },
   {
    "duration": 983,
    "start_time": "2022-12-09T16:27:18.933Z"
   },
   {
    "duration": 20,
    "start_time": "2022-12-09T16:28:08.653Z"
   },
   {
    "duration": 3,
    "start_time": "2022-12-09T16:28:13.713Z"
   },
   {
    "duration": 10,
    "start_time": "2022-12-09T16:28:13.719Z"
   },
   {
    "duration": 272,
    "start_time": "2022-12-09T16:28:13.730Z"
   },
   {
    "duration": 53,
    "start_time": "2022-12-09T16:28:14.004Z"
   },
   {
    "duration": 1558,
    "start_time": "2022-12-09T16:28:14.059Z"
   },
   {
    "duration": 1098,
    "start_time": "2022-12-09T16:28:15.619Z"
   },
   {
    "duration": 2,
    "start_time": "2022-12-09T16:28:16.719Z"
   },
   {
    "duration": 13,
    "start_time": "2022-12-09T16:28:45.278Z"
   },
   {
    "duration": 4,
    "start_time": "2022-12-09T16:28:48.886Z"
   },
   {
    "duration": 5,
    "start_time": "2022-12-09T16:28:48.893Z"
   },
   {
    "duration": 327,
    "start_time": "2022-12-09T16:28:48.900Z"
   },
   {
    "duration": 97,
    "start_time": "2022-12-09T16:28:49.228Z"
   },
   {
    "duration": 1625,
    "start_time": "2022-12-09T16:28:49.328Z"
   },
   {
    "duration": 1141,
    "start_time": "2022-12-09T16:28:50.955Z"
   },
   {
    "duration": 12,
    "start_time": "2022-12-09T16:28:52.117Z"
   },
   {
    "duration": 0,
    "start_time": "2022-12-09T16:28:52.131Z"
   },
   {
    "duration": 3,
    "start_time": "2022-12-09T16:30:11.384Z"
   },
   {
    "duration": 9,
    "start_time": "2022-12-09T16:30:11.388Z"
   },
   {
    "duration": 259,
    "start_time": "2022-12-09T16:30:11.399Z"
   },
   {
    "duration": 71,
    "start_time": "2022-12-09T16:30:11.660Z"
   },
   {
    "duration": 1515,
    "start_time": "2022-12-09T16:30:11.733Z"
   },
   {
    "duration": 1119,
    "start_time": "2022-12-09T16:30:13.249Z"
   },
   {
    "duration": 14,
    "start_time": "2022-12-09T16:30:14.369Z"
   },
   {
    "duration": 0,
    "start_time": "2022-12-09T16:30:14.384Z"
   },
   {
    "duration": 3,
    "start_time": "2022-12-09T16:31:55.951Z"
   },
   {
    "duration": 8,
    "start_time": "2022-12-09T16:31:55.956Z"
   },
   {
    "duration": 209,
    "start_time": "2022-12-09T16:31:55.965Z"
   },
   {
    "duration": 66,
    "start_time": "2022-12-09T16:31:56.176Z"
   },
   {
    "duration": 1093,
    "start_time": "2022-12-09T16:31:56.244Z"
   },
   {
    "duration": 12,
    "start_time": "2022-12-09T16:31:57.339Z"
   },
   {
    "duration": 0,
    "start_time": "2022-12-09T16:31:57.353Z"
   },
   {
    "duration": 0,
    "start_time": "2022-12-09T16:31:57.354Z"
   },
   {
    "duration": 3,
    "start_time": "2022-12-09T16:32:34.867Z"
   },
   {
    "duration": 9,
    "start_time": "2022-12-09T16:32:34.872Z"
   },
   {
    "duration": 200,
    "start_time": "2022-12-09T16:32:34.883Z"
   },
   {
    "duration": 57,
    "start_time": "2022-12-09T16:32:35.084Z"
   },
   {
    "duration": 1494,
    "start_time": "2022-12-09T16:32:35.143Z"
   },
   {
    "duration": 1105,
    "start_time": "2022-12-09T16:32:36.639Z"
   },
   {
    "duration": 2,
    "start_time": "2022-12-09T16:32:37.746Z"
   },
   {
    "duration": 346,
    "start_time": "2022-12-09T16:38:48.587Z"
   },
   {
    "duration": 8,
    "start_time": "2022-12-09T16:41:28.654Z"
   },
   {
    "duration": 46,
    "start_time": "2022-12-09T16:41:38.778Z"
   },
   {
    "duration": 3,
    "start_time": "2022-12-09T16:41:54.018Z"
   },
   {
    "duration": 145,
    "start_time": "2022-12-09T16:42:00.599Z"
   },
   {
    "duration": 3,
    "start_time": "2022-12-09T16:42:07.589Z"
   },
   {
    "duration": 20,
    "start_time": "2022-12-09T16:42:07.594Z"
   },
   {
    "duration": 244,
    "start_time": "2022-12-09T16:42:07.615Z"
   },
   {
    "duration": 118,
    "start_time": "2022-12-09T16:42:07.916Z"
   },
   {
    "duration": 1426,
    "start_time": "2022-12-09T16:42:08.037Z"
   },
   {
    "duration": 1076,
    "start_time": "2022-12-09T16:42:09.464Z"
   },
   {
    "duration": 3,
    "start_time": "2022-12-09T16:42:10.541Z"
   },
   {
    "duration": 9,
    "start_time": "2022-12-09T16:49:43.502Z"
   },
   {
    "duration": 2,
    "start_time": "2022-12-09T16:49:47.082Z"
   },
   {
    "duration": 4,
    "start_time": "2022-12-09T16:49:47.093Z"
   },
   {
    "duration": 225,
    "start_time": "2022-12-09T16:49:47.098Z"
   },
   {
    "duration": 49,
    "start_time": "2022-12-09T16:49:47.324Z"
   },
   {
    "duration": 1540,
    "start_time": "2022-12-09T16:49:47.375Z"
   },
   {
    "duration": 69,
    "start_time": "2022-12-09T16:49:48.917Z"
   },
   {
    "duration": 0,
    "start_time": "2022-12-09T16:49:48.988Z"
   },
   {
    "duration": 0,
    "start_time": "2022-12-09T16:49:48.989Z"
   },
   {
    "duration": 3,
    "start_time": "2022-12-09T16:50:39.672Z"
   },
   {
    "duration": 6,
    "start_time": "2022-12-09T16:50:39.677Z"
   },
   {
    "duration": 217,
    "start_time": "2022-12-09T16:50:39.685Z"
   },
   {
    "duration": 49,
    "start_time": "2022-12-09T16:50:39.903Z"
   },
   {
    "duration": 1325,
    "start_time": "2022-12-09T16:50:39.954Z"
   },
   {
    "duration": 480,
    "start_time": "2022-12-09T16:50:41.281Z"
   },
   {
    "duration": 1138,
    "start_time": "2022-12-09T16:50:41.763Z"
   },
   {
    "duration": 2,
    "start_time": "2022-12-09T16:50:42.915Z"
   },
   {
    "duration": 9,
    "start_time": "2022-12-09T16:51:09.433Z"
   },
   {
    "duration": 3,
    "start_time": "2022-12-09T16:51:12.021Z"
   },
   {
    "duration": 9,
    "start_time": "2022-12-09T16:51:12.027Z"
   },
   {
    "duration": 259,
    "start_time": "2022-12-09T16:51:12.037Z"
   },
   {
    "duration": 49,
    "start_time": "2022-12-09T16:51:12.298Z"
   },
   {
    "duration": 1518,
    "start_time": "2022-12-09T16:51:12.348Z"
   },
   {
    "duration": 252,
    "start_time": "2022-12-09T16:51:13.868Z"
   },
   {
    "duration": 1077,
    "start_time": "2022-12-09T16:51:14.122Z"
   },
   {
    "duration": 2,
    "start_time": "2022-12-09T16:51:15.200Z"
   },
   {
    "duration": 4,
    "start_time": "2022-12-09T16:52:21.433Z"
   },
   {
    "duration": 14,
    "start_time": "2022-12-09T16:52:21.438Z"
   },
   {
    "duration": 290,
    "start_time": "2022-12-09T16:52:21.453Z"
   },
   {
    "duration": 71,
    "start_time": "2022-12-09T16:52:21.745Z"
   },
   {
    "duration": 1368,
    "start_time": "2022-12-09T16:52:21.819Z"
   },
   {
    "duration": 273,
    "start_time": "2022-12-09T16:52:23.188Z"
   },
   {
    "duration": 506,
    "start_time": "2022-12-09T16:52:23.463Z"
   },
   {
    "duration": 3,
    "start_time": "2022-12-09T16:52:23.971Z"
   },
   {
    "duration": 9,
    "start_time": "2022-12-09T16:54:33.948Z"
   },
   {
    "duration": 3,
    "start_time": "2022-12-09T16:54:43.941Z"
   },
   {
    "duration": 17,
    "start_time": "2022-12-09T16:54:43.947Z"
   },
   {
    "duration": 210,
    "start_time": "2022-12-09T16:54:43.966Z"
   },
   {
    "duration": 55,
    "start_time": "2022-12-09T16:54:44.179Z"
   },
   {
    "duration": 1638,
    "start_time": "2022-12-09T16:54:44.236Z"
   },
   {
    "duration": 1112,
    "start_time": "2022-12-09T16:54:45.876Z"
   },
   {
    "duration": 26,
    "start_time": "2022-12-09T16:54:46.990Z"
   },
   {
    "duration": 4,
    "start_time": "2022-12-09T16:55:26.576Z"
   },
   {
    "duration": 6,
    "start_time": "2022-12-09T16:55:26.582Z"
   },
   {
    "duration": 222,
    "start_time": "2022-12-09T16:55:26.589Z"
   },
   {
    "duration": 43,
    "start_time": "2022-12-09T16:55:26.814Z"
   },
   {
    "duration": 1310,
    "start_time": "2022-12-09T16:55:26.858Z"
   },
   {
    "duration": 326,
    "start_time": "2022-12-09T16:55:28.170Z"
   },
   {
    "duration": 798,
    "start_time": "2022-12-09T16:55:28.498Z"
   },
   {
    "duration": 18,
    "start_time": "2022-12-09T16:55:29.298Z"
   },
   {
    "duration": 862,
    "start_time": "2022-12-09T16:56:25.664Z"
   },
   {
    "duration": 878,
    "start_time": "2022-12-09T16:56:44.083Z"
   },
   {
    "duration": 3,
    "start_time": "2022-12-09T16:57:04.450Z"
   },
   {
    "duration": 10,
    "start_time": "2022-12-09T16:57:04.454Z"
   },
   {
    "duration": 215,
    "start_time": "2022-12-09T16:57:04.465Z"
   },
   {
    "duration": 65,
    "start_time": "2022-12-09T16:57:04.682Z"
   },
   {
    "duration": 1714,
    "start_time": "2022-12-09T16:57:04.749Z"
   },
   {
    "duration": 328,
    "start_time": "2022-12-09T16:57:06.465Z"
   },
   {
    "duration": 861,
    "start_time": "2022-12-09T16:57:06.794Z"
   },
   {
    "duration": 3,
    "start_time": "2022-12-09T16:57:42.512Z"
   },
   {
    "duration": 8,
    "start_time": "2022-12-09T16:57:42.517Z"
   },
   {
    "duration": 227,
    "start_time": "2022-12-09T16:57:42.527Z"
   },
   {
    "duration": 69,
    "start_time": "2022-12-09T16:57:42.755Z"
   },
   {
    "duration": 1591,
    "start_time": "2022-12-09T16:57:42.827Z"
   },
   {
    "duration": 220,
    "start_time": "2022-12-09T16:57:44.420Z"
   },
   {
    "duration": 815,
    "start_time": "2022-12-09T16:57:44.641Z"
   },
   {
    "duration": 13,
    "start_time": "2022-12-09T16:58:49.060Z"
   },
   {
    "duration": 2,
    "start_time": "2022-12-09T16:58:53.065Z"
   },
   {
    "duration": 14,
    "start_time": "2022-12-09T16:58:53.069Z"
   },
   {
    "duration": 228,
    "start_time": "2022-12-09T16:58:53.085Z"
   },
   {
    "duration": 42,
    "start_time": "2022-12-09T16:58:53.315Z"
   },
   {
    "duration": 1308,
    "start_time": "2022-12-09T16:58:53.359Z"
   },
   {
    "duration": 247,
    "start_time": "2022-12-09T16:58:54.669Z"
   },
   {
    "duration": 822,
    "start_time": "2022-12-09T16:58:54.918Z"
   },
   {
    "duration": 3,
    "start_time": "2022-12-09T16:59:12.278Z"
   },
   {
    "duration": 7,
    "start_time": "2022-12-09T16:59:12.282Z"
   },
   {
    "duration": 208,
    "start_time": "2022-12-09T16:59:12.290Z"
   },
   {
    "duration": 38,
    "start_time": "2022-12-09T16:59:12.500Z"
   },
   {
    "duration": 218,
    "start_time": "2022-12-09T16:59:12.540Z"
   },
   {
    "duration": 278,
    "start_time": "2022-12-09T16:59:12.760Z"
   },
   {
    "duration": 773,
    "start_time": "2022-12-09T16:59:13.039Z"
   },
   {
    "duration": 3,
    "start_time": "2022-12-09T16:59:38.103Z"
   },
   {
    "duration": 7,
    "start_time": "2022-12-09T16:59:38.107Z"
   },
   {
    "duration": 198,
    "start_time": "2022-12-09T16:59:38.115Z"
   },
   {
    "duration": 39,
    "start_time": "2022-12-09T16:59:38.315Z"
   },
   {
    "duration": 236,
    "start_time": "2022-12-09T16:59:38.356Z"
   },
   {
    "duration": 268,
    "start_time": "2022-12-09T16:59:38.593Z"
   },
   {
    "duration": 794,
    "start_time": "2022-12-09T16:59:38.862Z"
   },
   {
    "duration": 3,
    "start_time": "2022-12-09T16:59:46.545Z"
   },
   {
    "duration": 10,
    "start_time": "2022-12-09T16:59:46.550Z"
   },
   {
    "duration": 201,
    "start_time": "2022-12-09T16:59:46.562Z"
   },
   {
    "duration": 103,
    "start_time": "2022-12-09T16:59:46.765Z"
   },
   {
    "duration": 1160,
    "start_time": "2022-12-09T16:59:46.870Z"
   },
   {
    "duration": 318,
    "start_time": "2022-12-09T16:59:48.032Z"
   },
   {
    "duration": 823,
    "start_time": "2022-12-09T16:59:48.352Z"
   },
   {
    "duration": 584,
    "start_time": "2022-12-10T04:14:20.037Z"
   },
   {
    "duration": 15962,
    "start_time": "2022-12-10T04:14:20.623Z"
   },
   {
    "duration": 8849,
    "start_time": "2022-12-10T04:14:36.587Z"
   },
   {
    "duration": 1317,
    "start_time": "2022-12-10T04:14:45.438Z"
   },
   {
    "duration": 6296,
    "start_time": "2022-12-10T04:14:46.758Z"
   },
   {
    "duration": 1096,
    "start_time": "2022-12-10T04:14:53.055Z"
   },
   {
    "duration": 1387,
    "start_time": "2022-12-10T04:14:54.153Z"
   },
   {
    "duration": 71,
    "start_time": "2022-12-10T04:17:30.668Z"
   },
   {
    "duration": 4,
    "start_time": "2022-12-10T04:17:37.676Z"
   },
   {
    "duration": 15,
    "start_time": "2022-12-10T04:17:37.683Z"
   },
   {
    "duration": 870,
    "start_time": "2022-12-10T04:17:37.700Z"
   },
   {
    "duration": 269,
    "start_time": "2022-12-10T04:17:38.572Z"
   },
   {
    "duration": 4291,
    "start_time": "2022-12-10T04:17:38.844Z"
   },
   {
    "duration": 702,
    "start_time": "2022-12-10T04:17:43.137Z"
   },
   {
    "duration": 843,
    "start_time": "2022-12-10T04:17:43.841Z"
   },
   {
    "duration": 9,
    "start_time": "2022-12-10T04:17:44.686Z"
   },
   {
    "duration": 867,
    "start_time": "2022-12-10T04:19:30.876Z"
   },
   {
    "duration": 4,
    "start_time": "2022-12-10T04:20:34.877Z"
   },
   {
    "duration": 21,
    "start_time": "2022-12-10T04:20:34.883Z"
   },
   {
    "duration": 532,
    "start_time": "2022-12-10T04:20:34.906Z"
   },
   {
    "duration": 203,
    "start_time": "2022-12-10T04:20:35.440Z"
   },
   {
    "duration": 2833,
    "start_time": "2022-12-10T04:20:35.645Z"
   },
   {
    "duration": 288,
    "start_time": "2022-12-10T04:20:38.479Z"
   },
   {
    "duration": 496,
    "start_time": "2022-12-10T04:20:38.769Z"
   },
   {
    "duration": 876,
    "start_time": "2022-12-10T04:20:39.267Z"
   },
   {
    "duration": 10,
    "start_time": "2022-12-10T04:20:40.145Z"
   },
   {
    "duration": 8,
    "start_time": "2022-12-10T04:22:18.747Z"
   },
   {
    "duration": 3,
    "start_time": "2022-12-10T04:22:25.487Z"
   },
   {
    "duration": 14,
    "start_time": "2022-12-10T04:22:25.492Z"
   },
   {
    "duration": 431,
    "start_time": "2022-12-10T04:22:25.508Z"
   },
   {
    "duration": 125,
    "start_time": "2022-12-10T04:22:25.941Z"
   },
   {
    "duration": 2625,
    "start_time": "2022-12-10T04:22:26.069Z"
   },
   {
    "duration": 453,
    "start_time": "2022-12-10T04:22:28.696Z"
   },
   {
    "duration": 8,
    "start_time": "2022-12-10T04:22:29.150Z"
   },
   {
    "duration": 0,
    "start_time": "2022-12-10T04:22:29.161Z"
   },
   {
    "duration": 0,
    "start_time": "2022-12-10T04:22:29.162Z"
   },
   {
    "duration": 870,
    "start_time": "2022-12-10T04:22:44.288Z"
   },
   {
    "duration": 864,
    "start_time": "2022-12-10T04:23:23.247Z"
   },
   {
    "duration": 10,
    "start_time": "2022-12-10T04:23:34.060Z"
   },
   {
    "duration": 553,
    "start_time": "2022-12-10T04:23:48.615Z"
   },
   {
    "duration": 3,
    "start_time": "2022-12-10T04:23:54.641Z"
   },
   {
    "duration": 8,
    "start_time": "2022-12-10T04:23:54.647Z"
   },
   {
    "duration": 403,
    "start_time": "2022-12-10T04:23:54.657Z"
   },
   {
    "duration": 101,
    "start_time": "2022-12-10T04:23:55.062Z"
   },
   {
    "duration": 2333,
    "start_time": "2022-12-10T04:23:55.165Z"
   },
   {
    "duration": 435,
    "start_time": "2022-12-10T04:23:57.534Z"
   },
   {
    "duration": 800,
    "start_time": "2022-12-10T04:23:57.971Z"
   },
   {
    "duration": 270,
    "start_time": "2022-12-10T04:23:58.773Z"
   },
   {
    "duration": 3,
    "start_time": "2022-12-10T04:25:49.128Z"
   },
   {
    "duration": 13,
    "start_time": "2022-12-10T04:25:49.133Z"
   },
   {
    "duration": 310,
    "start_time": "2022-12-10T04:25:49.148Z"
   },
   {
    "duration": 99,
    "start_time": "2022-12-10T04:25:49.460Z"
   },
   {
    "duration": 125,
    "start_time": "2022-12-10T04:25:49.636Z"
   },
   {
    "duration": 2125,
    "start_time": "2022-12-10T04:25:49.764Z"
   },
   {
    "duration": 483,
    "start_time": "2022-12-10T04:25:51.890Z"
   },
   {
    "duration": 916,
    "start_time": "2022-12-10T04:25:52.375Z"
   },
   {
    "duration": 173,
    "start_time": "2022-12-10T04:25:53.294Z"
   },
   {
    "duration": 482,
    "start_time": "2022-12-10T04:26:55.412Z"
   },
   {
    "duration": 526,
    "start_time": "2022-12-10T04:27:36.131Z"
   },
   {
    "duration": 229,
    "start_time": "2022-12-10T04:28:03.383Z"
   },
   {
    "duration": 3,
    "start_time": "2022-12-10T04:28:42.658Z"
   },
   {
    "duration": 10,
    "start_time": "2022-12-10T04:28:42.664Z"
   },
   {
    "duration": 268,
    "start_time": "2022-12-10T04:28:42.676Z"
   },
   {
    "duration": 158,
    "start_time": "2022-12-10T04:28:42.946Z"
   },
   {
    "duration": 344,
    "start_time": "2022-12-10T04:28:43.107Z"
   },
   {
    "duration": 1812,
    "start_time": "2022-12-10T04:28:43.453Z"
   },
   {
    "duration": 239,
    "start_time": "2022-12-10T04:28:45.267Z"
   },
   {
    "duration": 830,
    "start_time": "2022-12-10T04:28:45.535Z"
   },
   {
    "duration": 336,
    "start_time": "2022-12-10T04:28:46.366Z"
   },
   {
    "duration": 363,
    "start_time": "2022-12-10T04:28:46.704Z"
   },
   {
    "duration": 10,
    "start_time": "2022-12-10T04:29:50.198Z"
   },
   {
    "duration": 3,
    "start_time": "2022-12-10T04:29:54.026Z"
   },
   {
    "duration": 15,
    "start_time": "2022-12-10T04:29:54.031Z"
   },
   {
    "duration": 272,
    "start_time": "2022-12-10T04:29:54.048Z"
   },
   {
    "duration": 101,
    "start_time": "2022-12-10T04:29:54.322Z"
   },
   {
    "duration": 294,
    "start_time": "2022-12-10T04:29:54.426Z"
   },
   {
    "duration": 1729,
    "start_time": "2022-12-10T04:29:54.722Z"
   },
   {
    "duration": 367,
    "start_time": "2022-12-10T04:29:56.453Z"
   },
   {
    "duration": 886,
    "start_time": "2022-12-10T04:29:56.822Z"
   },
   {
    "duration": 8,
    "start_time": "2022-12-10T04:29:57.709Z"
   },
   {
    "duration": 0,
    "start_time": "2022-12-10T04:29:57.718Z"
   },
   {
    "duration": 3,
    "start_time": "2022-12-10T04:30:48.180Z"
   },
   {
    "duration": 7,
    "start_time": "2022-12-10T04:30:48.185Z"
   },
   {
    "duration": 253,
    "start_time": "2022-12-10T04:30:48.194Z"
   },
   {
    "duration": 93,
    "start_time": "2022-12-10T04:30:48.449Z"
   },
   {
    "duration": 338,
    "start_time": "2022-12-10T04:30:48.544Z"
   },
   {
    "duration": 1717,
    "start_time": "2022-12-10T04:30:48.884Z"
   },
   {
    "duration": 289,
    "start_time": "2022-12-10T04:30:50.602Z"
   },
   {
    "duration": 859,
    "start_time": "2022-12-10T04:30:50.893Z"
   },
   {
    "duration": 382,
    "start_time": "2022-12-10T04:30:51.754Z"
   },
   {
    "duration": 299,
    "start_time": "2022-12-10T04:30:52.138Z"
   },
   {
    "duration": 3,
    "start_time": "2022-12-10T04:33:54.329Z"
   },
   {
    "duration": 37,
    "start_time": "2022-12-10T04:33:54.334Z"
   },
   {
    "duration": 295,
    "start_time": "2022-12-10T04:33:54.373Z"
   },
   {
    "duration": 91,
    "start_time": "2022-12-10T04:33:54.670Z"
   },
   {
    "duration": 501,
    "start_time": "2022-12-10T04:33:54.764Z"
   },
   {
    "duration": 1707,
    "start_time": "2022-12-10T04:33:55.267Z"
   },
   {
    "duration": 265,
    "start_time": "2022-12-10T04:33:56.976Z"
   },
   {
    "duration": 904,
    "start_time": "2022-12-10T04:33:57.243Z"
   },
   {
    "duration": 286,
    "start_time": "2022-12-10T04:33:58.149Z"
   },
   {
    "duration": 3,
    "start_time": "2022-12-10T04:34:26.763Z"
   },
   {
    "duration": 15,
    "start_time": "2022-12-10T04:34:26.769Z"
   },
   {
    "duration": 506,
    "start_time": "2022-12-10T04:34:26.786Z"
   },
   {
    "duration": 73,
    "start_time": "2022-12-10T04:34:27.294Z"
   },
   {
    "duration": 332,
    "start_time": "2022-12-10T04:34:27.369Z"
   },
   {
    "duration": 1797,
    "start_time": "2022-12-10T04:34:27.702Z"
   },
   {
    "duration": 308,
    "start_time": "2022-12-10T04:34:29.501Z"
   },
   {
    "duration": 848,
    "start_time": "2022-12-10T04:34:29.810Z"
   },
   {
    "duration": 402,
    "start_time": "2022-12-10T04:34:30.660Z"
   },
   {
    "duration": 286,
    "start_time": "2022-12-10T06:26:20.343Z"
   },
   {
    "duration": 4,
    "start_time": "2022-12-10T06:31:47.540Z"
   },
   {
    "duration": 15,
    "start_time": "2022-12-10T06:31:47.546Z"
   },
   {
    "duration": 10,
    "start_time": "2022-12-10T06:31:47.562Z"
   },
   {
    "duration": 463,
    "start_time": "2022-12-10T06:31:47.573Z"
   },
   {
    "duration": 3,
    "start_time": "2022-12-10T06:31:48.038Z"
   },
   {
    "duration": 121,
    "start_time": "2022-12-10T06:31:48.042Z"
   },
   {
    "duration": 339,
    "start_time": "2022-12-10T06:31:48.165Z"
   },
   {
    "duration": 1812,
    "start_time": "2022-12-10T06:31:48.507Z"
   },
   {
    "duration": 301,
    "start_time": "2022-12-10T06:31:50.336Z"
   },
   {
    "duration": 837,
    "start_time": "2022-12-10T06:31:50.640Z"
   },
   {
    "duration": 434,
    "start_time": "2022-12-10T06:31:51.479Z"
   },
   {
    "duration": 372,
    "start_time": "2022-12-10T06:34:49.838Z"
   },
   {
    "duration": 3,
    "start_time": "2022-12-10T07:47:23.464Z"
   },
   {
    "duration": 9,
    "start_time": "2022-12-10T07:47:23.469Z"
   },
   {
    "duration": 22,
    "start_time": "2022-12-10T07:47:23.479Z"
   },
   {
    "duration": 357,
    "start_time": "2022-12-10T07:47:23.504Z"
   },
   {
    "duration": 3,
    "start_time": "2022-12-10T07:47:23.863Z"
   },
   {
    "duration": 176,
    "start_time": "2022-12-10T07:47:23.868Z"
   },
   {
    "duration": 403,
    "start_time": "2022-12-10T07:47:24.046Z"
   },
   {
    "duration": 343,
    "start_time": "2022-12-10T07:47:24.450Z"
   },
   {
    "duration": 1746,
    "start_time": "2022-12-10T07:47:24.795Z"
   },
   {
    "duration": 351,
    "start_time": "2022-12-10T07:47:26.543Z"
   },
   {
    "duration": 976,
    "start_time": "2022-12-10T07:47:26.896Z"
   },
   {
    "duration": 347,
    "start_time": "2022-12-10T07:47:27.873Z"
   },
   {
    "duration": 14,
    "start_time": "2022-12-10T07:47:28.222Z"
   },
   {
    "duration": 322,
    "start_time": "2022-12-10T07:58:22.405Z"
   },
   {
    "duration": 4,
    "start_time": "2022-12-10T07:58:26.615Z"
   },
   {
    "duration": 16,
    "start_time": "2022-12-10T07:58:26.620Z"
   },
   {
    "duration": 16,
    "start_time": "2022-12-10T07:58:26.638Z"
   },
   {
    "duration": 269,
    "start_time": "2022-12-10T07:58:26.656Z"
   },
   {
    "duration": 4,
    "start_time": "2022-12-10T07:58:26.927Z"
   },
   {
    "duration": 73,
    "start_time": "2022-12-10T07:58:26.935Z"
   },
   {
    "duration": 377,
    "start_time": "2022-12-10T07:58:27.009Z"
   },
   {
    "duration": 326,
    "start_time": "2022-12-10T07:58:27.387Z"
   },
   {
    "duration": 1700,
    "start_time": "2022-12-10T07:58:27.715Z"
   },
   {
    "duration": 269,
    "start_time": "2022-12-10T07:58:29.417Z"
   },
   {
    "duration": 889,
    "start_time": "2022-12-10T07:58:29.688Z"
   },
   {
    "duration": 339,
    "start_time": "2022-12-10T07:58:30.579Z"
   },
   {
    "duration": 2,
    "start_time": "2022-12-10T07:58:30.920Z"
   },
   {
    "duration": 100,
    "start_time": "2022-12-10T07:58:30.936Z"
   },
   {
    "duration": 4,
    "start_time": "2022-12-10T08:00:21.217Z"
   },
   {
    "duration": 16,
    "start_time": "2022-12-10T08:00:21.223Z"
   },
   {
    "duration": 26,
    "start_time": "2022-12-10T08:00:21.240Z"
   },
   {
    "duration": 399,
    "start_time": "2022-12-10T08:00:21.268Z"
   },
   {
    "duration": 4,
    "start_time": "2022-12-10T08:00:21.670Z"
   },
   {
    "duration": 161,
    "start_time": "2022-12-10T08:00:21.676Z"
   },
   {
    "duration": 356,
    "start_time": "2022-12-10T08:00:21.839Z"
   },
   {
    "duration": 422,
    "start_time": "2022-12-10T08:00:22.197Z"
   },
   {
    "duration": 1542,
    "start_time": "2022-12-10T08:00:22.621Z"
   },
   {
    "duration": 298,
    "start_time": "2022-12-10T08:00:24.165Z"
   },
   {
    "duration": 853,
    "start_time": "2022-12-10T08:00:24.465Z"
   },
   {
    "duration": 387,
    "start_time": "2022-12-10T08:00:25.320Z"
   },
   {
    "duration": 3,
    "start_time": "2022-12-10T08:00:25.708Z"
   },
   {
    "duration": 116,
    "start_time": "2022-12-10T08:00:25.713Z"
   },
   {
    "duration": 74,
    "start_time": "2022-12-10T08:04:41.573Z"
   },
   {
    "duration": 1756,
    "start_time": "2022-12-10T08:06:35.293Z"
   },
   {
    "duration": 476,
    "start_time": "2022-12-10T08:06:53.266Z"
   },
   {
    "duration": 439,
    "start_time": "2022-12-10T08:07:34.936Z"
   },
   {
    "duration": 3,
    "start_time": "2022-12-10T08:07:38.305Z"
   },
   {
    "duration": 16,
    "start_time": "2022-12-10T08:07:38.310Z"
   },
   {
    "duration": 7,
    "start_time": "2022-12-10T08:07:38.327Z"
   },
   {
    "duration": 308,
    "start_time": "2022-12-10T08:07:38.335Z"
   },
   {
    "duration": 3,
    "start_time": "2022-12-10T08:07:38.646Z"
   },
   {
    "duration": 56,
    "start_time": "2022-12-10T08:07:38.651Z"
   },
   {
    "duration": 273,
    "start_time": "2022-12-10T08:07:38.736Z"
   },
   {
    "duration": 316,
    "start_time": "2022-12-10T08:07:39.010Z"
   },
   {
    "duration": 1666,
    "start_time": "2022-12-10T08:07:39.328Z"
   },
   {
    "duration": 213,
    "start_time": "2022-12-10T08:07:40.996Z"
   },
   {
    "duration": 837,
    "start_time": "2022-12-10T08:07:41.236Z"
   },
   {
    "duration": 355,
    "start_time": "2022-12-10T08:07:42.075Z"
   },
   {
    "duration": 5,
    "start_time": "2022-12-10T08:07:42.435Z"
   },
   {
    "duration": 399,
    "start_time": "2022-12-10T08:07:42.444Z"
   },
   {
    "duration": 404,
    "start_time": "2022-12-10T08:10:30.186Z"
   },
   {
    "duration": 4,
    "start_time": "2022-12-10T08:10:47.302Z"
   },
   {
    "duration": 19,
    "start_time": "2022-12-10T08:10:47.308Z"
   },
   {
    "duration": 38,
    "start_time": "2022-12-10T08:10:47.329Z"
   },
   {
    "duration": 225,
    "start_time": "2022-12-10T08:10:47.369Z"
   },
   {
    "duration": 3,
    "start_time": "2022-12-10T08:10:47.597Z"
   },
   {
    "duration": 75,
    "start_time": "2022-12-10T08:10:47.602Z"
   },
   {
    "duration": 363,
    "start_time": "2022-12-10T08:10:47.679Z"
   },
   {
    "duration": 297,
    "start_time": "2022-12-10T08:10:48.043Z"
   },
   {
    "duration": 2029,
    "start_time": "2022-12-10T08:10:48.342Z"
   },
   {
    "duration": 300,
    "start_time": "2022-12-10T08:10:50.373Z"
   },
   {
    "duration": 867,
    "start_time": "2022-12-10T08:10:50.675Z"
   },
   {
    "duration": 529,
    "start_time": "2022-12-10T08:10:51.544Z"
   },
   {
    "duration": 3,
    "start_time": "2022-12-10T08:10:52.074Z"
   },
   {
    "duration": 395,
    "start_time": "2022-12-10T08:10:52.079Z"
   },
   {
    "duration": 193,
    "start_time": "2022-12-10T08:10:52.476Z"
   },
   {
    "duration": 3,
    "start_time": "2022-12-10T08:12:13.626Z"
   },
   {
    "duration": 9,
    "start_time": "2022-12-10T08:12:13.631Z"
   },
   {
    "duration": 5,
    "start_time": "2022-12-10T08:12:13.642Z"
   },
   {
    "duration": 247,
    "start_time": "2022-12-10T08:12:13.649Z"
   },
   {
    "duration": 4,
    "start_time": "2022-12-10T08:12:13.899Z"
   },
   {
    "duration": 80,
    "start_time": "2022-12-10T08:12:13.905Z"
   },
   {
    "duration": 351,
    "start_time": "2022-12-10T08:12:13.988Z"
   },
   {
    "duration": 307,
    "start_time": "2022-12-10T08:12:14.340Z"
   },
   {
    "duration": 1606,
    "start_time": "2022-12-10T08:12:14.649Z"
   },
   {
    "duration": 311,
    "start_time": "2022-12-10T08:12:16.257Z"
   },
   {
    "duration": 876,
    "start_time": "2022-12-10T08:12:16.570Z"
   },
   {
    "duration": 392,
    "start_time": "2022-12-10T08:12:17.448Z"
   },
   {
    "duration": 4,
    "start_time": "2022-12-10T08:12:17.841Z"
   },
   {
    "duration": 394,
    "start_time": "2022-12-10T08:12:17.849Z"
   },
   {
    "duration": 310,
    "start_time": "2022-12-10T08:12:18.245Z"
   },
   {
    "duration": 4,
    "start_time": "2022-12-10T08:12:44.897Z"
   },
   {
    "duration": 5,
    "start_time": "2022-12-10T08:12:44.903Z"
   },
   {
    "duration": 6,
    "start_time": "2022-12-10T08:12:44.910Z"
   },
   {
    "duration": 217,
    "start_time": "2022-12-10T08:12:44.918Z"
   },
   {
    "duration": 4,
    "start_time": "2022-12-10T08:12:45.137Z"
   },
   {
    "duration": 51,
    "start_time": "2022-12-10T08:12:45.142Z"
   },
   {
    "duration": 296,
    "start_time": "2022-12-10T08:12:45.195Z"
   },
   {
    "duration": 323,
    "start_time": "2022-12-10T08:12:45.493Z"
   },
   {
    "duration": 1388,
    "start_time": "2022-12-10T08:12:45.818Z"
   },
   {
    "duration": 269,
    "start_time": "2022-12-10T08:12:47.207Z"
   },
   {
    "duration": 841,
    "start_time": "2022-12-10T08:12:47.477Z"
   },
   {
    "duration": 333,
    "start_time": "2022-12-10T08:12:48.320Z"
   },
   {
    "duration": 2,
    "start_time": "2022-12-10T08:12:48.655Z"
   },
   {
    "duration": 5,
    "start_time": "2022-12-10T08:12:48.660Z"
   },
   {
    "duration": 89,
    "start_time": "2022-12-10T08:12:48.666Z"
   },
   {
    "duration": 3,
    "start_time": "2022-12-10T08:13:11.196Z"
   },
   {
    "duration": 13,
    "start_time": "2022-12-10T08:13:11.202Z"
   },
   {
    "duration": 9,
    "start_time": "2022-12-10T08:13:11.217Z"
   },
   {
    "duration": 260,
    "start_time": "2022-12-10T08:13:11.227Z"
   },
   {
    "duration": 4,
    "start_time": "2022-12-10T08:13:11.536Z"
   },
   {
    "duration": 97,
    "start_time": "2022-12-10T08:13:11.542Z"
   },
   {
    "duration": 251,
    "start_time": "2022-12-10T08:13:11.641Z"
   },
   {
    "duration": 379,
    "start_time": "2022-12-10T08:13:11.894Z"
   },
   {
    "duration": 1746,
    "start_time": "2022-12-10T08:13:12.275Z"
   },
   {
    "duration": 269,
    "start_time": "2022-12-10T08:13:14.023Z"
   },
   {
    "duration": 952,
    "start_time": "2022-12-10T08:13:14.294Z"
   },
   {
    "duration": 311,
    "start_time": "2022-12-10T08:13:15.248Z"
   },
   {
    "duration": 3,
    "start_time": "2022-12-10T08:13:15.561Z"
   },
   {
    "duration": 390,
    "start_time": "2022-12-10T08:13:15.567Z"
   },
   {
    "duration": 183,
    "start_time": "2022-12-10T08:13:15.959Z"
   },
   {
    "duration": 47,
    "start_time": "2022-12-10T08:14:48.947Z"
   },
   {
    "duration": 23,
    "start_time": "2022-12-10T08:15:07.669Z"
   },
   {
    "duration": 384,
    "start_time": "2022-12-10T08:15:53.452Z"
   },
   {
    "duration": 77,
    "start_time": "2022-12-10T08:16:59.214Z"
   },
   {
    "duration": 4,
    "start_time": "2022-12-10T08:17:05.469Z"
   },
   {
    "duration": 5,
    "start_time": "2022-12-10T08:17:05.475Z"
   },
   {
    "duration": 16,
    "start_time": "2022-12-10T08:17:05.482Z"
   },
   {
    "duration": 269,
    "start_time": "2022-12-10T08:17:05.500Z"
   },
   {
    "duration": 4,
    "start_time": "2022-12-10T08:17:05.771Z"
   },
   {
    "duration": 80,
    "start_time": "2022-12-10T08:17:05.777Z"
   },
   {
    "duration": 345,
    "start_time": "2022-12-10T08:17:05.859Z"
   },
   {
    "duration": 314,
    "start_time": "2022-12-10T08:17:06.206Z"
   },
   {
    "duration": 1516,
    "start_time": "2022-12-10T08:17:06.521Z"
   },
   {
    "duration": 253,
    "start_time": "2022-12-10T08:17:08.040Z"
   },
   {
    "duration": 927,
    "start_time": "2022-12-10T08:17:08.295Z"
   },
   {
    "duration": 302,
    "start_time": "2022-12-10T08:17:09.223Z"
   },
   {
    "duration": 2,
    "start_time": "2022-12-10T08:17:09.536Z"
   },
   {
    "duration": 320,
    "start_time": "2022-12-10T08:17:09.540Z"
   },
   {
    "duration": 215,
    "start_time": "2022-12-10T08:17:09.862Z"
   },
   {
    "duration": 196,
    "start_time": "2022-12-10T08:17:10.079Z"
   },
   {
    "duration": 2210,
    "start_time": "2022-12-10T08:18:19.945Z"
   },
   {
    "duration": 3,
    "start_time": "2022-12-10T08:18:51.043Z"
   },
   {
    "duration": 6,
    "start_time": "2022-12-10T08:18:51.048Z"
   },
   {
    "duration": 7,
    "start_time": "2022-12-10T08:18:51.056Z"
   },
   {
    "duration": 322,
    "start_time": "2022-12-10T08:18:51.064Z"
   },
   {
    "duration": 4,
    "start_time": "2022-12-10T08:18:51.389Z"
   },
   {
    "duration": 80,
    "start_time": "2022-12-10T08:18:51.394Z"
   },
   {
    "duration": 397,
    "start_time": "2022-12-10T08:18:51.476Z"
   },
   {
    "duration": 246,
    "start_time": "2022-12-10T08:18:51.875Z"
   },
   {
    "duration": 1366,
    "start_time": "2022-12-10T08:18:52.123Z"
   },
   {
    "duration": 296,
    "start_time": "2022-12-10T08:18:53.491Z"
   },
   {
    "duration": 833,
    "start_time": "2022-12-10T08:18:53.789Z"
   },
   {
    "duration": 337,
    "start_time": "2022-12-10T08:18:54.635Z"
   },
   {
    "duration": 3,
    "start_time": "2022-12-10T08:18:54.974Z"
   },
   {
    "duration": 566,
    "start_time": "2022-12-10T08:18:54.979Z"
   },
   {
    "duration": 199,
    "start_time": "2022-12-10T08:18:55.547Z"
   },
   {
    "duration": 124,
    "start_time": "2022-12-10T08:18:55.748Z"
   },
   {
    "duration": 2101,
    "start_time": "2022-12-10T08:18:55.874Z"
   },
   {
    "duration": 1404,
    "start_time": "2022-12-10T08:19:43.204Z"
   },
   {
    "duration": 3,
    "start_time": "2022-12-10T08:20:50.929Z"
   },
   {
    "duration": 4,
    "start_time": "2022-12-10T08:23:44.658Z"
   },
   {
    "duration": 1505,
    "start_time": "2022-12-10T08:27:00.550Z"
   },
   {
    "duration": 293,
    "start_time": "2022-12-10T08:39:52.742Z"
   },
   {
    "duration": 4,
    "start_time": "2022-12-10T08:39:57.360Z"
   },
   {
    "duration": 36,
    "start_time": "2022-12-10T08:39:57.367Z"
   },
   {
    "duration": 23,
    "start_time": "2022-12-10T08:39:57.405Z"
   },
   {
    "duration": 246,
    "start_time": "2022-12-10T08:39:57.430Z"
   },
   {
    "duration": 6,
    "start_time": "2022-12-10T08:39:57.679Z"
   },
   {
    "duration": 76,
    "start_time": "2022-12-10T08:39:57.687Z"
   },
   {
    "duration": 449,
    "start_time": "2022-12-10T08:39:57.765Z"
   },
   {
    "duration": 296,
    "start_time": "2022-12-10T08:39:58.215Z"
   },
   {
    "duration": 1339,
    "start_time": "2022-12-10T08:39:58.513Z"
   },
   {
    "duration": 383,
    "start_time": "2022-12-10T08:39:59.853Z"
   },
   {
    "duration": 860,
    "start_time": "2022-12-10T08:40:00.237Z"
   },
   {
    "duration": 276,
    "start_time": "2022-12-10T08:40:01.099Z"
   },
   {
    "duration": 3,
    "start_time": "2022-12-10T08:40:01.377Z"
   },
   {
    "duration": 353,
    "start_time": "2022-12-10T08:40:01.383Z"
   },
   {
    "duration": 132,
    "start_time": "2022-12-10T08:40:01.738Z"
   },
   {
    "duration": 119,
    "start_time": "2022-12-10T08:40:01.872Z"
   },
   {
    "duration": 44,
    "start_time": "2022-12-10T08:40:01.993Z"
   },
   {
    "duration": 1425,
    "start_time": "2022-12-10T08:40:02.039Z"
   },
   {
    "duration": 343,
    "start_time": "2022-12-10T08:40:03.465Z"
   },
   {
    "duration": 4,
    "start_time": "2022-12-10T08:41:37.343Z"
   },
   {
    "duration": 31,
    "start_time": "2022-12-10T08:41:37.349Z"
   },
   {
    "duration": 22,
    "start_time": "2022-12-10T08:41:37.381Z"
   },
   {
    "duration": 20,
    "start_time": "2022-12-10T08:41:37.404Z"
   },
   {
    "duration": 244,
    "start_time": "2022-12-10T08:41:37.426Z"
   },
   {
    "duration": 81,
    "start_time": "2022-12-10T08:41:37.672Z"
   },
   {
    "duration": 473,
    "start_time": "2022-12-10T08:41:37.755Z"
   },
   {
    "duration": 288,
    "start_time": "2022-12-10T08:41:38.230Z"
   },
   {
    "duration": 1450,
    "start_time": "2022-12-10T08:41:38.520Z"
   },
   {
    "duration": 375,
    "start_time": "2022-12-10T08:41:39.971Z"
   },
   {
    "duration": 853,
    "start_time": "2022-12-10T08:41:40.348Z"
   },
   {
    "duration": 272,
    "start_time": "2022-12-10T08:41:41.202Z"
   },
   {
    "duration": 3,
    "start_time": "2022-12-10T08:41:41.477Z"
   },
   {
    "duration": 359,
    "start_time": "2022-12-10T08:41:41.481Z"
   },
   {
    "duration": 121,
    "start_time": "2022-12-10T08:41:41.842Z"
   },
   {
    "duration": 125,
    "start_time": "2022-12-10T08:41:41.965Z"
   },
   {
    "duration": 4,
    "start_time": "2022-12-10T08:41:42.091Z"
   },
   {
    "duration": 1608,
    "start_time": "2022-12-10T08:41:42.097Z"
   },
   {
    "duration": 155,
    "start_time": "2022-12-10T08:41:43.708Z"
   },
   {
    "duration": 0,
    "start_time": "2022-12-10T08:41:43.866Z"
   },
   {
    "duration": 132,
    "start_time": "2022-12-10T08:42:42.242Z"
   },
   {
    "duration": 4,
    "start_time": "2022-12-10T08:42:55.699Z"
   },
   {
    "duration": 28,
    "start_time": "2022-12-10T08:42:55.705Z"
   },
   {
    "duration": 38,
    "start_time": "2022-12-10T08:42:55.735Z"
   },
   {
    "duration": 21,
    "start_time": "2022-12-10T08:42:55.775Z"
   },
   {
    "duration": 237,
    "start_time": "2022-12-10T08:42:55.799Z"
   },
   {
    "duration": 47,
    "start_time": "2022-12-10T08:42:56.038Z"
   },
   {
    "duration": 431,
    "start_time": "2022-12-10T08:42:56.087Z"
   },
   {
    "duration": 344,
    "start_time": "2022-12-10T08:42:56.520Z"
   },
   {
    "duration": 1492,
    "start_time": "2022-12-10T08:42:56.866Z"
   },
   {
    "duration": 408,
    "start_time": "2022-12-10T08:42:58.360Z"
   },
   {
    "duration": 867,
    "start_time": "2022-12-10T08:42:58.769Z"
   },
   {
    "duration": 271,
    "start_time": "2022-12-10T08:42:59.638Z"
   },
   {
    "duration": 3,
    "start_time": "2022-12-10T08:42:59.911Z"
   },
   {
    "duration": 249,
    "start_time": "2022-12-10T08:42:59.934Z"
   },
   {
    "duration": 118,
    "start_time": "2022-12-10T08:43:00.236Z"
   },
   {
    "duration": 110,
    "start_time": "2022-12-10T08:43:00.356Z"
   },
   {
    "duration": 4,
    "start_time": "2022-12-10T08:43:00.468Z"
   },
   {
    "duration": 1354,
    "start_time": "2022-12-10T08:43:00.473Z"
   },
   {
    "duration": 4,
    "start_time": "2022-12-10T11:06:48.560Z"
   },
   {
    "duration": 11,
    "start_time": "2022-12-10T11:06:48.567Z"
   },
   {
    "duration": 10,
    "start_time": "2022-12-10T11:06:48.579Z"
   },
   {
    "duration": 4,
    "start_time": "2022-12-10T11:06:48.593Z"
   },
   {
    "duration": 352,
    "start_time": "2022-12-10T11:06:48.599Z"
   },
   {
    "duration": 99,
    "start_time": "2022-12-10T11:06:48.954Z"
   },
   {
    "duration": 407,
    "start_time": "2022-12-10T11:06:49.055Z"
   },
   {
    "duration": 441,
    "start_time": "2022-12-10T11:06:49.464Z"
   },
   {
    "duration": 1460,
    "start_time": "2022-12-10T11:06:49.907Z"
   },
   {
    "duration": 240,
    "start_time": "2022-12-10T11:06:51.369Z"
   },
   {
    "duration": 958,
    "start_time": "2022-12-10T11:06:51.610Z"
   },
   {
    "duration": 489,
    "start_time": "2022-12-10T11:06:52.571Z"
   },
   {
    "duration": 4,
    "start_time": "2022-12-10T11:06:53.062Z"
   },
   {
    "duration": 368,
    "start_time": "2022-12-10T11:06:53.068Z"
   },
   {
    "duration": 130,
    "start_time": "2022-12-10T11:06:53.438Z"
   },
   {
    "duration": 201,
    "start_time": "2022-12-10T11:06:53.570Z"
   },
   {
    "duration": 4,
    "start_time": "2022-12-10T11:06:53.836Z"
   },
   {
    "duration": 1720,
    "start_time": "2022-12-10T11:06:53.842Z"
   },
   {
    "duration": 1927,
    "start_time": "2022-12-10T11:08:11.719Z"
   },
   {
    "duration": 28,
    "start_time": "2022-12-10T11:17:45.488Z"
   },
   {
    "duration": 873,
    "start_time": "2022-12-10T11:18:57.863Z"
   },
   {
    "duration": 5,
    "start_time": "2022-12-10T11:19:20.290Z"
   },
   {
    "duration": 6,
    "start_time": "2022-12-10T11:19:20.297Z"
   },
   {
    "duration": 9,
    "start_time": "2022-12-10T11:19:20.305Z"
   },
   {
    "duration": 3,
    "start_time": "2022-12-10T11:19:20.316Z"
   },
   {
    "duration": 264,
    "start_time": "2022-12-10T11:19:20.321Z"
   },
   {
    "duration": 79,
    "start_time": "2022-12-10T11:19:20.587Z"
   },
   {
    "duration": 524,
    "start_time": "2022-12-10T11:19:20.669Z"
   },
   {
    "duration": 546,
    "start_time": "2022-12-10T11:19:21.194Z"
   },
   {
    "duration": 1698,
    "start_time": "2022-12-10T11:19:21.741Z"
   },
   {
    "duration": 735,
    "start_time": "2022-12-10T11:19:23.443Z"
   },
   {
    "duration": 851,
    "start_time": "2022-12-10T11:19:24.179Z"
   },
   {
    "duration": 277,
    "start_time": "2022-12-10T11:19:25.034Z"
   },
   {
    "duration": 3,
    "start_time": "2022-12-10T11:19:25.312Z"
   },
   {
    "duration": 253,
    "start_time": "2022-12-10T11:19:25.317Z"
   },
   {
    "duration": 119,
    "start_time": "2022-12-10T11:19:25.573Z"
   },
   {
    "duration": 143,
    "start_time": "2022-12-10T11:19:25.693Z"
   },
   {
    "duration": 4,
    "start_time": "2022-12-10T11:19:25.837Z"
   },
   {
    "duration": 1486,
    "start_time": "2022-12-10T11:19:25.842Z"
   },
   {
    "duration": 24,
    "start_time": "2022-12-10T11:19:27.330Z"
   },
   {
    "duration": 381,
    "start_time": "2022-12-10T11:19:27.355Z"
   },
   {
    "duration": 806,
    "start_time": "2022-12-10T11:19:27.738Z"
   },
   {
    "duration": 3,
    "start_time": "2022-12-10T11:19:28.546Z"
   },
   {
    "duration": 18,
    "start_time": "2022-12-10T11:19:59.398Z"
   },
   {
    "duration": 311,
    "start_time": "2022-12-10T11:20:32.940Z"
   },
   {
    "duration": 4,
    "start_time": "2022-12-10T11:20:41.587Z"
   },
   {
    "duration": 25,
    "start_time": "2022-12-10T11:20:41.594Z"
   },
   {
    "duration": 12,
    "start_time": "2022-12-10T11:20:41.622Z"
   },
   {
    "duration": 10,
    "start_time": "2022-12-10T11:20:41.636Z"
   },
   {
    "duration": 237,
    "start_time": "2022-12-10T11:20:41.649Z"
   },
   {
    "duration": 68,
    "start_time": "2022-12-10T11:20:41.888Z"
   },
   {
    "duration": 391,
    "start_time": "2022-12-10T11:20:41.958Z"
   },
   {
    "duration": 404,
    "start_time": "2022-12-10T11:20:42.351Z"
   },
   {
    "duration": 1549,
    "start_time": "2022-12-10T11:20:42.757Z"
   },
   {
    "duration": 527,
    "start_time": "2022-12-10T11:20:44.308Z"
   },
   {
    "duration": 953,
    "start_time": "2022-12-10T11:20:44.837Z"
   },
   {
    "duration": 359,
    "start_time": "2022-12-10T11:20:45.792Z"
   },
   {
    "duration": 3,
    "start_time": "2022-12-10T11:20:46.155Z"
   },
   {
    "duration": 595,
    "start_time": "2022-12-10T11:20:46.159Z"
   },
   {
    "duration": 201,
    "start_time": "2022-12-10T11:20:46.755Z"
   },
   {
    "duration": 107,
    "start_time": "2022-12-10T11:20:46.958Z"
   },
   {
    "duration": 5,
    "start_time": "2022-12-10T11:20:47.067Z"
   },
   {
    "duration": 1422,
    "start_time": "2022-12-10T11:20:47.073Z"
   },
   {
    "duration": 38,
    "start_time": "2022-12-10T11:20:48.497Z"
   },
   {
    "duration": 249,
    "start_time": "2022-12-10T11:20:48.537Z"
   },
   {
    "duration": 2162,
    "start_time": "2022-12-10T11:20:48.788Z"
   },
   {
    "duration": 3,
    "start_time": "2022-12-10T11:20:50.953Z"
   },
   {
    "duration": 4,
    "start_time": "2022-12-10T11:23:37.529Z"
   },
   {
    "duration": 97,
    "start_time": "2022-12-10T11:27:18.371Z"
   },
   {
    "duration": 4,
    "start_time": "2022-12-10T11:27:43.174Z"
   },
   {
    "duration": 12,
    "start_time": "2022-12-10T11:27:43.180Z"
   },
   {
    "duration": 11,
    "start_time": "2022-12-10T11:27:43.194Z"
   },
   {
    "duration": 6,
    "start_time": "2022-12-10T11:27:43.207Z"
   },
   {
    "duration": 229,
    "start_time": "2022-12-10T11:27:43.216Z"
   },
   {
    "duration": 189,
    "start_time": "2022-12-10T11:27:43.447Z"
   },
   {
    "duration": 1003,
    "start_time": "2022-12-10T11:27:43.638Z"
   },
   {
    "duration": 354,
    "start_time": "2022-12-10T11:27:44.643Z"
   },
   {
    "duration": 1652,
    "start_time": "2022-12-10T11:27:44.999Z"
   },
   {
    "duration": 326,
    "start_time": "2022-12-10T11:27:46.654Z"
   },
   {
    "duration": 959,
    "start_time": "2022-12-10T11:27:46.982Z"
   },
   {
    "duration": 474,
    "start_time": "2022-12-10T11:27:47.943Z"
   },
   {
    "duration": 3,
    "start_time": "2022-12-10T11:27:48.419Z"
   },
   {
    "duration": 533,
    "start_time": "2022-12-10T11:27:48.424Z"
   },
   {
    "duration": 203,
    "start_time": "2022-12-10T11:27:48.960Z"
   },
   {
    "duration": 121,
    "start_time": "2022-12-10T11:27:49.166Z"
   },
   {
    "duration": 46,
    "start_time": "2022-12-10T11:27:49.290Z"
   },
   {
    "duration": 1336,
    "start_time": "2022-12-10T11:27:49.338Z"
   },
   {
    "duration": 22,
    "start_time": "2022-12-10T11:27:50.676Z"
   },
   {
    "duration": 239,
    "start_time": "2022-12-10T11:27:50.700Z"
   },
   {
    "duration": 4,
    "start_time": "2022-12-10T11:27:50.941Z"
   },
   {
    "duration": 115,
    "start_time": "2022-12-10T11:27:50.947Z"
   },
   {
    "duration": 1999,
    "start_time": "2022-12-10T11:27:51.064Z"
   },
   {
    "duration": 3,
    "start_time": "2022-12-10T11:27:53.065Z"
   },
   {
    "duration": 1134,
    "start_time": "2022-12-10T12:14:33.139Z"
   },
   {
    "duration": 4,
    "start_time": "2022-12-10T12:14:34.275Z"
   },
   {
    "duration": 20803,
    "start_time": "2022-12-10T12:14:34.335Z"
   },
   {
    "duration": 4,
    "start_time": "2022-12-10T12:14:55.140Z"
   },
   {
    "duration": 14906,
    "start_time": "2022-12-10T12:14:55.148Z"
   },
   {
    "duration": 2085,
    "start_time": "2022-12-10T12:15:10.056Z"
   },
   {
    "duration": 2095,
    "start_time": "2022-12-10T12:15:12.143Z"
   },
   {
    "duration": 1411,
    "start_time": "2022-12-10T12:15:14.240Z"
   },
   {
    "duration": 9601,
    "start_time": "2022-12-10T12:15:15.654Z"
   },
   {
    "duration": 1484,
    "start_time": "2022-12-10T12:15:25.257Z"
   },
   {
    "duration": 1796,
    "start_time": "2022-12-10T12:15:26.743Z"
   },
   {
    "duration": 1425,
    "start_time": "2022-12-10T12:15:28.541Z"
   },
   {
    "duration": 3,
    "start_time": "2022-12-10T12:15:29.968Z"
   },
   {
    "duration": 3066,
    "start_time": "2022-12-10T12:15:29.975Z"
   },
   {
    "duration": 1206,
    "start_time": "2022-12-10T12:15:33.043Z"
   },
   {
    "duration": 896,
    "start_time": "2022-12-10T12:15:34.251Z"
   },
   {
    "duration": 4,
    "start_time": "2022-12-10T12:15:35.149Z"
   },
   {
    "duration": 4107,
    "start_time": "2022-12-10T12:15:35.155Z"
   },
   {
    "duration": 178,
    "start_time": "2022-12-10T12:15:39.264Z"
   },
   {
    "duration": 1315,
    "start_time": "2022-12-10T12:15:39.445Z"
   },
   {
    "duration": 6,
    "start_time": "2022-12-10T12:15:40.836Z"
   },
   {
    "duration": 599,
    "start_time": "2022-12-10T12:15:40.843Z"
   },
   {
    "duration": 4093,
    "start_time": "2022-12-10T12:15:41.444Z"
   },
   {
    "duration": 3,
    "start_time": "2022-12-10T12:15:45.539Z"
   },
   {
    "duration": 277,
    "start_time": "2022-12-10T12:29:25.059Z"
   },
   {
    "duration": 4,
    "start_time": "2022-12-10T12:29:30.420Z"
   },
   {
    "duration": 22,
    "start_time": "2022-12-10T12:29:30.436Z"
   },
   {
    "duration": 22,
    "start_time": "2022-12-10T12:29:30.460Z"
   },
   {
    "duration": 51,
    "start_time": "2022-12-10T12:29:30.484Z"
   },
   {
    "duration": 909,
    "start_time": "2022-12-10T12:29:30.537Z"
   },
   {
    "duration": 293,
    "start_time": "2022-12-10T12:29:31.449Z"
   },
   {
    "duration": 1097,
    "start_time": "2022-12-10T12:29:31.744Z"
   },
   {
    "duration": 737,
    "start_time": "2022-12-10T12:29:32.843Z"
   },
   {
    "duration": 4820,
    "start_time": "2022-12-10T12:29:33.635Z"
   },
   {
    "duration": 624,
    "start_time": "2022-12-10T12:29:38.457Z"
   },
   {
    "duration": 1980,
    "start_time": "2022-12-10T12:29:39.082Z"
   },
   {
    "duration": 676,
    "start_time": "2022-12-10T12:29:41.064Z"
   },
   {
    "duration": 3,
    "start_time": "2022-12-10T12:29:41.743Z"
   },
   {
    "duration": 995,
    "start_time": "2022-12-10T12:29:41.747Z"
   },
   {
    "duration": 409,
    "start_time": "2022-12-10T12:29:42.744Z"
   },
   {
    "duration": 497,
    "start_time": "2022-12-10T12:29:43.155Z"
   },
   {
    "duration": 81,
    "start_time": "2022-12-10T12:29:43.656Z"
   },
   {
    "duration": 3316,
    "start_time": "2022-12-10T12:29:43.739Z"
   },
   {
    "duration": 85,
    "start_time": "2022-12-10T12:29:47.057Z"
   },
   {
    "duration": 814,
    "start_time": "2022-12-10T12:29:47.145Z"
   },
   {
    "duration": 5,
    "start_time": "2022-12-10T12:29:48.036Z"
   },
   {
    "duration": 300,
    "start_time": "2022-12-10T12:29:48.043Z"
   },
   {
    "duration": 2203,
    "start_time": "2022-12-10T12:29:48.345Z"
   },
   {
    "duration": 3,
    "start_time": "2022-12-10T12:29:50.549Z"
   },
   {
    "duration": 2375,
    "start_time": "2022-12-10T12:31:05.178Z"
   },
   {
    "duration": 1422,
    "start_time": "2022-12-10T12:32:38.338Z"
   },
   {
    "duration": 1636,
    "start_time": "2022-12-10T12:33:27.107Z"
   },
   {
    "duration": 8,
    "start_time": "2022-12-10T12:34:28.246Z"
   },
   {
    "duration": 101,
    "start_time": "2022-12-10T12:35:31.654Z"
   },
   {
    "duration": 4,
    "start_time": "2022-12-10T12:35:48.586Z"
   },
   {
    "duration": 44,
    "start_time": "2022-12-10T12:35:48.593Z"
   },
   {
    "duration": 18,
    "start_time": "2022-12-10T12:35:48.639Z"
   },
   {
    "duration": 6,
    "start_time": "2022-12-10T12:35:48.659Z"
   },
   {
    "duration": 690,
    "start_time": "2022-12-10T12:35:48.668Z"
   },
   {
    "duration": 188,
    "start_time": "2022-12-10T12:35:49.360Z"
   },
   {
    "duration": 813,
    "start_time": "2022-12-10T12:35:49.550Z"
   },
   {
    "duration": 602,
    "start_time": "2022-12-10T12:35:50.365Z"
   },
   {
    "duration": 3802,
    "start_time": "2022-12-10T12:35:50.968Z"
   },
   {
    "duration": 697,
    "start_time": "2022-12-10T12:35:54.772Z"
   },
   {
    "duration": 1897,
    "start_time": "2022-12-10T12:35:55.470Z"
   },
   {
    "duration": 771,
    "start_time": "2022-12-10T12:35:57.369Z"
   },
   {
    "duration": 3,
    "start_time": "2022-12-10T12:35:58.143Z"
   },
   {
    "duration": 790,
    "start_time": "2022-12-10T12:35:58.150Z"
   },
   {
    "duration": 221,
    "start_time": "2022-12-10T12:35:58.942Z"
   },
   {
    "duration": 224,
    "start_time": "2022-12-10T12:35:59.236Z"
   },
   {
    "duration": 75,
    "start_time": "2022-12-10T12:35:59.461Z"
   },
   {
    "duration": 2710,
    "start_time": "2022-12-10T12:35:59.538Z"
   },
   {
    "duration": 20,
    "start_time": "2022-12-10T12:36:02.250Z"
   },
   {
    "duration": 1064,
    "start_time": "2022-12-10T12:36:02.272Z"
   },
   {
    "duration": 4,
    "start_time": "2022-12-10T12:36:03.338Z"
   },
   {
    "duration": 221,
    "start_time": "2022-12-10T12:36:03.343Z"
   },
   {
    "duration": 1490,
    "start_time": "2022-12-10T12:36:03.566Z"
   },
   {
    "duration": 3,
    "start_time": "2022-12-10T12:36:05.057Z"
   },
   {
    "duration": 4,
    "start_time": "2022-12-10T12:37:15.591Z"
   },
   {
    "duration": 2370,
    "start_time": "2022-12-10T12:38:07.574Z"
   },
   {
    "duration": 4,
    "start_time": "2022-12-10T12:38:23.888Z"
   },
   {
    "duration": 9,
    "start_time": "2022-12-10T12:38:23.894Z"
   },
   {
    "duration": 3,
    "start_time": "2022-12-10T12:38:23.935Z"
   },
   {
    "duration": 22,
    "start_time": "2022-12-10T12:38:23.940Z"
   },
   {
    "duration": 573,
    "start_time": "2022-12-10T12:38:23.963Z"
   },
   {
    "duration": 113,
    "start_time": "2022-12-10T12:38:24.538Z"
   },
   {
    "duration": 594,
    "start_time": "2022-12-10T12:38:24.653Z"
   },
   {
    "duration": 711,
    "start_time": "2022-12-10T12:38:25.250Z"
   },
   {
    "duration": 3374,
    "start_time": "2022-12-10T12:38:25.963Z"
   },
   {
    "duration": 534,
    "start_time": "2022-12-10T12:38:29.341Z"
   },
   {
    "duration": 1860,
    "start_time": "2022-12-10T12:38:29.877Z"
   },
   {
    "duration": 718,
    "start_time": "2022-12-10T12:38:31.739Z"
   },
   {
    "duration": 4,
    "start_time": "2022-12-10T12:38:32.459Z"
   },
   {
    "duration": 777,
    "start_time": "2022-12-10T12:38:32.465Z"
   },
   {
    "duration": 300,
    "start_time": "2022-12-10T12:38:33.244Z"
   },
   {
    "duration": 301,
    "start_time": "2022-12-10T12:38:33.546Z"
   },
   {
    "duration": 4,
    "start_time": "2022-12-10T12:38:33.849Z"
   },
   {
    "duration": 2712,
    "start_time": "2022-12-10T12:38:33.855Z"
   },
   {
    "duration": 82,
    "start_time": "2022-12-10T12:38:36.569Z"
   },
   {
    "duration": 889,
    "start_time": "2022-12-10T12:38:36.654Z"
   },
   {
    "duration": 5,
    "start_time": "2022-12-10T12:38:37.545Z"
   },
   {
    "duration": 293,
    "start_time": "2022-12-10T12:38:37.552Z"
   },
   {
    "duration": 4,
    "start_time": "2022-12-10T12:38:37.847Z"
   },
   {
    "duration": 1387,
    "start_time": "2022-12-10T12:38:37.852Z"
   },
   {
    "duration": 4,
    "start_time": "2022-12-10T12:38:39.244Z"
   },
   {
    "duration": 32,
    "start_time": "2022-12-10T13:00:55.052Z"
   },
   {
    "duration": 4,
    "start_time": "2022-12-10T13:00:58.546Z"
   },
   {
    "duration": 9,
    "start_time": "2022-12-10T13:00:58.553Z"
   },
   {
    "duration": 10,
    "start_time": "2022-12-10T13:00:58.564Z"
   },
   {
    "duration": 11,
    "start_time": "2022-12-10T13:00:58.576Z"
   },
   {
    "duration": 604,
    "start_time": "2022-12-10T13:00:58.637Z"
   },
   {
    "duration": 194,
    "start_time": "2022-12-10T13:00:59.243Z"
   },
   {
    "duration": 830,
    "start_time": "2022-12-10T13:00:59.439Z"
   },
   {
    "duration": 594,
    "start_time": "2022-12-10T13:01:00.271Z"
   },
   {
    "duration": 3318,
    "start_time": "2022-12-10T13:01:00.866Z"
   },
   {
    "duration": 818,
    "start_time": "2022-12-10T13:01:04.236Z"
   },
   {
    "duration": 1898,
    "start_time": "2022-12-10T13:01:05.058Z"
   },
   {
    "duration": 590,
    "start_time": "2022-12-10T13:01:06.958Z"
   },
   {
    "duration": 4,
    "start_time": "2022-12-10T13:01:07.549Z"
   },
   {
    "duration": 83,
    "start_time": "2022-12-10T13:01:07.555Z"
   },
   {
    "duration": 0,
    "start_time": "2022-12-10T13:01:07.641Z"
   },
   {
    "duration": 0,
    "start_time": "2022-12-10T13:01:07.642Z"
   },
   {
    "duration": 0,
    "start_time": "2022-12-10T13:01:07.643Z"
   },
   {
    "duration": 0,
    "start_time": "2022-12-10T13:01:07.644Z"
   },
   {
    "duration": 0,
    "start_time": "2022-12-10T13:01:07.645Z"
   },
   {
    "duration": 0,
    "start_time": "2022-12-10T13:01:07.646Z"
   },
   {
    "duration": 0,
    "start_time": "2022-12-10T13:01:07.647Z"
   },
   {
    "duration": 0,
    "start_time": "2022-12-10T13:01:07.648Z"
   },
   {
    "duration": 0,
    "start_time": "2022-12-10T13:01:07.650Z"
   },
   {
    "duration": 0,
    "start_time": "2022-12-10T13:01:07.651Z"
   },
   {
    "duration": 0,
    "start_time": "2022-12-10T13:01:07.652Z"
   },
   {
    "duration": 0,
    "start_time": "2022-12-10T13:01:07.653Z"
   },
   {
    "duration": 5,
    "start_time": "2022-12-10T13:02:25.980Z"
   },
   {
    "duration": 8,
    "start_time": "2022-12-10T13:02:25.988Z"
   },
   {
    "duration": 40,
    "start_time": "2022-12-10T13:02:25.997Z"
   },
   {
    "duration": 7,
    "start_time": "2022-12-10T13:02:26.039Z"
   },
   {
    "duration": 507,
    "start_time": "2022-12-10T13:02:26.048Z"
   },
   {
    "duration": 117,
    "start_time": "2022-12-10T13:02:26.557Z"
   },
   {
    "duration": 606,
    "start_time": "2022-12-10T13:02:26.736Z"
   },
   {
    "duration": 702,
    "start_time": "2022-12-10T13:02:27.344Z"
   },
   {
    "duration": 2805,
    "start_time": "2022-12-10T13:02:28.048Z"
   },
   {
    "duration": 526,
    "start_time": "2022-12-10T13:02:30.855Z"
   },
   {
    "duration": 2065,
    "start_time": "2022-12-10T13:02:31.383Z"
   },
   {
    "duration": 606,
    "start_time": "2022-12-10T13:02:33.450Z"
   },
   {
    "duration": 4,
    "start_time": "2022-12-10T13:02:34.058Z"
   },
   {
    "duration": 790,
    "start_time": "2022-12-10T13:02:34.065Z"
   },
   {
    "duration": 308,
    "start_time": "2022-12-10T13:02:34.858Z"
   },
   {
    "duration": 370,
    "start_time": "2022-12-10T13:02:35.168Z"
   },
   {
    "duration": 4,
    "start_time": "2022-12-10T13:02:35.540Z"
   },
   {
    "duration": 2706,
    "start_time": "2022-12-10T13:02:35.546Z"
   },
   {
    "duration": 89,
    "start_time": "2022-12-10T13:02:38.254Z"
   },
   {
    "duration": 491,
    "start_time": "2022-12-10T13:02:38.345Z"
   },
   {
    "duration": 7,
    "start_time": "2022-12-10T13:02:38.838Z"
   },
   {
    "duration": 209,
    "start_time": "2022-12-10T13:02:38.846Z"
   },
   {
    "duration": 4,
    "start_time": "2022-12-10T13:02:39.057Z"
   },
   {
    "duration": 1973,
    "start_time": "2022-12-10T13:02:39.063Z"
   },
   {
    "duration": 303,
    "start_time": "2022-12-10T13:02:41.038Z"
   },
   {
    "duration": 0,
    "start_time": "2022-12-10T13:02:41.342Z"
   },
   {
    "duration": 2,
    "start_time": "2022-12-10T13:04:22.380Z"
   },
   {
    "duration": 21,
    "start_time": "2022-12-10T13:06:41.394Z"
   },
   {
    "duration": 4,
    "start_time": "2022-12-10T13:06:50.184Z"
   },
   {
    "duration": 14,
    "start_time": "2022-12-10T13:06:50.190Z"
   },
   {
    "duration": 14,
    "start_time": "2022-12-10T13:06:50.206Z"
   },
   {
    "duration": 24,
    "start_time": "2022-12-10T13:06:50.222Z"
   },
   {
    "duration": 241,
    "start_time": "2022-12-10T13:06:50.248Z"
   },
   {
    "duration": 84,
    "start_time": "2022-12-10T13:06:50.491Z"
   },
   {
    "duration": 478,
    "start_time": "2022-12-10T13:06:50.636Z"
   },
   {
    "duration": 319,
    "start_time": "2022-12-10T13:06:51.117Z"
   },
   {
    "duration": 1756,
    "start_time": "2022-12-10T13:06:51.438Z"
   },
   {
    "duration": 407,
    "start_time": "2022-12-10T13:06:53.196Z"
   },
   {
    "duration": 857,
    "start_time": "2022-12-10T13:06:53.605Z"
   },
   {
    "duration": 282,
    "start_time": "2022-12-10T13:06:54.464Z"
   },
   {
    "duration": 3,
    "start_time": "2022-12-10T13:06:54.748Z"
   },
   {
    "duration": 382,
    "start_time": "2022-12-10T13:06:54.754Z"
   },
   {
    "duration": 127,
    "start_time": "2022-12-10T13:06:55.138Z"
   },
   {
    "duration": 181,
    "start_time": "2022-12-10T13:06:55.267Z"
   },
   {
    "duration": 3,
    "start_time": "2022-12-10T13:06:55.450Z"
   },
   {
    "duration": 9,
    "start_time": "2022-12-10T13:06:55.454Z"
   },
   {
    "duration": 22,
    "start_time": "2022-12-10T13:06:55.465Z"
   },
   {
    "duration": 279,
    "start_time": "2022-12-10T13:06:55.489Z"
   },
   {
    "duration": 68,
    "start_time": "2022-12-10T13:06:55.770Z"
   },
   {
    "duration": 110,
    "start_time": "2022-12-10T13:06:55.839Z"
   },
   {
    "duration": 4,
    "start_time": "2022-12-10T13:06:55.951Z"
   },
   {
    "duration": 680,
    "start_time": "2022-12-10T13:06:55.956Z"
   },
   {
    "duration": 18,
    "start_time": "2022-12-10T13:06:56.638Z"
   },
   {
    "duration": 0,
    "start_time": "2022-12-10T13:06:56.658Z"
   },
   {
    "duration": 4,
    "start_time": "2022-12-10T13:10:06.242Z"
   },
   {
    "duration": 11,
    "start_time": "2022-12-10T13:10:06.249Z"
   },
   {
    "duration": 48,
    "start_time": "2022-12-10T13:10:06.262Z"
   },
   {
    "duration": 7,
    "start_time": "2022-12-10T13:10:06.312Z"
   },
   {
    "duration": 244,
    "start_time": "2022-12-10T13:10:06.321Z"
   },
   {
    "duration": 96,
    "start_time": "2022-12-10T13:10:06.567Z"
   },
   {
    "duration": 338,
    "start_time": "2022-12-10T13:10:06.665Z"
   },
   {
    "duration": 387,
    "start_time": "2022-12-10T13:10:07.005Z"
   },
   {
    "duration": 1566,
    "start_time": "2022-12-10T13:10:07.393Z"
   },
   {
    "duration": 249,
    "start_time": "2022-12-10T13:10:08.961Z"
   },
   {
    "duration": 933,
    "start_time": "2022-12-10T13:10:09.212Z"
   },
   {
    "duration": 402,
    "start_time": "2022-12-10T13:10:10.147Z"
   },
   {
    "duration": 3,
    "start_time": "2022-12-10T13:10:10.550Z"
   },
   {
    "duration": 410,
    "start_time": "2022-12-10T13:10:10.556Z"
   },
   {
    "duration": 397,
    "start_time": "2022-12-10T13:10:10.968Z"
   },
   {
    "duration": 200,
    "start_time": "2022-12-10T13:10:11.437Z"
   },
   {
    "duration": 4,
    "start_time": "2022-12-10T13:10:11.638Z"
   },
   {
    "duration": 8,
    "start_time": "2022-12-10T13:10:11.643Z"
   },
   {
    "duration": 89,
    "start_time": "2022-12-10T13:10:11.652Z"
   },
   {
    "duration": 424,
    "start_time": "2022-12-10T13:10:11.744Z"
   },
   {
    "duration": 4,
    "start_time": "2022-12-10T13:10:12.236Z"
   },
   {
    "duration": 208,
    "start_time": "2022-12-10T13:10:12.242Z"
   },
   {
    "duration": 4,
    "start_time": "2022-12-10T13:10:12.453Z"
   },
   {
    "duration": 880,
    "start_time": "2022-12-10T13:10:12.461Z"
   },
   {
    "duration": 19,
    "start_time": "2022-12-10T13:10:13.343Z"
   },
   {
    "duration": 0,
    "start_time": "2022-12-10T13:10:13.364Z"
   },
   {
    "duration": 3,
    "start_time": "2022-12-10T13:12:56.173Z"
   },
   {
    "duration": 4,
    "start_time": "2022-12-10T13:13:54.945Z"
   },
   {
    "duration": 3,
    "start_time": "2022-12-10T13:14:33.296Z"
   },
   {
    "duration": 4,
    "start_time": "2022-12-10T13:24:44.213Z"
   },
   {
    "duration": 9,
    "start_time": "2022-12-10T13:24:44.218Z"
   },
   {
    "duration": 7,
    "start_time": "2022-12-10T13:24:44.229Z"
   },
   {
    "duration": 5,
    "start_time": "2022-12-10T13:24:44.238Z"
   },
   {
    "duration": 226,
    "start_time": "2022-12-10T13:24:44.244Z"
   },
   {
    "duration": 64,
    "start_time": "2022-12-10T13:24:44.471Z"
   },
   {
    "duration": 262,
    "start_time": "2022-12-10T13:24:44.537Z"
   },
   {
    "duration": 392,
    "start_time": "2022-12-10T13:24:44.801Z"
   },
   {
    "duration": 1579,
    "start_time": "2022-12-10T13:24:45.195Z"
   },
   {
    "duration": 288,
    "start_time": "2022-12-10T13:24:46.777Z"
   },
   {
    "duration": 906,
    "start_time": "2022-12-10T13:24:47.067Z"
   },
   {
    "duration": 286,
    "start_time": "2022-12-10T13:24:47.975Z"
   },
   {
    "duration": 3,
    "start_time": "2022-12-10T13:24:48.263Z"
   },
   {
    "duration": 368,
    "start_time": "2022-12-10T13:24:48.268Z"
   },
   {
    "duration": 123,
    "start_time": "2022-12-10T13:24:48.637Z"
   },
   {
    "duration": 124,
    "start_time": "2022-12-10T13:24:48.762Z"
   },
   {
    "duration": 49,
    "start_time": "2022-12-10T13:24:48.888Z"
   },
   {
    "duration": 11,
    "start_time": "2022-12-10T13:24:48.938Z"
   },
   {
    "duration": 24,
    "start_time": "2022-12-10T13:24:48.951Z"
   },
   {
    "duration": 387,
    "start_time": "2022-12-10T13:24:48.977Z"
   },
   {
    "duration": 8,
    "start_time": "2022-12-10T13:24:49.366Z"
   },
   {
    "duration": 77,
    "start_time": "2022-12-10T13:24:49.375Z"
   },
   {
    "duration": 4,
    "start_time": "2022-12-10T13:24:49.454Z"
   },
   {
    "duration": 787,
    "start_time": "2022-12-10T13:24:49.460Z"
   },
   {
    "duration": 2,
    "start_time": "2022-12-10T13:24:50.249Z"
   },
   {
    "duration": 12,
    "start_time": "2022-12-10T13:24:50.253Z"
   },
   {
    "duration": 80,
    "start_time": "2022-12-10T13:25:23.620Z"
   },
   {
    "duration": 3,
    "start_time": "2022-12-10T13:25:27.116Z"
   },
   {
    "duration": 11,
    "start_time": "2022-12-10T13:25:27.122Z"
   },
   {
    "duration": 12,
    "start_time": "2022-12-10T13:25:27.135Z"
   },
   {
    "duration": 7,
    "start_time": "2022-12-10T13:25:27.148Z"
   },
   {
    "duration": 223,
    "start_time": "2022-12-10T13:25:27.157Z"
   },
   {
    "duration": 117,
    "start_time": "2022-12-10T13:25:27.382Z"
   },
   {
    "duration": 412,
    "start_time": "2022-12-10T13:25:27.501Z"
   },
   {
    "duration": 302,
    "start_time": "2022-12-10T13:25:27.915Z"
   },
   {
    "duration": 1594,
    "start_time": "2022-12-10T13:25:28.219Z"
   },
   {
    "duration": 428,
    "start_time": "2022-12-10T13:25:29.814Z"
   },
   {
    "duration": 874,
    "start_time": "2022-12-10T13:25:30.244Z"
   },
   {
    "duration": 280,
    "start_time": "2022-12-10T13:25:31.135Z"
   },
   {
    "duration": 2,
    "start_time": "2022-12-10T13:25:31.417Z"
   },
   {
    "duration": 324,
    "start_time": "2022-12-10T13:25:31.434Z"
   },
   {
    "duration": 277,
    "start_time": "2022-12-10T13:25:31.760Z"
   },
   {
    "duration": 146,
    "start_time": "2022-12-10T13:25:32.039Z"
   },
   {
    "duration": 4,
    "start_time": "2022-12-10T13:25:32.237Z"
   },
   {
    "duration": 24,
    "start_time": "2022-12-10T13:25:32.242Z"
   },
   {
    "duration": 31,
    "start_time": "2022-12-10T13:25:32.268Z"
   },
   {
    "duration": 277,
    "start_time": "2022-12-10T13:25:32.301Z"
   },
   {
    "duration": 10,
    "start_time": "2022-12-10T13:25:32.580Z"
   },
   {
    "duration": 321,
    "start_time": "2022-12-10T13:25:32.635Z"
   },
   {
    "duration": 77,
    "start_time": "2022-12-10T13:25:32.958Z"
   },
   {
    "duration": 769,
    "start_time": "2022-12-10T13:25:33.037Z"
   },
   {
    "duration": 3,
    "start_time": "2022-12-10T13:25:33.808Z"
   },
   {
    "duration": 31,
    "start_time": "2022-12-10T13:25:33.812Z"
   },
   {
    "duration": 72,
    "start_time": "2022-12-10T13:27:34.774Z"
   },
   {
    "duration": 4,
    "start_time": "2022-12-10T13:27:37.545Z"
   },
   {
    "duration": 21,
    "start_time": "2022-12-10T13:27:37.551Z"
   },
   {
    "duration": 8,
    "start_time": "2022-12-10T13:27:37.574Z"
   },
   {
    "duration": 3,
    "start_time": "2022-12-10T13:27:37.583Z"
   },
   {
    "duration": 248,
    "start_time": "2022-12-10T13:27:37.588Z"
   },
   {
    "duration": 53,
    "start_time": "2022-12-10T13:27:37.838Z"
   },
   {
    "duration": 510,
    "start_time": "2022-12-10T13:27:37.936Z"
   },
   {
    "duration": 305,
    "start_time": "2022-12-10T13:27:38.449Z"
   },
   {
    "duration": 1683,
    "start_time": "2022-12-10T13:27:38.756Z"
   },
   {
    "duration": 295,
    "start_time": "2022-12-10T13:27:40.441Z"
   },
   {
    "duration": 840,
    "start_time": "2022-12-10T13:27:40.738Z"
   },
   {
    "duration": 395,
    "start_time": "2022-12-10T13:27:41.580Z"
   },
   {
    "duration": 2,
    "start_time": "2022-12-10T13:27:41.977Z"
   },
   {
    "duration": 281,
    "start_time": "2022-12-10T13:27:41.982Z"
   },
   {
    "duration": 123,
    "start_time": "2022-12-10T13:27:42.265Z"
   },
   {
    "duration": 200,
    "start_time": "2022-12-10T13:27:42.389Z"
   },
   {
    "duration": 47,
    "start_time": "2022-12-10T13:27:42.591Z"
   },
   {
    "duration": 3,
    "start_time": "2022-12-10T13:27:42.640Z"
   },
   {
    "duration": 25,
    "start_time": "2022-12-10T13:27:42.644Z"
   },
   {
    "duration": 382,
    "start_time": "2022-12-10T13:27:42.671Z"
   },
   {
    "duration": 4,
    "start_time": "2022-12-10T13:27:43.054Z"
   },
   {
    "duration": 190,
    "start_time": "2022-12-10T13:27:43.060Z"
   },
   {
    "duration": 4,
    "start_time": "2022-12-10T13:27:43.251Z"
   },
   {
    "duration": 628,
    "start_time": "2022-12-10T13:27:43.258Z"
   },
   {
    "duration": 2,
    "start_time": "2022-12-10T13:27:43.888Z"
   },
   {
    "duration": 10,
    "start_time": "2022-12-10T13:27:43.892Z"
   },
   {
    "duration": 3471,
    "start_time": "2022-12-10T13:29:07.426Z"
   },
   {
    "duration": 4,
    "start_time": "2022-12-10T13:29:35.721Z"
   },
   {
    "duration": 18,
    "start_time": "2022-12-10T13:29:35.731Z"
   },
   {
    "duration": 22,
    "start_time": "2022-12-10T13:29:35.752Z"
   },
   {
    "duration": 13,
    "start_time": "2022-12-10T13:29:35.776Z"
   },
   {
    "duration": 360,
    "start_time": "2022-12-10T13:29:35.791Z"
   },
   {
    "duration": 92,
    "start_time": "2022-12-10T13:29:36.153Z"
   },
   {
    "duration": 626,
    "start_time": "2022-12-10T13:29:36.247Z"
   },
   {
    "duration": 569,
    "start_time": "2022-12-10T13:29:36.875Z"
   },
   {
    "duration": 2116,
    "start_time": "2022-12-10T13:29:37.446Z"
   },
   {
    "duration": 285,
    "start_time": "2022-12-10T13:29:39.564Z"
   },
   {
    "duration": 931,
    "start_time": "2022-12-10T13:29:39.851Z"
   },
   {
    "duration": 283,
    "start_time": "2022-12-10T13:29:40.784Z"
   },
   {
    "duration": 3,
    "start_time": "2022-12-10T13:29:41.069Z"
   },
   {
    "duration": 380,
    "start_time": "2022-12-10T13:29:41.073Z"
   },
   {
    "duration": 200,
    "start_time": "2022-12-10T13:29:41.457Z"
   },
   {
    "duration": 188,
    "start_time": "2022-12-10T13:29:41.659Z"
   },
   {
    "duration": 4,
    "start_time": "2022-12-10T13:29:41.848Z"
   },
   {
    "duration": 14,
    "start_time": "2022-12-10T13:29:41.854Z"
   },
   {
    "duration": 78,
    "start_time": "2022-12-10T13:29:41.870Z"
   },
   {
    "duration": 299,
    "start_time": "2022-12-10T13:29:41.950Z"
   },
   {
    "duration": 8,
    "start_time": "2022-12-10T13:29:42.251Z"
   },
   {
    "duration": 176,
    "start_time": "2022-12-10T13:29:42.261Z"
   },
   {
    "duration": 3267,
    "start_time": "2022-12-10T13:29:42.439Z"
   },
   {
    "duration": 4,
    "start_time": "2022-12-10T13:29:45.708Z"
   },
   {
    "duration": 758,
    "start_time": "2022-12-10T13:29:45.713Z"
   },
   {
    "duration": 2,
    "start_time": "2022-12-10T13:29:46.474Z"
   },
   {
    "duration": 16,
    "start_time": "2022-12-10T13:29:46.478Z"
   },
   {
    "duration": 4,
    "start_time": "2022-12-10T13:31:53.234Z"
   },
   {
    "duration": 20,
    "start_time": "2022-12-10T13:31:53.240Z"
   },
   {
    "duration": 16,
    "start_time": "2022-12-10T13:31:53.262Z"
   },
   {
    "duration": 9,
    "start_time": "2022-12-10T13:31:53.281Z"
   },
   {
    "duration": 215,
    "start_time": "2022-12-10T13:31:53.292Z"
   },
   {
    "duration": 44,
    "start_time": "2022-12-10T13:31:53.509Z"
   },
   {
    "duration": 327,
    "start_time": "2022-12-10T13:31:53.555Z"
   },
   {
    "duration": 482,
    "start_time": "2022-12-10T13:31:53.884Z"
   },
   {
    "duration": 2081,
    "start_time": "2022-12-10T13:31:54.368Z"
   },
   {
    "duration": 266,
    "start_time": "2022-12-10T13:31:56.452Z"
   },
   {
    "duration": 898,
    "start_time": "2022-12-10T13:31:56.720Z"
   },
   {
    "duration": 316,
    "start_time": "2022-12-10T13:31:57.620Z"
   },
   {
    "duration": 4,
    "start_time": "2022-12-10T13:31:57.938Z"
   },
   {
    "duration": 320,
    "start_time": "2022-12-10T13:31:57.944Z"
   },
   {
    "duration": 201,
    "start_time": "2022-12-10T13:31:58.265Z"
   },
   {
    "duration": 128,
    "start_time": "2022-12-10T13:31:58.468Z"
   },
   {
    "duration": 39,
    "start_time": "2022-12-10T13:31:58.598Z"
   },
   {
    "duration": 8,
    "start_time": "2022-12-10T13:31:58.639Z"
   },
   {
    "duration": 28,
    "start_time": "2022-12-10T13:31:58.649Z"
   },
   {
    "duration": 258,
    "start_time": "2022-12-10T13:31:58.679Z"
   },
   {
    "duration": 7,
    "start_time": "2022-12-10T13:31:58.939Z"
   },
   {
    "duration": 18,
    "start_time": "2022-12-10T13:31:58.948Z"
   },
   {
    "duration": 3,
    "start_time": "2022-12-10T13:31:58.968Z"
   },
   {
    "duration": 773,
    "start_time": "2022-12-10T13:31:58.972Z"
   },
   {
    "duration": 2,
    "start_time": "2022-12-10T13:31:59.748Z"
   },
   {
    "duration": 8,
    "start_time": "2022-12-10T13:31:59.752Z"
   },
   {
    "duration": 4,
    "start_time": "2022-12-10T13:36:32.639Z"
   },
   {
    "duration": 13,
    "start_time": "2022-12-10T13:36:32.646Z"
   },
   {
    "duration": 9,
    "start_time": "2022-12-10T13:36:32.660Z"
   },
   {
    "duration": 12,
    "start_time": "2022-12-10T13:36:32.670Z"
   },
   {
    "duration": 287,
    "start_time": "2022-12-10T13:36:32.684Z"
   },
   {
    "duration": 89,
    "start_time": "2022-12-10T13:36:32.973Z"
   },
   {
    "duration": 316,
    "start_time": "2022-12-10T13:36:33.064Z"
   },
   {
    "duration": 455,
    "start_time": "2022-12-10T13:36:33.383Z"
   },
   {
    "duration": 1455,
    "start_time": "2022-12-10T13:36:33.840Z"
   },
   {
    "duration": 278,
    "start_time": "2022-12-10T13:36:35.297Z"
   },
   {
    "duration": 900,
    "start_time": "2022-12-10T13:36:35.577Z"
   },
   {
    "duration": 283,
    "start_time": "2022-12-10T13:36:36.479Z"
   },
   {
    "duration": 3,
    "start_time": "2022-12-10T13:36:36.764Z"
   },
   {
    "duration": 301,
    "start_time": "2022-12-10T13:36:36.771Z"
   },
   {
    "duration": 175,
    "start_time": "2022-12-10T13:36:37.074Z"
   },
   {
    "duration": 140,
    "start_time": "2022-12-10T13:36:37.250Z"
   },
   {
    "duration": 3,
    "start_time": "2022-12-10T13:36:37.436Z"
   },
   {
    "duration": 16,
    "start_time": "2022-12-10T13:36:37.441Z"
   },
   {
    "duration": 26,
    "start_time": "2022-12-10T13:36:37.459Z"
   },
   {
    "duration": 258,
    "start_time": "2022-12-10T13:36:37.487Z"
   },
   {
    "duration": 4,
    "start_time": "2022-12-10T13:36:37.746Z"
   },
   {
    "duration": 30,
    "start_time": "2022-12-10T13:36:37.752Z"
   },
   {
    "duration": 51,
    "start_time": "2022-12-10T13:36:37.784Z"
   },
   {
    "duration": 4,
    "start_time": "2022-12-10T13:36:37.837Z"
   },
   {
    "duration": 745,
    "start_time": "2022-12-10T13:36:37.842Z"
   },
   {
    "duration": 2,
    "start_time": "2022-12-10T13:36:38.589Z"
   },
   {
    "duration": 16,
    "start_time": "2022-12-10T13:36:38.593Z"
   },
   {
    "duration": 4,
    "start_time": "2022-12-10T13:37:50.660Z"
   },
   {
    "duration": 15,
    "start_time": "2022-12-10T13:37:50.666Z"
   },
   {
    "duration": 11,
    "start_time": "2022-12-10T13:37:50.683Z"
   },
   {
    "duration": 8,
    "start_time": "2022-12-10T13:37:50.695Z"
   },
   {
    "duration": 217,
    "start_time": "2022-12-10T13:37:50.706Z"
   },
   {
    "duration": 47,
    "start_time": "2022-12-10T13:37:50.924Z"
   },
   {
    "duration": 324,
    "start_time": "2022-12-10T13:37:50.973Z"
   },
   {
    "duration": 475,
    "start_time": "2022-12-10T13:37:51.300Z"
   },
   {
    "duration": 1524,
    "start_time": "2022-12-10T13:37:51.777Z"
   },
   {
    "duration": 339,
    "start_time": "2022-12-10T13:37:53.303Z"
   },
   {
    "duration": 862,
    "start_time": "2022-12-10T13:37:53.645Z"
   },
   {
    "duration": 295,
    "start_time": "2022-12-10T13:37:54.509Z"
   },
   {
    "duration": 3,
    "start_time": "2022-12-10T13:37:54.806Z"
   },
   {
    "duration": 272,
    "start_time": "2022-12-10T13:37:54.812Z"
   },
   {
    "duration": 170,
    "start_time": "2022-12-10T13:37:55.085Z"
   },
   {
    "duration": 131,
    "start_time": "2022-12-10T13:37:55.256Z"
   },
   {
    "duration": 4,
    "start_time": "2022-12-10T13:37:55.388Z"
   },
   {
    "duration": 2,
    "start_time": "2022-12-10T13:37:55.436Z"
   },
   {
    "duration": 24,
    "start_time": "2022-12-10T13:37:55.440Z"
   },
   {
    "duration": 227,
    "start_time": "2022-12-10T13:37:55.465Z"
   },
   {
    "duration": 5,
    "start_time": "2022-12-10T13:37:55.694Z"
   },
   {
    "duration": 53,
    "start_time": "2022-12-10T13:37:55.701Z"
   },
   {
    "duration": 15,
    "start_time": "2022-12-10T13:37:55.757Z"
   },
   {
    "duration": 0,
    "start_time": "2022-12-10T13:37:55.774Z"
   },
   {
    "duration": 0,
    "start_time": "2022-12-10T13:37:55.775Z"
   },
   {
    "duration": 0,
    "start_time": "2022-12-10T13:37:55.835Z"
   },
   {
    "duration": 0,
    "start_time": "2022-12-10T13:37:55.836Z"
   },
   {
    "duration": 11,
    "start_time": "2022-12-10T13:39:49.643Z"
   },
   {
    "duration": 5,
    "start_time": "2022-12-10T13:39:56.688Z"
   },
   {
    "duration": 35,
    "start_time": "2022-12-10T13:39:56.695Z"
   },
   {
    "duration": 48,
    "start_time": "2022-12-10T13:39:56.732Z"
   },
   {
    "duration": 25,
    "start_time": "2022-12-10T13:39:56.782Z"
   },
   {
    "duration": 232,
    "start_time": "2022-12-10T13:39:56.810Z"
   },
   {
    "duration": 91,
    "start_time": "2022-12-10T13:39:57.044Z"
   },
   {
    "duration": 476,
    "start_time": "2022-12-10T13:39:57.138Z"
   },
   {
    "duration": 264,
    "start_time": "2022-12-10T13:39:57.615Z"
   },
   {
    "duration": 1482,
    "start_time": "2022-12-10T13:39:57.881Z"
   },
   {
    "duration": 394,
    "start_time": "2022-12-10T13:39:59.365Z"
   },
   {
    "duration": 890,
    "start_time": "2022-12-10T13:39:59.760Z"
   },
   {
    "duration": 284,
    "start_time": "2022-12-10T13:40:00.652Z"
   },
   {
    "duration": 3,
    "start_time": "2022-12-10T13:40:00.939Z"
   },
   {
    "duration": 325,
    "start_time": "2022-12-10T13:40:00.944Z"
   },
   {
    "duration": 122,
    "start_time": "2022-12-10T13:40:01.272Z"
   },
   {
    "duration": 148,
    "start_time": "2022-12-10T13:40:01.396Z"
   },
   {
    "duration": 4,
    "start_time": "2022-12-10T13:40:01.546Z"
   },
   {
    "duration": 37,
    "start_time": "2022-12-10T13:40:01.552Z"
   },
   {
    "duration": 45,
    "start_time": "2022-12-10T13:40:01.591Z"
   },
   {
    "duration": 221,
    "start_time": "2022-12-10T13:40:01.638Z"
   },
   {
    "duration": 4,
    "start_time": "2022-12-10T13:40:01.862Z"
   },
   {
    "duration": 54,
    "start_time": "2022-12-10T13:40:01.868Z"
   },
   {
    "duration": 24,
    "start_time": "2022-12-10T13:40:01.935Z"
   },
   {
    "duration": 22,
    "start_time": "2022-12-10T13:40:01.961Z"
   },
   {
    "duration": 1570,
    "start_time": "2022-12-10T13:40:01.985Z"
   },
   {
    "duration": 3,
    "start_time": "2022-12-10T13:40:03.557Z"
   },
   {
    "duration": 23,
    "start_time": "2022-12-10T13:40:03.562Z"
   },
   {
    "duration": 91,
    "start_time": "2022-12-10T13:40:50.865Z"
   },
   {
    "duration": 648,
    "start_time": "2022-12-10T13:41:07.021Z"
   },
   {
    "duration": 554,
    "start_time": "2022-12-10T13:44:49.195Z"
   },
   {
    "duration": 935,
    "start_time": "2022-12-10T13:45:51.915Z"
   },
   {
    "duration": 5,
    "start_time": "2022-12-10T13:46:08.763Z"
   },
   {
    "duration": 11,
    "start_time": "2022-12-10T13:46:08.770Z"
   },
   {
    "duration": 8,
    "start_time": "2022-12-10T13:46:08.783Z"
   },
   {
    "duration": 5,
    "start_time": "2022-12-10T13:46:08.796Z"
   },
   {
    "duration": 452,
    "start_time": "2022-12-10T13:46:08.802Z"
   },
   {
    "duration": 104,
    "start_time": "2022-12-10T13:46:09.257Z"
   },
   {
    "duration": 959,
    "start_time": "2022-12-10T13:46:09.364Z"
   },
   {
    "duration": 364,
    "start_time": "2022-12-10T13:46:10.325Z"
   },
   {
    "duration": 1614,
    "start_time": "2022-12-10T13:46:10.691Z"
   },
   {
    "duration": 348,
    "start_time": "2022-12-10T13:46:12.311Z"
   },
   {
    "duration": 983,
    "start_time": "2022-12-10T13:46:12.661Z"
   },
   {
    "duration": 363,
    "start_time": "2022-12-10T13:46:13.646Z"
   },
   {
    "duration": 5,
    "start_time": "2022-12-10T13:46:14.011Z"
   },
   {
    "duration": 352,
    "start_time": "2022-12-10T13:46:14.019Z"
   },
   {
    "duration": 140,
    "start_time": "2022-12-10T13:46:14.436Z"
   },
   {
    "duration": 162,
    "start_time": "2022-12-10T13:46:14.579Z"
   },
   {
    "duration": 4,
    "start_time": "2022-12-10T13:46:14.745Z"
   },
   {
    "duration": 10,
    "start_time": "2022-12-10T13:46:14.751Z"
   },
   {
    "duration": 32,
    "start_time": "2022-12-10T13:46:14.763Z"
   },
   {
    "duration": 370,
    "start_time": "2022-12-10T13:46:14.797Z"
   },
   {
    "duration": 67,
    "start_time": "2022-12-10T13:46:15.171Z"
   },
   {
    "duration": 22,
    "start_time": "2022-12-10T13:46:15.240Z"
   },
   {
    "duration": 77,
    "start_time": "2022-12-10T13:46:15.264Z"
   },
   {
    "duration": 4,
    "start_time": "2022-12-10T13:46:15.343Z"
   },
   {
    "duration": 87,
    "start_time": "2022-12-10T13:46:15.349Z"
   },
   {
    "duration": 739,
    "start_time": "2022-12-10T13:46:15.438Z"
   },
   {
    "duration": 4,
    "start_time": "2022-12-10T13:46:16.181Z"
   },
   {
    "duration": 815,
    "start_time": "2022-12-10T13:46:16.189Z"
   },
   {
    "duration": 4,
    "start_time": "2022-12-10T13:47:29.448Z"
   },
   {
    "duration": 30,
    "start_time": "2022-12-10T13:47:29.454Z"
   },
   {
    "duration": 36,
    "start_time": "2022-12-10T13:47:29.485Z"
   },
   {
    "duration": 11,
    "start_time": "2022-12-10T13:47:29.523Z"
   },
   {
    "duration": 235,
    "start_time": "2022-12-10T13:47:29.536Z"
   },
   {
    "duration": 71,
    "start_time": "2022-12-10T13:47:29.773Z"
   },
   {
    "duration": 512,
    "start_time": "2022-12-10T13:47:29.846Z"
   },
   {
    "duration": 276,
    "start_time": "2022-12-10T13:47:30.360Z"
   },
   {
    "duration": 1282,
    "start_time": "2022-12-10T13:47:30.638Z"
   },
   {
    "duration": 259,
    "start_time": "2022-12-10T13:47:31.922Z"
   },
   {
    "duration": 964,
    "start_time": "2022-12-10T13:47:32.183Z"
   },
   {
    "duration": 588,
    "start_time": "2022-12-10T13:47:33.148Z"
   },
   {
    "duration": 4,
    "start_time": "2022-12-10T13:47:33.737Z"
   },
   {
    "duration": 230,
    "start_time": "2022-12-10T13:47:33.744Z"
   },
   {
    "duration": 134,
    "start_time": "2022-12-10T13:47:33.976Z"
   },
   {
    "duration": 135,
    "start_time": "2022-12-10T13:47:34.112Z"
   },
   {
    "duration": 4,
    "start_time": "2022-12-10T13:47:34.249Z"
   },
   {
    "duration": 8,
    "start_time": "2022-12-10T13:47:34.254Z"
   },
   {
    "duration": 22,
    "start_time": "2022-12-10T13:47:34.264Z"
   },
   {
    "duration": 253,
    "start_time": "2022-12-10T13:47:34.288Z"
   },
   {
    "duration": 4,
    "start_time": "2022-12-10T13:47:34.543Z"
   },
   {
    "duration": 23,
    "start_time": "2022-12-10T13:47:34.549Z"
   },
   {
    "duration": 71,
    "start_time": "2022-12-10T13:47:34.574Z"
   },
   {
    "duration": 4,
    "start_time": "2022-12-10T13:47:34.647Z"
   },
   {
    "duration": 102,
    "start_time": "2022-12-10T13:47:34.653Z"
   },
   {
    "duration": 760,
    "start_time": "2022-12-10T13:47:34.757Z"
   },
   {
    "duration": 2,
    "start_time": "2022-12-10T13:47:35.535Z"
   },
   {
    "duration": 1031,
    "start_time": "2022-12-10T13:47:35.539Z"
   },
   {
    "duration": 4,
    "start_time": "2022-12-10T13:54:20.291Z"
   },
   {
    "duration": 4,
    "start_time": "2022-12-10T13:54:27.621Z"
   },
   {
    "duration": 27,
    "start_time": "2022-12-10T13:54:27.627Z"
   },
   {
    "duration": 22,
    "start_time": "2022-12-10T13:54:27.656Z"
   },
   {
    "duration": 21,
    "start_time": "2022-12-10T13:54:27.681Z"
   },
   {
    "duration": 249,
    "start_time": "2022-12-10T13:54:27.704Z"
   },
   {
    "duration": 50,
    "start_time": "2022-12-10T13:54:27.955Z"
   },
   {
    "duration": 270,
    "start_time": "2022-12-10T13:54:28.037Z"
   },
   {
    "duration": 266,
    "start_time": "2022-12-10T13:54:28.309Z"
   },
   {
    "duration": 1388,
    "start_time": "2022-12-10T13:54:28.578Z"
   },
   {
    "duration": 233,
    "start_time": "2022-12-10T13:54:29.967Z"
   },
   {
    "duration": 862,
    "start_time": "2022-12-10T13:54:30.201Z"
   },
   {
    "duration": 482,
    "start_time": "2022-12-10T13:54:31.065Z"
   },
   {
    "duration": 3,
    "start_time": "2022-12-10T13:54:31.549Z"
   },
   {
    "duration": 282,
    "start_time": "2022-12-10T13:54:31.554Z"
   },
   {
    "duration": 120,
    "start_time": "2022-12-10T13:54:31.838Z"
   },
   {
    "duration": 118,
    "start_time": "2022-12-10T13:54:31.960Z"
   },
   {
    "duration": 57,
    "start_time": "2022-12-10T13:54:32.080Z"
   },
   {
    "duration": 14,
    "start_time": "2022-12-10T13:54:32.140Z"
   },
   {
    "duration": 89,
    "start_time": "2022-12-10T13:54:32.156Z"
   },
   {
    "duration": 247,
    "start_time": "2022-12-10T13:54:32.247Z"
   },
   {
    "duration": 42,
    "start_time": "2022-12-10T13:54:32.496Z"
   },
   {
    "duration": 50,
    "start_time": "2022-12-10T13:54:32.540Z"
   },
   {
    "duration": 26,
    "start_time": "2022-12-10T13:54:32.592Z"
   },
   {
    "duration": 9,
    "start_time": "2022-12-10T13:54:32.621Z"
   },
   {
    "duration": 73,
    "start_time": "2022-12-10T13:54:32.635Z"
   },
   {
    "duration": 826,
    "start_time": "2022-12-10T13:54:32.710Z"
   },
   {
    "duration": 3,
    "start_time": "2022-12-10T13:54:33.538Z"
   },
   {
    "duration": 737,
    "start_time": "2022-12-10T13:54:33.543Z"
   },
   {
    "duration": 83,
    "start_time": "2022-12-10T13:58:36.238Z"
   },
   {
    "duration": 5,
    "start_time": "2022-12-10T13:59:01.203Z"
   },
   {
    "duration": 35,
    "start_time": "2022-12-10T13:59:01.209Z"
   },
   {
    "duration": 15,
    "start_time": "2022-12-10T13:59:01.245Z"
   },
   {
    "duration": 9,
    "start_time": "2022-12-10T13:59:01.262Z"
   },
   {
    "duration": 210,
    "start_time": "2022-12-10T13:59:01.274Z"
   },
   {
    "duration": 78,
    "start_time": "2022-12-10T13:59:01.485Z"
   },
   {
    "duration": 313,
    "start_time": "2022-12-10T13:59:01.565Z"
   },
   {
    "duration": 276,
    "start_time": "2022-12-10T13:59:01.880Z"
   },
   {
    "duration": 1515,
    "start_time": "2022-12-10T13:59:02.158Z"
   },
   {
    "duration": 233,
    "start_time": "2022-12-10T13:59:03.674Z"
   },
   {
    "duration": 939,
    "start_time": "2022-12-10T13:59:03.908Z"
   },
   {
    "duration": 468,
    "start_time": "2022-12-10T13:59:04.848Z"
   },
   {
    "duration": 3,
    "start_time": "2022-12-10T13:59:05.317Z"
   },
   {
    "duration": 249,
    "start_time": "2022-12-10T13:59:05.324Z"
   },
   {
    "duration": 115,
    "start_time": "2022-12-10T13:59:05.575Z"
   },
   {
    "duration": 107,
    "start_time": "2022-12-10T13:59:05.692Z"
   },
   {
    "duration": 3,
    "start_time": "2022-12-10T13:59:05.801Z"
   },
   {
    "duration": 48,
    "start_time": "2022-12-10T13:59:05.806Z"
   },
   {
    "duration": 30,
    "start_time": "2022-12-10T13:59:05.855Z"
   },
   {
    "duration": 268,
    "start_time": "2022-12-10T13:59:05.886Z"
   },
   {
    "duration": 4,
    "start_time": "2022-12-10T13:59:06.156Z"
   },
   {
    "duration": 22,
    "start_time": "2022-12-10T13:59:06.161Z"
   },
   {
    "duration": 61,
    "start_time": "2022-12-10T13:59:06.185Z"
   },
   {
    "duration": 6,
    "start_time": "2022-12-10T13:59:06.249Z"
   },
   {
    "duration": 101,
    "start_time": "2022-12-10T13:59:06.257Z"
   },
   {
    "duration": 3,
    "start_time": "2022-12-10T13:59:06.360Z"
   },
   {
    "duration": 790,
    "start_time": "2022-12-10T13:59:06.364Z"
   },
   {
    "duration": 808,
    "start_time": "2022-12-10T13:59:07.156Z"
   },
   {
    "duration": 18,
    "start_time": "2022-12-10T13:59:07.965Z"
   },
   {
    "duration": 17,
    "start_time": "2022-12-10T14:01:11.213Z"
   },
   {
    "duration": 2134,
    "start_time": "2022-12-10T14:01:45.354Z"
   },
   {
    "duration": 1539,
    "start_time": "2022-12-10T14:03:51.338Z"
   },
   {
    "duration": 4,
    "start_time": "2022-12-10T14:05:42.636Z"
   },
   {
    "duration": 8,
    "start_time": "2022-12-10T14:09:05.769Z"
   },
   {
    "duration": 12,
    "start_time": "2022-12-10T14:09:05.779Z"
   },
   {
    "duration": 30,
    "start_time": "2022-12-10T14:09:05.793Z"
   },
   {
    "duration": 17,
    "start_time": "2022-12-10T14:09:05.824Z"
   },
   {
    "duration": 224,
    "start_time": "2022-12-10T14:09:05.843Z"
   },
   {
    "duration": 99,
    "start_time": "2022-12-10T14:09:06.069Z"
   },
   {
    "duration": 321,
    "start_time": "2022-12-10T14:09:06.170Z"
   },
   {
    "duration": 325,
    "start_time": "2022-12-10T14:09:06.493Z"
   },
   {
    "duration": 1868,
    "start_time": "2022-12-10T14:09:06.820Z"
   },
   {
    "duration": 467,
    "start_time": "2022-12-10T14:09:08.689Z"
   },
   {
    "duration": 909,
    "start_time": "2022-12-10T14:09:09.158Z"
   },
   {
    "duration": 296,
    "start_time": "2022-12-10T14:09:10.068Z"
   },
   {
    "duration": 3,
    "start_time": "2022-12-10T14:09:10.366Z"
   },
   {
    "duration": 280,
    "start_time": "2022-12-10T14:09:10.372Z"
   },
   {
    "duration": 193,
    "start_time": "2022-12-10T14:09:10.654Z"
   },
   {
    "duration": 193,
    "start_time": "2022-12-10T14:09:10.849Z"
   },
   {
    "duration": 3,
    "start_time": "2022-12-10T14:09:11.044Z"
   },
   {
    "duration": 9,
    "start_time": "2022-12-10T14:09:11.049Z"
   },
   {
    "duration": 88,
    "start_time": "2022-12-10T14:09:11.060Z"
   },
   {
    "duration": 389,
    "start_time": "2022-12-10T14:09:11.150Z"
   },
   {
    "duration": 5,
    "start_time": "2022-12-10T14:09:11.541Z"
   },
   {
    "duration": 22,
    "start_time": "2022-12-10T14:09:11.547Z"
   },
   {
    "duration": 10,
    "start_time": "2022-12-10T14:09:11.570Z"
   },
   {
    "duration": 3,
    "start_time": "2022-12-10T14:09:11.582Z"
   },
   {
    "duration": 96,
    "start_time": "2022-12-10T14:09:11.587Z"
   },
   {
    "duration": 2,
    "start_time": "2022-12-10T14:09:11.685Z"
   },
   {
    "duration": 632,
    "start_time": "2022-12-10T14:09:11.689Z"
   },
   {
    "duration": 543,
    "start_time": "2022-12-10T14:09:12.334Z"
   },
   {
    "duration": 1293,
    "start_time": "2022-12-10T14:09:12.879Z"
   },
   {
    "duration": 876,
    "start_time": "2022-12-10T14:09:14.174Z"
   },
   {
    "duration": 4,
    "start_time": "2022-12-10T14:09:15.052Z"
   },
   {
    "duration": 2884,
    "start_time": "2022-12-10T14:10:08.099Z"
   },
   {
    "duration": 7,
    "start_time": "2022-12-10T14:10:23.971Z"
   },
   {
    "duration": 4,
    "start_time": "2022-12-10T14:10:27.518Z"
   },
   {
    "duration": 20,
    "start_time": "2022-12-10T14:10:27.524Z"
   },
   {
    "duration": 16,
    "start_time": "2022-12-10T14:10:27.546Z"
   },
   {
    "duration": 14,
    "start_time": "2022-12-10T14:10:27.564Z"
   },
   {
    "duration": 211,
    "start_time": "2022-12-10T14:10:27.581Z"
   },
   {
    "duration": 118,
    "start_time": "2022-12-10T14:10:27.795Z"
   },
   {
    "duration": 254,
    "start_time": "2022-12-10T14:10:27.915Z"
   },
   {
    "duration": 247,
    "start_time": "2022-12-10T14:10:28.171Z"
   },
   {
    "duration": 1218,
    "start_time": "2022-12-10T14:10:28.420Z"
   },
   {
    "duration": 453,
    "start_time": "2022-12-10T14:10:29.640Z"
   },
   {
    "duration": 885,
    "start_time": "2022-12-10T14:10:30.095Z"
   },
   {
    "duration": 294,
    "start_time": "2022-12-10T14:10:30.982Z"
   },
   {
    "duration": 3,
    "start_time": "2022-12-10T14:10:31.280Z"
   },
   {
    "duration": 363,
    "start_time": "2022-12-10T14:10:31.285Z"
   },
   {
    "duration": 145,
    "start_time": "2022-12-10T14:10:31.650Z"
   },
   {
    "duration": 95,
    "start_time": "2022-12-10T14:10:31.797Z"
   },
   {
    "duration": 4,
    "start_time": "2022-12-10T14:10:31.894Z"
   },
   {
    "duration": 35,
    "start_time": "2022-12-10T14:10:31.900Z"
   },
   {
    "duration": 37,
    "start_time": "2022-12-10T14:10:31.937Z"
   },
   {
    "duration": 201,
    "start_time": "2022-12-10T14:10:31.976Z"
   },
   {
    "duration": 4,
    "start_time": "2022-12-10T14:10:32.179Z"
   },
   {
    "duration": 60,
    "start_time": "2022-12-10T14:10:32.184Z"
   },
   {
    "duration": 18,
    "start_time": "2022-12-10T14:10:32.246Z"
   },
   {
    "duration": 0,
    "start_time": "2022-12-10T14:10:32.265Z"
   },
   {
    "duration": 0,
    "start_time": "2022-12-10T14:10:32.267Z"
   },
   {
    "duration": 0,
    "start_time": "2022-12-10T14:10:32.268Z"
   },
   {
    "duration": 0,
    "start_time": "2022-12-10T14:10:32.269Z"
   },
   {
    "duration": 0,
    "start_time": "2022-12-10T14:10:32.270Z"
   },
   {
    "duration": 0,
    "start_time": "2022-12-10T14:10:32.272Z"
   },
   {
    "duration": 0,
    "start_time": "2022-12-10T14:10:32.273Z"
   },
   {
    "duration": 0,
    "start_time": "2022-12-10T14:10:32.275Z"
   },
   {
    "duration": 0,
    "start_time": "2022-12-10T14:10:32.276Z"
   },
   {
    "duration": 4,
    "start_time": "2022-12-10T14:11:15.086Z"
   },
   {
    "duration": 41,
    "start_time": "2022-12-10T14:11:15.093Z"
   },
   {
    "duration": 14,
    "start_time": "2022-12-10T14:11:15.136Z"
   },
   {
    "duration": 20,
    "start_time": "2022-12-10T14:11:15.152Z"
   },
   {
    "duration": 205,
    "start_time": "2022-12-10T14:11:15.174Z"
   },
   {
    "duration": 57,
    "start_time": "2022-12-10T14:11:15.381Z"
   },
   {
    "duration": 276,
    "start_time": "2022-12-10T14:11:15.440Z"
   },
   {
    "duration": 304,
    "start_time": "2022-12-10T14:11:15.717Z"
   },
   {
    "duration": 1876,
    "start_time": "2022-12-10T14:11:16.022Z"
   },
   {
    "duration": 581,
    "start_time": "2022-12-10T14:11:17.901Z"
   },
   {
    "duration": 980,
    "start_time": "2022-12-10T14:11:18.484Z"
   },
   {
    "duration": 334,
    "start_time": "2022-12-10T14:11:19.466Z"
   },
   {
    "duration": 4,
    "start_time": "2022-12-10T14:11:19.801Z"
   },
   {
    "duration": 333,
    "start_time": "2022-12-10T14:11:19.806Z"
   },
   {
    "duration": 112,
    "start_time": "2022-12-10T14:11:20.142Z"
   },
   {
    "duration": 112,
    "start_time": "2022-12-10T14:11:20.256Z"
   },
   {
    "duration": 4,
    "start_time": "2022-12-10T14:11:20.370Z"
   },
   {
    "duration": 14,
    "start_time": "2022-12-10T14:11:20.376Z"
   },
   {
    "duration": 73,
    "start_time": "2022-12-10T14:11:20.392Z"
   },
   {
    "duration": 273,
    "start_time": "2022-12-10T14:11:20.468Z"
   },
   {
    "duration": 6,
    "start_time": "2022-12-10T14:11:20.743Z"
   },
   {
    "duration": 52,
    "start_time": "2022-12-10T14:11:20.751Z"
   },
   {
    "duration": 2952,
    "start_time": "2022-12-10T14:11:20.804Z"
   },
   {
    "duration": 12,
    "start_time": "2022-12-10T14:11:23.758Z"
   },
   {
    "duration": 13,
    "start_time": "2022-12-10T14:11:23.772Z"
   },
   {
    "duration": 62,
    "start_time": "2022-12-10T14:11:23.786Z"
   },
   {
    "duration": 2,
    "start_time": "2022-12-10T14:11:23.850Z"
   },
   {
    "duration": 517,
    "start_time": "2022-12-10T14:11:23.856Z"
   },
   {
    "duration": 786,
    "start_time": "2022-12-10T14:11:24.375Z"
   },
   {
    "duration": 1080,
    "start_time": "2022-12-10T14:11:25.164Z"
   },
   {
    "duration": 1108,
    "start_time": "2022-12-10T14:11:26.246Z"
   },
   {
    "duration": 4,
    "start_time": "2022-12-10T14:11:27.356Z"
   },
   {
    "duration": 2348,
    "start_time": "2022-12-10T14:13:25.854Z"
   },
   {
    "duration": 3128,
    "start_time": "2022-12-10T14:14:55.863Z"
   },
   {
    "duration": 3,
    "start_time": "2022-12-10T14:15:02.912Z"
   },
   {
    "duration": 8,
    "start_time": "2022-12-10T14:15:02.917Z"
   },
   {
    "duration": 10,
    "start_time": "2022-12-10T14:15:02.926Z"
   },
   {
    "duration": 5,
    "start_time": "2022-12-10T14:15:02.937Z"
   },
   {
    "duration": 213,
    "start_time": "2022-12-10T14:15:02.944Z"
   },
   {
    "duration": 35,
    "start_time": "2022-12-10T14:15:03.159Z"
   },
   {
    "duration": 300,
    "start_time": "2022-12-10T14:15:03.195Z"
   },
   {
    "duration": 241,
    "start_time": "2022-12-10T14:15:03.497Z"
   },
   {
    "duration": 1206,
    "start_time": "2022-12-10T14:15:03.739Z"
   },
   {
    "duration": 235,
    "start_time": "2022-12-10T14:15:04.949Z"
   },
   {
    "duration": 867,
    "start_time": "2022-12-10T14:15:05.186Z"
   },
   {
    "duration": 265,
    "start_time": "2022-12-10T14:15:06.055Z"
   },
   {
    "duration": 3,
    "start_time": "2022-12-10T14:15:06.321Z"
   },
   {
    "duration": 209,
    "start_time": "2022-12-10T14:15:06.335Z"
   },
   {
    "duration": 175,
    "start_time": "2022-12-10T14:15:06.546Z"
   },
   {
    "duration": 107,
    "start_time": "2022-12-10T14:15:06.735Z"
   },
   {
    "duration": 4,
    "start_time": "2022-12-10T14:15:06.844Z"
   },
   {
    "duration": 7,
    "start_time": "2022-12-10T14:15:06.849Z"
   },
   {
    "duration": 22,
    "start_time": "2022-12-10T14:15:06.858Z"
   },
   {
    "duration": 254,
    "start_time": "2022-12-10T14:15:06.881Z"
   },
   {
    "duration": 5,
    "start_time": "2022-12-10T14:15:07.137Z"
   },
   {
    "duration": 34,
    "start_time": "2022-12-10T14:15:07.144Z"
   },
   {
    "duration": 3557,
    "start_time": "2022-12-10T14:15:07.180Z"
   },
   {
    "duration": 0,
    "start_time": "2022-12-10T14:15:10.739Z"
   },
   {
    "duration": 0,
    "start_time": "2022-12-10T14:15:10.740Z"
   },
   {
    "duration": 0,
    "start_time": "2022-12-10T14:15:10.741Z"
   },
   {
    "duration": 0,
    "start_time": "2022-12-10T14:15:10.743Z"
   },
   {
    "duration": 0,
    "start_time": "2022-12-10T14:15:10.745Z"
   },
   {
    "duration": 0,
    "start_time": "2022-12-10T14:15:10.746Z"
   },
   {
    "duration": 0,
    "start_time": "2022-12-10T14:15:10.748Z"
   },
   {
    "duration": 0,
    "start_time": "2022-12-10T14:15:10.750Z"
   },
   {
    "duration": 0,
    "start_time": "2022-12-10T14:15:10.751Z"
   },
   {
    "duration": 2633,
    "start_time": "2022-12-10T14:17:06.510Z"
   },
   {
    "duration": 2890,
    "start_time": "2022-12-10T14:17:16.047Z"
   },
   {
    "duration": 3,
    "start_time": "2022-12-10T14:18:46.212Z"
   },
   {
    "duration": 7,
    "start_time": "2022-12-10T14:18:46.217Z"
   },
   {
    "duration": 5,
    "start_time": "2022-12-10T14:18:46.226Z"
   },
   {
    "duration": 5,
    "start_time": "2022-12-10T14:18:46.232Z"
   },
   {
    "duration": 217,
    "start_time": "2022-12-10T14:18:46.239Z"
   },
   {
    "duration": 47,
    "start_time": "2022-12-10T14:18:46.458Z"
   },
   {
    "duration": 333,
    "start_time": "2022-12-10T14:18:46.506Z"
   },
   {
    "duration": 299,
    "start_time": "2022-12-10T14:18:46.841Z"
   },
   {
    "duration": 1620,
    "start_time": "2022-12-10T14:18:47.142Z"
   },
   {
    "duration": 375,
    "start_time": "2022-12-10T14:18:48.763Z"
   },
   {
    "duration": 938,
    "start_time": "2022-12-10T14:18:49.141Z"
   },
   {
    "duration": 259,
    "start_time": "2022-12-10T14:18:50.083Z"
   },
   {
    "duration": 3,
    "start_time": "2022-12-10T14:18:50.344Z"
   },
   {
    "duration": 593,
    "start_time": "2022-12-10T14:18:50.349Z"
   },
   {
    "duration": 311,
    "start_time": "2022-12-10T14:18:50.944Z"
   },
   {
    "duration": 179,
    "start_time": "2022-12-10T14:18:51.257Z"
   },
   {
    "duration": 3,
    "start_time": "2022-12-10T14:18:51.438Z"
   },
   {
    "duration": 19,
    "start_time": "2022-12-10T14:18:51.443Z"
   },
   {
    "duration": 19,
    "start_time": "2022-12-10T14:18:51.464Z"
   },
   {
    "duration": 207,
    "start_time": "2022-12-10T14:18:51.485Z"
   },
   {
    "duration": 41,
    "start_time": "2022-12-10T14:18:51.694Z"
   },
   {
    "duration": 17,
    "start_time": "2022-12-10T14:18:51.737Z"
   },
   {
    "duration": 2791,
    "start_time": "2022-12-10T14:18:51.756Z"
   },
   {
    "duration": 16,
    "start_time": "2022-12-10T14:18:54.549Z"
   },
   {
    "duration": 4,
    "start_time": "2022-12-10T14:18:54.567Z"
   },
   {
    "duration": 66,
    "start_time": "2022-12-10T14:18:54.573Z"
   },
   {
    "duration": 2,
    "start_time": "2022-12-10T14:18:54.641Z"
   },
   {
    "duration": 492,
    "start_time": "2022-12-10T14:18:54.645Z"
   },
   {
    "duration": 935,
    "start_time": "2022-12-10T14:18:55.139Z"
   },
   {
    "duration": 1210,
    "start_time": "2022-12-10T14:18:56.136Z"
   },
   {
    "duration": 846,
    "start_time": "2022-12-10T14:18:57.348Z"
   },
   {
    "duration": 4,
    "start_time": "2022-12-10T14:18:58.199Z"
   },
   {
    "duration": 2561,
    "start_time": "2022-12-10T14:20:00.112Z"
   },
   {
    "duration": 9,
    "start_time": "2022-12-10T14:22:07.721Z"
   },
   {
    "duration": 4,
    "start_time": "2022-12-10T14:22:09.322Z"
   },
   {
    "duration": 5,
    "start_time": "2022-12-10T14:22:15.853Z"
   },
   {
    "duration": 20,
    "start_time": "2022-12-10T14:22:15.859Z"
   },
   {
    "duration": 19,
    "start_time": "2022-12-10T14:22:15.881Z"
   },
   {
    "duration": 17,
    "start_time": "2022-12-10T14:22:15.902Z"
   },
   {
    "duration": 200,
    "start_time": "2022-12-10T14:22:15.921Z"
   },
   {
    "duration": 53,
    "start_time": "2022-12-10T14:22:16.123Z"
   },
   {
    "duration": 314,
    "start_time": "2022-12-10T14:22:16.177Z"
   },
   {
    "duration": 323,
    "start_time": "2022-12-10T14:22:16.493Z"
   },
   {
    "duration": 1275,
    "start_time": "2022-12-10T14:22:16.817Z"
   },
   {
    "duration": 262,
    "start_time": "2022-12-10T14:22:18.098Z"
   },
   {
    "duration": 941,
    "start_time": "2022-12-10T14:22:18.362Z"
   },
   {
    "duration": 282,
    "start_time": "2022-12-10T14:22:19.305Z"
   },
   {
    "duration": 4,
    "start_time": "2022-12-10T14:22:19.589Z"
   },
   {
    "duration": 260,
    "start_time": "2022-12-10T14:22:19.594Z"
   },
   {
    "duration": 115,
    "start_time": "2022-12-10T14:22:19.856Z"
   },
   {
    "duration": 187,
    "start_time": "2022-12-10T14:22:19.973Z"
   },
   {
    "duration": 4,
    "start_time": "2022-12-10T14:22:20.162Z"
   },
   {
    "duration": 30,
    "start_time": "2022-12-10T14:22:20.168Z"
   },
   {
    "duration": 42,
    "start_time": "2022-12-10T14:22:20.200Z"
   },
   {
    "duration": 411,
    "start_time": "2022-12-10T14:22:20.244Z"
   },
   {
    "duration": 4,
    "start_time": "2022-12-10T14:22:20.658Z"
   },
   {
    "duration": 42,
    "start_time": "2022-12-10T14:22:20.664Z"
   },
   {
    "duration": 2937,
    "start_time": "2022-12-10T14:22:20.708Z"
   },
   {
    "duration": 9,
    "start_time": "2022-12-10T14:22:23.646Z"
   },
   {
    "duration": 7,
    "start_time": "2022-12-10T14:22:23.657Z"
   },
   {
    "duration": 102,
    "start_time": "2022-12-10T14:22:23.665Z"
   },
   {
    "duration": 2,
    "start_time": "2022-12-10T14:22:23.769Z"
   },
   {
    "duration": 1105,
    "start_time": "2022-12-10T14:22:23.775Z"
   },
   {
    "duration": 112,
    "start_time": "2022-12-10T14:22:24.882Z"
   },
   {
    "duration": 0,
    "start_time": "2022-12-10T14:22:24.996Z"
   },
   {
    "duration": 0,
    "start_time": "2022-12-10T14:22:24.997Z"
   },
   {
    "duration": 0,
    "start_time": "2022-12-10T14:22:24.998Z"
   },
   {
    "duration": 390,
    "start_time": "2022-12-10T14:23:09.715Z"
   },
   {
    "duration": 4,
    "start_time": "2022-12-10T14:23:13.366Z"
   },
   {
    "duration": 30,
    "start_time": "2022-12-10T14:23:13.373Z"
   },
   {
    "duration": 18,
    "start_time": "2022-12-10T14:23:13.405Z"
   },
   {
    "duration": 30,
    "start_time": "2022-12-10T14:23:13.426Z"
   },
   {
    "duration": 293,
    "start_time": "2022-12-10T14:23:13.459Z"
   },
   {
    "duration": 185,
    "start_time": "2022-12-10T14:23:13.754Z"
   },
   {
    "duration": 523,
    "start_time": "2022-12-10T14:23:13.941Z"
   },
   {
    "duration": 512,
    "start_time": "2022-12-10T14:23:14.466Z"
   },
   {
    "duration": 2628,
    "start_time": "2022-12-10T14:23:15.035Z"
   },
   {
    "duration": 490,
    "start_time": "2022-12-10T14:23:17.666Z"
   },
   {
    "duration": 1905,
    "start_time": "2022-12-10T14:23:18.158Z"
   },
   {
    "duration": 584,
    "start_time": "2022-12-10T14:23:20.066Z"
   },
   {
    "duration": 4,
    "start_time": "2022-12-10T14:23:20.652Z"
   },
   {
    "duration": 519,
    "start_time": "2022-12-10T14:23:20.660Z"
   },
   {
    "duration": 210,
    "start_time": "2022-12-10T14:23:21.236Z"
   },
   {
    "duration": 202,
    "start_time": "2022-12-10T14:23:21.448Z"
   },
   {
    "duration": 4,
    "start_time": "2022-12-10T14:23:21.652Z"
   },
   {
    "duration": 11,
    "start_time": "2022-12-10T14:23:21.658Z"
   },
   {
    "duration": 76,
    "start_time": "2022-12-10T14:23:21.673Z"
   },
   {
    "duration": 412,
    "start_time": "2022-12-10T14:23:21.751Z"
   },
   {
    "duration": 9,
    "start_time": "2022-12-10T14:23:22.164Z"
   },
   {
    "duration": 79,
    "start_time": "2022-12-10T14:23:22.175Z"
   },
   {
    "duration": 5502,
    "start_time": "2022-12-10T14:23:22.256Z"
   },
   {
    "duration": 12,
    "start_time": "2022-12-10T14:23:27.760Z"
   },
   {
    "duration": 61,
    "start_time": "2022-12-10T14:23:27.774Z"
   },
   {
    "duration": 116,
    "start_time": "2022-12-10T14:23:27.838Z"
   },
   {
    "duration": 80,
    "start_time": "2022-12-10T14:23:27.956Z"
   },
   {
    "duration": 1201,
    "start_time": "2022-12-10T14:23:28.040Z"
   },
   {
    "duration": 523,
    "start_time": "2022-12-10T14:23:29.243Z"
   },
   {
    "duration": 178,
    "start_time": "2022-12-10T14:23:29.768Z"
   },
   {
    "duration": 0,
    "start_time": "2022-12-10T14:23:29.947Z"
   },
   {
    "duration": 0,
    "start_time": "2022-12-10T14:23:29.949Z"
   },
   {
    "duration": 1440,
    "start_time": "2022-12-10T14:24:01.459Z"
   },
   {
    "duration": 1373,
    "start_time": "2022-12-10T14:24:07.520Z"
   },
   {
    "duration": 3,
    "start_time": "2022-12-10T14:24:19.188Z"
   },
   {
    "duration": 11,
    "start_time": "2022-12-10T14:24:42.749Z"
   },
   {
    "duration": 7,
    "start_time": "2022-12-10T14:24:42.762Z"
   },
   {
    "duration": 14,
    "start_time": "2022-12-10T14:24:42.771Z"
   },
   {
    "duration": 10,
    "start_time": "2022-12-10T14:24:42.787Z"
   },
   {
    "duration": 195,
    "start_time": "2022-12-10T14:24:42.799Z"
   },
   {
    "duration": 65,
    "start_time": "2022-12-10T14:24:42.996Z"
   },
   {
    "duration": 291,
    "start_time": "2022-12-10T14:24:43.063Z"
   },
   {
    "duration": 598,
    "start_time": "2022-12-10T14:24:43.357Z"
   },
   {
    "duration": 1336,
    "start_time": "2022-12-10T14:24:43.958Z"
   },
   {
    "duration": 252,
    "start_time": "2022-12-10T14:24:45.297Z"
   },
   {
    "duration": 936,
    "start_time": "2022-12-10T14:24:45.550Z"
   },
   {
    "duration": 334,
    "start_time": "2022-12-10T14:24:46.488Z"
   },
   {
    "duration": 11,
    "start_time": "2022-12-10T14:24:46.824Z"
   },
   {
    "duration": 307,
    "start_time": "2022-12-10T14:24:46.839Z"
   },
   {
    "duration": 131,
    "start_time": "2022-12-10T14:24:47.148Z"
   },
   {
    "duration": 162,
    "start_time": "2022-12-10T14:24:47.281Z"
   },
   {
    "duration": 4,
    "start_time": "2022-12-10T14:24:47.445Z"
   },
   {
    "duration": 20,
    "start_time": "2022-12-10T14:24:47.451Z"
   },
   {
    "duration": 86,
    "start_time": "2022-12-10T14:24:47.473Z"
   },
   {
    "duration": 282,
    "start_time": "2022-12-10T14:24:47.561Z"
   },
   {
    "duration": 4,
    "start_time": "2022-12-10T14:24:47.845Z"
   },
   {
    "duration": 46,
    "start_time": "2022-12-10T14:24:47.851Z"
   },
   {
    "duration": 2415,
    "start_time": "2022-12-10T14:24:47.898Z"
   },
   {
    "duration": 10,
    "start_time": "2022-12-10T14:24:50.316Z"
   },
   {
    "duration": 4,
    "start_time": "2022-12-10T14:24:50.334Z"
   },
   {
    "duration": 51,
    "start_time": "2022-12-10T14:24:50.340Z"
   },
   {
    "duration": 3,
    "start_time": "2022-12-10T14:24:50.393Z"
   },
   {
    "duration": 814,
    "start_time": "2022-12-10T14:24:50.398Z"
   },
   {
    "duration": 296,
    "start_time": "2022-12-10T14:24:51.215Z"
   },
   {
    "duration": 1338,
    "start_time": "2022-12-10T14:24:51.513Z"
   },
   {
    "duration": 1493,
    "start_time": "2022-12-10T14:24:52.854Z"
   },
   {
    "duration": 4,
    "start_time": "2022-12-10T14:24:54.349Z"
   },
   {
    "duration": 54,
    "start_time": "2022-12-14T02:44:15.472Z"
   },
   {
    "duration": 1057,
    "start_time": "2022-12-14T02:44:20.220Z"
   },
   {
    "duration": 4,
    "start_time": "2022-12-14T02:44:21.279Z"
   },
   {
    "duration": 15581,
    "start_time": "2022-12-14T02:44:21.284Z"
   },
   {
    "duration": 366,
    "start_time": "2022-12-14T02:44:36.867Z"
   },
   {
    "duration": 0,
    "start_time": "2022-12-14T02:44:37.237Z"
   },
   {
    "duration": 0,
    "start_time": "2022-12-14T02:44:37.239Z"
   },
   {
    "duration": 0,
    "start_time": "2022-12-14T02:44:37.240Z"
   },
   {
    "duration": 0,
    "start_time": "2022-12-14T02:44:37.241Z"
   },
   {
    "duration": 0,
    "start_time": "2022-12-14T02:44:37.243Z"
   },
   {
    "duration": 0,
    "start_time": "2022-12-14T02:44:37.244Z"
   },
   {
    "duration": 0,
    "start_time": "2022-12-14T02:44:37.245Z"
   },
   {
    "duration": 0,
    "start_time": "2022-12-14T02:44:37.246Z"
   },
   {
    "duration": 0,
    "start_time": "2022-12-14T02:44:37.248Z"
   },
   {
    "duration": 0,
    "start_time": "2022-12-14T02:44:37.249Z"
   },
   {
    "duration": 0,
    "start_time": "2022-12-14T02:44:37.250Z"
   },
   {
    "duration": 0,
    "start_time": "2022-12-14T02:44:37.316Z"
   },
   {
    "duration": 0,
    "start_time": "2022-12-14T02:44:37.317Z"
   },
   {
    "duration": 0,
    "start_time": "2022-12-14T02:44:37.318Z"
   },
   {
    "duration": 0,
    "start_time": "2022-12-14T02:44:37.320Z"
   },
   {
    "duration": 0,
    "start_time": "2022-12-14T02:44:37.321Z"
   },
   {
    "duration": 0,
    "start_time": "2022-12-14T02:44:37.322Z"
   },
   {
    "duration": 0,
    "start_time": "2022-12-14T02:44:37.323Z"
   },
   {
    "duration": 0,
    "start_time": "2022-12-14T02:44:37.325Z"
   },
   {
    "duration": 0,
    "start_time": "2022-12-14T02:44:37.326Z"
   },
   {
    "duration": 0,
    "start_time": "2022-12-14T02:44:37.327Z"
   },
   {
    "duration": 0,
    "start_time": "2022-12-14T02:44:37.328Z"
   },
   {
    "duration": 0,
    "start_time": "2022-12-14T02:44:37.329Z"
   },
   {
    "duration": 0,
    "start_time": "2022-12-14T02:44:37.330Z"
   },
   {
    "duration": 0,
    "start_time": "2022-12-14T02:44:37.331Z"
   },
   {
    "duration": 4,
    "start_time": "2022-12-14T02:50:02.720Z"
   },
   {
    "duration": 13,
    "start_time": "2022-12-14T02:50:02.726Z"
   },
   {
    "duration": 11,
    "start_time": "2022-12-14T02:50:02.740Z"
   },
   {
    "duration": 8862,
    "start_time": "2022-12-14T02:50:02.754Z"
   },
   {
    "duration": 1523,
    "start_time": "2022-12-14T02:50:11.618Z"
   },
   {
    "duration": 2106,
    "start_time": "2022-12-14T02:50:13.144Z"
   },
   {
    "duration": 1259,
    "start_time": "2022-12-14T02:50:15.317Z"
   },
   {
    "duration": 5941,
    "start_time": "2022-12-14T02:50:16.577Z"
   },
   {
    "duration": 709,
    "start_time": "2022-12-14T02:50:22.521Z"
   },
   {
    "duration": 3676,
    "start_time": "2022-12-14T02:50:23.234Z"
   },
   {
    "duration": 666,
    "start_time": "2022-12-14T02:50:26.912Z"
   },
   {
    "duration": 2042,
    "start_time": "2022-12-14T02:50:27.580Z"
   },
   {
    "duration": 993,
    "start_time": "2022-12-14T02:50:29.624Z"
   },
   {
    "duration": 322,
    "start_time": "2022-12-14T02:50:30.618Z"
   },
   {
    "duration": 1018,
    "start_time": "2022-12-14T02:50:30.942Z"
   },
   {
    "duration": 3,
    "start_time": "2022-12-14T02:50:31.961Z"
   },
   {
    "duration": 2152,
    "start_time": "2022-12-14T02:50:31.966Z"
   },
   {
    "duration": 319,
    "start_time": "2022-12-14T02:50:34.120Z"
   },
   {
    "duration": 475,
    "start_time": "2022-12-14T02:50:34.441Z"
   },
   {
    "duration": 1507,
    "start_time": "2022-12-14T02:50:34.919Z"
   },
   {
    "duration": 594,
    "start_time": "2022-12-14T02:50:36.430Z"
   },
   {
    "duration": 2696,
    "start_time": "2022-12-14T02:50:37.026Z"
   },
   {
    "duration": 4800,
    "start_time": "2022-12-14T02:50:39.724Z"
   },
   {
    "duration": 2098,
    "start_time": "2022-12-14T02:50:44.527Z"
   },
   {
    "duration": 3212,
    "start_time": "2022-12-14T02:50:46.628Z"
   },
   {
    "duration": 1993,
    "start_time": "2022-12-14T02:50:49.842Z"
   },
   {
    "duration": 181,
    "start_time": "2022-12-14T02:50:51.836Z"
   },
   {
    "duration": 408,
    "start_time": "2022-12-14T02:50:52.019Z"
   },
   {
    "duration": 424,
    "start_time": "2022-12-14T02:50:52.429Z"
   },
   {
    "duration": 816,
    "start_time": "2022-12-14T02:52:29.234Z"
   },
   {
    "duration": 1456,
    "start_time": "2022-12-14T02:54:41.469Z"
   },
   {
    "duration": 5,
    "start_time": "2022-12-14T02:55:10.983Z"
   },
   {
    "duration": 8,
    "start_time": "2022-12-14T02:55:10.990Z"
   },
   {
    "duration": 9,
    "start_time": "2022-12-14T02:55:11.000Z"
   },
   {
    "duration": 546,
    "start_time": "2022-12-14T02:55:11.011Z"
   },
   {
    "duration": 111,
    "start_time": "2022-12-14T02:55:11.617Z"
   },
   {
    "duration": 723,
    "start_time": "2022-12-14T02:55:11.730Z"
   },
   {
    "duration": 916,
    "start_time": "2022-12-14T02:55:12.516Z"
   },
   {
    "duration": 2,
    "start_time": "2022-12-14T02:55:13.434Z"
   },
   {
    "duration": 2903,
    "start_time": "2022-12-14T02:55:13.438Z"
   },
   {
    "duration": 688,
    "start_time": "2022-12-14T02:55:16.344Z"
   },
   {
    "duration": 3659,
    "start_time": "2022-12-14T02:55:17.033Z"
   },
   {
    "duration": 624,
    "start_time": "2022-12-14T02:55:20.694Z"
   },
   {
    "duration": 904,
    "start_time": "2022-12-14T02:55:21.320Z"
   },
   {
    "duration": 600,
    "start_time": "2022-12-14T02:55:22.227Z"
   },
   {
    "duration": 177,
    "start_time": "2022-12-14T02:55:22.829Z"
   },
   {
    "duration": 810,
    "start_time": "2022-12-14T02:55:23.007Z"
   },
   {
    "duration": 3,
    "start_time": "2022-12-14T02:55:23.819Z"
   },
   {
    "duration": 633,
    "start_time": "2022-12-14T02:55:23.824Z"
   },
   {
    "duration": 186,
    "start_time": "2022-12-14T02:55:24.459Z"
   },
   {
    "duration": 178,
    "start_time": "2022-12-14T02:55:24.646Z"
   },
   {
    "duration": 534,
    "start_time": "2022-12-14T02:55:24.825Z"
   },
   {
    "duration": 258,
    "start_time": "2022-12-14T02:55:25.361Z"
   },
   {
    "duration": 1171,
    "start_time": "2022-12-14T02:55:25.620Z"
   },
   {
    "duration": 2128,
    "start_time": "2022-12-14T02:55:26.793Z"
   },
   {
    "duration": 1417,
    "start_time": "2022-12-14T02:55:28.923Z"
   },
   {
    "duration": 2326,
    "start_time": "2022-12-14T02:55:30.342Z"
   },
   {
    "duration": 1599,
    "start_time": "2022-12-14T02:55:32.716Z"
   },
   {
    "duration": 204,
    "start_time": "2022-12-14T02:55:34.317Z"
   },
   {
    "duration": 315,
    "start_time": "2022-12-14T02:55:34.524Z"
   },
   {
    "duration": 396,
    "start_time": "2022-12-14T02:55:34.841Z"
   },
   {
    "duration": 4,
    "start_time": "2022-12-14T03:32:53.492Z"
   },
   {
    "duration": 7,
    "start_time": "2022-12-14T03:32:53.497Z"
   },
   {
    "duration": 20,
    "start_time": "2022-12-14T03:32:53.506Z"
   },
   {
    "duration": 328,
    "start_time": "2022-12-14T03:32:53.533Z"
   },
   {
    "duration": 101,
    "start_time": "2022-12-14T03:32:53.863Z"
   },
   {
    "duration": 496,
    "start_time": "2022-12-14T03:32:53.967Z"
   },
   {
    "duration": 887,
    "start_time": "2022-12-14T03:32:54.465Z"
   },
   {
    "duration": 3,
    "start_time": "2022-12-14T03:32:55.355Z"
   },
   {
    "duration": 2606,
    "start_time": "2022-12-14T03:32:55.360Z"
   },
   {
    "duration": 604,
    "start_time": "2022-12-14T03:32:57.968Z"
   },
   {
    "duration": 3862,
    "start_time": "2022-12-14T03:32:58.574Z"
   },
   {
    "duration": 673,
    "start_time": "2022-12-14T03:33:02.438Z"
   },
   {
    "duration": 601,
    "start_time": "2022-12-14T03:33:03.116Z"
   },
   {
    "duration": 518,
    "start_time": "2022-12-14T03:33:03.719Z"
   },
   {
    "duration": 254,
    "start_time": "2022-12-14T03:33:04.239Z"
   },
   {
    "duration": 865,
    "start_time": "2022-12-14T03:33:04.495Z"
   },
   {
    "duration": 4,
    "start_time": "2022-12-14T03:33:05.362Z"
   },
   {
    "duration": 577,
    "start_time": "2022-12-14T03:33:05.368Z"
   },
   {
    "duration": 273,
    "start_time": "2022-12-14T03:33:05.946Z"
   },
   {
    "duration": 194,
    "start_time": "2022-12-14T03:33:06.222Z"
   },
   {
    "duration": 503,
    "start_time": "2022-12-14T03:33:06.418Z"
   },
   {
    "duration": 138,
    "start_time": "2022-12-14T03:33:06.923Z"
   },
   {
    "duration": 1266,
    "start_time": "2022-12-14T03:33:07.063Z"
   },
   {
    "duration": 2335,
    "start_time": "2022-12-14T03:33:08.333Z"
   },
   {
    "duration": 864,
    "start_time": "2022-12-14T03:33:10.670Z"
   },
   {
    "duration": 2116,
    "start_time": "2022-12-14T03:33:11.536Z"
   },
   {
    "duration": 1041,
    "start_time": "2022-12-14T03:33:13.654Z"
   },
   {
    "duration": 109,
    "start_time": "2022-12-14T03:33:14.696Z"
   },
   {
    "duration": 150,
    "start_time": "2022-12-14T03:33:14.816Z"
   },
   {
    "duration": 220,
    "start_time": "2022-12-14T03:33:15.025Z"
   },
   {
    "duration": 598,
    "start_time": "2022-12-14T03:37:27.596Z"
   },
   {
    "duration": 14,
    "start_time": "2022-12-14T03:38:35.457Z"
   },
   {
    "duration": 11,
    "start_time": "2022-12-14T03:39:44.947Z"
   },
   {
    "duration": 3,
    "start_time": "2022-12-14T03:39:48.708Z"
   },
   {
    "duration": 4,
    "start_time": "2022-12-14T03:39:48.734Z"
   },
   {
    "duration": 6,
    "start_time": "2022-12-14T03:39:48.740Z"
   },
   {
    "duration": 251,
    "start_time": "2022-12-14T03:39:48.748Z"
   },
   {
    "duration": 71,
    "start_time": "2022-12-14T03:39:49.001Z"
   },
   {
    "duration": 310,
    "start_time": "2022-12-14T03:39:49.116Z"
   },
   {
    "duration": 491,
    "start_time": "2022-12-14T03:39:49.427Z"
   },
   {
    "duration": 2,
    "start_time": "2022-12-14T03:39:49.920Z"
   },
   {
    "duration": 1893,
    "start_time": "2022-12-14T03:39:49.924Z"
   },
   {
    "duration": 412,
    "start_time": "2022-12-14T03:39:51.820Z"
   },
   {
    "duration": 3687,
    "start_time": "2022-12-14T03:39:52.233Z"
   },
   {
    "duration": 740,
    "start_time": "2022-12-14T03:39:55.922Z"
   },
   {
    "duration": 655,
    "start_time": "2022-12-14T03:39:56.664Z"
   },
   {
    "duration": 533,
    "start_time": "2022-12-14T03:39:57.321Z"
   },
   {
    "duration": 213,
    "start_time": "2022-12-14T03:39:57.857Z"
   },
   {
    "duration": 853,
    "start_time": "2022-12-14T03:39:58.071Z"
   },
   {
    "duration": 899,
    "start_time": "2022-12-14T03:39:58.925Z"
   },
   {
    "duration": 10,
    "start_time": "2022-12-14T03:39:59.826Z"
   },
   {
    "duration": 0,
    "start_time": "2022-12-14T03:39:59.838Z"
   },
   {
    "duration": 0,
    "start_time": "2022-12-14T03:39:59.839Z"
   },
   {
    "duration": 0,
    "start_time": "2022-12-14T03:39:59.840Z"
   },
   {
    "duration": 0,
    "start_time": "2022-12-14T03:39:59.842Z"
   },
   {
    "duration": 0,
    "start_time": "2022-12-14T03:39:59.843Z"
   },
   {
    "duration": 0,
    "start_time": "2022-12-14T03:39:59.844Z"
   },
   {
    "duration": 0,
    "start_time": "2022-12-14T03:39:59.846Z"
   },
   {
    "duration": 0,
    "start_time": "2022-12-14T03:39:59.847Z"
   },
   {
    "duration": 0,
    "start_time": "2022-12-14T03:39:59.916Z"
   },
   {
    "duration": 0,
    "start_time": "2022-12-14T03:39:59.917Z"
   },
   {
    "duration": 0,
    "start_time": "2022-12-14T03:39:59.918Z"
   },
   {
    "duration": 0,
    "start_time": "2022-12-14T03:39:59.920Z"
   },
   {
    "duration": 0,
    "start_time": "2022-12-14T03:39:59.921Z"
   },
   {
    "duration": 0,
    "start_time": "2022-12-14T03:39:59.924Z"
   },
   {
    "duration": 4,
    "start_time": "2022-12-14T03:41:07.270Z"
   },
   {
    "duration": 706,
    "start_time": "2022-12-14T03:43:44.924Z"
   },
   {
    "duration": 4,
    "start_time": "2022-12-14T03:44:02.609Z"
   },
   {
    "duration": 19,
    "start_time": "2022-12-14T03:44:02.615Z"
   },
   {
    "duration": 8,
    "start_time": "2022-12-14T03:44:02.635Z"
   },
   {
    "duration": 253,
    "start_time": "2022-12-14T03:44:02.645Z"
   },
   {
    "duration": 48,
    "start_time": "2022-12-14T03:44:02.900Z"
   },
   {
    "duration": 299,
    "start_time": "2022-12-14T03:44:02.949Z"
   },
   {
    "duration": 429,
    "start_time": "2022-12-14T03:44:03.250Z"
   },
   {
    "duration": 35,
    "start_time": "2022-12-14T03:44:03.681Z"
   },
   {
    "duration": 1343,
    "start_time": "2022-12-14T03:44:03.719Z"
   },
   {
    "duration": 299,
    "start_time": "2022-12-14T03:44:05.064Z"
   },
   {
    "duration": 3565,
    "start_time": "2022-12-14T03:44:05.364Z"
   },
   {
    "duration": 628,
    "start_time": "2022-12-14T03:44:08.931Z"
   },
   {
    "duration": 673,
    "start_time": "2022-12-14T03:44:09.561Z"
   },
   {
    "duration": 417,
    "start_time": "2022-12-14T03:44:10.236Z"
   },
   {
    "duration": 187,
    "start_time": "2022-12-14T03:44:10.654Z"
   },
   {
    "duration": 793,
    "start_time": "2022-12-14T03:44:10.843Z"
   },
   {
    "duration": 3,
    "start_time": "2022-12-14T03:44:11.638Z"
   },
   {
    "duration": 485,
    "start_time": "2022-12-14T03:44:11.643Z"
   },
   {
    "duration": 467,
    "start_time": "2022-12-14T03:44:12.129Z"
   },
   {
    "duration": 0,
    "start_time": "2022-12-14T03:44:12.598Z"
   },
   {
    "duration": 0,
    "start_time": "2022-12-14T03:44:12.599Z"
   },
   {
    "duration": 0,
    "start_time": "2022-12-14T03:44:12.601Z"
   },
   {
    "duration": 0,
    "start_time": "2022-12-14T03:44:12.602Z"
   },
   {
    "duration": 0,
    "start_time": "2022-12-14T03:44:12.603Z"
   },
   {
    "duration": 0,
    "start_time": "2022-12-14T03:44:12.604Z"
   },
   {
    "duration": 0,
    "start_time": "2022-12-14T03:44:12.605Z"
   },
   {
    "duration": 0,
    "start_time": "2022-12-14T03:44:12.606Z"
   },
   {
    "duration": 0,
    "start_time": "2022-12-14T03:44:12.608Z"
   },
   {
    "duration": 0,
    "start_time": "2022-12-14T03:44:12.609Z"
   },
   {
    "duration": 1,
    "start_time": "2022-12-14T03:44:12.609Z"
   },
   {
    "duration": 0,
    "start_time": "2022-12-14T03:44:12.611Z"
   },
   {
    "duration": 87,
    "start_time": "2022-12-14T03:45:12.966Z"
   },
   {
    "duration": 4,
    "start_time": "2022-12-14T03:45:16.690Z"
   },
   {
    "duration": 9,
    "start_time": "2022-12-14T03:45:16.696Z"
   },
   {
    "duration": 7,
    "start_time": "2022-12-14T03:45:16.706Z"
   },
   {
    "duration": 302,
    "start_time": "2022-12-14T03:45:16.715Z"
   },
   {
    "duration": 198,
    "start_time": "2022-12-14T03:45:17.019Z"
   },
   {
    "duration": 238,
    "start_time": "2022-12-14T03:45:17.218Z"
   },
   {
    "duration": 399,
    "start_time": "2022-12-14T03:45:17.458Z"
   },
   {
    "duration": 3,
    "start_time": "2022-12-14T03:45:17.859Z"
   },
   {
    "duration": 1817,
    "start_time": "2022-12-14T03:45:17.863Z"
   },
   {
    "duration": 272,
    "start_time": "2022-12-14T03:45:19.683Z"
   },
   {
    "duration": 3515,
    "start_time": "2022-12-14T03:45:19.957Z"
   },
   {
    "duration": 613,
    "start_time": "2022-12-14T03:45:23.474Z"
   },
   {
    "duration": 556,
    "start_time": "2022-12-14T03:45:24.089Z"
   },
   {
    "duration": 422,
    "start_time": "2022-12-14T03:45:24.647Z"
   },
   {
    "duration": 147,
    "start_time": "2022-12-14T03:45:25.116Z"
   },
   {
    "duration": 807,
    "start_time": "2022-12-14T03:45:25.265Z"
   },
   {
    "duration": 3,
    "start_time": "2022-12-14T03:45:26.073Z"
   },
   {
    "duration": 477,
    "start_time": "2022-12-14T03:45:26.077Z"
   },
   {
    "duration": 612,
    "start_time": "2022-12-14T03:45:26.556Z"
   },
   {
    "duration": 118,
    "start_time": "2022-12-14T03:45:27.170Z"
   },
   {
    "duration": 0,
    "start_time": "2022-12-14T03:45:27.290Z"
   },
   {
    "duration": 0,
    "start_time": "2022-12-14T03:45:27.291Z"
   },
   {
    "duration": 0,
    "start_time": "2022-12-14T03:45:27.292Z"
   },
   {
    "duration": 0,
    "start_time": "2022-12-14T03:45:27.293Z"
   },
   {
    "duration": 1,
    "start_time": "2022-12-14T03:45:27.294Z"
   },
   {
    "duration": 0,
    "start_time": "2022-12-14T03:45:27.295Z"
   },
   {
    "duration": 0,
    "start_time": "2022-12-14T03:45:27.296Z"
   },
   {
    "duration": 0,
    "start_time": "2022-12-14T03:45:27.297Z"
   },
   {
    "duration": 0,
    "start_time": "2022-12-14T03:45:27.299Z"
   },
   {
    "duration": 0,
    "start_time": "2022-12-14T03:45:27.299Z"
   },
   {
    "duration": 0,
    "start_time": "2022-12-14T03:45:27.300Z"
   },
   {
    "duration": 324,
    "start_time": "2022-12-14T03:46:15.828Z"
   },
   {
    "duration": 244,
    "start_time": "2022-12-14T03:46:55.298Z"
   },
   {
    "duration": 594,
    "start_time": "2022-12-14T03:48:03.154Z"
   },
   {
    "duration": 103,
    "start_time": "2022-12-14T03:48:34.545Z"
   },
   {
    "duration": 328,
    "start_time": "2022-12-14T03:48:51.816Z"
   },
   {
    "duration": 4,
    "start_time": "2022-12-14T03:49:00.333Z"
   },
   {
    "duration": 21,
    "start_time": "2022-12-14T03:49:00.340Z"
   },
   {
    "duration": 20,
    "start_time": "2022-12-14T03:49:00.363Z"
   },
   {
    "duration": 251,
    "start_time": "2022-12-14T03:49:00.385Z"
   },
   {
    "duration": 127,
    "start_time": "2022-12-14T03:49:00.638Z"
   },
   {
    "duration": 201,
    "start_time": "2022-12-14T03:49:00.767Z"
   },
   {
    "duration": 302,
    "start_time": "2022-12-14T03:49:00.970Z"
   },
   {
    "duration": 3,
    "start_time": "2022-12-14T03:49:01.315Z"
   },
   {
    "duration": 1644,
    "start_time": "2022-12-14T03:49:01.320Z"
   },
   {
    "duration": 217,
    "start_time": "2022-12-14T03:49:02.966Z"
   },
   {
    "duration": 3587,
    "start_time": "2022-12-14T03:49:03.185Z"
   },
   {
    "duration": 663,
    "start_time": "2022-12-14T03:49:06.774Z"
   },
   {
    "duration": 576,
    "start_time": "2022-12-14T03:49:07.439Z"
   },
   {
    "duration": 418,
    "start_time": "2022-12-14T03:49:08.017Z"
   },
   {
    "duration": 173,
    "start_time": "2022-12-14T03:49:08.437Z"
   },
   {
    "duration": 786,
    "start_time": "2022-12-14T03:49:08.611Z"
   },
   {
    "duration": 3,
    "start_time": "2022-12-14T03:49:09.399Z"
   },
   {
    "duration": 303,
    "start_time": "2022-12-14T03:49:09.416Z"
   },
   {
    "duration": 500,
    "start_time": "2022-12-14T03:49:09.720Z"
   },
   {
    "duration": 141,
    "start_time": "2022-12-14T03:49:10.222Z"
   },
   {
    "duration": 211,
    "start_time": "2022-12-14T03:49:10.365Z"
   },
   {
    "duration": 584,
    "start_time": "2022-12-14T03:49:10.578Z"
   },
   {
    "duration": 261,
    "start_time": "2022-12-14T03:49:11.164Z"
   },
   {
    "duration": 403,
    "start_time": "2022-12-14T03:49:11.428Z"
   },
   {
    "duration": 123,
    "start_time": "2022-12-14T03:49:11.833Z"
   },
   {
    "duration": 1014,
    "start_time": "2022-12-14T03:49:11.958Z"
   },
   {
    "duration": 155,
    "start_time": "2022-12-14T03:49:12.973Z"
   },
   {
    "duration": 899,
    "start_time": "2022-12-14T03:49:13.129Z"
   },
   {
    "duration": 91,
    "start_time": "2022-12-14T03:49:14.030Z"
   },
   {
    "duration": 147,
    "start_time": "2022-12-14T03:49:14.122Z"
   },
   {
    "duration": 238,
    "start_time": "2022-12-14T03:49:14.271Z"
   },
   {
    "duration": 55,
    "start_time": "2022-12-14T03:51:54.554Z"
   },
   {
    "duration": 591,
    "start_time": "2022-12-14T03:54:44.225Z"
   },
   {
    "duration": 3,
    "start_time": "2022-12-14T03:58:17.041Z"
   },
   {
    "duration": 4,
    "start_time": "2022-12-14T03:58:31.830Z"
   },
   {
    "duration": 6,
    "start_time": "2022-12-14T03:58:31.840Z"
   },
   {
    "duration": 6,
    "start_time": "2022-12-14T03:58:31.847Z"
   },
   {
    "duration": 285,
    "start_time": "2022-12-14T03:58:31.854Z"
   },
   {
    "duration": 95,
    "start_time": "2022-12-14T03:58:32.141Z"
   },
   {
    "duration": 302,
    "start_time": "2022-12-14T03:58:32.239Z"
   },
   {
    "duration": 396,
    "start_time": "2022-12-14T03:58:32.543Z"
   },
   {
    "duration": 3,
    "start_time": "2022-12-14T03:58:32.940Z"
   },
   {
    "duration": 1671,
    "start_time": "2022-12-14T03:58:32.944Z"
   },
   {
    "duration": 300,
    "start_time": "2022-12-14T03:58:34.618Z"
   },
   {
    "duration": 3863,
    "start_time": "2022-12-14T03:58:34.921Z"
   },
   {
    "duration": 660,
    "start_time": "2022-12-14T03:58:38.786Z"
   },
   {
    "duration": 580,
    "start_time": "2022-12-14T03:58:39.448Z"
   },
   {
    "duration": 480,
    "start_time": "2022-12-14T03:58:40.030Z"
   },
   {
    "duration": 165,
    "start_time": "2022-12-14T03:58:40.518Z"
   },
   {
    "duration": 904,
    "start_time": "2022-12-14T03:58:40.685Z"
   },
   {
    "duration": 3,
    "start_time": "2022-12-14T03:58:41.591Z"
   },
   {
    "duration": 338,
    "start_time": "2022-12-14T03:58:41.595Z"
   },
   {
    "duration": 800,
    "start_time": "2022-12-14T03:58:41.935Z"
   },
   {
    "duration": 187,
    "start_time": "2022-12-14T03:58:42.737Z"
   },
   {
    "duration": 145,
    "start_time": "2022-12-14T03:58:42.927Z"
   },
   {
    "duration": 173,
    "start_time": "2022-12-14T03:58:43.074Z"
   },
   {
    "duration": 210,
    "start_time": "2022-12-14T03:58:43.249Z"
   },
   {
    "duration": 868,
    "start_time": "2022-12-14T03:58:43.460Z"
   },
   {
    "duration": 230,
    "start_time": "2022-12-14T03:58:44.330Z"
   },
   {
    "duration": 3,
    "start_time": "2022-12-14T03:58:44.562Z"
   },
   {
    "duration": 290,
    "start_time": "2022-12-14T03:58:44.566Z"
   },
   {
    "duration": 185,
    "start_time": "2022-12-14T03:58:44.857Z"
   },
   {
    "duration": 837,
    "start_time": "2022-12-14T03:58:45.044Z"
   },
   {
    "duration": 649,
    "start_time": "2022-12-14T03:58:45.882Z"
   },
   {
    "duration": 1152,
    "start_time": "2022-12-14T03:58:46.533Z"
   },
   {
    "duration": 98,
    "start_time": "2022-12-14T03:58:47.687Z"
   },
   {
    "duration": 153,
    "start_time": "2022-12-14T03:58:47.787Z"
   },
   {
    "duration": 273,
    "start_time": "2022-12-14T03:58:47.942Z"
   },
   {
    "duration": 72,
    "start_time": "2022-12-14T04:00:38.180Z"
   },
   {
    "duration": 4,
    "start_time": "2022-12-14T04:00:43.937Z"
   },
   {
    "duration": 7,
    "start_time": "2022-12-14T04:00:43.943Z"
   },
   {
    "duration": 5,
    "start_time": "2022-12-14T04:00:43.951Z"
   },
   {
    "duration": 206,
    "start_time": "2022-12-14T04:00:43.959Z"
   },
   {
    "duration": 58,
    "start_time": "2022-12-14T04:00:44.167Z"
   },
   {
    "duration": 209,
    "start_time": "2022-12-14T04:00:44.227Z"
   },
   {
    "duration": 298,
    "start_time": "2022-12-14T04:00:44.439Z"
   },
   {
    "duration": 2,
    "start_time": "2022-12-14T04:00:44.739Z"
   },
   {
    "duration": 1591,
    "start_time": "2022-12-14T04:00:44.744Z"
   },
   {
    "duration": 323,
    "start_time": "2022-12-14T04:00:46.338Z"
   },
   {
    "duration": 3689,
    "start_time": "2022-12-14T04:00:46.716Z"
   },
   {
    "duration": 646,
    "start_time": "2022-12-14T04:00:50.407Z"
   },
   {
    "duration": 517,
    "start_time": "2022-12-14T04:00:51.054Z"
   },
   {
    "duration": 376,
    "start_time": "2022-12-14T04:00:51.572Z"
   },
   {
    "duration": 214,
    "start_time": "2022-12-14T04:00:51.950Z"
   },
   {
    "duration": 846,
    "start_time": "2022-12-14T04:00:52.165Z"
   },
   {
    "duration": 3,
    "start_time": "2022-12-14T04:00:53.013Z"
   },
   {
    "duration": 299,
    "start_time": "2022-12-14T04:00:53.017Z"
   },
   {
    "duration": 603,
    "start_time": "2022-12-14T04:00:53.317Z"
   },
   {
    "duration": 209,
    "start_time": "2022-12-14T04:00:53.922Z"
   },
   {
    "duration": 489,
    "start_time": "2022-12-14T04:00:54.134Z"
   },
   {
    "duration": 214,
    "start_time": "2022-12-14T04:00:54.624Z"
   },
   {
    "duration": 377,
    "start_time": "2022-12-14T04:00:54.840Z"
   },
   {
    "duration": 310,
    "start_time": "2022-12-14T04:00:55.220Z"
   },
   {
    "duration": 432,
    "start_time": "2022-12-14T04:00:55.532Z"
   },
   {
    "duration": 199,
    "start_time": "2022-12-14T04:00:55.965Z"
   },
   {
    "duration": 50,
    "start_time": "2022-12-14T04:00:56.165Z"
   },
   {
    "duration": 404,
    "start_time": "2022-12-14T04:00:56.217Z"
   },
   {
    "duration": 123,
    "start_time": "2022-12-14T04:00:56.623Z"
   },
   {
    "duration": 818,
    "start_time": "2022-12-14T04:00:56.748Z"
   },
   {
    "duration": 116,
    "start_time": "2022-12-14T04:00:57.567Z"
   },
   {
    "duration": 645,
    "start_time": "2022-12-14T04:00:57.685Z"
   },
   {
    "duration": 93,
    "start_time": "2022-12-14T04:00:58.331Z"
   },
   {
    "duration": 200,
    "start_time": "2022-12-14T04:00:58.426Z"
   },
   {
    "duration": 278,
    "start_time": "2022-12-14T04:00:58.628Z"
   },
   {
    "duration": 3,
    "start_time": "2022-12-14T04:03:01.269Z"
   },
   {
    "duration": 2,
    "start_time": "2022-12-14T04:03:02.486Z"
   },
   {
    "duration": 201,
    "start_time": "2022-12-14T04:03:36.552Z"
   },
   {
    "duration": 4,
    "start_time": "2022-12-14T04:03:43.585Z"
   },
   {
    "duration": 6,
    "start_time": "2022-12-14T04:03:43.591Z"
   },
   {
    "duration": 6,
    "start_time": "2022-12-14T04:03:43.599Z"
   },
   {
    "duration": 212,
    "start_time": "2022-12-14T04:03:43.607Z"
   },
   {
    "duration": 95,
    "start_time": "2022-12-14T04:03:43.821Z"
   },
   {
    "duration": 219,
    "start_time": "2022-12-14T04:03:43.918Z"
   },
   {
    "duration": 289,
    "start_time": "2022-12-14T04:03:44.139Z"
   },
   {
    "duration": 3,
    "start_time": "2022-12-14T04:03:44.430Z"
   },
   {
    "duration": 1531,
    "start_time": "2022-12-14T04:03:44.436Z"
   },
   {
    "duration": 220,
    "start_time": "2022-12-14T04:03:45.969Z"
   },
   {
    "duration": 3623,
    "start_time": "2022-12-14T04:03:46.192Z"
   },
   {
    "duration": 659,
    "start_time": "2022-12-14T04:03:49.817Z"
   },
   {
    "duration": 467,
    "start_time": "2022-12-14T04:03:50.478Z"
   },
   {
    "duration": 399,
    "start_time": "2022-12-14T04:03:50.947Z"
   },
   {
    "duration": 179,
    "start_time": "2022-12-14T04:03:51.348Z"
   },
   {
    "duration": 864,
    "start_time": "2022-12-14T04:03:51.529Z"
   },
   {
    "duration": 2,
    "start_time": "2022-12-14T04:03:52.395Z"
   },
   {
    "duration": 527,
    "start_time": "2022-12-14T04:03:52.399Z"
   },
   {
    "duration": 528,
    "start_time": "2022-12-14T04:03:52.927Z"
   },
   {
    "duration": 258,
    "start_time": "2022-12-14T04:03:53.458Z"
   },
   {
    "duration": 121,
    "start_time": "2022-12-14T04:03:53.718Z"
   },
   {
    "duration": 311,
    "start_time": "2022-12-14T04:03:53.841Z"
   },
   {
    "duration": 3,
    "start_time": "2022-12-14T04:03:54.153Z"
   },
   {
    "duration": 3,
    "start_time": "2022-12-14T04:03:54.216Z"
   },
   {
    "duration": 139,
    "start_time": "2022-12-14T04:03:54.220Z"
   },
   {
    "duration": 476,
    "start_time": "2022-12-14T04:03:54.361Z"
   },
   {
    "duration": 204,
    "start_time": "2022-12-14T04:03:54.839Z"
   },
   {
    "duration": 3,
    "start_time": "2022-12-14T04:03:55.044Z"
   },
   {
    "duration": 301,
    "start_time": "2022-12-14T04:03:55.048Z"
   },
   {
    "duration": 126,
    "start_time": "2022-12-14T04:03:55.351Z"
   },
   {
    "duration": 1152,
    "start_time": "2022-12-14T04:03:55.480Z"
   },
   {
    "duration": 185,
    "start_time": "2022-12-14T04:03:56.634Z"
   },
   {
    "duration": 919,
    "start_time": "2022-12-14T04:03:56.822Z"
   },
   {
    "duration": 88,
    "start_time": "2022-12-14T04:03:57.743Z"
   },
   {
    "duration": 114,
    "start_time": "2022-12-14T04:03:57.833Z"
   },
   {
    "duration": 250,
    "start_time": "2022-12-14T04:03:57.949Z"
   },
   {
    "duration": 4,
    "start_time": "2022-12-14T04:06:26.057Z"
   },
   {
    "duration": 9,
    "start_time": "2022-12-14T04:06:26.063Z"
   },
   {
    "duration": 10,
    "start_time": "2022-12-14T04:06:26.074Z"
   },
   {
    "duration": 228,
    "start_time": "2022-12-14T04:06:26.085Z"
   },
   {
    "duration": 56,
    "start_time": "2022-12-14T04:06:26.315Z"
   },
   {
    "duration": 240,
    "start_time": "2022-12-14T04:06:26.373Z"
   },
   {
    "duration": 311,
    "start_time": "2022-12-14T04:06:26.615Z"
   },
   {
    "duration": 2,
    "start_time": "2022-12-14T04:06:26.928Z"
   },
   {
    "duration": 1313,
    "start_time": "2022-12-14T04:06:26.932Z"
   },
   {
    "duration": 238,
    "start_time": "2022-12-14T04:06:28.247Z"
   },
   {
    "duration": 3521,
    "start_time": "2022-12-14T04:06:28.486Z"
   },
   {
    "duration": 652,
    "start_time": "2022-12-14T04:06:32.009Z"
   },
   {
    "duration": 690,
    "start_time": "2022-12-14T04:06:32.663Z"
   },
   {
    "duration": 804,
    "start_time": "2022-12-14T04:06:33.418Z"
   },
   {
    "duration": 164,
    "start_time": "2022-12-14T04:06:34.224Z"
   },
   {
    "duration": 789,
    "start_time": "2022-12-14T04:06:34.390Z"
   },
   {
    "duration": 3,
    "start_time": "2022-12-14T04:06:35.181Z"
   },
   {
    "duration": 254,
    "start_time": "2022-12-14T04:06:35.185Z"
   },
   {
    "duration": 611,
    "start_time": "2022-12-14T04:06:35.441Z"
   },
   {
    "duration": 186,
    "start_time": "2022-12-14T04:06:36.054Z"
   },
   {
    "duration": 182,
    "start_time": "2022-12-14T04:06:36.242Z"
   },
   {
    "duration": 228,
    "start_time": "2022-12-14T04:06:36.426Z"
   },
   {
    "duration": 3,
    "start_time": "2022-12-14T04:06:36.655Z"
   },
   {
    "duration": 12,
    "start_time": "2022-12-14T04:06:36.659Z"
   },
   {
    "duration": 61,
    "start_time": "2022-12-14T04:06:36.672Z"
   },
   {
    "duration": 199,
    "start_time": "2022-12-14T04:06:36.735Z"
   },
   {
    "duration": 301,
    "start_time": "2022-12-14T04:06:36.936Z"
   },
   {
    "duration": 403,
    "start_time": "2022-12-14T04:06:37.239Z"
   },
   {
    "duration": 216,
    "start_time": "2022-12-14T04:06:37.644Z"
   },
   {
    "duration": 56,
    "start_time": "2022-12-14T04:06:37.862Z"
   },
   {
    "duration": 225,
    "start_time": "2022-12-14T04:06:37.920Z"
   },
   {
    "duration": 133,
    "start_time": "2022-12-14T04:06:38.147Z"
   },
   {
    "duration": 809,
    "start_time": "2022-12-14T04:06:38.281Z"
   },
   {
    "duration": 144,
    "start_time": "2022-12-14T04:06:39.093Z"
   },
   {
    "duration": 785,
    "start_time": "2022-12-14T04:06:39.238Z"
   },
   {
    "duration": 85,
    "start_time": "2022-12-14T04:06:40.026Z"
   },
   {
    "duration": 131,
    "start_time": "2022-12-14T04:06:40.113Z"
   },
   {
    "duration": 251,
    "start_time": "2022-12-14T04:06:40.245Z"
   },
   {
    "duration": 852,
    "start_time": "2022-12-14T04:10:55.884Z"
   },
   {
    "duration": 5,
    "start_time": "2022-12-14T04:11:44.183Z"
   },
   {
    "duration": 7,
    "start_time": "2022-12-14T04:11:44.190Z"
   },
   {
    "duration": 7,
    "start_time": "2022-12-14T04:11:44.198Z"
   },
   {
    "duration": 250,
    "start_time": "2022-12-14T04:11:44.207Z"
   },
   {
    "duration": 68,
    "start_time": "2022-12-14T04:11:44.459Z"
   },
   {
    "duration": 213,
    "start_time": "2022-12-14T04:11:44.528Z"
   },
   {
    "duration": 483,
    "start_time": "2022-12-14T04:11:44.743Z"
   },
   {
    "duration": 3,
    "start_time": "2022-12-14T04:11:45.228Z"
   },
   {
    "duration": 2593,
    "start_time": "2022-12-14T04:11:45.235Z"
   },
   {
    "duration": 426,
    "start_time": "2022-12-14T04:11:47.830Z"
   },
   {
    "duration": 4464,
    "start_time": "2022-12-14T04:11:48.257Z"
   },
   {
    "duration": 632,
    "start_time": "2022-12-14T04:11:52.723Z"
   },
   {
    "duration": 400,
    "start_time": "2022-12-14T04:11:53.357Z"
   },
   {
    "duration": 605,
    "start_time": "2022-12-14T04:11:53.758Z"
   },
   {
    "duration": 198,
    "start_time": "2022-12-14T04:11:54.365Z"
   },
   {
    "duration": 819,
    "start_time": "2022-12-14T04:11:54.565Z"
   },
   {
    "duration": 4,
    "start_time": "2022-12-14T04:11:55.386Z"
   },
   {
    "duration": 275,
    "start_time": "2022-12-14T04:11:55.392Z"
   },
   {
    "duration": 568,
    "start_time": "2022-12-14T04:11:55.669Z"
   },
   {
    "duration": 196,
    "start_time": "2022-12-14T04:11:56.239Z"
   },
   {
    "duration": 188,
    "start_time": "2022-12-14T04:11:56.437Z"
   },
   {
    "duration": 240,
    "start_time": "2022-12-14T04:11:56.627Z"
   },
   {
    "duration": 48,
    "start_time": "2022-12-14T04:11:56.868Z"
   },
   {
    "duration": 3,
    "start_time": "2022-12-14T04:11:56.920Z"
   },
   {
    "duration": 24,
    "start_time": "2022-12-14T04:11:56.925Z"
   },
   {
    "duration": 112,
    "start_time": "2022-12-14T04:11:56.951Z"
   },
   {
    "duration": 184,
    "start_time": "2022-12-14T04:11:57.064Z"
   },
   {
    "duration": 469,
    "start_time": "2022-12-14T04:11:57.249Z"
   },
   {
    "duration": 129,
    "start_time": "2022-12-14T04:11:57.720Z"
   },
   {
    "duration": 213,
    "start_time": "2022-12-14T04:11:57.851Z"
   },
   {
    "duration": 164,
    "start_time": "2022-12-14T04:11:58.066Z"
   },
   {
    "duration": 3,
    "start_time": "2022-12-14T04:11:58.231Z"
   },
   {
    "duration": 233,
    "start_time": "2022-12-14T04:11:58.235Z"
   },
   {
    "duration": 121,
    "start_time": "2022-12-14T04:11:58.517Z"
   },
   {
    "duration": 708,
    "start_time": "2022-12-14T04:11:58.639Z"
   },
   {
    "duration": 174,
    "start_time": "2022-12-14T04:11:59.349Z"
   },
   {
    "duration": 1002,
    "start_time": "2022-12-14T04:11:59.524Z"
   },
   {
    "duration": 47,
    "start_time": "2022-12-14T04:12:00.528Z"
   },
   {
    "duration": 121,
    "start_time": "2022-12-14T04:12:00.616Z"
   },
   {
    "duration": 247,
    "start_time": "2022-12-14T04:12:00.738Z"
   },
   {
    "duration": 105,
    "start_time": "2022-12-14T07:50:06.538Z"
   },
   {
    "duration": 4,
    "start_time": "2022-12-14T07:50:25.439Z"
   },
   {
    "duration": 10,
    "start_time": "2022-12-14T07:50:25.445Z"
   },
   {
    "duration": 12,
    "start_time": "2022-12-14T07:50:25.457Z"
   },
   {
    "duration": 392,
    "start_time": "2022-12-14T07:50:25.472Z"
   },
   {
    "duration": 153,
    "start_time": "2022-12-14T07:50:25.866Z"
   },
   {
    "duration": 495,
    "start_time": "2022-12-14T07:50:26.021Z"
   },
   {
    "duration": 418,
    "start_time": "2022-12-14T07:50:26.522Z"
   },
   {
    "duration": 2,
    "start_time": "2022-12-14T07:50:26.942Z"
   },
   {
    "duration": 1590,
    "start_time": "2022-12-14T07:50:26.947Z"
   },
   {
    "duration": 308,
    "start_time": "2022-12-14T07:50:28.539Z"
   },
   {
    "duration": 3806,
    "start_time": "2022-12-14T07:50:28.849Z"
   },
   {
    "duration": 675,
    "start_time": "2022-12-14T07:50:32.658Z"
   },
   {
    "duration": 541,
    "start_time": "2022-12-14T07:50:33.336Z"
   },
   {
    "duration": 462,
    "start_time": "2022-12-14T07:50:33.878Z"
   },
   {
    "duration": 181,
    "start_time": "2022-12-14T07:50:34.342Z"
   },
   {
    "duration": 943,
    "start_time": "2022-12-14T07:50:34.525Z"
   },
   {
    "duration": 4,
    "start_time": "2022-12-14T07:50:35.469Z"
   },
   {
    "duration": 300,
    "start_time": "2022-12-14T07:50:35.475Z"
   },
   {
    "duration": 708,
    "start_time": "2022-12-14T07:50:35.816Z"
   },
   {
    "duration": 222,
    "start_time": "2022-12-14T07:50:36.527Z"
   },
   {
    "duration": 190,
    "start_time": "2022-12-14T07:50:36.751Z"
   },
   {
    "duration": 378,
    "start_time": "2022-12-14T07:50:36.943Z"
   },
   {
    "duration": 5,
    "start_time": "2022-12-14T07:50:37.324Z"
   },
   {
    "duration": 15,
    "start_time": "2022-12-14T07:50:37.330Z"
   },
   {
    "duration": 92,
    "start_time": "2022-12-14T07:50:37.348Z"
   },
   {
    "duration": 279,
    "start_time": "2022-12-14T07:50:37.442Z"
   },
   {
    "duration": 306,
    "start_time": "2022-12-14T07:50:37.723Z"
   },
   {
    "duration": 813,
    "start_time": "2022-12-14T07:50:38.031Z"
   },
   {
    "duration": 175,
    "start_time": "2022-12-14T07:50:38.846Z"
   },
   {
    "duration": 207,
    "start_time": "2022-12-14T07:50:39.023Z"
   },
   {
    "duration": 25,
    "start_time": "2022-12-14T07:50:39.233Z"
   },
   {
    "duration": 172,
    "start_time": "2022-12-14T07:50:39.261Z"
   },
   {
    "duration": 382,
    "start_time": "2022-12-14T07:50:39.435Z"
   },
   {
    "duration": 3,
    "start_time": "2022-12-14T07:50:39.819Z"
   },
   {
    "duration": 300,
    "start_time": "2022-12-14T07:50:39.823Z"
   },
   {
    "duration": 151,
    "start_time": "2022-12-14T07:50:40.125Z"
   },
   {
    "duration": 788,
    "start_time": "2022-12-14T07:50:40.279Z"
   },
   {
    "duration": 248,
    "start_time": "2022-12-14T07:50:41.068Z"
   },
   {
    "duration": 763,
    "start_time": "2022-12-14T07:50:41.319Z"
   },
   {
    "duration": 105,
    "start_time": "2022-12-14T07:50:42.083Z"
   },
   {
    "duration": 141,
    "start_time": "2022-12-14T07:50:42.190Z"
   },
   {
    "duration": 296,
    "start_time": "2022-12-14T07:50:42.333Z"
   },
   {
    "duration": 5,
    "start_time": "2022-12-14T07:52:41.992Z"
   },
   {
    "duration": 29,
    "start_time": "2022-12-14T07:52:42.000Z"
   },
   {
    "duration": 10,
    "start_time": "2022-12-14T07:52:42.032Z"
   },
   {
    "duration": 342,
    "start_time": "2022-12-14T07:52:42.045Z"
   },
   {
    "duration": 90,
    "start_time": "2022-12-14T07:52:42.389Z"
   },
   {
    "duration": 276,
    "start_time": "2022-12-14T07:52:42.482Z"
   },
   {
    "duration": 332,
    "start_time": "2022-12-14T07:52:42.760Z"
   },
   {
    "duration": 4,
    "start_time": "2022-12-14T07:52:43.095Z"
   },
   {
    "duration": 1659,
    "start_time": "2022-12-14T07:52:43.116Z"
   },
   {
    "duration": 288,
    "start_time": "2022-12-14T07:52:44.779Z"
   },
   {
    "duration": 4656,
    "start_time": "2022-12-14T07:52:45.069Z"
   },
   {
    "duration": 897,
    "start_time": "2022-12-14T07:52:49.727Z"
   },
   {
    "duration": 820,
    "start_time": "2022-12-14T07:52:50.625Z"
   },
   {
    "duration": 511,
    "start_time": "2022-12-14T07:52:51.447Z"
   },
   {
    "duration": 230,
    "start_time": "2022-12-14T07:52:51.961Z"
   },
   {
    "duration": 1001,
    "start_time": "2022-12-14T07:52:52.193Z"
   },
   {
    "duration": 4,
    "start_time": "2022-12-14T07:52:53.197Z"
   },
   {
    "duration": 341,
    "start_time": "2022-12-14T07:52:53.203Z"
   },
   {
    "duration": 604,
    "start_time": "2022-12-14T07:52:53.546Z"
   },
   {
    "duration": 171,
    "start_time": "2022-12-14T07:52:54.153Z"
   },
   {
    "duration": 131,
    "start_time": "2022-12-14T07:52:54.325Z"
   },
   {
    "duration": 364,
    "start_time": "2022-12-14T07:52:54.459Z"
   },
   {
    "duration": 3,
    "start_time": "2022-12-14T07:52:54.825Z"
   },
   {
    "duration": 35,
    "start_time": "2022-12-14T07:52:54.830Z"
   },
   {
    "duration": 33,
    "start_time": "2022-12-14T07:52:54.867Z"
   },
   {
    "duration": 143,
    "start_time": "2022-12-14T07:52:54.903Z"
   },
   {
    "duration": 208,
    "start_time": "2022-12-14T07:52:55.048Z"
   },
   {
    "duration": 573,
    "start_time": "2022-12-14T07:52:55.259Z"
   },
   {
    "duration": 184,
    "start_time": "2022-12-14T07:52:55.834Z"
   },
   {
    "duration": 213,
    "start_time": "2022-12-14T07:52:56.020Z"
   },
   {
    "duration": 44,
    "start_time": "2022-12-14T07:52:56.235Z"
   },
   {
    "duration": 187,
    "start_time": "2022-12-14T07:52:56.281Z"
   },
   {
    "duration": 213,
    "start_time": "2022-12-14T07:52:56.520Z"
   },
   {
    "duration": 3,
    "start_time": "2022-12-14T07:52:56.735Z"
   },
   {
    "duration": 2093,
    "start_time": "2022-12-14T07:52:56.740Z"
   },
   {
    "duration": 513,
    "start_time": "2022-12-14T07:52:58.835Z"
   },
   {
    "duration": 0,
    "start_time": "2022-12-14T07:52:59.350Z"
   },
   {
    "duration": 0,
    "start_time": "2022-12-14T07:52:59.352Z"
   },
   {
    "duration": 0,
    "start_time": "2022-12-14T07:52:59.354Z"
   },
   {
    "duration": 0,
    "start_time": "2022-12-14T07:52:59.355Z"
   },
   {
    "duration": 0,
    "start_time": "2022-12-14T07:52:59.357Z"
   },
   {
    "duration": 1696,
    "start_time": "2022-12-14T07:54:07.947Z"
   },
   {
    "duration": 14,
    "start_time": "2022-12-14T07:55:25.054Z"
   },
   {
    "duration": 17,
    "start_time": "2022-12-14T07:55:34.698Z"
   },
   {
    "duration": 242,
    "start_time": "2022-12-14T07:55:57.699Z"
   },
   {
    "duration": 2079,
    "start_time": "2022-12-14T07:56:36.747Z"
   },
   {
    "duration": 3,
    "start_time": "2022-12-14T07:56:49.316Z"
   },
   {
    "duration": 9,
    "start_time": "2022-12-14T07:56:49.322Z"
   },
   {
    "duration": 16,
    "start_time": "2022-12-14T07:56:49.333Z"
   },
   {
    "duration": 268,
    "start_time": "2022-12-14T07:56:49.351Z"
   },
   {
    "duration": 96,
    "start_time": "2022-12-14T07:56:49.621Z"
   },
   {
    "duration": 235,
    "start_time": "2022-12-14T07:56:49.719Z"
   },
   {
    "duration": 392,
    "start_time": "2022-12-14T07:56:49.958Z"
   },
   {
    "duration": 2,
    "start_time": "2022-12-14T07:56:50.353Z"
   },
   {
    "duration": 1657,
    "start_time": "2022-12-14T07:56:50.359Z"
   },
   {
    "duration": 312,
    "start_time": "2022-12-14T07:56:52.018Z"
   },
   {
    "duration": 4409,
    "start_time": "2022-12-14T07:56:52.332Z"
   },
   {
    "duration": 876,
    "start_time": "2022-12-14T07:56:56.743Z"
   },
   {
    "duration": 621,
    "start_time": "2022-12-14T07:56:57.621Z"
   },
   {
    "duration": 496,
    "start_time": "2022-12-14T07:56:58.244Z"
   },
   {
    "duration": 198,
    "start_time": "2022-12-14T07:56:58.743Z"
   },
   {
    "duration": 1212,
    "start_time": "2022-12-14T07:56:58.944Z"
   },
   {
    "duration": 3,
    "start_time": "2022-12-14T07:57:00.158Z"
   },
   {
    "duration": 451,
    "start_time": "2022-12-14T07:57:00.164Z"
   },
   {
    "duration": 898,
    "start_time": "2022-12-14T07:57:00.618Z"
   },
   {
    "duration": 146,
    "start_time": "2022-12-14T07:57:01.518Z"
   },
   {
    "duration": 145,
    "start_time": "2022-12-14T07:57:01.715Z"
   },
   {
    "duration": 380,
    "start_time": "2022-12-14T07:57:01.862Z"
   },
   {
    "duration": 2,
    "start_time": "2022-12-14T07:57:02.244Z"
   },
   {
    "duration": 26,
    "start_time": "2022-12-14T07:57:02.249Z"
   },
   {
    "duration": 63,
    "start_time": "2022-12-14T07:57:02.277Z"
   },
   {
    "duration": 178,
    "start_time": "2022-12-14T07:57:02.342Z"
   },
   {
    "duration": 207,
    "start_time": "2022-12-14T07:57:02.523Z"
   },
   {
    "duration": 685,
    "start_time": "2022-12-14T07:57:02.732Z"
   },
   {
    "duration": 144,
    "start_time": "2022-12-14T07:57:03.420Z"
   },
   {
    "duration": 193,
    "start_time": "2022-12-14T07:57:03.567Z"
   },
   {
    "duration": 37,
    "start_time": "2022-12-14T07:57:03.817Z"
   },
   {
    "duration": 197,
    "start_time": "2022-12-14T07:57:03.856Z"
   },
   {
    "duration": 265,
    "start_time": "2022-12-14T07:57:04.056Z"
   },
   {
    "duration": 4,
    "start_time": "2022-12-14T07:57:04.326Z"
   },
   {
    "duration": 1005,
    "start_time": "2022-12-14T07:57:04.332Z"
   },
   {
    "duration": 221,
    "start_time": "2022-12-14T07:57:05.339Z"
   },
   {
    "duration": 0,
    "start_time": "2022-12-14T07:57:05.562Z"
   },
   {
    "duration": 0,
    "start_time": "2022-12-14T07:57:05.564Z"
   },
   {
    "duration": 0,
    "start_time": "2022-12-14T07:57:05.566Z"
   },
   {
    "duration": 0,
    "start_time": "2022-12-14T07:57:05.568Z"
   },
   {
    "duration": 0,
    "start_time": "2022-12-14T07:57:05.569Z"
   },
   {
    "duration": 0,
    "start_time": "2022-12-14T07:57:05.571Z"
   },
   {
    "duration": 251,
    "start_time": "2022-12-14T08:14:10.490Z"
   },
   {
    "duration": 97,
    "start_time": "2022-12-14T08:17:06.305Z"
   },
   {
    "duration": 4,
    "start_time": "2022-12-14T08:17:42.305Z"
   },
   {
    "duration": 26,
    "start_time": "2022-12-14T08:17:42.311Z"
   },
   {
    "duration": 6,
    "start_time": "2022-12-14T08:17:42.339Z"
   },
   {
    "duration": 416,
    "start_time": "2022-12-14T08:17:42.347Z"
   },
   {
    "duration": 112,
    "start_time": "2022-12-14T08:17:42.765Z"
   },
   {
    "duration": 290,
    "start_time": "2022-12-14T08:17:42.879Z"
   },
   {
    "duration": 391,
    "start_time": "2022-12-14T08:17:43.170Z"
   },
   {
    "duration": 3,
    "start_time": "2022-12-14T08:17:43.563Z"
   },
   {
    "duration": 1381,
    "start_time": "2022-12-14T08:17:43.569Z"
   },
   {
    "duration": 236,
    "start_time": "2022-12-14T08:17:44.952Z"
   },
   {
    "duration": 4131,
    "start_time": "2022-12-14T08:17:45.190Z"
   },
   {
    "duration": 704,
    "start_time": "2022-12-14T08:17:49.328Z"
   },
   {
    "duration": 705,
    "start_time": "2022-12-14T08:17:50.034Z"
   },
   {
    "duration": 596,
    "start_time": "2022-12-14T08:17:50.741Z"
   },
   {
    "duration": 186,
    "start_time": "2022-12-14T08:17:51.339Z"
   },
   {
    "duration": 925,
    "start_time": "2022-12-14T08:17:51.532Z"
   },
   {
    "duration": 3,
    "start_time": "2022-12-14T08:17:52.459Z"
   },
   {
    "duration": 473,
    "start_time": "2022-12-14T08:17:52.464Z"
   },
   {
    "duration": 600,
    "start_time": "2022-12-14T08:17:52.939Z"
   },
   {
    "duration": 222,
    "start_time": "2022-12-14T08:17:53.541Z"
   },
   {
    "duration": 181,
    "start_time": "2022-12-14T08:17:53.765Z"
   },
   {
    "duration": 284,
    "start_time": "2022-12-14T08:17:53.948Z"
   },
   {
    "duration": 3,
    "start_time": "2022-12-14T08:17:54.234Z"
   },
   {
    "duration": 15,
    "start_time": "2022-12-14T08:17:54.239Z"
   },
   {
    "duration": 22,
    "start_time": "2022-12-14T08:17:54.256Z"
   },
   {
    "duration": 177,
    "start_time": "2022-12-14T08:17:54.280Z"
   },
   {
    "duration": 65,
    "start_time": "2022-12-14T08:17:54.459Z"
   },
   {
    "duration": 196,
    "start_time": "2022-12-14T08:17:54.526Z"
   },
   {
    "duration": 606,
    "start_time": "2022-12-14T08:17:54.731Z"
   },
   {
    "duration": 284,
    "start_time": "2022-12-14T08:17:55.339Z"
   },
   {
    "duration": 132,
    "start_time": "2022-12-14T08:17:55.624Z"
   },
   {
    "duration": 87,
    "start_time": "2022-12-14T08:17:55.759Z"
   },
   {
    "duration": 186,
    "start_time": "2022-12-14T08:17:55.849Z"
   },
   {
    "duration": 215,
    "start_time": "2022-12-14T08:17:56.037Z"
   },
   {
    "duration": 6,
    "start_time": "2022-12-14T08:17:56.254Z"
   },
   {
    "duration": 906,
    "start_time": "2022-12-14T08:17:56.263Z"
   },
   {
    "duration": 266,
    "start_time": "2022-12-14T08:17:57.171Z"
   },
   {
    "duration": 0,
    "start_time": "2022-12-14T08:17:57.440Z"
   },
   {
    "duration": 0,
    "start_time": "2022-12-14T08:17:57.441Z"
   },
   {
    "duration": 0,
    "start_time": "2022-12-14T08:17:57.442Z"
   },
   {
    "duration": 0,
    "start_time": "2022-12-14T08:17:57.443Z"
   },
   {
    "duration": 0,
    "start_time": "2022-12-14T08:17:57.445Z"
   },
   {
    "duration": 0,
    "start_time": "2022-12-14T08:17:57.446Z"
   },
   {
    "duration": 25,
    "start_time": "2022-12-14T08:19:42.703Z"
   },
   {
    "duration": 145,
    "start_time": "2022-12-14T08:19:49.793Z"
   },
   {
    "duration": 93,
    "start_time": "2022-12-14T08:21:16.134Z"
   },
   {
    "duration": 13,
    "start_time": "2022-12-14T08:21:19.212Z"
   },
   {
    "duration": 10,
    "start_time": "2022-12-14T08:21:19.231Z"
   },
   {
    "duration": 19,
    "start_time": "2022-12-14T08:21:19.242Z"
   },
   {
    "duration": 223,
    "start_time": "2022-12-14T08:21:19.264Z"
   },
   {
    "duration": 64,
    "start_time": "2022-12-14T08:21:19.489Z"
   },
   {
    "duration": 479,
    "start_time": "2022-12-14T08:21:19.555Z"
   },
   {
    "duration": 374,
    "start_time": "2022-12-14T08:21:20.035Z"
   },
   {
    "duration": 3,
    "start_time": "2022-12-14T08:21:20.411Z"
   },
   {
    "duration": 1460,
    "start_time": "2022-12-14T08:21:20.416Z"
   },
   {
    "duration": 326,
    "start_time": "2022-12-14T08:21:21.879Z"
   },
   {
    "duration": 3880,
    "start_time": "2022-12-14T08:21:22.206Z"
   },
   {
    "duration": 794,
    "start_time": "2022-12-14T08:21:26.088Z"
   },
   {
    "duration": 754,
    "start_time": "2022-12-14T08:21:26.884Z"
   },
   {
    "duration": 876,
    "start_time": "2022-12-14T08:21:27.642Z"
   },
   {
    "duration": 512,
    "start_time": "2022-12-14T08:21:28.520Z"
   },
   {
    "duration": 1367,
    "start_time": "2022-12-14T08:21:29.038Z"
   },
   {
    "duration": 20,
    "start_time": "2022-12-14T08:21:30.406Z"
   },
   {
    "duration": 311,
    "start_time": "2022-12-14T08:21:30.428Z"
   },
   {
    "duration": 813,
    "start_time": "2022-12-14T08:21:30.741Z"
   },
   {
    "duration": 182,
    "start_time": "2022-12-14T08:21:31.556Z"
   },
   {
    "duration": 120,
    "start_time": "2022-12-14T08:21:31.740Z"
   },
   {
    "duration": 289,
    "start_time": "2022-12-14T08:21:31.861Z"
   },
   {
    "duration": 3,
    "start_time": "2022-12-14T08:21:32.152Z"
   },
   {
    "duration": 11,
    "start_time": "2022-12-14T08:21:32.158Z"
   },
   {
    "duration": 60,
    "start_time": "2022-12-14T08:21:32.171Z"
   },
   {
    "duration": 115,
    "start_time": "2022-12-14T08:21:32.234Z"
   },
   {
    "duration": 15,
    "start_time": "2022-12-14T08:21:32.350Z"
   },
   {
    "duration": 191,
    "start_time": "2022-12-14T08:21:32.369Z"
   },
   {
    "duration": 464,
    "start_time": "2022-12-14T08:21:32.562Z"
   },
   {
    "duration": 125,
    "start_time": "2022-12-14T08:21:33.028Z"
   },
   {
    "duration": 195,
    "start_time": "2022-12-14T08:21:33.155Z"
   },
   {
    "duration": 211,
    "start_time": "2022-12-14T08:21:33.416Z"
   },
   {
    "duration": 0,
    "start_time": "2022-12-14T08:21:33.629Z"
   },
   {
    "duration": 0,
    "start_time": "2022-12-14T08:21:33.632Z"
   },
   {
    "duration": 0,
    "start_time": "2022-12-14T08:21:33.633Z"
   },
   {
    "duration": 0,
    "start_time": "2022-12-14T08:21:33.635Z"
   },
   {
    "duration": 0,
    "start_time": "2022-12-14T08:21:33.637Z"
   },
   {
    "duration": 0,
    "start_time": "2022-12-14T08:21:33.639Z"
   },
   {
    "duration": 0,
    "start_time": "2022-12-14T08:21:33.641Z"
   },
   {
    "duration": 0,
    "start_time": "2022-12-14T08:21:33.643Z"
   },
   {
    "duration": 0,
    "start_time": "2022-12-14T08:21:33.644Z"
   },
   {
    "duration": 0,
    "start_time": "2022-12-14T08:21:33.645Z"
   },
   {
    "duration": 0,
    "start_time": "2022-12-14T08:21:33.647Z"
   },
   {
    "duration": 18,
    "start_time": "2022-12-14T08:22:56.672Z"
   },
   {
    "duration": 126,
    "start_time": "2022-12-14T08:22:59.398Z"
   },
   {
    "duration": 4,
    "start_time": "2022-12-14T08:24:01.461Z"
   },
   {
    "duration": 26,
    "start_time": "2022-12-14T08:29:32.100Z"
   },
   {
    "duration": 16,
    "start_time": "2022-12-14T08:29:57.762Z"
   },
   {
    "duration": 4,
    "start_time": "2022-12-14T08:30:57.104Z"
   },
   {
    "duration": 25,
    "start_time": "2022-12-14T08:30:57.110Z"
   },
   {
    "duration": 18,
    "start_time": "2022-12-14T08:30:57.137Z"
   },
   {
    "duration": 284,
    "start_time": "2022-12-14T08:30:57.159Z"
   },
   {
    "duration": 82,
    "start_time": "2022-12-14T08:30:57.445Z"
   },
   {
    "duration": 231,
    "start_time": "2022-12-14T08:30:57.528Z"
   },
   {
    "duration": 361,
    "start_time": "2022-12-14T08:30:57.761Z"
   },
   {
    "duration": 6,
    "start_time": "2022-12-14T08:30:58.125Z"
   },
   {
    "duration": 1464,
    "start_time": "2022-12-14T08:30:58.134Z"
   },
   {
    "duration": 276,
    "start_time": "2022-12-14T08:30:59.599Z"
   },
   {
    "duration": 4007,
    "start_time": "2022-12-14T08:30:59.877Z"
   },
   {
    "duration": 711,
    "start_time": "2022-12-14T08:31:03.886Z"
   },
   {
    "duration": 460,
    "start_time": "2022-12-14T08:31:04.599Z"
   },
   {
    "duration": 464,
    "start_time": "2022-12-14T08:31:05.061Z"
   },
   {
    "duration": 177,
    "start_time": "2022-12-14T08:31:05.527Z"
   },
   {
    "duration": 1078,
    "start_time": "2022-12-14T08:31:05.706Z"
   },
   {
    "duration": 4,
    "start_time": "2022-12-14T08:31:06.785Z"
   },
   {
    "duration": 355,
    "start_time": "2022-12-14T08:31:06.790Z"
   },
   {
    "duration": 570,
    "start_time": "2022-12-14T08:31:07.147Z"
   },
   {
    "duration": 121,
    "start_time": "2022-12-14T08:31:07.719Z"
   },
   {
    "duration": 175,
    "start_time": "2022-12-14T08:31:07.842Z"
   },
   {
    "duration": 308,
    "start_time": "2022-12-14T08:31:08.022Z"
   },
   {
    "duration": 4,
    "start_time": "2022-12-14T08:31:08.332Z"
   },
   {
    "duration": 11,
    "start_time": "2022-12-14T08:31:08.339Z"
   },
   {
    "duration": 31,
    "start_time": "2022-12-14T08:31:08.352Z"
   },
   {
    "duration": 138,
    "start_time": "2022-12-14T08:31:08.384Z"
   },
   {
    "duration": 21,
    "start_time": "2022-12-14T08:31:08.524Z"
   },
   {
    "duration": 134,
    "start_time": "2022-12-14T08:31:08.547Z"
   },
   {
    "duration": 9,
    "start_time": "2022-12-14T08:31:08.723Z"
   },
   {
    "duration": 399,
    "start_time": "2022-12-14T08:31:08.734Z"
   },
   {
    "duration": 191,
    "start_time": "2022-12-14T08:31:09.135Z"
   },
   {
    "duration": 150,
    "start_time": "2022-12-14T08:31:09.327Z"
   },
   {
    "duration": 20,
    "start_time": "2022-12-14T08:31:09.517Z"
   },
   {
    "duration": 18,
    "start_time": "2022-12-14T08:31:09.539Z"
   },
   {
    "duration": 175,
    "start_time": "2022-12-14T08:31:09.559Z"
   },
   {
    "duration": 187,
    "start_time": "2022-12-14T08:31:09.736Z"
   },
   {
    "duration": 5,
    "start_time": "2022-12-14T08:31:09.925Z"
   },
   {
    "duration": 1024,
    "start_time": "2022-12-14T08:31:09.932Z"
   },
   {
    "duration": 214,
    "start_time": "2022-12-14T08:31:10.958Z"
   },
   {
    "duration": 0,
    "start_time": "2022-12-14T08:31:11.173Z"
   },
   {
    "duration": 0,
    "start_time": "2022-12-14T08:31:11.217Z"
   },
   {
    "duration": 0,
    "start_time": "2022-12-14T08:31:11.218Z"
   },
   {
    "duration": 0,
    "start_time": "2022-12-14T08:31:11.219Z"
   },
   {
    "duration": 0,
    "start_time": "2022-12-14T08:31:11.221Z"
   },
   {
    "duration": 0,
    "start_time": "2022-12-14T08:31:11.223Z"
   },
   {
    "duration": 14,
    "start_time": "2022-12-14T08:32:19.902Z"
   },
   {
    "duration": 19,
    "start_time": "2022-12-14T08:33:28.021Z"
   },
   {
    "duration": 4,
    "start_time": "2022-12-14T08:54:23.558Z"
   },
   {
    "duration": 8,
    "start_time": "2022-12-14T08:55:15.109Z"
   },
   {
    "duration": 4,
    "start_time": "2022-12-14T08:55:36.578Z"
   },
   {
    "duration": 364,
    "start_time": "2022-12-14T09:10:59.961Z"
   },
   {
    "duration": 182,
    "start_time": "2022-12-14T09:11:43.965Z"
   },
   {
    "duration": 8,
    "start_time": "2022-12-14T09:12:24.457Z"
   },
   {
    "duration": 17,
    "start_time": "2022-12-14T09:13:27.075Z"
   },
   {
    "duration": 2083,
    "start_time": "2022-12-14T09:13:51.879Z"
   },
   {
    "duration": 4,
    "start_time": "2022-12-14T09:14:07.552Z"
   },
   {
    "duration": 7,
    "start_time": "2022-12-14T09:14:07.559Z"
   },
   {
    "duration": 11,
    "start_time": "2022-12-14T09:14:07.568Z"
   },
   {
    "duration": 248,
    "start_time": "2022-12-14T09:14:07.581Z"
   },
   {
    "duration": 98,
    "start_time": "2022-12-14T09:14:07.831Z"
   },
   {
    "duration": 235,
    "start_time": "2022-12-14T09:14:07.931Z"
   },
   {
    "duration": 304,
    "start_time": "2022-12-14T09:14:08.168Z"
   },
   {
    "duration": 3,
    "start_time": "2022-12-14T09:14:08.474Z"
   },
   {
    "duration": 1454,
    "start_time": "2022-12-14T09:14:08.515Z"
   },
   {
    "duration": 246,
    "start_time": "2022-12-14T09:14:09.970Z"
   },
   {
    "duration": 10,
    "start_time": "2022-12-14T09:14:10.218Z"
   },
   {
    "duration": 1451,
    "start_time": "2022-12-14T09:14:10.230Z"
   },
   {
    "duration": 308,
    "start_time": "2022-12-14T09:14:11.683Z"
   },
   {
    "duration": 3846,
    "start_time": "2022-12-14T09:14:11.993Z"
   },
   {
    "duration": 726,
    "start_time": "2022-12-14T09:14:15.841Z"
   },
   {
    "duration": 588,
    "start_time": "2022-12-14T09:14:16.570Z"
   },
   {
    "duration": 460,
    "start_time": "2022-12-14T09:14:17.160Z"
   },
   {
    "duration": 170,
    "start_time": "2022-12-14T09:14:17.622Z"
   },
   {
    "duration": 848,
    "start_time": "2022-12-14T09:14:17.794Z"
   },
   {
    "duration": 3,
    "start_time": "2022-12-14T09:14:18.644Z"
   },
   {
    "duration": 309,
    "start_time": "2022-12-14T09:14:18.648Z"
   },
   {
    "duration": 577,
    "start_time": "2022-12-14T09:14:18.959Z"
   },
   {
    "duration": 104,
    "start_time": "2022-12-14T09:14:19.538Z"
   },
   {
    "duration": 112,
    "start_time": "2022-12-14T09:14:19.646Z"
   },
   {
    "duration": 212,
    "start_time": "2022-12-14T09:14:19.759Z"
   },
   {
    "duration": 45,
    "start_time": "2022-12-14T09:14:19.972Z"
   },
   {
    "duration": 9,
    "start_time": "2022-12-14T09:14:20.019Z"
   },
   {
    "duration": 31,
    "start_time": "2022-12-14T09:14:20.030Z"
   },
   {
    "duration": 93,
    "start_time": "2022-12-14T09:14:20.063Z"
   },
   {
    "duration": 60,
    "start_time": "2022-12-14T09:14:20.158Z"
   },
   {
    "duration": 118,
    "start_time": "2022-12-14T09:14:20.220Z"
   },
   {
    "duration": 4,
    "start_time": "2022-12-14T09:14:20.339Z"
   },
   {
    "duration": 438,
    "start_time": "2022-12-14T09:14:20.345Z"
   },
   {
    "duration": 171,
    "start_time": "2022-12-14T09:14:20.785Z"
   },
   {
    "duration": 171,
    "start_time": "2022-12-14T09:14:20.957Z"
   },
   {
    "duration": 18,
    "start_time": "2022-12-14T09:14:21.130Z"
   },
   {
    "duration": 18,
    "start_time": "2022-12-14T09:14:21.149Z"
   },
   {
    "duration": 197,
    "start_time": "2022-12-14T09:14:21.168Z"
   },
   {
    "duration": 174,
    "start_time": "2022-12-14T09:14:21.366Z"
   },
   {
    "duration": 3,
    "start_time": "2022-12-14T09:14:21.542Z"
   },
   {
    "duration": 821,
    "start_time": "2022-12-14T09:14:21.546Z"
   },
   {
    "duration": 4,
    "start_time": "2022-12-14T09:14:22.369Z"
   },
   {
    "duration": 49,
    "start_time": "2022-12-14T09:14:22.374Z"
   },
   {
    "duration": 338,
    "start_time": "2022-12-14T09:14:22.425Z"
   },
   {
    "duration": 0,
    "start_time": "2022-12-14T09:14:22.765Z"
   },
   {
    "duration": 0,
    "start_time": "2022-12-14T09:14:22.767Z"
   },
   {
    "duration": 0,
    "start_time": "2022-12-14T09:14:22.769Z"
   },
   {
    "duration": 0,
    "start_time": "2022-12-14T09:14:22.771Z"
   },
   {
    "duration": 0,
    "start_time": "2022-12-14T09:14:22.772Z"
   },
   {
    "duration": 174,
    "start_time": "2022-12-14T09:28:40.259Z"
   },
   {
    "duration": 3,
    "start_time": "2022-12-14T09:28:53.679Z"
   },
   {
    "duration": 9,
    "start_time": "2022-12-14T09:28:53.684Z"
   },
   {
    "duration": 24,
    "start_time": "2022-12-14T09:28:53.695Z"
   },
   {
    "duration": 199,
    "start_time": "2022-12-14T09:28:53.752Z"
   },
   {
    "duration": 69,
    "start_time": "2022-12-14T09:28:53.953Z"
   },
   {
    "duration": 279,
    "start_time": "2022-12-14T09:28:54.024Z"
   },
   {
    "duration": 284,
    "start_time": "2022-12-14T09:28:54.306Z"
   },
   {
    "duration": 2,
    "start_time": "2022-12-14T09:28:54.617Z"
   },
   {
    "duration": 1662,
    "start_time": "2022-12-14T09:28:54.621Z"
   },
   {
    "duration": 238,
    "start_time": "2022-12-14T09:28:56.286Z"
   },
   {
    "duration": 1453,
    "start_time": "2022-12-14T09:28:56.525Z"
   },
   {
    "duration": 291,
    "start_time": "2022-12-14T09:28:57.980Z"
   },
   {
    "duration": 3749,
    "start_time": "2022-12-14T09:28:58.273Z"
   },
   {
    "duration": 697,
    "start_time": "2022-12-14T09:29:02.024Z"
   },
   {
    "duration": 503,
    "start_time": "2022-12-14T09:29:02.723Z"
   },
   {
    "duration": 341,
    "start_time": "2022-12-14T09:29:03.228Z"
   },
   {
    "duration": 162,
    "start_time": "2022-12-14T09:29:03.615Z"
   },
   {
    "duration": 853,
    "start_time": "2022-12-14T09:29:03.780Z"
   },
   {
    "duration": 4,
    "start_time": "2022-12-14T09:29:04.635Z"
   },
   {
    "duration": 309,
    "start_time": "2022-12-14T09:29:04.641Z"
   },
   {
    "duration": 480,
    "start_time": "2022-12-14T09:29:04.952Z"
   },
   {
    "duration": 116,
    "start_time": "2022-12-14T09:29:05.433Z"
   },
   {
    "duration": 186,
    "start_time": "2022-12-14T09:29:05.550Z"
   },
   {
    "duration": 293,
    "start_time": "2022-12-14T09:29:05.738Z"
   },
   {
    "duration": 3,
    "start_time": "2022-12-14T09:29:06.033Z"
   },
   {
    "duration": 15,
    "start_time": "2022-12-14T09:29:06.039Z"
   },
   {
    "duration": 26,
    "start_time": "2022-12-14T09:29:06.055Z"
   },
   {
    "duration": 149,
    "start_time": "2022-12-14T09:29:06.083Z"
   },
   {
    "duration": 17,
    "start_time": "2022-12-14T09:29:06.234Z"
   },
   {
    "duration": 222,
    "start_time": "2022-12-14T09:29:06.317Z"
   },
   {
    "duration": 4,
    "start_time": "2022-12-14T09:29:06.542Z"
   },
   {
    "duration": 509,
    "start_time": "2022-12-14T09:29:06.548Z"
   },
   {
    "duration": 177,
    "start_time": "2022-12-14T09:29:07.059Z"
   },
   {
    "duration": 114,
    "start_time": "2022-12-14T09:29:07.238Z"
   },
   {
    "duration": 14,
    "start_time": "2022-12-14T09:29:07.353Z"
   },
   {
    "duration": 58,
    "start_time": "2022-12-14T09:29:07.369Z"
   },
   {
    "duration": 124,
    "start_time": "2022-12-14T09:29:07.429Z"
   },
   {
    "duration": 165,
    "start_time": "2022-12-14T09:29:07.554Z"
   },
   {
    "duration": 3,
    "start_time": "2022-12-14T09:29:07.720Z"
   },
   {
    "duration": 708,
    "start_time": "2022-12-14T09:29:07.725Z"
   },
   {
    "duration": 3,
    "start_time": "2022-12-14T09:29:08.435Z"
   },
   {
    "duration": 26,
    "start_time": "2022-12-14T09:29:08.440Z"
   },
   {
    "duration": 359,
    "start_time": "2022-12-14T09:29:08.468Z"
   },
   {
    "duration": 0,
    "start_time": "2022-12-14T09:29:08.830Z"
   },
   {
    "duration": 0,
    "start_time": "2022-12-14T09:29:08.831Z"
   },
   {
    "duration": 0,
    "start_time": "2022-12-14T09:29:08.833Z"
   },
   {
    "duration": 0,
    "start_time": "2022-12-14T09:29:08.833Z"
   },
   {
    "duration": 0,
    "start_time": "2022-12-14T09:29:08.835Z"
   },
   {
    "duration": 634,
    "start_time": "2022-12-14T16:50:59.985Z"
   },
   {
    "duration": 4,
    "start_time": "2022-12-14T16:51:08.254Z"
   },
   {
    "duration": 11,
    "start_time": "2022-12-14T16:51:08.259Z"
   },
   {
    "duration": 8,
    "start_time": "2022-12-14T16:51:08.272Z"
   },
   {
    "duration": 236,
    "start_time": "2022-12-14T16:51:08.282Z"
   },
   {
    "duration": 47,
    "start_time": "2022-12-14T16:51:08.520Z"
   },
   {
    "duration": 198,
    "start_time": "2022-12-14T16:51:08.569Z"
   },
   {
    "duration": 449,
    "start_time": "2022-12-14T16:51:08.769Z"
   },
   {
    "duration": 3,
    "start_time": "2022-12-14T16:51:09.220Z"
   },
   {
    "duration": 1291,
    "start_time": "2022-12-14T16:51:09.226Z"
   },
   {
    "duration": 196,
    "start_time": "2022-12-14T16:51:10.520Z"
   },
   {
    "duration": 1212,
    "start_time": "2022-12-14T16:51:10.717Z"
   },
   {
    "duration": 260,
    "start_time": "2022-12-14T16:51:11.931Z"
   },
   {
    "duration": 3575,
    "start_time": "2022-12-14T16:51:12.193Z"
   },
   {
    "duration": 727,
    "start_time": "2022-12-14T16:51:15.769Z"
   },
   {
    "duration": 443,
    "start_time": "2022-12-14T16:51:16.498Z"
   },
   {
    "duration": 482,
    "start_time": "2022-12-14T16:51:16.943Z"
   },
   {
    "duration": 186,
    "start_time": "2022-12-14T16:51:17.426Z"
   },
   {
    "duration": 842,
    "start_time": "2022-12-14T16:51:17.614Z"
   },
   {
    "duration": 3,
    "start_time": "2022-12-14T16:51:18.458Z"
   },
   {
    "duration": 273,
    "start_time": "2022-12-14T16:51:18.462Z"
   },
   {
    "duration": 508,
    "start_time": "2022-12-14T16:51:18.737Z"
   },
   {
    "duration": 106,
    "start_time": "2022-12-14T16:51:19.246Z"
   },
   {
    "duration": 96,
    "start_time": "2022-12-14T16:51:19.354Z"
   },
   {
    "duration": 390,
    "start_time": "2022-12-14T16:51:19.453Z"
   },
   {
    "duration": 3,
    "start_time": "2022-12-14T16:51:19.844Z"
   },
   {
    "duration": 69,
    "start_time": "2022-12-14T16:51:19.848Z"
   },
   {
    "duration": 22,
    "start_time": "2022-12-14T16:51:19.919Z"
   },
   {
    "duration": 187,
    "start_time": "2022-12-14T16:51:19.943Z"
   },
   {
    "duration": 15,
    "start_time": "2022-12-14T16:51:20.132Z"
   },
   {
    "duration": 269,
    "start_time": "2022-12-14T16:51:20.148Z"
   },
   {
    "duration": 8,
    "start_time": "2022-12-14T16:51:20.418Z"
   },
   {
    "duration": 713,
    "start_time": "2022-12-14T16:51:20.428Z"
   },
   {
    "duration": 203,
    "start_time": "2022-12-14T16:51:21.143Z"
   },
   {
    "duration": 185,
    "start_time": "2022-12-14T16:51:21.348Z"
   },
   {
    "duration": 17,
    "start_time": "2022-12-14T16:51:21.534Z"
   },
   {
    "duration": 14,
    "start_time": "2022-12-14T16:51:21.553Z"
   },
   {
    "duration": 173,
    "start_time": "2022-12-14T16:51:21.569Z"
   },
   {
    "duration": 172,
    "start_time": "2022-12-14T16:51:21.744Z"
   },
   {
    "duration": 3,
    "start_time": "2022-12-14T16:51:21.917Z"
   },
   {
    "duration": 553,
    "start_time": "2022-12-14T16:51:21.921Z"
   },
   {
    "duration": 4,
    "start_time": "2022-12-14T16:51:22.516Z"
   },
   {
    "duration": 17,
    "start_time": "2022-12-14T16:51:22.522Z"
   },
   {
    "duration": 395,
    "start_time": "2022-12-14T16:51:22.540Z"
   },
   {
    "duration": 0,
    "start_time": "2022-12-14T16:51:22.937Z"
   },
   {
    "duration": 0,
    "start_time": "2022-12-14T16:51:22.939Z"
   },
   {
    "duration": 0,
    "start_time": "2022-12-14T16:51:22.940Z"
   },
   {
    "duration": 0,
    "start_time": "2022-12-14T16:51:22.942Z"
   },
   {
    "duration": 0,
    "start_time": "2022-12-14T16:51:22.943Z"
   },
   {
    "duration": 200,
    "start_time": "2022-12-14T16:54:53.170Z"
   },
   {
    "duration": 2,
    "start_time": "2022-12-14T16:55:28.903Z"
   },
   {
    "duration": 177,
    "start_time": "2022-12-14T16:56:26.185Z"
   },
   {
    "duration": 222,
    "start_time": "2022-12-14T16:56:39.034Z"
   },
   {
    "duration": 3,
    "start_time": "2022-12-14T16:56:48.580Z"
   },
   {
    "duration": 1238,
    "start_time": "2022-12-15T15:48:12.281Z"
   },
   {
    "duration": 5,
    "start_time": "2022-12-15T15:48:13.522Z"
   },
   {
    "duration": 15939,
    "start_time": "2022-12-15T15:48:13.529Z"
   },
   {
    "duration": 9577,
    "start_time": "2022-12-15T15:48:29.471Z"
   },
   {
    "duration": 1286,
    "start_time": "2022-12-15T15:48:39.050Z"
   },
   {
    "duration": 2520,
    "start_time": "2022-12-15T15:48:40.338Z"
   },
   {
    "duration": 2177,
    "start_time": "2022-12-15T15:48:42.861Z"
   },
   {
    "duration": 3,
    "start_time": "2022-12-15T15:48:45.040Z"
   },
   {
    "duration": 4692,
    "start_time": "2022-12-15T15:48:45.044Z"
   },
   {
    "duration": 698,
    "start_time": "2022-12-15T15:48:49.739Z"
   },
   {
    "duration": 3603,
    "start_time": "2022-12-15T15:48:50.439Z"
   },
   {
    "duration": 1222,
    "start_time": "2022-12-15T15:48:54.043Z"
   },
   {
    "duration": 4115,
    "start_time": "2022-12-15T15:48:55.267Z"
   },
   {
    "duration": 569,
    "start_time": "2022-12-15T15:48:59.384Z"
   },
   {
    "duration": 1301,
    "start_time": "2022-12-15T15:48:59.955Z"
   },
   {
    "duration": 881,
    "start_time": "2022-12-15T15:49:01.258Z"
   },
   {
    "duration": 207,
    "start_time": "2022-12-15T15:49:02.141Z"
   },
   {
    "duration": 935,
    "start_time": "2022-12-15T15:49:02.350Z"
   },
   {
    "duration": 3,
    "start_time": "2022-12-15T15:49:03.287Z"
   },
   {
    "duration": 1275,
    "start_time": "2022-12-15T15:49:03.291Z"
   },
   {
    "duration": 2810,
    "start_time": "2022-12-15T15:49:04.635Z"
   },
   {
    "duration": 510,
    "start_time": "2022-12-15T15:49:07.447Z"
   },
   {
    "duration": 382,
    "start_time": "2022-12-15T15:49:07.959Z"
   },
   {
    "duration": 605,
    "start_time": "2022-12-15T15:49:08.344Z"
   },
   {
    "duration": 4,
    "start_time": "2022-12-15T15:49:08.951Z"
   },
   {
    "duration": 7,
    "start_time": "2022-12-15T15:49:08.956Z"
   },
   {
    "duration": 91,
    "start_time": "2022-12-15T15:49:08.965Z"
   },
   {
    "duration": 523,
    "start_time": "2022-12-15T15:49:09.061Z"
   },
   {
    "duration": 21,
    "start_time": "2022-12-15T15:49:09.636Z"
   },
   {
    "duration": 394,
    "start_time": "2022-12-15T15:49:09.658Z"
   },
   {
    "duration": 5,
    "start_time": "2022-12-15T15:49:10.054Z"
   },
   {
    "duration": 1579,
    "start_time": "2022-12-15T15:49:10.060Z"
   },
   {
    "duration": 404,
    "start_time": "2022-12-15T15:49:11.641Z"
   },
   {
    "duration": 390,
    "start_time": "2022-12-15T15:49:12.046Z"
   },
   {
    "duration": 26,
    "start_time": "2022-12-15T15:49:12.438Z"
   },
   {
    "duration": 92,
    "start_time": "2022-12-15T15:49:12.466Z"
   },
   {
    "duration": 494,
    "start_time": "2022-12-15T15:49:12.560Z"
   },
   {
    "duration": 428,
    "start_time": "2022-12-15T15:49:13.055Z"
   },
   {
    "duration": 4,
    "start_time": "2022-12-15T15:49:13.485Z"
   },
   {
    "duration": 2989,
    "start_time": "2022-12-15T15:49:13.490Z"
   },
   {
    "duration": 4,
    "start_time": "2022-12-15T15:49:16.536Z"
   },
   {
    "duration": 7,
    "start_time": "2022-12-15T15:49:16.542Z"
   },
   {
    "duration": 585,
    "start_time": "2022-12-15T15:49:16.550Z"
   },
   {
    "duration": 0,
    "start_time": "2022-12-15T15:49:17.137Z"
   },
   {
    "duration": 0,
    "start_time": "2022-12-15T15:49:17.138Z"
   },
   {
    "duration": 0,
    "start_time": "2022-12-15T15:49:17.140Z"
   },
   {
    "duration": 0,
    "start_time": "2022-12-15T15:49:17.141Z"
   },
   {
    "duration": 0,
    "start_time": "2022-12-15T15:49:17.142Z"
   },
   {
    "duration": 0,
    "start_time": "2022-12-15T15:49:17.143Z"
   },
   {
    "duration": 232,
    "start_time": "2022-12-15T15:53:06.429Z"
   },
   {
    "duration": 4865,
    "start_time": "2022-12-15T15:54:21.492Z"
   },
   {
    "duration": 7,
    "start_time": "2022-12-15T16:01:04.021Z"
   },
   {
    "duration": 384,
    "start_time": "2022-12-15T16:01:47.291Z"
   },
   {
    "duration": 1453,
    "start_time": "2022-12-15T16:02:58.401Z"
   },
   {
    "duration": 842,
    "start_time": "2022-12-15T16:03:47.809Z"
   },
   {
    "duration": 780,
    "start_time": "2022-12-15T16:04:35.557Z"
   },
   {
    "duration": 26,
    "start_time": "2022-12-15T16:05:49.730Z"
   },
   {
    "duration": 284,
    "start_time": "2022-12-15T16:06:46.463Z"
   },
   {
    "duration": 1089,
    "start_time": "2022-12-15T16:07:26.750Z"
   },
   {
    "duration": 3,
    "start_time": "2022-12-15T16:07:34.278Z"
   },
   {
    "duration": 11,
    "start_time": "2022-12-15T16:07:34.283Z"
   },
   {
    "duration": 8,
    "start_time": "2022-12-15T16:07:34.296Z"
   },
   {
    "duration": 445,
    "start_time": "2022-12-15T16:07:34.305Z"
   },
   {
    "duration": 149,
    "start_time": "2022-12-15T16:07:34.753Z"
   },
   {
    "duration": 435,
    "start_time": "2022-12-15T16:07:34.904Z"
   },
   {
    "duration": 794,
    "start_time": "2022-12-15T16:07:35.341Z"
   },
   {
    "duration": 2,
    "start_time": "2022-12-15T16:07:36.137Z"
   },
   {
    "duration": 2455,
    "start_time": "2022-12-15T16:07:36.141Z"
   },
   {
    "duration": 344,
    "start_time": "2022-12-15T16:07:38.598Z"
   },
   {
    "duration": 22,
    "start_time": "2022-12-15T16:07:38.945Z"
   },
   {
    "duration": 4323,
    "start_time": "2022-12-15T16:07:38.969Z"
   },
   {
    "duration": 694,
    "start_time": "2022-12-15T16:07:43.294Z"
   },
   {
    "duration": 847,
    "start_time": "2022-12-15T16:07:43.990Z"
   },
   {
    "duration": 528,
    "start_time": "2022-12-15T16:07:44.838Z"
   },
   {
    "duration": 215,
    "start_time": "2022-12-15T16:07:45.367Z"
   },
   {
    "duration": 7,
    "start_time": "2022-12-15T16:07:45.584Z"
   },
   {
    "duration": 92,
    "start_time": "2022-12-15T16:07:45.593Z"
   },
   {
    "duration": 0,
    "start_time": "2022-12-15T16:07:45.687Z"
   },
   {
    "duration": 0,
    "start_time": "2022-12-15T16:07:45.689Z"
   },
   {
    "duration": 0,
    "start_time": "2022-12-15T16:07:45.691Z"
   },
   {
    "duration": 0,
    "start_time": "2022-12-15T16:07:45.692Z"
   },
   {
    "duration": 0,
    "start_time": "2022-12-15T16:07:45.693Z"
   },
   {
    "duration": 0,
    "start_time": "2022-12-15T16:07:45.694Z"
   },
   {
    "duration": 0,
    "start_time": "2022-12-15T16:07:45.696Z"
   },
   {
    "duration": 0,
    "start_time": "2022-12-15T16:07:45.697Z"
   },
   {
    "duration": 0,
    "start_time": "2022-12-15T16:07:45.698Z"
   },
   {
    "duration": 0,
    "start_time": "2022-12-15T16:07:45.699Z"
   },
   {
    "duration": 0,
    "start_time": "2022-12-15T16:07:45.700Z"
   },
   {
    "duration": 0,
    "start_time": "2022-12-15T16:07:45.701Z"
   },
   {
    "duration": 0,
    "start_time": "2022-12-15T16:07:45.702Z"
   },
   {
    "duration": 0,
    "start_time": "2022-12-15T16:07:45.703Z"
   },
   {
    "duration": 0,
    "start_time": "2022-12-15T16:07:45.704Z"
   },
   {
    "duration": 0,
    "start_time": "2022-12-15T16:07:45.704Z"
   },
   {
    "duration": 0,
    "start_time": "2022-12-15T16:07:45.705Z"
   },
   {
    "duration": 0,
    "start_time": "2022-12-15T16:07:45.706Z"
   },
   {
    "duration": 0,
    "start_time": "2022-12-15T16:07:45.708Z"
   },
   {
    "duration": 0,
    "start_time": "2022-12-15T16:07:45.708Z"
   },
   {
    "duration": 0,
    "start_time": "2022-12-15T16:07:45.710Z"
   },
   {
    "duration": 0,
    "start_time": "2022-12-15T16:07:45.710Z"
   },
   {
    "duration": 0,
    "start_time": "2022-12-15T16:07:45.712Z"
   },
   {
    "duration": 0,
    "start_time": "2022-12-15T16:07:45.713Z"
   },
   {
    "duration": 0,
    "start_time": "2022-12-15T16:07:45.714Z"
   },
   {
    "duration": 0,
    "start_time": "2022-12-15T16:07:45.715Z"
   },
   {
    "duration": 0,
    "start_time": "2022-12-15T16:07:45.716Z"
   },
   {
    "duration": 0,
    "start_time": "2022-12-15T16:07:45.717Z"
   },
   {
    "duration": 0,
    "start_time": "2022-12-15T16:07:45.718Z"
   },
   {
    "duration": 0,
    "start_time": "2022-12-15T16:07:45.718Z"
   },
   {
    "duration": 0,
    "start_time": "2022-12-15T16:07:45.719Z"
   },
   {
    "duration": 0,
    "start_time": "2022-12-15T16:07:45.719Z"
   },
   {
    "duration": 0,
    "start_time": "2022-12-15T16:07:45.736Z"
   },
   {
    "duration": 1,
    "start_time": "2022-12-15T16:07:45.736Z"
   },
   {
    "duration": 0,
    "start_time": "2022-12-15T16:07:45.737Z"
   },
   {
    "duration": 0,
    "start_time": "2022-12-15T16:07:45.738Z"
   },
   {
    "duration": 0,
    "start_time": "2022-12-15T16:07:45.739Z"
   },
   {
    "duration": 0,
    "start_time": "2022-12-15T16:07:45.740Z"
   },
   {
    "duration": 9,
    "start_time": "2022-12-15T16:09:20.940Z"
   },
   {
    "duration": 4,
    "start_time": "2022-12-15T16:11:16.667Z"
   },
   {
    "duration": 7,
    "start_time": "2022-12-15T16:11:16.682Z"
   },
   {
    "duration": 6,
    "start_time": "2022-12-15T16:11:16.691Z"
   },
   {
    "duration": 382,
    "start_time": "2022-12-15T16:11:16.699Z"
   },
   {
    "duration": 155,
    "start_time": "2022-12-15T16:11:17.082Z"
   },
   {
    "duration": 330,
    "start_time": "2022-12-15T16:11:17.240Z"
   },
   {
    "duration": 670,
    "start_time": "2022-12-15T16:11:17.572Z"
   },
   {
    "duration": 3,
    "start_time": "2022-12-15T16:11:18.244Z"
   },
   {
    "duration": 1938,
    "start_time": "2022-12-15T16:11:18.248Z"
   },
   {
    "duration": 266,
    "start_time": "2022-12-15T16:11:20.188Z"
   },
   {
    "duration": 82,
    "start_time": "2022-12-15T16:11:20.455Z"
   },
   {
    "duration": 3943,
    "start_time": "2022-12-15T16:11:20.540Z"
   },
   {
    "duration": 671,
    "start_time": "2022-12-15T16:11:24.485Z"
   },
   {
    "duration": 1003,
    "start_time": "2022-12-15T16:11:25.158Z"
   },
   {
    "duration": 606,
    "start_time": "2022-12-15T16:11:26.164Z"
   },
   {
    "duration": 166,
    "start_time": "2022-12-15T16:11:26.834Z"
   },
   {
    "duration": 8,
    "start_time": "2022-12-15T16:11:27.002Z"
   },
   {
    "duration": 87,
    "start_time": "2022-12-15T16:11:27.012Z"
   },
   {
    "duration": 0,
    "start_time": "2022-12-15T16:11:27.101Z"
   },
   {
    "duration": 0,
    "start_time": "2022-12-15T16:11:27.103Z"
   },
   {
    "duration": 0,
    "start_time": "2022-12-15T16:11:27.104Z"
   },
   {
    "duration": 0,
    "start_time": "2022-12-15T16:11:27.105Z"
   },
   {
    "duration": 0,
    "start_time": "2022-12-15T16:11:27.106Z"
   },
   {
    "duration": 0,
    "start_time": "2022-12-15T16:11:27.107Z"
   },
   {
    "duration": 0,
    "start_time": "2022-12-15T16:11:27.108Z"
   },
   {
    "duration": 0,
    "start_time": "2022-12-15T16:11:27.109Z"
   },
   {
    "duration": 0,
    "start_time": "2022-12-15T16:11:27.112Z"
   },
   {
    "duration": 0,
    "start_time": "2022-12-15T16:11:27.113Z"
   },
   {
    "duration": 0,
    "start_time": "2022-12-15T16:11:27.114Z"
   },
   {
    "duration": 0,
    "start_time": "2022-12-15T16:11:27.116Z"
   },
   {
    "duration": 0,
    "start_time": "2022-12-15T16:11:27.117Z"
   },
   {
    "duration": 0,
    "start_time": "2022-12-15T16:11:27.119Z"
   },
   {
    "duration": 0,
    "start_time": "2022-12-15T16:11:27.121Z"
   },
   {
    "duration": 0,
    "start_time": "2022-12-15T16:11:27.121Z"
   },
   {
    "duration": 0,
    "start_time": "2022-12-15T16:11:27.123Z"
   },
   {
    "duration": 0,
    "start_time": "2022-12-15T16:11:27.124Z"
   },
   {
    "duration": 0,
    "start_time": "2022-12-15T16:11:27.125Z"
   },
   {
    "duration": 0,
    "start_time": "2022-12-15T16:11:27.126Z"
   },
   {
    "duration": 0,
    "start_time": "2022-12-15T16:11:27.127Z"
   },
   {
    "duration": 0,
    "start_time": "2022-12-15T16:11:27.135Z"
   },
   {
    "duration": 0,
    "start_time": "2022-12-15T16:11:27.136Z"
   },
   {
    "duration": 0,
    "start_time": "2022-12-15T16:11:27.137Z"
   },
   {
    "duration": 0,
    "start_time": "2022-12-15T16:11:27.138Z"
   },
   {
    "duration": 0,
    "start_time": "2022-12-15T16:11:27.139Z"
   },
   {
    "duration": 0,
    "start_time": "2022-12-15T16:11:27.141Z"
   },
   {
    "duration": 0,
    "start_time": "2022-12-15T16:11:27.142Z"
   },
   {
    "duration": 0,
    "start_time": "2022-12-15T16:11:27.142Z"
   },
   {
    "duration": 0,
    "start_time": "2022-12-15T16:11:27.144Z"
   },
   {
    "duration": 0,
    "start_time": "2022-12-15T16:11:27.145Z"
   },
   {
    "duration": 0,
    "start_time": "2022-12-15T16:11:27.146Z"
   },
   {
    "duration": 0,
    "start_time": "2022-12-15T16:11:27.147Z"
   },
   {
    "duration": 0,
    "start_time": "2022-12-15T16:11:27.148Z"
   },
   {
    "duration": 0,
    "start_time": "2022-12-15T16:11:27.149Z"
   },
   {
    "duration": 0,
    "start_time": "2022-12-15T16:11:27.150Z"
   },
   {
    "duration": 0,
    "start_time": "2022-12-15T16:11:27.151Z"
   },
   {
    "duration": 0,
    "start_time": "2022-12-15T16:11:27.153Z"
   },
   {
    "duration": 4,
    "start_time": "2022-12-15T16:12:04.681Z"
   },
   {
    "duration": 13,
    "start_time": "2022-12-15T16:12:04.687Z"
   },
   {
    "duration": 8,
    "start_time": "2022-12-15T16:12:04.702Z"
   },
   {
    "duration": 290,
    "start_time": "2022-12-15T16:12:04.712Z"
   },
   {
    "duration": 133,
    "start_time": "2022-12-15T16:12:05.004Z"
   },
   {
    "duration": 315,
    "start_time": "2022-12-15T16:12:05.139Z"
   },
   {
    "duration": 500,
    "start_time": "2022-12-15T16:12:05.456Z"
   },
   {
    "duration": 3,
    "start_time": "2022-12-15T16:12:05.958Z"
   },
   {
    "duration": 1532,
    "start_time": "2022-12-15T16:12:05.962Z"
   },
   {
    "duration": 252,
    "start_time": "2022-12-15T16:12:07.497Z"
   },
   {
    "duration": 89,
    "start_time": "2022-12-15T16:12:07.751Z"
   },
   {
    "duration": 4035,
    "start_time": "2022-12-15T16:12:07.841Z"
   },
   {
    "duration": 599,
    "start_time": "2022-12-15T16:12:11.877Z"
   },
   {
    "duration": 597,
    "start_time": "2022-12-15T16:12:12.478Z"
   },
   {
    "duration": 561,
    "start_time": "2022-12-15T16:12:13.077Z"
   },
   {
    "duration": 254,
    "start_time": "2022-12-15T16:12:13.639Z"
   },
   {
    "duration": 8,
    "start_time": "2022-12-15T16:12:13.895Z"
   },
   {
    "duration": 16,
    "start_time": "2022-12-15T16:12:13.904Z"
   },
   {
    "duration": 0,
    "start_time": "2022-12-15T16:12:13.935Z"
   },
   {
    "duration": 0,
    "start_time": "2022-12-15T16:12:13.937Z"
   },
   {
    "duration": 0,
    "start_time": "2022-12-15T16:12:13.939Z"
   },
   {
    "duration": 0,
    "start_time": "2022-12-15T16:12:13.941Z"
   },
   {
    "duration": 0,
    "start_time": "2022-12-15T16:12:13.942Z"
   },
   {
    "duration": 0,
    "start_time": "2022-12-15T16:12:13.944Z"
   },
   {
    "duration": 0,
    "start_time": "2022-12-15T16:12:13.945Z"
   },
   {
    "duration": 0,
    "start_time": "2022-12-15T16:12:13.947Z"
   },
   {
    "duration": 0,
    "start_time": "2022-12-15T16:12:14.084Z"
   },
   {
    "duration": 0,
    "start_time": "2022-12-15T16:12:14.085Z"
   },
   {
    "duration": 0,
    "start_time": "2022-12-15T16:12:14.087Z"
   },
   {
    "duration": 0,
    "start_time": "2022-12-15T16:12:14.088Z"
   },
   {
    "duration": 0,
    "start_time": "2022-12-15T16:12:14.090Z"
   },
   {
    "duration": 0,
    "start_time": "2022-12-15T16:12:14.090Z"
   },
   {
    "duration": 0,
    "start_time": "2022-12-15T16:12:14.091Z"
   },
   {
    "duration": 0,
    "start_time": "2022-12-15T16:12:14.093Z"
   },
   {
    "duration": 0,
    "start_time": "2022-12-15T16:12:14.094Z"
   },
   {
    "duration": 0,
    "start_time": "2022-12-15T16:12:14.095Z"
   },
   {
    "duration": 0,
    "start_time": "2022-12-15T16:12:14.096Z"
   },
   {
    "duration": 0,
    "start_time": "2022-12-15T16:12:14.097Z"
   },
   {
    "duration": 0,
    "start_time": "2022-12-15T16:12:14.098Z"
   },
   {
    "duration": 0,
    "start_time": "2022-12-15T16:12:14.100Z"
   },
   {
    "duration": 0,
    "start_time": "2022-12-15T16:12:14.100Z"
   },
   {
    "duration": 0,
    "start_time": "2022-12-15T16:12:14.101Z"
   },
   {
    "duration": 0,
    "start_time": "2022-12-15T16:12:14.102Z"
   },
   {
    "duration": 0,
    "start_time": "2022-12-15T16:12:14.103Z"
   },
   {
    "duration": 0,
    "start_time": "2022-12-15T16:12:14.105Z"
   },
   {
    "duration": 0,
    "start_time": "2022-12-15T16:12:14.135Z"
   },
   {
    "duration": 0,
    "start_time": "2022-12-15T16:12:14.136Z"
   },
   {
    "duration": 0,
    "start_time": "2022-12-15T16:12:14.138Z"
   },
   {
    "duration": 0,
    "start_time": "2022-12-15T16:12:14.139Z"
   },
   {
    "duration": 0,
    "start_time": "2022-12-15T16:12:14.141Z"
   },
   {
    "duration": 0,
    "start_time": "2022-12-15T16:12:14.142Z"
   },
   {
    "duration": 0,
    "start_time": "2022-12-15T16:12:14.143Z"
   },
   {
    "duration": 0,
    "start_time": "2022-12-15T16:12:14.145Z"
   },
   {
    "duration": 0,
    "start_time": "2022-12-15T16:12:14.147Z"
   },
   {
    "duration": 0,
    "start_time": "2022-12-15T16:12:14.148Z"
   },
   {
    "duration": 0,
    "start_time": "2022-12-15T16:12:14.150Z"
   },
   {
    "duration": 715,
    "start_time": "2022-12-15T16:17:51.657Z"
   },
   {
    "duration": 398,
    "start_time": "2022-12-15T16:18:16.541Z"
   },
   {
    "duration": 3,
    "start_time": "2022-12-15T16:18:20.114Z"
   },
   {
    "duration": 19,
    "start_time": "2022-12-15T16:18:20.119Z"
   },
   {
    "duration": 8,
    "start_time": "2022-12-15T16:18:20.141Z"
   },
   {
    "duration": 286,
    "start_time": "2022-12-15T16:18:20.151Z"
   },
   {
    "duration": 107,
    "start_time": "2022-12-15T16:18:20.438Z"
   },
   {
    "duration": 284,
    "start_time": "2022-12-15T16:18:20.547Z"
   },
   {
    "duration": 422,
    "start_time": "2022-12-15T16:18:20.832Z"
   },
   {
    "duration": 2,
    "start_time": "2022-12-15T16:18:21.256Z"
   },
   {
    "duration": 1520,
    "start_time": "2022-12-15T16:18:21.261Z"
   },
   {
    "duration": 183,
    "start_time": "2022-12-15T16:18:22.782Z"
   },
   {
    "duration": 86,
    "start_time": "2022-12-15T16:18:22.967Z"
   },
   {
    "duration": 4244,
    "start_time": "2022-12-15T16:18:23.055Z"
   },
   {
    "duration": 586,
    "start_time": "2022-12-15T16:18:27.301Z"
   },
   {
    "duration": 568,
    "start_time": "2022-12-15T16:18:27.888Z"
   },
   {
    "duration": 613,
    "start_time": "2022-12-15T16:18:28.458Z"
   },
   {
    "duration": 196,
    "start_time": "2022-12-15T16:18:29.073Z"
   },
   {
    "duration": 442,
    "start_time": "2022-12-15T16:18:29.271Z"
   },
   {
    "duration": 7,
    "start_time": "2022-12-15T16:18:29.735Z"
   },
   {
    "duration": 224,
    "start_time": "2022-12-15T16:18:29.744Z"
   },
   {
    "duration": 1271,
    "start_time": "2022-12-15T16:18:29.970Z"
   },
   {
    "duration": 161,
    "start_time": "2022-12-15T16:18:31.243Z"
   },
   {
    "duration": 0,
    "start_time": "2022-12-15T16:18:31.410Z"
   },
   {
    "duration": 0,
    "start_time": "2022-12-15T16:18:31.411Z"
   },
   {
    "duration": 0,
    "start_time": "2022-12-15T16:18:31.412Z"
   },
   {
    "duration": 1,
    "start_time": "2022-12-15T16:18:31.413Z"
   },
   {
    "duration": 0,
    "start_time": "2022-12-15T16:18:31.415Z"
   },
   {
    "duration": 0,
    "start_time": "2022-12-15T16:18:31.417Z"
   },
   {
    "duration": 0,
    "start_time": "2022-12-15T16:18:31.418Z"
   },
   {
    "duration": 0,
    "start_time": "2022-12-15T16:18:31.420Z"
   },
   {
    "duration": 0,
    "start_time": "2022-12-15T16:18:31.421Z"
   },
   {
    "duration": 0,
    "start_time": "2022-12-15T16:18:31.423Z"
   },
   {
    "duration": 0,
    "start_time": "2022-12-15T16:18:31.424Z"
   },
   {
    "duration": 0,
    "start_time": "2022-12-15T16:18:31.426Z"
   },
   {
    "duration": 0,
    "start_time": "2022-12-15T16:18:31.428Z"
   },
   {
    "duration": 0,
    "start_time": "2022-12-15T16:18:31.429Z"
   },
   {
    "duration": 0,
    "start_time": "2022-12-15T16:18:31.430Z"
   },
   {
    "duration": 0,
    "start_time": "2022-12-15T16:18:31.432Z"
   },
   {
    "duration": 0,
    "start_time": "2022-12-15T16:18:31.434Z"
   },
   {
    "duration": 0,
    "start_time": "2022-12-15T16:18:31.435Z"
   },
   {
    "duration": 0,
    "start_time": "2022-12-15T16:18:31.437Z"
   },
   {
    "duration": 0,
    "start_time": "2022-12-15T16:18:31.438Z"
   },
   {
    "duration": 0,
    "start_time": "2022-12-15T16:18:31.440Z"
   },
   {
    "duration": 0,
    "start_time": "2022-12-15T16:18:31.441Z"
   },
   {
    "duration": 0,
    "start_time": "2022-12-15T16:18:31.442Z"
   },
   {
    "duration": 0,
    "start_time": "2022-12-15T16:18:31.443Z"
   },
   {
    "duration": 0,
    "start_time": "2022-12-15T16:18:31.444Z"
   },
   {
    "duration": 0,
    "start_time": "2022-12-15T16:18:31.445Z"
   },
   {
    "duration": 0,
    "start_time": "2022-12-15T16:18:31.446Z"
   },
   {
    "duration": 0,
    "start_time": "2022-12-15T16:18:31.447Z"
   },
   {
    "duration": 0,
    "start_time": "2022-12-15T16:18:31.448Z"
   },
   {
    "duration": 0,
    "start_time": "2022-12-15T16:18:31.449Z"
   },
   {
    "duration": 0,
    "start_time": "2022-12-15T16:18:31.450Z"
   },
   {
    "duration": 0,
    "start_time": "2022-12-15T16:18:31.451Z"
   },
   {
    "duration": 0,
    "start_time": "2022-12-15T16:18:31.452Z"
   },
   {
    "duration": 0,
    "start_time": "2022-12-15T16:18:31.453Z"
   },
   {
    "duration": 0,
    "start_time": "2022-12-15T16:18:31.454Z"
   },
   {
    "duration": 0,
    "start_time": "2022-12-15T16:18:31.455Z"
   },
   {
    "duration": 659,
    "start_time": "2022-12-15T16:20:17.928Z"
   },
   {
    "duration": 5,
    "start_time": "2022-12-15T16:20:21.163Z"
   },
   {
    "duration": 17,
    "start_time": "2022-12-15T16:20:21.170Z"
   },
   {
    "duration": 34,
    "start_time": "2022-12-15T16:20:21.189Z"
   },
   {
    "duration": 249,
    "start_time": "2022-12-15T16:20:21.225Z"
   },
   {
    "duration": 86,
    "start_time": "2022-12-15T16:20:21.475Z"
   },
   {
    "duration": 322,
    "start_time": "2022-12-15T16:20:21.563Z"
   },
   {
    "duration": 449,
    "start_time": "2022-12-15T16:20:21.887Z"
   },
   {
    "duration": 3,
    "start_time": "2022-12-15T16:20:22.338Z"
   },
   {
    "duration": 1530,
    "start_time": "2022-12-15T16:20:22.344Z"
   },
   {
    "duration": 167,
    "start_time": "2022-12-15T16:20:23.875Z"
   },
   {
    "duration": 20,
    "start_time": "2022-12-15T16:20:24.044Z"
   },
   {
    "duration": 3955,
    "start_time": "2022-12-15T16:20:24.066Z"
   },
   {
    "duration": 547,
    "start_time": "2022-12-15T16:20:28.023Z"
   },
   {
    "duration": 604,
    "start_time": "2022-12-15T16:20:28.572Z"
   },
   {
    "duration": 465,
    "start_time": "2022-12-15T16:20:29.177Z"
   },
   {
    "duration": 166,
    "start_time": "2022-12-15T16:20:29.644Z"
   },
   {
    "duration": 443,
    "start_time": "2022-12-15T16:20:29.811Z"
   },
   {
    "duration": 7,
    "start_time": "2022-12-15T16:20:30.256Z"
   },
   {
    "duration": 252,
    "start_time": "2022-12-15T16:20:30.264Z"
   },
   {
    "duration": 941,
    "start_time": "2022-12-15T16:20:30.536Z"
   },
   {
    "duration": 628,
    "start_time": "2022-12-15T16:20:31.479Z"
   },
   {
    "duration": 8,
    "start_time": "2022-12-15T16:20:32.109Z"
   },
   {
    "duration": 0,
    "start_time": "2022-12-15T16:20:32.122Z"
   },
   {
    "duration": 0,
    "start_time": "2022-12-15T16:20:32.123Z"
   },
   {
    "duration": 0,
    "start_time": "2022-12-15T16:20:32.124Z"
   },
   {
    "duration": 0,
    "start_time": "2022-12-15T16:20:32.126Z"
   },
   {
    "duration": 0,
    "start_time": "2022-12-15T16:20:32.127Z"
   },
   {
    "duration": 0,
    "start_time": "2022-12-15T16:20:32.128Z"
   },
   {
    "duration": 0,
    "start_time": "2022-12-15T16:20:32.129Z"
   },
   {
    "duration": 0,
    "start_time": "2022-12-15T16:20:32.130Z"
   },
   {
    "duration": 0,
    "start_time": "2022-12-15T16:20:32.131Z"
   },
   {
    "duration": 0,
    "start_time": "2022-12-15T16:20:32.133Z"
   },
   {
    "duration": 0,
    "start_time": "2022-12-15T16:20:32.134Z"
   },
   {
    "duration": 0,
    "start_time": "2022-12-15T16:20:32.135Z"
   },
   {
    "duration": 0,
    "start_time": "2022-12-15T16:20:32.136Z"
   },
   {
    "duration": 0,
    "start_time": "2022-12-15T16:20:32.137Z"
   },
   {
    "duration": 0,
    "start_time": "2022-12-15T16:20:32.138Z"
   },
   {
    "duration": 0,
    "start_time": "2022-12-15T16:20:32.139Z"
   },
   {
    "duration": 0,
    "start_time": "2022-12-15T16:20:32.140Z"
   },
   {
    "duration": 0,
    "start_time": "2022-12-15T16:20:32.141Z"
   },
   {
    "duration": 0,
    "start_time": "2022-12-15T16:20:32.142Z"
   },
   {
    "duration": 0,
    "start_time": "2022-12-15T16:20:32.143Z"
   },
   {
    "duration": 0,
    "start_time": "2022-12-15T16:20:32.144Z"
   },
   {
    "duration": 0,
    "start_time": "2022-12-15T16:20:32.146Z"
   },
   {
    "duration": 0,
    "start_time": "2022-12-15T16:20:32.147Z"
   },
   {
    "duration": 0,
    "start_time": "2022-12-15T16:20:32.148Z"
   },
   {
    "duration": 0,
    "start_time": "2022-12-15T16:20:32.149Z"
   },
   {
    "duration": 0,
    "start_time": "2022-12-15T16:20:32.150Z"
   },
   {
    "duration": 0,
    "start_time": "2022-12-15T16:20:32.151Z"
   },
   {
    "duration": 0,
    "start_time": "2022-12-15T16:20:32.152Z"
   },
   {
    "duration": 0,
    "start_time": "2022-12-15T16:20:32.153Z"
   },
   {
    "duration": 0,
    "start_time": "2022-12-15T16:20:32.154Z"
   },
   {
    "duration": 0,
    "start_time": "2022-12-15T16:20:32.155Z"
   },
   {
    "duration": 0,
    "start_time": "2022-12-15T16:20:32.156Z"
   },
   {
    "duration": 0,
    "start_time": "2022-12-15T16:20:32.158Z"
   },
   {
    "duration": 0,
    "start_time": "2022-12-15T16:20:32.159Z"
   },
   {
    "duration": 0,
    "start_time": "2022-12-15T16:20:32.159Z"
   },
   {
    "duration": 655,
    "start_time": "2022-12-15T16:21:06.823Z"
   },
   {
    "duration": 4,
    "start_time": "2022-12-15T16:21:13.152Z"
   },
   {
    "duration": 13,
    "start_time": "2022-12-15T16:21:13.158Z"
   },
   {
    "duration": 17,
    "start_time": "2022-12-15T16:21:13.173Z"
   },
   {
    "duration": 242,
    "start_time": "2022-12-15T16:21:13.192Z"
   },
   {
    "duration": 99,
    "start_time": "2022-12-15T16:21:13.439Z"
   },
   {
    "duration": 310,
    "start_time": "2022-12-15T16:21:13.540Z"
   },
   {
    "duration": 400,
    "start_time": "2022-12-15T16:21:13.852Z"
   },
   {
    "duration": 3,
    "start_time": "2022-12-15T16:21:14.253Z"
   },
   {
    "duration": 1458,
    "start_time": "2022-12-15T16:21:14.258Z"
   },
   {
    "duration": 175,
    "start_time": "2022-12-15T16:21:15.718Z"
   },
   {
    "duration": 58,
    "start_time": "2022-12-15T16:21:15.895Z"
   },
   {
    "duration": 4188,
    "start_time": "2022-12-15T16:21:15.955Z"
   },
   {
    "duration": 589,
    "start_time": "2022-12-15T16:21:20.146Z"
   },
   {
    "duration": 618,
    "start_time": "2022-12-15T16:21:20.737Z"
   },
   {
    "duration": 627,
    "start_time": "2022-12-15T16:21:21.436Z"
   },
   {
    "duration": 196,
    "start_time": "2022-12-15T16:21:22.065Z"
   },
   {
    "duration": 478,
    "start_time": "2022-12-15T16:21:22.262Z"
   },
   {
    "duration": 8,
    "start_time": "2022-12-15T16:21:22.742Z"
   },
   {
    "duration": 203,
    "start_time": "2022-12-15T16:21:22.751Z"
   },
   {
    "duration": 810,
    "start_time": "2022-12-15T16:21:22.956Z"
   },
   {
    "duration": 615,
    "start_time": "2022-12-15T16:21:23.768Z"
   },
   {
    "duration": 558,
    "start_time": "2022-12-15T16:21:24.384Z"
   },
   {
    "duration": 19,
    "start_time": "2022-12-15T16:21:24.944Z"
   },
   {
    "duration": 341,
    "start_time": "2022-12-15T16:21:24.964Z"
   },
   {
    "duration": 1080,
    "start_time": "2022-12-15T16:21:25.306Z"
   },
   {
    "duration": 11,
    "start_time": "2022-12-15T16:21:26.387Z"
   },
   {
    "duration": 0,
    "start_time": "2022-12-15T16:21:26.400Z"
   },
   {
    "duration": 0,
    "start_time": "2022-12-15T16:21:26.402Z"
   },
   {
    "duration": 0,
    "start_time": "2022-12-15T16:21:26.403Z"
   },
   {
    "duration": 0,
    "start_time": "2022-12-15T16:21:26.435Z"
   },
   {
    "duration": 0,
    "start_time": "2022-12-15T16:21:26.437Z"
   },
   {
    "duration": 0,
    "start_time": "2022-12-15T16:21:26.438Z"
   },
   {
    "duration": 0,
    "start_time": "2022-12-15T16:21:26.439Z"
   },
   {
    "duration": 0,
    "start_time": "2022-12-15T16:21:26.444Z"
   },
   {
    "duration": 0,
    "start_time": "2022-12-15T16:21:26.445Z"
   },
   {
    "duration": 0,
    "start_time": "2022-12-15T16:21:26.446Z"
   },
   {
    "duration": 0,
    "start_time": "2022-12-15T16:21:26.447Z"
   },
   {
    "duration": 0,
    "start_time": "2022-12-15T16:21:26.448Z"
   },
   {
    "duration": 0,
    "start_time": "2022-12-15T16:21:26.449Z"
   },
   {
    "duration": 0,
    "start_time": "2022-12-15T16:21:26.450Z"
   },
   {
    "duration": 0,
    "start_time": "2022-12-15T16:21:26.451Z"
   },
   {
    "duration": 0,
    "start_time": "2022-12-15T16:21:26.452Z"
   },
   {
    "duration": 0,
    "start_time": "2022-12-15T16:21:26.453Z"
   },
   {
    "duration": 0,
    "start_time": "2022-12-15T16:21:26.454Z"
   },
   {
    "duration": 0,
    "start_time": "2022-12-15T16:21:26.455Z"
   },
   {
    "duration": 0,
    "start_time": "2022-12-15T16:21:26.456Z"
   },
   {
    "duration": 0,
    "start_time": "2022-12-15T16:21:26.457Z"
   },
   {
    "duration": 0,
    "start_time": "2022-12-15T16:21:26.459Z"
   },
   {
    "duration": 0,
    "start_time": "2022-12-15T16:21:26.460Z"
   },
   {
    "duration": 0,
    "start_time": "2022-12-15T16:21:26.461Z"
   },
   {
    "duration": 0,
    "start_time": "2022-12-15T16:21:26.462Z"
   },
   {
    "duration": 0,
    "start_time": "2022-12-15T16:21:26.463Z"
   },
   {
    "duration": 0,
    "start_time": "2022-12-15T16:21:26.464Z"
   },
   {
    "duration": 0,
    "start_time": "2022-12-15T16:21:26.465Z"
   },
   {
    "duration": 0,
    "start_time": "2022-12-15T16:21:26.466Z"
   },
   {
    "duration": 0,
    "start_time": "2022-12-15T16:21:26.467Z"
   },
   {
    "duration": 0,
    "start_time": "2022-12-15T16:21:26.468Z"
   },
   {
    "duration": 10,
    "start_time": "2022-12-15T16:23:21.875Z"
   },
   {
    "duration": 3,
    "start_time": "2022-12-15T16:23:47.126Z"
   },
   {
    "duration": 23,
    "start_time": "2022-12-15T16:23:47.131Z"
   },
   {
    "duration": 22,
    "start_time": "2022-12-15T16:23:47.156Z"
   },
   {
    "duration": 248,
    "start_time": "2022-12-15T16:23:47.180Z"
   },
   {
    "duration": 59,
    "start_time": "2022-12-15T16:23:47.430Z"
   },
   {
    "duration": 366,
    "start_time": "2022-12-15T16:23:47.491Z"
   },
   {
    "duration": 612,
    "start_time": "2022-12-15T16:23:47.858Z"
   },
   {
    "duration": 68,
    "start_time": "2022-12-15T16:23:48.472Z"
   },
   {
    "duration": 1666,
    "start_time": "2022-12-15T16:23:48.543Z"
   },
   {
    "duration": 154,
    "start_time": "2022-12-15T16:23:50.211Z"
   },
   {
    "duration": 28,
    "start_time": "2022-12-15T16:23:50.367Z"
   },
   {
    "duration": 4171,
    "start_time": "2022-12-15T16:23:50.397Z"
   },
   {
    "duration": 573,
    "start_time": "2022-12-15T16:23:54.570Z"
   },
   {
    "duration": 497,
    "start_time": "2022-12-15T16:23:55.145Z"
   },
   {
    "duration": 476,
    "start_time": "2022-12-15T16:23:55.644Z"
   },
   {
    "duration": 170,
    "start_time": "2022-12-15T16:23:56.122Z"
   },
   {
    "duration": 379,
    "start_time": "2022-12-15T16:23:56.294Z"
   },
   {
    "duration": 64,
    "start_time": "2022-12-15T16:23:56.675Z"
   },
   {
    "duration": 194,
    "start_time": "2022-12-15T16:23:56.741Z"
   },
   {
    "duration": 757,
    "start_time": "2022-12-15T16:23:56.937Z"
   },
   {
    "duration": 549,
    "start_time": "2022-12-15T16:23:57.696Z"
   },
   {
    "duration": 598,
    "start_time": "2022-12-15T16:23:58.247Z"
   },
   {
    "duration": 17,
    "start_time": "2022-12-15T16:23:58.847Z"
   },
   {
    "duration": 231,
    "start_time": "2022-12-15T16:23:58.868Z"
   },
   {
    "duration": 571,
    "start_time": "2022-12-15T16:23:59.101Z"
   },
   {
    "duration": 10,
    "start_time": "2022-12-15T16:23:59.674Z"
   },
   {
    "duration": 0,
    "start_time": "2022-12-15T16:23:59.686Z"
   },
   {
    "duration": 0,
    "start_time": "2022-12-15T16:23:59.687Z"
   },
   {
    "duration": 0,
    "start_time": "2022-12-15T16:23:59.689Z"
   },
   {
    "duration": 0,
    "start_time": "2022-12-15T16:23:59.690Z"
   },
   {
    "duration": 0,
    "start_time": "2022-12-15T16:23:59.691Z"
   },
   {
    "duration": 0,
    "start_time": "2022-12-15T16:23:59.736Z"
   },
   {
    "duration": 0,
    "start_time": "2022-12-15T16:23:59.737Z"
   },
   {
    "duration": 0,
    "start_time": "2022-12-15T16:23:59.738Z"
   },
   {
    "duration": 0,
    "start_time": "2022-12-15T16:23:59.739Z"
   },
   {
    "duration": 0,
    "start_time": "2022-12-15T16:23:59.740Z"
   },
   {
    "duration": 0,
    "start_time": "2022-12-15T16:23:59.741Z"
   },
   {
    "duration": 0,
    "start_time": "2022-12-15T16:23:59.742Z"
   },
   {
    "duration": 0,
    "start_time": "2022-12-15T16:23:59.743Z"
   },
   {
    "duration": 0,
    "start_time": "2022-12-15T16:23:59.745Z"
   },
   {
    "duration": 0,
    "start_time": "2022-12-15T16:23:59.746Z"
   },
   {
    "duration": 0,
    "start_time": "2022-12-15T16:23:59.747Z"
   },
   {
    "duration": 0,
    "start_time": "2022-12-15T16:23:59.748Z"
   },
   {
    "duration": 0,
    "start_time": "2022-12-15T16:23:59.749Z"
   },
   {
    "duration": 0,
    "start_time": "2022-12-15T16:23:59.750Z"
   },
   {
    "duration": 0,
    "start_time": "2022-12-15T16:23:59.751Z"
   },
   {
    "duration": 0,
    "start_time": "2022-12-15T16:23:59.752Z"
   },
   {
    "duration": 0,
    "start_time": "2022-12-15T16:23:59.753Z"
   },
   {
    "duration": 0,
    "start_time": "2022-12-15T16:23:59.754Z"
   },
   {
    "duration": 0,
    "start_time": "2022-12-15T16:23:59.754Z"
   },
   {
    "duration": 0,
    "start_time": "2022-12-15T16:23:59.755Z"
   },
   {
    "duration": 0,
    "start_time": "2022-12-15T16:23:59.756Z"
   },
   {
    "duration": 0,
    "start_time": "2022-12-15T16:23:59.757Z"
   },
   {
    "duration": 0,
    "start_time": "2022-12-15T16:23:59.758Z"
   },
   {
    "duration": 0,
    "start_time": "2022-12-15T16:23:59.759Z"
   },
   {
    "duration": 0,
    "start_time": "2022-12-15T16:23:59.760Z"
   },
   {
    "duration": 0,
    "start_time": "2022-12-15T16:23:59.762Z"
   },
   {
    "duration": 0,
    "start_time": "2022-12-15T16:23:59.763Z"
   },
   {
    "duration": 4,
    "start_time": "2022-12-15T16:24:09.922Z"
   },
   {
    "duration": 3,
    "start_time": "2022-12-15T16:24:55.225Z"
   },
   {
    "duration": 482,
    "start_time": "2022-12-15T16:25:12.053Z"
   },
   {
    "duration": 4,
    "start_time": "2022-12-15T16:25:15.933Z"
   },
   {
    "duration": 6,
    "start_time": "2022-12-15T16:25:15.939Z"
   },
   {
    "duration": 15,
    "start_time": "2022-12-15T16:25:15.947Z"
   },
   {
    "duration": 220,
    "start_time": "2022-12-15T16:25:15.963Z"
   },
   {
    "duration": 70,
    "start_time": "2022-12-15T16:25:16.186Z"
   },
   {
    "duration": 285,
    "start_time": "2022-12-15T16:25:16.258Z"
   },
   {
    "duration": 402,
    "start_time": "2022-12-15T16:25:16.545Z"
   },
   {
    "duration": 3,
    "start_time": "2022-12-15T16:25:16.949Z"
   },
   {
    "duration": 1333,
    "start_time": "2022-12-15T16:25:16.953Z"
   },
   {
    "duration": 138,
    "start_time": "2022-12-15T16:25:18.287Z"
   },
   {
    "duration": 26,
    "start_time": "2022-12-15T16:25:18.427Z"
   },
   {
    "duration": 4051,
    "start_time": "2022-12-15T16:25:18.455Z"
   },
   {
    "duration": 592,
    "start_time": "2022-12-15T16:25:22.508Z"
   },
   {
    "duration": 751,
    "start_time": "2022-12-15T16:25:23.105Z"
   },
   {
    "duration": 498,
    "start_time": "2022-12-15T16:25:23.857Z"
   },
   {
    "duration": 205,
    "start_time": "2022-12-15T16:25:24.357Z"
   },
   {
    "duration": 379,
    "start_time": "2022-12-15T16:25:24.564Z"
   },
   {
    "duration": 11,
    "start_time": "2022-12-15T16:25:24.946Z"
   },
   {
    "duration": 205,
    "start_time": "2022-12-15T16:25:24.959Z"
   },
   {
    "duration": 775,
    "start_time": "2022-12-15T16:25:25.166Z"
   },
   {
    "duration": 520,
    "start_time": "2022-12-15T16:25:25.946Z"
   },
   {
    "duration": 667,
    "start_time": "2022-12-15T16:25:26.468Z"
   },
   {
    "duration": 17,
    "start_time": "2022-12-15T16:25:27.138Z"
   },
   {
    "duration": 252,
    "start_time": "2022-12-15T16:25:27.157Z"
   },
   {
    "duration": 558,
    "start_time": "2022-12-15T16:25:27.436Z"
   },
   {
    "duration": 4,
    "start_time": "2022-12-15T16:25:27.996Z"
   },
   {
    "duration": 14,
    "start_time": "2022-12-15T16:25:28.002Z"
   },
   {
    "duration": 385,
    "start_time": "2022-12-15T16:25:28.018Z"
   },
   {
    "duration": 1032,
    "start_time": "2022-12-15T16:25:28.405Z"
   },
   {
    "duration": 296,
    "start_time": "2022-12-15T16:25:29.439Z"
   },
   {
    "duration": 426,
    "start_time": "2022-12-15T16:25:29.737Z"
   },
   {
    "duration": 434,
    "start_time": "2022-12-15T16:25:30.166Z"
   },
   {
    "duration": 3,
    "start_time": "2022-12-15T16:25:30.602Z"
   },
   {
    "duration": 13,
    "start_time": "2022-12-15T16:25:30.607Z"
   },
   {
    "duration": 19,
    "start_time": "2022-12-15T16:25:30.635Z"
   },
   {
    "duration": 401,
    "start_time": "2022-12-15T16:25:30.656Z"
   },
   {
    "duration": 79,
    "start_time": "2022-12-15T16:25:31.059Z"
   },
   {
    "duration": 348,
    "start_time": "2022-12-15T16:25:31.140Z"
   },
   {
    "duration": 4,
    "start_time": "2022-12-15T16:25:31.489Z"
   },
   {
    "duration": 742,
    "start_time": "2022-12-15T16:25:31.495Z"
   },
   {
    "duration": 378,
    "start_time": "2022-12-15T16:25:32.242Z"
   },
   {
    "duration": 312,
    "start_time": "2022-12-15T16:25:32.623Z"
   },
   {
    "duration": 19,
    "start_time": "2022-12-15T16:25:32.937Z"
   },
   {
    "duration": 32,
    "start_time": "2022-12-15T16:25:32.958Z"
   },
   {
    "duration": 378,
    "start_time": "2022-12-15T16:25:32.993Z"
   },
   {
    "duration": 316,
    "start_time": "2022-12-15T16:25:33.373Z"
   },
   {
    "duration": 2,
    "start_time": "2022-12-15T16:25:33.691Z"
   },
   {
    "duration": 21,
    "start_time": "2022-12-15T16:25:33.695Z"
   },
   {
    "duration": 1736,
    "start_time": "2022-12-15T16:25:33.717Z"
   },
   {
    "duration": 4,
    "start_time": "2022-12-15T16:25:35.455Z"
   },
   {
    "duration": 8,
    "start_time": "2022-12-15T16:25:35.461Z"
   },
   {
    "duration": 508,
    "start_time": "2022-12-15T16:25:35.471Z"
   },
   {
    "duration": 0,
    "start_time": "2022-12-15T16:25:35.981Z"
   },
   {
    "duration": 0,
    "start_time": "2022-12-15T16:25:35.983Z"
   },
   {
    "duration": 0,
    "start_time": "2022-12-15T16:25:36.036Z"
   },
   {
    "duration": 0,
    "start_time": "2022-12-15T16:25:36.037Z"
   },
   {
    "duration": 0,
    "start_time": "2022-12-15T16:25:36.038Z"
   },
   {
    "duration": 0,
    "start_time": "2022-12-15T16:25:36.039Z"
   },
   {
    "duration": 2,
    "start_time": "2022-12-15T16:29:02.730Z"
   },
   {
    "duration": 7,
    "start_time": "2022-12-15T16:29:55.482Z"
   },
   {
    "duration": 179,
    "start_time": "2022-12-15T16:30:49.497Z"
   },
   {
    "duration": 8,
    "start_time": "2022-12-15T16:31:09.876Z"
   },
   {
    "duration": 26,
    "start_time": "2022-12-15T16:31:43.584Z"
   },
   {
    "duration": 92,
    "start_time": "2022-12-15T16:32:18.733Z"
   },
   {
    "duration": 3,
    "start_time": "2022-12-15T16:32:53.762Z"
   },
   {
    "duration": 3,
    "start_time": "2022-12-15T16:33:07.044Z"
   },
   {
    "duration": 2,
    "start_time": "2022-12-15T16:33:18.341Z"
   },
   {
    "duration": 82,
    "start_time": "2022-12-15T16:33:29.348Z"
   },
   {
    "duration": 4,
    "start_time": "2022-12-15T16:33:33.276Z"
   },
   {
    "duration": 19,
    "start_time": "2022-12-15T16:33:33.282Z"
   },
   {
    "duration": 17,
    "start_time": "2022-12-15T16:33:33.303Z"
   },
   {
    "duration": 221,
    "start_time": "2022-12-15T16:33:33.322Z"
   },
   {
    "duration": 49,
    "start_time": "2022-12-15T16:33:33.545Z"
   },
   {
    "duration": 301,
    "start_time": "2022-12-15T16:33:33.635Z"
   },
   {
    "duration": 414,
    "start_time": "2022-12-15T16:33:33.938Z"
   },
   {
    "duration": 2,
    "start_time": "2022-12-15T16:33:34.354Z"
   },
   {
    "duration": 1652,
    "start_time": "2022-12-15T16:33:34.359Z"
   },
   {
    "duration": 161,
    "start_time": "2022-12-15T16:33:36.013Z"
   },
   {
    "duration": 77,
    "start_time": "2022-12-15T16:33:36.175Z"
   },
   {
    "duration": 4174,
    "start_time": "2022-12-15T16:33:36.254Z"
   },
   {
    "duration": 567,
    "start_time": "2022-12-15T16:33:40.429Z"
   },
   {
    "duration": 739,
    "start_time": "2022-12-15T16:33:40.998Z"
   },
   {
    "duration": 638,
    "start_time": "2022-12-15T16:33:41.739Z"
   },
   {
    "duration": 227,
    "start_time": "2022-12-15T16:33:42.379Z"
   },
   {
    "duration": 339,
    "start_time": "2022-12-15T16:33:42.608Z"
   },
   {
    "duration": 7,
    "start_time": "2022-12-15T16:33:42.949Z"
   },
   {
    "duration": 188,
    "start_time": "2022-12-15T16:33:42.958Z"
   },
   {
    "duration": 726,
    "start_time": "2022-12-15T16:33:43.148Z"
   },
   {
    "duration": 416,
    "start_time": "2022-12-15T16:33:43.876Z"
   },
   {
    "duration": 477,
    "start_time": "2022-12-15T16:33:44.294Z"
   },
   {
    "duration": 76,
    "start_time": "2022-12-15T16:33:44.773Z"
   },
   {
    "duration": 231,
    "start_time": "2022-12-15T16:33:44.852Z"
   },
   {
    "duration": 566,
    "start_time": "2022-12-15T16:33:45.085Z"
   },
   {
    "duration": 4,
    "start_time": "2022-12-15T16:33:45.653Z"
   },
   {
    "duration": 14,
    "start_time": "2022-12-15T16:33:45.659Z"
   },
   {
    "duration": 327,
    "start_time": "2022-12-15T16:33:45.675Z"
   },
   {
    "duration": 276,
    "start_time": "2022-12-15T16:33:46.004Z"
   },
   {
    "duration": 212,
    "start_time": "2022-12-15T16:33:46.282Z"
   },
   {
    "duration": 3,
    "start_time": "2022-12-15T16:33:46.495Z"
   },
   {
    "duration": 24,
    "start_time": "2022-12-15T16:33:46.499Z"
   },
   {
    "duration": 13,
    "start_time": "2022-12-15T16:33:46.536Z"
   },
   {
    "duration": 14,
    "start_time": "2022-12-15T16:33:46.550Z"
   },
   {
    "duration": 7,
    "start_time": "2022-12-15T16:33:46.566Z"
   },
   {
    "duration": 108,
    "start_time": "2022-12-15T16:33:46.574Z"
   },
   {
    "duration": 0,
    "start_time": "2022-12-15T16:33:46.684Z"
   },
   {
    "duration": 0,
    "start_time": "2022-12-15T16:33:46.685Z"
   },
   {
    "duration": 0,
    "start_time": "2022-12-15T16:33:46.686Z"
   },
   {
    "duration": 0,
    "start_time": "2022-12-15T16:33:46.687Z"
   },
   {
    "duration": 0,
    "start_time": "2022-12-15T16:33:46.689Z"
   },
   {
    "duration": 0,
    "start_time": "2022-12-15T16:33:46.690Z"
   },
   {
    "duration": 0,
    "start_time": "2022-12-15T16:33:46.691Z"
   },
   {
    "duration": 0,
    "start_time": "2022-12-15T16:33:46.692Z"
   },
   {
    "duration": 0,
    "start_time": "2022-12-15T16:33:46.693Z"
   },
   {
    "duration": 0,
    "start_time": "2022-12-15T16:33:46.694Z"
   },
   {
    "duration": 0,
    "start_time": "2022-12-15T16:33:46.695Z"
   },
   {
    "duration": 0,
    "start_time": "2022-12-15T16:33:46.696Z"
   },
   {
    "duration": 0,
    "start_time": "2022-12-15T16:33:46.697Z"
   },
   {
    "duration": 0,
    "start_time": "2022-12-15T16:33:46.699Z"
   },
   {
    "duration": 0,
    "start_time": "2022-12-15T16:33:46.739Z"
   },
   {
    "duration": 0,
    "start_time": "2022-12-15T16:33:46.742Z"
   },
   {
    "duration": 1,
    "start_time": "2022-12-15T16:33:46.743Z"
   },
   {
    "duration": 0,
    "start_time": "2022-12-15T16:33:46.744Z"
   },
   {
    "duration": 0,
    "start_time": "2022-12-15T16:33:46.745Z"
   },
   {
    "duration": 0,
    "start_time": "2022-12-15T16:33:46.746Z"
   },
   {
    "duration": 0,
    "start_time": "2022-12-15T16:33:46.748Z"
   },
   {
    "duration": 0,
    "start_time": "2022-12-15T16:33:46.750Z"
   },
   {
    "duration": 761,
    "start_time": "2022-12-15T16:34:27.102Z"
   },
   {
    "duration": 275,
    "start_time": "2022-12-15T16:35:03.687Z"
   },
   {
    "duration": 269,
    "start_time": "2022-12-15T16:35:31.312Z"
   },
   {
    "duration": 23,
    "start_time": "2022-12-15T16:38:44.354Z"
   },
   {
    "duration": 3,
    "start_time": "2022-12-15T16:39:39.006Z"
   },
   {
    "duration": 5,
    "start_time": "2022-12-15T16:40:26.436Z"
   },
   {
    "duration": 17,
    "start_time": "2022-12-15T16:40:26.443Z"
   },
   {
    "duration": 14,
    "start_time": "2022-12-15T16:40:26.462Z"
   },
   {
    "duration": 222,
    "start_time": "2022-12-15T16:40:26.478Z"
   },
   {
    "duration": 87,
    "start_time": "2022-12-15T16:40:26.702Z"
   },
   {
    "duration": 260,
    "start_time": "2022-12-15T16:40:26.791Z"
   },
   {
    "duration": 310,
    "start_time": "2022-12-15T16:40:27.053Z"
   },
   {
    "duration": 2,
    "start_time": "2022-12-15T16:40:27.365Z"
   },
   {
    "duration": 1689,
    "start_time": "2022-12-15T16:40:27.369Z"
   },
   {
    "duration": 197,
    "start_time": "2022-12-15T16:40:29.060Z"
   },
   {
    "duration": 82,
    "start_time": "2022-12-15T16:40:29.259Z"
   },
   {
    "duration": 4081,
    "start_time": "2022-12-15T16:40:29.343Z"
   },
   {
    "duration": 588,
    "start_time": "2022-12-15T16:40:33.426Z"
   },
   {
    "duration": 736,
    "start_time": "2022-12-15T16:40:34.027Z"
   },
   {
    "duration": 412,
    "start_time": "2022-12-15T16:40:34.765Z"
   },
   {
    "duration": 192,
    "start_time": "2022-12-15T16:40:35.179Z"
   },
   {
    "duration": 363,
    "start_time": "2022-12-15T16:40:35.373Z"
   },
   {
    "duration": 8,
    "start_time": "2022-12-15T16:40:35.737Z"
   },
   {
    "duration": 158,
    "start_time": "2022-12-15T16:40:35.748Z"
   },
   {
    "duration": 854,
    "start_time": "2022-12-15T16:40:35.908Z"
   },
   {
    "duration": 476,
    "start_time": "2022-12-15T16:40:36.764Z"
   },
   {
    "duration": 473,
    "start_time": "2022-12-15T16:40:37.242Z"
   },
   {
    "duration": 16,
    "start_time": "2022-12-15T16:40:37.716Z"
   },
   {
    "duration": 171,
    "start_time": "2022-12-15T16:40:37.736Z"
   },
   {
    "duration": 495,
    "start_time": "2022-12-15T16:40:37.909Z"
   },
   {
    "duration": 3,
    "start_time": "2022-12-15T16:40:38.406Z"
   },
   {
    "duration": 10,
    "start_time": "2022-12-15T16:40:38.411Z"
   },
   {
    "duration": 218,
    "start_time": "2022-12-15T16:40:38.422Z"
   },
   {
    "duration": 132,
    "start_time": "2022-12-15T16:40:38.642Z"
   },
   {
    "duration": 17,
    "start_time": "2022-12-15T16:40:38.775Z"
   },
   {
    "duration": 802,
    "start_time": "2022-12-15T16:40:38.794Z"
   },
   {
    "duration": 525,
    "start_time": "2022-12-15T16:40:39.598Z"
   },
   {
    "duration": 336,
    "start_time": "2022-12-15T16:40:40.125Z"
   },
   {
    "duration": 3,
    "start_time": "2022-12-15T16:40:40.463Z"
   },
   {
    "duration": 11,
    "start_time": "2022-12-15T16:40:40.467Z"
   },
   {
    "duration": 6,
    "start_time": "2022-12-15T16:40:40.479Z"
   },
   {
    "duration": 11,
    "start_time": "2022-12-15T16:40:40.486Z"
   },
   {
    "duration": 11,
    "start_time": "2022-12-15T16:40:40.498Z"
   },
   {
    "duration": 9,
    "start_time": "2022-12-15T16:40:40.510Z"
   },
   {
    "duration": 7,
    "start_time": "2022-12-15T16:40:40.520Z"
   },
   {
    "duration": 12,
    "start_time": "2022-12-15T16:40:40.531Z"
   },
   {
    "duration": 990,
    "start_time": "2022-12-15T16:40:40.545Z"
   },
   {
    "duration": 399,
    "start_time": "2022-12-15T16:40:41.537Z"
   },
   {
    "duration": 372,
    "start_time": "2022-12-15T16:40:41.938Z"
   },
   {
    "duration": 33,
    "start_time": "2022-12-15T16:40:42.311Z"
   },
   {
    "duration": 89,
    "start_time": "2022-12-15T16:40:42.346Z"
   },
   {
    "duration": 0,
    "start_time": "2022-12-15T16:40:42.437Z"
   },
   {
    "duration": 0,
    "start_time": "2022-12-15T16:40:42.438Z"
   },
   {
    "duration": 0,
    "start_time": "2022-12-15T16:40:42.439Z"
   },
   {
    "duration": 0,
    "start_time": "2022-12-15T16:40:42.441Z"
   },
   {
    "duration": 0,
    "start_time": "2022-12-15T16:40:42.442Z"
   },
   {
    "duration": 0,
    "start_time": "2022-12-15T16:40:42.443Z"
   },
   {
    "duration": 0,
    "start_time": "2022-12-15T16:40:42.444Z"
   },
   {
    "duration": 0,
    "start_time": "2022-12-15T16:40:42.446Z"
   },
   {
    "duration": 0,
    "start_time": "2022-12-15T16:40:42.447Z"
   },
   {
    "duration": 0,
    "start_time": "2022-12-15T16:40:42.448Z"
   },
   {
    "duration": 0,
    "start_time": "2022-12-15T16:40:42.449Z"
   },
   {
    "duration": 0,
    "start_time": "2022-12-15T16:40:42.451Z"
   },
   {
    "duration": 0,
    "start_time": "2022-12-15T16:40:42.452Z"
   },
   {
    "duration": 18,
    "start_time": "2022-12-15T16:41:18.931Z"
   },
   {
    "duration": 348,
    "start_time": "2022-12-15T16:44:24.804Z"
   },
   {
    "duration": 3,
    "start_time": "2022-12-15T16:44:52.458Z"
   },
   {
    "duration": 88,
    "start_time": "2022-12-15T16:46:03.725Z"
   },
   {
    "duration": 4,
    "start_time": "2022-12-15T16:47:01.112Z"
   },
   {
    "duration": 23,
    "start_time": "2022-12-15T16:47:01.118Z"
   },
   {
    "duration": 37,
    "start_time": "2022-12-15T16:47:01.143Z"
   },
   {
    "duration": 223,
    "start_time": "2022-12-15T16:47:01.182Z"
   },
   {
    "duration": 53,
    "start_time": "2022-12-15T16:47:01.408Z"
   },
   {
    "duration": 269,
    "start_time": "2022-12-15T16:47:01.463Z"
   },
   {
    "duration": 369,
    "start_time": "2022-12-15T16:47:01.735Z"
   },
   {
    "duration": 2,
    "start_time": "2022-12-15T16:47:02.106Z"
   },
   {
    "duration": 1430,
    "start_time": "2022-12-15T16:47:02.112Z"
   },
   {
    "duration": 143,
    "start_time": "2022-12-15T16:47:03.544Z"
   },
   {
    "duration": 65,
    "start_time": "2022-12-15T16:47:03.696Z"
   },
   {
    "duration": 4653,
    "start_time": "2022-12-15T16:47:03.763Z"
   },
   {
    "duration": 591,
    "start_time": "2022-12-15T16:47:08.418Z"
   },
   {
    "duration": 737,
    "start_time": "2022-12-15T16:47:09.011Z"
   },
   {
    "duration": 794,
    "start_time": "2022-12-15T16:47:09.750Z"
   },
   {
    "duration": 177,
    "start_time": "2022-12-15T16:47:10.546Z"
   },
   {
    "duration": 300,
    "start_time": "2022-12-15T16:47:10.725Z"
   },
   {
    "duration": 6,
    "start_time": "2022-12-15T16:47:11.027Z"
   },
   {
    "duration": 156,
    "start_time": "2022-12-15T16:47:11.035Z"
   },
   {
    "duration": 1082,
    "start_time": "2022-12-15T16:47:11.193Z"
   },
   {
    "duration": 705,
    "start_time": "2022-12-15T16:47:12.336Z"
   },
   {
    "duration": 697,
    "start_time": "2022-12-15T16:47:13.043Z"
   },
   {
    "duration": 18,
    "start_time": "2022-12-15T16:47:13.742Z"
   },
   {
    "duration": 316,
    "start_time": "2022-12-15T16:47:13.762Z"
   },
   {
    "duration": 973,
    "start_time": "2022-12-15T16:47:14.080Z"
   },
   {
    "duration": 4,
    "start_time": "2022-12-15T16:47:15.054Z"
   },
   {
    "duration": 13,
    "start_time": "2022-12-15T16:47:15.060Z"
   },
   {
    "duration": 396,
    "start_time": "2022-12-15T16:47:15.074Z"
   },
   {
    "duration": 199,
    "start_time": "2022-12-15T16:47:15.540Z"
   },
   {
    "duration": 17,
    "start_time": "2022-12-15T16:47:15.741Z"
   },
   {
    "duration": 616,
    "start_time": "2022-12-15T16:47:15.760Z"
   },
   {
    "duration": 1569,
    "start_time": "2022-12-15T16:47:16.378Z"
   },
   {
    "duration": 791,
    "start_time": "2022-12-15T16:47:17.949Z"
   },
   {
    "duration": 594,
    "start_time": "2022-12-15T16:47:18.742Z"
   },
   {
    "duration": 4,
    "start_time": "2022-12-15T16:47:19.337Z"
   },
   {
    "duration": 13,
    "start_time": "2022-12-15T16:47:19.342Z"
   },
   {
    "duration": 9,
    "start_time": "2022-12-15T16:47:19.357Z"
   },
   {
    "duration": 13,
    "start_time": "2022-12-15T16:47:19.368Z"
   },
   {
    "duration": 15,
    "start_time": "2022-12-15T16:47:19.382Z"
   },
   {
    "duration": 9,
    "start_time": "2022-12-15T16:47:19.399Z"
   },
   {
    "duration": 8,
    "start_time": "2022-12-15T16:47:19.409Z"
   },
   {
    "duration": 6,
    "start_time": "2022-12-15T16:47:19.418Z"
   },
   {
    "duration": 9,
    "start_time": "2022-12-15T16:47:19.426Z"
   },
   {
    "duration": 14,
    "start_time": "2022-12-15T16:47:19.436Z"
   },
   {
    "duration": 9,
    "start_time": "2022-12-15T16:47:19.453Z"
   },
   {
    "duration": 87,
    "start_time": "2022-12-15T16:47:19.464Z"
   },
   {
    "duration": 0,
    "start_time": "2022-12-15T16:47:19.553Z"
   },
   {
    "duration": 0,
    "start_time": "2022-12-15T16:47:19.554Z"
   },
   {
    "duration": 0,
    "start_time": "2022-12-15T16:47:19.555Z"
   },
   {
    "duration": 0,
    "start_time": "2022-12-15T16:47:19.557Z"
   },
   {
    "duration": 0,
    "start_time": "2022-12-15T16:47:19.558Z"
   },
   {
    "duration": 0,
    "start_time": "2022-12-15T16:47:19.559Z"
   },
   {
    "duration": 0,
    "start_time": "2022-12-15T16:47:19.560Z"
   },
   {
    "duration": 0,
    "start_time": "2022-12-15T16:47:19.561Z"
   },
   {
    "duration": 0,
    "start_time": "2022-12-15T16:47:19.563Z"
   },
   {
    "duration": 0,
    "start_time": "2022-12-15T16:47:19.564Z"
   },
   {
    "duration": 0,
    "start_time": "2022-12-15T16:47:19.565Z"
   },
   {
    "duration": 0,
    "start_time": "2022-12-15T16:47:19.566Z"
   },
   {
    "duration": 0,
    "start_time": "2022-12-15T16:47:19.567Z"
   },
   {
    "duration": 0,
    "start_time": "2022-12-15T16:47:19.569Z"
   },
   {
    "duration": 24,
    "start_time": "2022-12-15T16:49:21.508Z"
   },
   {
    "duration": 72,
    "start_time": "2022-12-15T16:49:26.326Z"
   },
   {
    "duration": 5,
    "start_time": "2022-12-15T16:49:42.503Z"
   },
   {
    "duration": 19,
    "start_time": "2022-12-15T16:49:42.510Z"
   },
   {
    "duration": 13,
    "start_time": "2022-12-15T16:49:42.532Z"
   },
   {
    "duration": 304,
    "start_time": "2022-12-15T16:49:42.547Z"
   },
   {
    "duration": 83,
    "start_time": "2022-12-15T16:49:42.853Z"
   },
   {
    "duration": 211,
    "start_time": "2022-12-15T16:49:42.939Z"
   },
   {
    "duration": 396,
    "start_time": "2022-12-15T16:49:43.151Z"
   },
   {
    "duration": 3,
    "start_time": "2022-12-15T16:49:43.549Z"
   },
   {
    "duration": 1367,
    "start_time": "2022-12-15T16:49:43.554Z"
   },
   {
    "duration": 139,
    "start_time": "2022-12-15T16:49:44.923Z"
   },
   {
    "duration": 18,
    "start_time": "2022-12-15T16:49:45.064Z"
   },
   {
    "duration": 4369,
    "start_time": "2022-12-15T16:49:45.084Z"
   },
   {
    "duration": 596,
    "start_time": "2022-12-15T16:49:49.455Z"
   },
   {
    "duration": 592,
    "start_time": "2022-12-15T16:49:50.053Z"
   },
   {
    "duration": 413,
    "start_time": "2022-12-15T16:49:50.647Z"
   },
   {
    "duration": 197,
    "start_time": "2022-12-15T16:49:51.062Z"
   },
   {
    "duration": 338,
    "start_time": "2022-12-15T16:49:51.261Z"
   },
   {
    "duration": 38,
    "start_time": "2022-12-15T16:49:51.601Z"
   },
   {
    "duration": 147,
    "start_time": "2022-12-15T16:49:51.640Z"
   },
   {
    "duration": 626,
    "start_time": "2022-12-15T16:49:51.789Z"
   },
   {
    "duration": 410,
    "start_time": "2022-12-15T16:49:52.418Z"
   },
   {
    "duration": 400,
    "start_time": "2022-12-15T16:49:52.830Z"
   },
   {
    "duration": 13,
    "start_time": "2022-12-15T16:49:53.232Z"
   },
   {
    "duration": 208,
    "start_time": "2022-12-15T16:49:53.249Z"
   },
   {
    "duration": 492,
    "start_time": "2022-12-15T16:49:53.458Z"
   },
   {
    "duration": 4,
    "start_time": "2022-12-15T16:49:53.952Z"
   },
   {
    "duration": 16,
    "start_time": "2022-12-15T16:49:53.957Z"
   },
   {
    "duration": 274,
    "start_time": "2022-12-15T16:49:53.974Z"
   },
   {
    "duration": 188,
    "start_time": "2022-12-15T16:49:54.250Z"
   },
   {
    "duration": 16,
    "start_time": "2022-12-15T16:49:54.440Z"
   },
   {
    "duration": 336,
    "start_time": "2022-12-15T16:49:54.457Z"
   },
   {
    "duration": 23,
    "start_time": "2022-12-15T16:49:54.795Z"
   },
   {
    "duration": 1554,
    "start_time": "2022-12-15T16:49:54.820Z"
   },
   {
    "duration": 725,
    "start_time": "2022-12-15T16:49:56.375Z"
   },
   {
    "duration": 545,
    "start_time": "2022-12-15T16:49:57.102Z"
   },
   {
    "duration": 2,
    "start_time": "2022-12-15T16:49:57.649Z"
   },
   {
    "duration": 41,
    "start_time": "2022-12-15T16:49:57.653Z"
   },
   {
    "duration": 23,
    "start_time": "2022-12-15T16:49:57.696Z"
   },
   {
    "duration": 30,
    "start_time": "2022-12-15T16:49:57.721Z"
   },
   {
    "duration": 19,
    "start_time": "2022-12-15T16:49:57.753Z"
   },
   {
    "duration": 40,
    "start_time": "2022-12-15T16:49:57.773Z"
   },
   {
    "duration": 30,
    "start_time": "2022-12-15T16:49:57.814Z"
   },
   {
    "duration": 13,
    "start_time": "2022-12-15T16:49:57.845Z"
   },
   {
    "duration": 35,
    "start_time": "2022-12-15T16:49:57.859Z"
   },
   {
    "duration": 30,
    "start_time": "2022-12-15T16:49:57.896Z"
   },
   {
    "duration": 26,
    "start_time": "2022-12-15T16:49:57.927Z"
   },
   {
    "duration": 100,
    "start_time": "2022-12-15T16:49:57.955Z"
   },
   {
    "duration": 0,
    "start_time": "2022-12-15T16:49:58.056Z"
   },
   {
    "duration": 0,
    "start_time": "2022-12-15T16:49:58.058Z"
   },
   {
    "duration": 0,
    "start_time": "2022-12-15T16:49:58.059Z"
   },
   {
    "duration": 0,
    "start_time": "2022-12-15T16:49:58.060Z"
   },
   {
    "duration": 0,
    "start_time": "2022-12-15T16:49:58.060Z"
   },
   {
    "duration": 0,
    "start_time": "2022-12-15T16:49:58.062Z"
   },
   {
    "duration": 0,
    "start_time": "2022-12-15T16:49:58.065Z"
   },
   {
    "duration": 0,
    "start_time": "2022-12-15T16:49:58.066Z"
   },
   {
    "duration": 0,
    "start_time": "2022-12-15T16:49:58.067Z"
   },
   {
    "duration": 0,
    "start_time": "2022-12-15T16:49:58.069Z"
   },
   {
    "duration": 0,
    "start_time": "2022-12-15T16:49:58.070Z"
   },
   {
    "duration": 0,
    "start_time": "2022-12-15T16:49:58.071Z"
   },
   {
    "duration": 0,
    "start_time": "2022-12-15T16:49:58.073Z"
   },
   {
    "duration": 0,
    "start_time": "2022-12-15T16:49:58.073Z"
   },
   {
    "duration": 2,
    "start_time": "2022-12-15T16:50:36.551Z"
   },
   {
    "duration": 108,
    "start_time": "2022-12-15T16:52:06.879Z"
   },
   {
    "duration": 5,
    "start_time": "2022-12-15T16:52:31.229Z"
   },
   {
    "duration": 27,
    "start_time": "2022-12-15T16:52:31.236Z"
   },
   {
    "duration": 19,
    "start_time": "2022-12-15T16:52:31.265Z"
   },
   {
    "duration": 380,
    "start_time": "2022-12-15T16:52:31.287Z"
   },
   {
    "duration": 79,
    "start_time": "2022-12-15T16:52:31.669Z"
   },
   {
    "duration": 209,
    "start_time": "2022-12-15T16:52:31.750Z"
   },
   {
    "duration": 374,
    "start_time": "2022-12-15T16:52:31.961Z"
   },
   {
    "duration": 3,
    "start_time": "2022-12-15T16:52:32.337Z"
   },
   {
    "duration": 1637,
    "start_time": "2022-12-15T16:52:32.341Z"
   },
   {
    "duration": 149,
    "start_time": "2022-12-15T16:52:33.981Z"
   },
   {
    "duration": 19,
    "start_time": "2022-12-15T16:52:34.133Z"
   },
   {
    "duration": 4257,
    "start_time": "2022-12-15T16:52:34.155Z"
   },
   {
    "duration": 569,
    "start_time": "2022-12-15T16:52:38.414Z"
   },
   {
    "duration": 551,
    "start_time": "2022-12-15T16:52:38.985Z"
   },
   {
    "duration": 435,
    "start_time": "2022-12-15T16:52:39.538Z"
   },
   {
    "duration": 194,
    "start_time": "2022-12-15T16:52:39.975Z"
   },
   {
    "duration": 581,
    "start_time": "2022-12-15T16:52:40.172Z"
   },
   {
    "duration": 14,
    "start_time": "2022-12-15T16:52:40.755Z"
   },
   {
    "duration": 250,
    "start_time": "2022-12-15T16:52:40.771Z"
   },
   {
    "duration": 580,
    "start_time": "2022-12-15T16:52:41.023Z"
   },
   {
    "duration": 475,
    "start_time": "2022-12-15T16:52:41.605Z"
   },
   {
    "duration": 472,
    "start_time": "2022-12-15T16:52:42.082Z"
   },
   {
    "duration": 21,
    "start_time": "2022-12-15T16:52:42.556Z"
   },
   {
    "duration": 311,
    "start_time": "2022-12-15T16:52:42.579Z"
   },
   {
    "duration": 544,
    "start_time": "2022-12-15T16:52:42.892Z"
   },
   {
    "duration": 3,
    "start_time": "2022-12-15T16:52:43.438Z"
   },
   {
    "duration": 18,
    "start_time": "2022-12-15T16:52:43.443Z"
   },
   {
    "duration": 208,
    "start_time": "2022-12-15T16:52:43.466Z"
   },
   {
    "duration": 131,
    "start_time": "2022-12-15T16:52:43.734Z"
   },
   {
    "duration": 17,
    "start_time": "2022-12-15T16:52:43.867Z"
   },
   {
    "duration": 299,
    "start_time": "2022-12-15T16:52:43.885Z"
   },
   {
    "duration": 209,
    "start_time": "2022-12-15T16:52:44.185Z"
   },
   {
    "duration": 905,
    "start_time": "2022-12-15T16:52:44.396Z"
   },
   {
    "duration": 644,
    "start_time": "2022-12-15T16:52:45.302Z"
   },
   {
    "duration": 747,
    "start_time": "2022-12-15T16:52:45.948Z"
   },
   {
    "duration": 3,
    "start_time": "2022-12-15T16:52:46.697Z"
   },
   {
    "duration": 44,
    "start_time": "2022-12-15T16:52:46.702Z"
   },
   {
    "duration": 26,
    "start_time": "2022-12-15T16:52:46.748Z"
   },
   {
    "duration": 36,
    "start_time": "2022-12-15T16:52:46.776Z"
   },
   {
    "duration": 22,
    "start_time": "2022-12-15T16:52:46.814Z"
   },
   {
    "duration": 28,
    "start_time": "2022-12-15T16:52:46.837Z"
   },
   {
    "duration": 29,
    "start_time": "2022-12-15T16:52:46.867Z"
   },
   {
    "duration": 26,
    "start_time": "2022-12-15T16:52:46.898Z"
   },
   {
    "duration": 31,
    "start_time": "2022-12-15T16:52:46.926Z"
   },
   {
    "duration": 32,
    "start_time": "2022-12-15T16:52:46.959Z"
   },
   {
    "duration": 25,
    "start_time": "2022-12-15T16:52:46.993Z"
   },
   {
    "duration": 41,
    "start_time": "2022-12-15T16:52:47.020Z"
   },
   {
    "duration": 32,
    "start_time": "2022-12-15T16:52:47.063Z"
   },
   {
    "duration": 23,
    "start_time": "2022-12-15T16:52:47.096Z"
   },
   {
    "duration": 35,
    "start_time": "2022-12-15T16:52:47.121Z"
   },
   {
    "duration": 19,
    "start_time": "2022-12-15T16:52:47.158Z"
   },
   {
    "duration": 2009,
    "start_time": "2022-12-15T16:52:47.178Z"
   },
   {
    "duration": 4,
    "start_time": "2022-12-15T16:52:49.189Z"
   },
   {
    "duration": 41,
    "start_time": "2022-12-15T16:52:49.195Z"
   },
   {
    "duration": 29,
    "start_time": "2022-12-15T16:52:49.239Z"
   },
   {
    "duration": 609,
    "start_time": "2022-12-15T16:52:49.270Z"
   },
   {
    "duration": 2302,
    "start_time": "2022-12-15T16:52:49.881Z"
   },
   {
    "duration": 1423,
    "start_time": "2022-12-15T16:52:52.185Z"
   },
   {
    "duration": 10,
    "start_time": "2022-12-15T16:52:53.610Z"
   },
   {
    "duration": 0,
    "start_time": "2022-12-15T16:52:53.622Z"
   },
   {
    "duration": 0,
    "start_time": "2022-12-15T16:52:53.635Z"
   },
   {
    "duration": 1480,
    "start_time": "2022-12-15T16:56:51.088Z"
   },
   {
    "duration": 21,
    "start_time": "2022-12-15T16:58:11.594Z"
   },
   {
    "duration": 3,
    "start_time": "2022-12-15T16:59:54.141Z"
   },
   {
    "duration": 15,
    "start_time": "2022-12-15T17:00:40.553Z"
   },
   {
    "duration": 574,
    "start_time": "2022-12-15T17:00:50.832Z"
   },
   {
    "duration": 402,
    "start_time": "2022-12-15T17:00:56.749Z"
   },
   {
    "duration": 1252,
    "start_time": "2022-12-15T17:03:32.683Z"
   },
   {
    "duration": 56,
    "start_time": "2022-12-15T17:08:09.464Z"
   },
   {
    "duration": 4,
    "start_time": "2022-12-15T17:08:27.024Z"
   },
   {
    "duration": 16,
    "start_time": "2022-12-15T17:08:27.031Z"
   },
   {
    "duration": 13,
    "start_time": "2022-12-15T17:08:27.049Z"
   },
   {
    "duration": 249,
    "start_time": "2022-12-15T17:08:27.064Z"
   },
   {
    "duration": 51,
    "start_time": "2022-12-15T17:08:27.314Z"
   },
   {
    "duration": 251,
    "start_time": "2022-12-15T17:08:27.367Z"
   },
   {
    "duration": 257,
    "start_time": "2022-12-15T17:08:27.621Z"
   },
   {
    "duration": 2,
    "start_time": "2022-12-15T17:08:27.880Z"
   },
   {
    "duration": 1480,
    "start_time": "2022-12-15T17:08:27.885Z"
   },
   {
    "duration": 129,
    "start_time": "2022-12-15T17:08:29.369Z"
   },
   {
    "duration": 51,
    "start_time": "2022-12-15T17:08:29.499Z"
   },
   {
    "duration": 4153,
    "start_time": "2022-12-15T17:08:29.552Z"
   },
   {
    "duration": 584,
    "start_time": "2022-12-15T17:08:33.706Z"
   },
   {
    "duration": 463,
    "start_time": "2022-12-15T17:08:34.291Z"
   },
   {
    "duration": 401,
    "start_time": "2022-12-15T17:08:34.757Z"
   },
   {
    "duration": 188,
    "start_time": "2022-12-15T17:08:35.160Z"
   },
   {
    "duration": 305,
    "start_time": "2022-12-15T17:08:35.350Z"
   },
   {
    "duration": 7,
    "start_time": "2022-12-15T17:08:35.656Z"
   },
   {
    "duration": 160,
    "start_time": "2022-12-15T17:08:35.665Z"
   },
   {
    "duration": 527,
    "start_time": "2022-12-15T17:08:35.827Z"
   },
   {
    "duration": 442,
    "start_time": "2022-12-15T17:08:36.356Z"
   },
   {
    "duration": 476,
    "start_time": "2022-12-15T17:08:36.800Z"
   },
   {
    "duration": 19,
    "start_time": "2022-12-15T17:08:37.278Z"
   },
   {
    "duration": 190,
    "start_time": "2022-12-15T17:08:37.299Z"
   },
   {
    "duration": 537,
    "start_time": "2022-12-15T17:08:37.492Z"
   },
   {
    "duration": 5,
    "start_time": "2022-12-15T17:08:38.032Z"
   },
   {
    "duration": 14,
    "start_time": "2022-12-15T17:08:38.038Z"
   },
   {
    "duration": 202,
    "start_time": "2022-12-15T17:08:38.056Z"
   },
   {
    "duration": 144,
    "start_time": "2022-12-15T17:08:38.260Z"
   },
   {
    "duration": 21,
    "start_time": "2022-12-15T17:08:38.407Z"
   },
   {
    "duration": 459,
    "start_time": "2022-12-15T17:08:38.430Z"
   },
   {
    "duration": 244,
    "start_time": "2022-12-15T17:08:38.892Z"
   },
   {
    "duration": 1421,
    "start_time": "2022-12-15T17:08:39.138Z"
   },
   {
    "duration": 489,
    "start_time": "2022-12-15T17:08:40.561Z"
   },
   {
    "duration": 407,
    "start_time": "2022-12-15T17:08:41.052Z"
   },
   {
    "duration": 1402,
    "start_time": "2022-12-15T17:08:41.461Z"
   },
   {
    "duration": 76,
    "start_time": "2022-12-15T17:08:42.866Z"
   },
   {
    "duration": 4,
    "start_time": "2022-12-15T17:08:42.944Z"
   },
   {
    "duration": 519,
    "start_time": "2022-12-15T17:08:42.950Z"
   },
   {
    "duration": 1687,
    "start_time": "2022-12-15T17:08:43.470Z"
   },
   {
    "duration": 181,
    "start_time": "2022-12-15T17:08:45.159Z"
   },
   {
    "duration": 279,
    "start_time": "2022-12-15T17:08:45.342Z"
   },
   {
    "duration": 219,
    "start_time": "2022-12-15T17:08:45.623Z"
   },
   {
    "duration": 3,
    "start_time": "2022-12-15T17:17:13.903Z"
   },
   {
    "duration": 11,
    "start_time": "2022-12-15T17:17:13.920Z"
   },
   {
    "duration": 13,
    "start_time": "2022-12-15T17:17:13.933Z"
   },
   {
    "duration": 288,
    "start_time": "2022-12-15T17:17:13.948Z"
   },
   {
    "duration": 45,
    "start_time": "2022-12-15T17:17:14.238Z"
   },
   {
    "duration": 340,
    "start_time": "2022-12-15T17:17:14.285Z"
   },
   {
    "duration": 652,
    "start_time": "2022-12-15T17:17:14.636Z"
   },
   {
    "duration": 3,
    "start_time": "2022-12-15T17:17:15.336Z"
   },
   {
    "duration": 1356,
    "start_time": "2022-12-15T17:17:15.341Z"
   },
   {
    "duration": 168,
    "start_time": "2022-12-15T17:17:16.700Z"
   },
   {
    "duration": 18,
    "start_time": "2022-12-15T17:17:16.870Z"
   },
   {
    "duration": 4378,
    "start_time": "2022-12-15T17:17:16.890Z"
   },
   {
    "duration": 645,
    "start_time": "2022-12-15T17:17:21.270Z"
   },
   {
    "duration": 825,
    "start_time": "2022-12-15T17:17:21.917Z"
   },
   {
    "duration": 394,
    "start_time": "2022-12-15T17:17:22.746Z"
   },
   {
    "duration": 172,
    "start_time": "2022-12-15T17:17:23.141Z"
   },
   {
    "duration": 319,
    "start_time": "2022-12-15T17:17:23.315Z"
   },
   {
    "duration": 8,
    "start_time": "2022-12-15T17:17:23.636Z"
   },
   {
    "duration": 244,
    "start_time": "2022-12-15T17:17:23.646Z"
   },
   {
    "duration": 755,
    "start_time": "2022-12-15T17:17:23.891Z"
   },
   {
    "duration": 354,
    "start_time": "2022-12-15T17:17:24.648Z"
   },
   {
    "duration": 492,
    "start_time": "2022-12-15T17:17:25.003Z"
   },
   {
    "duration": 15,
    "start_time": "2022-12-15T17:17:25.497Z"
   },
   {
    "duration": 153,
    "start_time": "2022-12-15T17:17:25.536Z"
   },
   {
    "duration": 864,
    "start_time": "2022-12-15T17:17:25.691Z"
   },
   {
    "duration": 4,
    "start_time": "2022-12-15T17:17:26.557Z"
   },
   {
    "duration": 73,
    "start_time": "2022-12-15T17:17:26.563Z"
   },
   {
    "duration": 413,
    "start_time": "2022-12-15T17:17:26.638Z"
   },
   {
    "duration": 215,
    "start_time": "2022-12-15T17:17:27.053Z"
   },
   {
    "duration": 17,
    "start_time": "2022-12-15T17:17:27.270Z"
   },
   {
    "duration": 664,
    "start_time": "2022-12-15T17:17:27.335Z"
   },
   {
    "duration": 187,
    "start_time": "2022-12-15T17:17:28.001Z"
   },
   {
    "duration": 1075,
    "start_time": "2022-12-15T17:17:28.190Z"
   },
   {
    "duration": 576,
    "start_time": "2022-12-15T17:17:29.267Z"
   },
   {
    "duration": 799,
    "start_time": "2022-12-15T17:17:29.845Z"
   },
   {
    "duration": 1602,
    "start_time": "2022-12-15T17:17:30.647Z"
   },
   {
    "duration": 12,
    "start_time": "2022-12-15T17:17:32.251Z"
   },
   {
    "duration": 4,
    "start_time": "2022-12-15T17:17:32.265Z"
   },
   {
    "duration": 340,
    "start_time": "2022-12-15T17:17:32.270Z"
   },
   {
    "duration": 1534,
    "start_time": "2022-12-15T17:17:32.613Z"
   },
   {
    "duration": 90,
    "start_time": "2022-12-15T17:17:34.149Z"
   },
   {
    "duration": 219,
    "start_time": "2022-12-15T17:17:34.243Z"
   },
   {
    "duration": 250,
    "start_time": "2022-12-15T17:17:34.534Z"
   },
   {
    "duration": 974,
    "start_time": "2022-12-16T15:56:40.922Z"
   },
   {
    "duration": 4,
    "start_time": "2022-12-16T15:56:41.898Z"
   },
   {
    "duration": 15859,
    "start_time": "2022-12-16T15:56:41.903Z"
   },
   {
    "duration": 486,
    "start_time": "2022-12-16T15:56:57.765Z"
   },
   {
    "duration": 0,
    "start_time": "2022-12-16T15:56:58.256Z"
   },
   {
    "duration": 1,
    "start_time": "2022-12-16T15:56:58.257Z"
   },
   {
    "duration": 0,
    "start_time": "2022-12-16T15:56:58.260Z"
   },
   {
    "duration": 0,
    "start_time": "2022-12-16T15:56:58.261Z"
   },
   {
    "duration": 0,
    "start_time": "2022-12-16T15:56:58.262Z"
   },
   {
    "duration": 0,
    "start_time": "2022-12-16T15:56:58.264Z"
   },
   {
    "duration": 0,
    "start_time": "2022-12-16T15:56:58.265Z"
   },
   {
    "duration": 0,
    "start_time": "2022-12-16T15:56:58.267Z"
   },
   {
    "duration": 0,
    "start_time": "2022-12-16T15:56:58.269Z"
   },
   {
    "duration": 0,
    "start_time": "2022-12-16T15:56:58.270Z"
   },
   {
    "duration": 0,
    "start_time": "2022-12-16T15:56:58.271Z"
   },
   {
    "duration": 0,
    "start_time": "2022-12-16T15:56:58.273Z"
   },
   {
    "duration": 0,
    "start_time": "2022-12-16T15:56:58.274Z"
   },
   {
    "duration": 0,
    "start_time": "2022-12-16T15:56:58.276Z"
   },
   {
    "duration": 0,
    "start_time": "2022-12-16T15:56:58.278Z"
   },
   {
    "duration": 0,
    "start_time": "2022-12-16T15:56:58.279Z"
   },
   {
    "duration": 0,
    "start_time": "2022-12-16T15:56:58.351Z"
   },
   {
    "duration": 0,
    "start_time": "2022-12-16T15:56:58.353Z"
   },
   {
    "duration": 0,
    "start_time": "2022-12-16T15:56:58.355Z"
   },
   {
    "duration": 0,
    "start_time": "2022-12-16T15:56:58.356Z"
   },
   {
    "duration": 0,
    "start_time": "2022-12-16T15:56:58.357Z"
   },
   {
    "duration": 0,
    "start_time": "2022-12-16T15:56:58.359Z"
   },
   {
    "duration": 9044,
    "start_time": "2022-12-16T15:58:14.132Z"
   },
   {
    "duration": 988,
    "start_time": "2022-12-16T15:58:45.714Z"
   },
   {
    "duration": 4,
    "start_time": "2022-12-16T15:58:46.704Z"
   },
   {
    "duration": 15966,
    "start_time": "2022-12-16T15:58:46.710Z"
   },
   {
    "duration": 9375,
    "start_time": "2022-12-16T15:59:02.678Z"
   },
   {
    "duration": 1709,
    "start_time": "2022-12-16T15:59:12.055Z"
   },
   {
    "duration": 3523,
    "start_time": "2022-12-16T15:59:13.765Z"
   },
   {
    "duration": 2363,
    "start_time": "2022-12-16T15:59:17.290Z"
   },
   {
    "duration": 4,
    "start_time": "2022-12-16T15:59:19.655Z"
   },
   {
    "duration": 4922,
    "start_time": "2022-12-16T15:59:19.661Z"
   },
   {
    "duration": 777,
    "start_time": "2022-12-16T15:59:24.587Z"
   },
   {
    "duration": 107,
    "start_time": "2022-12-16T15:59:25.366Z"
   },
   {
    "duration": 5113,
    "start_time": "2022-12-16T15:59:25.475Z"
   },
   {
    "duration": 599,
    "start_time": "2022-12-16T15:59:30.589Z"
   },
   {
    "duration": 1463,
    "start_time": "2022-12-16T15:59:31.191Z"
   },
   {
    "duration": 900,
    "start_time": "2022-12-16T15:59:32.656Z"
   },
   {
    "duration": 195,
    "start_time": "2022-12-16T15:59:33.558Z"
   },
   {
    "duration": 1611,
    "start_time": "2022-12-16T15:59:33.755Z"
   },
   {
    "duration": 95,
    "start_time": "2022-12-16T15:59:35.367Z"
   },
   {
    "duration": 1093,
    "start_time": "2022-12-16T15:59:35.466Z"
   },
   {
    "duration": 3096,
    "start_time": "2022-12-16T15:59:36.561Z"
   },
   {
    "duration": 1699,
    "start_time": "2022-12-16T15:59:39.660Z"
   },
   {
    "duration": 1229,
    "start_time": "2022-12-16T15:59:41.361Z"
   },
   {
    "duration": 88,
    "start_time": "2022-12-16T15:59:42.591Z"
   },
   {
    "duration": 514,
    "start_time": "2022-12-16T15:59:42.680Z"
   },
   {
    "duration": 1665,
    "start_time": "2022-12-16T15:59:43.196Z"
   },
   {
    "duration": 6413,
    "start_time": "2022-12-16T15:59:44.862Z"
   },
   {
    "duration": 647,
    "start_time": "2022-12-16T16:20:05.443Z"
   },
   {
    "duration": 1059,
    "start_time": "2022-12-17T12:49:52.426Z"
   },
   {
    "duration": 3,
    "start_time": "2022-12-17T12:49:53.488Z"
   },
   {
    "duration": 14699,
    "start_time": "2022-12-17T12:49:53.493Z"
   },
   {
    "duration": 8187,
    "start_time": "2022-12-17T12:50:08.195Z"
   },
   {
    "duration": 1172,
    "start_time": "2022-12-17T12:50:16.384Z"
   },
   {
    "duration": 2628,
    "start_time": "2022-12-17T12:50:17.558Z"
   },
   {
    "duration": 1995,
    "start_time": "2022-12-17T12:50:20.188Z"
   },
   {
    "duration": 3,
    "start_time": "2022-12-17T12:50:22.253Z"
   },
   {
    "duration": 4712,
    "start_time": "2022-12-17T12:50:22.258Z"
   },
   {
    "duration": 707,
    "start_time": "2022-12-17T12:50:26.974Z"
   },
   {
    "duration": 170,
    "start_time": "2022-12-17T12:50:27.683Z"
   },
   {
    "duration": 4452,
    "start_time": "2022-12-17T12:50:27.855Z"
   },
   {
    "duration": 587,
    "start_time": "2022-12-17T12:50:32.309Z"
   },
   {
    "duration": 1572,
    "start_time": "2022-12-17T12:50:32.898Z"
   },
   {
    "duration": 1007,
    "start_time": "2022-12-17T12:50:34.472Z"
   },
   {
    "duration": 209,
    "start_time": "2022-12-17T12:50:35.481Z"
   },
   {
    "duration": 1273,
    "start_time": "2022-12-17T12:50:35.692Z"
   },
   {
    "duration": 85,
    "start_time": "2022-12-17T12:50:36.967Z"
   },
   {
    "duration": 1014,
    "start_time": "2022-12-17T12:50:37.054Z"
   },
   {
    "duration": 2494,
    "start_time": "2022-12-17T12:50:38.069Z"
   },
   {
    "duration": 1218,
    "start_time": "2022-12-17T12:50:40.564Z"
   },
   {
    "duration": 1189,
    "start_time": "2022-12-17T12:50:41.784Z"
   },
   {
    "duration": 87,
    "start_time": "2022-12-17T12:50:42.978Z"
   },
   {
    "duration": 510,
    "start_time": "2022-12-17T12:50:43.067Z"
   },
   {
    "duration": 1514,
    "start_time": "2022-12-17T12:50:43.579Z"
   },
   {
    "duration": 4,
    "start_time": "2022-12-17T12:50:45.095Z"
   },
   {
    "duration": 53,
    "start_time": "2022-12-17T12:50:45.100Z"
   },
   {
    "duration": 927,
    "start_time": "2022-12-17T12:50:45.158Z"
   },
   {
    "duration": 386,
    "start_time": "2022-12-17T12:50:46.087Z"
   },
   {
    "duration": 94,
    "start_time": "2022-12-17T12:50:46.475Z"
   },
   {
    "duration": 938,
    "start_time": "2022-12-17T12:50:46.571Z"
   },
   {
    "duration": 349,
    "start_time": "2022-12-17T12:50:47.511Z"
   },
   {
    "duration": 1830,
    "start_time": "2022-12-17T12:50:47.862Z"
   },
   {
    "duration": 855,
    "start_time": "2022-12-17T12:50:49.693Z"
   },
   {
    "duration": 829,
    "start_time": "2022-12-17T12:50:50.550Z"
   },
   {
    "duration": 2615,
    "start_time": "2022-12-17T12:50:51.380Z"
   },
   {
    "duration": 65,
    "start_time": "2022-12-17T12:50:53.997Z"
   },
   {
    "duration": 3,
    "start_time": "2022-12-17T12:50:54.064Z"
   },
   {
    "duration": 755,
    "start_time": "2022-12-17T12:50:54.069Z"
   },
   {
    "duration": 1860,
    "start_time": "2022-12-17T12:50:54.826Z"
   },
   {
    "duration": 218,
    "start_time": "2022-12-17T12:50:56.688Z"
   },
   {
    "duration": 355,
    "start_time": "2022-12-17T12:50:56.907Z"
   },
   {
    "duration": 389,
    "start_time": "2022-12-17T12:50:57.264Z"
   },
   {
    "duration": 3440,
    "start_time": "2022-12-17T13:00:06.243Z"
   },
   {
    "duration": 4,
    "start_time": "2022-12-17T13:40:50.536Z"
   },
   {
    "duration": 5,
    "start_time": "2022-12-17T13:40:50.545Z"
   },
   {
    "duration": 11,
    "start_time": "2022-12-17T13:40:50.552Z"
   },
   {
    "duration": 428,
    "start_time": "2022-12-17T13:40:50.565Z"
   },
   {
    "duration": 159,
    "start_time": "2022-12-17T13:40:50.994Z"
   },
   {
    "duration": 633,
    "start_time": "2022-12-17T13:40:51.156Z"
   },
   {
    "duration": 962,
    "start_time": "2022-12-17T13:40:51.791Z"
   },
   {
    "duration": 3,
    "start_time": "2022-12-17T13:40:52.754Z"
   },
   {
    "duration": 2396,
    "start_time": "2022-12-17T13:40:52.758Z"
   },
   {
    "duration": 328,
    "start_time": "2022-12-17T13:40:55.156Z"
   },
   {
    "duration": 85,
    "start_time": "2022-12-17T13:40:55.485Z"
   },
   {
    "duration": 4117,
    "start_time": "2022-12-17T13:40:55.571Z"
   },
   {
    "duration": 587,
    "start_time": "2022-12-17T13:40:59.690Z"
   },
   {
    "duration": 881,
    "start_time": "2022-12-17T13:41:00.279Z"
   },
   {
    "duration": 497,
    "start_time": "2022-12-17T13:41:01.161Z"
   },
   {
    "duration": 158,
    "start_time": "2022-12-17T13:41:01.659Z"
   },
   {
    "duration": 2265,
    "start_time": "2022-12-17T13:41:01.819Z"
   },
   {
    "duration": 647,
    "start_time": "2022-12-17T13:41:04.086Z"
   },
   {
    "duration": 8,
    "start_time": "2022-12-17T13:41:04.753Z"
   },
   {
    "duration": 301,
    "start_time": "2022-12-17T13:41:04.763Z"
   },
   {
    "duration": 1128,
    "start_time": "2022-12-17T13:41:05.066Z"
   },
   {
    "duration": 728,
    "start_time": "2022-12-17T13:41:06.195Z"
   },
   {
    "duration": 679,
    "start_time": "2022-12-17T13:41:06.925Z"
   },
   {
    "duration": 47,
    "start_time": "2022-12-17T13:41:07.606Z"
   },
   {
    "duration": 259,
    "start_time": "2022-12-17T13:41:07.655Z"
   },
   {
    "duration": 1009,
    "start_time": "2022-12-17T13:41:07.915Z"
   },
   {
    "duration": 3,
    "start_time": "2022-12-17T13:41:08.926Z"
   },
   {
    "duration": 20,
    "start_time": "2022-12-17T13:41:08.931Z"
   },
   {
    "duration": 319,
    "start_time": "2022-12-17T13:41:08.952Z"
   },
   {
    "duration": 215,
    "start_time": "2022-12-17T13:41:09.272Z"
   },
   {
    "duration": 18,
    "start_time": "2022-12-17T13:41:09.489Z"
   },
   {
    "duration": 649,
    "start_time": "2022-12-17T13:41:09.509Z"
   },
   {
    "duration": 229,
    "start_time": "2022-12-17T13:41:10.161Z"
   },
   {
    "duration": 1461,
    "start_time": "2022-12-17T13:41:10.392Z"
   },
   {
    "duration": 661,
    "start_time": "2022-12-17T13:41:11.855Z"
   },
   {
    "duration": 600,
    "start_time": "2022-12-17T13:41:12.518Z"
   },
   {
    "duration": 2067,
    "start_time": "2022-12-17T13:41:13.120Z"
   },
   {
    "duration": 16,
    "start_time": "2022-12-17T13:41:15.192Z"
   },
   {
    "duration": 4,
    "start_time": "2022-12-17T13:41:15.252Z"
   },
   {
    "duration": 566,
    "start_time": "2022-12-17T13:41:15.258Z"
   },
   {
    "duration": 1541,
    "start_time": "2022-12-17T13:41:15.826Z"
   },
   {
    "duration": 136,
    "start_time": "2022-12-17T13:41:17.369Z"
   },
   {
    "duration": 167,
    "start_time": "2022-12-17T13:41:17.506Z"
   },
   {
    "duration": 260,
    "start_time": "2022-12-17T13:41:17.675Z"
   },
   {
    "duration": 3,
    "start_time": "2022-12-17T13:44:58.053Z"
   },
   {
    "duration": 4,
    "start_time": "2022-12-17T14:04:58.595Z"
   },
   {
    "duration": 6,
    "start_time": "2022-12-17T14:04:58.600Z"
   },
   {
    "duration": 13,
    "start_time": "2022-12-17T14:04:58.609Z"
   },
   {
    "duration": 366,
    "start_time": "2022-12-17T14:04:58.624Z"
   },
   {
    "duration": 110,
    "start_time": "2022-12-17T14:04:58.992Z"
   },
   {
    "duration": 479,
    "start_time": "2022-12-17T14:04:59.104Z"
   },
   {
    "duration": 701,
    "start_time": "2022-12-17T14:04:59.586Z"
   },
   {
    "duration": 2,
    "start_time": "2022-12-17T14:05:00.289Z"
   },
   {
    "duration": 1777,
    "start_time": "2022-12-17T14:05:00.292Z"
   },
   {
    "duration": 291,
    "start_time": "2022-12-17T14:05:02.071Z"
   },
   {
    "duration": 22,
    "start_time": "2022-12-17T14:05:02.364Z"
   },
   {
    "duration": 3970,
    "start_time": "2022-12-17T14:05:02.453Z"
   },
   {
    "duration": 540,
    "start_time": "2022-12-17T14:05:06.425Z"
   },
   {
    "duration": 525,
    "start_time": "2022-12-17T14:05:06.966Z"
   },
   {
    "duration": 503,
    "start_time": "2022-12-17T14:05:07.493Z"
   },
   {
    "duration": 151,
    "start_time": "2022-12-17T14:05:08.052Z"
   },
   {
    "duration": 3,
    "start_time": "2022-12-17T14:05:08.204Z"
   },
   {
    "duration": 667,
    "start_time": "2022-12-17T14:05:08.208Z"
   },
   {
    "duration": 397,
    "start_time": "2022-12-17T14:05:08.878Z"
   },
   {
    "duration": 86,
    "start_time": "2022-12-17T14:05:09.276Z"
   },
   {
    "duration": 17,
    "start_time": "2022-12-17T14:05:09.364Z"
   },
   {
    "duration": 70,
    "start_time": "2022-12-17T14:05:09.383Z"
   },
   {
    "duration": 0,
    "start_time": "2022-12-17T14:05:09.455Z"
   },
   {
    "duration": 0,
    "start_time": "2022-12-17T14:05:09.457Z"
   },
   {
    "duration": 0,
    "start_time": "2022-12-17T14:05:09.458Z"
   },
   {
    "duration": 0,
    "start_time": "2022-12-17T14:05:09.459Z"
   },
   {
    "duration": 0,
    "start_time": "2022-12-17T14:05:09.461Z"
   },
   {
    "duration": 0,
    "start_time": "2022-12-17T14:05:09.462Z"
   },
   {
    "duration": 0,
    "start_time": "2022-12-17T14:05:09.464Z"
   },
   {
    "duration": 0,
    "start_time": "2022-12-17T14:05:09.465Z"
   },
   {
    "duration": 0,
    "start_time": "2022-12-17T14:05:09.467Z"
   },
   {
    "duration": 0,
    "start_time": "2022-12-17T14:05:09.468Z"
   },
   {
    "duration": 0,
    "start_time": "2022-12-17T14:05:09.472Z"
   },
   {
    "duration": 0,
    "start_time": "2022-12-17T14:05:09.473Z"
   },
   {
    "duration": 0,
    "start_time": "2022-12-17T14:05:09.474Z"
   },
   {
    "duration": 0,
    "start_time": "2022-12-17T14:05:09.476Z"
   },
   {
    "duration": 0,
    "start_time": "2022-12-17T14:05:09.477Z"
   },
   {
    "duration": 0,
    "start_time": "2022-12-17T14:05:09.478Z"
   },
   {
    "duration": 0,
    "start_time": "2022-12-17T14:05:09.480Z"
   },
   {
    "duration": 0,
    "start_time": "2022-12-17T14:05:09.482Z"
   },
   {
    "duration": 0,
    "start_time": "2022-12-17T14:05:09.483Z"
   },
   {
    "duration": 3,
    "start_time": "2022-12-17T14:05:45.682Z"
   },
   {
    "duration": 20,
    "start_time": "2022-12-17T14:05:45.687Z"
   },
   {
    "duration": 8,
    "start_time": "2022-12-17T14:05:45.709Z"
   },
   {
    "duration": 265,
    "start_time": "2022-12-17T14:05:45.719Z"
   },
   {
    "duration": 120,
    "start_time": "2022-12-17T14:05:45.987Z"
   },
   {
    "duration": 258,
    "start_time": "2022-12-17T14:05:46.109Z"
   },
   {
    "duration": 521,
    "start_time": "2022-12-17T14:05:46.369Z"
   },
   {
    "duration": 6,
    "start_time": "2022-12-17T14:05:46.954Z"
   },
   {
    "duration": 1860,
    "start_time": "2022-12-17T14:05:46.961Z"
   },
   {
    "duration": 250,
    "start_time": "2022-12-17T14:05:48.823Z"
   },
   {
    "duration": 23,
    "start_time": "2022-12-17T14:05:49.155Z"
   },
   {
    "duration": 4200,
    "start_time": "2022-12-17T14:05:49.180Z"
   },
   {
    "duration": 602,
    "start_time": "2022-12-17T14:05:53.382Z"
   },
   {
    "duration": 600,
    "start_time": "2022-12-17T14:05:53.986Z"
   },
   {
    "duration": 580,
    "start_time": "2022-12-17T14:05:54.587Z"
   },
   {
    "duration": 230,
    "start_time": "2022-12-17T14:05:55.169Z"
   },
   {
    "duration": 3,
    "start_time": "2022-12-17T14:05:55.400Z"
   },
   {
    "duration": 400,
    "start_time": "2022-12-17T14:05:55.405Z"
   },
   {
    "duration": 349,
    "start_time": "2022-12-17T14:05:55.807Z"
   },
   {
    "duration": 27,
    "start_time": "2022-12-17T14:05:56.158Z"
   },
   {
    "duration": 65,
    "start_time": "2022-12-17T14:05:56.187Z"
   },
   {
    "duration": 513,
    "start_time": "2022-12-17T14:05:56.254Z"
   },
   {
    "duration": 18,
    "start_time": "2022-12-17T14:05:56.769Z"
   },
   {
    "duration": 479,
    "start_time": "2022-12-17T14:05:56.789Z"
   },
   {
    "duration": 794,
    "start_time": "2022-12-17T14:05:57.270Z"
   },
   {
    "duration": 335,
    "start_time": "2022-12-17T14:05:58.066Z"
   },
   {
    "duration": 1280,
    "start_time": "2022-12-17T14:05:58.403Z"
   },
   {
    "duration": 299,
    "start_time": "2022-12-17T14:05:59.684Z"
   },
   {
    "duration": 6,
    "start_time": "2022-12-17T14:05:59.986Z"
   },
   {
    "duration": 238,
    "start_time": "2022-12-17T14:05:59.993Z"
   },
   {
    "duration": 947,
    "start_time": "2022-12-17T14:06:00.232Z"
   },
   {
    "duration": 518,
    "start_time": "2022-12-17T14:06:01.180Z"
   },
   {
    "duration": 659,
    "start_time": "2022-12-17T14:06:01.699Z"
   },
   {
    "duration": 17,
    "start_time": "2022-12-17T14:06:02.360Z"
   },
   {
    "duration": 383,
    "start_time": "2022-12-17T14:06:02.379Z"
   },
   {
    "duration": 764,
    "start_time": "2022-12-17T14:06:02.763Z"
   },
   {
    "duration": 1150,
    "start_time": "2022-12-17T14:06:03.529Z"
   },
   {
    "duration": 94,
    "start_time": "2022-12-17T14:06:04.680Z"
   },
   {
    "duration": 146,
    "start_time": "2022-12-17T14:06:04.775Z"
   },
   {
    "duration": 229,
    "start_time": "2022-12-17T14:06:04.923Z"
   },
   {
    "duration": 3,
    "start_time": "2022-12-17T14:08:47.913Z"
   },
   {
    "duration": 11,
    "start_time": "2022-12-17T14:08:47.918Z"
   },
   {
    "duration": 6,
    "start_time": "2022-12-17T14:08:47.930Z"
   },
   {
    "duration": 245,
    "start_time": "2022-12-17T14:08:47.938Z"
   },
   {
    "duration": 74,
    "start_time": "2022-12-17T14:08:48.186Z"
   },
   {
    "duration": 229,
    "start_time": "2022-12-17T14:08:48.261Z"
   },
   {
    "duration": 461,
    "start_time": "2022-12-17T14:08:48.492Z"
   },
   {
    "duration": 2,
    "start_time": "2022-12-17T14:08:48.955Z"
   },
   {
    "duration": 1394,
    "start_time": "2022-12-17T14:08:48.959Z"
   },
   {
    "duration": 207,
    "start_time": "2022-12-17T14:08:50.355Z"
   },
   {
    "duration": 20,
    "start_time": "2022-12-17T14:08:50.564Z"
   },
   {
    "duration": 3994,
    "start_time": "2022-12-17T14:08:50.586Z"
   },
   {
    "duration": 550,
    "start_time": "2022-12-17T14:08:54.582Z"
   },
   {
    "duration": 534,
    "start_time": "2022-12-17T14:08:55.133Z"
   },
   {
    "duration": 430,
    "start_time": "2022-12-17T14:08:55.668Z"
   },
   {
    "duration": 195,
    "start_time": "2022-12-17T14:08:56.100Z"
   },
   {
    "duration": 3,
    "start_time": "2022-12-17T14:08:56.297Z"
   },
   {
    "duration": 356,
    "start_time": "2022-12-17T14:08:56.301Z"
   },
   {
    "duration": 317,
    "start_time": "2022-12-17T14:08:56.659Z"
   },
   {
    "duration": 92,
    "start_time": "2022-12-17T14:08:56.977Z"
   },
   {
    "duration": 15,
    "start_time": "2022-12-17T14:08:57.070Z"
   },
   {
    "duration": 401,
    "start_time": "2022-12-17T14:08:57.087Z"
   },
   {
    "duration": 15,
    "start_time": "2022-12-17T14:08:57.490Z"
   },
   {
    "duration": 287,
    "start_time": "2022-12-17T14:08:57.507Z"
   },
   {
    "duration": 675,
    "start_time": "2022-12-17T14:08:57.795Z"
   },
   {
    "duration": 222,
    "start_time": "2022-12-17T14:08:58.471Z"
   },
   {
    "duration": 1105,
    "start_time": "2022-12-17T14:08:58.695Z"
   },
   {
    "duration": 366,
    "start_time": "2022-12-17T14:08:59.802Z"
   },
   {
    "duration": 882,
    "start_time": "2022-12-17T14:09:00.171Z"
   },
   {
    "duration": 7,
    "start_time": "2022-12-17T14:09:01.054Z"
   },
   {
    "duration": 313,
    "start_time": "2022-12-17T14:09:01.062Z"
   },
   {
    "duration": 1107,
    "start_time": "2022-12-17T14:09:01.376Z"
   },
   {
    "duration": 534,
    "start_time": "2022-12-17T14:09:02.486Z"
   },
   {
    "duration": 491,
    "start_time": "2022-12-17T14:09:03.022Z"
   },
   {
    "duration": 14,
    "start_time": "2022-12-17T14:09:03.515Z"
   },
   {
    "duration": 335,
    "start_time": "2022-12-17T14:09:03.553Z"
   },
   {
    "duration": 973,
    "start_time": "2022-12-17T14:09:03.889Z"
   },
   {
    "duration": 781,
    "start_time": "2022-12-17T14:09:04.864Z"
   },
   {
    "duration": 90,
    "start_time": "2022-12-17T14:09:05.647Z"
   },
   {
    "duration": 148,
    "start_time": "2022-12-17T14:09:05.739Z"
   },
   {
    "duration": 465,
    "start_time": "2022-12-17T14:09:05.889Z"
   },
   {
    "duration": 906,
    "start_time": "2022-12-17T14:11:33.640Z"
   },
   {
    "duration": 272,
    "start_time": "2022-12-17T14:12:18.837Z"
   },
   {
    "duration": 3,
    "start_time": "2022-12-17T14:13:05.845Z"
   },
   {
    "duration": 7,
    "start_time": "2022-12-17T14:13:05.850Z"
   },
   {
    "duration": 16,
    "start_time": "2022-12-17T14:13:05.859Z"
   },
   {
    "duration": 208,
    "start_time": "2022-12-17T14:13:05.876Z"
   },
   {
    "duration": 66,
    "start_time": "2022-12-17T14:13:06.086Z"
   },
   {
    "duration": 252,
    "start_time": "2022-12-17T14:13:06.154Z"
   },
   {
    "duration": 361,
    "start_time": "2022-12-17T14:13:06.407Z"
   },
   {
    "duration": 2,
    "start_time": "2022-12-17T14:13:06.770Z"
   },
   {
    "duration": 2084,
    "start_time": "2022-12-17T14:13:06.774Z"
   },
   {
    "duration": 232,
    "start_time": "2022-12-17T14:13:08.860Z"
   },
   {
    "duration": 18,
    "start_time": "2022-12-17T14:13:09.152Z"
   },
   {
    "duration": 7608,
    "start_time": "2022-12-17T14:13:09.172Z"
   },
   {
    "duration": 1085,
    "start_time": "2022-12-17T14:13:16.782Z"
   },
   {
    "duration": 715,
    "start_time": "2022-12-17T14:13:17.869Z"
   },
   {
    "duration": 1009,
    "start_time": "2022-12-17T14:13:18.653Z"
   },
   {
    "duration": 308,
    "start_time": "2022-12-17T14:13:19.664Z"
   },
   {
    "duration": 2,
    "start_time": "2022-12-17T14:13:19.974Z"
   },
   {
    "duration": 675,
    "start_time": "2022-12-17T14:13:19.978Z"
   },
   {
    "duration": 423,
    "start_time": "2022-12-17T14:13:20.655Z"
   },
   {
    "duration": 90,
    "start_time": "2022-12-17T14:13:21.080Z"
   },
   {
    "duration": 81,
    "start_time": "2022-12-17T14:13:21.171Z"
   },
   {
    "duration": 400,
    "start_time": "2022-12-17T14:13:21.254Z"
   },
   {
    "duration": 23,
    "start_time": "2022-12-17T14:13:21.656Z"
   },
   {
    "duration": 381,
    "start_time": "2022-12-17T14:13:21.681Z"
   },
   {
    "duration": 833,
    "start_time": "2022-12-17T14:13:22.064Z"
   },
   {
    "duration": 270,
    "start_time": "2022-12-17T14:13:22.898Z"
   },
   {
    "duration": 793,
    "start_time": "2022-12-17T14:13:23.170Z"
   },
   {
    "duration": 208,
    "start_time": "2022-12-17T14:13:23.965Z"
   },
   {
    "duration": 87,
    "start_time": "2022-12-17T14:13:24.177Z"
   },
   {
    "duration": 0,
    "start_time": "2022-12-17T14:13:24.265Z"
   },
   {
    "duration": 0,
    "start_time": "2022-12-17T14:13:24.266Z"
   },
   {
    "duration": 0,
    "start_time": "2022-12-17T14:13:24.267Z"
   },
   {
    "duration": 0,
    "start_time": "2022-12-17T14:13:24.269Z"
   },
   {
    "duration": 0,
    "start_time": "2022-12-17T14:13:24.270Z"
   },
   {
    "duration": 0,
    "start_time": "2022-12-17T14:13:24.271Z"
   },
   {
    "duration": 0,
    "start_time": "2022-12-17T14:13:24.272Z"
   },
   {
    "duration": 0,
    "start_time": "2022-12-17T14:13:24.273Z"
   },
   {
    "duration": 0,
    "start_time": "2022-12-17T14:13:24.275Z"
   },
   {
    "duration": 0,
    "start_time": "2022-12-17T14:13:24.276Z"
   },
   {
    "duration": 0,
    "start_time": "2022-12-17T14:13:24.277Z"
   },
   {
    "duration": 0,
    "start_time": "2022-12-17T14:13:24.278Z"
   },
   {
    "duration": 4,
    "start_time": "2022-12-17T14:14:07.965Z"
   },
   {
    "duration": 6,
    "start_time": "2022-12-17T14:14:07.971Z"
   },
   {
    "duration": 5,
    "start_time": "2022-12-17T14:14:07.979Z"
   },
   {
    "duration": 202,
    "start_time": "2022-12-17T14:14:07.986Z"
   },
   {
    "duration": 89,
    "start_time": "2022-12-17T14:14:08.190Z"
   },
   {
    "duration": 221,
    "start_time": "2022-12-17T14:14:08.281Z"
   },
   {
    "duration": 390,
    "start_time": "2022-12-17T14:14:08.504Z"
   },
   {
    "duration": 2,
    "start_time": "2022-12-17T14:14:08.896Z"
   },
   {
    "duration": 1417,
    "start_time": "2022-12-17T14:14:08.899Z"
   },
   {
    "duration": 165,
    "start_time": "2022-12-17T14:14:10.318Z"
   },
   {
    "duration": 77,
    "start_time": "2022-12-17T14:14:10.489Z"
   },
   {
    "duration": 3897,
    "start_time": "2022-12-17T14:14:10.567Z"
   },
   {
    "duration": 541,
    "start_time": "2022-12-17T14:14:14.466Z"
   },
   {
    "duration": 457,
    "start_time": "2022-12-17T14:14:15.009Z"
   },
   {
    "duration": 486,
    "start_time": "2022-12-17T14:14:15.467Z"
   },
   {
    "duration": 198,
    "start_time": "2022-12-17T14:14:15.955Z"
   },
   {
    "duration": 3,
    "start_time": "2022-12-17T14:14:16.154Z"
   },
   {
    "duration": 398,
    "start_time": "2022-12-17T14:14:16.158Z"
   },
   {
    "duration": 312,
    "start_time": "2022-12-17T14:14:16.558Z"
   },
   {
    "duration": 23,
    "start_time": "2022-12-17T14:14:16.871Z"
   },
   {
    "duration": 70,
    "start_time": "2022-12-17T14:14:16.896Z"
   },
   {
    "duration": 386,
    "start_time": "2022-12-17T14:14:16.968Z"
   },
   {
    "duration": 23,
    "start_time": "2022-12-17T14:14:17.356Z"
   },
   {
    "duration": 317,
    "start_time": "2022-12-17T14:14:17.381Z"
   },
   {
    "duration": 753,
    "start_time": "2022-12-17T14:14:17.700Z"
   },
   {
    "duration": 239,
    "start_time": "2022-12-17T14:14:18.455Z"
   },
   {
    "duration": 685,
    "start_time": "2022-12-17T14:14:18.695Z"
   },
   {
    "duration": 278,
    "start_time": "2022-12-17T14:14:19.382Z"
   },
   {
    "duration": 524,
    "start_time": "2022-12-17T14:14:19.663Z"
   },
   {
    "duration": 0,
    "start_time": "2022-12-17T14:14:20.189Z"
   },
   {
    "duration": 0,
    "start_time": "2022-12-17T14:14:20.190Z"
   },
   {
    "duration": 0,
    "start_time": "2022-12-17T14:14:20.191Z"
   },
   {
    "duration": 0,
    "start_time": "2022-12-17T14:14:20.192Z"
   },
   {
    "duration": 0,
    "start_time": "2022-12-17T14:14:20.195Z"
   },
   {
    "duration": 0,
    "start_time": "2022-12-17T14:14:20.253Z"
   },
   {
    "duration": 0,
    "start_time": "2022-12-17T14:14:20.254Z"
   },
   {
    "duration": 0,
    "start_time": "2022-12-17T14:14:20.254Z"
   },
   {
    "duration": 0,
    "start_time": "2022-12-17T14:14:20.256Z"
   },
   {
    "duration": 0,
    "start_time": "2022-12-17T14:14:20.256Z"
   },
   {
    "duration": 0,
    "start_time": "2022-12-17T14:14:20.257Z"
   },
   {
    "duration": 0,
    "start_time": "2022-12-17T14:14:20.258Z"
   },
   {
    "duration": 4,
    "start_time": "2022-12-17T14:17:31.716Z"
   },
   {
    "duration": 7,
    "start_time": "2022-12-17T14:17:31.722Z"
   },
   {
    "duration": 8,
    "start_time": "2022-12-17T14:17:31.731Z"
   },
   {
    "duration": 241,
    "start_time": "2022-12-17T14:17:31.740Z"
   },
   {
    "duration": 89,
    "start_time": "2022-12-17T14:17:31.983Z"
   },
   {
    "duration": 216,
    "start_time": "2022-12-17T14:17:32.074Z"
   },
   {
    "duration": 360,
    "start_time": "2022-12-17T14:17:32.292Z"
   },
   {
    "duration": 2,
    "start_time": "2022-12-17T14:17:32.654Z"
   },
   {
    "duration": 1313,
    "start_time": "2022-12-17T14:17:32.658Z"
   },
   {
    "duration": 152,
    "start_time": "2022-12-17T14:17:33.974Z"
   },
   {
    "duration": 39,
    "start_time": "2022-12-17T14:17:34.127Z"
   },
   {
    "duration": 3970,
    "start_time": "2022-12-17T14:17:34.167Z"
   },
   {
    "duration": 507,
    "start_time": "2022-12-17T14:17:38.138Z"
   },
   {
    "duration": 439,
    "start_time": "2022-12-17T14:17:38.652Z"
   },
   {
    "duration": 389,
    "start_time": "2022-12-17T14:17:39.093Z"
   },
   {
    "duration": 177,
    "start_time": "2022-12-17T14:17:39.484Z"
   },
   {
    "duration": 3,
    "start_time": "2022-12-17T14:17:39.663Z"
   },
   {
    "duration": 314,
    "start_time": "2022-12-17T14:17:39.668Z"
   },
   {
    "duration": 276,
    "start_time": "2022-12-17T14:17:39.984Z"
   },
   {
    "duration": 23,
    "start_time": "2022-12-17T14:17:40.262Z"
   },
   {
    "duration": 15,
    "start_time": "2022-12-17T14:17:40.287Z"
   },
   {
    "duration": 280,
    "start_time": "2022-12-17T14:17:40.303Z"
   },
   {
    "duration": 23,
    "start_time": "2022-12-17T14:17:40.585Z"
   },
   {
    "duration": 254,
    "start_time": "2022-12-17T14:17:40.609Z"
   },
   {
    "duration": 547,
    "start_time": "2022-12-17T14:17:40.866Z"
   },
   {
    "duration": 179,
    "start_time": "2022-12-17T14:17:41.415Z"
   },
   {
    "duration": 720,
    "start_time": "2022-12-17T14:17:41.596Z"
   },
   {
    "duration": 339,
    "start_time": "2022-12-17T14:17:42.317Z"
   },
   {
    "duration": 923,
    "start_time": "2022-12-17T14:17:42.658Z"
   },
   {
    "duration": 8,
    "start_time": "2022-12-17T14:17:43.582Z"
   },
   {
    "duration": 319,
    "start_time": "2022-12-17T14:17:43.592Z"
   },
   {
    "duration": 645,
    "start_time": "2022-12-17T14:17:43.913Z"
   },
   {
    "duration": 395,
    "start_time": "2022-12-17T14:17:44.560Z"
   },
   {
    "duration": 516,
    "start_time": "2022-12-17T14:17:44.957Z"
   },
   {
    "duration": 14,
    "start_time": "2022-12-17T14:17:45.475Z"
   },
   {
    "duration": 169,
    "start_time": "2022-12-17T14:17:45.490Z"
   },
   {
    "duration": 528,
    "start_time": "2022-12-17T14:17:45.660Z"
   },
   {
    "duration": 759,
    "start_time": "2022-12-17T14:17:46.189Z"
   },
   {
    "duration": 85,
    "start_time": "2022-12-17T14:17:46.950Z"
   },
   {
    "duration": 162,
    "start_time": "2022-12-17T14:17:47.037Z"
   },
   {
    "duration": 189,
    "start_time": "2022-12-17T14:17:47.200Z"
   },
   {
    "duration": 4,
    "start_time": "2022-12-17T14:21:09.860Z"
   },
   {
    "duration": 8,
    "start_time": "2022-12-17T14:21:09.867Z"
   },
   {
    "duration": 6,
    "start_time": "2022-12-17T14:21:09.877Z"
   },
   {
    "duration": 265,
    "start_time": "2022-12-17T14:21:09.885Z"
   },
   {
    "duration": 47,
    "start_time": "2022-12-17T14:21:10.152Z"
   },
   {
    "duration": 274,
    "start_time": "2022-12-17T14:21:10.201Z"
   },
   {
    "duration": 303,
    "start_time": "2022-12-17T14:21:10.477Z"
   },
   {
    "duration": 2,
    "start_time": "2022-12-17T14:21:10.781Z"
   },
   {
    "duration": 1264,
    "start_time": "2022-12-17T14:21:10.785Z"
   },
   {
    "duration": 149,
    "start_time": "2022-12-17T14:21:12.051Z"
   },
   {
    "duration": 17,
    "start_time": "2022-12-17T14:21:12.203Z"
   },
   {
    "duration": 3828,
    "start_time": "2022-12-17T14:21:12.221Z"
   },
   {
    "duration": 528,
    "start_time": "2022-12-17T14:21:16.052Z"
   },
   {
    "duration": 487,
    "start_time": "2022-12-17T14:21:16.582Z"
   },
   {
    "duration": 401,
    "start_time": "2022-12-17T14:21:17.070Z"
   },
   {
    "duration": 169,
    "start_time": "2022-12-17T14:21:17.473Z"
   },
   {
    "duration": 8,
    "start_time": "2022-12-17T14:21:17.644Z"
   },
   {
    "duration": 301,
    "start_time": "2022-12-17T14:21:17.653Z"
   },
   {
    "duration": 209,
    "start_time": "2022-12-17T14:21:17.956Z"
   },
   {
    "duration": 24,
    "start_time": "2022-12-17T14:21:18.167Z"
   },
   {
    "duration": 71,
    "start_time": "2022-12-17T14:21:18.193Z"
   },
   {
    "duration": 254,
    "start_time": "2022-12-17T14:21:18.266Z"
   },
   {
    "duration": 37,
    "start_time": "2022-12-17T14:21:18.522Z"
   },
   {
    "duration": 258,
    "start_time": "2022-12-17T14:21:18.561Z"
   },
   {
    "duration": 464,
    "start_time": "2022-12-17T14:21:18.821Z"
   },
   {
    "duration": 275,
    "start_time": "2022-12-17T14:21:19.287Z"
   },
   {
    "duration": 644,
    "start_time": "2022-12-17T14:21:19.564Z"
   },
   {
    "duration": 190,
    "start_time": "2022-12-17T14:21:20.211Z"
   },
   {
    "duration": 523,
    "start_time": "2022-12-17T14:21:20.404Z"
   },
   {
    "duration": 7,
    "start_time": "2022-12-17T14:21:20.929Z"
   },
   {
    "duration": 169,
    "start_time": "2022-12-17T14:21:20.951Z"
   },
   {
    "duration": 760,
    "start_time": "2022-12-17T14:21:21.122Z"
   },
   {
    "duration": 716,
    "start_time": "2022-12-17T14:21:21.884Z"
   },
   {
    "duration": 360,
    "start_time": "2022-12-17T14:21:22.653Z"
   },
   {
    "duration": 39,
    "start_time": "2022-12-17T14:21:23.015Z"
   },
   {
    "duration": 220,
    "start_time": "2022-12-17T14:21:23.055Z"
   },
   {
    "duration": 461,
    "start_time": "2022-12-17T14:21:23.277Z"
   },
   {
    "duration": 801,
    "start_time": "2022-12-17T14:21:23.739Z"
   },
   {
    "duration": 112,
    "start_time": "2022-12-17T14:21:24.542Z"
   },
   {
    "duration": 112,
    "start_time": "2022-12-17T14:21:24.655Z"
   },
   {
    "duration": 214,
    "start_time": "2022-12-17T14:21:24.768Z"
   },
   {
    "duration": 103,
    "start_time": "2022-12-17T14:26:29.078Z"
   },
   {
    "duration": 4,
    "start_time": "2022-12-17T14:26:36.970Z"
   },
   {
    "duration": 9,
    "start_time": "2022-12-17T14:26:36.976Z"
   },
   {
    "duration": 7,
    "start_time": "2022-12-17T14:26:36.987Z"
   },
   {
    "duration": 206,
    "start_time": "2022-12-17T14:26:36.996Z"
   },
   {
    "duration": 61,
    "start_time": "2022-12-17T14:26:37.204Z"
   },
   {
    "duration": 224,
    "start_time": "2022-12-17T14:26:37.267Z"
   },
   {
    "duration": 482,
    "start_time": "2022-12-17T14:26:37.493Z"
   },
   {
    "duration": 3,
    "start_time": "2022-12-17T14:26:37.976Z"
   },
   {
    "duration": 1731,
    "start_time": "2022-12-17T14:26:37.981Z"
   },
   {
    "duration": 170,
    "start_time": "2022-12-17T14:26:39.714Z"
   },
   {
    "duration": 20,
    "start_time": "2022-12-17T14:26:39.888Z"
   },
   {
    "duration": 4101,
    "start_time": "2022-12-17T14:26:39.911Z"
   },
   {
    "duration": 571,
    "start_time": "2022-12-17T14:26:44.013Z"
   },
   {
    "duration": 504,
    "start_time": "2022-12-17T14:26:44.586Z"
   },
   {
    "duration": 589,
    "start_time": "2022-12-17T14:26:45.091Z"
   },
   {
    "duration": 394,
    "start_time": "2022-12-17T14:26:45.682Z"
   },
   {
    "duration": 3,
    "start_time": "2022-12-17T14:26:46.077Z"
   },
   {
    "duration": 581,
    "start_time": "2022-12-17T14:26:46.081Z"
   },
   {
    "duration": 327,
    "start_time": "2022-12-17T14:26:46.663Z"
   },
   {
    "duration": 86,
    "start_time": "2022-12-17T14:26:46.991Z"
   },
   {
    "duration": 16,
    "start_time": "2022-12-17T14:26:47.079Z"
   },
   {
    "duration": 327,
    "start_time": "2022-12-17T14:26:47.097Z"
   },
   {
    "duration": 43,
    "start_time": "2022-12-17T14:26:47.425Z"
   },
   {
    "duration": 268,
    "start_time": "2022-12-17T14:26:47.469Z"
   },
   {
    "duration": 513,
    "start_time": "2022-12-17T14:26:47.740Z"
   },
   {
    "duration": 171,
    "start_time": "2022-12-17T14:26:48.255Z"
   },
   {
    "duration": 662,
    "start_time": "2022-12-17T14:26:48.428Z"
   },
   {
    "duration": 206,
    "start_time": "2022-12-17T14:26:49.092Z"
   },
   {
    "duration": 544,
    "start_time": "2022-12-17T14:26:49.302Z"
   },
   {
    "duration": 107,
    "start_time": "2022-12-17T14:26:49.853Z"
   },
   {
    "duration": 0,
    "start_time": "2022-12-17T14:26:49.961Z"
   },
   {
    "duration": 0,
    "start_time": "2022-12-17T14:26:49.963Z"
   },
   {
    "duration": 0,
    "start_time": "2022-12-17T14:26:49.964Z"
   },
   {
    "duration": 1,
    "start_time": "2022-12-17T14:26:49.968Z"
   },
   {
    "duration": 0,
    "start_time": "2022-12-17T14:26:49.969Z"
   },
   {
    "duration": 0,
    "start_time": "2022-12-17T14:26:49.971Z"
   },
   {
    "duration": 0,
    "start_time": "2022-12-17T14:26:49.972Z"
   },
   {
    "duration": 0,
    "start_time": "2022-12-17T14:26:49.973Z"
   },
   {
    "duration": 0,
    "start_time": "2022-12-17T14:26:49.974Z"
   },
   {
    "duration": 0,
    "start_time": "2022-12-17T14:26:49.975Z"
   },
   {
    "duration": 0,
    "start_time": "2022-12-17T14:26:49.976Z"
   },
   {
    "duration": 0,
    "start_time": "2022-12-17T14:26:49.977Z"
   },
   {
    "duration": 0,
    "start_time": "2022-12-17T14:26:49.978Z"
   },
   {
    "duration": 4,
    "start_time": "2022-12-17T14:27:09.586Z"
   },
   {
    "duration": 16,
    "start_time": "2022-12-17T14:27:09.592Z"
   },
   {
    "duration": 11,
    "start_time": "2022-12-17T14:27:09.610Z"
   },
   {
    "duration": 204,
    "start_time": "2022-12-17T14:27:09.623Z"
   },
   {
    "duration": 103,
    "start_time": "2022-12-17T14:27:09.829Z"
   },
   {
    "duration": 247,
    "start_time": "2022-12-17T14:27:09.934Z"
   },
   {
    "duration": 302,
    "start_time": "2022-12-17T14:27:10.183Z"
   },
   {
    "duration": 2,
    "start_time": "2022-12-17T14:27:10.487Z"
   },
   {
    "duration": 1325,
    "start_time": "2022-12-17T14:27:10.490Z"
   },
   {
    "duration": 160,
    "start_time": "2022-12-17T14:27:11.816Z"
   },
   {
    "duration": 18,
    "start_time": "2022-12-17T14:27:11.981Z"
   },
   {
    "duration": 3890,
    "start_time": "2022-12-17T14:27:12.001Z"
   },
   {
    "duration": 529,
    "start_time": "2022-12-17T14:27:15.893Z"
   },
   {
    "duration": 540,
    "start_time": "2022-12-17T14:27:16.423Z"
   },
   {
    "duration": 420,
    "start_time": "2022-12-17T14:27:16.964Z"
   },
   {
    "duration": 208,
    "start_time": "2022-12-17T14:27:17.386Z"
   },
   {
    "duration": 3,
    "start_time": "2022-12-17T14:27:17.596Z"
   },
   {
    "duration": 309,
    "start_time": "2022-12-17T14:27:17.600Z"
   },
   {
    "duration": 269,
    "start_time": "2022-12-17T14:27:17.911Z"
   },
   {
    "duration": 81,
    "start_time": "2022-12-17T14:27:18.182Z"
   },
   {
    "duration": 16,
    "start_time": "2022-12-17T14:27:18.264Z"
   },
   {
    "duration": 286,
    "start_time": "2022-12-17T14:27:18.282Z"
   },
   {
    "duration": 17,
    "start_time": "2022-12-17T14:27:18.570Z"
   },
   {
    "duration": 226,
    "start_time": "2022-12-17T14:27:18.589Z"
   },
   {
    "duration": 413,
    "start_time": "2022-12-17T14:27:18.817Z"
   },
   {
    "duration": 163,
    "start_time": "2022-12-17T14:27:19.232Z"
   },
   {
    "duration": 669,
    "start_time": "2022-12-17T14:27:19.397Z"
   },
   {
    "duration": 308,
    "start_time": "2022-12-17T14:27:20.068Z"
   },
   {
    "duration": 545,
    "start_time": "2022-12-17T14:27:20.379Z"
   },
   {
    "duration": 106,
    "start_time": "2022-12-17T14:27:20.925Z"
   },
   {
    "duration": 0,
    "start_time": "2022-12-17T14:27:21.032Z"
   },
   {
    "duration": 0,
    "start_time": "2022-12-17T14:27:21.034Z"
   },
   {
    "duration": 0,
    "start_time": "2022-12-17T14:27:21.034Z"
   },
   {
    "duration": 0,
    "start_time": "2022-12-17T14:27:21.040Z"
   },
   {
    "duration": 0,
    "start_time": "2022-12-17T14:27:21.041Z"
   },
   {
    "duration": 0,
    "start_time": "2022-12-17T14:27:21.042Z"
   },
   {
    "duration": 0,
    "start_time": "2022-12-17T14:27:21.044Z"
   },
   {
    "duration": 0,
    "start_time": "2022-12-17T14:27:21.045Z"
   },
   {
    "duration": 0,
    "start_time": "2022-12-17T14:27:21.046Z"
   },
   {
    "duration": 0,
    "start_time": "2022-12-17T14:27:21.048Z"
   },
   {
    "duration": 0,
    "start_time": "2022-12-17T14:27:21.049Z"
   },
   {
    "duration": 0,
    "start_time": "2022-12-17T14:27:21.051Z"
   },
   {
    "duration": 0,
    "start_time": "2022-12-17T14:27:21.052Z"
   },
   {
    "duration": 102,
    "start_time": "2022-12-17T14:31:02.637Z"
   },
   {
    "duration": 17,
    "start_time": "2022-12-17T14:31:37.137Z"
   },
   {
    "duration": 4,
    "start_time": "2022-12-17T14:33:10.084Z"
   },
   {
    "duration": 29,
    "start_time": "2022-12-17T14:33:10.090Z"
   },
   {
    "duration": 9,
    "start_time": "2022-12-17T14:33:10.122Z"
   },
   {
    "duration": 198,
    "start_time": "2022-12-17T14:33:10.133Z"
   },
   {
    "duration": 45,
    "start_time": "2022-12-17T14:33:10.333Z"
   },
   {
    "duration": 274,
    "start_time": "2022-12-17T14:33:10.379Z"
   },
   {
    "duration": 302,
    "start_time": "2022-12-17T14:33:10.655Z"
   },
   {
    "duration": 2,
    "start_time": "2022-12-17T14:33:10.959Z"
   },
   {
    "duration": 1442,
    "start_time": "2022-12-17T14:33:10.963Z"
   },
   {
    "duration": 157,
    "start_time": "2022-12-17T14:33:12.408Z"
   },
   {
    "duration": 29,
    "start_time": "2022-12-17T14:33:12.568Z"
   },
   {
    "duration": 3797,
    "start_time": "2022-12-17T14:33:12.599Z"
   },
   {
    "duration": 524,
    "start_time": "2022-12-17T14:33:16.397Z"
   },
   {
    "duration": 740,
    "start_time": "2022-12-17T14:33:16.923Z"
   },
   {
    "duration": 393,
    "start_time": "2022-12-17T14:33:17.665Z"
   },
   {
    "duration": 157,
    "start_time": "2022-12-17T14:33:18.060Z"
   },
   {
    "duration": 3,
    "start_time": "2022-12-17T14:33:18.219Z"
   },
   {
    "duration": 313,
    "start_time": "2022-12-17T14:33:18.224Z"
   },
   {
    "duration": 207,
    "start_time": "2022-12-17T14:33:18.553Z"
   },
   {
    "duration": 23,
    "start_time": "2022-12-17T14:33:18.762Z"
   },
   {
    "duration": 14,
    "start_time": "2022-12-17T14:33:18.787Z"
   },
   {
    "duration": 218,
    "start_time": "2022-12-17T14:33:18.802Z"
   },
   {
    "duration": 38,
    "start_time": "2022-12-17T14:33:19.022Z"
   },
   {
    "duration": 179,
    "start_time": "2022-12-17T14:33:19.062Z"
   },
   {
    "duration": 434,
    "start_time": "2022-12-17T14:33:19.243Z"
   },
   {
    "duration": 294,
    "start_time": "2022-12-17T14:33:19.679Z"
   },
   {
    "duration": 694,
    "start_time": "2022-12-17T14:33:19.975Z"
   },
   {
    "duration": 172,
    "start_time": "2022-12-17T14:33:20.670Z"
   },
   {
    "duration": 479,
    "start_time": "2022-12-17T14:33:20.846Z"
   },
   {
    "duration": 27,
    "start_time": "2022-12-17T14:33:21.326Z"
   },
   {
    "duration": 207,
    "start_time": "2022-12-17T14:33:21.355Z"
   },
   {
    "duration": 6,
    "start_time": "2022-12-17T14:33:21.563Z"
   },
   {
    "duration": 202,
    "start_time": "2022-12-17T14:33:21.571Z"
   },
   {
    "duration": 1204,
    "start_time": "2022-12-17T14:33:21.775Z"
   },
   {
    "duration": 380,
    "start_time": "2022-12-17T14:33:22.981Z"
   },
   {
    "duration": 335,
    "start_time": "2022-12-17T14:33:23.362Z"
   },
   {
    "duration": 56,
    "start_time": "2022-12-17T14:33:23.698Z"
   },
   {
    "duration": 193,
    "start_time": "2022-12-17T14:33:23.756Z"
   },
   {
    "duration": 538,
    "start_time": "2022-12-17T14:33:23.951Z"
   },
   {
    "duration": 716,
    "start_time": "2022-12-17T14:33:24.491Z"
   },
   {
    "duration": 98,
    "start_time": "2022-12-17T14:33:25.209Z"
   },
   {
    "duration": 145,
    "start_time": "2022-12-17T14:33:25.309Z"
   },
   {
    "duration": 198,
    "start_time": "2022-12-17T14:33:25.456Z"
   },
   {
    "duration": 170,
    "start_time": "2022-12-17T14:35:13.932Z"
   },
   {
    "duration": 261,
    "start_time": "2022-12-17T14:38:29.199Z"
   },
   {
    "duration": 4,
    "start_time": "2022-12-17T14:38:39.309Z"
   },
   {
    "duration": 9,
    "start_time": "2022-12-17T14:38:39.314Z"
   },
   {
    "duration": 8,
    "start_time": "2022-12-17T14:38:39.325Z"
   },
   {
    "duration": 192,
    "start_time": "2022-12-17T14:38:39.335Z"
   },
   {
    "duration": 62,
    "start_time": "2022-12-17T14:38:39.530Z"
   },
   {
    "duration": 278,
    "start_time": "2022-12-17T14:38:39.594Z"
   },
   {
    "duration": 288,
    "start_time": "2022-12-17T14:38:39.874Z"
   },
   {
    "duration": 2,
    "start_time": "2022-12-17T14:38:40.164Z"
   },
   {
    "duration": 1746,
    "start_time": "2022-12-17T14:38:40.167Z"
   },
   {
    "duration": 138,
    "start_time": "2022-12-17T14:38:41.915Z"
   },
   {
    "duration": 16,
    "start_time": "2022-12-17T14:38:42.056Z"
   },
   {
    "duration": 3733,
    "start_time": "2022-12-17T14:38:42.074Z"
   },
   {
    "duration": 516,
    "start_time": "2022-12-17T14:38:45.809Z"
   },
   {
    "duration": 456,
    "start_time": "2022-12-17T14:38:46.327Z"
   },
   {
    "duration": 420,
    "start_time": "2022-12-17T14:38:46.853Z"
   },
   {
    "duration": 172,
    "start_time": "2022-12-17T14:38:47.274Z"
   },
   {
    "duration": 3,
    "start_time": "2022-12-17T14:38:47.451Z"
   },
   {
    "duration": 290,
    "start_time": "2022-12-17T14:38:47.456Z"
   },
   {
    "duration": 208,
    "start_time": "2022-12-17T14:38:47.747Z"
   },
   {
    "duration": 25,
    "start_time": "2022-12-17T14:38:47.957Z"
   },
   {
    "duration": 15,
    "start_time": "2022-12-17T14:38:47.984Z"
   },
   {
    "duration": 270,
    "start_time": "2022-12-17T14:38:48.001Z"
   },
   {
    "duration": 15,
    "start_time": "2022-12-17T14:38:48.273Z"
   },
   {
    "duration": 170,
    "start_time": "2022-12-17T14:38:48.290Z"
   },
   {
    "duration": 445,
    "start_time": "2022-12-17T14:38:48.461Z"
   },
   {
    "duration": 168,
    "start_time": "2022-12-17T14:38:48.907Z"
   },
   {
    "duration": 715,
    "start_time": "2022-12-17T14:38:49.077Z"
   },
   {
    "duration": 248,
    "start_time": "2022-12-17T14:38:49.793Z"
   },
   {
    "duration": 485,
    "start_time": "2022-12-17T14:38:50.044Z"
   },
   {
    "duration": 193,
    "start_time": "2022-12-17T14:38:50.531Z"
   },
   {
    "duration": 182,
    "start_time": "2022-12-17T14:38:50.726Z"
   },
   {
    "duration": 7,
    "start_time": "2022-12-17T14:38:50.909Z"
   },
   {
    "duration": 149,
    "start_time": "2022-12-17T14:38:50.917Z"
   },
   {
    "duration": 608,
    "start_time": "2022-12-17T14:38:51.068Z"
   },
   {
    "duration": 348,
    "start_time": "2022-12-17T14:38:51.677Z"
   },
   {
    "duration": 364,
    "start_time": "2022-12-17T14:38:52.026Z"
   },
   {
    "duration": 62,
    "start_time": "2022-12-17T14:38:52.392Z"
   },
   {
    "duration": 224,
    "start_time": "2022-12-17T14:38:52.457Z"
   },
   {
    "duration": 516,
    "start_time": "2022-12-17T14:38:52.683Z"
   },
   {
    "duration": 737,
    "start_time": "2022-12-17T14:38:53.200Z"
   },
   {
    "duration": 92,
    "start_time": "2022-12-17T14:38:53.939Z"
   },
   {
    "duration": 160,
    "start_time": "2022-12-17T14:38:54.032Z"
   },
   {
    "duration": 209,
    "start_time": "2022-12-17T14:38:54.194Z"
   },
   {
    "duration": 7,
    "start_time": "2022-12-17T14:40:18.629Z"
   },
   {
    "duration": 217,
    "start_time": "2022-12-17T14:41:00.717Z"
   },
   {
    "duration": 148,
    "start_time": "2022-12-17T14:41:55.691Z"
   },
   {
    "duration": 200,
    "start_time": "2022-12-17T14:43:18.128Z"
   },
   {
    "duration": 309,
    "start_time": "2022-12-17T14:43:49.689Z"
   },
   {
    "duration": 325,
    "start_time": "2022-12-17T14:44:36.699Z"
   },
   {
    "duration": 640,
    "start_time": "2022-12-17T14:45:41.162Z"
   },
   {
    "duration": 8,
    "start_time": "2022-12-17T14:48:00.797Z"
   },
   {
    "duration": 8,
    "start_time": "2022-12-17T14:48:13.331Z"
   },
   {
    "duration": 219,
    "start_time": "2022-12-17T14:48:14.793Z"
   },
   {
    "duration": 149,
    "start_time": "2022-12-17T14:48:39.314Z"
   },
   {
    "duration": 336,
    "start_time": "2022-12-17T14:49:25.512Z"
   },
   {
    "duration": 855,
    "start_time": "2022-12-17T14:49:48.398Z"
   },
   {
    "duration": 527,
    "start_time": "2022-12-17T14:50:05.733Z"
   },
   {
    "duration": 5,
    "start_time": "2022-12-17T14:50:11.052Z"
   },
   {
    "duration": 16,
    "start_time": "2022-12-17T14:50:11.066Z"
   },
   {
    "duration": 18,
    "start_time": "2022-12-17T14:50:11.084Z"
   },
   {
    "duration": 204,
    "start_time": "2022-12-17T14:50:11.104Z"
   },
   {
    "duration": 62,
    "start_time": "2022-12-17T14:50:11.309Z"
   },
   {
    "duration": 207,
    "start_time": "2022-12-17T14:50:11.373Z"
   },
   {
    "duration": 298,
    "start_time": "2022-12-17T14:50:11.582Z"
   },
   {
    "duration": 3,
    "start_time": "2022-12-17T14:50:11.881Z"
   },
   {
    "duration": 1308,
    "start_time": "2022-12-17T14:50:11.886Z"
   },
   {
    "duration": 163,
    "start_time": "2022-12-17T14:50:13.196Z"
   },
   {
    "duration": 20,
    "start_time": "2022-12-17T14:50:13.362Z"
   },
   {
    "duration": 4049,
    "start_time": "2022-12-17T14:50:13.384Z"
   },
   {
    "duration": 588,
    "start_time": "2022-12-17T14:50:17.435Z"
   },
   {
    "duration": 469,
    "start_time": "2022-12-17T14:50:18.025Z"
   },
   {
    "duration": 385,
    "start_time": "2022-12-17T14:50:18.497Z"
   },
   {
    "duration": 206,
    "start_time": "2022-12-17T14:50:18.883Z"
   },
   {
    "duration": 3,
    "start_time": "2022-12-17T14:50:19.091Z"
   },
   {
    "duration": 331,
    "start_time": "2022-12-17T14:50:19.096Z"
   },
   {
    "duration": 193,
    "start_time": "2022-12-17T14:50:19.429Z"
   },
   {
    "duration": 55,
    "start_time": "2022-12-17T14:50:19.624Z"
   },
   {
    "duration": 16,
    "start_time": "2022-12-17T14:50:19.681Z"
   },
   {
    "duration": 290,
    "start_time": "2022-12-17T14:50:19.699Z"
   },
   {
    "duration": 13,
    "start_time": "2022-12-17T14:50:19.991Z"
   },
   {
    "duration": 180,
    "start_time": "2022-12-17T14:50:20.006Z"
   },
   {
    "duration": 464,
    "start_time": "2022-12-17T14:50:20.188Z"
   },
   {
    "duration": 147,
    "start_time": "2022-12-17T14:50:20.654Z"
   },
   {
    "duration": 737,
    "start_time": "2022-12-17T14:50:20.803Z"
   },
   {
    "duration": 156,
    "start_time": "2022-12-17T14:50:21.542Z"
   },
   {
    "duration": 519,
    "start_time": "2022-12-17T14:50:21.700Z"
   },
   {
    "duration": 6,
    "start_time": "2022-12-17T14:50:22.220Z"
   },
   {
    "duration": 231,
    "start_time": "2022-12-17T14:50:22.228Z"
   },
   {
    "duration": 180,
    "start_time": "2022-12-17T14:50:22.461Z"
   },
   {
    "duration": 352,
    "start_time": "2022-12-17T14:50:22.643Z"
   },
   {
    "duration": 685,
    "start_time": "2022-12-17T14:50:22.997Z"
   },
   {
    "duration": 160,
    "start_time": "2022-12-17T14:50:23.683Z"
   },
   {
    "duration": 7,
    "start_time": "2022-12-17T14:50:23.844Z"
   },
   {
    "duration": 152,
    "start_time": "2022-12-17T14:50:23.853Z"
   },
   {
    "duration": 735,
    "start_time": "2022-12-17T14:50:24.007Z"
   },
   {
    "duration": 324,
    "start_time": "2022-12-17T14:50:24.743Z"
   },
   {
    "duration": 344,
    "start_time": "2022-12-17T14:50:25.068Z"
   },
   {
    "duration": 15,
    "start_time": "2022-12-17T14:50:25.414Z"
   },
   {
    "duration": 152,
    "start_time": "2022-12-17T14:50:25.452Z"
   },
   {
    "duration": 564,
    "start_time": "2022-12-17T14:50:25.606Z"
   },
   {
    "duration": 1133,
    "start_time": "2022-12-17T14:50:26.171Z"
   },
   {
    "duration": 84,
    "start_time": "2022-12-17T14:50:27.306Z"
   },
   {
    "duration": 108,
    "start_time": "2022-12-17T14:50:27.392Z"
   },
   {
    "duration": 207,
    "start_time": "2022-12-17T14:50:27.502Z"
   },
   {
    "duration": 490,
    "start_time": "2022-12-17T14:54:05.415Z"
   },
   {
    "duration": 876,
    "start_time": "2022-12-17T14:55:10.177Z"
   },
   {
    "duration": 4,
    "start_time": "2022-12-17T14:55:19.048Z"
   },
   {
    "duration": 7,
    "start_time": "2022-12-17T14:55:19.054Z"
   },
   {
    "duration": 5,
    "start_time": "2022-12-17T14:55:19.065Z"
   },
   {
    "duration": 210,
    "start_time": "2022-12-17T14:55:19.072Z"
   },
   {
    "duration": 68,
    "start_time": "2022-12-17T14:55:19.284Z"
   },
   {
    "duration": 195,
    "start_time": "2022-12-17T14:55:19.354Z"
   },
   {
    "duration": 422,
    "start_time": "2022-12-17T14:55:19.555Z"
   },
   {
    "duration": 3,
    "start_time": "2022-12-17T14:55:19.979Z"
   },
   {
    "duration": 1418,
    "start_time": "2022-12-17T14:55:19.984Z"
   },
   {
    "duration": 134,
    "start_time": "2022-12-17T14:55:21.404Z"
   },
   {
    "duration": 26,
    "start_time": "2022-12-17T14:55:21.540Z"
   },
   {
    "duration": 3794,
    "start_time": "2022-12-17T14:55:21.567Z"
   },
   {
    "duration": 522,
    "start_time": "2022-12-17T14:55:25.362Z"
   },
   {
    "duration": 472,
    "start_time": "2022-12-17T14:55:25.886Z"
   },
   {
    "duration": 410,
    "start_time": "2022-12-17T14:55:26.360Z"
   },
   {
    "duration": 167,
    "start_time": "2022-12-17T14:55:26.773Z"
   },
   {
    "duration": 3,
    "start_time": "2022-12-17T14:55:26.942Z"
   },
   {
    "duration": 305,
    "start_time": "2022-12-17T14:55:26.951Z"
   },
   {
    "duration": 170,
    "start_time": "2022-12-17T14:55:27.258Z"
   },
   {
    "duration": 41,
    "start_time": "2022-12-17T14:55:27.430Z"
   },
   {
    "duration": 16,
    "start_time": "2022-12-17T14:55:27.473Z"
   },
   {
    "duration": 283,
    "start_time": "2022-12-17T14:55:27.490Z"
   },
   {
    "duration": 25,
    "start_time": "2022-12-17T14:55:27.775Z"
   },
   {
    "duration": 168,
    "start_time": "2022-12-17T14:55:27.802Z"
   },
   {
    "duration": 592,
    "start_time": "2022-12-17T14:55:27.972Z"
   },
   {
    "duration": 174,
    "start_time": "2022-12-17T14:55:28.566Z"
   },
   {
    "duration": 630,
    "start_time": "2022-12-17T14:55:28.742Z"
   },
   {
    "duration": 176,
    "start_time": "2022-12-17T14:55:29.373Z"
   },
   {
    "duration": 543,
    "start_time": "2022-12-17T14:55:29.551Z"
   },
   {
    "duration": 6,
    "start_time": "2022-12-17T14:55:30.096Z"
   },
   {
    "duration": 232,
    "start_time": "2022-12-17T14:55:30.104Z"
   },
   {
    "duration": 153,
    "start_time": "2022-12-17T14:55:30.338Z"
   },
   {
    "duration": 348,
    "start_time": "2022-12-17T14:55:30.492Z"
   },
   {
    "duration": 655,
    "start_time": "2022-12-17T14:55:30.842Z"
   },
   {
    "duration": 262,
    "start_time": "2022-12-17T14:55:31.499Z"
   },
   {
    "duration": 591,
    "start_time": "2022-12-17T14:55:31.763Z"
   },
   {
    "duration": 5,
    "start_time": "2022-12-17T14:55:32.356Z"
   },
   {
    "duration": 180,
    "start_time": "2022-12-17T14:55:32.363Z"
   },
   {
    "duration": 612,
    "start_time": "2022-12-17T14:55:32.546Z"
   },
   {
    "duration": 356,
    "start_time": "2022-12-17T14:55:33.160Z"
   },
   {
    "duration": 388,
    "start_time": "2022-12-17T14:55:33.518Z"
   },
   {
    "duration": 16,
    "start_time": "2022-12-17T14:55:33.908Z"
   },
   {
    "duration": 135,
    "start_time": "2022-12-17T14:55:33.951Z"
   },
   {
    "duration": 526,
    "start_time": "2022-12-17T14:55:34.088Z"
   },
   {
    "duration": 760,
    "start_time": "2022-12-17T14:55:34.616Z"
   },
   {
    "duration": 90,
    "start_time": "2022-12-17T14:55:35.377Z"
   },
   {
    "duration": 108,
    "start_time": "2022-12-17T14:55:35.468Z"
   },
   {
    "duration": 476,
    "start_time": "2022-12-17T14:55:35.578Z"
   },
   {
    "duration": 4,
    "start_time": "2022-12-17T14:56:51.412Z"
   },
   {
    "duration": 9,
    "start_time": "2022-12-17T14:56:51.418Z"
   },
   {
    "duration": 6,
    "start_time": "2022-12-17T14:56:51.429Z"
   },
   {
    "duration": 218,
    "start_time": "2022-12-17T14:56:51.436Z"
   },
   {
    "duration": 43,
    "start_time": "2022-12-17T14:56:51.656Z"
   },
   {
    "duration": 209,
    "start_time": "2022-12-17T14:56:51.700Z"
   },
   {
    "duration": 345,
    "start_time": "2022-12-17T14:56:51.911Z"
   },
   {
    "duration": 3,
    "start_time": "2022-12-17T14:56:52.259Z"
   },
   {
    "duration": 1633,
    "start_time": "2022-12-17T14:56:52.263Z"
   },
   {
    "duration": 161,
    "start_time": "2022-12-17T14:56:53.898Z"
   },
   {
    "duration": 30,
    "start_time": "2022-12-17T14:56:54.062Z"
   },
   {
    "duration": 3939,
    "start_time": "2022-12-17T14:56:54.093Z"
   },
   {
    "duration": 543,
    "start_time": "2022-12-17T14:56:58.034Z"
   },
   {
    "duration": 430,
    "start_time": "2022-12-17T14:56:58.579Z"
   },
   {
    "duration": 402,
    "start_time": "2022-12-17T14:56:59.053Z"
   },
   {
    "duration": 160,
    "start_time": "2022-12-17T14:56:59.456Z"
   },
   {
    "duration": 2,
    "start_time": "2022-12-17T14:56:59.618Z"
   },
   {
    "duration": 336,
    "start_time": "2022-12-17T14:56:59.622Z"
   },
   {
    "duration": 213,
    "start_time": "2022-12-17T14:56:59.959Z"
   },
   {
    "duration": 24,
    "start_time": "2022-12-17T14:57:00.173Z"
   },
   {
    "duration": 22,
    "start_time": "2022-12-17T14:57:00.199Z"
   },
   {
    "duration": 239,
    "start_time": "2022-12-17T14:57:00.223Z"
   },
   {
    "duration": 16,
    "start_time": "2022-12-17T14:57:00.463Z"
   },
   {
    "duration": 171,
    "start_time": "2022-12-17T14:57:00.480Z"
   },
   {
    "duration": 460,
    "start_time": "2022-12-17T14:57:00.653Z"
   },
   {
    "duration": 187,
    "start_time": "2022-12-17T14:57:01.114Z"
   },
   {
    "duration": 697,
    "start_time": "2022-12-17T14:57:01.302Z"
   },
   {
    "duration": 168,
    "start_time": "2022-12-17T14:57:02.000Z"
   },
   {
    "duration": 530,
    "start_time": "2022-12-17T14:57:02.173Z"
   },
   {
    "duration": 7,
    "start_time": "2022-12-17T14:57:02.705Z"
   },
   {
    "duration": 203,
    "start_time": "2022-12-17T14:57:02.714Z"
   },
   {
    "duration": 179,
    "start_time": "2022-12-17T14:57:02.919Z"
   },
   {
    "duration": 302,
    "start_time": "2022-12-17T14:57:03.099Z"
   },
   {
    "duration": 879,
    "start_time": "2022-12-17T14:57:03.402Z"
   },
   {
    "duration": 197,
    "start_time": "2022-12-17T14:57:04.283Z"
   },
   {
    "duration": 541,
    "start_time": "2022-12-17T14:57:04.481Z"
   },
   {
    "duration": 7,
    "start_time": "2022-12-17T14:57:05.023Z"
   },
   {
    "duration": 213,
    "start_time": "2022-12-17T14:57:05.031Z"
   },
   {
    "duration": 717,
    "start_time": "2022-12-17T14:57:05.246Z"
   },
   {
    "duration": 631,
    "start_time": "2022-12-17T14:57:05.964Z"
   },
   {
    "duration": 342,
    "start_time": "2022-12-17T14:57:06.597Z"
   },
   {
    "duration": 14,
    "start_time": "2022-12-17T14:57:06.940Z"
   },
   {
    "duration": 134,
    "start_time": "2022-12-17T14:57:06.956Z"
   },
   {
    "duration": 498,
    "start_time": "2022-12-17T14:57:07.092Z"
   },
   {
    "duration": 997,
    "start_time": "2022-12-17T14:57:07.592Z"
   },
   {
    "duration": 83,
    "start_time": "2022-12-17T14:57:08.591Z"
   },
   {
    "duration": 127,
    "start_time": "2022-12-17T14:57:08.676Z"
   },
   {
    "duration": 204,
    "start_time": "2022-12-17T14:57:08.804Z"
   },
   {
    "duration": 4,
    "start_time": "2022-12-17T15:01:01.722Z"
   },
   {
    "duration": 25,
    "start_time": "2022-12-17T15:01:01.730Z"
   },
   {
    "duration": 31,
    "start_time": "2022-12-17T15:01:01.756Z"
   },
   {
    "duration": 310,
    "start_time": "2022-12-17T15:01:01.789Z"
   },
   {
    "duration": 85,
    "start_time": "2022-12-17T15:01:02.101Z"
   },
   {
    "duration": 197,
    "start_time": "2022-12-17T15:01:02.188Z"
   },
   {
    "duration": 307,
    "start_time": "2022-12-17T15:01:02.387Z"
   },
   {
    "duration": 3,
    "start_time": "2022-12-17T15:01:02.696Z"
   },
   {
    "duration": 1309,
    "start_time": "2022-12-17T15:01:02.701Z"
   },
   {
    "duration": 143,
    "start_time": "2022-12-17T15:01:04.011Z"
   },
   {
    "duration": 16,
    "start_time": "2022-12-17T15:01:04.158Z"
   },
   {
    "duration": 4391,
    "start_time": "2022-12-17T15:01:04.175Z"
   },
   {
    "duration": 535,
    "start_time": "2022-12-17T15:01:08.567Z"
   },
   {
    "duration": 449,
    "start_time": "2022-12-17T15:01:09.104Z"
   },
   {
    "duration": 341,
    "start_time": "2022-12-17T15:01:09.555Z"
   },
   {
    "duration": 220,
    "start_time": "2022-12-17T15:01:09.898Z"
   },
   {
    "duration": 3,
    "start_time": "2022-12-17T15:01:10.120Z"
   },
   {
    "duration": 287,
    "start_time": "2022-12-17T15:01:10.124Z"
   },
   {
    "duration": 191,
    "start_time": "2022-12-17T15:01:10.413Z"
   },
   {
    "duration": 23,
    "start_time": "2022-12-17T15:01:10.606Z"
   },
   {
    "duration": 33,
    "start_time": "2022-12-17T15:01:10.631Z"
   },
   {
    "duration": 223,
    "start_time": "2022-12-17T15:01:10.666Z"
   },
   {
    "duration": 65,
    "start_time": "2022-12-17T15:01:10.891Z"
   },
   {
    "duration": 155,
    "start_time": "2022-12-17T15:01:10.959Z"
   },
   {
    "duration": 464,
    "start_time": "2022-12-17T15:01:11.116Z"
   },
   {
    "duration": 258,
    "start_time": "2022-12-17T15:01:11.582Z"
   },
   {
    "duration": 655,
    "start_time": "2022-12-17T15:01:11.842Z"
   },
   {
    "duration": 195,
    "start_time": "2022-12-17T15:01:12.499Z"
   },
   {
    "duration": 550,
    "start_time": "2022-12-17T15:01:12.698Z"
   },
   {
    "duration": 6,
    "start_time": "2022-12-17T15:01:13.250Z"
   },
   {
    "duration": 202,
    "start_time": "2022-12-17T15:01:13.258Z"
   },
   {
    "duration": 132,
    "start_time": "2022-12-17T15:01:13.462Z"
   },
   {
    "duration": 299,
    "start_time": "2022-12-17T15:01:13.596Z"
   },
   {
    "duration": 963,
    "start_time": "2022-12-17T15:01:13.897Z"
   },
   {
    "duration": 325,
    "start_time": "2022-12-17T15:01:14.862Z"
   },
   {
    "duration": 676,
    "start_time": "2022-12-17T15:01:15.188Z"
   },
   {
    "duration": 6,
    "start_time": "2022-12-17T15:01:15.866Z"
   },
   {
    "duration": 169,
    "start_time": "2022-12-17T15:01:15.873Z"
   },
   {
    "duration": 652,
    "start_time": "2022-12-17T15:01:16.044Z"
   },
   {
    "duration": 342,
    "start_time": "2022-12-17T15:01:16.697Z"
   },
   {
    "duration": 310,
    "start_time": "2022-12-17T15:01:17.041Z"
   },
   {
    "duration": 15,
    "start_time": "2022-12-17T15:01:17.353Z"
   },
   {
    "duration": 162,
    "start_time": "2022-12-17T15:01:17.369Z"
   },
   {
    "duration": 819,
    "start_time": "2022-12-17T15:01:17.532Z"
   },
   {
    "duration": 786,
    "start_time": "2022-12-17T15:01:18.352Z"
   },
   {
    "duration": 89,
    "start_time": "2022-12-17T15:01:19.139Z"
   },
   {
    "duration": 160,
    "start_time": "2022-12-17T15:01:19.229Z"
   },
   {
    "duration": 199,
    "start_time": "2022-12-17T15:01:19.390Z"
   },
   {
    "duration": 6,
    "start_time": "2022-12-17T15:07:16.431Z"
   },
   {
    "duration": 272,
    "start_time": "2022-12-17T15:07:42.590Z"
   },
   {
    "duration": 11,
    "start_time": "2022-12-17T15:07:57.608Z"
   },
   {
    "duration": 14,
    "start_time": "2022-12-17T15:08:33.552Z"
   },
   {
    "duration": 18,
    "start_time": "2022-12-17T15:26:04.202Z"
   },
   {
    "duration": 129,
    "start_time": "2022-12-17T15:27:00.431Z"
   },
   {
    "duration": 4,
    "start_time": "2022-12-17T15:27:04.079Z"
   },
   {
    "duration": 12,
    "start_time": "2022-12-17T15:27:04.085Z"
   },
   {
    "duration": 9,
    "start_time": "2022-12-17T15:27:04.099Z"
   },
   {
    "duration": 266,
    "start_time": "2022-12-17T15:27:04.110Z"
   },
   {
    "duration": 75,
    "start_time": "2022-12-17T15:27:04.378Z"
   },
   {
    "duration": 202,
    "start_time": "2022-12-17T15:27:04.455Z"
   },
   {
    "duration": 266,
    "start_time": "2022-12-17T15:27:04.658Z"
   },
   {
    "duration": 2,
    "start_time": "2022-12-17T15:27:04.926Z"
   },
   {
    "duration": 1115,
    "start_time": "2022-12-17T15:27:04.930Z"
   },
   {
    "duration": 115,
    "start_time": "2022-12-17T15:27:06.046Z"
   },
   {
    "duration": 16,
    "start_time": "2022-12-17T15:27:06.163Z"
   },
   {
    "duration": 3696,
    "start_time": "2022-12-17T15:27:06.182Z"
   },
   {
    "duration": 576,
    "start_time": "2022-12-17T15:27:09.880Z"
   },
   {
    "duration": 583,
    "start_time": "2022-12-17T15:27:10.458Z"
   },
   {
    "duration": 332,
    "start_time": "2022-12-17T15:27:11.043Z"
   },
   {
    "duration": 176,
    "start_time": "2022-12-17T15:27:11.377Z"
   },
   {
    "duration": 4,
    "start_time": "2022-12-17T15:27:11.555Z"
   },
   {
    "duration": 290,
    "start_time": "2022-12-17T15:27:11.560Z"
   },
   {
    "duration": 317,
    "start_time": "2022-12-17T15:27:11.851Z"
   },
   {
    "duration": 89,
    "start_time": "2022-12-17T15:27:12.170Z"
   },
   {
    "duration": 14,
    "start_time": "2022-12-17T15:27:12.261Z"
   },
   {
    "duration": 411,
    "start_time": "2022-12-17T15:27:12.277Z"
   },
   {
    "duration": 72,
    "start_time": "2022-12-17T15:27:12.689Z"
   },
   {
    "duration": 305,
    "start_time": "2022-12-17T15:27:12.762Z"
   },
   {
    "duration": 491,
    "start_time": "2022-12-17T15:27:13.069Z"
   },
   {
    "duration": 147,
    "start_time": "2022-12-17T15:27:13.561Z"
   },
   {
    "duration": 609,
    "start_time": "2022-12-17T15:27:13.709Z"
   },
   {
    "duration": 166,
    "start_time": "2022-12-17T15:27:14.320Z"
   },
   {
    "duration": 496,
    "start_time": "2022-12-17T15:27:14.487Z"
   },
   {
    "duration": 7,
    "start_time": "2022-12-17T15:27:14.989Z"
   },
   {
    "duration": 372,
    "start_time": "2022-12-17T15:27:14.997Z"
   },
   {
    "duration": 13,
    "start_time": "2022-12-17T15:27:15.371Z"
   },
   {
    "duration": 110,
    "start_time": "2022-12-17T15:27:15.386Z"
   },
   {
    "duration": 0,
    "start_time": "2022-12-17T15:27:15.498Z"
   },
   {
    "duration": 0,
    "start_time": "2022-12-17T15:27:15.499Z"
   },
   {
    "duration": 0,
    "start_time": "2022-12-17T15:27:15.500Z"
   },
   {
    "duration": 0,
    "start_time": "2022-12-17T15:27:15.501Z"
   },
   {
    "duration": 0,
    "start_time": "2022-12-17T15:27:15.502Z"
   },
   {
    "duration": 0,
    "start_time": "2022-12-17T15:27:15.503Z"
   },
   {
    "duration": 0,
    "start_time": "2022-12-17T15:27:15.504Z"
   },
   {
    "duration": 1,
    "start_time": "2022-12-17T15:27:15.505Z"
   },
   {
    "duration": 0,
    "start_time": "2022-12-17T15:27:15.506Z"
   },
   {
    "duration": 0,
    "start_time": "2022-12-17T15:27:15.507Z"
   },
   {
    "duration": 0,
    "start_time": "2022-12-17T15:27:15.508Z"
   },
   {
    "duration": 0,
    "start_time": "2022-12-17T15:27:15.509Z"
   },
   {
    "duration": 0,
    "start_time": "2022-12-17T15:27:15.510Z"
   },
   {
    "duration": 0,
    "start_time": "2022-12-17T15:27:15.511Z"
   },
   {
    "duration": 0,
    "start_time": "2022-12-17T15:27:15.511Z"
   },
   {
    "duration": 0,
    "start_time": "2022-12-17T15:27:15.513Z"
   },
   {
    "duration": 0,
    "start_time": "2022-12-17T15:27:15.514Z"
   },
   {
    "duration": 0,
    "start_time": "2022-12-17T15:27:15.515Z"
   },
   {
    "duration": 0,
    "start_time": "2022-12-17T15:27:15.515Z"
   },
   {
    "duration": 115,
    "start_time": "2022-12-17T15:30:12.856Z"
   },
   {
    "duration": 3,
    "start_time": "2022-12-17T15:30:15.855Z"
   },
   {
    "duration": 3,
    "start_time": "2022-12-17T15:30:15.871Z"
   },
   {
    "duration": 7,
    "start_time": "2022-12-17T15:30:15.875Z"
   },
   {
    "duration": 194,
    "start_time": "2022-12-17T15:30:15.883Z"
   },
   {
    "duration": 81,
    "start_time": "2022-12-17T15:30:16.079Z"
   },
   {
    "duration": 214,
    "start_time": "2022-12-17T15:30:16.165Z"
   },
   {
    "duration": 281,
    "start_time": "2022-12-17T15:30:16.380Z"
   },
   {
    "duration": 2,
    "start_time": "2022-12-17T15:30:16.663Z"
   },
   {
    "duration": 1104,
    "start_time": "2022-12-17T15:30:16.667Z"
   },
   {
    "duration": 122,
    "start_time": "2022-12-17T15:30:17.772Z"
   },
   {
    "duration": 16,
    "start_time": "2022-12-17T15:30:17.896Z"
   },
   {
    "duration": 3788,
    "start_time": "2022-12-17T15:30:17.913Z"
   },
   {
    "duration": 519,
    "start_time": "2022-12-17T15:30:21.703Z"
   },
   {
    "duration": 445,
    "start_time": "2022-12-17T15:30:22.223Z"
   },
   {
    "duration": 406,
    "start_time": "2022-12-17T15:30:22.670Z"
   },
   {
    "duration": 171,
    "start_time": "2022-12-17T15:30:23.077Z"
   },
   {
    "duration": 3,
    "start_time": "2022-12-17T15:30:23.250Z"
   },
   {
    "duration": 332,
    "start_time": "2022-12-17T15:30:23.254Z"
   },
   {
    "duration": 265,
    "start_time": "2022-12-17T15:30:23.588Z"
   },
   {
    "duration": 29,
    "start_time": "2022-12-17T15:30:23.854Z"
   },
   {
    "duration": 13,
    "start_time": "2022-12-17T15:30:23.885Z"
   },
   {
    "duration": 224,
    "start_time": "2022-12-17T15:30:23.899Z"
   },
   {
    "duration": 38,
    "start_time": "2022-12-17T15:30:24.124Z"
   },
   {
    "duration": 151,
    "start_time": "2022-12-17T15:30:24.164Z"
   },
   {
    "duration": 470,
    "start_time": "2022-12-17T15:30:24.317Z"
   },
   {
    "duration": 185,
    "start_time": "2022-12-17T15:30:24.789Z"
   },
   {
    "duration": 633,
    "start_time": "2022-12-17T15:30:24.976Z"
   },
   {
    "duration": 186,
    "start_time": "2022-12-17T15:30:25.611Z"
   },
   {
    "duration": 575,
    "start_time": "2022-12-17T15:30:25.799Z"
   },
   {
    "duration": 6,
    "start_time": "2022-12-17T15:30:26.376Z"
   },
   {
    "duration": 387,
    "start_time": "2022-12-17T15:30:26.384Z"
   },
   {
    "duration": 301,
    "start_time": "2022-12-17T15:30:26.772Z"
   },
   {
    "duration": 11,
    "start_time": "2022-12-17T15:30:27.075Z"
   },
   {
    "duration": 121,
    "start_time": "2022-12-17T15:30:27.087Z"
   },
   {
    "duration": 0,
    "start_time": "2022-12-17T15:30:27.210Z"
   },
   {
    "duration": 0,
    "start_time": "2022-12-17T15:30:27.211Z"
   },
   {
    "duration": 0,
    "start_time": "2022-12-17T15:30:27.212Z"
   },
   {
    "duration": 0,
    "start_time": "2022-12-17T15:30:27.213Z"
   },
   {
    "duration": 0,
    "start_time": "2022-12-17T15:30:27.214Z"
   },
   {
    "duration": 0,
    "start_time": "2022-12-17T15:30:27.216Z"
   },
   {
    "duration": 0,
    "start_time": "2022-12-17T15:30:27.217Z"
   },
   {
    "duration": 0,
    "start_time": "2022-12-17T15:30:27.218Z"
   },
   {
    "duration": 0,
    "start_time": "2022-12-17T15:30:27.221Z"
   },
   {
    "duration": 0,
    "start_time": "2022-12-17T15:30:27.222Z"
   },
   {
    "duration": 0,
    "start_time": "2022-12-17T15:30:27.223Z"
   },
   {
    "duration": 0,
    "start_time": "2022-12-17T15:30:27.224Z"
   },
   {
    "duration": 0,
    "start_time": "2022-12-17T15:30:27.225Z"
   },
   {
    "duration": 0,
    "start_time": "2022-12-17T15:30:27.226Z"
   },
   {
    "duration": 0,
    "start_time": "2022-12-17T15:30:27.227Z"
   },
   {
    "duration": 0,
    "start_time": "2022-12-17T15:30:27.228Z"
   },
   {
    "duration": 0,
    "start_time": "2022-12-17T15:30:27.229Z"
   },
   {
    "duration": 0,
    "start_time": "2022-12-17T15:30:27.230Z"
   },
   {
    "duration": 0,
    "start_time": "2022-12-17T15:30:27.231Z"
   },
   {
    "duration": 4,
    "start_time": "2022-12-17T15:33:23.766Z"
   },
   {
    "duration": 26,
    "start_time": "2022-12-17T15:33:23.772Z"
   },
   {
    "duration": 14,
    "start_time": "2022-12-17T15:33:23.800Z"
   },
   {
    "duration": 208,
    "start_time": "2022-12-17T15:33:23.815Z"
   },
   {
    "duration": 43,
    "start_time": "2022-12-17T15:33:24.026Z"
   },
   {
    "duration": 232,
    "start_time": "2022-12-17T15:33:24.071Z"
   },
   {
    "duration": 265,
    "start_time": "2022-12-17T15:33:24.304Z"
   },
   {
    "duration": 2,
    "start_time": "2022-12-17T15:33:24.571Z"
   },
   {
    "duration": 1183,
    "start_time": "2022-12-17T15:33:24.575Z"
   },
   {
    "duration": 110,
    "start_time": "2022-12-17T15:33:25.759Z"
   },
   {
    "duration": 24,
    "start_time": "2022-12-17T15:33:25.875Z"
   },
   {
    "duration": 3741,
    "start_time": "2022-12-17T15:33:25.901Z"
   },
   {
    "duration": 514,
    "start_time": "2022-12-17T15:33:29.644Z"
   },
   {
    "duration": 749,
    "start_time": "2022-12-17T15:33:30.160Z"
   },
   {
    "duration": 371,
    "start_time": "2022-12-17T15:33:30.911Z"
   },
   {
    "duration": 209,
    "start_time": "2022-12-17T15:33:31.284Z"
   },
   {
    "duration": 4,
    "start_time": "2022-12-17T15:33:31.494Z"
   },
   {
    "duration": 345,
    "start_time": "2022-12-17T15:33:31.499Z"
   },
   {
    "duration": 183,
    "start_time": "2022-12-17T15:33:31.845Z"
   },
   {
    "duration": 24,
    "start_time": "2022-12-17T15:33:32.052Z"
   },
   {
    "duration": 14,
    "start_time": "2022-12-17T15:33:32.078Z"
   },
   {
    "duration": 302,
    "start_time": "2022-12-17T15:33:32.093Z"
   },
   {
    "duration": 19,
    "start_time": "2022-12-17T15:33:32.397Z"
   },
   {
    "duration": 197,
    "start_time": "2022-12-17T15:33:32.418Z"
   },
   {
    "duration": 542,
    "start_time": "2022-12-17T15:33:32.617Z"
   },
   {
    "duration": 136,
    "start_time": "2022-12-17T15:33:33.161Z"
   },
   {
    "duration": 620,
    "start_time": "2022-12-17T15:33:33.298Z"
   },
   {
    "duration": 168,
    "start_time": "2022-12-17T15:33:33.920Z"
   },
   {
    "duration": 505,
    "start_time": "2022-12-17T15:33:34.091Z"
   },
   {
    "duration": 8,
    "start_time": "2022-12-17T15:33:34.598Z"
   },
   {
    "duration": 477,
    "start_time": "2022-12-17T15:33:34.608Z"
   },
   {
    "duration": 368,
    "start_time": "2022-12-17T15:33:35.087Z"
   },
   {
    "duration": 117,
    "start_time": "2022-12-17T15:33:35.457Z"
   },
   {
    "duration": 0,
    "start_time": "2022-12-17T15:33:35.575Z"
   },
   {
    "duration": 0,
    "start_time": "2022-12-17T15:33:35.577Z"
   },
   {
    "duration": 0,
    "start_time": "2022-12-17T15:33:35.578Z"
   },
   {
    "duration": 0,
    "start_time": "2022-12-17T15:33:35.579Z"
   },
   {
    "duration": 0,
    "start_time": "2022-12-17T15:33:35.580Z"
   },
   {
    "duration": 0,
    "start_time": "2022-12-17T15:33:35.581Z"
   },
   {
    "duration": 0,
    "start_time": "2022-12-17T15:33:35.582Z"
   },
   {
    "duration": 0,
    "start_time": "2022-12-17T15:33:35.583Z"
   },
   {
    "duration": 0,
    "start_time": "2022-12-17T15:33:35.583Z"
   },
   {
    "duration": 0,
    "start_time": "2022-12-17T15:33:35.584Z"
   },
   {
    "duration": 0,
    "start_time": "2022-12-17T15:33:35.586Z"
   },
   {
    "duration": 0,
    "start_time": "2022-12-17T15:33:35.587Z"
   },
   {
    "duration": 0,
    "start_time": "2022-12-17T15:33:35.588Z"
   },
   {
    "duration": 0,
    "start_time": "2022-12-17T15:33:35.589Z"
   },
   {
    "duration": 0,
    "start_time": "2022-12-17T15:33:35.591Z"
   },
   {
    "duration": 4,
    "start_time": "2022-12-17T15:34:48.160Z"
   },
   {
    "duration": 9,
    "start_time": "2022-12-17T15:34:48.165Z"
   },
   {
    "duration": 9,
    "start_time": "2022-12-17T15:34:48.176Z"
   },
   {
    "duration": 211,
    "start_time": "2022-12-17T15:34:48.187Z"
   },
   {
    "duration": 65,
    "start_time": "2022-12-17T15:34:48.400Z"
   },
   {
    "duration": 184,
    "start_time": "2022-12-17T15:34:48.467Z"
   },
   {
    "duration": 255,
    "start_time": "2022-12-17T15:34:48.653Z"
   },
   {
    "duration": 2,
    "start_time": "2022-12-17T15:34:48.911Z"
   },
   {
    "duration": 1152,
    "start_time": "2022-12-17T15:34:48.915Z"
   },
   {
    "duration": 116,
    "start_time": "2022-12-17T15:34:50.069Z"
   },
   {
    "duration": 24,
    "start_time": "2022-12-17T15:34:50.188Z"
   },
   {
    "duration": 4024,
    "start_time": "2022-12-17T15:34:50.214Z"
   },
   {
    "duration": 579,
    "start_time": "2022-12-17T15:34:54.240Z"
   },
   {
    "duration": 445,
    "start_time": "2022-12-17T15:34:54.821Z"
   },
   {
    "duration": 395,
    "start_time": "2022-12-17T15:34:55.268Z"
   },
   {
    "duration": 172,
    "start_time": "2022-12-17T15:34:55.665Z"
   },
   {
    "duration": 3,
    "start_time": "2022-12-17T15:34:55.839Z"
   },
   {
    "duration": 284,
    "start_time": "2022-12-17T15:34:55.851Z"
   },
   {
    "duration": 169,
    "start_time": "2022-12-17T15:34:56.137Z"
   },
   {
    "duration": 25,
    "start_time": "2022-12-17T15:34:56.308Z"
   },
   {
    "duration": 30,
    "start_time": "2022-12-17T15:34:56.334Z"
   },
   {
    "duration": 207,
    "start_time": "2022-12-17T15:34:56.366Z"
   },
   {
    "duration": 14,
    "start_time": "2022-12-17T15:34:56.574Z"
   },
   {
    "duration": 247,
    "start_time": "2022-12-17T15:34:56.590Z"
   },
   {
    "duration": 428,
    "start_time": "2022-12-17T15:34:56.838Z"
   },
   {
    "duration": 153,
    "start_time": "2022-12-17T15:34:57.268Z"
   },
   {
    "duration": 608,
    "start_time": "2022-12-17T15:34:57.422Z"
   },
   {
    "duration": 204,
    "start_time": "2022-12-17T15:34:58.032Z"
   },
   {
    "duration": 481,
    "start_time": "2022-12-17T15:34:58.239Z"
   },
   {
    "duration": 7,
    "start_time": "2022-12-17T15:34:58.722Z"
   },
   {
    "duration": 337,
    "start_time": "2022-12-17T15:34:58.731Z"
   },
   {
    "duration": 349,
    "start_time": "2022-12-17T15:34:59.069Z"
   },
   {
    "duration": 852,
    "start_time": "2022-12-17T15:34:59.420Z"
   },
   {
    "duration": 779,
    "start_time": "2022-12-17T15:35:00.273Z"
   },
   {
    "duration": 7,
    "start_time": "2022-12-17T15:35:01.054Z"
   },
   {
    "duration": 28,
    "start_time": "2022-12-17T15:35:01.063Z"
   },
   {
    "duration": 184,
    "start_time": "2022-12-17T15:35:01.093Z"
   },
   {
    "duration": 0,
    "start_time": "2022-12-17T15:35:01.279Z"
   },
   {
    "duration": 0,
    "start_time": "2022-12-17T15:35:01.280Z"
   },
   {
    "duration": 0,
    "start_time": "2022-12-17T15:35:01.281Z"
   },
   {
    "duration": 0,
    "start_time": "2022-12-17T15:35:01.282Z"
   },
   {
    "duration": 0,
    "start_time": "2022-12-17T15:35:01.282Z"
   },
   {
    "duration": 0,
    "start_time": "2022-12-17T15:35:01.283Z"
   },
   {
    "duration": 0,
    "start_time": "2022-12-17T15:35:01.284Z"
   },
   {
    "duration": 0,
    "start_time": "2022-12-17T15:35:01.285Z"
   },
   {
    "duration": 0,
    "start_time": "2022-12-17T15:35:01.286Z"
   },
   {
    "duration": 0,
    "start_time": "2022-12-17T15:35:01.287Z"
   },
   {
    "duration": 0,
    "start_time": "2022-12-17T15:35:01.288Z"
   },
   {
    "duration": 4,
    "start_time": "2022-12-17T15:38:20.725Z"
   },
   {
    "duration": 3,
    "start_time": "2022-12-17T15:38:20.733Z"
   },
   {
    "duration": 5,
    "start_time": "2022-12-17T15:38:20.738Z"
   },
   {
    "duration": 237,
    "start_time": "2022-12-17T15:38:20.745Z"
   },
   {
    "duration": 68,
    "start_time": "2022-12-17T15:38:20.984Z"
   },
   {
    "duration": 180,
    "start_time": "2022-12-17T15:38:21.054Z"
   },
   {
    "duration": 243,
    "start_time": "2022-12-17T15:38:21.236Z"
   },
   {
    "duration": 2,
    "start_time": "2022-12-17T15:38:21.481Z"
   },
   {
    "duration": 1235,
    "start_time": "2022-12-17T15:38:21.484Z"
   },
   {
    "duration": 173,
    "start_time": "2022-12-17T15:38:22.721Z"
   },
   {
    "duration": 17,
    "start_time": "2022-12-17T15:38:22.896Z"
   },
   {
    "duration": 3805,
    "start_time": "2022-12-17T15:38:22.915Z"
   },
   {
    "duration": 530,
    "start_time": "2022-12-17T15:38:26.722Z"
   },
   {
    "duration": 645,
    "start_time": "2022-12-17T15:38:27.254Z"
   },
   {
    "duration": 388,
    "start_time": "2022-12-17T15:38:27.901Z"
   },
   {
    "duration": 192,
    "start_time": "2022-12-17T15:38:28.291Z"
   },
   {
    "duration": 3,
    "start_time": "2022-12-17T15:38:28.484Z"
   },
   {
    "duration": 319,
    "start_time": "2022-12-17T15:38:28.488Z"
   },
   {
    "duration": 187,
    "start_time": "2022-12-17T15:38:28.809Z"
   },
   {
    "duration": 22,
    "start_time": "2022-12-17T15:38:29.051Z"
   },
   {
    "duration": 13,
    "start_time": "2022-12-17T15:38:29.075Z"
   },
   {
    "duration": 212,
    "start_time": "2022-12-17T15:38:29.090Z"
   },
   {
    "duration": 23,
    "start_time": "2022-12-17T15:38:29.303Z"
   },
   {
    "duration": 224,
    "start_time": "2022-12-17T15:38:29.353Z"
   },
   {
    "duration": 651,
    "start_time": "2022-12-17T15:38:29.580Z"
   },
   {
    "duration": 220,
    "start_time": "2022-12-17T15:38:30.232Z"
   },
   {
    "duration": 613,
    "start_time": "2022-12-17T15:38:30.454Z"
   },
   {
    "duration": 201,
    "start_time": "2022-12-17T15:38:31.069Z"
   },
   {
    "duration": 507,
    "start_time": "2022-12-17T15:38:31.272Z"
   },
   {
    "duration": 7,
    "start_time": "2022-12-17T15:38:31.781Z"
   },
   {
    "duration": 383,
    "start_time": "2022-12-17T15:38:31.789Z"
   },
   {
    "duration": 319,
    "start_time": "2022-12-17T15:38:32.174Z"
   },
   {
    "duration": 984,
    "start_time": "2022-12-17T15:38:32.495Z"
   },
   {
    "duration": 521,
    "start_time": "2022-12-17T15:38:33.481Z"
   },
   {
    "duration": 101,
    "start_time": "2022-12-17T15:38:34.003Z"
   },
   {
    "duration": 138,
    "start_time": "2022-12-17T15:38:34.106Z"
   },
   {
    "duration": 195,
    "start_time": "2022-12-17T15:38:34.246Z"
   },
   {
    "duration": 3,
    "start_time": "2022-12-17T16:16:39.990Z"
   },
   {
    "duration": 5,
    "start_time": "2022-12-17T16:16:39.996Z"
   },
   {
    "duration": 7,
    "start_time": "2022-12-17T16:16:40.003Z"
   },
   {
    "duration": 249,
    "start_time": "2022-12-17T16:16:40.012Z"
   },
   {
    "duration": 42,
    "start_time": "2022-12-17T16:16:40.267Z"
   },
   {
    "duration": 233,
    "start_time": "2022-12-17T16:16:40.310Z"
   },
   {
    "duration": 318,
    "start_time": "2022-12-17T16:16:40.545Z"
   },
   {
    "duration": 3,
    "start_time": "2022-12-17T16:16:40.866Z"
   },
   {
    "duration": 1258,
    "start_time": "2022-12-17T16:16:40.870Z"
   },
   {
    "duration": 73,
    "start_time": "2022-12-17T16:16:42.129Z"
   },
   {
    "duration": 0,
    "start_time": "2022-12-17T16:16:42.207Z"
   },
   {
    "duration": 0,
    "start_time": "2022-12-17T16:16:42.208Z"
   },
   {
    "duration": 0,
    "start_time": "2022-12-17T16:16:42.210Z"
   },
   {
    "duration": 0,
    "start_time": "2022-12-17T16:16:42.211Z"
   },
   {
    "duration": 0,
    "start_time": "2022-12-17T16:16:42.212Z"
   },
   {
    "duration": 0,
    "start_time": "2022-12-17T16:16:42.214Z"
   },
   {
    "duration": 0,
    "start_time": "2022-12-17T16:16:42.215Z"
   },
   {
    "duration": 0,
    "start_time": "2022-12-17T16:16:42.217Z"
   },
   {
    "duration": 1,
    "start_time": "2022-12-17T16:16:42.218Z"
   },
   {
    "duration": 0,
    "start_time": "2022-12-17T16:16:42.220Z"
   },
   {
    "duration": 0,
    "start_time": "2022-12-17T16:16:42.221Z"
   },
   {
    "duration": 0,
    "start_time": "2022-12-17T16:16:42.222Z"
   },
   {
    "duration": 0,
    "start_time": "2022-12-17T16:16:42.224Z"
   },
   {
    "duration": 0,
    "start_time": "2022-12-17T16:16:42.225Z"
   },
   {
    "duration": 0,
    "start_time": "2022-12-17T16:16:42.226Z"
   },
   {
    "duration": 0,
    "start_time": "2022-12-17T16:16:42.228Z"
   },
   {
    "duration": 0,
    "start_time": "2022-12-17T16:16:42.229Z"
   },
   {
    "duration": 0,
    "start_time": "2022-12-17T16:16:42.230Z"
   },
   {
    "duration": 0,
    "start_time": "2022-12-17T16:16:42.231Z"
   },
   {
    "duration": 1,
    "start_time": "2022-12-17T16:16:42.232Z"
   },
   {
    "duration": 0,
    "start_time": "2022-12-17T16:16:42.233Z"
   },
   {
    "duration": 0,
    "start_time": "2022-12-17T16:16:42.234Z"
   },
   {
    "duration": 0,
    "start_time": "2022-12-17T16:16:42.235Z"
   },
   {
    "duration": 0,
    "start_time": "2022-12-17T16:16:42.236Z"
   },
   {
    "duration": 0,
    "start_time": "2022-12-17T16:16:42.237Z"
   },
   {
    "duration": 0,
    "start_time": "2022-12-17T16:16:42.238Z"
   },
   {
    "duration": 0,
    "start_time": "2022-12-17T16:16:42.239Z"
   },
   {
    "duration": 0,
    "start_time": "2022-12-17T16:16:42.240Z"
   },
   {
    "duration": 4,
    "start_time": "2022-12-17T16:17:17.669Z"
   },
   {
    "duration": 10,
    "start_time": "2022-12-17T16:17:17.675Z"
   },
   {
    "duration": 7,
    "start_time": "2022-12-17T16:17:17.687Z"
   },
   {
    "duration": 213,
    "start_time": "2022-12-17T16:17:17.696Z"
   },
   {
    "duration": 50,
    "start_time": "2022-12-17T16:17:17.911Z"
   },
   {
    "duration": 238,
    "start_time": "2022-12-17T16:17:17.965Z"
   },
   {
    "duration": 286,
    "start_time": "2022-12-17T16:17:18.204Z"
   },
   {
    "duration": 2,
    "start_time": "2022-12-17T16:17:18.492Z"
   },
   {
    "duration": 1681,
    "start_time": "2022-12-17T16:17:18.495Z"
   },
   {
    "duration": 126,
    "start_time": "2022-12-17T16:17:20.178Z"
   },
   {
    "duration": 18,
    "start_time": "2022-12-17T16:17:20.310Z"
   },
   {
    "duration": 4053,
    "start_time": "2022-12-17T16:17:20.330Z"
   },
   {
    "duration": 557,
    "start_time": "2022-12-17T16:17:24.385Z"
   },
   {
    "duration": 430,
    "start_time": "2022-12-17T16:17:24.953Z"
   },
   {
    "duration": 383,
    "start_time": "2022-12-17T16:17:25.385Z"
   },
   {
    "duration": 169,
    "start_time": "2022-12-17T16:17:25.771Z"
   },
   {
    "duration": 3,
    "start_time": "2022-12-17T16:17:25.941Z"
   },
   {
    "duration": 344,
    "start_time": "2022-12-17T16:17:25.961Z"
   },
   {
    "duration": 385,
    "start_time": "2022-12-17T16:17:26.306Z"
   },
   {
    "duration": 21,
    "start_time": "2022-12-17T16:17:26.692Z"
   },
   {
    "duration": 56,
    "start_time": "2022-12-17T16:17:26.714Z"
   },
   {
    "duration": 209,
    "start_time": "2022-12-17T16:17:26.771Z"
   },
   {
    "duration": 22,
    "start_time": "2022-12-17T16:17:26.982Z"
   },
   {
    "duration": 184,
    "start_time": "2022-12-17T16:17:27.005Z"
   },
   {
    "duration": 440,
    "start_time": "2022-12-17T16:17:27.191Z"
   },
   {
    "duration": 148,
    "start_time": "2022-12-17T16:17:27.653Z"
   },
   {
    "duration": 624,
    "start_time": "2022-12-17T16:17:27.803Z"
   },
   {
    "duration": 151,
    "start_time": "2022-12-17T16:17:28.429Z"
   },
   {
    "duration": 485,
    "start_time": "2022-12-17T16:17:28.584Z"
   },
   {
    "duration": 6,
    "start_time": "2022-12-17T16:17:29.071Z"
   },
   {
    "duration": 396,
    "start_time": "2022-12-17T16:17:29.078Z"
   },
   {
    "duration": 361,
    "start_time": "2022-12-17T16:17:29.475Z"
   },
   {
    "duration": 844,
    "start_time": "2022-12-17T16:17:29.838Z"
   },
   {
    "duration": 490,
    "start_time": "2022-12-17T16:17:30.684Z"
   },
   {
    "duration": 94,
    "start_time": "2022-12-17T16:17:31.176Z"
   },
   {
    "duration": 107,
    "start_time": "2022-12-17T16:17:31.271Z"
   },
   {
    "duration": 243,
    "start_time": "2022-12-17T16:17:31.380Z"
   }
  ],
  "colab": {
   "name": "PySparkSprint.ipynb",
   "provenance": []
  },
  "kernelspec": {
   "display_name": "Python 3 (ipykernel)",
   "language": "python",
   "name": "python3"
  },
  "language_info": {
   "codemirror_mode": {
    "name": "ipython",
    "version": 3
   },
   "file_extension": ".py",
   "mimetype": "text/x-python",
   "name": "python",
   "nbconvert_exporter": "python",
   "pygments_lexer": "ipython3",
   "version": "3.9.13"
  },
  "toc": {
   "base_numbering": 1,
   "nav_menu": {},
   "number_sections": true,
   "sideBar": true,
   "skip_h1_title": true,
   "title_cell": "Table of Contents",
   "title_sidebar": "Contents",
   "toc_cell": false,
   "toc_position": {},
   "toc_section_display": true,
   "toc_window_display": false
  }
 },
 "nbformat": 4,
 "nbformat_minor": 5
}
