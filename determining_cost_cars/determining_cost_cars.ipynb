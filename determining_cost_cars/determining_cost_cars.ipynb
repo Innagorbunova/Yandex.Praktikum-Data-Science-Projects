{
 "cells": [
  {
   "cell_type": "markdown",
   "metadata": {},
   "source": [
    "# Определение стоимости автомобилей"
   ]
  },
  {
   "cell_type": "markdown",
   "metadata": {},
   "source": [
    "Целью проекта является построение модели машинного обучения, предсказывающей рыночную стоимость автомобиля. Заказчиком проекта является сервис по продаже автомобилей с пробегом «Не бит, не крашен» разрабатывающий приложение для привлечения новых клиентов.\n",
    "\n",
    "Для построения модели машинного обучения предоставлены исторические данные: технические характеристики, комплектации и цены автомобилей.\n",
    "\n",
    "Критерии оценки модели, определенные заказчиком,  являются качество предсказания, скорость предсказания и время обучения. Для оценки качества моделей условием проекта определена метрика RMSE, значение которой должно  быть меньше 2500.\n",
    "\n",
    "В соответствии с условием проекта мы построим несколько моделей машинного обучения, в том числе модели градиентного бустинга, включая модель средствами библиотеки библиотеку LightGBM. Выберем лучшую модель, которую протестируем на тестовой выборке.\n",
    "\n",
    "На основе исследований сделаем выводу по предложению заказчику."
   ]
  },
  {
   "cell_type": "markdown",
   "metadata": {},
   "source": [
    "## Подготовка данных"
   ]
  },
  {
   "cell_type": "markdown",
   "metadata": {},
   "source": [
    "Импортируем библиотеки, включая lightgbm и catboost, необходимые для построения моделей градиентного бустинга."
   ]
  },
  {
   "cell_type": "code",
   "execution_count": 539,
   "metadata": {},
   "outputs": [],
   "source": [
    "import pandas as pd\n",
    "import numpy as np\n",
    "\n",
    "from numpy.random import RandomState\n",
    "from sklearn.model_selection import train_test_split\n",
    "from sklearn.preprocessing import StandardScaler\n",
    "from sklearn.model_selection import GridSearchCV\n",
    "from sklearn.model_selection import cross_val_score\n",
    "from sklearn.metrics import mean_squared_error \n",
    "import category_encoders as ce\n",
    "\n",
    "from sklearn.ensemble import RandomForestRegressor\n",
    "from sklearn.tree import DecisionTreeRegressor\n",
    "import lightgbm as lgb\n",
    "from sklearn.linear_model import LinearRegression\n",
    "import catboost as ctb\n",
    "from catboost import CatBoostRegressor\n",
    "\n",
    "import warnings\n",
    "warnings.filterwarnings('ignore')"
   ]
  },
  {
   "cell_type": "markdown",
   "metadata": {},
   "source": [
    "Читаем содержимое файла /datasets/autos.csv и выводим типы данных колонок"
   ]
  },
  {
   "cell_type": "code",
   "execution_count": 540,
   "metadata": {},
   "outputs": [],
   "source": [
    "try:\n",
    "\n",
    "    data = pd.read_csv('C:\\\\Users\\\\User\\\\Downloads\\\\autos.csv')\n",
    "    \n",
    "except:\n",
    "\n",
    "    data = pd.read_csv('/datasets/autos.csv')    "
   ]
  },
  {
   "cell_type": "code",
   "execution_count": 541,
   "metadata": {},
   "outputs": [
    {
     "data": {
      "text/html": [
       "<div>\n",
       "<style scoped>\n",
       "    .dataframe tbody tr th:only-of-type {\n",
       "        vertical-align: middle;\n",
       "    }\n",
       "\n",
       "    .dataframe tbody tr th {\n",
       "        vertical-align: top;\n",
       "    }\n",
       "\n",
       "    .dataframe thead th {\n",
       "        text-align: right;\n",
       "    }\n",
       "</style>\n",
       "<table border=\"1\" class=\"dataframe\">\n",
       "  <thead>\n",
       "    <tr style=\"text-align: right;\">\n",
       "      <th></th>\n",
       "      <th>DateCrawled</th>\n",
       "      <th>Price</th>\n",
       "      <th>VehicleType</th>\n",
       "      <th>RegistrationYear</th>\n",
       "      <th>Gearbox</th>\n",
       "      <th>Power</th>\n",
       "      <th>Model</th>\n",
       "      <th>Kilometer</th>\n",
       "      <th>RegistrationMonth</th>\n",
       "      <th>FuelType</th>\n",
       "      <th>Brand</th>\n",
       "      <th>Repaired</th>\n",
       "      <th>DateCreated</th>\n",
       "      <th>NumberOfPictures</th>\n",
       "      <th>PostalCode</th>\n",
       "      <th>LastSeen</th>\n",
       "    </tr>\n",
       "  </thead>\n",
       "  <tbody>\n",
       "    <tr>\n",
       "      <th>0</th>\n",
       "      <td>2016-03-24 11:52:17</td>\n",
       "      <td>480</td>\n",
       "      <td>NaN</td>\n",
       "      <td>1993</td>\n",
       "      <td>manual</td>\n",
       "      <td>0</td>\n",
       "      <td>golf</td>\n",
       "      <td>150000</td>\n",
       "      <td>0</td>\n",
       "      <td>petrol</td>\n",
       "      <td>volkswagen</td>\n",
       "      <td>NaN</td>\n",
       "      <td>2016-03-24 00:00:00</td>\n",
       "      <td>0</td>\n",
       "      <td>70435</td>\n",
       "      <td>2016-04-07 03:16:57</td>\n",
       "    </tr>\n",
       "    <tr>\n",
       "      <th>1</th>\n",
       "      <td>2016-03-24 10:58:45</td>\n",
       "      <td>18300</td>\n",
       "      <td>coupe</td>\n",
       "      <td>2011</td>\n",
       "      <td>manual</td>\n",
       "      <td>190</td>\n",
       "      <td>NaN</td>\n",
       "      <td>125000</td>\n",
       "      <td>5</td>\n",
       "      <td>gasoline</td>\n",
       "      <td>audi</td>\n",
       "      <td>yes</td>\n",
       "      <td>2016-03-24 00:00:00</td>\n",
       "      <td>0</td>\n",
       "      <td>66954</td>\n",
       "      <td>2016-04-07 01:46:50</td>\n",
       "    </tr>\n",
       "    <tr>\n",
       "      <th>2</th>\n",
       "      <td>2016-03-14 12:52:21</td>\n",
       "      <td>9800</td>\n",
       "      <td>suv</td>\n",
       "      <td>2004</td>\n",
       "      <td>auto</td>\n",
       "      <td>163</td>\n",
       "      <td>grand</td>\n",
       "      <td>125000</td>\n",
       "      <td>8</td>\n",
       "      <td>gasoline</td>\n",
       "      <td>jeep</td>\n",
       "      <td>NaN</td>\n",
       "      <td>2016-03-14 00:00:00</td>\n",
       "      <td>0</td>\n",
       "      <td>90480</td>\n",
       "      <td>2016-04-05 12:47:46</td>\n",
       "    </tr>\n",
       "    <tr>\n",
       "      <th>3</th>\n",
       "      <td>2016-03-17 16:54:04</td>\n",
       "      <td>1500</td>\n",
       "      <td>small</td>\n",
       "      <td>2001</td>\n",
       "      <td>manual</td>\n",
       "      <td>75</td>\n",
       "      <td>golf</td>\n",
       "      <td>150000</td>\n",
       "      <td>6</td>\n",
       "      <td>petrol</td>\n",
       "      <td>volkswagen</td>\n",
       "      <td>no</td>\n",
       "      <td>2016-03-17 00:00:00</td>\n",
       "      <td>0</td>\n",
       "      <td>91074</td>\n",
       "      <td>2016-03-17 17:40:17</td>\n",
       "    </tr>\n",
       "    <tr>\n",
       "      <th>4</th>\n",
       "      <td>2016-03-31 17:25:20</td>\n",
       "      <td>3600</td>\n",
       "      <td>small</td>\n",
       "      <td>2008</td>\n",
       "      <td>manual</td>\n",
       "      <td>69</td>\n",
       "      <td>fabia</td>\n",
       "      <td>90000</td>\n",
       "      <td>7</td>\n",
       "      <td>gasoline</td>\n",
       "      <td>skoda</td>\n",
       "      <td>no</td>\n",
       "      <td>2016-03-31 00:00:00</td>\n",
       "      <td>0</td>\n",
       "      <td>60437</td>\n",
       "      <td>2016-04-06 10:17:21</td>\n",
       "    </tr>\n",
       "  </tbody>\n",
       "</table>\n",
       "</div>"
      ],
      "text/plain": [
       "           DateCrawled  Price VehicleType  RegistrationYear Gearbox  Power  \\\n",
       "0  2016-03-24 11:52:17    480         NaN              1993  manual      0   \n",
       "1  2016-03-24 10:58:45  18300       coupe              2011  manual    190   \n",
       "2  2016-03-14 12:52:21   9800         suv              2004    auto    163   \n",
       "3  2016-03-17 16:54:04   1500       small              2001  manual     75   \n",
       "4  2016-03-31 17:25:20   3600       small              2008  manual     69   \n",
       "\n",
       "   Model  Kilometer  RegistrationMonth  FuelType       Brand Repaired  \\\n",
       "0   golf     150000                  0    petrol  volkswagen      NaN   \n",
       "1    NaN     125000                  5  gasoline        audi      yes   \n",
       "2  grand     125000                  8  gasoline        jeep      NaN   \n",
       "3   golf     150000                  6    petrol  volkswagen       no   \n",
       "4  fabia      90000                  7  gasoline       skoda       no   \n",
       "\n",
       "           DateCreated  NumberOfPictures  PostalCode             LastSeen  \n",
       "0  2016-03-24 00:00:00                 0       70435  2016-04-07 03:16:57  \n",
       "1  2016-03-24 00:00:00                 0       66954  2016-04-07 01:46:50  \n",
       "2  2016-03-14 00:00:00                 0       90480  2016-04-05 12:47:46  \n",
       "3  2016-03-17 00:00:00                 0       91074  2016-03-17 17:40:17  \n",
       "4  2016-03-31 00:00:00                 0       60437  2016-04-06 10:17:21  "
      ]
     },
     "metadata": {},
     "output_type": "display_data"
    },
    {
     "name": "stdout",
     "output_type": "stream",
     "text": [
      "\n",
      "<class 'pandas.core.frame.DataFrame'>\n",
      "RangeIndex: 354369 entries, 0 to 354368\n",
      "Data columns (total 16 columns):\n",
      " #   Column             Non-Null Count   Dtype \n",
      "---  ------             --------------   ----- \n",
      " 0   DateCrawled        354369 non-null  object\n",
      " 1   Price              354369 non-null  int64 \n",
      " 2   VehicleType        316879 non-null  object\n",
      " 3   RegistrationYear   354369 non-null  int64 \n",
      " 4   Gearbox            334536 non-null  object\n",
      " 5   Power              354369 non-null  int64 \n",
      " 6   Model              334664 non-null  object\n",
      " 7   Kilometer          354369 non-null  int64 \n",
      " 8   RegistrationMonth  354369 non-null  int64 \n",
      " 9   FuelType           321474 non-null  object\n",
      " 10  Brand              354369 non-null  object\n",
      " 11  Repaired           283215 non-null  object\n",
      " 12  DateCreated        354369 non-null  object\n",
      " 13  NumberOfPictures   354369 non-null  int64 \n",
      " 14  PostalCode         354369 non-null  int64 \n",
      " 15  LastSeen           354369 non-null  object\n",
      "dtypes: int64(7), object(9)\n",
      "memory usage: 43.3+ MB\n"
     ]
    }
   ],
   "source": [
    "display(data.head(5))\n",
    "print('')\n",
    "data.info()"
   ]
  },
  {
   "cell_type": "markdown",
   "metadata": {},
   "source": [
    "### Предварительная обработка данных"
   ]
  },
  {
   "cell_type": "markdown",
   "metadata": {},
   "source": [
    "Проверяем наличие пропусков "
   ]
  },
  {
   "cell_type": "code",
   "execution_count": 542,
   "metadata": {},
   "outputs": [
    {
     "data": {
      "text/plain": [
       "DateCrawled              0\n",
       "Price                    0\n",
       "VehicleType          37490\n",
       "RegistrationYear         0\n",
       "Gearbox              19833\n",
       "Power                    0\n",
       "Model                19705\n",
       "Kilometer                0\n",
       "RegistrationMonth        0\n",
       "FuelType             32895\n",
       "Brand                    0\n",
       "Repaired             71154\n",
       "DateCreated              0\n",
       "NumberOfPictures         0\n",
       "PostalCode               0\n",
       "LastSeen                 0\n",
       "dtype: int64"
      ]
     },
     "execution_count": 542,
     "metadata": {},
     "output_type": "execute_result"
    }
   ],
   "source": [
    "data.isna().sum()"
   ]
  },
  {
   "cell_type": "markdown",
   "metadata": {},
   "source": [
    "В столбцах 'VehicleType', 'Gearbox','Model', 'FuelType','Repaired' содержится много пропущенных значений. Прежде чем приступать к работе по их замене, определимся с набором данных, необходимых для построения модели машинного обучения.\n",
    "\n",
    "Целевым признаком является 'Price' - цена автомобиля, исключим данные, которые для ее определения являются неинформативными:\n",
    "\n",
    "'DateCrawled' - дата скачивания анкеты из базы и 'DateCreated' - дата создания анкеты характеризуют хронологию продажи автомобиля и являются информативными данными, а не ценообразующими;\n",
    "\n",
    "'RegistrationMonth' - месяц регистрации автомобиля не имеет значения для его цены, так как при покупке-продаже автомобиля принимается во внимание год его регистрации, который у нас есть в столбце 'RegistrationYear';\n",
    "\n",
    "'PostalCode' - почтовый индекс владельца анкеты (пользователя) и 'LastSeen' - дата последней активности пользователя дают представление о лице, продающем автомобиль. Иногда информация о продавце может сыграть большую роль в установлении цены автомобиля, но не указанная в этих столбцах. Почтовый индекс интересен только с точки зрения скорости связи с продавцом, дата активности показывает заинтересованность в продаже. Оба фактора не имеют реального влияния на цену;\n",
    "\n",
    "'NumberOfPictures' - количество фотографий автомобиля может привлечь больше потенциальных покупателей, но автомобиль покупают не по фотографиям, а значит наличие их, количество или отсутствие на цене не скажутся.\n",
    "\n",
    "По вышеуказанным причинам для построения модели машинного обучения исключим указанные параметры из исходного датасета, создав новый датафрейм."
   ]
  },
  {
   "cell_type": "code",
   "execution_count": 543,
   "metadata": {},
   "outputs": [
    {
     "data": {
      "text/html": [
       "<div>\n",
       "<style scoped>\n",
       "    .dataframe tbody tr th:only-of-type {\n",
       "        vertical-align: middle;\n",
       "    }\n",
       "\n",
       "    .dataframe tbody tr th {\n",
       "        vertical-align: top;\n",
       "    }\n",
       "\n",
       "    .dataframe thead th {\n",
       "        text-align: right;\n",
       "    }\n",
       "</style>\n",
       "<table border=\"1\" class=\"dataframe\">\n",
       "  <thead>\n",
       "    <tr style=\"text-align: right;\">\n",
       "      <th></th>\n",
       "      <th>Price</th>\n",
       "      <th>VehicleType</th>\n",
       "      <th>RegistrationYear</th>\n",
       "      <th>Gearbox</th>\n",
       "      <th>Power</th>\n",
       "      <th>Model</th>\n",
       "      <th>Kilometer</th>\n",
       "      <th>FuelType</th>\n",
       "      <th>Brand</th>\n",
       "      <th>Repaired</th>\n",
       "    </tr>\n",
       "  </thead>\n",
       "  <tbody>\n",
       "    <tr>\n",
       "      <th>0</th>\n",
       "      <td>480</td>\n",
       "      <td>NaN</td>\n",
       "      <td>1993</td>\n",
       "      <td>manual</td>\n",
       "      <td>0</td>\n",
       "      <td>golf</td>\n",
       "      <td>150000</td>\n",
       "      <td>petrol</td>\n",
       "      <td>volkswagen</td>\n",
       "      <td>NaN</td>\n",
       "    </tr>\n",
       "    <tr>\n",
       "      <th>1</th>\n",
       "      <td>18300</td>\n",
       "      <td>coupe</td>\n",
       "      <td>2011</td>\n",
       "      <td>manual</td>\n",
       "      <td>190</td>\n",
       "      <td>NaN</td>\n",
       "      <td>125000</td>\n",
       "      <td>gasoline</td>\n",
       "      <td>audi</td>\n",
       "      <td>yes</td>\n",
       "    </tr>\n",
       "    <tr>\n",
       "      <th>2</th>\n",
       "      <td>9800</td>\n",
       "      <td>suv</td>\n",
       "      <td>2004</td>\n",
       "      <td>auto</td>\n",
       "      <td>163</td>\n",
       "      <td>grand</td>\n",
       "      <td>125000</td>\n",
       "      <td>gasoline</td>\n",
       "      <td>jeep</td>\n",
       "      <td>NaN</td>\n",
       "    </tr>\n",
       "    <tr>\n",
       "      <th>3</th>\n",
       "      <td>1500</td>\n",
       "      <td>small</td>\n",
       "      <td>2001</td>\n",
       "      <td>manual</td>\n",
       "      <td>75</td>\n",
       "      <td>golf</td>\n",
       "      <td>150000</td>\n",
       "      <td>petrol</td>\n",
       "      <td>volkswagen</td>\n",
       "      <td>no</td>\n",
       "    </tr>\n",
       "    <tr>\n",
       "      <th>4</th>\n",
       "      <td>3600</td>\n",
       "      <td>small</td>\n",
       "      <td>2008</td>\n",
       "      <td>manual</td>\n",
       "      <td>69</td>\n",
       "      <td>fabia</td>\n",
       "      <td>90000</td>\n",
       "      <td>gasoline</td>\n",
       "      <td>skoda</td>\n",
       "      <td>no</td>\n",
       "    </tr>\n",
       "  </tbody>\n",
       "</table>\n",
       "</div>"
      ],
      "text/plain": [
       "   Price VehicleType  RegistrationYear Gearbox  Power  Model  Kilometer  \\\n",
       "0    480         NaN              1993  manual      0   golf     150000   \n",
       "1  18300       coupe              2011  manual    190    NaN     125000   \n",
       "2   9800         suv              2004    auto    163  grand     125000   \n",
       "3   1500       small              2001  manual     75   golf     150000   \n",
       "4   3600       small              2008  manual     69  fabia      90000   \n",
       "\n",
       "   FuelType       Brand Repaired  \n",
       "0    petrol  volkswagen      NaN  \n",
       "1  gasoline        audi      yes  \n",
       "2  gasoline        jeep      NaN  \n",
       "3    petrol  volkswagen       no  \n",
       "4  gasoline       skoda       no  "
      ]
     },
     "metadata": {},
     "output_type": "display_data"
    },
    {
     "name": "stdout",
     "output_type": "stream",
     "text": [
      "\n",
      "<class 'pandas.core.frame.DataFrame'>\n",
      "RangeIndex: 354369 entries, 0 to 354368\n",
      "Data columns (total 10 columns):\n",
      " #   Column            Non-Null Count   Dtype \n",
      "---  ------            --------------   ----- \n",
      " 0   Price             354369 non-null  int64 \n",
      " 1   VehicleType       316879 non-null  object\n",
      " 2   RegistrationYear  354369 non-null  int64 \n",
      " 3   Gearbox           334536 non-null  object\n",
      " 4   Power             354369 non-null  int64 \n",
      " 5   Model             334664 non-null  object\n",
      " 6   Kilometer         354369 non-null  int64 \n",
      " 7   FuelType          321474 non-null  object\n",
      " 8   Brand             354369 non-null  object\n",
      " 9   Repaired          283215 non-null  object\n",
      "dtypes: int64(4), object(6)\n",
      "memory usage: 27.0+ MB\n"
     ]
    }
   ],
   "source": [
    "autos = data.drop(['DateCrawled', 'DateCreated', 'RegistrationMonth', 'NumberOfPictures', 'PostalCode', 'LastSeen'], axis=1)\n",
    "\n",
    "display(autos.head(5))\n",
    "print('')\n",
    "autos.info()"
   ]
  },
  {
   "cell_type": "markdown",
   "metadata": {},
   "source": [
    "Мы получили набор данных, представленный  354369 объектами, целевым признаком 'Price' и 10 признаками, 6 из которых типа 'object' и 4 - 'int64'.\n",
    "\n",
    "Проведем исследование данных."
   ]
  },
  {
   "cell_type": "markdown",
   "metadata": {},
   "source": [
    "Выведем основные описательные статистики числовых признаков и проанализируем каждый из них."
   ]
  },
  {
   "cell_type": "code",
   "execution_count": 544,
   "metadata": {},
   "outputs": [
    {
     "data": {
      "text/html": [
       "<div>\n",
       "<style scoped>\n",
       "    .dataframe tbody tr th:only-of-type {\n",
       "        vertical-align: middle;\n",
       "    }\n",
       "\n",
       "    .dataframe tbody tr th {\n",
       "        vertical-align: top;\n",
       "    }\n",
       "\n",
       "    .dataframe thead th {\n",
       "        text-align: right;\n",
       "    }\n",
       "</style>\n",
       "<table border=\"1\" class=\"dataframe\">\n",
       "  <thead>\n",
       "    <tr style=\"text-align: right;\">\n",
       "      <th></th>\n",
       "      <th>Price</th>\n",
       "      <th>RegistrationYear</th>\n",
       "      <th>Power</th>\n",
       "      <th>Kilometer</th>\n",
       "    </tr>\n",
       "  </thead>\n",
       "  <tbody>\n",
       "    <tr>\n",
       "      <th>count</th>\n",
       "      <td>354369.000000</td>\n",
       "      <td>354369.000000</td>\n",
       "      <td>354369.000000</td>\n",
       "      <td>354369.000000</td>\n",
       "    </tr>\n",
       "    <tr>\n",
       "      <th>mean</th>\n",
       "      <td>4416.656776</td>\n",
       "      <td>2004.234448</td>\n",
       "      <td>110.094337</td>\n",
       "      <td>128211.172535</td>\n",
       "    </tr>\n",
       "    <tr>\n",
       "      <th>std</th>\n",
       "      <td>4514.158514</td>\n",
       "      <td>90.227958</td>\n",
       "      <td>189.850405</td>\n",
       "      <td>37905.341530</td>\n",
       "    </tr>\n",
       "    <tr>\n",
       "      <th>min</th>\n",
       "      <td>0.000000</td>\n",
       "      <td>1000.000000</td>\n",
       "      <td>0.000000</td>\n",
       "      <td>5000.000000</td>\n",
       "    </tr>\n",
       "    <tr>\n",
       "      <th>25%</th>\n",
       "      <td>1050.000000</td>\n",
       "      <td>1999.000000</td>\n",
       "      <td>69.000000</td>\n",
       "      <td>125000.000000</td>\n",
       "    </tr>\n",
       "    <tr>\n",
       "      <th>50%</th>\n",
       "      <td>2700.000000</td>\n",
       "      <td>2003.000000</td>\n",
       "      <td>105.000000</td>\n",
       "      <td>150000.000000</td>\n",
       "    </tr>\n",
       "    <tr>\n",
       "      <th>75%</th>\n",
       "      <td>6400.000000</td>\n",
       "      <td>2008.000000</td>\n",
       "      <td>143.000000</td>\n",
       "      <td>150000.000000</td>\n",
       "    </tr>\n",
       "    <tr>\n",
       "      <th>max</th>\n",
       "      <td>20000.000000</td>\n",
       "      <td>9999.000000</td>\n",
       "      <td>20000.000000</td>\n",
       "      <td>150000.000000</td>\n",
       "    </tr>\n",
       "  </tbody>\n",
       "</table>\n",
       "</div>"
      ],
      "text/plain": [
       "               Price  RegistrationYear          Power      Kilometer\n",
       "count  354369.000000     354369.000000  354369.000000  354369.000000\n",
       "mean     4416.656776       2004.234448     110.094337  128211.172535\n",
       "std      4514.158514         90.227958     189.850405   37905.341530\n",
       "min         0.000000       1000.000000       0.000000    5000.000000\n",
       "25%      1050.000000       1999.000000      69.000000  125000.000000\n",
       "50%      2700.000000       2003.000000     105.000000  150000.000000\n",
       "75%      6400.000000       2008.000000     143.000000  150000.000000\n",
       "max     20000.000000       9999.000000   20000.000000  150000.000000"
      ]
     },
     "execution_count": 544,
     "metadata": {},
     "output_type": "execute_result"
    }
   ],
   "source": [
    "autos.describe()"
   ]
  },
  {
   "cell_type": "markdown",
   "metadata": {},
   "source": [
    "##### 'Price' — цена автомодиля (в евро)"
   ]
  },
  {
   "cell_type": "code",
   "execution_count": 545,
   "metadata": {},
   "outputs": [
    {
     "name": "stdout",
     "output_type": "stream",
     "text": [
      "Price   [    0     1     2 ... 19998 19999 20000]\n"
     ]
    },
    {
     "data": {
      "image/png": "[encoded data removed]",
      "text/plain": [
       "<Figure size 432x288 with 1 Axes>"
      ]
     },
     "metadata": {
      "needs_background": "light"
     },
     "output_type": "display_data"
    }
   ],
   "source": [
    "print('Price  ', autos ['Price'].sort_values().unique())\n",
    "ax = autos ['Price'].hist()"
   ]
  },
  {
   "cell_type": "code",
   "execution_count": 546,
   "metadata": {
    "scrolled": true
   },
   "outputs": [
    {
     "name": "stdout",
     "output_type": "stream",
     "text": [
      "В целевом признаке \"Price\" 10772 объектов имеют значение 0.\n",
      "Доля нулевых значений целевого признака составляет 3 %\n"
     ]
    }
   ],
   "source": [
    "print('В целевом признаке \"Price\"',autos.query('Price == 0')['Price'].count(), 'объектов имеют значение 0.') \n",
    "print('Доля нулевых значений целевого признака составляет', round(autos.query('Price == 0')['Price'].count()/\n",
    "                                                                  autos['Price'].count()*100),'%')     "
   ]
  },
  {
   "cell_type": "markdown",
   "metadata": {},
   "source": [
    "В целевом признаке 'Price' исходного датафрейма data (как и созданного autos) пропусков не было. Однако имеется 10772 объекта, в которых цена автомобиля составляет 0 евро, что противоестественно для рынка.  Их доля составляет 3% от от набора данных, что позволяет их удалить."
   ]
  },
  {
   "cell_type": "markdown",
   "metadata": {},
   "source": [
    "\n",
    "Ограничиваем начальную цену автомобиля в 100 евро. По российскому курсу это около 8 тыс. руб., что даже для нашего рынка символично. Но на каждый товар есть свой покупатель и за эту цену продаются автомобили, которые не только продаются на запчасти, но и восстанавливаются любителями.\n",
    "</div>"
   ]
  },
  {
   "cell_type": "code",
   "execution_count": 547,
   "metadata": {},
   "outputs": [
    {
     "name": "stdout",
     "output_type": "stream",
     "text": [
      "Price   [  100   101   105 ... 19998 19999 20000]\n"
     ]
    }
   ],
   "source": [
    "autos = autos.query('Price >= 100').reset_index(drop=True)\n",
    "print('Price  ', autos ['Price'].sort_values().unique())"
   ]
  },
  {
   "cell_type": "markdown",
   "metadata": {},
   "source": [
    "##### 'RegistrationYear' - год регистрации автомобиля"
   ]
  },
  {
   "cell_type": "code",
   "execution_count": 548,
   "metadata": {},
   "outputs": [
    {
     "name": "stdout",
     "output_type": "stream",
     "text": [
      "RegistrationYear   [1000 1001 1039 1111 1234 1255 1300 1400 1500 1600 1602 1800 1910 1923\n",
      " 1925 1927 1928 1929 1930 1931 1932 1933 1934 1935 1936 1937 1938 1940\n",
      " 1941 1942 1943 1944 1945 1946 1947 1948 1949 1950 1951 1952 1953 1954\n",
      " 1955 1956 1957 1958 1959 1960 1961 1962 1963 1964 1965 1966 1967 1968\n",
      " 1969 1970 1971 1972 1973 1974 1975 1976 1977 1978 1979 1980 1981 1982\n",
      " 1983 1984 1985 1986 1987 1988 1989 1990 1991 1992 1993 1994 1995 1996\n",
      " 1997 1998 1999 2000 2001 2002 2003 2004 2005 2006 2007 2008 2009 2010\n",
      " 2011 2012 2013 2014 2015 2016 2017 2018 2019 2066 2200 2222 2290 2500\n",
      " 2800 2900 3000 3200 3700 3800 4000 4100 4500 4800 5000 5300 5555 5600\n",
      " 5900 5911 6000 7000 7100 7800 8200 8500 8888 9000 9450 9999]\n"
     ]
    }
   ],
   "source": [
    "print('RegistrationYear  ', autos ['RegistrationYear'].sort_values().unique())"
   ]
  },
  {
   "cell_type": "markdown",
   "metadata": {},
   "source": [
    "Посмотрим максимальную дату скачивания анкеты из базы.\n",
    "</div>"
   ]
  },
  {
   "cell_type": "code",
   "execution_count": 549,
   "metadata": {},
   "outputs": [
    {
     "data": {
      "text/plain": [
       "Timestamp('2016-04-07 14:36:58')"
      ]
     },
     "execution_count": 549,
     "metadata": {},
     "output_type": "execute_result"
    }
   ],
   "source": [
    "pd.to_datetime(data['DateCrawled']).max()"
   ]
  },
  {
   "cell_type": "markdown",
   "metadata": {},
   "source": [
    "Маскимальная дата скачивания анкеты из базы ограничена 2016 годом, значит все значения по столбцу \"RegistrationYear\" после этого года считаются аномальными, в связи с чем верхний порог года регистрации ограничим 2016 годом.\n",
    "</div>"
   ]
  },
  {
   "cell_type": "code",
   "execution_count": 550,
   "metadata": {},
   "outputs": [
    {
     "name": "stdout",
     "output_type": "stream",
     "text": [
      "Аномальных значений по столбцу \"RegistrationYear\" 13730\n"
     ]
    }
   ],
   "source": [
    "print('Аномальных значений по столбцу \"RegistrationYear\"',autos.query('RegistrationYear < 1910')['RegistrationYear'].count(\n",
    ")+ autos.query('RegistrationYear >2016')['RegistrationYear'].count())"
   ]
  },
  {
   "cell_type": "markdown",
   "metadata": {},
   "source": [
    "В столбце \"RegistrationYear\" имеется 13730 значений года регистрации автомобиля 1800 год и ранее и 2017 год и позднее, что является явной аномалией, которую необходимо устранить "
   ]
  },
  {
   "cell_type": "code",
   "execution_count": 551,
   "metadata": {
    "scrolled": true
   },
   "outputs": [
    {
     "name": "stdout",
     "output_type": "stream",
     "text": [
      "RegistrationYear   [1910 1923 1925 1927 1928 1929 1930 1931 1932 1933 1934 1935 1936 1937\n",
      " 1938 1940 1941 1942 1943 1944 1945 1946 1947 1948 1949 1950 1951 1952\n",
      " 1953 1954 1955 1956 1957 1958 1959 1960 1961 1962 1963 1964 1965 1966\n",
      " 1967 1968 1969 1970 1971 1972 1973 1974 1975 1976 1977 1978 1979 1980\n",
      " 1981 1982 1983 1984 1985 1986 1987 1988 1989 1990 1991 1992 1993 1994\n",
      " 1995 1996 1997 1998 1999 2000 2001 2002 2003 2004 2005 2006 2007 2008\n",
      " 2009 2010 2011 2012 2013 2014 2015 2016]\n"
     ]
    }
   ],
   "source": [
    "autos = autos.query('1910 <= RegistrationYear <= 2016').reset_index(drop=True)\n",
    "print('RegistrationYear  ', autos ['RegistrationYear'].sort_values().unique())"
   ]
  },
  {
   "cell_type": "markdown",
   "metadata": {},
   "source": [
    "Аномальные значения по столбцу \"RegistrationYear\" устранены. Диапазон года регистрации автомобиля находится в значениях 1910 - 2019 годы, что соответствует естественным временным рамкам."
   ]
  },
  {
   "cell_type": "markdown",
   "metadata": {},
   "source": [
    "##### 'Power' - мощность (л. с.)"
   ]
  },
  {
   "cell_type": "code",
   "execution_count": 552,
   "metadata": {},
   "outputs": [
    {
     "name": "stdout",
     "output_type": "stream",
     "text": [
      "Power  [    0     1     2     3     4     5     6     7     8     9    10    11\n",
      "    12    13    14    15    16    17    18    19    20    21    22    23\n",
      "    24    25    26    27    28    29    30    31    32    33    34    35\n",
      "    36    37    38    39    40    41    42    43    44    45    46    47\n",
      "    48    49    50    51    52    53    54    55    56    57    58    59\n",
      "    60    61    62    63    64    65    66    67    68    69    70    71\n",
      "    72    73    74    75    76    77    78    79    80    81    82    83\n",
      "    84    85    86    87    88    89    90    91    92    93    94    95\n",
      "    96    97    98    99   100   101   102   103   104   105   106   107\n",
      "   108   109   110   111   112   113   114   115   116   117   118   119\n",
      "   120   121   122   123   124   125   126   127   128   129   130   131\n",
      "   132   133   134   135   136   137   138   139   140   141   142   143\n",
      "   144   145   146   147   148   149   150   151   152   153   154   155\n",
      "   156   157   158   159   160   161   162   163   164   165   166   167\n",
      "   168   169   170   171   172   173   174   175   176   177   178   179\n",
      "   180   181   182   183   184   185   186   187   188   189   190   191\n",
      "   192   193   194   195   196   197   198   199   200   201   202   203\n",
      "   204   205   206   207   208   209   210   211   212   213   214   215\n",
      "   216   217   218   219   220   221   222   223   224   225   226   227\n",
      "   228   229   230   231   232   233   234   235   236   237   238   239\n",
      "   240   241   242   243   244   245   246   247   248   249   250   251\n",
      "   252   253   254   255   256   257   258   259   260   261   262   264\n",
      "   265   266   267   268   269   270   271   272   273   274   275   276\n",
      "   277   278   279   280   281   282   283   284   285   286   287   288\n",
      "   289   290   292   293   294   295   296   297   298   299   300   301\n",
      "   303   304   305   306   307   308   309   310   311   313   314   315\n",
      "   316   317   318   320   321   322   323   324   325   326   328   329\n",
      "   330   331   332   333   334   335   336   337   338   339   340   341\n",
      "   343   344   345   346   347   348   349   350   351   352   353   354\n",
      "   355   356   357   358   360   361   362   363   364   365   367   368\n",
      "   370   371   374   375   376   377   379   380   381   382   385   386\n",
      "   387   388   390   392   394   396   398   399   400   401   405   408\n",
      "   409   411   416   420   421   425   426   428   430   431   435   440\n",
      "   442   445   449   450   454   457   459   460   475   476   487   489\n",
      "   490   500   504   505   507   508   510   514   515   517   519   520\n",
      "   521   525   540   541   544   550   551   553   560   572   579   580\n",
      "   584   585   600   601   602   603   604   606   610   612   620   640\n",
      "   645   650   651   671   678   682   685   696   700   702   703   732\n",
      "   743   750   751   754   771   776   800   805   850   851   871   900\n",
      "   902   903   907   909   923   950   952   953   998   999  1000  1001\n",
      "  1002  1003  1004  1005  1011  1012  1016  1017  1021  1024  1054  1055\n",
      "  1056  1062  1079  1082  1090  1100  1103  1105  1115  1120  1149  1151\n",
      "  1158  1160  1162  1164  1199  1200  1202  1221  1223  1230  1239  1240\n",
      "  1241  1250  1256  1275  1288  1299  1300  1312  1317  1324  1339  1360\n",
      "  1362  1363  1367  1390  1398  1399  1400  1401  1403  1405  1416  1432\n",
      "  1433  1436  1500  1501  1502  1503  1506  1521  1548  1595  1596  1597\n",
      "  1598  1600  1625  1631  1653  1659  1689  1700  1701  1703  1704  1707\n",
      "  1753  1771  1779  1780  1781  1783  1793  1796  1799  1800  1801  1870\n",
      "  1895  1896  1900  1920  1922  1933  1937  1968  1988  1992  1993  1995\n",
      "  1998  1999  2000  2004  2005  2007  2009  2016  2017  2018  2172  2331\n",
      "  2340  2389  2402  2461  2598  2729  2789  2792  2799  3199  3454  3500\n",
      "  3750  4400  4507  4700  5411  5420  5575  5809  5815  5867  6006  6010\n",
      "  6011  6012  6018  6045  6062  6226  6512  6920  7508  7511  7512  7515\n",
      "  7518  7529  7544  8259  8404  8500  9007  9012  9013 10000 10110 10218\n",
      " 10311 10520 10522 10710 10910 10912 11011 11025 11111 11509 11530 11635\n",
      " 12012 12510 12512 12684 13616 13636 14009 15001 15017 15020 15033 16051\n",
      " 16311 16312 17011 17019 17410 17700 17932 19208 19211 19312 20000]\n"
     ]
    }
   ],
   "source": [
    "print('Power ', autos ['Power'].sort_values().unique())"
   ]
  },
  {
   "cell_type": "markdown",
   "metadata": {},
   "source": [
    "Машины с мощностью от 0 до 10 л.с. могут иметь место при отсутствии двигателя, его неисправности, либо сильной изношенности, но тем не менее присутствовать на рынке продаж и находить своего покупателя, а вот автомобили мощностью более 400 л.с. - явный выброс в данных, который подлежит устранению.\n",
    "    </div>"
   ]
  },
  {
   "cell_type": "code",
   "execution_count": 553,
   "metadata": {},
   "outputs": [
    {
     "data": {
      "text/plain": [
       "count    326673.000000\n",
       "mean        108.621288\n",
       "std          61.369829\n",
       "min           0.000000\n",
       "25%          71.000000\n",
       "50%         105.000000\n",
       "75%         143.000000\n",
       "max         400.000000\n",
       "Name: Power, dtype: float64"
      ]
     },
     "execution_count": 553,
     "metadata": {},
     "output_type": "execute_result"
    }
   ],
   "source": [
    "autos = autos.query('Power <= 400').reset_index(drop=True)\n",
    "autos['Power'].describe()"
   ]
  },
  {
   "cell_type": "markdown",
   "metadata": {},
   "source": [
    "Аномалии и выбросы по столбцу \"Power\" устранены."
   ]
  },
  {
   "cell_type": "markdown",
   "metadata": {},
   "source": [
    "##### 'Kilometer' - пробег (км)"
   ]
  },
  {
   "cell_type": "code",
   "execution_count": 554,
   "metadata": {},
   "outputs": [
    {
     "name": "stdout",
     "output_type": "stream",
     "text": [
      "[  5000  10000  20000  30000  40000  50000  60000  70000  80000  90000\n",
      " 100000 125000 150000]\n"
     ]
    },
    {
     "data": {
      "text/plain": [
       "count    326673.000000\n",
       "mean     128362.169509\n",
       "std       37244.446795\n",
       "min        5000.000000\n",
       "25%      125000.000000\n",
       "50%      150000.000000\n",
       "75%      150000.000000\n",
       "max      150000.000000\n",
       "Name: Kilometer, dtype: float64"
      ]
     },
     "execution_count": 554,
     "metadata": {},
     "output_type": "execute_result"
    },
    {
     "data": {
      "image/png": "[encoded data removed]",
      "text/plain": [
       "<Figure size 432x288 with 1 Axes>"
      ]
     },
     "metadata": {
      "needs_background": "light"
     },
     "output_type": "display_data"
    }
   ],
   "source": [
    "print(autos['Kilometer'].sort_values().unique())\n",
    "autos['Kilometer'].hist()\n",
    "autos['Kilometer'].describe()"
   ]
  },
  {
   "cell_type": "markdown",
   "metadata": {},
   "source": [
    "Аномалий в признаке 'Kilometer' не выявлено, данные вполне реалистичны, оставляем их без измененя."
   ]
  },
  {
   "cell_type": "markdown",
   "metadata": {},
   "source": [
    "Мы обработали признаки, представленные числовыми данными, теперь изучим категориальные переменные, еще раз посмотрев на наличие пропусков в датасете."
   ]
  },
  {
   "cell_type": "code",
   "execution_count": 555,
   "metadata": {},
   "outputs": [
    {
     "data": {
      "text/plain": [
       "Price                   0\n",
       "VehicleType         18861\n",
       "RegistrationYear        0\n",
       "Gearbox             14577\n",
       "Power                   0\n",
       "Model               15112\n",
       "Kilometer               0\n",
       "FuelType            23033\n",
       "Brand                   0\n",
       "Repaired            58263\n",
       "dtype: int64"
      ]
     },
     "execution_count": 555,
     "metadata": {},
     "output_type": "execute_result"
    }
   ],
   "source": [
    "autos.isna().sum()"
   ]
  },
  {
   "cell_type": "markdown",
   "metadata": {},
   "source": [
    "С учетом удаления из отдельных столбцов аномальных зачений пропуски все еще остались по столбцам 'VehicleType', 'Gearbox', 'Model', 'FuelType', 'Repaired'. Их замену осуществим методами, соответствующими информативности каждого признака.  \n",
    "    "
   ]
  },
  {
   "cell_type": "markdown",
   "metadata": {},
   "source": [
    "В столбцах 'VehicleType'— тип автомобильного кузова и 'FuelType' - тип топлива пропущенные значения заменим видами кузова и топлива, наиболее характерными для каждой модели автомобиля. \n",
    "\n",
    "Для этого создадим датафреймы, в которых в качестве индекса передадим тип кузова (тип топлива), столбцами станут модели автомобилей. Данные сгруппируем по количеству  моделей каждого вида с определенным типом кузова (использующим определенный вид топлива).  \n",
    "\n",
    "После этого напишем функцию для замены пропущенного значения, в теле которой пропишем условие: тип кузова (топлива) определенной модели автомобиля, имеющий значение NaN, заменить индексом (типом кузова, топлива), в котором модель имеет максимальное значение. "
   ]
  },
  {
   "cell_type": "code",
   "execution_count": 556,
   "metadata": {},
   "outputs": [
    {
     "data": {
      "text/plain": [
       "sedan          88862\n",
       "small          77351\n",
       "wagon          63327\n",
       "bus            28238\n",
       "convertible    19793\n",
       "coupe          15507\n",
       "suv            11703\n",
       "other           3031\n",
       "Name: VehicleType, dtype: int64"
      ]
     },
     "execution_count": 556,
     "metadata": {},
     "output_type": "execute_result"
    }
   ],
   "source": [
    "autos['VehicleType'].value_counts()# изучаем данные столбца 'VehicleType'"
   ]
  },
  {
   "cell_type": "code",
   "execution_count": 557,
   "metadata": {},
   "outputs": [
    {
     "data": {
      "text/html": [
       "<div>\n",
       "<style scoped>\n",
       "    .dataframe tbody tr th:only-of-type {\n",
       "        vertical-align: middle;\n",
       "    }\n",
       "\n",
       "    .dataframe tbody tr th {\n",
       "        vertical-align: top;\n",
       "    }\n",
       "\n",
       "    .dataframe thead th {\n",
       "        text-align: right;\n",
       "    }\n",
       "</style>\n",
       "<table border=\"1\" class=\"dataframe\">\n",
       "  <thead>\n",
       "    <tr style=\"text-align: right;\">\n",
       "      <th>Brand</th>\n",
       "      <th>alfa_romeo</th>\n",
       "      <th>audi</th>\n",
       "      <th>bmw</th>\n",
       "      <th>chevrolet</th>\n",
       "      <th>chrysler</th>\n",
       "      <th>citroen</th>\n",
       "      <th>dacia</th>\n",
       "      <th>daewoo</th>\n",
       "      <th>daihatsu</th>\n",
       "      <th>fiat</th>\n",
       "      <th>...</th>\n",
       "      <th>seat</th>\n",
       "      <th>skoda</th>\n",
       "      <th>smart</th>\n",
       "      <th>sonstige_autos</th>\n",
       "      <th>subaru</th>\n",
       "      <th>suzuki</th>\n",
       "      <th>toyota</th>\n",
       "      <th>trabant</th>\n",
       "      <th>volkswagen</th>\n",
       "      <th>volvo</th>\n",
       "    </tr>\n",
       "    <tr>\n",
       "      <th>VehicleType</th>\n",
       "      <th></th>\n",
       "      <th></th>\n",
       "      <th></th>\n",
       "      <th></th>\n",
       "      <th></th>\n",
       "      <th></th>\n",
       "      <th></th>\n",
       "      <th></th>\n",
       "      <th></th>\n",
       "      <th></th>\n",
       "      <th></th>\n",
       "      <th></th>\n",
       "      <th></th>\n",
       "      <th></th>\n",
       "      <th></th>\n",
       "      <th></th>\n",
       "      <th></th>\n",
       "      <th></th>\n",
       "      <th></th>\n",
       "      <th></th>\n",
       "      <th></th>\n",
       "    </tr>\n",
       "  </thead>\n",
       "  <tbody>\n",
       "    <tr>\n",
       "      <th>bus</th>\n",
       "      <td>NaN</td>\n",
       "      <td>10.0</td>\n",
       "      <td>6.0</td>\n",
       "      <td>154.0</td>\n",
       "      <td>409.0</td>\n",
       "      <td>1247.0</td>\n",
       "      <td>50.0</td>\n",
       "      <td>26.0</td>\n",
       "      <td>34.0</td>\n",
       "      <td>817.0</td>\n",
       "      <td>...</td>\n",
       "      <td>610.0</td>\n",
       "      <td>231.0</td>\n",
       "      <td>1.0</td>\n",
       "      <td>184.0</td>\n",
       "      <td>17.0</td>\n",
       "      <td>27.0</td>\n",
       "      <td>446.0</td>\n",
       "      <td>NaN</td>\n",
       "      <td>9351.0</td>\n",
       "      <td>NaN</td>\n",
       "    </tr>\n",
       "    <tr>\n",
       "      <th>convertible</th>\n",
       "      <td>177.0</td>\n",
       "      <td>1610.0</td>\n",
       "      <td>3188.0</td>\n",
       "      <td>13.0</td>\n",
       "      <td>227.0</td>\n",
       "      <td>112.0</td>\n",
       "      <td>NaN</td>\n",
       "      <td>1.0</td>\n",
       "      <td>17.0</td>\n",
       "      <td>504.0</td>\n",
       "      <td>...</td>\n",
       "      <td>NaN</td>\n",
       "      <td>4.0</td>\n",
       "      <td>1124.0</td>\n",
       "      <td>319.0</td>\n",
       "      <td>1.0</td>\n",
       "      <td>35.0</td>\n",
       "      <td>63.0</td>\n",
       "      <td>36.0</td>\n",
       "      <td>2877.0</td>\n",
       "      <td>75.0</td>\n",
       "    </tr>\n",
       "    <tr>\n",
       "      <th>coupe</th>\n",
       "      <td>225.0</td>\n",
       "      <td>1459.0</td>\n",
       "      <td>3654.0</td>\n",
       "      <td>88.0</td>\n",
       "      <td>47.0</td>\n",
       "      <td>147.0</td>\n",
       "      <td>NaN</td>\n",
       "      <td>8.0</td>\n",
       "      <td>NaN</td>\n",
       "      <td>167.0</td>\n",
       "      <td>...</td>\n",
       "      <td>84.0</td>\n",
       "      <td>10.0</td>\n",
       "      <td>336.0</td>\n",
       "      <td>218.0</td>\n",
       "      <td>8.0</td>\n",
       "      <td>7.0</td>\n",
       "      <td>220.0</td>\n",
       "      <td>3.0</td>\n",
       "      <td>1708.0</td>\n",
       "      <td>67.0</td>\n",
       "    </tr>\n",
       "    <tr>\n",
       "      <th>other</th>\n",
       "      <td>13.0</td>\n",
       "      <td>105.0</td>\n",
       "      <td>218.0</td>\n",
       "      <td>43.0</td>\n",
       "      <td>9.0</td>\n",
       "      <td>111.0</td>\n",
       "      <td>6.0</td>\n",
       "      <td>4.0</td>\n",
       "      <td>10.0</td>\n",
       "      <td>178.0</td>\n",
       "      <td>...</td>\n",
       "      <td>62.0</td>\n",
       "      <td>26.0</td>\n",
       "      <td>8.0</td>\n",
       "      <td>206.0</td>\n",
       "      <td>5.0</td>\n",
       "      <td>13.0</td>\n",
       "      <td>18.0</td>\n",
       "      <td>5.0</td>\n",
       "      <td>714.0</td>\n",
       "      <td>5.0</td>\n",
       "    </tr>\n",
       "    <tr>\n",
       "      <th>sedan</th>\n",
       "      <td>904.0</td>\n",
       "      <td>10587.0</td>\n",
       "      <td>17123.0</td>\n",
       "      <td>222.0</td>\n",
       "      <td>273.0</td>\n",
       "      <td>686.0</td>\n",
       "      <td>100.0</td>\n",
       "      <td>104.0</td>\n",
       "      <td>47.0</td>\n",
       "      <td>873.0</td>\n",
       "      <td>...</td>\n",
       "      <td>1731.0</td>\n",
       "      <td>903.0</td>\n",
       "      <td>27.0</td>\n",
       "      <td>455.0</td>\n",
       "      <td>163.0</td>\n",
       "      <td>177.0</td>\n",
       "      <td>884.0</td>\n",
       "      <td>196.0</td>\n",
       "      <td>19231.0</td>\n",
       "      <td>633.0</td>\n",
       "    </tr>\n",
       "    <tr>\n",
       "      <th>small</th>\n",
       "      <td>233.0</td>\n",
       "      <td>1528.0</td>\n",
       "      <td>428.0</td>\n",
       "      <td>574.0</td>\n",
       "      <td>12.0</td>\n",
       "      <td>1554.0</td>\n",
       "      <td>221.0</td>\n",
       "      <td>265.0</td>\n",
       "      <td>501.0</td>\n",
       "      <td>5153.0</td>\n",
       "      <td>...</td>\n",
       "      <td>3040.0</td>\n",
       "      <td>1111.0</td>\n",
       "      <td>3227.0</td>\n",
       "      <td>236.0</td>\n",
       "      <td>114.0</td>\n",
       "      <td>958.0</td>\n",
       "      <td>1576.0</td>\n",
       "      <td>53.0</td>\n",
       "      <td>17839.0</td>\n",
       "      <td>7.0</td>\n",
       "    </tr>\n",
       "    <tr>\n",
       "      <th>suv</th>\n",
       "      <td>NaN</td>\n",
       "      <td>176.0</td>\n",
       "      <td>800.0</td>\n",
       "      <td>375.0</td>\n",
       "      <td>22.0</td>\n",
       "      <td>35.0</td>\n",
       "      <td>214.0</td>\n",
       "      <td>1.0</td>\n",
       "      <td>46.0</td>\n",
       "      <td>24.0</td>\n",
       "      <td>...</td>\n",
       "      <td>4.0</td>\n",
       "      <td>173.0</td>\n",
       "      <td>NaN</td>\n",
       "      <td>418.0</td>\n",
       "      <td>59.0</td>\n",
       "      <td>741.0</td>\n",
       "      <td>436.0</td>\n",
       "      <td>1.0</td>\n",
       "      <td>1305.0</td>\n",
       "      <td>219.0</td>\n",
       "    </tr>\n",
       "    <tr>\n",
       "      <th>wagon</th>\n",
       "      <td>448.0</td>\n",
       "      <td>10733.0</td>\n",
       "      <td>7711.0</td>\n",
       "      <td>105.0</td>\n",
       "      <td>240.0</td>\n",
       "      <td>613.0</td>\n",
       "      <td>250.0</td>\n",
       "      <td>44.0</td>\n",
       "      <td>16.0</td>\n",
       "      <td>435.0</td>\n",
       "      <td>...</td>\n",
       "      <td>385.0</td>\n",
       "      <td>2679.0</td>\n",
       "      <td>9.0</td>\n",
       "      <td>122.0</td>\n",
       "      <td>289.0</td>\n",
       "      <td>87.0</td>\n",
       "      <td>568.0</td>\n",
       "      <td>70.0</td>\n",
       "      <td>12321.0</td>\n",
       "      <td>1924.0</td>\n",
       "    </tr>\n",
       "  </tbody>\n",
       "</table>\n",
       "<p>8 rows × 40 columns</p>\n",
       "</div>"
      ],
      "text/plain": [
       "Brand        alfa_romeo     audi      bmw  chevrolet  chrysler  citroen  \\\n",
       "VehicleType                                                               \n",
       "bus                 NaN     10.0      6.0      154.0     409.0   1247.0   \n",
       "convertible       177.0   1610.0   3188.0       13.0     227.0    112.0   \n",
       "coupe             225.0   1459.0   3654.0       88.0      47.0    147.0   \n",
       "other              13.0    105.0    218.0       43.0       9.0    111.0   \n",
       "sedan             904.0  10587.0  17123.0      222.0     273.0    686.0   \n",
       "small             233.0   1528.0    428.0      574.0      12.0   1554.0   \n",
       "suv                 NaN    176.0    800.0      375.0      22.0     35.0   \n",
       "wagon             448.0  10733.0   7711.0      105.0     240.0    613.0   \n",
       "\n",
       "Brand        dacia  daewoo  daihatsu    fiat  ...    seat   skoda   smart  \\\n",
       "VehicleType                                   ...                           \n",
       "bus           50.0    26.0      34.0   817.0  ...   610.0   231.0     1.0   \n",
       "convertible    NaN     1.0      17.0   504.0  ...     NaN     4.0  1124.0   \n",
       "coupe          NaN     8.0       NaN   167.0  ...    84.0    10.0   336.0   \n",
       "other          6.0     4.0      10.0   178.0  ...    62.0    26.0     8.0   \n",
       "sedan        100.0   104.0      47.0   873.0  ...  1731.0   903.0    27.0   \n",
       "small        221.0   265.0     501.0  5153.0  ...  3040.0  1111.0  3227.0   \n",
       "suv          214.0     1.0      46.0    24.0  ...     4.0   173.0     NaN   \n",
       "wagon        250.0    44.0      16.0   435.0  ...   385.0  2679.0     9.0   \n",
       "\n",
       "Brand        sonstige_autos  subaru  suzuki  toyota  trabant  volkswagen  \\\n",
       "VehicleType                                                                \n",
       "bus                   184.0    17.0    27.0   446.0      NaN      9351.0   \n",
       "convertible           319.0     1.0    35.0    63.0     36.0      2877.0   \n",
       "coupe                 218.0     8.0     7.0   220.0      3.0      1708.0   \n",
       "other                 206.0     5.0    13.0    18.0      5.0       714.0   \n",
       "sedan                 455.0   163.0   177.0   884.0    196.0     19231.0   \n",
       "small                 236.0   114.0   958.0  1576.0     53.0     17839.0   \n",
       "suv                   418.0    59.0   741.0   436.0      1.0      1305.0   \n",
       "wagon                 122.0   289.0    87.0   568.0     70.0     12321.0   \n",
       "\n",
       "Brand         volvo  \n",
       "VehicleType          \n",
       "bus             NaN  \n",
       "convertible    75.0  \n",
       "coupe          67.0  \n",
       "other           5.0  \n",
       "sedan         633.0  \n",
       "small           7.0  \n",
       "suv           219.0  \n",
       "wagon        1924.0  \n",
       "\n",
       "[8 rows x 40 columns]"
      ]
     },
     "execution_count": 557,
     "metadata": {},
     "output_type": "execute_result"
    }
   ],
   "source": [
    "# Создаем датафрейм\n",
    "\n",
    "autos_VehicleType = autos.pivot_table(index='VehicleType',columns='Brand',values='Price', aggfunc='count')\n",
    "autos_VehicleType "
   ]
  },
  {
   "cell_type": "code",
   "execution_count": 558,
   "metadata": {},
   "outputs": [
    {
     "data": {
      "text/plain": [
       "0"
      ]
     },
     "metadata": {},
     "output_type": "display_data"
    },
    {
     "data": {
      "text/plain": [
       "sedan          97739\n",
       "small          85600\n",
       "wagon          64813\n",
       "bus            28308\n",
       "convertible    19825\n",
       "coupe          15507\n",
       "suv            11850\n",
       "other           3031\n",
       "Name: VehicleType, dtype: int64"
      ]
     },
     "execution_count": 558,
     "metadata": {},
     "output_type": "execute_result"
    }
   ],
   "source": [
    "# Пишем функцию, проверяем замену пропусков в столбце 'VehicleType'\n",
    "\n",
    "autos.fillna({'VehicleType':0},inplace=True)\n",
    "\n",
    "def replacement(row, row_number, autos_VehicleType):\n",
    "    brand = row[8]\n",
    "    fill_value = row[row_number]\n",
    "    if row[row_number] == 0:\n",
    "        fill_value = autos_VehicleType[brand].idxmax()\n",
    "    return fill_value\n",
    "\n",
    "autos['VehicleType'] = autos.apply(replacement, args=[1, autos_VehicleType], axis=1)\n",
    "display(autos['VehicleType'].isna().sum())\n",
    "autos['VehicleType'].value_counts()"
   ]
  },
  {
   "cell_type": "markdown",
   "metadata": {},
   "source": [
    "Применим написанную функцию replacement для замены пропусков встолбце 'FuelType'"
   ]
  },
  {
   "cell_type": "code",
   "execution_count": 559,
   "metadata": {},
   "outputs": [
    {
     "name": "stdout",
     "output_type": "stream",
     "text": [
      "FuelType ['cng' 'electric' 'gasoline' 'hybrid' 'lpg' 'other' 'petrol' nan]\n",
      "Пропусков в столбце \"FuelType\": 23033\n"
     ]
    },
    {
     "data": {
      "text/plain": [
       "petrol      203106\n",
       "gasoline     94557\n",
       "lpg           4999\n",
       "cng            527\n",
       "hybrid         219\n",
       "other          147\n",
       "electric        85\n",
       "Name: FuelType, dtype: int64"
      ]
     },
     "execution_count": 559,
     "metadata": {},
     "output_type": "execute_result"
    }
   ],
   "source": [
    "# изучаем данные столбца 'FuelType'\n",
    "\n",
    "print('FuelType', autos['FuelType'].sort_values().unique())\n",
    "print('Пропусков в столбце \"FuelType\":', autos['FuelType'].isna().sum())\n",
    "autos['FuelType'].value_counts()"
   ]
  },
  {
   "cell_type": "code",
   "execution_count": 560,
   "metadata": {},
   "outputs": [
    {
     "data": {
      "text/plain": [
       "0"
      ]
     },
     "metadata": {},
     "output_type": "display_data"
    },
    {
     "data": {
      "text/plain": [
       "petrol      226118\n",
       "gasoline     94578\n",
       "lpg           4999\n",
       "cng            527\n",
       "hybrid         219\n",
       "other          147\n",
       "electric        85\n",
       "Name: FuelType, dtype: int64"
      ]
     },
     "execution_count": 560,
     "metadata": {},
     "output_type": "execute_result"
    }
   ],
   "source": [
    "# Создаем датафрейм, применяем функцию replacement к столбцу 'FuelType' и проверяем замену пропусков\n",
    "\n",
    "autos.fillna({'FuelType':0},inplace=True)\n",
    "autos_FuelType =  autos.pivot_table(index='FuelType',columns='Brand',values='Price', aggfunc='count')\n",
    "\n",
    "autos['FuelType'] = autos.apply(replacement, args=[7, autos_FuelType], axis=1)\n",
    "display(autos['FuelType'].isna().sum())\n",
    "autos['FuelType'].value_counts()"
   ]
  },
  {
   "cell_type": "code",
   "execution_count": 561,
   "metadata": {
    "scrolled": true
   },
   "outputs": [
    {
     "name": "stdout",
     "output_type": "stream",
     "text": [
      "<class 'pandas.core.frame.DataFrame'>\n",
      "RangeIndex: 326673 entries, 0 to 326672\n",
      "Data columns (total 10 columns):\n",
      " #   Column            Non-Null Count   Dtype \n",
      "---  ------            --------------   ----- \n",
      " 0   Price             326673 non-null  int64 \n",
      " 1   VehicleType       326673 non-null  object\n",
      " 2   RegistrationYear  326673 non-null  int64 \n",
      " 3   Gearbox           312096 non-null  object\n",
      " 4   Power             326673 non-null  int64 \n",
      " 5   Model             311561 non-null  object\n",
      " 6   Kilometer         326673 non-null  int64 \n",
      " 7   FuelType          326673 non-null  object\n",
      " 8   Brand             326673 non-null  object\n",
      " 9   Repaired          268410 non-null  object\n",
      "dtypes: int64(4), object(6)\n",
      "memory usage: 24.9+ MB\n"
     ]
    }
   ],
   "source": [
    "autos.info()"
   ]
  },
  {
   "cell_type": "markdown",
   "metadata": {},
   "source": [
    "##### 'Model'- модель автомобиля"
   ]
  },
  {
   "cell_type": "code",
   "execution_count": 562,
   "metadata": {},
   "outputs": [
    {
     "name": "stdout",
     "output_type": "stream",
     "text": [
      "Model ['100' '145' '147' '156' '159' '1_reihe' '1er' '200' '2_reihe' '300c'\n",
      " '3_reihe' '3er' '4_reihe' '500' '5_reihe' '5er' '601' '6_reihe' '6er'\n",
      " '7er' '80' '850' '90' '900' '9000' '911' 'a1' 'a2' 'a3' 'a4' 'a5' 'a6'\n",
      " 'a8' 'a_klasse' 'accord' 'agila' 'alhambra' 'almera' 'altea' 'amarok'\n",
      " 'antara' 'arosa' 'astra' 'auris' 'avensis' 'aveo' 'aygo' 'b_klasse'\n",
      " 'b_max' 'beetle' 'berlingo' 'bora' 'boxster' 'bravo' 'c1' 'c2' 'c3' 'c4'\n",
      " 'c5' 'c_klasse' 'c_max' 'c_reihe' 'caddy' 'calibra' 'captiva' 'carisma'\n",
      " 'carnival' 'cayenne' 'cc' 'ceed' 'charade' 'cherokee' 'citigo' 'civic'\n",
      " 'cl' 'clio' 'clk' 'clubman' 'colt' 'combo' 'cooper' 'cordoba' 'corolla'\n",
      " 'corsa' 'cr_reihe' 'croma' 'crossfire' 'cuore' 'cx_reihe' 'defender'\n",
      " 'delta' 'discovery' 'doblo' 'ducato' 'duster' 'e_klasse' 'elefantino'\n",
      " 'eos' 'escort' 'espace' 'exeo' 'fabia' 'fiesta' 'focus' 'forester'\n",
      " 'forfour' 'fortwo' 'fox' 'freelander' 'fusion' 'g_klasse' 'galant'\n",
      " 'galaxy' 'getz' 'gl' 'glk' 'golf' 'grand' 'i3' 'i_reihe' 'ibiza'\n",
      " 'impreza' 'insignia' 'jazz' 'jetta' 'jimny' 'juke' 'justy' 'ka' 'kadett'\n",
      " 'kaefer' 'kalina' 'kalos' 'kangoo' 'kappa' 'kuga' 'laguna' 'lancer'\n",
      " 'lanos' 'legacy' 'leon' 'lodgy' 'logan' 'lupo' 'lybra' 'm_klasse'\n",
      " 'm_reihe' 'materia' 'matiz' 'megane' 'meriva' 'micra' 'mii' 'modus'\n",
      " 'mondeo' 'move' 'musa' 'mustang' 'mx_reihe' 'navara' 'niva' 'note'\n",
      " 'nubira' 'octavia' 'omega' 'one' 'other' 'outlander' 'pajero' 'panda'\n",
      " 'passat' 'phaeton' 'picanto' 'polo' 'primera' 'ptcruiser' 'punto' 'q3'\n",
      " 'q5' 'q7' 'qashqai' 'r19' 'range_rover' 'range_rover_evoque'\n",
      " 'range_rover_sport' 'rangerover' 'rav' 'rio' 'roadster' 'roomster'\n",
      " 'rx_reihe' 's60' 's_klasse' 's_max' 's_type' 'samara' 'sandero' 'santa'\n",
      " 'scenic' 'scirocco' 'seicento' 'serie_1' 'serie_2' 'serie_3' 'sharan'\n",
      " 'signum' 'sirion' 'sl' 'slk' 'sorento' 'spark' 'spider' 'sportage'\n",
      " 'sprinter' 'stilo' 'superb' 'swift' 'terios' 'tigra' 'tiguan' 'toledo'\n",
      " 'touareg' 'touran' 'transit' 'transporter' 'tt' 'tucson' 'twingo' 'up'\n",
      " 'v40' 'v50' 'v60' 'v70' 'v_klasse' 'vectra' 'verso' 'viano' 'vito'\n",
      " 'vivaro' 'voyager' 'wrangler' 'x_reihe' 'x_trail' 'x_type' 'xc_reihe'\n",
      " 'yaris' 'yeti' 'ypsilon' 'z_reihe' 'zafira' nan]\n"
     ]
    }
   ],
   "source": [
    "print('Model', autos['Model'].sort_values().unique())"
   ]
  },
  {
   "cell_type": "markdown",
   "metadata": {},
   "source": [
    "Пропуски в столбце 'Model' заменим на 'unknown'."
   ]
  },
  {
   "cell_type": "code",
   "execution_count": 563,
   "metadata": {},
   "outputs": [
    {
     "name": "stdout",
     "output_type": "stream",
     "text": [
      "Пропусков в столбце \"Model\": 0\n"
     ]
    }
   ],
   "source": [
    "autos['Model'] = autos['Model'].fillna('unknown')\n",
    "print('Пропусков в столбце \"Model\":', autos['Model'] .isna().sum())"
   ]
  },
  {
   "cell_type": "markdown",
   "metadata": {},
   "source": [
    "Из столбца 'Model' также исключим модели, представленные в количестве, которое не подпадает под определение рынка автомобилей. На фоне более 300 тыс. объектов будем считать, что понятием рынок охватывается более 10 автомобилей определенной модели. Следуя этой логике исключим из исходных данных модели, представленные в количестве 10 и мньше машин. "
   ]
  },
  {
   "cell_type": "code",
   "execution_count": 564,
   "metadata": {},
   "outputs": [
    {
     "data": {
      "text/plain": [
       "delta                 31\n",
       "charade               26\n",
       "b_max                 26\n",
       "9000                  24\n",
       "musa                  22\n",
       "materia               18\n",
       "200                   17\n",
       "kappa                 14\n",
       "q3                    13\n",
       "gl                    12\n",
       "amarok                12\n",
       "samara                11\n",
       "i3                     8\n",
       "serie_2                7\n",
       "elefantino             7\n",
       "kalina                 6\n",
       "rangerover             3\n",
       "serie_3                3\n",
       "range_rover_evoque     2\n",
       "serie_1                1\n",
       "Name: Model, dtype: int64"
      ]
     },
     "execution_count": 564,
     "metadata": {},
     "output_type": "execute_result"
    }
   ],
   "source": [
    "autos['Model'].value_counts().tail(20)"
   ]
  },
  {
   "cell_type": "code",
   "execution_count": 565,
   "metadata": {},
   "outputs": [],
   "source": [
    "autos = autos.query('Model != \"serie_2\" and Model != \"kalina\" and Model != \"samara\"and Model != \"i3\" \\\n",
    "                     and Model != \"rangerover\" and Model != \"serie_3\" and Model != \"range_rover_evoque\"\\\n",
    "                     and Model != \"amarok\" and Model != \"gl\" and Model != \"elefantino\" and Model != \"serie_1\"').reset_index(drop=True)# "
   ]
  },
  {
   "cell_type": "markdown",
   "metadata": {},
   "source": [
    "##### 'Gearbox'— тип коробки передач"
   ]
  },
  {
   "cell_type": "markdown",
   "metadata": {},
   "source": [
    "Проверяем пропуски в столбце 'Gearbox' и изучаем данные"
   ]
  },
  {
   "cell_type": "code",
   "execution_count": 566,
   "metadata": {},
   "outputs": [
    {
     "name": "stdout",
     "output_type": "stream",
     "text": [
      "Пропусков в столбце \"Gearbox\": 14576\n",
      "Gearbox ['auto' 'manual' nan]\n",
      "manual    249561\n",
      "auto       62464\n",
      "Name: Gearbox, dtype: int64\n"
     ]
    }
   ],
   "source": [
    "print('Пропусков в столбце \"Gearbox\":', autos['Gearbox'] .isna().sum())\n",
    "print('Gearbox', autos['Gearbox'].sort_values().unique())\n",
    "print(autos['Gearbox'].value_counts())"
   ]
  },
  {
   "cell_type": "markdown",
   "metadata": {},
   "source": [
    "Подавляющее большинство автомобилей, выставленных на продажу имеют тип коробки передач 'manual', им и заменим пропущенные значения."
   ]
  },
  {
   "cell_type": "code",
   "execution_count": 567,
   "metadata": {},
   "outputs": [
    {
     "name": "stdout",
     "output_type": "stream",
     "text": [
      "Пропусков в столбце \"Gearbox\": 0\n",
      "Gearbox ['auto' 'manual']\n",
      "manual    264137\n",
      "auto       62464\n",
      "Name: Gearbox, dtype: int64\n"
     ]
    }
   ],
   "source": [
    "autos['Gearbox'] = autos['Gearbox'].fillna('manual')\n",
    "print('Пропусков в столбце \"Gearbox\":', autos['Gearbox'] .isna().sum())\n",
    "print('Gearbox', autos['Gearbox'].sort_values().unique())\n",
    "print(autos['Gearbox'].value_counts())"
   ]
  },
  {
   "cell_type": "markdown",
   "metadata": {},
   "source": [
    "##### 'Repaired'— была машина в ремонте или нет"
   ]
  },
  {
   "cell_type": "markdown",
   "metadata": {},
   "source": [
    "Проверяем пропуски в столбце 'Repaired' и изучаем данные"
   ]
  },
  {
   "cell_type": "code",
   "execution_count": 568,
   "metadata": {},
   "outputs": [
    {
     "name": "stdout",
     "output_type": "stream",
     "text": [
      "Пропусков в столбце \"Repaired\": 58248\n",
      "Repaired ['no' 'yes' nan]\n",
      "no     236032\n",
      "yes     32321\n",
      "Name: Repaired, dtype: int64\n"
     ]
    }
   ],
   "source": [
    "print('Пропусков в столбце \"Repaired\":', autos['Repaired'] .isna().sum())\n",
    "print('Repaired', autos['Repaired'].sort_values().unique())\n",
    "print(autos['Repaired'].value_counts())"
   ]
  },
  {
   "cell_type": "markdown",
   "metadata": {},
   "source": [
    "Автомобилей, которые не ремонтировались, почти в десять раз больше тех, что были в ремонте. Пропущенные в столбце \"Repaired\" значения заменим показателем 'no'. "
   ]
  },
  {
   "cell_type": "code",
   "execution_count": 569,
   "metadata": {},
   "outputs": [
    {
     "name": "stdout",
     "output_type": "stream",
     "text": [
      "Пропусков в столбце \"Repaired\": 0\n",
      "Repaired ['no' 'yes']\n",
      "no     294280\n",
      "yes     32321\n",
      "Name: Repaired, dtype: int64\n"
     ]
    }
   ],
   "source": [
    "autos['Repaired'] = autos['Repaired'].fillna('no')\n",
    "print('Пропусков в столбце \"Repaired\":', autos['Repaired'] .isna().sum())\n",
    "print('Repaired', autos['Repaired'].sort_values().unique())\n",
    "print(autos['Repaired'].value_counts())"
   ]
  },
  {
   "cell_type": "code",
   "execution_count": 570,
   "metadata": {},
   "outputs": [
    {
     "data": {
      "text/plain": [
       "Price               0\n",
       "VehicleType         0\n",
       "RegistrationYear    0\n",
       "Gearbox             0\n",
       "Power               0\n",
       "Model               0\n",
       "Kilometer           0\n",
       "FuelType            0\n",
       "Brand               0\n",
       "Repaired            0\n",
       "dtype: int64"
      ]
     },
     "execution_count": 570,
     "metadata": {},
     "output_type": "execute_result"
    }
   ],
   "source": [
    "autos.isna().sum()"
   ]
  },
  {
   "cell_type": "markdown",
   "metadata": {},
   "source": [
    "Пропуски в данных устранены"
   ]
  },
  {
   "cell_type": "markdown",
   "metadata": {},
   "source": [
    "##### 'Brand' - марка автомобиля"
   ]
  },
  {
   "cell_type": "code",
   "execution_count": 571,
   "metadata": {},
   "outputs": [
    {
     "name": "stdout",
     "output_type": "stream",
     "text": [
      "['alfa_romeo' 'audi' 'bmw' 'chevrolet' 'chrysler' 'citroen' 'dacia'\n",
      " 'daewoo' 'daihatsu' 'fiat' 'ford' 'honda' 'hyundai' 'jaguar' 'jeep' 'kia'\n",
      " 'lada' 'lancia' 'land_rover' 'mazda' 'mercedes_benz' 'mini' 'mitsubishi'\n",
      " 'nissan' 'opel' 'peugeot' 'porsche' 'renault' 'rover' 'saab' 'seat'\n",
      " 'skoda' 'smart' 'sonstige_autos' 'subaru' 'suzuki' 'toyota' 'trabant'\n",
      " 'volkswagen' 'volvo']\n"
     ]
    }
   ],
   "source": [
    "print(autos['Brand'].sort_values().unique())"
   ]
  },
  {
   "cell_type": "markdown",
   "metadata": {},
   "source": [
    "Аномалий по столбцу 'Brand' не выявлено, оставляем данные без изменения."
   ]
  },
  {
   "cell_type": "markdown",
   "metadata": {},
   "source": [
    "Проверяем наличие дубликатов"
   ]
  },
  {
   "cell_type": "code",
   "execution_count": 572,
   "metadata": {},
   "outputs": [
    {
     "name": "stdout",
     "output_type": "stream",
     "text": [
      "Полных дубликатов: 52671\n"
     ]
    }
   ],
   "source": [
    "print(\"Полных дубликатов:\", autos.duplicated().sum())"
   ]
  },
  {
   "cell_type": "markdown",
   "metadata": {},
   "source": [
    "В данных установлено полных 49165 дубликатов. Но в наших данных пропуски в категориальных значениях мы заменяли усередненными данными (по большинству, либо на  'unknown'), количественные характеристики также не являются эксклюзивными. Все это дает основание не исключать полные дубликаты. "
   ]
  },
  {
   "cell_type": "code",
   "execution_count": 573,
   "metadata": {},
   "outputs": [
    {
     "name": "stdout",
     "output_type": "stream",
     "text": [
      "<class 'pandas.core.frame.DataFrame'>\n",
      "RangeIndex: 326601 entries, 0 to 326600\n",
      "Data columns (total 10 columns):\n",
      " #   Column            Non-Null Count   Dtype \n",
      "---  ------            --------------   ----- \n",
      " 0   Price             326601 non-null  int64 \n",
      " 1   VehicleType       326601 non-null  object\n",
      " 2   RegistrationYear  326601 non-null  int64 \n",
      " 3   Gearbox           326601 non-null  object\n",
      " 4   Power             326601 non-null  int64 \n",
      " 5   Model             326601 non-null  object\n",
      " 6   Kilometer         326601 non-null  int64 \n",
      " 7   FuelType          326601 non-null  object\n",
      " 8   Brand             326601 non-null  object\n",
      " 9   Repaired          326601 non-null  object\n",
      "dtypes: int64(4), object(6)\n",
      "memory usage: 24.9+ MB\n"
     ]
    }
   ],
   "source": [
    "autos.info()"
   ]
  },
  {
   "cell_type": "markdown",
   "metadata": {},
   "source": [
    "После предварительной обработки данных у нас осталось 326601 объект. Изучим корреляцию количественных признаков, в первую очередь целевого признака по отношению к остальным."
   ]
  },
  {
   "cell_type": "markdown",
   "metadata": {},
   "source": [
    "Имеется логичная положительная корреляция между ценой и мощьностью автомобиля, ценой и годом регистрации: чем больше мощьность и позднее год регистрации - тем дороже автомобиль. Также вполне логична отрицательная корреляция между ценой и пробегом автомобиля."
   ]
  },
  {
   "cell_type": "code",
   "execution_count": 574,
   "metadata": {},
   "outputs": [
    {
     "data": {
      "text/html": [
       "<div>\n",
       "<style scoped>\n",
       "    .dataframe tbody tr th:only-of-type {\n",
       "        vertical-align: middle;\n",
       "    }\n",
       "\n",
       "    .dataframe tbody tr th {\n",
       "        vertical-align: top;\n",
       "    }\n",
       "\n",
       "    .dataframe thead th {\n",
       "        text-align: right;\n",
       "    }\n",
       "</style>\n",
       "<table border=\"1\" class=\"dataframe\">\n",
       "  <thead>\n",
       "    <tr style=\"text-align: right;\">\n",
       "      <th></th>\n",
       "      <th>Price</th>\n",
       "      <th>RegistrationYear</th>\n",
       "      <th>Power</th>\n",
       "      <th>Kilometer</th>\n",
       "    </tr>\n",
       "  </thead>\n",
       "  <tbody>\n",
       "    <tr>\n",
       "      <th>Price</th>\n",
       "      <td>1.000000</td>\n",
       "      <td>0.442081</td>\n",
       "      <td>0.489000</td>\n",
       "      <td>-0.365253</td>\n",
       "    </tr>\n",
       "    <tr>\n",
       "      <th>RegistrationYear</th>\n",
       "      <td>0.442081</td>\n",
       "      <td>1.000000</td>\n",
       "      <td>0.155019</td>\n",
       "      <td>-0.227979</td>\n",
       "    </tr>\n",
       "    <tr>\n",
       "      <th>Power</th>\n",
       "      <td>0.489000</td>\n",
       "      <td>0.155019</td>\n",
       "      <td>1.000000</td>\n",
       "      <td>0.078918</td>\n",
       "    </tr>\n",
       "    <tr>\n",
       "      <th>Kilometer</th>\n",
       "      <td>-0.365253</td>\n",
       "      <td>-0.227979</td>\n",
       "      <td>0.078918</td>\n",
       "      <td>1.000000</td>\n",
       "    </tr>\n",
       "  </tbody>\n",
       "</table>\n",
       "</div>"
      ],
      "text/plain": [
       "                     Price  RegistrationYear     Power  Kilometer\n",
       "Price             1.000000          0.442081  0.489000  -0.365253\n",
       "RegistrationYear  0.442081          1.000000  0.155019  -0.227979\n",
       "Power             0.489000          0.155019  1.000000   0.078918\n",
       "Kilometer        -0.365253         -0.227979  0.078918   1.000000"
      ]
     },
     "execution_count": 574,
     "metadata": {},
     "output_type": "execute_result"
    }
   ],
   "source": [
    "autos.corr()"
   ]
  },
  {
   "cell_type": "markdown",
   "metadata": {},
   "source": [
    " <b>Вывод:</b>Мы провели предварительную обработку данных, которая заключалась в следующем: \n",
    "\n",
    "устранены аномальные значения в столбцах 'Price', 'RegistrationYear' и 'Power'; \n",
    "\n",
    "пропущенные значения  в столбцах 'VehicleType' и 'FuelType' заменены на типы, используемые в большинстве случаев каждой конкретной моделью автомобиля;\n",
    "\n",
    "пропуски в столбцах  'Repaired' и 'Gearbox', имеющих бинарные значения,  заменены на значения, представленные в большинстве;\n",
    "\n",
    "пропуски по столбцу 'Model' заменили на 'unknown'.\n",
    "    \n",
    "Изучением корреляции количественных признаков установлена логичная положительная корреляция между ценой и мощьностью автомобиля и отрицательная корреляция между ценой и пробегом автомобиля.    "
   ]
  },
  {
   "cell_type": "markdown",
   "metadata": {},
   "source": [
    "### Подготовка признаков для обучения моделей"
   ]
  },
  {
   "cell_type": "markdown",
   "metadata": {},
   "source": [
    "В наборе данных, которые мы обработали для построения модели машинного обучения, 6 категориальных признаков. Для построения модели машинного обучения эти признаки необходимо перевести в количественные. Признаки 'Gearbox' и 'Repaired' содержат всего по два значения. Чтоб минимизировать количество данных, на которых будет обучаться модель, для преобразования 'Gearbox' и 'Repaired' в количественные переменные напишем функцию, которая и категоризирует.   "
   ]
  },
  {
   "cell_type": "code",
   "execution_count": 575,
   "metadata": {},
   "outputs": [
    {
     "name": "stdout",
     "output_type": "stream",
     "text": [
      "1    264137\n",
      "0     62464\n",
      "Name: Gearbox, dtype: int64\n",
      "\n",
      "0    294280\n",
      "1     32321\n",
      "Name: Repaired, dtype: int64\n"
     ]
    },
    {
     "data": {
      "text/html": [
       "<div>\n",
       "<style scoped>\n",
       "    .dataframe tbody tr th:only-of-type {\n",
       "        vertical-align: middle;\n",
       "    }\n",
       "\n",
       "    .dataframe tbody tr th {\n",
       "        vertical-align: top;\n",
       "    }\n",
       "\n",
       "    .dataframe thead th {\n",
       "        text-align: right;\n",
       "    }\n",
       "</style>\n",
       "<table border=\"1\" class=\"dataframe\">\n",
       "  <thead>\n",
       "    <tr style=\"text-align: right;\">\n",
       "      <th></th>\n",
       "      <th>Price</th>\n",
       "      <th>VehicleType</th>\n",
       "      <th>RegistrationYear</th>\n",
       "      <th>Gearbox</th>\n",
       "      <th>Power</th>\n",
       "      <th>Model</th>\n",
       "      <th>Kilometer</th>\n",
       "      <th>FuelType</th>\n",
       "      <th>Brand</th>\n",
       "      <th>Repaired</th>\n",
       "    </tr>\n",
       "  </thead>\n",
       "  <tbody>\n",
       "    <tr>\n",
       "      <th>0</th>\n",
       "      <td>480</td>\n",
       "      <td>sedan</td>\n",
       "      <td>1993</td>\n",
       "      <td>1</td>\n",
       "      <td>0</td>\n",
       "      <td>golf</td>\n",
       "      <td>150000</td>\n",
       "      <td>petrol</td>\n",
       "      <td>volkswagen</td>\n",
       "      <td>0</td>\n",
       "    </tr>\n",
       "    <tr>\n",
       "      <th>1</th>\n",
       "      <td>18300</td>\n",
       "      <td>coupe</td>\n",
       "      <td>2011</td>\n",
       "      <td>1</td>\n",
       "      <td>190</td>\n",
       "      <td>unknown</td>\n",
       "      <td>125000</td>\n",
       "      <td>gasoline</td>\n",
       "      <td>audi</td>\n",
       "      <td>1</td>\n",
       "    </tr>\n",
       "    <tr>\n",
       "      <th>2</th>\n",
       "      <td>9800</td>\n",
       "      <td>suv</td>\n",
       "      <td>2004</td>\n",
       "      <td>0</td>\n",
       "      <td>163</td>\n",
       "      <td>grand</td>\n",
       "      <td>125000</td>\n",
       "      <td>gasoline</td>\n",
       "      <td>jeep</td>\n",
       "      <td>0</td>\n",
       "    </tr>\n",
       "    <tr>\n",
       "      <th>3</th>\n",
       "      <td>1500</td>\n",
       "      <td>small</td>\n",
       "      <td>2001</td>\n",
       "      <td>1</td>\n",
       "      <td>75</td>\n",
       "      <td>golf</td>\n",
       "      <td>150000</td>\n",
       "      <td>petrol</td>\n",
       "      <td>volkswagen</td>\n",
       "      <td>0</td>\n",
       "    </tr>\n",
       "    <tr>\n",
       "      <th>4</th>\n",
       "      <td>3600</td>\n",
       "      <td>small</td>\n",
       "      <td>2008</td>\n",
       "      <td>1</td>\n",
       "      <td>69</td>\n",
       "      <td>fabia</td>\n",
       "      <td>90000</td>\n",
       "      <td>gasoline</td>\n",
       "      <td>skoda</td>\n",
       "      <td>0</td>\n",
       "    </tr>\n",
       "  </tbody>\n",
       "</table>\n",
       "</div>"
      ],
      "text/plain": [
       "   Price VehicleType  RegistrationYear  Gearbox  Power    Model  Kilometer  \\\n",
       "0    480       sedan              1993        1      0     golf     150000   \n",
       "1  18300       coupe              2011        1    190  unknown     125000   \n",
       "2   9800         suv              2004        0    163    grand     125000   \n",
       "3   1500       small              2001        1     75     golf     150000   \n",
       "4   3600       small              2008        1     69    fabia      90000   \n",
       "\n",
       "   FuelType       Brand  Repaired  \n",
       "0    petrol  volkswagen         0  \n",
       "1  gasoline        audi         1  \n",
       "2  gasoline        jeep         0  \n",
       "3    petrol  volkswagen         0  \n",
       "4  gasoline       skoda         0  "
      ]
     },
     "execution_count": 575,
     "metadata": {},
     "output_type": "execute_result"
    }
   ],
   "source": [
    "def change(row):\n",
    "    if (row == 'auto'\n",
    "    or row == 'no'):     \n",
    "        return 0\n",
    "    if (row == 'manual'\n",
    "    or row == 'yes'):   \n",
    "        return 1\n",
    "autos['Gearbox'] = autos['Gearbox'].apply(change)  \n",
    "autos['Repaired'] = autos['Repaired'].apply(change)  \n",
    "print(autos['Gearbox'].value_counts())\n",
    "print('')\n",
    "print(autos['Repaired'].value_counts())\n",
    "autos.head()"
   ]
  },
  {
   "cell_type": "markdown",
   "metadata": {},
   "source": [
    "Категоризируем данные столбца 'RegistrationYear'. При этом будем исходить из следующего:\n",
    "    \n",
    "стоимость автомобиля на уровне его начальной цены держится примерно первые 5 лет с начала эксплуатации, после чего автомобиль сильно дешевеет, следующая категория стоимости - машина от 5 до 10 лет, делее - от 10 до 20 лет и более 20 лет.\n",
    "    \n",
    "При этом, если отталкиваться от российского законодательства, то по существующему госту ГОСТР 586886 2019 года раритетные автомобили делятся на категории: выпущенные до 1946 года, в период с 1946 по 1970, с 1970 года.\n",
    "    \n",
    "В зависимости от этих критериев и категоризируем значения столбца 'RegistrationYear', для чено напишем функцию.\n",
    "</div>"
   ]
  },
  {
   "cell_type": "code",
   "execution_count": 576,
   "metadata": {},
   "outputs": [
    {
     "data": {
      "text/plain": [
       "3    192940\n",
       "4     66906\n",
       "2     41791\n",
       "5     23645\n",
       "1      1225\n",
       "0        94\n",
       "Name: RegistrationYear, dtype: int64"
      ]
     },
     "execution_count": 576,
     "metadata": {},
     "output_type": "execute_result"
    }
   ],
   "source": [
    "def RegistrationYear(row):\n",
    "    if row <= 1945:\n",
    "         return 0\n",
    "    if 1946 <= row <= 1970:\n",
    "        return 1\n",
    "    if 1971 <=row <= 1996:\n",
    "        return 2     \n",
    "    if 1997 <= row <= 2006:\n",
    "        return 3   \n",
    "    if  2007 <= row <= 2011:\n",
    "        return 4  \n",
    "    if 2012 <= row <= 2016:\n",
    "        return 5  \n",
    "autos['RegistrationYear'] = autos['RegistrationYear'].apply(RegistrationYear)  \n",
    "autos['RegistrationYear'].value_counts()"
   ]
  },
  {
   "cell_type": "code",
   "execution_count": 577,
   "metadata": {},
   "outputs": [
    {
     "name": "stdout",
     "output_type": "stream",
     "text": [
      "<class 'pandas.core.frame.DataFrame'>\n",
      "RangeIndex: 326601 entries, 0 to 326600\n",
      "Data columns (total 10 columns):\n",
      " #   Column            Non-Null Count   Dtype \n",
      "---  ------            --------------   ----- \n",
      " 0   Price             326601 non-null  int64 \n",
      " 1   VehicleType       326601 non-null  object\n",
      " 2   RegistrationYear  326601 non-null  int64 \n",
      " 3   Gearbox           326601 non-null  int64 \n",
      " 4   Power             326601 non-null  int64 \n",
      " 5   Model             326601 non-null  object\n",
      " 6   Kilometer         326601 non-null  int64 \n",
      " 7   FuelType          326601 non-null  object\n",
      " 8   Brand             326601 non-null  object\n",
      " 9   Repaired          326601 non-null  int64 \n",
      "dtypes: int64(6), object(4)\n",
      "memory usage: 24.9+ MB\n"
     ]
    }
   ],
   "source": [
    "autos.info()"
   ]
  },
  {
   "cell_type": "markdown",
   "metadata": {},
   "source": [
    "Выделяем признаки и целевой признак"
   ]
  },
  {
   "cell_type": "code",
   "execution_count": 578,
   "metadata": {},
   "outputs": [
    {
     "data": {
      "text/html": [
       "<div>\n",
       "<style scoped>\n",
       "    .dataframe tbody tr th:only-of-type {\n",
       "        vertical-align: middle;\n",
       "    }\n",
       "\n",
       "    .dataframe tbody tr th {\n",
       "        vertical-align: top;\n",
       "    }\n",
       "\n",
       "    .dataframe thead th {\n",
       "        text-align: right;\n",
       "    }\n",
       "</style>\n",
       "<table border=\"1\" class=\"dataframe\">\n",
       "  <thead>\n",
       "    <tr style=\"text-align: right;\">\n",
       "      <th></th>\n",
       "      <th>VehicleType</th>\n",
       "      <th>RegistrationYear</th>\n",
       "      <th>Gearbox</th>\n",
       "      <th>Power</th>\n",
       "      <th>Model</th>\n",
       "      <th>Kilometer</th>\n",
       "      <th>FuelType</th>\n",
       "      <th>Brand</th>\n",
       "      <th>Repaired</th>\n",
       "    </tr>\n",
       "  </thead>\n",
       "  <tbody>\n",
       "    <tr>\n",
       "      <th>0</th>\n",
       "      <td>sedan</td>\n",
       "      <td>2</td>\n",
       "      <td>1</td>\n",
       "      <td>0</td>\n",
       "      <td>golf</td>\n",
       "      <td>150000</td>\n",
       "      <td>petrol</td>\n",
       "      <td>volkswagen</td>\n",
       "      <td>0</td>\n",
       "    </tr>\n",
       "    <tr>\n",
       "      <th>1</th>\n",
       "      <td>coupe</td>\n",
       "      <td>4</td>\n",
       "      <td>1</td>\n",
       "      <td>190</td>\n",
       "      <td>unknown</td>\n",
       "      <td>125000</td>\n",
       "      <td>gasoline</td>\n",
       "      <td>audi</td>\n",
       "      <td>1</td>\n",
       "    </tr>\n",
       "    <tr>\n",
       "      <th>2</th>\n",
       "      <td>suv</td>\n",
       "      <td>3</td>\n",
       "      <td>0</td>\n",
       "      <td>163</td>\n",
       "      <td>grand</td>\n",
       "      <td>125000</td>\n",
       "      <td>gasoline</td>\n",
       "      <td>jeep</td>\n",
       "      <td>0</td>\n",
       "    </tr>\n",
       "    <tr>\n",
       "      <th>3</th>\n",
       "      <td>small</td>\n",
       "      <td>3</td>\n",
       "      <td>1</td>\n",
       "      <td>75</td>\n",
       "      <td>golf</td>\n",
       "      <td>150000</td>\n",
       "      <td>petrol</td>\n",
       "      <td>volkswagen</td>\n",
       "      <td>0</td>\n",
       "    </tr>\n",
       "    <tr>\n",
       "      <th>4</th>\n",
       "      <td>small</td>\n",
       "      <td>4</td>\n",
       "      <td>1</td>\n",
       "      <td>69</td>\n",
       "      <td>fabia</td>\n",
       "      <td>90000</td>\n",
       "      <td>gasoline</td>\n",
       "      <td>skoda</td>\n",
       "      <td>0</td>\n",
       "    </tr>\n",
       "  </tbody>\n",
       "</table>\n",
       "</div>"
      ],
      "text/plain": [
       "  VehicleType  RegistrationYear  Gearbox  Power    Model  Kilometer  FuelType  \\\n",
       "0       sedan                 2        1      0     golf     150000    petrol   \n",
       "1       coupe                 4        1    190  unknown     125000  gasoline   \n",
       "2         suv                 3        0    163    grand     125000  gasoline   \n",
       "3       small                 3        1     75     golf     150000    petrol   \n",
       "4       small                 4        1     69    fabia      90000  gasoline   \n",
       "\n",
       "        Brand  Repaired  \n",
       "0  volkswagen         0  \n",
       "1        audi         1  \n",
       "2        jeep         0  \n",
       "3  volkswagen         0  \n",
       "4       skoda         0  "
      ]
     },
     "metadata": {},
     "output_type": "display_data"
    },
    {
     "name": "stdout",
     "output_type": "stream",
     "text": [
      "0      480\n",
      "1    18300\n",
      "2     9800\n",
      "3     1500\n",
      "4     3600\n",
      "Name: Price, dtype: int64\n"
     ]
    }
   ],
   "source": [
    "features=autos.drop('Price',axis=1) # Признаки\n",
    "target=autos['Price']\n",
    "display(features.head())\n",
    "print(target.head())"
   ]
  },
  {
   "cell_type": "markdown",
   "metadata": {},
   "source": [
    "В соответствии с условием проекта необходимо построить модели машинного обучения, выбрать лучшую из них в соответсвии с критериями заказчика и протестировать работу на тестовой выборке.\n",
    "\n",
    "В этой связи разделим данные на обучающую, валидационную (для обучения проверки качества) и тестовую выборки (для тестирования лучшей модели) в соотношении 3:1:1."
   ]
  },
  {
   "cell_type": "code",
   "execution_count": 579,
   "metadata": {},
   "outputs": [
    {
     "name": "stdout",
     "output_type": "stream",
     "text": [
      "Размеры выборок:\n",
      "train_features (195960, 9)\n",
      "valid_features (65321, 9)\n",
      "test_features (65320, 9)\n",
      "train_target (195960,)\n",
      "valid_target (65321,)\n",
      "test_target (65320,)\n"
     ]
    }
   ],
   "source": [
    "STATE = RandomState(12345)\n",
    "\n",
    "train_features, test_features, train_target, test_target = train_test_split(features, target, \n",
    "                                                    train_size=0.6,  \n",
    "                                                    random_state=STATE,\n",
    "                                                    shuffle=True)\n",
    "\n",
    "test_features, valid_features, test_target, valid_target = train_test_split(test_features, test_target, \n",
    "                                                    train_size=0.5, \n",
    "                                                    random_state=STATE,\n",
    "                                                    shuffle=True)\n",
    "\n",
    "print('Размеры выборок:')\n",
    "print('train_features',train_features.shape)\n",
    "print('valid_features', valid_features.shape)\n",
    "print('test_features', test_features.shape)\n",
    "print('train_target', train_target.shape)\n",
    "print('valid_target', valid_target.shape)\n",
    "print('test_target', test_target.shape)"
   ]
  },
  {
   "cell_type": "markdown",
   "metadata": {},
   "source": [
    "По условию проекта необходимо построить модели машинного обучения, в числе которых модели градиентного бустинга. Использование библиотек lightgbm и catboost позволяет для обучения передавать категориальные признаки. Чтоб построить одну из моделей с использованием этой возможности сохраним не кодированные и не стандартизированные признаки по каждой выборке в самосточтельных переменных."
   ]
  },
  {
   "cell_type": "code",
   "execution_count": 580,
   "metadata": {},
   "outputs": [],
   "source": [
    "original_train_features = train_features\n",
    "original_valid_features = valid_features\n",
    "original_test_features = test_features"
   ]
  },
  {
   "cell_type": "markdown",
   "metadata": {},
   "source": [
    "Кодирование признаков"
   ]
  },
  {
   "cell_type": "markdown",
   "metadata": {},
   "source": [
    "В данных осталось четыре категориальных признака 'VehicleType', 'Model','FuelType' и 'Brand' для пребразования которых применим целевое кодирование из category_encoders отдельно по каждой выборке. Перед этим проверим количественное соответствие значений каждого признака во всех выборках."
   ]
  },
  {
   "cell_type": "code",
   "execution_count": 581,
   "metadata": {},
   "outputs": [
    {
     "name": "stdout",
     "output_type": "stream",
     "text": [
      "8\n",
      "8\n",
      "8\n",
      "\n",
      "240\n",
      "240\n",
      "240\n",
      "\n",
      "7\n",
      "7\n",
      "7\n",
      "\n",
      "40\n",
      "40\n",
      "40\n",
      "\n"
     ]
    }
   ],
   "source": [
    "print(len(train_features['VehicleType'].sort_values().unique()))\n",
    "print(len(valid_features['VehicleType'].sort_values().unique()))\n",
    "print(len(test_features['VehicleType'].sort_values().unique()))\n",
    "print('')\n",
    "print(len(train_features['Model'].sort_values().unique()))\n",
    "print(len(valid_features['Model'].sort_values().unique()))\n",
    "print(len(test_features['Model'].sort_values().unique()))\n",
    "print('')\n",
    "print(len(train_features['FuelType'].sort_values().unique()))\n",
    "print(len(valid_features['FuelType'].sort_values().unique()))\n",
    "print(len(test_features['FuelType'].sort_values().unique()))\n",
    "print('')\n",
    "print(len(train_features['Brand'].sort_values().unique()))\n",
    "print(len(valid_features['Brand'].sort_values().unique()))\n",
    "print(len(test_features['Brand'].sort_values().unique()))\n",
    "print('')"
   ]
  },
  {
   "cell_type": "markdown",
   "metadata": {},
   "source": [
    "К категориальным признакам применяем целевое кодирование путем передачи TargetEncoder целевого признака train_target.\n",
    "    \n"
   ]
  },
  {
   "cell_type": "code",
   "execution_count": 583,
   "metadata": {},
   "outputs": [
    {
     "data": {
      "text/html": [
       "<div>\n",
       "<style scoped>\n",
       "    .dataframe tbody tr th:only-of-type {\n",
       "        vertical-align: middle;\n",
       "    }\n",
       "\n",
       "    .dataframe tbody tr th {\n",
       "        vertical-align: top;\n",
       "    }\n",
       "\n",
       "    .dataframe thead th {\n",
       "        text-align: right;\n",
       "    }\n",
       "</style>\n",
       "<table border=\"1\" class=\"dataframe\">\n",
       "  <thead>\n",
       "    <tr style=\"text-align: right;\">\n",
       "      <th></th>\n",
       "      <th>VehicleType</th>\n",
       "      <th>RegistrationYear</th>\n",
       "      <th>Gearbox</th>\n",
       "      <th>Power</th>\n",
       "      <th>Model</th>\n",
       "      <th>Kilometer</th>\n",
       "      <th>FuelType</th>\n",
       "      <th>Brand</th>\n",
       "      <th>Repaired</th>\n",
       "    </tr>\n",
       "  </thead>\n",
       "  <tbody>\n",
       "    <tr>\n",
       "      <th>108468</th>\n",
       "      <td>5529.285748</td>\n",
       "      <td>3</td>\n",
       "      <td>1</td>\n",
       "      <td>120</td>\n",
       "      <td>3994.347656</td>\n",
       "      <td>150000</td>\n",
       "      <td>6721.375283</td>\n",
       "      <td>2842.444022</td>\n",
       "      <td>0</td>\n",
       "    </tr>\n",
       "    <tr>\n",
       "      <th>133694</th>\n",
       "      <td>2660.588042</td>\n",
       "      <td>5</td>\n",
       "      <td>1</td>\n",
       "      <td>54</td>\n",
       "      <td>1454.685895</td>\n",
       "      <td>150000</td>\n",
       "      <td>3747.328730</td>\n",
       "      <td>2407.684735</td>\n",
       "      <td>0</td>\n",
       "    </tr>\n",
       "    <tr>\n",
       "      <th>315108</th>\n",
       "      <td>4954.041149</td>\n",
       "      <td>4</td>\n",
       "      <td>1</td>\n",
       "      <td>101</td>\n",
       "      <td>3391.189394</td>\n",
       "      <td>150000</td>\n",
       "      <td>3747.328730</td>\n",
       "      <td>2890.442750</td>\n",
       "      <td>0</td>\n",
       "    </tr>\n",
       "    <tr>\n",
       "      <th>38134</th>\n",
       "      <td>5529.285748</td>\n",
       "      <td>3</td>\n",
       "      <td>1</td>\n",
       "      <td>114</td>\n",
       "      <td>4533.832314</td>\n",
       "      <td>150000</td>\n",
       "      <td>6721.375283</td>\n",
       "      <td>2407.684735</td>\n",
       "      <td>0</td>\n",
       "    </tr>\n",
       "    <tr>\n",
       "      <th>182659</th>\n",
       "      <td>2660.588042</td>\n",
       "      <td>3</td>\n",
       "      <td>1</td>\n",
       "      <td>50</td>\n",
       "      <td>1127.111562</td>\n",
       "      <td>150000</td>\n",
       "      <td>3747.328730</td>\n",
       "      <td>4185.158856</td>\n",
       "      <td>0</td>\n",
       "    </tr>\n",
       "    <tr>\n",
       "      <th>...</th>\n",
       "      <td>...</td>\n",
       "      <td>...</td>\n",
       "      <td>...</td>\n",
       "      <td>...</td>\n",
       "      <td>...</td>\n",
       "      <td>...</td>\n",
       "      <td>...</td>\n",
       "      <td>...</td>\n",
       "      <td>...</td>\n",
       "    </tr>\n",
       "    <tr>\n",
       "      <th>158838</th>\n",
       "      <td>4954.041149</td>\n",
       "      <td>4</td>\n",
       "      <td>1</td>\n",
       "      <td>95</td>\n",
       "      <td>3261.538156</td>\n",
       "      <td>80000</td>\n",
       "      <td>3747.328730</td>\n",
       "      <td>3217.085417</td>\n",
       "      <td>1</td>\n",
       "    </tr>\n",
       "    <tr>\n",
       "      <th>47873</th>\n",
       "      <td>4619.429939</td>\n",
       "      <td>3</td>\n",
       "      <td>1</td>\n",
       "      <td>55</td>\n",
       "      <td>4366.703195</td>\n",
       "      <td>150000</td>\n",
       "      <td>3747.328730</td>\n",
       "      <td>4590.765657</td>\n",
       "      <td>0</td>\n",
       "    </tr>\n",
       "    <tr>\n",
       "      <th>86398</th>\n",
       "      <td>4954.041149</td>\n",
       "      <td>3</td>\n",
       "      <td>1</td>\n",
       "      <td>131</td>\n",
       "      <td>5976.458532</td>\n",
       "      <td>150000</td>\n",
       "      <td>6721.375283</td>\n",
       "      <td>6471.828075</td>\n",
       "      <td>0</td>\n",
       "    </tr>\n",
       "    <tr>\n",
       "      <th>77285</th>\n",
       "      <td>2660.588042</td>\n",
       "      <td>3</td>\n",
       "      <td>1</td>\n",
       "      <td>75</td>\n",
       "      <td>2680.294325</td>\n",
       "      <td>150000</td>\n",
       "      <td>3747.328730</td>\n",
       "      <td>4590.765657</td>\n",
       "      <td>0</td>\n",
       "    </tr>\n",
       "    <tr>\n",
       "      <th>217570</th>\n",
       "      <td>2660.588042</td>\n",
       "      <td>3</td>\n",
       "      <td>1</td>\n",
       "      <td>75</td>\n",
       "      <td>3261.538156</td>\n",
       "      <td>125000</td>\n",
       "      <td>3747.328730</td>\n",
       "      <td>3217.085417</td>\n",
       "      <td>0</td>\n",
       "    </tr>\n",
       "  </tbody>\n",
       "</table>\n",
       "<p>195960 rows × 9 columns</p>\n",
       "</div>"
      ],
      "text/plain": [
       "        VehicleType  RegistrationYear  Gearbox  Power        Model  Kilometer  \\\n",
       "108468  5529.285748                 3        1    120  3994.347656     150000   \n",
       "133694  2660.588042                 5        1     54  1454.685895     150000   \n",
       "315108  4954.041149                 4        1    101  3391.189394     150000   \n",
       "38134   5529.285748                 3        1    114  4533.832314     150000   \n",
       "182659  2660.588042                 3        1     50  1127.111562     150000   \n",
       "...             ...               ...      ...    ...          ...        ...   \n",
       "158838  4954.041149                 4        1     95  3261.538156      80000   \n",
       "47873   4619.429939                 3        1     55  4366.703195     150000   \n",
       "86398   4954.041149                 3        1    131  5976.458532     150000   \n",
       "77285   2660.588042                 3        1     75  2680.294325     150000   \n",
       "217570  2660.588042                 3        1     75  3261.538156     125000   \n",
       "\n",
       "           FuelType        Brand  Repaired  \n",
       "108468  6721.375283  2842.444022         0  \n",
       "133694  3747.328730  2407.684735         0  \n",
       "315108  3747.328730  2890.442750         0  \n",
       "38134   6721.375283  2407.684735         0  \n",
       "182659  3747.328730  4185.158856         0  \n",
       "...             ...          ...       ...  \n",
       "158838  3747.328730  3217.085417         1  \n",
       "47873   3747.328730  4590.765657         0  \n",
       "86398   6721.375283  6471.828075         0  \n",
       "77285   3747.328730  4590.765657         0  \n",
       "217570  3747.328730  3217.085417         0  \n",
       "\n",
       "[195960 rows x 9 columns]"
      ]
     },
     "execution_count": 583,
     "metadata": {},
     "output_type": "execute_result"
    }
   ],
   "source": [
    "encoder = ce.TargetEncoder(return_df=True)\n",
    "train_features = encoder.fit_transform(train_features, train_target)\n",
    "train_features"
   ]
  },
  {
   "cell_type": "code",
   "execution_count": 584,
   "metadata": {},
   "outputs": [
    {
     "data": {
      "text/html": [
       "<div>\n",
       "<style scoped>\n",
       "    .dataframe tbody tr th:only-of-type {\n",
       "        vertical-align: middle;\n",
       "    }\n",
       "\n",
       "    .dataframe tbody tr th {\n",
       "        vertical-align: top;\n",
       "    }\n",
       "\n",
       "    .dataframe thead th {\n",
       "        text-align: right;\n",
       "    }\n",
       "</style>\n",
       "<table border=\"1\" class=\"dataframe\">\n",
       "  <thead>\n",
       "    <tr style=\"text-align: right;\">\n",
       "      <th></th>\n",
       "      <th>VehicleType</th>\n",
       "      <th>RegistrationYear</th>\n",
       "      <th>Gearbox</th>\n",
       "      <th>Power</th>\n",
       "      <th>Model</th>\n",
       "      <th>Kilometer</th>\n",
       "      <th>FuelType</th>\n",
       "      <th>Brand</th>\n",
       "      <th>Repaired</th>\n",
       "    </tr>\n",
       "  </thead>\n",
       "  <tbody>\n",
       "    <tr>\n",
       "      <th>167006</th>\n",
       "      <td>5529.285748</td>\n",
       "      <td>3</td>\n",
       "      <td>1</td>\n",
       "      <td>69</td>\n",
       "      <td>3253.205882</td>\n",
       "      <td>150000</td>\n",
       "      <td>6721.375283</td>\n",
       "      <td>3584.965261</td>\n",
       "      <td>0</td>\n",
       "    </tr>\n",
       "    <tr>\n",
       "      <th>117180</th>\n",
       "      <td>4619.429939</td>\n",
       "      <td>3</td>\n",
       "      <td>1</td>\n",
       "      <td>105</td>\n",
       "      <td>6355.764637</td>\n",
       "      <td>150000</td>\n",
       "      <td>6721.375283</td>\n",
       "      <td>6471.828075</td>\n",
       "      <td>0</td>\n",
       "    </tr>\n",
       "    <tr>\n",
       "      <th>319352</th>\n",
       "      <td>2660.588042</td>\n",
       "      <td>3</td>\n",
       "      <td>1</td>\n",
       "      <td>50</td>\n",
       "      <td>1463.826268</td>\n",
       "      <td>150000</td>\n",
       "      <td>3747.328730</td>\n",
       "      <td>4590.765657</td>\n",
       "      <td>0</td>\n",
       "    </tr>\n",
       "    <tr>\n",
       "      <th>230835</th>\n",
       "      <td>4619.429939</td>\n",
       "      <td>2</td>\n",
       "      <td>0</td>\n",
       "      <td>90</td>\n",
       "      <td>4690.694581</td>\n",
       "      <td>150000</td>\n",
       "      <td>3747.328730</td>\n",
       "      <td>4590.765657</td>\n",
       "      <td>0</td>\n",
       "    </tr>\n",
       "    <tr>\n",
       "      <th>119874</th>\n",
       "      <td>2660.588042</td>\n",
       "      <td>4</td>\n",
       "      <td>1</td>\n",
       "      <td>177</td>\n",
       "      <td>7392.434292</td>\n",
       "      <td>50000</td>\n",
       "      <td>6721.375283</td>\n",
       "      <td>4878.924886</td>\n",
       "      <td>0</td>\n",
       "    </tr>\n",
       "    <tr>\n",
       "      <th>...</th>\n",
       "      <td>...</td>\n",
       "      <td>...</td>\n",
       "      <td>...</td>\n",
       "      <td>...</td>\n",
       "      <td>...</td>\n",
       "      <td>...</td>\n",
       "      <td>...</td>\n",
       "      <td>...</td>\n",
       "      <td>...</td>\n",
       "    </tr>\n",
       "    <tr>\n",
       "      <th>163427</th>\n",
       "      <td>2660.588042</td>\n",
       "      <td>4</td>\n",
       "      <td>0</td>\n",
       "      <td>68</td>\n",
       "      <td>1733.955801</td>\n",
       "      <td>50000</td>\n",
       "      <td>3747.328730</td>\n",
       "      <td>3217.085417</td>\n",
       "      <td>0</td>\n",
       "    </tr>\n",
       "    <tr>\n",
       "      <th>10174</th>\n",
       "      <td>4619.429939</td>\n",
       "      <td>4</td>\n",
       "      <td>1</td>\n",
       "      <td>110</td>\n",
       "      <td>7279.067625</td>\n",
       "      <td>150000</td>\n",
       "      <td>3747.328730</td>\n",
       "      <td>4590.765657</td>\n",
       "      <td>0</td>\n",
       "    </tr>\n",
       "    <tr>\n",
       "      <th>298179</th>\n",
       "      <td>2660.588042</td>\n",
       "      <td>4</td>\n",
       "      <td>1</td>\n",
       "      <td>54</td>\n",
       "      <td>2878.094170</td>\n",
       "      <td>60000</td>\n",
       "      <td>3747.328730</td>\n",
       "      <td>4590.765657</td>\n",
       "      <td>0</td>\n",
       "    </tr>\n",
       "    <tr>\n",
       "      <th>151428</th>\n",
       "      <td>5529.285748</td>\n",
       "      <td>3</td>\n",
       "      <td>1</td>\n",
       "      <td>1</td>\n",
       "      <td>6234.917633</td>\n",
       "      <td>125000</td>\n",
       "      <td>6721.375283</td>\n",
       "      <td>4590.765657</td>\n",
       "      <td>0</td>\n",
       "    </tr>\n",
       "    <tr>\n",
       "      <th>112892</th>\n",
       "      <td>6226.762023</td>\n",
       "      <td>4</td>\n",
       "      <td>0</td>\n",
       "      <td>190</td>\n",
       "      <td>15745.938650</td>\n",
       "      <td>150000</td>\n",
       "      <td>6721.375283</td>\n",
       "      <td>6471.828075</td>\n",
       "      <td>0</td>\n",
       "    </tr>\n",
       "  </tbody>\n",
       "</table>\n",
       "<p>65321 rows × 9 columns</p>\n",
       "</div>"
      ],
      "text/plain": [
       "        VehicleType  RegistrationYear  Gearbox  Power         Model  \\\n",
       "167006  5529.285748                 3        1     69   3253.205882   \n",
       "117180  4619.429939                 3        1    105   6355.764637   \n",
       "319352  2660.588042                 3        1     50   1463.826268   \n",
       "230835  4619.429939                 2        0     90   4690.694581   \n",
       "119874  2660.588042                 4        1    177   7392.434292   \n",
       "...             ...               ...      ...    ...           ...   \n",
       "163427  2660.588042                 4        0     68   1733.955801   \n",
       "10174   4619.429939                 4        1    110   7279.067625   \n",
       "298179  2660.588042                 4        1     54   2878.094170   \n",
       "151428  5529.285748                 3        1      1   6234.917633   \n",
       "112892  6226.762023                 4        0    190  15745.938650   \n",
       "\n",
       "        Kilometer     FuelType        Brand  Repaired  \n",
       "167006     150000  6721.375283  3584.965261         0  \n",
       "117180     150000  6721.375283  6471.828075         0  \n",
       "319352     150000  3747.328730  4590.765657         0  \n",
       "230835     150000  3747.328730  4590.765657         0  \n",
       "119874      50000  6721.375283  4878.924886         0  \n",
       "...           ...          ...          ...       ...  \n",
       "163427      50000  3747.328730  3217.085417         0  \n",
       "10174      150000  3747.328730  4590.765657         0  \n",
       "298179      60000  3747.328730  4590.765657         0  \n",
       "151428     125000  6721.375283  4590.765657         0  \n",
       "112892     150000  6721.375283  6471.828075         0  \n",
       "\n",
       "[65321 rows x 9 columns]"
      ]
     },
     "execution_count": 584,
     "metadata": {},
     "output_type": "execute_result"
    }
   ],
   "source": [
    "valid_features = encoder.transform(valid_features)\n",
    "valid_features"
   ]
  },
  {
   "cell_type": "code",
   "execution_count": 585,
   "metadata": {},
   "outputs": [
    {
     "data": {
      "text/html": [
       "<div>\n",
       "<style scoped>\n",
       "    .dataframe tbody tr th:only-of-type {\n",
       "        vertical-align: middle;\n",
       "    }\n",
       "\n",
       "    .dataframe tbody tr th {\n",
       "        vertical-align: top;\n",
       "    }\n",
       "\n",
       "    .dataframe thead th {\n",
       "        text-align: right;\n",
       "    }\n",
       "</style>\n",
       "<table border=\"1\" class=\"dataframe\">\n",
       "  <thead>\n",
       "    <tr style=\"text-align: right;\">\n",
       "      <th></th>\n",
       "      <th>VehicleType</th>\n",
       "      <th>RegistrationYear</th>\n",
       "      <th>Gearbox</th>\n",
       "      <th>Power</th>\n",
       "      <th>Model</th>\n",
       "      <th>Kilometer</th>\n",
       "      <th>FuelType</th>\n",
       "      <th>Brand</th>\n",
       "      <th>Repaired</th>\n",
       "    </tr>\n",
       "  </thead>\n",
       "  <tbody>\n",
       "    <tr>\n",
       "      <th>297798</th>\n",
       "      <td>5529.285748</td>\n",
       "      <td>3</td>\n",
       "      <td>1</td>\n",
       "      <td>110</td>\n",
       "      <td>4533.832314</td>\n",
       "      <td>150000</td>\n",
       "      <td>6721.375283</td>\n",
       "      <td>3584.965261</td>\n",
       "      <td>0</td>\n",
       "    </tr>\n",
       "    <tr>\n",
       "      <th>6887</th>\n",
       "      <td>6966.268905</td>\n",
       "      <td>2</td>\n",
       "      <td>1</td>\n",
       "      <td>55</td>\n",
       "      <td>6273.648068</td>\n",
       "      <td>10000</td>\n",
       "      <td>3747.328730</td>\n",
       "      <td>4590.765657</td>\n",
       "      <td>0</td>\n",
       "    </tr>\n",
       "    <tr>\n",
       "      <th>173409</th>\n",
       "      <td>2660.588042</td>\n",
       "      <td>5</td>\n",
       "      <td>1</td>\n",
       "      <td>60</td>\n",
       "      <td>2011.609147</td>\n",
       "      <td>150000</td>\n",
       "      <td>3747.328730</td>\n",
       "      <td>2890.442750</td>\n",
       "      <td>0</td>\n",
       "    </tr>\n",
       "    <tr>\n",
       "      <th>56011</th>\n",
       "      <td>5529.285748</td>\n",
       "      <td>3</td>\n",
       "      <td>1</td>\n",
       "      <td>140</td>\n",
       "      <td>7279.067625</td>\n",
       "      <td>150000</td>\n",
       "      <td>6721.375283</td>\n",
       "      <td>4590.765657</td>\n",
       "      <td>0</td>\n",
       "    </tr>\n",
       "    <tr>\n",
       "      <th>255316</th>\n",
       "      <td>2660.588042</td>\n",
       "      <td>3</td>\n",
       "      <td>1</td>\n",
       "      <td>55</td>\n",
       "      <td>2011.609147</td>\n",
       "      <td>150000</td>\n",
       "      <td>3747.328730</td>\n",
       "      <td>2890.442750</td>\n",
       "      <td>0</td>\n",
       "    </tr>\n",
       "    <tr>\n",
       "      <th>...</th>\n",
       "      <td>...</td>\n",
       "      <td>...</td>\n",
       "      <td>...</td>\n",
       "      <td>...</td>\n",
       "      <td>...</td>\n",
       "      <td>...</td>\n",
       "      <td>...</td>\n",
       "      <td>...</td>\n",
       "      <td>...</td>\n",
       "    </tr>\n",
       "    <tr>\n",
       "      <th>144484</th>\n",
       "      <td>4954.041149</td>\n",
       "      <td>3</td>\n",
       "      <td>1</td>\n",
       "      <td>107</td>\n",
       "      <td>2274.476510</td>\n",
       "      <td>30000</td>\n",
       "      <td>3747.328730</td>\n",
       "      <td>2407.684735</td>\n",
       "      <td>0</td>\n",
       "    </tr>\n",
       "    <tr>\n",
       "      <th>134340</th>\n",
       "      <td>6226.762023</td>\n",
       "      <td>3</td>\n",
       "      <td>1</td>\n",
       "      <td>140</td>\n",
       "      <td>6355.764637</td>\n",
       "      <td>150000</td>\n",
       "      <td>6721.375283</td>\n",
       "      <td>6471.828075</td>\n",
       "      <td>0</td>\n",
       "    </tr>\n",
       "    <tr>\n",
       "      <th>39442</th>\n",
       "      <td>2660.588042</td>\n",
       "      <td>5</td>\n",
       "      <td>1</td>\n",
       "      <td>75</td>\n",
       "      <td>2668.539216</td>\n",
       "      <td>150000</td>\n",
       "      <td>3747.328730</td>\n",
       "      <td>3278.892496</td>\n",
       "      <td>0</td>\n",
       "    </tr>\n",
       "    <tr>\n",
       "      <th>199015</th>\n",
       "      <td>4619.429939</td>\n",
       "      <td>3</td>\n",
       "      <td>1</td>\n",
       "      <td>82</td>\n",
       "      <td>3481.856710</td>\n",
       "      <td>100000</td>\n",
       "      <td>3747.328730</td>\n",
       "      <td>6064.999614</td>\n",
       "      <td>0</td>\n",
       "    </tr>\n",
       "    <tr>\n",
       "      <th>59641</th>\n",
       "      <td>9076.188230</td>\n",
       "      <td>4</td>\n",
       "      <td>0</td>\n",
       "      <td>239</td>\n",
       "      <td>15630.803282</td>\n",
       "      <td>60000</td>\n",
       "      <td>6721.375283</td>\n",
       "      <td>6471.828075</td>\n",
       "      <td>0</td>\n",
       "    </tr>\n",
       "  </tbody>\n",
       "</table>\n",
       "<p>65320 rows × 9 columns</p>\n",
       "</div>"
      ],
      "text/plain": [
       "        VehicleType  RegistrationYear  Gearbox  Power         Model  \\\n",
       "297798  5529.285748                 3        1    110   4533.832314   \n",
       "6887    6966.268905                 2        1     55   6273.648068   \n",
       "173409  2660.588042                 5        1     60   2011.609147   \n",
       "56011   5529.285748                 3        1    140   7279.067625   \n",
       "255316  2660.588042                 3        1     55   2011.609147   \n",
       "...             ...               ...      ...    ...           ...   \n",
       "144484  4954.041149                 3        1    107   2274.476510   \n",
       "134340  6226.762023                 3        1    140   6355.764637   \n",
       "39442   2660.588042                 5        1     75   2668.539216   \n",
       "199015  4619.429939                 3        1     82   3481.856710   \n",
       "59641   9076.188230                 4        0    239  15630.803282   \n",
       "\n",
       "        Kilometer     FuelType        Brand  Repaired  \n",
       "297798     150000  6721.375283  3584.965261         0  \n",
       "6887        10000  3747.328730  4590.765657         0  \n",
       "173409     150000  3747.328730  2890.442750         0  \n",
       "56011      150000  6721.375283  4590.765657         0  \n",
       "255316     150000  3747.328730  2890.442750         0  \n",
       "...           ...          ...          ...       ...  \n",
       "144484      30000  3747.328730  2407.684735         0  \n",
       "134340     150000  6721.375283  6471.828075         0  \n",
       "39442      150000  3747.328730  3278.892496         0  \n",
       "199015     100000  3747.328730  6064.999614         0  \n",
       "59641       60000  6721.375283  6471.828075         0  \n",
       "\n",
       "[65320 rows x 9 columns]"
      ]
     },
     "execution_count": 585,
     "metadata": {},
     "output_type": "execute_result"
    }
   ],
   "source": [
    "test_features = encoder.transform(test_features)\n",
    "test_features"
   ]
  },
  {
   "cell_type": "markdown",
   "metadata": {},
   "source": [
    " В связи с тем, что признак 'RegistrationYear' категоризирован, он исключен из числа стандартизируемых.\n",
    "</div>"
   ]
  },
  {
   "cell_type": "markdown",
   "metadata": {},
   "source": [
    "В признаках 'Power'и 'Kilometer' числовые значения различаются по масштабу, стандартизируем их посредством модуля StandardScaler."
   ]
  },
  {
   "cell_type": "code",
   "execution_count": 590,
   "metadata": {},
   "outputs": [
    {
     "data": {
      "text/html": [
       "<div>\n",
       "<style scoped>\n",
       "    .dataframe tbody tr th:only-of-type {\n",
       "        vertical-align: middle;\n",
       "    }\n",
       "\n",
       "    .dataframe tbody tr th {\n",
       "        vertical-align: top;\n",
       "    }\n",
       "\n",
       "    .dataframe thead th {\n",
       "        text-align: right;\n",
       "    }\n",
       "</style>\n",
       "<table border=\"1\" class=\"dataframe\">\n",
       "  <thead>\n",
       "    <tr style=\"text-align: right;\">\n",
       "      <th></th>\n",
       "      <th>VehicleType</th>\n",
       "      <th>RegistrationYear</th>\n",
       "      <th>Gearbox</th>\n",
       "      <th>Power</th>\n",
       "      <th>Model</th>\n",
       "      <th>Kilometer</th>\n",
       "      <th>FuelType</th>\n",
       "      <th>Brand</th>\n",
       "      <th>Repaired</th>\n",
       "    </tr>\n",
       "  </thead>\n",
       "  <tbody>\n",
       "    <tr>\n",
       "      <th>108468</th>\n",
       "      <td>5529.285748</td>\n",
       "      <td>3</td>\n",
       "      <td>1</td>\n",
       "      <td>0.186661</td>\n",
       "      <td>3994.347656</td>\n",
       "      <td>0.581387</td>\n",
       "      <td>6721.375283</td>\n",
       "      <td>2842.444022</td>\n",
       "      <td>0</td>\n",
       "    </tr>\n",
       "    <tr>\n",
       "      <th>133694</th>\n",
       "      <td>2660.588042</td>\n",
       "      <td>5</td>\n",
       "      <td>1</td>\n",
       "      <td>-0.889148</td>\n",
       "      <td>1454.685895</td>\n",
       "      <td>0.581387</td>\n",
       "      <td>3747.328730</td>\n",
       "      <td>2407.684735</td>\n",
       "      <td>0</td>\n",
       "    </tr>\n",
       "    <tr>\n",
       "      <th>315108</th>\n",
       "      <td>4954.041149</td>\n",
       "      <td>4</td>\n",
       "      <td>1</td>\n",
       "      <td>-0.123041</td>\n",
       "      <td>3391.189394</td>\n",
       "      <td>0.581387</td>\n",
       "      <td>3747.328730</td>\n",
       "      <td>2890.442750</td>\n",
       "      <td>0</td>\n",
       "    </tr>\n",
       "  </tbody>\n",
       "</table>\n",
       "</div>"
      ],
      "text/plain": [
       "        VehicleType  RegistrationYear  Gearbox     Power        Model  \\\n",
       "108468  5529.285748                 3        1  0.186661  3994.347656   \n",
       "133694  2660.588042                 5        1 -0.889148  1454.685895   \n",
       "315108  4954.041149                 4        1 -0.123041  3391.189394   \n",
       "\n",
       "        Kilometer     FuelType        Brand  Repaired  \n",
       "108468   0.581387  6721.375283  2842.444022         0  \n",
       "133694   0.581387  3747.328730  2407.684735         0  \n",
       "315108   0.581387  3747.328730  2890.442750         0  "
      ]
     },
     "metadata": {},
     "output_type": "display_data"
    },
    {
     "name": "stdout",
     "output_type": "stream",
     "text": [
      "<class 'pandas.core.frame.DataFrame'>\n",
      "Int64Index: 195960 entries, 108468 to 217570\n",
      "Data columns (total 9 columns):\n",
      " #   Column            Non-Null Count   Dtype  \n",
      "---  ------            --------------   -----  \n",
      " 0   VehicleType       195960 non-null  float64\n",
      " 1   RegistrationYear  195960 non-null  int64  \n",
      " 2   Gearbox           195960 non-null  int64  \n",
      " 3   Power             195960 non-null  float64\n",
      " 4   Model             195960 non-null  float64\n",
      " 5   Kilometer         195960 non-null  float64\n",
      " 6   FuelType          195960 non-null  float64\n",
      " 7   Brand             195960 non-null  float64\n",
      " 8   Repaired          195960 non-null  int64  \n",
      "dtypes: float64(6), int64(3)\n",
      "memory usage: 15.0 MB\n"
     ]
    },
    {
     "data": {
      "text/html": [
       "<div>\n",
       "<style scoped>\n",
       "    .dataframe tbody tr th:only-of-type {\n",
       "        vertical-align: middle;\n",
       "    }\n",
       "\n",
       "    .dataframe tbody tr th {\n",
       "        vertical-align: top;\n",
       "    }\n",
       "\n",
       "    .dataframe thead th {\n",
       "        text-align: right;\n",
       "    }\n",
       "</style>\n",
       "<table border=\"1\" class=\"dataframe\">\n",
       "  <thead>\n",
       "    <tr style=\"text-align: right;\">\n",
       "      <th></th>\n",
       "      <th>VehicleType</th>\n",
       "      <th>RegistrationYear</th>\n",
       "      <th>Gearbox</th>\n",
       "      <th>Power</th>\n",
       "      <th>Model</th>\n",
       "      <th>Kilometer</th>\n",
       "      <th>FuelType</th>\n",
       "      <th>Brand</th>\n",
       "      <th>Repaired</th>\n",
       "    </tr>\n",
       "  </thead>\n",
       "  <tbody>\n",
       "    <tr>\n",
       "      <th>167006</th>\n",
       "      <td>5529.285748</td>\n",
       "      <td>3</td>\n",
       "      <td>1</td>\n",
       "      <td>-0.644646</td>\n",
       "      <td>3253.205882</td>\n",
       "      <td>0.581387</td>\n",
       "      <td>6721.375283</td>\n",
       "      <td>3584.965261</td>\n",
       "      <td>0</td>\n",
       "    </tr>\n",
       "    <tr>\n",
       "      <th>117180</th>\n",
       "      <td>4619.429939</td>\n",
       "      <td>3</td>\n",
       "      <td>1</td>\n",
       "      <td>-0.057841</td>\n",
       "      <td>6355.764637</td>\n",
       "      <td>0.581387</td>\n",
       "      <td>6721.375283</td>\n",
       "      <td>6471.828075</td>\n",
       "      <td>0</td>\n",
       "    </tr>\n",
       "    <tr>\n",
       "      <th>319352</th>\n",
       "      <td>2660.588042</td>\n",
       "      <td>3</td>\n",
       "      <td>1</td>\n",
       "      <td>-0.954348</td>\n",
       "      <td>1463.826268</td>\n",
       "      <td>0.581387</td>\n",
       "      <td>3747.328730</td>\n",
       "      <td>4590.765657</td>\n",
       "      <td>0</td>\n",
       "    </tr>\n",
       "  </tbody>\n",
       "</table>\n",
       "</div>"
      ],
      "text/plain": [
       "        VehicleType  RegistrationYear  Gearbox     Power        Model  \\\n",
       "167006  5529.285748                 3        1 -0.644646  3253.205882   \n",
       "117180  4619.429939                 3        1 -0.057841  6355.764637   \n",
       "319352  2660.588042                 3        1 -0.954348  1463.826268   \n",
       "\n",
       "        Kilometer     FuelType        Brand  Repaired  \n",
       "167006   0.581387  6721.375283  3584.965261         0  \n",
       "117180   0.581387  6721.375283  6471.828075         0  \n",
       "319352   0.581387  3747.328730  4590.765657         0  "
      ]
     },
     "metadata": {},
     "output_type": "display_data"
    },
    {
     "name": "stdout",
     "output_type": "stream",
     "text": [
      "<class 'pandas.core.frame.DataFrame'>\n",
      "Int64Index: 65321 entries, 167006 to 112892\n",
      "Data columns (total 9 columns):\n",
      " #   Column            Non-Null Count  Dtype  \n",
      "---  ------            --------------  -----  \n",
      " 0   VehicleType       65321 non-null  float64\n",
      " 1   RegistrationYear  65321 non-null  int64  \n",
      " 2   Gearbox           65321 non-null  int64  \n",
      " 3   Power             65321 non-null  float64\n",
      " 4   Model             65321 non-null  float64\n",
      " 5   Kilometer         65321 non-null  float64\n",
      " 6   FuelType          65321 non-null  float64\n",
      " 7   Brand             65321 non-null  float64\n",
      " 8   Repaired          65321 non-null  int64  \n",
      "dtypes: float64(6), int64(3)\n",
      "memory usage: 5.0 MB\n"
     ]
    },
    {
     "data": {
      "text/html": [
       "<div>\n",
       "<style scoped>\n",
       "    .dataframe tbody tr th:only-of-type {\n",
       "        vertical-align: middle;\n",
       "    }\n",
       "\n",
       "    .dataframe tbody tr th {\n",
       "        vertical-align: top;\n",
       "    }\n",
       "\n",
       "    .dataframe thead th {\n",
       "        text-align: right;\n",
       "    }\n",
       "</style>\n",
       "<table border=\"1\" class=\"dataframe\">\n",
       "  <thead>\n",
       "    <tr style=\"text-align: right;\">\n",
       "      <th></th>\n",
       "      <th>VehicleType</th>\n",
       "      <th>RegistrationYear</th>\n",
       "      <th>Gearbox</th>\n",
       "      <th>Power</th>\n",
       "      <th>Model</th>\n",
       "      <th>Kilometer</th>\n",
       "      <th>FuelType</th>\n",
       "      <th>Brand</th>\n",
       "      <th>Repaired</th>\n",
       "    </tr>\n",
       "  </thead>\n",
       "  <tbody>\n",
       "    <tr>\n",
       "      <th>297798</th>\n",
       "      <td>5529.285748</td>\n",
       "      <td>3</td>\n",
       "      <td>1</td>\n",
       "      <td>0.023660</td>\n",
       "      <td>4533.832314</td>\n",
       "      <td>0.581387</td>\n",
       "      <td>6721.375283</td>\n",
       "      <td>3584.965261</td>\n",
       "      <td>0</td>\n",
       "    </tr>\n",
       "    <tr>\n",
       "      <th>6887</th>\n",
       "      <td>6966.268905</td>\n",
       "      <td>2</td>\n",
       "      <td>1</td>\n",
       "      <td>-0.872848</td>\n",
       "      <td>6273.648068</td>\n",
       "      <td>-3.175348</td>\n",
       "      <td>3747.328730</td>\n",
       "      <td>4590.765657</td>\n",
       "      <td>0</td>\n",
       "    </tr>\n",
       "    <tr>\n",
       "      <th>173409</th>\n",
       "      <td>2660.588042</td>\n",
       "      <td>5</td>\n",
       "      <td>1</td>\n",
       "      <td>-0.791347</td>\n",
       "      <td>2011.609147</td>\n",
       "      <td>0.581387</td>\n",
       "      <td>3747.328730</td>\n",
       "      <td>2890.442750</td>\n",
       "      <td>0</td>\n",
       "    </tr>\n",
       "  </tbody>\n",
       "</table>\n",
       "</div>"
      ],
      "text/plain": [
       "        VehicleType  RegistrationYear  Gearbox     Power        Model  \\\n",
       "297798  5529.285748                 3        1  0.023660  4533.832314   \n",
       "6887    6966.268905                 2        1 -0.872848  6273.648068   \n",
       "173409  2660.588042                 5        1 -0.791347  2011.609147   \n",
       "\n",
       "        Kilometer     FuelType        Brand  Repaired  \n",
       "297798   0.581387  6721.375283  3584.965261         0  \n",
       "6887    -3.175348  3747.328730  4590.765657         0  \n",
       "173409   0.581387  3747.328730  2890.442750         0  "
      ]
     },
     "metadata": {},
     "output_type": "display_data"
    },
    {
     "name": "stdout",
     "output_type": "stream",
     "text": [
      "<class 'pandas.core.frame.DataFrame'>\n",
      "Int64Index: 65320 entries, 297798 to 59641\n",
      "Data columns (total 9 columns):\n",
      " #   Column            Non-Null Count  Dtype  \n",
      "---  ------            --------------  -----  \n",
      " 0   VehicleType       65320 non-null  float64\n",
      " 1   RegistrationYear  65320 non-null  int64  \n",
      " 2   Gearbox           65320 non-null  int64  \n",
      " 3   Power             65320 non-null  float64\n",
      " 4   Model             65320 non-null  float64\n",
      " 5   Kilometer         65320 non-null  float64\n",
      " 6   FuelType          65320 non-null  float64\n",
      " 7   Brand             65320 non-null  float64\n",
      " 8   Repaired          65320 non-null  int64  \n",
      "dtypes: float64(6), int64(3)\n",
      "memory usage: 5.0 MB\n"
     ]
    }
   ],
   "source": [
    "n = ['Power', 'Kilometer']\n",
    "\n",
    "scaler = StandardScaler()\n",
    "\n",
    "scaler.fit(train_features[n]) \n",
    "train_features[n] = scaler.transform(train_features[n])\n",
    "display(train_features.head(3))\n",
    "train_features.info()\n",
    "\n",
    "valid_features[n] = scaler.transform(valid_features[n])\n",
    "display(valid_features.head(3))\n",
    "valid_features.info()\n",
    "\n",
    "test_features[n] = scaler.transform(test_features[n])\n",
    "display(test_features.head(3))\n",
    "test_features.info()"
   ]
  },
  {
   "cell_type": "markdown",
   "metadata": {},
   "source": [
    " <b>Вывод:</b> Мы разделили данные на учебную, валидационную и тестовую выборки в соотношении 3:1:1, провели подготовку признаков для построения моделей которая состояла в следующем:\n",
    "\n",
    "категоризировали признаки 'Gearbox', 'Repaired' и 'RegistrationYear'; \n",
    "    \n",
    "закодировали техникой  целевого кодирования признаки 'VehicleType', 'Model','FuelType','Brand';\n",
    "    \n",
    "стандартизировали посредством модуля StandardScaler признаки  'Power', 'Kilometer'. \n",
    "    "
   ]
  },
  {
   "cell_type": "markdown",
   "metadata": {},
   "source": [
    "## Обучение моделей"
   ]
  },
  {
   "cell_type": "markdown",
   "metadata": {},
   "source": [
    "В соответствии с условием проекта мы построим несколько моделей машинного обучения: \n",
    "\n",
    "Случайный лес и Дерево решений (при гиперпараметрах по умолчанию и с подборкой гиперпараметров с использованием GridSearchCV по каждой модели), \n",
    "\n",
    "модели градиентного бустинга LightGBM  также с гиперпараметрами по умолчанию и их подбором GridSearchCV,\n",
    "\n",
    "модели градиентного бустинга CatBoost с гиперпараметрами по умолчанию на преобразованных признаках и с передачей категориальных признаков 'VehicleType', 'Model','FuelType','Brand' , которые остались в исходном состоянии в выборках, сохраненных в специальных переменных.\n",
    "\n",
    "При обучении каждой модели и получении предсказаний мы измерим время выполнения ячейки кода методом %%time."
   ]
  },
  {
   "cell_type": "markdown",
   "metadata": {},
   "source": [
    "### Cлучайный лес"
   ]
  },
  {
   "cell_type": "markdown",
   "metadata": {},
   "source": [
    "Построим модель Случайный лес при гиперпараметрах, за исключением random_state по умолчанию. "
   ]
  },
  {
   "cell_type": "code",
   "execution_count": 591,
   "metadata": {},
   "outputs": [
    {
     "name": "stdout",
     "output_type": "stream",
     "text": [
      "CPU times: total: 32.2 s\n",
      "Wall time: 33.1 s\n"
     ]
    },
    {
     "data": {
      "text/plain": [
       "RandomForestRegressor(random_state=RandomState(MT19937) at 0x19E9C8D4C40)"
      ]
     },
     "execution_count": 591,
     "metadata": {},
     "output_type": "execute_result"
    }
   ],
   "source": [
    "%%time\n",
    "forest_default = RandomForestRegressor(random_state= STATE)\n",
    "forest_default.fit(train_features,train_target)"
   ]
  },
  {
   "cell_type": "code",
   "execution_count": 592,
   "metadata": {},
   "outputs": [
    {
     "name": "stdout",
     "output_type": "stream",
     "text": [
      "CPU times: total: 1.66 s\n",
      "Wall time: 1.67 s\n"
     ]
    }
   ],
   "source": [
    "%%time\n",
    "prediction_forest_default = forest_default.predict(valid_features)"
   ]
  },
  {
   "cell_type": "code",
   "execution_count": 593,
   "metadata": {},
   "outputs": [
    {
     "data": {
      "text/plain": [
       "1812"
      ]
     },
     "execution_count": 593,
     "metadata": {},
     "output_type": "execute_result"
    }
   ],
   "source": [
    "rmse_forest_default = round(mean_squared_error(valid_target, prediction_forest_default)**0.5)\n",
    "rmse_forest_default"
   ]
  },
  {
   "cell_type": "markdown",
   "metadata": {},
   "source": [
    "Подберем для Случайного леса лучшие гиперпараметры"
   ]
  },
  {
   "cell_type": "code",
   "execution_count": 594,
   "metadata": {},
   "outputs": [
    {
     "name": "stdout",
     "output_type": "stream",
     "text": [
      "Fitting 3 folds for each of 128 candidates, totalling 384 fits\n"
     ]
    }
   ],
   "source": [
    "rf_params = {'n_estimators': [10, 20, 30, 40],\n",
    "             'max_features': ['auto', 'sqrt'],\n",
    "             'max_depth': [2,4,6,8],\n",
    "             'min_samples_leaf': [1, 2, 3, 4],\n",
    "             'random_state' : [12345]}\n",
    "forest_model = GridSearchCV(RandomForestRegressor(random_state=12345\n",
    "                                                 ),rf_params,scoring='neg_mean_squared_error', n_jobs=-1, cv = 3, verbose=2)\n",
    "forest_model.fit(train_features,train_target)\n",
    "forest_predictions = forest_model.predict(valid_features)"
   ]
  },
  {
   "cell_type": "code",
   "execution_count": 595,
   "metadata": {},
   "outputs": [
    {
     "name": "stdout",
     "output_type": "stream",
     "text": [
      "Лучшие гиперпараметры для модели 'Случайный лес' установлены: {'max_depth': 8, 'max_features': 'sqrt', 'min_samples_leaf': 2, 'n_estimators': 40, 'random_state': 12345}\n"
     ]
    }
   ],
   "source": [
    "print(\"Лучшие гиперпараметры для модели 'Случайный лес' установлены:\",forest_model.best_params_)"
   ]
  },
  {
   "cell_type": "code",
   "execution_count": 596,
   "metadata": {},
   "outputs": [
    {
     "name": "stdout",
     "output_type": "stream",
     "text": [
      "CPU times: total: 7.38 s\n",
      "Wall time: 7.5 s\n"
     ]
    },
    {
     "data": {
      "text/plain": [
       "RandomForestRegressor(max_depth=8, min_samples_leaf=2, n_estimators=40,\n",
       "                      random_state=RandomState(MT19937) at 0x19E9C8D4C40)"
      ]
     },
     "execution_count": 596,
     "metadata": {},
     "output_type": "execute_result"
    }
   ],
   "source": [
    "%%time\n",
    "forest_best = RandomForestRegressor(random_state= STATE , max_depth=8, min_samples_leaf = 2, n_estimators = 40)\n",
    "forest_best.fit(train_features,train_target)"
   ]
  },
  {
   "cell_type": "code",
   "execution_count": 597,
   "metadata": {},
   "outputs": [
    {
     "name": "stdout",
     "output_type": "stream",
     "text": [
      "CPU times: total: 188 ms\n",
      "Wall time: 157 ms\n"
     ]
    }
   ],
   "source": [
    "%%time\n",
    "prediction_forest_best = forest_best.predict(valid_features)"
   ]
  },
  {
   "cell_type": "code",
   "execution_count": 598,
   "metadata": {},
   "outputs": [
    {
     "data": {
      "text/plain": [
       "2187"
      ]
     },
     "execution_count": 598,
     "metadata": {},
     "output_type": "execute_result"
    }
   ],
   "source": [
    "rmse_forest_best = round(mean_squared_error(valid_target, prediction_forest_best)**0.5)\n",
    "rmse_forest_best"
   ]
  },
  {
   "cell_type": "markdown",
   "metadata": {},
   "source": [
    "Метрика RMSE обеих моделей Случайного леса ниже порогового значения, установленного заказчиком (2500) и составляет соответственно у модели, построенной при гиперпараметрах по умолчанию 1812, у модели с подбором гиперпараметров - 2187. \n",
    "\n",
    "Скорость обучения Случайного леса, построенного при гиперпараметрах по умолчанию низкая (33 с.)"
   ]
  },
  {
   "cell_type": "markdown",
   "metadata": {},
   "source": [
    "### Дерево решений"
   ]
  },
  {
   "cell_type": "markdown",
   "metadata": {},
   "source": [
    "Построим модель дерева решений при гиперпараметрах, за исключением random_state, по умолчанию"
   ]
  },
  {
   "cell_type": "code",
   "execution_count": 599,
   "metadata": {},
   "outputs": [
    {
     "name": "stdout",
     "output_type": "stream",
     "text": [
      "CPU times: total: 500 ms\n",
      "Wall time: 508 ms\n"
     ]
    },
    {
     "data": {
      "text/plain": [
       "DecisionTreeRegressor(random_state=RandomState(MT19937) at 0x19E9C8D4C40)"
      ]
     },
     "execution_count": 599,
     "metadata": {},
     "output_type": "execute_result"
    }
   ],
   "source": [
    "%%time\n",
    "tree_default = DecisionTreeRegressor(random_state = STATE)\n",
    "tree_default.fit(train_features, train_target)"
   ]
  },
  {
   "cell_type": "code",
   "execution_count": 600,
   "metadata": {},
   "outputs": [
    {
     "name": "stdout",
     "output_type": "stream",
     "text": [
      "CPU times: total: 46.9 ms\n",
      "Wall time: 31 ms\n"
     ]
    }
   ],
   "source": [
    "%%time\n",
    "predictions_tree_default = tree_default.predict(valid_features)"
   ]
  },
  {
   "cell_type": "code",
   "execution_count": 601,
   "metadata": {},
   "outputs": [
    {
     "data": {
      "text/plain": [
       "2078"
      ]
     },
     "execution_count": 601,
     "metadata": {},
     "output_type": "execute_result"
    }
   ],
   "source": [
    "rmse_tree_default = round(mean_squared_error(valid_target, predictions_tree_default)**0.5)\n",
    "rmse_tree_default"
   ]
  },
  {
   "cell_type": "markdown",
   "metadata": {},
   "source": [
    "Подберем для дерева решений наилучшие гиперпараметры"
   ]
  },
  {
   "cell_type": "code",
   "execution_count": 602,
   "metadata": {},
   "outputs": [
    {
     "data": {
      "text/plain": [
       "GridSearchCV(cv=5,\n",
       "             estimator=DecisionTreeRegressor(random_state=RandomState(MT19937) at 0x19E9C8D4C40),\n",
       "             param_grid={'max_depth': range(1, 10),\n",
       "                         'min_samples_leaf': range(1, 11, 2)},\n",
       "             scoring='neg_mean_squared_error')"
      ]
     },
     "execution_count": 602,
     "metadata": {},
     "output_type": "execute_result"
    }
   ],
   "source": [
    "parametrs = {'min_samples_leaf': range (1,11,2),\n",
    "             'max_depth': range (1,10)}\n",
    "tree_model = GridSearchCV(DecisionTreeRegressor(random_state=STATE), parametrs, scoring='neg_mean_squared_error',cv=5)\n",
    "tree_model.fit(train_features,train_target)"
   ]
  },
  {
   "cell_type": "code",
   "execution_count": 603,
   "metadata": {},
   "outputs": [
    {
     "name": "stdout",
     "output_type": "stream",
     "text": [
      "Лучшие гиперпараметры для модели 'Решающее дерево': {'max_depth': 9, 'min_samples_leaf': 7}\n"
     ]
    }
   ],
   "source": [
    "print(\"Лучшие гиперпараметры для модели 'Решающее дерево':\", tree_model.best_params_)"
   ]
  },
  {
   "cell_type": "code",
   "execution_count": 604,
   "metadata": {},
   "outputs": [
    {
     "name": "stdout",
     "output_type": "stream",
     "text": [
      "CPU times: total: 312 ms\n",
      "Wall time: 312 ms\n"
     ]
    },
    {
     "data": {
      "text/plain": [
       "DecisionTreeRegressor(max_depth=9, min_samples_leaf=7,\n",
       "                      random_state=RandomState(MT19937) at 0x19E9C8D4C40)"
      ]
     },
     "execution_count": 604,
     "metadata": {},
     "output_type": "execute_result"
    }
   ],
   "source": [
    "%%time\n",
    "tree_best = DecisionTreeRegressor(random_state = STATE, max_depth=9, min_samples_leaf = 7)\n",
    "tree_best.fit(train_features, train_target)"
   ]
  },
  {
   "cell_type": "code",
   "execution_count": 605,
   "metadata": {},
   "outputs": [
    {
     "name": "stdout",
     "output_type": "stream",
     "text": [
      "CPU times: total: 15.6 ms\n",
      "Wall time: 12 ms\n"
     ]
    }
   ],
   "source": [
    "%%time\n",
    "predictions_tree_best = tree_best.predict(valid_features)"
   ]
  },
  {
   "cell_type": "code",
   "execution_count": 606,
   "metadata": {},
   "outputs": [
    {
     "data": {
      "text/plain": [
       "2190"
      ]
     },
     "execution_count": 606,
     "metadata": {},
     "output_type": "execute_result"
    }
   ],
   "source": [
    "rmse_tree_best = round(mean_squared_error(valid_target, predictions_tree_best)**0.5)\n",
    "rmse_tree_best"
   ]
  },
  {
   "cell_type": "markdown",
   "metadata": {},
   "source": [
    " RMSE моделей Дерева решений, построенных при гиперпараметрах по умолчанию и при их подборе, как и у Случайного леса, не достигла критического порога и составила соответственно 2078 и 2190. Однако, скорость обучения измеряется в милисекундах, что делает эти модели предпочтительнее по сравнению с обеими моделями Случайного леса."
   ]
  },
  {
   "cell_type": "markdown",
   "metadata": {},
   "source": [
    "### Градиентный бустинг с использованием библиотеки LightGBM"
   ]
  },
  {
   "cell_type": "markdown",
   "metadata": {},
   "source": [
    "Для построения модели градиентного бустинга LightGBM мы импоритровали библиотеку lightgbm. Сначала построим модель с гиперпараматрами по умолчанию кроме random_state, который у нас для всех моделей одинаков 12345.\n",
    "\n",
    "Для этого создаем экземпляр Dataset, который представляет собой внутреннюю структуру данных lightgbm для хранения данных и меток,\n",
    "\n",
    "задаем params - гиперпараметры (значения по умолчанию),\n",
    "\n",
    "вызываем метод lightgbm.train(), предоставив ему датасеты для обучения и проверки, который после завершения обучения train вернет экземпляр типа Booster, который мы используем для будущих предсказаний."
   ]
  },
  {
   "cell_type": "code",
   "execution_count": 607,
   "metadata": {},
   "outputs": [],
   "source": [
    "lgb_train = lgb.Dataset(train_features, train_target) \n",
    "lgb_eval = lgb.Dataset(valid_features, valid_target, reference=lgb_train)"
   ]
  },
  {
   "cell_type": "code",
   "execution_count": 608,
   "metadata": {},
   "outputs": [
    {
     "name": "stdout",
     "output_type": "stream",
     "text": [
      "[LightGBM] [Warning] Unknown parameter: silent\n",
      "[LightGBM] [Warning] Unknown parameter: silent\n",
      "[LightGBM] [Warning] Auto-choosing row-wise multi-threading, the overhead of testing was 0.004298 seconds.\n",
      "You can set `force_row_wise=true` to remove the overhead.\n",
      "And if memory is not enough, you can set `force_col_wise=true`.\n",
      "[LightGBM] [Info] Total Bins 563\n",
      "[LightGBM] [Info] Number of data points in the train set: 195960, number of used features: 9\n",
      "[LightGBM] [Warning] Unknown parameter: silent\n",
      "[LightGBM] [Info] Start training from score 4620.075801\n",
      "CPU times: total: 5.77 s\n",
      "Wall time: 635 ms\n"
     ]
    }
   ],
   "source": [
    "%%time\n",
    "\n",
    "params = {'boosting_type':'gbdt',\n",
    "    'num_leaves':31,\n",
    "    'max_depth':-1,\n",
    "    'learning_rate':0.1,\n",
    "    'n_estimators': 100,\n",
    "    'objective':'regression', \n",
    "    'min_split_gain':0.0,\n",
    "    'min_child_samples':20,\n",
    "    'subsample':1.0,\n",
    "    'subsample_freq':0,\n",
    "    'colsample_bytree':1.0,\n",
    "    'reg_alpha':0.0,\n",
    "    'reg_lambda':0.0,\n",
    "    'random_state': 12345 ,\n",
    "    'silent':True}\n",
    "\n",
    "lgb_default = lgb.train(params, train_set=lgb_train,  valid_sets=lgb_eval,verbose_eval = False)"
   ]
  },
  {
   "cell_type": "markdown",
   "metadata": {},
   "source": [
    "Получим предсказания"
   ]
  },
  {
   "cell_type": "code",
   "execution_count": 609,
   "metadata": {},
   "outputs": [
    {
     "name": "stdout",
     "output_type": "stream",
     "text": [
      "CPU times: total: 531 ms\n",
      "Wall time: 46 ms\n"
     ]
    }
   ],
   "source": [
    "%%time\n",
    "predictions_lgb_default = lgb_default.predict(valid_features)"
   ]
  },
  {
   "cell_type": "code",
   "execution_count": 610,
   "metadata": {},
   "outputs": [
    {
     "data": {
      "text/plain": [
       "1981"
      ]
     },
     "execution_count": 610,
     "metadata": {},
     "output_type": "execute_result"
    }
   ],
   "source": [
    "rmse_lgb_default = round(mean_squared_error(valid_target, predictions_lgb_default)**0.5)\n",
    "rmse_lgb_default"
   ]
  },
  {
   "cell_type": "markdown",
   "metadata": {},
   "source": [
    "Оптимизируем параметры 'max_depth', 'learning_rate', 'n_estimators', 'min_split_gain'"
   ]
  },
  {
   "cell_type": "code",
   "execution_count": 611,
   "metadata": {},
   "outputs": [
    {
     "data": {
      "text/plain": [
       "GridSearchCV(estimator=LGBMRegressor(),\n",
       "             param_grid={'learning_rate': [0.01, 0.1, 1],\n",
       "                         'max_depth': [5, 9, 15, 17, 25],\n",
       "                         'min_split_gain': [0.0, 0.1, 0.2, 0.3, 0.4, 0.5, 0.6,\n",
       "                                            0.7, 0.8, 0.9, 1.0],\n",
       "                         'n_estimators': [20, 40]},\n",
       "             scoring='neg_mean_squared_error')"
      ]
     },
     "execution_count": 611,
     "metadata": {},
     "output_type": "execute_result"
    }
   ],
   "source": [
    "estimator = lgb.LGBMRegressor()\n",
    "\n",
    "param_grid = {'max_depth': [5, 9, 15, 17, 25],\n",
    "             'learning_rate': [0.01, 0.1, 1],\n",
    "             'n_estimators': [20, 40],\n",
    "             'min_split_gain':[0.0,0.1,0.2,0.3,0.4,0.5,0.6,0.7,0.8,0.9,1.0]\n",
    "}\n",
    "\n",
    "gbm = GridSearchCV(estimator, param_grid, scoring='neg_mean_squared_error')\n",
    "gbm.fit(train_features, train_target)"
   ]
  },
  {
   "cell_type": "code",
   "execution_count": 612,
   "metadata": {},
   "outputs": [
    {
     "name": "stdout",
     "output_type": "stream",
     "text": [
      "Лучшие гиперпараметры для модели LightGBM: {'learning_rate': 1, 'max_depth': 9, 'min_split_gain': 0.0, 'n_estimators': 40}\n"
     ]
    }
   ],
   "source": [
    "print('Лучшие гиперпараметры для модели LightGBM:', gbm.best_params_)"
   ]
  },
  {
   "cell_type": "code",
   "execution_count": 613,
   "metadata": {},
   "outputs": [
    {
     "name": "stdout",
     "output_type": "stream",
     "text": [
      "[LightGBM] [Warning] Accuracy may be bad since you didn't explicitly set num_leaves OR 2^max_depth > num_leaves. (num_leaves=31).\n",
      "[LightGBM] [Warning] Unknown parameter: silent\n",
      "[LightGBM] [Warning] Accuracy may be bad since you didn't explicitly set num_leaves OR 2^max_depth > num_leaves. (num_leaves=31).\n",
      "[LightGBM] [Warning] Accuracy may be bad since you didn't explicitly set num_leaves OR 2^max_depth > num_leaves. (num_leaves=31).\n",
      "[LightGBM] [Warning] Auto-choosing row-wise multi-threading, the overhead of testing was 0.004570 seconds.\n",
      "You can set `force_row_wise=true` to remove the overhead.\n",
      "And if memory is not enough, you can set `force_col_wise=true`.\n",
      "[LightGBM] [Info] Total Bins 563\n",
      "[LightGBM] [Info] Number of data points in the train set: 195960, number of used features: 9\n",
      "[LightGBM] [Info] Start training from score 4620.075801\n",
      "CPU times: total: 1.66 s\n",
      "Wall time: 142 ms\n"
     ]
    }
   ],
   "source": [
    "%%time\n",
    "\n",
    "params = {\n",
    "        'max_depth':9,\n",
    "        'learning_rate':1.0,\n",
    "        'n_estimators': 40,\n",
    "        'min_split_gain':0.0,\n",
    "        'random_state': 12345 ,\n",
    "    }\n",
    "\n",
    "\n",
    "lgb_best = lgb.train(params,  train_set=lgb_train,  valid_sets=lgb_eval, verbose_eval = False)"
   ]
  },
  {
   "cell_type": "code",
   "execution_count": 614,
   "metadata": {},
   "outputs": [
    {
     "name": "stdout",
     "output_type": "stream",
     "text": [
      "CPU times: total: 297 ms\n",
      "Wall time: 34 ms\n"
     ]
    }
   ],
   "source": [
    "%%time\n",
    "predictions_lgb_best = lgb_best.predict(valid_features)"
   ]
  },
  {
   "cell_type": "code",
   "execution_count": 615,
   "metadata": {},
   "outputs": [
    {
     "data": {
      "text/plain": [
       "1976"
      ]
     },
     "execution_count": 615,
     "metadata": {},
     "output_type": "execute_result"
    }
   ],
   "source": [
    "rmse_lgb_best = round(mean_squared_error(valid_target, predictions_lgb_best)**0.5)\n",
    "rmse_lgb_best"
   ]
  },
  {
   "cell_type": "markdown",
   "metadata": {},
   "source": [
    "Модели градиентного бустинга LightGBM обучаются значительно быстрее моделей Случайного леса и Дерева решений. Метрика RMSE также значительно ниже требуемого порога 1981 и 1976, что делает обе модели этого типа приемлемыми. "
   ]
  },
  {
   "cell_type": "markdown",
   "metadata": {},
   "source": [
    "### Градиентный бустинг с использованием библиотеки CatBoost"
   ]
  },
  {
   "cell_type": "markdown",
   "metadata": {},
   "source": [
    "Для построения моделей градиентного бустинга CatBoost мы импортировали библиотеку catboost. Мы построим две модели машинного обучения этого типа: при гиперпараметрах по умолчанию и с передачей категориальных признаков без кодирования, а числовых без страдартизации.  "
   ]
  },
  {
   "cell_type": "markdown",
   "metadata": {},
   "source": [
    "Строим модель CatBoost с гиперпараметрами по умолчанию."
   ]
  },
  {
   "cell_type": "code",
   "execution_count": 616,
   "metadata": {},
   "outputs": [
    {
     "name": "stdout",
     "output_type": "stream",
     "text": [
      "CPU times: total: 1min 44s\n",
      "Wall time: 14.3 s\n"
     ]
    },
    {
     "data": {
      "text/plain": [
       "<catboost.core.CatBoostRegressor at 0x19ec7de1ee0>"
      ]
     },
     "execution_count": 616,
     "metadata": {},
     "output_type": "execute_result"
    }
   ],
   "source": [
    "%%time\n",
    "\n",
    "cbr_default = CatBoostRegressor(random_state=12345)\n",
    "cbr_default.fit(train_features, train_target,verbose_eval = False)"
   ]
  },
  {
   "cell_type": "code",
   "execution_count": 617,
   "metadata": {},
   "outputs": [
    {
     "name": "stdout",
     "output_type": "stream",
     "text": [
      "CPU times: total: 141 ms\n",
      "Wall time: 22.9 ms\n"
     ]
    }
   ],
   "source": [
    "%%time\n",
    "predictions_cbr_default = cbr_default.predict(valid_features)"
   ]
  },
  {
   "cell_type": "code",
   "execution_count": 618,
   "metadata": {},
   "outputs": [
    {
     "data": {
      "text/plain": [
       "1879"
      ]
     },
     "execution_count": 618,
     "metadata": {},
     "output_type": "execute_result"
    }
   ],
   "source": [
    "rmse_cbr_default = round(mean_squared_error(valid_target, predictions_cbr_default)**0.5)\n",
    "rmse_cbr_default"
   ]
  },
  {
   "cell_type": "markdown",
   "metadata": {},
   "source": [
    "Строим модель CatBoost, которой передаем признаки, сохраненные в переменной original_train_features, в которой количественные значения не стандартизированы, а категориальные признаки 'VehicleType', 'Model','FuelType','Brand' также в первоначальном виде - без кодирования."
   ]
  },
  {
   "cell_type": "code",
   "execution_count": 619,
   "metadata": {},
   "outputs": [
    {
     "name": "stdout",
     "output_type": "stream",
     "text": [
      "Learning rate set to 0.31127\n",
      "0:\tlearn: 3690.8946184\ttest: 3722.7203501\tbest: 3722.7203501 (0)\ttotal: 110ms\tremaining: 22s\n",
      "35:\tlearn: 2071.1351289\ttest: 2094.6925267\tbest: 2094.6925267 (35)\ttotal: 3.39s\tremaining: 15.4s\n",
      "70:\tlearn: 1990.0575421\ttest: 2018.8564322\tbest: 2018.8564322 (70)\ttotal: 6.71s\tremaining: 12.2s\n",
      "105:\tlearn: 1945.1707763\ttest: 1979.1985904\tbest: 1979.1985904 (105)\ttotal: 9.86s\tremaining: 8.74s\n",
      "140:\tlearn: 1914.1796910\ttest: 1955.0870613\tbest: 1955.0870613 (140)\ttotal: 13.2s\tremaining: 5.54s\n",
      "175:\tlearn: 1886.4647196\ttest: 1934.2946477\tbest: 1934.2946477 (175)\ttotal: 16.6s\tremaining: 2.27s\n",
      "199:\tlearn: 1873.4487802\ttest: 1925.3873895\tbest: 1925.3467709 (198)\ttotal: 19s\tremaining: 0us\n",
      "\n",
      "bestTest = 1925.346771\n",
      "bestIteration = 198\n",
      "\n",
      "Shrink model to first 199 iterations.\n",
      "CPU times: total: 1min 34s\n",
      "Wall time: 19.5 s\n"
     ]
    },
    {
     "data": {
      "text/plain": [
       "<catboost.core.CatBoostRegressor at 0x19ec7e088e0>"
      ]
     },
     "execution_count": 619,
     "metadata": {},
     "output_type": "execute_result"
    }
   ],
   "source": [
    "%%time\n",
    "\n",
    "original_cbr = CatBoostRegressor(iterations=200, random_state=12345)\n",
    "\n",
    "original_cbr.fit(original_train_features, train_target,\n",
    "         cat_features=['VehicleType', 'Model','FuelType','Brand'],\n",
    "         eval_set=(original_test_features, test_target),\n",
    "         verbose=35\n",
    ")"
   ]
  },
  {
   "cell_type": "code",
   "execution_count": 620,
   "metadata": {},
   "outputs": [
    {
     "name": "stdout",
     "output_type": "stream",
     "text": [
      "CPU times: total: 266 ms\n",
      "Wall time: 84.4 ms\n"
     ]
    }
   ],
   "source": [
    "%%time\n",
    "predictions_original_cbr = original_cbr.predict(original_valid_features)"
   ]
  },
  {
   "cell_type": "code",
   "execution_count": 621,
   "metadata": {},
   "outputs": [
    {
     "data": {
      "text/plain": [
       "1924"
      ]
     },
     "execution_count": 621,
     "metadata": {},
     "output_type": "execute_result"
    }
   ],
   "source": [
    "rmse_original_original_cbr = round(mean_squared_error(valid_target,predictions_original_cbr)**0.5)\n",
    "rmse_original_original_cbr "
   ]
  },
  {
   "cell_type": "markdown",
   "metadata": {},
   "source": [
    "Модели градиентного бустинга CatBoost, построенные как на преобразованных данных, так и с минимальной предобработкой (без стандартизирования числовых признаков и кодирования категориальных) показали  высокую скорость обучения и метрику RMSE, значительно лучше требуемой 1879 и 1924."
   ]
  },
  {
   "cell_type": "markdown",
   "metadata": {},
   "source": [
    "<b>Вывод:</b> Мы построили несколько моделей, предсказывающих рыночную стоимость автомобиля:Случайный лес и Дерево решений (при гиперпараметрах по умолчанию и с подборкой гиперпараметров с использованием GridSearchCV по каждой модели), модели градиентного бустинга LightGBM также с гиперпараметрами по умолчанию и их подбором GridSearchCV, модели градиентного бустинга CatBoost с гиперпараметрами по умолчанию на преобразованных признаках и с передачей категориальных признаков в исходном состоянии.\n",
    "    \n",
    "Метрика RMSE всех моделей, полученная на предсказаниях валидационной выборки, значительно ниже установленного заказчиком порога 2500. Однако скорость обучения и предсказаний значительно разнится. Для проведения анализа визуализируем результаты работы моделей.  "
   ]
  },
  {
   "cell_type": "markdown",
   "metadata": {},
   "source": [
    "## Анализ и тестирование моделей"
   ]
  },
  {
   "cell_type": "markdown",
   "metadata": {},
   "source": [
    "По условию проекта необходимо выбрать наилучшую модель и проверить ее работу на тестовой выборке. \n",
    "\n",
    "Для визуализации результатов работы модели создадим датафрейм.\n",
    "\n",
    "Выберем модель, имеющую самые лучшие показатели - метрику RMSE и приемлемую скорость обучения, проверим ее работу на тестовой выборке, сделаем выводы."
   ]
  },
  {
   "cell_type": "markdown",
   "metadata": {},
   "source": [
    "### Анализ моделей"
   ]
  },
  {
   "cell_type": "code",
   "execution_count": 626,
   "metadata": {},
   "outputs": [
    {
     "data": {
      "text/html": [
       "<div>\n",
       "<style scoped>\n",
       "    .dataframe tbody tr th:only-of-type {\n",
       "        vertical-align: middle;\n",
       "    }\n",
       "\n",
       "    .dataframe tbody tr th {\n",
       "        vertical-align: top;\n",
       "    }\n",
       "\n",
       "    .dataframe thead th {\n",
       "        text-align: right;\n",
       "    }\n",
       "</style>\n",
       "<table border=\"1\" class=\"dataframe\">\n",
       "  <thead>\n",
       "    <tr style=\"text-align: right;\">\n",
       "      <th></th>\n",
       "      <th>RMSE</th>\n",
       "      <th>Wall learning time (s)</th>\n",
       "      <th>Wall time pediction (s)</th>\n",
       "    </tr>\n",
       "  </thead>\n",
       "  <tbody>\n",
       "    <tr>\n",
       "      <th>forest_default</th>\n",
       "      <td>1812</td>\n",
       "      <td>33.100</td>\n",
       "      <td>1.680</td>\n",
       "    </tr>\n",
       "    <tr>\n",
       "      <th>forest_best</th>\n",
       "      <td>2187</td>\n",
       "      <td>7.500</td>\n",
       "      <td>0.157</td>\n",
       "    </tr>\n",
       "    <tr>\n",
       "      <th>tree_default</th>\n",
       "      <td>2078</td>\n",
       "      <td>0.500</td>\n",
       "      <td>0.031</td>\n",
       "    </tr>\n",
       "    <tr>\n",
       "      <th>tree_best</th>\n",
       "      <td>2190</td>\n",
       "      <td>0.312</td>\n",
       "      <td>0.012</td>\n",
       "    </tr>\n",
       "    <tr>\n",
       "      <th>lgb_default</th>\n",
       "      <td>1981</td>\n",
       "      <td>0.635</td>\n",
       "      <td>0.046</td>\n",
       "    </tr>\n",
       "    <tr>\n",
       "      <th>lgb_best</th>\n",
       "      <td>1976</td>\n",
       "      <td>0.142</td>\n",
       "      <td>0.034</td>\n",
       "    </tr>\n",
       "    <tr>\n",
       "      <th>cbr_default</th>\n",
       "      <td>1879</td>\n",
       "      <td>14.300</td>\n",
       "      <td>0.022</td>\n",
       "    </tr>\n",
       "    <tr>\n",
       "      <th>original_cbr</th>\n",
       "      <td>1924</td>\n",
       "      <td>19.500</td>\n",
       "      <td>0.084</td>\n",
       "    </tr>\n",
       "  </tbody>\n",
       "</table>\n",
       "</div>"
      ],
      "text/plain": [
       "                RMSE  Wall learning time (s)  Wall time pediction (s)\n",
       "forest_default  1812                  33.100                    1.680\n",
       "forest_best     2187                   7.500                    0.157\n",
       "tree_default    2078                   0.500                    0.031\n",
       "tree_best       2190                   0.312                    0.012\n",
       "lgb_default     1981                   0.635                    0.046\n",
       "lgb_best        1976                   0.142                    0.034\n",
       "cbr_default     1879                  14.300                    0.022\n",
       "original_cbr    1924                  19.500                    0.084"
      ]
     },
     "execution_count": 626,
     "metadata": {},
     "output_type": "execute_result"
    }
   ],
   "source": [
    "index = ['forest_default',\n",
    "         'forest_best',\n",
    "         'tree_default',\n",
    "         'tree_best',\n",
    "         'lgb_default',\n",
    "         'lgb_best',\n",
    "         'cbr_default',\n",
    "          'original_cbr']\n",
    "data = {'RMSE':[rmse_forest_default,\n",
    "                rmse_forest_best,\n",
    "                rmse_tree_default,\n",
    "                rmse_tree_best,\n",
    "                rmse_lgb_default,\n",
    "                rmse_lgb_best,\n",
    "                rmse_cbr_default,\n",
    "                rmse_original_original_cbr],\n",
    "        'Wall learning time (s)':[33.1,\n",
    "                               7.5,\n",
    "                               0.500,\n",
    "                               0.312,\n",
    "                               0.635,\n",
    "                               0.142,\n",
    "                               14.3,\n",
    "                               19.5],\n",
    "        \n",
    "        'Wall time pediction (s)':[1.68,\n",
    "                                          0.157,\n",
    "                                          0.031,\n",
    "                                          0.012,\n",
    "                                          0.046,\n",
    "                                          0.034,\n",
    "                                          0.022,\n",
    "                                          0.084]}\n",
    "\n",
    "scores_data = pd.DataFrame(data=data, index=index)\n",
    "\n",
    "scores_data"
   ]
  },
  {
   "cell_type": "markdown",
   "metadata": {},
   "source": [
    "<b>Вывод:</b> Метрики RMSE всех построенных моделей отвечают требованиям заказчика и варируются в пределах 1812 - 2190. \n",
    "    \n",
    "Скорость обучения моделей - в пределах 142 мс. - 33.1 с, скорость предсказаний - от 22 мс. до 1.68 с.\n",
    "    \n",
    "Самая низкая метрика RMSE (1812) у модели Случайный лес, построенной при гиперпараметрах по умолчанию. Но у этой же модели самая низкая скорость обучения и получения предсказаний (33 с. и 1.68 с. соответственно) в связи с чем она не может быть выбрана для тестирования.  \n",
    "   \n",
    "Самая высокая скорость обучения у моделей градиентного бустинга LightGBM, однако RMSE этих моделей на уровне среднего значения по сравнению с другими моделями.     \n",
    "    \n",
    "На втором месте по значению RMSE (1879) у модели градиентного бустинга CatBoost с гиперпараметрами по умолчанию. Скорость обучения у данной модели более чем в два раза выше Случайного леса.  Ее и выберем для тестирования на тестовой выборке."
   ]
  },
  {
   "cell_type": "markdown",
   "metadata": {},
   "source": [
    "Для тестирования выбрана, которая признана лучшей - модель градиентного бустинга CatBoost с гиперпараметрами по умолчанию.\n",
    "</div>"
   ]
  },
  {
   "cell_type": "markdown",
   "metadata": {},
   "source": [
    "### Тестирование моделей"
   ]
  },
  {
   "cell_type": "markdown",
   "metadata": {},
   "source": [
    "Предсказания LightGBM модели с подбором гиперпараметров."
   ]
  },
  {
   "cell_type": "code",
   "execution_count": 623,
   "metadata": {},
   "outputs": [
    {
     "name": "stdout",
     "output_type": "stream",
     "text": [
      "CPU times: total: 156 ms\n",
      "Wall time: 16.3 ms\n"
     ]
    }
   ],
   "source": [
    "%%time\n",
    "test_cbr_default = cbr_default.predict(test_features)"
   ]
  },
  {
   "cell_type": "code",
   "execution_count": 624,
   "metadata": {},
   "outputs": [
    {
     "data": {
      "text/plain": [
       "1879"
      ]
     },
     "execution_count": 624,
     "metadata": {},
     "output_type": "execute_result"
    }
   ],
   "source": [
    "rmse_test_cbr_default = round(mean_squared_error(test_target, test_cbr_default)**0.5)\n",
    "rmse_test_cbr_default"
   ]
  },
  {
   "cell_type": "markdown",
   "metadata": {},
   "source": [
    "К лучшей модели применяем метод  feature_importances_ для визуализации значимости признаков и строим график.\n",
    "</div>"
   ]
  },
  {
   "cell_type": "code",
   "execution_count": 625,
   "metadata": {},
   "outputs": [
    {
     "data": {
      "text/html": [
       "<div>\n",
       "<style scoped>\n",
       "    .dataframe tbody tr th:only-of-type {\n",
       "        vertical-align: middle;\n",
       "    }\n",
       "\n",
       "    .dataframe tbody tr th {\n",
       "        vertical-align: top;\n",
       "    }\n",
       "\n",
       "    .dataframe thead th {\n",
       "        text-align: right;\n",
       "    }\n",
       "</style>\n",
       "<table border=\"1\" class=\"dataframe\">\n",
       "  <thead>\n",
       "    <tr style=\"text-align: right;\">\n",
       "      <th></th>\n",
       "      <th>feature</th>\n",
       "      <th>importance</th>\n",
       "    </tr>\n",
       "  </thead>\n",
       "  <tbody>\n",
       "    <tr>\n",
       "      <th>0</th>\n",
       "      <td>RegistrationYear</td>\n",
       "      <td>28.882379</td>\n",
       "    </tr>\n",
       "    <tr>\n",
       "      <th>1</th>\n",
       "      <td>Power</td>\n",
       "      <td>24.838787</td>\n",
       "    </tr>\n",
       "    <tr>\n",
       "      <th>2</th>\n",
       "      <td>Kilometer</td>\n",
       "      <td>16.250577</td>\n",
       "    </tr>\n",
       "    <tr>\n",
       "      <th>3</th>\n",
       "      <td>Model</td>\n",
       "      <td>11.315982</td>\n",
       "    </tr>\n",
       "    <tr>\n",
       "      <th>4</th>\n",
       "      <td>Brand</td>\n",
       "      <td>6.545749</td>\n",
       "    </tr>\n",
       "    <tr>\n",
       "      <th>5</th>\n",
       "      <td>FuelType</td>\n",
       "      <td>4.833293</td>\n",
       "    </tr>\n",
       "    <tr>\n",
       "      <th>6</th>\n",
       "      <td>VehicleType</td>\n",
       "      <td>4.803479</td>\n",
       "    </tr>\n",
       "    <tr>\n",
       "      <th>7</th>\n",
       "      <td>Repaired</td>\n",
       "      <td>1.952074</td>\n",
       "    </tr>\n",
       "    <tr>\n",
       "      <th>8</th>\n",
       "      <td>Gearbox</td>\n",
       "      <td>0.577680</td>\n",
       "    </tr>\n",
       "  </tbody>\n",
       "</table>\n",
       "</div>"
      ],
      "text/plain": [
       "            feature  importance\n",
       "0  RegistrationYear   28.882379\n",
       "1             Power   24.838787\n",
       "2         Kilometer   16.250577\n",
       "3             Model   11.315982\n",
       "4             Brand    6.545749\n",
       "5          FuelType    4.833293\n",
       "6       VehicleType    4.803479\n",
       "7          Repaired    1.952074\n",
       "8           Gearbox    0.577680"
      ]
     },
     "execution_count": 625,
     "metadata": {},
     "output_type": "execute_result"
    },
    {
     "data": {
      "image/png": "[encoded data removed]",
      "text/plain": [
       "<Figure size 720x360 with 1 Axes>"
      ]
     },
     "metadata": {
      "needs_background": "light"
     },
     "output_type": "display_data"
    }
   ],
   "source": [
    "importances = cbr_default.feature_importances_\n",
    "feature_list = list(train_features.columns)\n",
    "feature_results = pd.DataFrame({'feature': feature_list,'importance': importances})\n",
    "feature_results = feature_results.sort_values('importance',ascending = False).reset_index(drop=True)\n",
    "\n",
    "ax = feature_results.plot(grid=True, kind='bar', title='Важность признаков',  figsize=(10, 5))\n",
    "feature_results"
   ]
  },
  {
   "cell_type": "markdown",
   "metadata": {},
   "source": [
    " <b>Вывод:</b> При тестировании модели CatBoost с гиперпараметрами по умолчанию метрика RMSE не изменилась и составила 1879 что ниже требуемого порога и делает эту модель приемлемой для предложения заказчику.\n",
    "    \n",
    "Рапределение признаков по значимости для формирования цены автомобиля  вполне ожидаемо: на первом месте стоит возраст автомобиля, на втором - мощность, на третьем - пробег, на четвертом - модель. Такме признаки как марка автомобиля, тип кузова и топлива, практически равнозначны. Факт ремонта автомобиля и тип коробки передач определяют цену в последнюю очередь.\n",
    "    "
   ]
  },
  {
   "cell_type": "markdown",
   "metadata": {},
   "source": [
    " <b>  Итоговый вывод:</b>\n",
    "\n",
    "По заказу сервиса по продаже автомобилей с пробегом «Не бит, не крашен» разрабатывающего приложение для привлечения новых клиентов нами построены несколько моделей машинного обучения, предсказывающих рыночную стоимость автомобиля. Для построения моделей использованы предоставленные заказчиком исторические данные: технические характеристики, комплектации и цены автомобилей.\n",
    "    \n",
    "В ходе предварительной обработки данных мы устранили аномальные значения в столбцах 'Price', 'RegistrationYear' и 'Power', пропущенные значения  в столбцах 'VehicleType' и 'FuelType' заменили на типы, используемые в большинстве случаев каждой конкретной моделью автомобиля, пропуски в столбцах  'Repaired' и 'Gearbox', имеющих бинарные значения,  заменены на значения, представленные в большинстве, пропуски по столбцу 'Model' заменены на 'unknown'.  \n",
    "    \n",
    "Изучением корреляции количественных признаков установлена логичная положительная корреляция между ценой и мощьностью автомобиля и отрицательная корреляция между ценой и пробегом автомобиля.    \n",
    "    \n",
    "В стадии подготовки признаков для построения моделей категоризированы признаки 'RegistrationYear','Gearbox' и 'Repaired', техникой целевого кодирования закодированы признаки 'VehicleType', 'Model','FuelType','Brand', посредством модуля StandardScaler стандартизированы признаки 'Power', 'Kilometer'.\n",
    "\n",
    "Для построения моделей данные разделены на учебную, валидационную и тестовую выборки в соотношении 3:1:1.     \n",
    "\n",
    "\n",
    "Критерии оценки модели, определенные заказчиком, являются качество предсказания, скорость предсказания и время обучения. Для оценки качества моделей условием проекта определена метрика RMSE, значение которой должно быть меньше 2500.\n",
    "    \n",
    "В соответствии с условием проекта мы построили несколько моделей, предсказывающих рыночную стоимость автомобиля:Случайный лес и Дерево решений (при гиперпараметрах по умолчанию и с подборкой гиперпараметров с использованием GridSearchCV по каждой модели), модели градиентного бустинга LightGBM также с гиперпараметрами по умолчанию и их подбором GridSearchCV, модели градиентного бустинга CatBoost с гиперпараметрами по умолчанию на преобразованных признаках и с передачей категориальных признаков в исходном состоянии.\n",
    "    \n",
    "Метрика RMSE всех моделей, полученная на предсказаниях валидационной выборки, значительно ниже установленного заказчиком порога 2500. Однако скорость обучения и предсказаний значительно разнится. \n",
    "\n",
    "Самая низкая метрика RMSE (1812) у модели Случайный лес, построенной при гиперпараметрах по умолчанию. Но у этой же модели самая низкая скорость обучения и получения предсказаний в связи с чем она исключена из тестирования.\n",
    "    \n",
    "Самая высокая скорость обучения у моделей градиентного бустинга LightGBM, однако RMSE этих моделей на уровне среднего значения по сравнению с другими моделями.\n",
    "\n",
    "На втором месте по значению RMSE (1879) у модели градиентного бустинга CatBoost с гиперпараметрами по умолчанию. Скорость обучения у данной модели более чем в два раза выше Случайного леса в связи с чем она выбрана для тестирования на тестовой выборке.\n",
    "    \n",
    "При тестировании метрика RMSE не изменилась.  \n",
    "    \n",
    "С учетом приемлемой скорости обучения заказчику возможно предложить модель градиентного бустинга CatBoost с гиперпараметрами по умолчанию.    "
   ]
  }
 ],
 "metadata": {
  "ExecuteTimeLog": [
   {
    "duration": 1209,
    "start_time": "2023-01-18T09:40:02.217Z"
   },
   {
    "duration": 1369,
    "start_time": "2023-01-18T09:40:03.428Z"
   },
   {
    "duration": 29,
    "start_time": "2023-01-18T09:40:27.540Z"
   }
  ],
  "kernelspec": {
   "display_name": "Python 3 (ipykernel)",
   "language": "python",
   "name": "python3"
  },
  "language_info": {
   "codemirror_mode": {
    "name": "ipython",
    "version": 3
   },
   "file_extension": ".py",
   "mimetype": "text/x-python",
   "name": "python",
   "nbconvert_exporter": "python",
   "pygments_lexer": "ipython3",
   "version": "3.9.13"
  },
  "toc": {
   "base_numbering": 1,
   "nav_menu": {},
   "number_sections": true,
   "sideBar": true,
   "skip_h1_title": true,
   "title_cell": "Table of Contents",
   "title_sidebar": "Contents",
   "toc_cell": false,
   "toc_position": {},
   "toc_section_display": true,
   "toc_window_display": false
  }
 },
 "nbformat": 4,
 "nbformat_minor": 2
}
