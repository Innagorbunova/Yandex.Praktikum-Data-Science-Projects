{
 "cells": [
  {
   "cell_type": "markdown",
   "id": "b979b895",
   "metadata": {},
   "source": [
    "# Защита персональных данных клиентов"
   ]
  },
  {
   "cell_type": "markdown",
   "id": "681dcad9",
   "metadata": {},
   "source": [
    "Целью проекта является разработка метода преобразования персональных данных клиентов страховой компании «Хоть потоп» с целью их защиты, для построения модели машинного обучения, предсказывающей потенциальную возможность страховых выплат. \n",
    "\n",
    "Признаки: пол, возраст и зарплата застрахованного, количество членов его семьи.\n",
    "Целевой признак: количество страховых выплат клиенту за последние 5 лет."
   ]
  },
  {
   "cell_type": "markdown",
   "id": "04d2fa7b",
   "metadata": {},
   "source": [
    "## Загрузка данных"
   ]
  },
  {
   "cell_type": "markdown",
   "id": "228bc95e",
   "metadata": {},
   "source": [
    "Импортируем необходимые библиотеки"
   ]
  },
  {
   "cell_type": "code",
   "execution_count": 1,
   "id": "fa0c2fda",
   "metadata": {},
   "outputs": [],
   "source": [
    "import pandas as pd\n",
    "import numpy as np\n",
    "\n",
    "from sklearn.preprocessing import StandardScaler\n",
    "from sklearn.model_selection import train_test_split\n",
    "from sklearn.linear_model import LinearRegression\n",
    "from sklearn.metrics import r2_score  \n",
    "from numpy.random import RandomState\n",
    "\n",
    "import warnings\n",
    "warnings.filterwarnings('ignore')"
   ]
  },
  {
   "cell_type": "markdown",
   "id": "de176627",
   "metadata": {},
   "source": [
    "Читаем содержимое файла /datasets/insurance.csv и выводим типы данных колонок"
   ]
  },
  {
   "cell_type": "code",
   "execution_count": 3,
   "id": "0b22a054",
   "metadata": {},
   "outputs": [],
   "source": [
    "try:\n",
    "\n",
    "    data = pd.read_csv('C:\\\\Users\\\\User\\\\Downloads\\\\insurance.csv')\n",
    "except:\n",
    "\n",
    "\n",
    "    data = pd.read_csv('/datasets/insurance.csv')    "
   ]
  },
  {
   "cell_type": "code",
   "execution_count": 4,
   "id": "c651965d",
   "metadata": {},
   "outputs": [
    {
     "data": {
      "text/html": [
       "<div>\n",
       "<style scoped>\n",
       "    .dataframe tbody tr th:only-of-type {\n",
       "        vertical-align: middle;\n",
       "    }\n",
       "\n",
       "    .dataframe tbody tr th {\n",
       "        vertical-align: top;\n",
       "    }\n",
       "\n",
       "    .dataframe thead th {\n",
       "        text-align: right;\n",
       "    }\n",
       "</style>\n",
       "<table border=\"1\" class=\"dataframe\">\n",
       "  <thead>\n",
       "    <tr style=\"text-align: right;\">\n",
       "      <th></th>\n",
       "      <th>Пол</th>\n",
       "      <th>Возраст</th>\n",
       "      <th>Зарплата</th>\n",
       "      <th>Члены семьи</th>\n",
       "      <th>Страховые выплаты</th>\n",
       "    </tr>\n",
       "  </thead>\n",
       "  <tbody>\n",
       "    <tr>\n",
       "      <th>0</th>\n",
       "      <td>1</td>\n",
       "      <td>41.0</td>\n",
       "      <td>49600.0</td>\n",
       "      <td>1</td>\n",
       "      <td>0</td>\n",
       "    </tr>\n",
       "    <tr>\n",
       "      <th>1</th>\n",
       "      <td>0</td>\n",
       "      <td>46.0</td>\n",
       "      <td>38000.0</td>\n",
       "      <td>1</td>\n",
       "      <td>1</td>\n",
       "    </tr>\n",
       "    <tr>\n",
       "      <th>2</th>\n",
       "      <td>0</td>\n",
       "      <td>29.0</td>\n",
       "      <td>21000.0</td>\n",
       "      <td>0</td>\n",
       "      <td>0</td>\n",
       "    </tr>\n",
       "    <tr>\n",
       "      <th>3</th>\n",
       "      <td>0</td>\n",
       "      <td>21.0</td>\n",
       "      <td>41700.0</td>\n",
       "      <td>2</td>\n",
       "      <td>0</td>\n",
       "    </tr>\n",
       "    <tr>\n",
       "      <th>4</th>\n",
       "      <td>1</td>\n",
       "      <td>28.0</td>\n",
       "      <td>26100.0</td>\n",
       "      <td>0</td>\n",
       "      <td>0</td>\n",
       "    </tr>\n",
       "  </tbody>\n",
       "</table>\n",
       "</div>"
      ],
      "text/plain": [
       "   Пол  Возраст  Зарплата  Члены семьи  Страховые выплаты\n",
       "0    1     41.0   49600.0            1                  0\n",
       "1    0     46.0   38000.0            1                  1\n",
       "2    0     29.0   21000.0            0                  0\n",
       "3    0     21.0   41700.0            2                  0\n",
       "4    1     28.0   26100.0            0                  0"
      ]
     },
     "metadata": {},
     "output_type": "display_data"
    },
    {
     "name": "stdout",
     "output_type": "stream",
     "text": [
      "\n",
      "<class 'pandas.core.frame.DataFrame'>\n",
      "RangeIndex: 5000 entries, 0 to 4999\n",
      "Data columns (total 5 columns):\n",
      " #   Column             Non-Null Count  Dtype  \n",
      "---  ------             --------------  -----  \n",
      " 0   Пол                5000 non-null   int64  \n",
      " 1   Возраст            5000 non-null   float64\n",
      " 2   Зарплата           5000 non-null   float64\n",
      " 3   Члены семьи        5000 non-null   int64  \n",
      " 4   Страховые выплаты  5000 non-null   int64  \n",
      "dtypes: float64(2), int64(3)\n",
      "memory usage: 195.4 KB\n"
     ]
    }
   ],
   "source": [
    "display(data.head(5))\n",
    "print('')\n",
    "data.info()"
   ]
  },
  {
   "cell_type": "markdown",
   "id": "702c1f44",
   "metadata": {},
   "source": [
    "Проверяем наличие пропусков и дубликатов"
   ]
  },
  {
   "cell_type": "code",
   "execution_count": 5,
   "id": "fac0b9db",
   "metadata": {},
   "outputs": [
    {
     "data": {
      "text/plain": [
       "153"
      ]
     },
     "execution_count": 5,
     "metadata": {},
     "output_type": "execute_result"
    }
   ],
   "source": [
    "data.duplicated().sum()"
   ]
  },
  {
   "cell_type": "markdown",
   "id": "a3acc7ab",
   "metadata": {},
   "source": [
    "В данных 153 полных дубликата. Однако все данные численные и в совокупности даже по каждому отдельному объекту не могут быть эксклюзивными. Полное совпадение таких параметров как пол, возраст, зарплата, количество членов семьи и полученных страховых выплат у 153 клиентов из 5000 вполне реально. В указанной связи от дубликатов избавляться не станем. "
   ]
  },
  {
   "cell_type": "code",
   "execution_count": 6,
   "id": "892678d3",
   "metadata": {},
   "outputs": [
    {
     "data": {
      "text/plain": [
       "Пол                  0\n",
       "Возраст              0\n",
       "Зарплата             0\n",
       "Члены семьи          0\n",
       "Страховые выплаты    0\n",
       "dtype: int64"
      ]
     },
     "execution_count": 6,
     "metadata": {},
     "output_type": "execute_result"
    }
   ],
   "source": [
    "data.isna().sum()"
   ]
  },
  {
   "cell_type": "markdown",
   "id": "6711216d",
   "metadata": {},
   "source": [
    "Пропуски в данных отсутствуют"
   ]
  },
  {
   "cell_type": "markdown",
   "id": "8a5ef8aa",
   "metadata": {},
   "source": [
    "Проверим уникальные значения данных, их описание"
   ]
  },
  {
   "cell_type": "code",
   "execution_count": 7,
   "id": "b6644bc3",
   "metadata": {},
   "outputs": [
    {
     "name": "stdout",
     "output_type": "stream",
     "text": [
      "Пол [0 1]\n",
      " \n",
      "Возраст [18. 19. 20. 21. 22. 23. 24. 25. 26. 27. 28. 29. 30. 31. 32. 33. 34. 35.\n",
      " 36. 37. 38. 39. 40. 41. 42. 43. 44. 45. 46. 47. 48. 49. 50. 51. 52. 53.\n",
      " 54. 55. 56. 57. 58. 59. 60. 61. 62. 65.]\n",
      " \n",
      "Члены семьи [0 1 2 3 4 5 6]\n",
      " \n",
      "Страховые выплаты [0 1 2 3 4 5]\n",
      " \n"
     ]
    }
   ],
   "source": [
    "print('Пол', data['Пол'].sort_values().unique())\n",
    "print(\" \")\n",
    "print('Возраст', data['Возраст'].sort_values().unique())\n",
    "print(\" \")\n",
    "print('Члены семьи', data['Члены семьи'].sort_values().unique())\n",
    "print(\" \")\n",
    "print('Страховые выплаты', data['Страховые выплаты'].sort_values().unique())\n",
    "print(\" \")"
   ]
  },
  {
   "cell_type": "code",
   "execution_count": 8,
   "id": "1dd7200d",
   "metadata": {},
   "outputs": [
    {
     "data": {
      "text/plain": [
       "array([ 5300.,  6000.,  7400.,  8900.,  9800., 10000., 10600., 10800.,\n",
       "       11000., 11200., 11300., 12200., 12900., 13000., 13200., 13300.,\n",
       "       13400., 13500., 13800., 13900., 14100., 14300., 14400., 14500.,\n",
       "       14600., 14700., 15000., 15100., 15200., 15600., 15700., 15900.,\n",
       "       16000., 16200., 16300., 16400., 16500., 16600., 16700., 17000.,\n",
       "       17100., 17300., 17400., 17500., 17600., 17700., 17800., 17900.,\n",
       "       18100., 18200., 18300., 18400., 18600., 18700., 18800., 18900.,\n",
       "       19000., 19100., 19200., 19300., 19400., 19600., 19700., 19900.,\n",
       "       20000., 20100., 20200., 20300., 20400., 20500., 20600., 20700.,\n",
       "       20800., 20900., 21000., 21100., 21200., 21300., 21400., 21500.,\n",
       "       21600., 21700., 21800., 21900., 22000., 22100., 22200., 22300.,\n",
       "       22500., 22600., 22700., 22800., 22900., 23000., 23100., 23200.,\n",
       "       23300., 23400., 23500., 23600., 23700., 23800., 23900., 24000.,\n",
       "       24100., 24200., 24300., 24400., 24500., 24600., 24700., 24800.,\n",
       "       24900., 25000., 25100., 25200., 25300., 25400., 25500., 25600.,\n",
       "       25700., 25800., 25900., 26000., 26100., 26200., 26300., 26400.,\n",
       "       26500., 26600., 26700., 26800., 26900., 27000., 27100., 27200.,\n",
       "       27300., 27400., 27500., 27600., 27700., 27800., 27900., 28000.,\n",
       "       28100., 28200., 28300., 28400., 28500., 28600., 28700., 28800.,\n",
       "       28900., 29000., 29100., 29200., 29300., 29400., 29500., 29600.,\n",
       "       29700., 29800., 29900., 30000., 30100., 30200., 30300., 30400.,\n",
       "       30500., 30600., 30700., 30800., 30900., 31000., 31100., 31200.,\n",
       "       31300., 31400., 31500., 31600., 31700., 31800., 31900., 32000.,\n",
       "       32100., 32200., 32300., 32400., 32500., 32600., 32700., 32800.,\n",
       "       32900., 33000., 33100., 33200., 33300., 33400., 33500., 33600.,\n",
       "       33700., 33800., 33900., 34000., 34100., 34200., 34300., 34400.,\n",
       "       34500., 34600., 34700., 34800., 34900., 35000., 35100., 35200.,\n",
       "       35300., 35400., 35500., 35600., 35700., 35800., 35900., 36000.,\n",
       "       36100., 36200., 36300., 36400., 36500., 36600., 36700., 36800.,\n",
       "       36900., 37000., 37100., 37200., 37300., 37400., 37500., 37600.,\n",
       "       37700., 37800., 37900., 38000., 38100., 38200., 38300., 38400.,\n",
       "       38500., 38600., 38700., 38800., 38900., 39000., 39100., 39200.,\n",
       "       39300., 39400., 39500., 39600., 39700., 39800., 39900., 40000.,\n",
       "       40100., 40200., 40300., 40400., 40500., 40600., 40700., 40800.,\n",
       "       40900., 41000., 41100., 41200., 41300., 41400., 41500., 41600.,\n",
       "       41700., 41800., 41900., 42000., 42100., 42200., 42300., 42400.,\n",
       "       42500., 42600., 42700., 42800., 42900., 43000., 43100., 43200.,\n",
       "       43300., 43400., 43500., 43600., 43700., 43800., 43900., 44000.,\n",
       "       44100., 44200., 44300., 44400., 44500., 44600., 44700., 44800.,\n",
       "       44900., 45000., 45100., 45200., 45300., 45400., 45500., 45600.,\n",
       "       45700., 45800., 45900., 46000., 46100., 46200., 46300., 46400.,\n",
       "       46500., 46600., 46700., 46800., 46900., 47000., 47100., 47200.,\n",
       "       47300., 47400., 47500., 47600., 47700., 47800., 47900., 48000.,\n",
       "       48100., 48200., 48300., 48400., 48500., 48600., 48700., 48800.,\n",
       "       48900., 49000., 49100., 49200., 49300., 49400., 49500., 49600.,\n",
       "       49700., 49800., 49900., 50000., 50100., 50200., 50300., 50400.,\n",
       "       50500., 50600., 50700., 50800., 50900., 51000., 51100., 51200.,\n",
       "       51300., 51400., 51500., 51600., 51700., 51800., 51900., 52000.,\n",
       "       52100., 52200., 52300., 52400., 52500., 52600., 52700., 52800.,\n",
       "       52900., 53000., 53100., 53200., 53300., 53400., 53500., 53600.,\n",
       "       53700., 53800., 53900., 54000., 54100., 54200., 54300., 54400.,\n",
       "       54500., 54600., 54700., 54800., 54900., 55000., 55100., 55200.,\n",
       "       55300., 55400., 55500., 55600., 55700., 55800., 55900., 56000.,\n",
       "       56100., 56200., 56300., 56400., 56500., 56600., 56700., 56800.,\n",
       "       56900., 57000., 57100., 57200., 57300., 57400., 57500., 57600.,\n",
       "       57700., 57800., 57900., 58000., 58100., 58200., 58300., 58400.,\n",
       "       58500., 58600., 58700., 58800., 58900., 59000., 59100., 59200.,\n",
       "       59300., 59500., 59600., 59700., 59800., 59900., 60000., 60100.,\n",
       "       60200., 60300., 60400., 60500., 60600., 60700., 60900., 61000.,\n",
       "       61200., 61300., 61400., 61500., 61700., 61800., 61900., 62000.,\n",
       "       62100., 62200., 62300., 62400., 62500., 62600., 62700., 62800.,\n",
       "       63100., 63200., 63300., 63400., 63500., 63600., 63700., 63800.,\n",
       "       64000., 64100., 64400., 64800., 64900., 65100., 65200., 65300.,\n",
       "       65900., 66100., 66300., 67100., 67200., 67700., 68000., 68400.,\n",
       "       68500., 68900., 69200., 69400., 70000., 70500., 70600., 71400.,\n",
       "       71600., 74800., 75200., 79000.])"
      ]
     },
     "execution_count": 8,
     "metadata": {},
     "output_type": "execute_result"
    }
   ],
   "source": [
    "data['Зарплата'].sort_values().unique()"
   ]
  },
  {
   "cell_type": "code",
   "execution_count": 9,
   "id": "f2e981c8",
   "metadata": {},
   "outputs": [
    {
     "data": {
      "text/plain": [
       "<AxesSubplot:>"
      ]
     },
     "execution_count": 9,
     "metadata": {},
     "output_type": "execute_result"
    },
    {
     "data": {
      "image/png": "[encoded data removed]",
      "text/plain": [
       "<Figure size 432x288 with 1 Axes>"
      ]
     },
     "metadata": {
      "needs_background": "light"
     },
     "output_type": "display_data"
    }
   ],
   "source": [
    "data['Зарплата'].hist()"
   ]
  },
  {
   "cell_type": "markdown",
   "id": "1bc8145e",
   "metadata": {},
   "source": [
    "Данные признаков 'Возраст' и 'Зарплата' приведем к цельночисленному типу, как это представлено в остальных данных."
   ]
  },
  {
   "cell_type": "code",
   "execution_count": 10,
   "id": "97e86621",
   "metadata": {},
   "outputs": [
    {
     "name": "stdout",
     "output_type": "stream",
     "text": [
      "<class 'pandas.core.frame.DataFrame'>\n",
      "RangeIndex: 5000 entries, 0 to 4999\n",
      "Data columns (total 5 columns):\n",
      " #   Column             Non-Null Count  Dtype\n",
      "---  ------             --------------  -----\n",
      " 0   Пол                5000 non-null   int64\n",
      " 1   Возраст            5000 non-null   int64\n",
      " 2   Зарплата           5000 non-null   int64\n",
      " 3   Члены семьи        5000 non-null   int64\n",
      " 4   Страховые выплаты  5000 non-null   int64\n",
      "dtypes: int64(5)\n",
      "memory usage: 195.4 KB\n"
     ]
    }
   ],
   "source": [
    "data[['Возраст', 'Зарплата']] = data[['Возраст', 'Зарплата']].astype('int64')\n",
    "data.info()"
   ]
  },
  {
   "cell_type": "code",
   "execution_count": 11,
   "id": "7295f278",
   "metadata": {},
   "outputs": [
    {
     "data": {
      "text/html": [
       "<div>\n",
       "<style scoped>\n",
       "    .dataframe tbody tr th:only-of-type {\n",
       "        vertical-align: middle;\n",
       "    }\n",
       "\n",
       "    .dataframe tbody tr th {\n",
       "        vertical-align: top;\n",
       "    }\n",
       "\n",
       "    .dataframe thead th {\n",
       "        text-align: right;\n",
       "    }\n",
       "</style>\n",
       "<table border=\"1\" class=\"dataframe\">\n",
       "  <thead>\n",
       "    <tr style=\"text-align: right;\">\n",
       "      <th></th>\n",
       "      <th>Пол</th>\n",
       "      <th>Возраст</th>\n",
       "      <th>Зарплата</th>\n",
       "      <th>Члены семьи</th>\n",
       "      <th>Страховые выплаты</th>\n",
       "    </tr>\n",
       "  </thead>\n",
       "  <tbody>\n",
       "    <tr>\n",
       "      <th>count</th>\n",
       "      <td>5000.000000</td>\n",
       "      <td>5000.000000</td>\n",
       "      <td>5000.000000</td>\n",
       "      <td>5000.000000</td>\n",
       "      <td>5000.000000</td>\n",
       "    </tr>\n",
       "    <tr>\n",
       "      <th>mean</th>\n",
       "      <td>0.499000</td>\n",
       "      <td>30.952800</td>\n",
       "      <td>39916.359400</td>\n",
       "      <td>1.194200</td>\n",
       "      <td>0.148000</td>\n",
       "    </tr>\n",
       "    <tr>\n",
       "      <th>std</th>\n",
       "      <td>0.500049</td>\n",
       "      <td>8.440807</td>\n",
       "      <td>9900.082063</td>\n",
       "      <td>1.091387</td>\n",
       "      <td>0.463183</td>\n",
       "    </tr>\n",
       "    <tr>\n",
       "      <th>min</th>\n",
       "      <td>0.000000</td>\n",
       "      <td>18.000000</td>\n",
       "      <td>5300.000000</td>\n",
       "      <td>0.000000</td>\n",
       "      <td>0.000000</td>\n",
       "    </tr>\n",
       "    <tr>\n",
       "      <th>25%</th>\n",
       "      <td>0.000000</td>\n",
       "      <td>24.000000</td>\n",
       "      <td>33300.000000</td>\n",
       "      <td>0.000000</td>\n",
       "      <td>0.000000</td>\n",
       "    </tr>\n",
       "    <tr>\n",
       "      <th>50%</th>\n",
       "      <td>0.000000</td>\n",
       "      <td>30.000000</td>\n",
       "      <td>40200.000000</td>\n",
       "      <td>1.000000</td>\n",
       "      <td>0.000000</td>\n",
       "    </tr>\n",
       "    <tr>\n",
       "      <th>75%</th>\n",
       "      <td>1.000000</td>\n",
       "      <td>37.000000</td>\n",
       "      <td>46600.000000</td>\n",
       "      <td>2.000000</td>\n",
       "      <td>0.000000</td>\n",
       "    </tr>\n",
       "    <tr>\n",
       "      <th>max</th>\n",
       "      <td>1.000000</td>\n",
       "      <td>65.000000</td>\n",
       "      <td>79000.000000</td>\n",
       "      <td>6.000000</td>\n",
       "      <td>5.000000</td>\n",
       "    </tr>\n",
       "  </tbody>\n",
       "</table>\n",
       "</div>"
      ],
      "text/plain": [
       "               Пол      Возраст      Зарплата  Члены семьи  Страховые выплаты\n",
       "count  5000.000000  5000.000000   5000.000000  5000.000000        5000.000000\n",
       "mean      0.499000    30.952800  39916.359400     1.194200           0.148000\n",
       "std       0.500049     8.440807   9900.082063     1.091387           0.463183\n",
       "min       0.000000    18.000000   5300.000000     0.000000           0.000000\n",
       "25%       0.000000    24.000000  33300.000000     0.000000           0.000000\n",
       "50%       0.000000    30.000000  40200.000000     1.000000           0.000000\n",
       "75%       1.000000    37.000000  46600.000000     2.000000           0.000000\n",
       "max       1.000000    65.000000  79000.000000     6.000000           5.000000"
      ]
     },
     "execution_count": 11,
     "metadata": {},
     "output_type": "execute_result"
    }
   ],
   "source": [
    "data.describe()"
   ]
  },
  {
   "cell_type": "markdown",
   "id": "b9a21073",
   "metadata": {},
   "source": [
    "В датасете данные реалистичны. По столбцу 'Пол' сведения категоризированы. В столбцах 'Зарплата' и 'Возраст' усматриваются значения, которые возможно отнести к выбросам, но для выполнения проекта это условие представляется необязательным, в связи с чем из данных ничего не исключается. \n",
    "\n",
    "Признаки 'Зарплата' и 'Возраст' многозначные в отличие от остальных признаков, представленных единичным значением. В указанной связи произведем масштабирование этих признаков, однако сделаем это в разделе преобразования данных.\n",
    "\n"
   ]
  },
  {
   "cell_type": "markdown",
   "id": "847fb192",
   "metadata": {},
   "source": [
    "Изучим данные на предмет взаимозависимости, построив матрицу корелляции. Поскольку в нашем проекте признаки являются независимыми переменными, а зависимой переменной является целевой признак - Страховые выплаты, изучим прежде всего его зависимость от остальных признаков."
   ]
  },
  {
   "cell_type": "code",
   "execution_count": 12,
   "id": "c7e3a181",
   "metadata": {},
   "outputs": [
    {
     "data": {
      "image/png": "[encoded data removed]",
      "text/plain": [
       "<Figure size 864x720 with 25 Axes>"
      ]
     },
     "metadata": {
      "needs_background": "light"
     },
     "output_type": "display_data"
    }
   ],
   "source": [
    "ax = pd.plotting.scatter_matrix(data,figsize=(12, 10))"
   ]
  },
  {
   "cell_type": "markdown",
   "id": "565f0d63",
   "metadata": {},
   "source": [
    "Имеется прямая пропорциональная зависимость между возрастом  и количеством страховых выплат: чем старше клиент, тем больше у него страховых выплат.\n",
    "\n",
    "Зависимость количества страховых выплат от остальных признаков практически не просматривается."
   ]
  },
  {
   "cell_type": "code",
   "execution_count": 13,
   "id": "4573a4a4",
   "metadata": {},
   "outputs": [
    {
     "name": "stdout",
     "output_type": "stream",
     "text": [
      "Страховые выплаты - Возраст:        0.6510300979467255\n",
      "Страховые выплаты - Зарплата:      -0.01496327636782027\n",
      "Страховые выплаты - Члены семьи:   -0.03629045878481033\n",
      "Страховые выплаты - Пол:            0.010139565802024585\n"
     ]
    }
   ],
   "source": [
    "print('Страховые выплаты - Возраст:       ', data['Страховые выплаты'].corr(data['Возраст']))\n",
    "print('Страховые выплаты - Зарплата:     ', data['Страховые выплаты'].corr(data['Зарплата']))\n",
    "print('Страховые выплаты - Члены семьи:  ', data['Страховые выплаты'].corr(data['Члены семьи']))\n",
    "print('Страховые выплаты - Пол:           ',data['Страховые выплаты'].corr(data['Пол']))"
   ]
  },
  {
   "cell_type": "markdown",
   "id": "06441644",
   "metadata": {},
   "source": [
    " <b> Вывод:</b> изучением данных установлено, что в датасете содержится 5000 объектов, признаки распределены по 4 столбцам, пропуски значений отсутствуют. Установлено 153 полных дубликата, которые не удаляются, так как признаки количественные и даже в своей совокупности их повторение реально.\n",
    "    \n",
    "В столбце 'Пол' сведения категоризированы. В признаках 'Зарплата' и 'Возраст' усматриваются значения, которые возможно отнести к выбросам, однако они реалистичны и из данных не исключаются. Эти же признаки необходимо масштабировать, что будет сделано в разделе преобразования данных. \n",
    "   \n",
    "Имеется прямая пропорциональная зависимость между возрастом и количеством страховых выплат: чем старше клиент, тем больше у него страховых выплат.   \n",
    "    \n",
    "Предобработка данных состояла в приведении признаков 'Возраст' и 'Зарплата' к цельночисленному типу, как это представлено в остальных данных."
   ]
  },
  {
   "cell_type": "markdown",
   "id": "936ef789",
   "metadata": {},
   "source": [
    "## Умножение матриц"
   ]
  },
  {
   "cell_type": "markdown",
   "id": "bc688738",
   "metadata": {},
   "source": [
    "По условию проекта для преобразования признаков с целью их защиты для модели машинного обучения необходимо их умножить на обратимую матрицу и проанализировать изменение качества линейной регрессии. \n",
    "\n",
    "Качество линейной регрессии зависит о предсказаний, которые вычисляются по формуле:\n",
    "$$\n",
    "a = Xw\n",
    "$$\n",
    "где\n",
    "\n",
    "$X$ — матрица признаков (нулевой столбец состоит из единиц)\n",
    "\n",
    "$w$ — вектор весов линейной регрессии (нулевой элемент равен сдвигу).\n",
    "\n",
    "Посмотрим, как изменится $a$, если уножить матрицу признаков $X$ на обратимую матрицу $P$.\n",
    "\n",
    "Вектор весов линейной регрессии вычисляется по формуле:\n",
    "$$\n",
    "w = (X^T X)^{-1} X^T y\n",
    "$$\n",
    "где $X$ - известная нам переменная (матрица признаков), а \n",
    "\n",
    "$y$ — вектор целевого признака. \n",
    "\n",
    "Подставим в формулу предсказаний вместо $w$ формулу вектора весов и получим:\n",
    "\n",
    "$$\n",
    "a = X(X^T X)^{-1} X^T y\n",
    "$$\n",
    "\n",
    "Произведение матрицы признаков на обратимую матрицу с нашими переменными будет выглядеть так:\n",
    "\n",
    "$$\n",
    "XP\n",
    "$$    \n",
    "а формула предсказаний по матрице признаков $X$, умноженной на обратимую матрицу $P$,следующим образом:\n",
    "    \n",
    "$$\n",
    "a = XP((XP)^T XP)^{-1} (XP)^T y\n",
    "$$    \n",
    "\n",
    "Для вычислений воспользуемся теоремой: транспонирование произведения матриц равно произведению транспонированных матриц, взятых в обратном порядке, то есть для нашей формулы:\n",
    "\n",
    "$$\n",
    "(XP)^T = P^TX^T\n",
    "$$\n",
    "\n",
    "Теперь наша формула предсказаний будет выглядеть так:\n",
    "\n",
    "$$\n",
    "a = XP(P^TX^T XP)^{-1} (XP)^T y\n",
    "$$    \n",
    "\n",
    "В выражении $(P^TX^T XP)^{-1}$ произведение трех квадратных матриц: $P^T$, $(X^T X)$, $P$ одинакового рзмера. Не переставляя местами матрицы можно выполнить умножение в таком порядке: \n",
    "\n",
    "$$\n",
    "P^T(X^T X)P\n",
    "$$ \n",
    "\n",
    "где $((X^T X)P)$ - тоже квадратная матрица\n",
    "\n",
    "\n",
    "Теперь можно применить теорему об обратной матрице произведения матриц, верную для квадратных матриц, согласно которой матрица, обратная произведению двух матриц, равна произведению их обратных матриц, взятых в обратном порядке.Так, \n",
    "\n",
    "$$\n",
    "(P^TX^T XP)^{-1} = (P^T((X^T X)P))^{-1} = ((X^T X)P)^{-1}(P^T)^{-1} = P^{-1}(X^T X)^{-1}(P^T)^{-1}\n",
    "$$ \n",
    "\n",
    "\n",
    "\n",
    "Подставим это выражение в формулу предсказаний:\n",
    "\n",
    "$$\n",
    "a = XPP^{-1}(X^T X)^{-1}(P^T)^{-1}(XP)^Ty                                 \n",
    "$$  \n",
    "\n",
    "\n",
    "Опять воспользуемся теоремой транспонирования произведения матриц для выражения: \n",
    "$$\n",
    "(XP)^T = P^TX^T\n",
    "$$\n",
    "\n",
    "тоже подставим его в формулу предсказаний и получим:\n",
    "\n",
    "\n",
    "$$\n",
    "a = XPP^{-1}(X^T X)^{-1}(P^T)^{-1}P^TX^Ty                                 \n",
    "$$\n",
    "\n",
    "\n",
    "В нашей формуле мы получили квадратные матрицы  $P$ и $P^T$ и обратные им матрицы $P^{-1}$ и $(P^T)^{-1}$ соответственно. Для квадратной матрицы будет верным утверждение: произведение матрицы на обратную матрицу в любом порядке равно единичной матрице. То есть:\n",
    "\n",
    "$$\n",
    "PP^{-1} = E   \n",
    "$$\n",
    "\n",
    "$$\n",
    "P^T (P^T)^{-1} =  E\n",
    "$$\n",
    "\n",
    "где $E$ - единичная матрица.\n",
    "\n",
    "\n",
    "Если любую матрицу $X$ умножить на единичную (или наоборот), получится эта же самая матрица $X$. То есть верным будет выражение:\n",
    "\n",
    "\n",
    "$$\n",
    "XPP^{-1}(P^T)^{-1}P^T = X \n",
    "$$ \n",
    "\n",
    "Результат этого выражения подставим в формулу предсказаний\n",
    "\n",
    "\n",
    "$$\n",
    "a = X(X^TX)^{-1} X^Ty\n",
    "$$ \n",
    "\n",
    "но выражение $(X^TX)^{-1} X^Ty$ это и есть наша формула весов  $w$, подставим ее в формулу предсказаний и получим \n",
    "\n",
    "$$\n",
    "a = Xw\n",
    "$$ \n",
    "\n",
    "То есть, при умножении матрицы признаков на квадратную матрицу предсказания, а значит и качество линейной регрессии не изменятся.\n",
    "\n",
    "\n",
    "\n",
    "\n",
    "\n"
   ]
  },
  {
   "cell_type": "markdown",
   "id": "2f5b38ff",
   "metadata": {},
   "source": [
    "<b> Вывод:</b> По условию проекта необходимо исследовать как изменится качество модели линейной регрессии при умножении признаков на обратимую матрицу. Матричным уравнением, в котором были использованы теоремы об обратной матрице произведения матриц, а также транспонирования произведения матриц, установлено что предсказания модели, а значит и качество линейной регрессии не поменяются. Параметры линейной регрессии $𝑤$ в исходной задаче и в преобразованной вычисляются по одним и тем же переменным $𝑋$ - исходной матрице признаков и $𝑦$ - целевого признака. "
   ]
  },
  {
   "cell_type": "markdown",
   "id": "d772ec6d",
   "metadata": {},
   "source": [
    "Посмотрим как связаны параметры линейной регрессии в исходной задаче и в преобразованной."
   ]
  },
  {
   "cell_type": "markdown",
   "id": "2730f51a",
   "metadata": {},
   "source": [
    "\n",
    "Пусть $w$ - параметры линейной регрессии, построенной на признаках $X$, а $w_p$ - построенной на признаках $XP$, где $P$ - обратимая матрица, тогда формулы весов обеих моделей будут иметь вид:\n",
    "\n",
    "$$\n",
    "w = (X^T X)^{-1} X^T y\n",
    "$$\n",
    "    \n",
    "    \n",
    "$$\n",
    "w_P = ((XP)^T XP)^{-1} (XP)^T y\n",
    "$$   \n",
    "\n",
    "Используя приведенные выше теоремы представим $w_p$ следующим образом:\n",
    "\n",
    "\n",
    "$$\n",
    "w_P = ((XP)^T XP)^{-1} (XP)^T y \n",
    "$$\n",
    "\n",
    "$$\n",
    "w_P = (P^TX^T XP)^{-1} (XP)^T y    \n",
    "$$\n",
    "\n",
    "\n",
    "$$\n",
    "w_P = (P^T((X^T X)P))^{-1} (XP)^T y \n",
    "$$\n",
    "\n",
    "\n",
    "$$\n",
    "w_P = ((X^T X)P)^{-1}(P^T)^{-1}P^TX^T y\n",
    "$$\n",
    "\n",
    "$$\n",
    "w_P = P^{-1}(X^T X)^{-1}(P^T)^{-1}P^TX^T y\n",
    "$$\n",
    "\n",
    "\n",
    "$$\n",
    "w_P = P^{-1}(X^T X)^{-1}X^T y\n",
    "$$\n",
    "\n",
    "Но выражение $(X^T X)^{-1}X^Ty$ это  и есть наш вектор весов $w$ модели, построенной на признаках $X$, значит мы пришли к выражению:\n",
    "\n",
    "$$\n",
    "w_P = P^{-1}w\n",
    "$$\n",
    "\n"
   ]
  },
  {
   "cell_type": "markdown",
   "id": "e2752e4c",
   "metadata": {},
   "source": [
    "Исследуя связь параметров линейной регрессии в исходной задаче и в преобразованной, мы пришли к выводу, что вектор весов преобразованной модели линейной регрессии равен произведению матрицы, обратной той, на которую умножались признаки исходной модели, и вектора  весов исходной модели. "
   ]
  },
  {
   "cell_type": "markdown",
   "id": "568bc68e",
   "metadata": {},
   "source": [
    "##  Алгоритм преобразования"
   ]
  },
  {
   "cell_type": "markdown",
   "id": "cd95016b",
   "metadata": {},
   "source": [
    "Теоретически мы получили результат, свидетельствующий, что при умножении матрицы признаков на квадратную матрицу качество линейной регрессии не изменятся. Теперь проверим это на нашем датасете.В указанной связи предпримем следующее:\n",
    "\n",
    "разделим исходный датасет на учебную (для обучения модели) и тестовую (для получения предсказаний модели)выборки; \n",
    "\n",
    "построим модель линейной регрессии на исходных признаках, проверим корректность работы по формуле, качество проверим метрикой R2 значение которой этой и иных моделей сохраним в отдельных переменных для последующей визуализации;\n",
    "\n",
    "масштабируем признаки;\n",
    "\n",
    "проведем преобразование признаков по следующему алгоритму: \n",
    "\n",
    "представим масштабированные признаки датасета в виде матрицы;\n",
    "\n",
    "создадим квадратную матрицу случайных чисел;\n",
    "\n",
    "умножим квадратную матрицу на матрицу признаков."
   ]
  },
  {
   "cell_type": "markdown",
   "id": "e8fd97df",
   "metadata": {},
   "source": [
    "Сгенерированная матрица должна быть обратимой, размер матрицы должен позволять произвести умножение на матрицу признаков, то есть высота новой матрицы должна быть равна ширине матрицы признаков. "
   ]
  },
  {
   "cell_type": "markdown",
   "id": "7b6b28eb",
   "metadata": {},
   "source": [
    "###  Построение модели на исходных данных"
   ]
  },
  {
   "cell_type": "markdown",
   "id": "8c8404d6",
   "metadata": {},
   "source": [
    "Выделяем признаки и целевой признак, делим данные на учебную и тестовую выборки"
   ]
  },
  {
   "cell_type": "code",
   "execution_count": 14,
   "id": "9f1f950e",
   "metadata": {},
   "outputs": [],
   "source": [
    "features = data.drop('Страховые выплаты', axis=1)\n",
    "target = data['Страховые выплаты']\n",
    "\n",
    "STATE = RandomState(2023)\n",
    "\n",
    "features_train, features_test, target_train, target_test = train_test_split(\n",
    "    features, target, test_size=0.25, random_state=STATE)"
   ]
  },
  {
   "cell_type": "markdown",
   "id": "b3b32642",
   "metadata": {},
   "source": [
    "Строим модель на исходных данных"
   ]
  },
  {
   "cell_type": "code",
   "execution_count": 15,
   "id": "57f07c2f",
   "metadata": {},
   "outputs": [
    {
     "name": "stdout",
     "output_type": "stream",
     "text": [
      "R2 = 0.3899836481873804\n"
     ]
    },
    {
     "data": {
      "text/plain": [
       "0.39"
      ]
     },
     "execution_count": 15,
     "metadata": {},
     "output_type": "execute_result"
    }
   ],
   "source": [
    "original_model = LinearRegression().fit(features_train, target_train)\n",
    "original_predicted = original_model.predict(features_test)\n",
    "\n",
    "print(\"R2 =\", r2_score(target_test, original_predicted))\n",
    "a = round((r2_score(target_test, original_predicted)),4)\n",
    "a"
   ]
  },
  {
   "cell_type": "markdown",
   "id": "aec8fa1f",
   "metadata": {},
   "source": [
    "Проверяем корректность работы модели"
   ]
  },
  {
   "cell_type": "markdown",
   "id": "704394dc",
   "metadata": {},
   "source": [
    "Добавляем в матрицу признаков $X$ нулевой столбец, состоящий из единиц, \n",
    "\n",
    "записываем вектор значений целевого признака, \n",
    "\n",
    "создаем вектор весов"
   ]
  },
  {
   "cell_type": "code",
   "execution_count": 16,
   "id": "75456462",
   "metadata": {},
   "outputs": [],
   "source": [
    "X = np.concatenate((np.ones((features_train.shape[0], 1)), features_train), axis=1)\n",
    "y = target_train \n",
    "w = np.linalg.inv(X.T@X)@X.T@y"
   ]
  },
  {
   "cell_type": "markdown",
   "id": "77fbeddd",
   "metadata": {},
   "source": [
    "Выводим коэффициенты регрессии и величину сдвига, полученные по формуле,а также в результате обучения модели."
   ]
  },
  {
   "cell_type": "code",
   "execution_count": 17,
   "id": "360312fb",
   "metadata": {},
   "outputs": [
    {
     "name": "stdout",
     "output_type": "stream",
     "text": [
      "Коэффициенты регрессии преобразованной модели   [ 6.64362767e-03  3.65296316e-02 -1.00170627e-07 -1.35755279e-02]\n",
      "Коэффициенты регрессии, рассчитанные по формуле [ 6.64362767e-03  3.65296316e-02 -1.00170627e-07 -1.35755279e-02]\n",
      "\n",
      "Величина сдвига преобразованной модели   -0.9629637971974377\n",
      "Величина сдвига, рассчитанная по формуле -0.9629637971974326\n"
     ]
    }
   ],
   "source": [
    "print('Коэффициенты регрессии преобразованной модели  ', original_model.coef_)\n",
    "print('Коэффициенты регрессии, рассчитанные по формуле', w[1:])\n",
    "print('')\n",
    "print('Величина сдвига преобразованной модели  ', original_model.intercept_)\n",
    "print('Величина сдвига, рассчитанная по формуле', w[0])"
   ]
  },
  {
   "cell_type": "markdown",
   "id": "5ffe0c1a",
   "metadata": {},
   "source": [
    "Коэффициенты регрессии и величина сдвига совпадают."
   ]
  },
  {
   "cell_type": "markdown",
   "id": "e9a84c19",
   "metadata": {},
   "source": [
    "### Масштабирование данных"
   ]
  },
  {
   "cell_type": "markdown",
   "id": "05aa0815",
   "metadata": {},
   "source": [
    "Масштабируем признаки 'Возраст', 'Члены семьи' и 'Зарплата' в учебной и тестовых выборках."
   ]
  },
  {
   "cell_type": "code",
   "execution_count": 18,
   "id": "766f63bb",
   "metadata": {
    "scrolled": false
   },
   "outputs": [
    {
     "data": {
      "text/html": [
       "<div>\n",
       "<style scoped>\n",
       "    .dataframe tbody tr th:only-of-type {\n",
       "        vertical-align: middle;\n",
       "    }\n",
       "\n",
       "    .dataframe tbody tr th {\n",
       "        vertical-align: top;\n",
       "    }\n",
       "\n",
       "    .dataframe thead th {\n",
       "        text-align: right;\n",
       "    }\n",
       "</style>\n",
       "<table border=\"1\" class=\"dataframe\">\n",
       "  <thead>\n",
       "    <tr style=\"text-align: right;\">\n",
       "      <th></th>\n",
       "      <th>Пол</th>\n",
       "      <th>Возраст</th>\n",
       "      <th>Зарплата</th>\n",
       "      <th>Члены семьи</th>\n",
       "    </tr>\n",
       "  </thead>\n",
       "  <tbody>\n",
       "    <tr>\n",
       "      <th>1767</th>\n",
       "      <td>0</td>\n",
       "      <td>-0.122539</td>\n",
       "      <td>-0.012422</td>\n",
       "      <td>0.718481</td>\n",
       "    </tr>\n",
       "    <tr>\n",
       "      <th>2173</th>\n",
       "      <td>1</td>\n",
       "      <td>-0.240154</td>\n",
       "      <td>-0.801800</td>\n",
       "      <td>2.534660</td>\n",
       "    </tr>\n",
       "    <tr>\n",
       "      <th>463</th>\n",
       "      <td>0</td>\n",
       "      <td>2.464994</td>\n",
       "      <td>-0.528554</td>\n",
       "      <td>0.718481</td>\n",
       "    </tr>\n",
       "  </tbody>\n",
       "</table>\n",
       "</div>"
      ],
      "text/plain": [
       "      Пол   Возраст  Зарплата  Члены семьи\n",
       "1767    0 -0.122539 -0.012422     0.718481\n",
       "2173    1 -0.240154 -0.801800     2.534660\n",
       "463     0  2.464994 -0.528554     0.718481"
      ]
     },
     "metadata": {},
     "output_type": "display_data"
    },
    {
     "name": "stdout",
     "output_type": "stream",
     "text": [
      "<class 'pandas.core.frame.DataFrame'>\n",
      "Int64Index: 3750 entries, 1767 to 4951\n",
      "Data columns (total 4 columns):\n",
      " #   Column       Non-Null Count  Dtype  \n",
      "---  ------       --------------  -----  \n",
      " 0   Пол          3750 non-null   int64  \n",
      " 1   Возраст      3750 non-null   float64\n",
      " 2   Зарплата     3750 non-null   float64\n",
      " 3   Члены семьи  3750 non-null   float64\n",
      "dtypes: float64(3), int64(1)\n",
      "memory usage: 146.5 KB\n"
     ]
    },
    {
     "data": {
      "text/html": [
       "<div>\n",
       "<style scoped>\n",
       "    .dataframe tbody tr th:only-of-type {\n",
       "        vertical-align: middle;\n",
       "    }\n",
       "\n",
       "    .dataframe tbody tr th {\n",
       "        vertical-align: top;\n",
       "    }\n",
       "\n",
       "    .dataframe thead th {\n",
       "        text-align: right;\n",
       "    }\n",
       "</style>\n",
       "<table border=\"1\" class=\"dataframe\">\n",
       "  <thead>\n",
       "    <tr style=\"text-align: right;\">\n",
       "      <th></th>\n",
       "      <th>Пол</th>\n",
       "      <th>Возраст</th>\n",
       "      <th>Зарплата</th>\n",
       "      <th>Члены семьи</th>\n",
       "    </tr>\n",
       "  </thead>\n",
       "  <tbody>\n",
       "    <tr>\n",
       "      <th>3559</th>\n",
       "      <td>0</td>\n",
       "      <td>-0.122539</td>\n",
       "      <td>0.665633</td>\n",
       "      <td>0.718481</td>\n",
       "    </tr>\n",
       "    <tr>\n",
       "      <th>3409</th>\n",
       "      <td>1</td>\n",
       "      <td>0.818382</td>\n",
       "      <td>-0.892882</td>\n",
       "      <td>-0.189609</td>\n",
       "    </tr>\n",
       "    <tr>\n",
       "      <th>3389</th>\n",
       "      <td>1</td>\n",
       "      <td>-0.357770</td>\n",
       "      <td>0.210223</td>\n",
       "      <td>-0.189609</td>\n",
       "    </tr>\n",
       "  </tbody>\n",
       "</table>\n",
       "</div>"
      ],
      "text/plain": [
       "      Пол   Возраст  Зарплата  Члены семьи\n",
       "3559    0 -0.122539  0.665633     0.718481\n",
       "3409    1  0.818382 -0.892882    -0.189609\n",
       "3389    1 -0.357770  0.210223    -0.189609"
      ]
     },
     "metadata": {},
     "output_type": "display_data"
    },
    {
     "name": "stdout",
     "output_type": "stream",
     "text": [
      "<class 'pandas.core.frame.DataFrame'>\n",
      "Int64Index: 1250 entries, 3559 to 3713\n",
      "Data columns (total 4 columns):\n",
      " #   Column       Non-Null Count  Dtype  \n",
      "---  ------       --------------  -----  \n",
      " 0   Пол          1250 non-null   int64  \n",
      " 1   Возраст      1250 non-null   float64\n",
      " 2   Зарплата     1250 non-null   float64\n",
      " 3   Члены семьи  1250 non-null   float64\n",
      "dtypes: float64(3), int64(1)\n",
      "memory usage: 48.8 KB\n"
     ]
    }
   ],
   "source": [
    "n = ['Возраст', 'Зарплата', 'Члены семьи']\n",
    "\n",
    "scaler = StandardScaler()\n",
    "\n",
    "scaler.fit(features_train[n]) \n",
    "features_train[n] = scaler.transform(features_train[n])\n",
    "display(features_train.head(3))\n",
    "features_train.info()\n",
    "\n",
    "features_test[n] = scaler.transform(features_test[n])\n",
    "display(features_test.head(3))\n",
    "features_test.info()"
   ]
  },
  {
   "cell_type": "markdown",
   "id": "72ddcdc5",
   "metadata": {},
   "source": [
    "В результате масштабирования первоначальные значения признаков, за исключением \"Пол\", значительно видоизменились."
   ]
  },
  {
   "cell_type": "markdown",
   "id": "97eed611",
   "metadata": {},
   "source": [
    "### Преобразованние признаков путем умножения на матрицу"
   ]
  },
  {
   "cell_type": "markdown",
   "id": "f1711c1a",
   "metadata": {},
   "source": [
    "После масштабирования признаков они утратили свои первоначальные значения, по по условию проекта нам необходимо преобразовать исходные данные путем умножения на обратимую матрицу."
   ]
  },
  {
   "cell_type": "markdown",
   "id": "48fa9ec1",
   "metadata": {},
   "source": [
    "Создаем матрицу признаков на учебной и тестовой выборках."
   ]
  },
  {
   "cell_type": "code",
   "execution_count": 19,
   "id": "13bd3137",
   "metadata": {},
   "outputs": [
    {
     "name": "stdout",
     "output_type": "stream",
     "text": [
      "Матрица признаков учебной выборки\n",
      "[[ 0.         -0.12253933 -0.01242219  0.71848069]\n",
      " [ 1.         -0.2401545  -0.80180012  2.53466039]\n",
      " [ 0.          2.46499446 -0.52855392  0.71848069]\n",
      " ...\n",
      " [ 1.          0.81838205 -0.34638978  0.71848069]\n",
      " [ 1.          0.34792136 -0.8625215  -0.18960916]\n",
      " [ 0.          0.34792136  0.07865988 -0.18960916]]\n",
      "(3750, 4)\n",
      "\n",
      "Матрица признаков тестовой выборки\n",
      "[[ 0.         -0.12253933  0.66563321  0.71848069]\n",
      " [ 1.          0.81838205 -0.89288219 -0.18960916]\n",
      " [ 1.         -0.35776967  0.21022287 -0.18960916]\n",
      " ...\n",
      " [ 1.         -1.18107588  0.28106448  0.71848069]\n",
      " [ 1.          1.17122757 -0.74107875 -1.09769901]\n",
      " [ 1.          0.93599722  0.09890034  0.71848069]]\n"
     ]
    },
    {
     "data": {
      "text/plain": [
       "(1250, 4)"
      ]
     },
     "execution_count": 19,
     "metadata": {},
     "output_type": "execute_result"
    }
   ],
   "source": [
    "features_matrix_train = features_train.values\n",
    "print('Матрица признаков учебной выборки')\n",
    "print(features_matrix_train)\n",
    "print(features_matrix_train.shape)\n",
    "print('')\n",
    "features_matrix_test = features_test.values\n",
    "print('Матрица признаков тестовой выборки')\n",
    "print(features_matrix_test)\n",
    "features_matrix_test.shape"
   ]
  },
  {
   "cell_type": "markdown",
   "id": "97b12fb6",
   "metadata": {},
   "source": [
    "Для создания обратимой матрицы применим функцию. Чтоб размер матрицы позволял произвести умножение на матрицу признаков (высота новой матрицы равна ширине матрицы признаков), в качестве параметра размера передадим features_train.\n"
   ]
  },
  {
   "cell_type": "code",
   "execution_count": 21,
   "id": "fe4b0d56",
   "metadata": {},
   "outputs": [
    {
     "data": {
      "text/plain": [
       "array([[ 0.55420642,  0.54245474, -0.39998983,  0.3091532 ],\n",
       "       [-3.05087437, -0.04438528,  0.67697143, -0.20773745],\n",
       "       [ 0.18487217,  0.85233763, -0.4767023 , -1.93553698],\n",
       "       [-0.10312545, -0.44940118, -0.5383032 , -0.08449206]])"
      ]
     },
     "execution_count": 21,
     "metadata": {},
     "output_type": "execute_result"
    }
   ],
   "source": [
    "def get_rand_matrix():\n",
    "    det = 0\n",
    "    while det == 0:\n",
    "        matrix = np.random.normal(size=(features_train.shape[1], features_train.shape[1]))\n",
    "        det = np.linalg.det(matrix)\n",
    "    return matrix\n",
    "g = get_rand_matrix()\n",
    "g"
   ]
  },
  {
   "cell_type": "markdown",
   "id": "66d1a4e6",
   "metadata": {},
   "source": [
    "Умножаем матрицы признаков учебной и тестовой выборок на сгенерированную обратимую матрицу g."
   ]
  },
  {
   "cell_type": "code",
   "execution_count": 22,
   "id": "bcda472e",
   "metadata": {},
   "outputs": [
    {
     "name": "stdout",
     "output_type": "stream",
     "text": [
      "Преобразованная матрица признаков учебной выборки\n",
      "\n",
      "[[ 0.29746193 -0.32803503 -0.46379439 -0.01120629]\n",
      " [ 0.8772691  -1.26936973 -1.54476341  1.69679741]\n",
      " [-7.69219699 -0.88280193  1.53393324  0.45025808]\n",
      " ...\n",
      " [-2.08070589 -0.11199649 -0.06760422  0.74888892]\n",
      " [-0.64716065 -0.12293681  0.34877619  1.92233964]\n",
      " [-1.02736881  0.13681277  0.3001027  -0.20850493]]\n",
      "\n",
      "Преобразованная матрица признаков тестовой выборки\n"
     ]
    },
    {
     "data": {
      "text/plain": [
       "array([[ 0.42281551,  0.24989711, -0.78702496, -1.32360761],\n",
       "       [-2.08808995, -0.16969589,  0.68173765,  1.88337158],\n",
       "       [ 1.70413463,  0.82272589, -0.64033618, -0.0073983 ],\n",
       "       ...,\n",
       "       [ 4.1353879 ,  0.51155288, -1.72028899, -0.05020971],\n",
       "       [-3.04286589,  0.3521274 ,  1.3370666 ,  1.59297754],\n",
       "       [-2.35721325,  0.26232065, -0.20025293, -0.13741965]])"
      ]
     },
     "execution_count": 22,
     "metadata": {},
     "output_type": "execute_result"
    }
   ],
   "source": [
    "features_g_train = features_matrix_train@g\n",
    "print('Преобразованная матрица признаков учебной выборки')\n",
    "print('')\n",
    "print(features_g_train)\n",
    "print('')\n",
    "features_g_test = features_matrix_test@g\n",
    "print('Преобразованная матрица признаков тестовой выборки')\n",
    "features_g_test"
   ]
  },
  {
   "cell_type": "markdown",
   "id": "0c689905",
   "metadata": {},
   "source": [
    "В результате преобразования признаков путем умножения матрицы признаков на обратимую матрицу все признаки исходного датасета утратили свои первоначальные значения. "
   ]
  },
  {
   "cell_type": "markdown",
   "id": "de6fdf9a",
   "metadata": {},
   "source": [
    "<b> Вывод:</b>Алгоритм преобразования данных с целью защиты информации клиентов страховой компании «Хоть потоп» состоял в следующем:\n",
    "\n",
    "масштабированы (за исключением 'Пол') и представлены в виде матрицы признаки исходного датасета; \n",
    "\n",
    "сгенерирована обратимая матрица случайных чисел с высотой, равной ширине матрицы признаков исходного датасета;\n",
    "\n",
    "получена новая матрица признаков путем умножения квадратной матрицы на матрицу масштабированных признаков.  \n",
    "    \n",
    "В результате преобразования  все признаки исходного датасета утратили свои первоначальные значения."
   ]
  },
  {
   "cell_type": "markdown",
   "id": "018630fa",
   "metadata": {},
   "source": [
    "## Проверка алгоритма"
   ]
  },
  {
   "cell_type": "markdown",
   "id": "2c4742b2",
   "metadata": {},
   "source": [
    "Для проверки верности наших выводов о неизменности качества линейной регрессии до и после умножения матрицы признаков на обратимую матрицу обучим две модели на масштабированных признаках и на признаках, преобразованных путем умножения на обратимую матрицу."
   ]
  },
  {
   "cell_type": "markdown",
   "id": "167d22f7",
   "metadata": {},
   "source": [
    "###  Построение моделей линейной регрессии"
   ]
  },
  {
   "cell_type": "markdown",
   "id": "cf675523",
   "metadata": {},
   "source": [
    "Строим модель на масштабированных признаках"
   ]
  },
  {
   "cell_type": "code",
   "execution_count": 23,
   "id": "a845aedf",
   "metadata": {},
   "outputs": [
    {
     "name": "stdout",
     "output_type": "stream",
     "text": [
      "R2 = 0.3899836481873805\n"
     ]
    },
    {
     "data": {
      "text/plain": [
       "0.39"
      ]
     },
     "execution_count": 23,
     "metadata": {},
     "output_type": "execute_result"
    }
   ],
   "source": [
    "model_scale = LinearRegression().fit(features_train, target_train)\n",
    "predicted_scale = model_scale.predict(features_test)\n",
    "\n",
    "print(\"R2 =\", r2_score(target_test, predicted_scale))\n",
    "\n",
    "b = round((r2_score(target_test, predicted_scale)),4)\n",
    "b"
   ]
  },
  {
   "cell_type": "markdown",
   "id": "aa1e442d",
   "metadata": {},
   "source": [
    "Строим модель на признаках, полученных путем умножения набора признаков (масштабированных) на обратимую матрицу."
   ]
  },
  {
   "cell_type": "code",
   "execution_count": 24,
   "id": "afb22c83",
   "metadata": {},
   "outputs": [
    {
     "name": "stdout",
     "output_type": "stream",
     "text": [
      "R2 = 0.38998364818738074\n"
     ]
    },
    {
     "data": {
      "text/plain": [
       "0.39"
      ]
     },
     "execution_count": 24,
     "metadata": {},
     "output_type": "execute_result"
    }
   ],
   "source": [
    "model_matrix = LinearRegression()\n",
    "model_matrix.fit(features_g_train, target_train)\n",
    "predicted_matrix = model_matrix.predict(features_g_test)\n",
    "print(\"R2 =\", r2_score(target_test, predicted_matrix))\n",
    "\n",
    "c = round((r2_score(target_test, predicted_matrix)),4)\n",
    "c"
   ]
  },
  {
   "cell_type": "markdown",
   "id": "d1ca21b3",
   "metadata": {},
   "source": [
    "### Визуализация метрики R2 разных моделей"
   ]
  },
  {
   "cell_type": "markdown",
   "id": "faba15a1",
   "metadata": {},
   "source": [
    "Для визуализации метрики R2 моделей, построенных на исходных данных, масштабированных, масштабированных и преобразованных путем умножения на обратимую матрицу, создадим датафрейм из данных R2 разных моделей, которые мы сохранили в отдельных переменных."
   ]
  },
  {
   "cell_type": "code",
   "execution_count": 25,
   "id": "42b92a22",
   "metadata": {},
   "outputs": [
    {
     "data": {
      "text/html": [
       "<div>\n",
       "<style scoped>\n",
       "    .dataframe tbody tr th:only-of-type {\n",
       "        vertical-align: middle;\n",
       "    }\n",
       "\n",
       "    .dataframe tbody tr th {\n",
       "        vertical-align: top;\n",
       "    }\n",
       "\n",
       "    .dataframe thead th {\n",
       "        text-align: right;\n",
       "    }\n",
       "</style>\n",
       "<table border=\"1\" class=\"dataframe\">\n",
       "  <thead>\n",
       "    <tr style=\"text-align: right;\">\n",
       "      <th></th>\n",
       "      <th>R2</th>\n",
       "    </tr>\n",
       "  </thead>\n",
       "  <tbody>\n",
       "    <tr>\n",
       "      <th>Линейная регрессия</th>\n",
       "      <td>0.39</td>\n",
       "    </tr>\n",
       "    <tr>\n",
       "      <th>Линейная регрессия c масштабом</th>\n",
       "      <td>0.39</td>\n",
       "    </tr>\n",
       "    <tr>\n",
       "      <th>Линейная регрессия c масштабом и преобразованием признаков</th>\n",
       "      <td>0.39</td>\n",
       "    </tr>\n",
       "  </tbody>\n",
       "</table>\n",
       "</div>"
      ],
      "text/plain": [
       "                                                      R2\n",
       "Линейная регрессия                                  0.39\n",
       "Линейная регрессия c масштабом                      0.39\n",
       "Линейная регрессия c масштабом и преобразование...  0.39"
      ]
     },
     "execution_count": 25,
     "metadata": {},
     "output_type": "execute_result"
    }
   ],
   "source": [
    "pd.DataFrame(data= [a, b, c], \n",
    "                    columns=['R2'], \n",
    "                     index=['Линейная регрессия',\n",
    "                            'Линейная регрессия c масштабом',\n",
    "                            'Линейная регрессия c масштабом и преобразованием признаков'])      "
   ]
  },
  {
   "cell_type": "markdown",
   "id": "e9019455",
   "metadata": {},
   "source": [
    "<b> Вывод:</b> Алгоритм преобразования проверен путем построения моделей линейной регрессии - на масштабированных признаках и на признаках, полученных в результате умножения обратимой матрицы на матрицу масштабированных признаков. \n",
    "\n",
    "R2 обеих моделей одинаково и равно 0.3899, что подтвердило вывод  матричного уравнения о неизменности качества линейной регрессии при преобразовании признаков путем умножения исходных на обратимую матрицу.    \n"
   ]
  },
  {
   "cell_type": "markdown",
   "id": "267a524f",
   "metadata": {},
   "source": [
    "<b> Итоговый вывод:</b> В соответствии с условием проекта разработан метод преобразования с целью защиты персональных данных клиентов страховой компании «Хоть потоп», используемых в построении модели машинного обучения, предсказывающей потенциальную возможность страховых выплат.\n",
    "\n",
    "Датасет состоит из 5000 объектов, 4 признаков и целевого признака. Установлена прямая пропорциональная зависимость между возрастом и количеством страховых выплат.Несмотря на наличие выбросов в признаках 'Зарплата' и 'Возраст' и 153 полных дубликатов из данных ничего не исключалось, так как они реалистичны. Предобработка данных состояла в приведении признаков 'Возраст' и 'Зарплата' к цельночисленному типу. \n",
    "\n",
    "В ходе исследования вопроса как изменится качество модели линейной регрессии при умножении признаков на обратимую матрицу  матричным уравнением, в котором были использованы теоремы об обратной матрице произведения матриц, а также транспонирования произведения матриц, установлено что предсказания модели, а значит и качество линейной регрессии не поменяются. \n",
    "    \n",
    "Исследуя связь параметров линейной регрессии в исходной задаче и в преобразованной, мы пришли к выводу, что вектор весов преобразованной модели линейной регрессии равен произведению матрицы, обратной той, на которую умножались признаки исходной модели, и вектора весов исходной модели.    \n",
    "\n",
    "Алгоритм преобразования данных с целью защиты информации клиентов страховой компании «Хоть потоп» состоял в следующем:\n",
    "масштабированы (за исключением 'Пол') и представлены в виде матрицы признаки исходного датасета, сгенерирована обратимая матрица случайных чисел с высотой, равной ширине матрицы признаков исходного датасета, получена новая матрица признаков путем умножения квадратной матрицы на матрицу масштабированных признаков.\n",
    "\n",
    "Обучены две модели линейной регрессии - на масштабированных признаках и на признаках, полученных в результате умножения обратимой матрицы на матрицу масштабированных признаков.\n",
    "\n",
    "Метрики качества R2 обеих моделей одинаковы и равны 0.3899, что подтвердило вывод матричного уравнения о неизменности качества линейной регрессии при преобразовании признаков путем умножения исходных на обратимую матрицу.    "
   ]
  }
 ],
 "metadata": {
  "ExecuteTimeLog": [
   {
    "duration": 1699,
    "start_time": "2023-01-08T15:59:01.998Z"
   },
   {
    "duration": 127,
    "start_time": "2023-01-08T15:59:03.699Z"
   },
   {
    "duration": 0,
    "start_time": "2023-01-08T15:59:03.828Z"
   },
   {
    "duration": 0,
    "start_time": "2023-01-08T15:59:03.830Z"
   },
   {
    "duration": 0,
    "start_time": "2023-01-08T15:59:03.830Z"
   },
   {
    "duration": 0,
    "start_time": "2023-01-08T15:59:03.831Z"
   },
   {
    "duration": 0,
    "start_time": "2023-01-08T15:59:03.832Z"
   },
   {
    "duration": 0,
    "start_time": "2023-01-08T15:59:03.834Z"
   },
   {
    "duration": 0,
    "start_time": "2023-01-08T15:59:03.835Z"
   },
   {
    "duration": 0,
    "start_time": "2023-01-08T15:59:03.836Z"
   },
   {
    "duration": 0,
    "start_time": "2023-01-08T15:59:03.837Z"
   },
   {
    "duration": 0,
    "start_time": "2023-01-08T15:59:03.839Z"
   },
   {
    "duration": 0,
    "start_time": "2023-01-08T15:59:03.840Z"
   },
   {
    "duration": 0,
    "start_time": "2023-01-08T15:59:03.841Z"
   },
   {
    "duration": 0,
    "start_time": "2023-01-08T15:59:03.843Z"
   },
   {
    "duration": 0,
    "start_time": "2023-01-08T15:59:03.844Z"
   },
   {
    "duration": 0,
    "start_time": "2023-01-08T15:59:03.845Z"
   },
   {
    "duration": 0,
    "start_time": "2023-01-08T15:59:03.846Z"
   },
   {
    "duration": 0,
    "start_time": "2023-01-08T15:59:03.847Z"
   },
   {
    "duration": 0,
    "start_time": "2023-01-08T15:59:03.848Z"
   },
   {
    "duration": 0,
    "start_time": "2023-01-08T15:59:03.849Z"
   },
   {
    "duration": 0,
    "start_time": "2023-01-08T15:59:03.850Z"
   },
   {
    "duration": 50,
    "start_time": "2023-01-08T16:00:26.334Z"
   },
   {
    "duration": 1719,
    "start_time": "2023-01-08T16:00:31.406Z"
   },
   {
    "duration": 48,
    "start_time": "2023-01-08T16:00:33.127Z"
   },
   {
    "duration": 8,
    "start_time": "2023-01-08T16:00:33.177Z"
   },
   {
    "duration": 27,
    "start_time": "2023-01-08T16:00:33.187Z"
   },
   {
    "duration": 17,
    "start_time": "2023-01-08T16:00:33.216Z"
   },
   {
    "duration": 15,
    "start_time": "2023-01-08T16:00:33.234Z"
   },
   {
    "duration": 379,
    "start_time": "2023-01-08T16:00:33.251Z"
   },
   {
    "duration": 12,
    "start_time": "2023-01-08T16:00:33.632Z"
   },
   {
    "duration": 25,
    "start_time": "2023-01-08T16:00:33.645Z"
   },
   {
    "duration": 1569,
    "start_time": "2023-01-08T16:00:33.672Z"
   },
   {
    "duration": 8,
    "start_time": "2023-01-08T16:00:35.243Z"
   },
   {
    "duration": 14,
    "start_time": "2023-01-08T16:00:35.252Z"
   },
   {
    "duration": 17,
    "start_time": "2023-01-08T16:00:35.267Z"
   },
   {
    "duration": 7,
    "start_time": "2023-01-08T16:00:35.285Z"
   },
   {
    "duration": 6,
    "start_time": "2023-01-08T16:00:35.297Z"
   },
   {
    "duration": 217,
    "start_time": "2023-01-08T16:00:35.304Z"
   },
   {
    "duration": 9,
    "start_time": "2023-01-08T16:00:35.522Z"
   },
   {
    "duration": 9,
    "start_time": "2023-01-08T16:00:35.532Z"
   },
   {
    "duration": 69,
    "start_time": "2023-01-08T16:00:35.543Z"
   },
   {
    "duration": 88,
    "start_time": "2023-01-08T16:00:35.614Z"
   },
   {
    "duration": 7,
    "start_time": "2023-01-08T16:00:35.704Z"
   },
   {
    "duration": 10,
    "start_time": "2023-01-08T16:00:35.712Z"
   },
   {
    "duration": 1070,
    "start_time": "2023-01-09T06:22:49.911Z"
   },
   {
    "duration": 3,
    "start_time": "2023-01-09T06:22:50.983Z"
   },
   {
    "duration": 164,
    "start_time": "2023-01-09T06:22:50.988Z"
   },
   {
    "duration": 25,
    "start_time": "2023-01-09T06:22:51.154Z"
   },
   {
    "duration": 6,
    "start_time": "2023-01-09T06:22:51.181Z"
   },
   {
    "duration": 9,
    "start_time": "2023-01-09T06:22:51.189Z"
   },
   {
    "duration": 11,
    "start_time": "2023-01-09T06:22:51.199Z"
   },
   {
    "duration": 10,
    "start_time": "2023-01-09T06:22:51.212Z"
   },
   {
    "duration": 549,
    "start_time": "2023-01-09T06:22:51.224Z"
   },
   {
    "duration": 15,
    "start_time": "2023-01-09T06:22:51.775Z"
   },
   {
    "duration": 37,
    "start_time": "2023-01-09T06:22:51.791Z"
   },
   {
    "duration": 1513,
    "start_time": "2023-01-09T06:22:51.830Z"
   },
   {
    "duration": 9,
    "start_time": "2023-01-09T06:22:53.345Z"
   },
   {
    "duration": 11,
    "start_time": "2023-01-09T06:22:53.356Z"
   },
   {
    "duration": 53,
    "start_time": "2023-01-09T06:22:53.369Z"
   },
   {
    "duration": 100,
    "start_time": "2023-01-09T06:22:53.425Z"
   },
   {
    "duration": 195,
    "start_time": "2023-01-09T06:22:53.528Z"
   },
   {
    "duration": 39,
    "start_time": "2023-01-09T06:22:53.725Z"
   },
   {
    "duration": 7,
    "start_time": "2023-01-09T06:22:53.766Z"
   },
   {
    "duration": 50,
    "start_time": "2023-01-09T06:22:53.774Z"
   },
   {
    "duration": 17,
    "start_time": "2023-01-09T06:22:53.826Z"
   },
   {
    "duration": 13,
    "start_time": "2023-01-09T06:22:53.923Z"
   },
   {
    "duration": 9,
    "start_time": "2023-01-09T06:22:53.938Z"
   },
   {
    "duration": 9,
    "start_time": "2023-01-09T06:22:53.949Z"
   },
   {
    "duration": 4,
    "start_time": "2023-01-09T06:30:41.040Z"
   },
   {
    "duration": 11,
    "start_time": "2023-01-09T06:30:41.046Z"
   },
   {
    "duration": 65,
    "start_time": "2023-01-09T06:30:41.059Z"
   },
   {
    "duration": 18,
    "start_time": "2023-01-09T06:30:41.126Z"
   },
   {
    "duration": 21,
    "start_time": "2023-01-09T06:30:41.145Z"
   },
   {
    "duration": 10,
    "start_time": "2023-01-09T06:30:41.168Z"
   },
   {
    "duration": 10,
    "start_time": "2023-01-09T06:30:41.179Z"
   },
   {
    "duration": 9,
    "start_time": "2023-01-09T06:30:41.191Z"
   },
   {
    "duration": 163,
    "start_time": "2023-01-09T06:30:41.203Z"
   },
   {
    "duration": 12,
    "start_time": "2023-01-09T06:30:41.368Z"
   },
   {
    "duration": 42,
    "start_time": "2023-01-09T06:30:41.382Z"
   },
   {
    "duration": 1583,
    "start_time": "2023-01-09T06:30:41.426Z"
   },
   {
    "duration": 16,
    "start_time": "2023-01-09T06:30:43.011Z"
   },
   {
    "duration": 8,
    "start_time": "2023-01-09T06:30:43.028Z"
   },
   {
    "duration": 13,
    "start_time": "2023-01-09T06:30:43.037Z"
   },
   {
    "duration": 11,
    "start_time": "2023-01-09T06:30:43.052Z"
   },
   {
    "duration": 60,
    "start_time": "2023-01-09T06:30:43.064Z"
   },
   {
    "duration": 136,
    "start_time": "2023-01-09T06:30:43.126Z"
   },
   {
    "duration": 9,
    "start_time": "2023-01-09T06:30:43.264Z"
   },
   {
    "duration": 49,
    "start_time": "2023-01-09T06:30:43.275Z"
   },
   {
    "duration": 17,
    "start_time": "2023-01-09T06:30:43.327Z"
   },
   {
    "duration": 19,
    "start_time": "2023-01-09T06:30:43.422Z"
   },
   {
    "duration": 11,
    "start_time": "2023-01-09T06:30:43.443Z"
   },
   {
    "duration": 12,
    "start_time": "2023-01-09T06:30:43.458Z"
   },
   {
    "duration": 3,
    "start_time": "2023-01-09T06:35:51.500Z"
   },
   {
    "duration": 9,
    "start_time": "2023-01-09T06:35:51.508Z"
   },
   {
    "duration": 75,
    "start_time": "2023-01-09T06:35:51.519Z"
   },
   {
    "duration": 20,
    "start_time": "2023-01-09T06:35:51.596Z"
   },
   {
    "duration": 10,
    "start_time": "2023-01-09T06:35:51.619Z"
   },
   {
    "duration": 10,
    "start_time": "2023-01-09T06:35:51.631Z"
   },
   {
    "duration": 17,
    "start_time": "2023-01-09T06:35:51.643Z"
   },
   {
    "duration": 15,
    "start_time": "2023-01-09T06:35:51.663Z"
   },
   {
    "duration": 164,
    "start_time": "2023-01-09T06:35:51.680Z"
   },
   {
    "duration": 15,
    "start_time": "2023-01-09T06:35:51.847Z"
   },
   {
    "duration": 23,
    "start_time": "2023-01-09T06:35:51.864Z"
   },
   {
    "duration": 1574,
    "start_time": "2023-01-09T06:35:51.888Z"
   },
   {
    "duration": 10,
    "start_time": "2023-01-09T06:35:53.464Z"
   },
   {
    "duration": 8,
    "start_time": "2023-01-09T06:35:53.475Z"
   },
   {
    "duration": 12,
    "start_time": "2023-01-09T06:35:53.485Z"
   },
   {
    "duration": 26,
    "start_time": "2023-01-09T06:35:53.498Z"
   },
   {
    "duration": 12,
    "start_time": "2023-01-09T06:35:53.526Z"
   },
   {
    "duration": 109,
    "start_time": "2023-01-09T06:35:53.622Z"
   },
   {
    "duration": 7,
    "start_time": "2023-01-09T06:35:53.733Z"
   },
   {
    "duration": 7,
    "start_time": "2023-01-09T06:35:53.741Z"
   },
   {
    "duration": 77,
    "start_time": "2023-01-09T06:35:53.749Z"
   },
   {
    "duration": 96,
    "start_time": "2023-01-09T06:35:53.828Z"
   },
   {
    "duration": 10,
    "start_time": "2023-01-09T06:35:53.926Z"
   },
   {
    "duration": 8,
    "start_time": "2023-01-09T06:35:53.938Z"
   },
   {
    "duration": 4,
    "start_time": "2023-01-09T06:38:20.640Z"
   },
   {
    "duration": 39,
    "start_time": "2023-01-09T06:38:20.646Z"
   },
   {
    "duration": 75,
    "start_time": "2023-01-09T06:38:20.687Z"
   },
   {
    "duration": 17,
    "start_time": "2023-01-09T06:38:20.763Z"
   },
   {
    "duration": 10,
    "start_time": "2023-01-09T06:38:20.782Z"
   },
   {
    "duration": 21,
    "start_time": "2023-01-09T06:38:20.794Z"
   },
   {
    "duration": 28,
    "start_time": "2023-01-09T06:38:20.816Z"
   },
   {
    "duration": 19,
    "start_time": "2023-01-09T06:38:20.845Z"
   },
   {
    "duration": 143,
    "start_time": "2023-01-09T06:38:20.866Z"
   },
   {
    "duration": 18,
    "start_time": "2023-01-09T06:38:21.011Z"
   },
   {
    "duration": 43,
    "start_time": "2023-01-09T06:38:21.030Z"
   },
   {
    "duration": 1520,
    "start_time": "2023-01-09T06:38:21.075Z"
   },
   {
    "duration": 8,
    "start_time": "2023-01-09T06:38:22.597Z"
   },
   {
    "duration": 19,
    "start_time": "2023-01-09T06:38:22.607Z"
   },
   {
    "duration": 20,
    "start_time": "2023-01-09T06:38:22.627Z"
   },
   {
    "duration": 5,
    "start_time": "2023-01-09T06:38:22.649Z"
   },
   {
    "duration": 67,
    "start_time": "2023-01-09T06:38:22.656Z"
   },
   {
    "duration": 125,
    "start_time": "2023-01-09T06:38:22.726Z"
   },
   {
    "duration": 9,
    "start_time": "2023-01-09T06:38:22.853Z"
   },
   {
    "duration": 6,
    "start_time": "2023-01-09T06:38:22.863Z"
   },
   {
    "duration": 9,
    "start_time": "2023-01-09T06:38:22.922Z"
   },
   {
    "duration": 98,
    "start_time": "2023-01-09T06:38:22.933Z"
   },
   {
    "duration": 11,
    "start_time": "2023-01-09T06:38:23.032Z"
   },
   {
    "duration": 9,
    "start_time": "2023-01-09T06:38:23.044Z"
   },
   {
    "duration": 3,
    "start_time": "2023-01-09T06:45:26.853Z"
   },
   {
    "duration": 6,
    "start_time": "2023-01-09T06:45:26.858Z"
   },
   {
    "duration": 86,
    "start_time": "2023-01-09T06:45:26.866Z"
   },
   {
    "duration": 15,
    "start_time": "2023-01-09T06:45:26.954Z"
   },
   {
    "duration": 5,
    "start_time": "2023-01-09T06:45:26.972Z"
   },
   {
    "duration": 9,
    "start_time": "2023-01-09T06:45:26.978Z"
   },
   {
    "duration": 10,
    "start_time": "2023-01-09T06:45:26.989Z"
   },
   {
    "duration": 9,
    "start_time": "2023-01-09T06:45:27.000Z"
   },
   {
    "duration": 142,
    "start_time": "2023-01-09T06:45:27.010Z"
   },
   {
    "duration": 11,
    "start_time": "2023-01-09T06:45:27.154Z"
   },
   {
    "duration": 21,
    "start_time": "2023-01-09T06:45:27.167Z"
   },
   {
    "duration": 1547,
    "start_time": "2023-01-09T06:45:27.189Z"
   },
   {
    "duration": 7,
    "start_time": "2023-01-09T06:45:28.738Z"
   },
   {
    "duration": 11,
    "start_time": "2023-01-09T06:45:28.747Z"
   },
   {
    "duration": 14,
    "start_time": "2023-01-09T06:45:28.759Z"
   },
   {
    "duration": 4,
    "start_time": "2023-01-09T06:45:28.775Z"
   },
   {
    "duration": 45,
    "start_time": "2023-01-09T06:45:28.781Z"
   },
   {
    "duration": 121,
    "start_time": "2023-01-09T06:45:28.829Z"
   },
   {
    "duration": 8,
    "start_time": "2023-01-09T06:45:28.952Z"
   },
   {
    "duration": 7,
    "start_time": "2023-01-09T06:45:28.961Z"
   },
   {
    "duration": 59,
    "start_time": "2023-01-09T06:45:28.969Z"
   },
   {
    "duration": 10,
    "start_time": "2023-01-09T06:45:29.030Z"
   },
   {
    "duration": 85,
    "start_time": "2023-01-09T06:45:29.042Z"
   },
   {
    "duration": 11,
    "start_time": "2023-01-09T06:45:29.129Z"
   },
   {
    "duration": 4,
    "start_time": "2023-01-09T06:46:16.549Z"
   },
   {
    "duration": 12,
    "start_time": "2023-01-09T06:46:16.555Z"
   },
   {
    "duration": 79,
    "start_time": "2023-01-09T06:46:16.568Z"
   },
   {
    "duration": 15,
    "start_time": "2023-01-09T06:46:16.650Z"
   },
   {
    "duration": 6,
    "start_time": "2023-01-09T06:46:16.666Z"
   },
   {
    "duration": 6,
    "start_time": "2023-01-09T06:46:16.673Z"
   },
   {
    "duration": 9,
    "start_time": "2023-01-09T06:46:16.681Z"
   },
   {
    "duration": 7,
    "start_time": "2023-01-09T06:46:16.692Z"
   },
   {
    "duration": 140,
    "start_time": "2023-01-09T06:46:16.701Z"
   },
   {
    "duration": 11,
    "start_time": "2023-01-09T06:46:16.843Z"
   },
   {
    "duration": 21,
    "start_time": "2023-01-09T06:46:16.855Z"
   },
   {
    "duration": 1409,
    "start_time": "2023-01-09T06:46:16.877Z"
   },
   {
    "duration": 8,
    "start_time": "2023-01-09T06:46:18.288Z"
   },
   {
    "duration": 9,
    "start_time": "2023-01-09T06:46:18.297Z"
   },
   {
    "duration": 10,
    "start_time": "2023-01-09T06:46:18.321Z"
   },
   {
    "duration": 3,
    "start_time": "2023-01-09T06:46:18.333Z"
   },
   {
    "duration": 86,
    "start_time": "2023-01-09T06:46:18.338Z"
   },
   {
    "duration": 215,
    "start_time": "2023-01-09T06:46:18.426Z"
   },
   {
    "duration": 0,
    "start_time": "2023-01-09T06:46:18.643Z"
   },
   {
    "duration": 0,
    "start_time": "2023-01-09T06:46:18.645Z"
   },
   {
    "duration": 0,
    "start_time": "2023-01-09T06:46:18.646Z"
   },
   {
    "duration": 0,
    "start_time": "2023-01-09T06:46:18.647Z"
   },
   {
    "duration": 0,
    "start_time": "2023-01-09T06:46:18.648Z"
   },
   {
    "duration": 0,
    "start_time": "2023-01-09T06:46:18.649Z"
   },
   {
    "duration": 3,
    "start_time": "2023-01-09T06:46:43.458Z"
   },
   {
    "duration": 13,
    "start_time": "2023-01-09T06:46:43.464Z"
   },
   {
    "duration": 72,
    "start_time": "2023-01-09T06:46:43.479Z"
   },
   {
    "duration": 15,
    "start_time": "2023-01-09T06:46:43.553Z"
   },
   {
    "duration": 12,
    "start_time": "2023-01-09T06:46:43.570Z"
   },
   {
    "duration": 30,
    "start_time": "2023-01-09T06:46:43.584Z"
   },
   {
    "duration": 21,
    "start_time": "2023-01-09T06:46:43.616Z"
   },
   {
    "duration": 142,
    "start_time": "2023-01-09T06:46:43.639Z"
   },
   {
    "duration": 148,
    "start_time": "2023-01-09T06:46:43.784Z"
   },
   {
    "duration": 12,
    "start_time": "2023-01-09T06:46:43.933Z"
   },
   {
    "duration": 23,
    "start_time": "2023-01-09T06:46:43.946Z"
   },
   {
    "duration": 1453,
    "start_time": "2023-01-09T06:46:43.971Z"
   },
   {
    "duration": 8,
    "start_time": "2023-01-09T06:46:45.426Z"
   },
   {
    "duration": 7,
    "start_time": "2023-01-09T06:46:45.436Z"
   },
   {
    "duration": 14,
    "start_time": "2023-01-09T06:46:45.445Z"
   },
   {
    "duration": 4,
    "start_time": "2023-01-09T06:46:45.462Z"
   },
   {
    "duration": 60,
    "start_time": "2023-01-09T06:46:45.467Z"
   },
   {
    "duration": 127,
    "start_time": "2023-01-09T06:46:45.529Z"
   },
   {
    "duration": 7,
    "start_time": "2023-01-09T06:46:45.658Z"
   },
   {
    "duration": 6,
    "start_time": "2023-01-09T06:46:45.667Z"
   },
   {
    "duration": 54,
    "start_time": "2023-01-09T06:46:45.675Z"
   },
   {
    "duration": 95,
    "start_time": "2023-01-09T06:46:45.731Z"
   },
   {
    "duration": 10,
    "start_time": "2023-01-09T06:46:45.828Z"
   },
   {
    "duration": 43,
    "start_time": "2023-01-09T06:46:45.841Z"
   },
   {
    "duration": 5,
    "start_time": "2023-01-09T06:47:54.120Z"
   },
   {
    "duration": 10,
    "start_time": "2023-01-09T06:47:54.128Z"
   },
   {
    "duration": 71,
    "start_time": "2023-01-09T06:47:54.140Z"
   },
   {
    "duration": 22,
    "start_time": "2023-01-09T06:47:54.213Z"
   },
   {
    "duration": 8,
    "start_time": "2023-01-09T06:47:54.237Z"
   },
   {
    "duration": 7,
    "start_time": "2023-01-09T06:47:54.247Z"
   },
   {
    "duration": 11,
    "start_time": "2023-01-09T06:47:54.256Z"
   },
   {
    "duration": 13,
    "start_time": "2023-01-09T06:47:54.270Z"
   },
   {
    "duration": 190,
    "start_time": "2023-01-09T06:47:54.285Z"
   },
   {
    "duration": 13,
    "start_time": "2023-01-09T06:47:54.477Z"
   },
   {
    "duration": 36,
    "start_time": "2023-01-09T06:47:54.492Z"
   },
   {
    "duration": 1605,
    "start_time": "2023-01-09T06:47:54.530Z"
   },
   {
    "duration": 8,
    "start_time": "2023-01-09T06:47:56.137Z"
   },
   {
    "duration": 10,
    "start_time": "2023-01-09T06:47:56.147Z"
   },
   {
    "duration": 21,
    "start_time": "2023-01-09T06:47:56.159Z"
   },
   {
    "duration": 40,
    "start_time": "2023-01-09T06:47:56.182Z"
   },
   {
    "duration": 5,
    "start_time": "2023-01-09T06:47:56.224Z"
   },
   {
    "duration": 128,
    "start_time": "2023-01-09T06:47:56.231Z"
   },
   {
    "duration": 8,
    "start_time": "2023-01-09T06:47:56.360Z"
   },
   {
    "duration": 6,
    "start_time": "2023-01-09T06:47:56.370Z"
   },
   {
    "duration": 50,
    "start_time": "2023-01-09T06:47:56.378Z"
   },
   {
    "duration": 95,
    "start_time": "2023-01-09T06:47:56.430Z"
   },
   {
    "duration": 8,
    "start_time": "2023-01-09T06:47:56.527Z"
   },
   {
    "duration": 14,
    "start_time": "2023-01-09T06:47:56.537Z"
   },
   {
    "duration": 4,
    "start_time": "2023-01-09T06:50:56.927Z"
   },
   {
    "duration": 9,
    "start_time": "2023-01-09T06:51:12.017Z"
   },
   {
    "duration": 9,
    "start_time": "2023-01-09T06:52:16.264Z"
   },
   {
    "duration": 6,
    "start_time": "2023-01-09T06:52:34.248Z"
   },
   {
    "duration": 5,
    "start_time": "2023-01-09T06:52:55.776Z"
   },
   {
    "duration": 5,
    "start_time": "2023-01-09T06:52:55.783Z"
   },
   {
    "duration": 68,
    "start_time": "2023-01-09T06:52:55.789Z"
   },
   {
    "duration": 23,
    "start_time": "2023-01-09T06:52:55.860Z"
   },
   {
    "duration": 12,
    "start_time": "2023-01-09T06:52:55.885Z"
   },
   {
    "duration": 8,
    "start_time": "2023-01-09T06:52:55.899Z"
   },
   {
    "duration": 11,
    "start_time": "2023-01-09T06:52:55.909Z"
   },
   {
    "duration": 8,
    "start_time": "2023-01-09T06:52:55.921Z"
   },
   {
    "duration": 158,
    "start_time": "2023-01-09T06:52:55.931Z"
   },
   {
    "duration": 13,
    "start_time": "2023-01-09T06:52:56.092Z"
   },
   {
    "duration": 32,
    "start_time": "2023-01-09T06:52:56.107Z"
   },
   {
    "duration": 1525,
    "start_time": "2023-01-09T06:52:56.141Z"
   },
   {
    "duration": 9,
    "start_time": "2023-01-09T06:52:57.668Z"
   },
   {
    "duration": 7,
    "start_time": "2023-01-09T06:52:57.679Z"
   },
   {
    "duration": 36,
    "start_time": "2023-01-09T06:52:57.687Z"
   },
   {
    "duration": 4,
    "start_time": "2023-01-09T06:52:57.724Z"
   },
   {
    "duration": 102,
    "start_time": "2023-01-09T06:52:57.733Z"
   },
   {
    "duration": 130,
    "start_time": "2023-01-09T06:52:57.836Z"
   },
   {
    "duration": 7,
    "start_time": "2023-01-09T06:52:57.968Z"
   },
   {
    "duration": 5,
    "start_time": "2023-01-09T06:52:57.977Z"
   },
   {
    "duration": 4,
    "start_time": "2023-01-09T06:52:58.023Z"
   },
   {
    "duration": 8,
    "start_time": "2023-01-09T06:52:58.028Z"
   },
   {
    "duration": 95,
    "start_time": "2023-01-09T06:52:58.038Z"
   },
   {
    "duration": 9,
    "start_time": "2023-01-09T06:52:58.135Z"
   },
   {
    "duration": 7,
    "start_time": "2023-01-09T06:52:58.146Z"
   },
   {
    "duration": 4,
    "start_time": "2023-01-09T06:53:41.219Z"
   },
   {
    "duration": 10,
    "start_time": "2023-01-09T06:54:51.224Z"
   },
   {
    "duration": 9,
    "start_time": "2023-01-09T06:55:03.548Z"
   },
   {
    "duration": 11,
    "start_time": "2023-01-09T06:55:24.607Z"
   },
   {
    "duration": 6,
    "start_time": "2023-01-09T06:55:45.821Z"
   },
   {
    "duration": 3,
    "start_time": "2023-01-09T07:01:32.752Z"
   },
   {
    "duration": 19,
    "start_time": "2023-01-09T07:01:32.757Z"
   },
   {
    "duration": 69,
    "start_time": "2023-01-09T07:01:32.777Z"
   },
   {
    "duration": 17,
    "start_time": "2023-01-09T07:01:32.848Z"
   },
   {
    "duration": 16,
    "start_time": "2023-01-09T07:01:32.867Z"
   },
   {
    "duration": 8,
    "start_time": "2023-01-09T07:01:32.885Z"
   },
   {
    "duration": 9,
    "start_time": "2023-01-09T07:01:32.894Z"
   },
   {
    "duration": 8,
    "start_time": "2023-01-09T07:01:32.904Z"
   },
   {
    "duration": 155,
    "start_time": "2023-01-09T07:01:32.914Z"
   },
   {
    "duration": 13,
    "start_time": "2023-01-09T07:01:33.071Z"
   },
   {
    "duration": 37,
    "start_time": "2023-01-09T07:01:33.086Z"
   },
   {
    "duration": 1623,
    "start_time": "2023-01-09T07:01:33.125Z"
   },
   {
    "duration": 9,
    "start_time": "2023-01-09T07:01:34.752Z"
   },
   {
    "duration": 12,
    "start_time": "2023-01-09T07:01:34.762Z"
   },
   {
    "duration": 20,
    "start_time": "2023-01-09T07:01:34.776Z"
   },
   {
    "duration": 27,
    "start_time": "2023-01-09T07:01:34.798Z"
   },
   {
    "duration": 95,
    "start_time": "2023-01-09T07:01:34.828Z"
   },
   {
    "duration": 51,
    "start_time": "2023-01-09T07:01:34.925Z"
   },
   {
    "duration": 50,
    "start_time": "2023-01-09T07:01:34.977Z"
   },
   {
    "duration": 11,
    "start_time": "2023-01-09T07:01:35.029Z"
   },
   {
    "duration": 79,
    "start_time": "2023-01-09T07:01:35.043Z"
   },
   {
    "duration": 6,
    "start_time": "2023-01-09T07:01:35.124Z"
   },
   {
    "duration": 98,
    "start_time": "2023-01-09T07:01:35.132Z"
   },
   {
    "duration": 93,
    "start_time": "2023-01-09T07:01:35.231Z"
   },
   {
    "duration": 8,
    "start_time": "2023-01-09T07:01:35.326Z"
   },
   {
    "duration": 14,
    "start_time": "2023-01-09T07:01:35.335Z"
   },
   {
    "duration": 5,
    "start_time": "2023-01-09T07:02:36.444Z"
   },
   {
    "duration": 7,
    "start_time": "2023-01-09T07:02:46.171Z"
   },
   {
    "duration": 4,
    "start_time": "2023-01-09T07:02:50.380Z"
   },
   {
    "duration": 10,
    "start_time": "2023-01-09T07:02:50.386Z"
   },
   {
    "duration": 82,
    "start_time": "2023-01-09T07:02:50.397Z"
   },
   {
    "duration": 17,
    "start_time": "2023-01-09T07:02:50.480Z"
   },
   {
    "duration": 22,
    "start_time": "2023-01-09T07:02:50.499Z"
   },
   {
    "duration": 22,
    "start_time": "2023-01-09T07:02:50.525Z"
   },
   {
    "duration": 14,
    "start_time": "2023-01-09T07:02:50.549Z"
   },
   {
    "duration": 16,
    "start_time": "2023-01-09T07:02:50.565Z"
   },
   {
    "duration": 168,
    "start_time": "2023-01-09T07:02:50.583Z"
   },
   {
    "duration": 12,
    "start_time": "2023-01-09T07:02:50.752Z"
   },
   {
    "duration": 23,
    "start_time": "2023-01-09T07:02:50.766Z"
   },
   {
    "duration": 1592,
    "start_time": "2023-01-09T07:02:50.791Z"
   },
   {
    "duration": 9,
    "start_time": "2023-01-09T07:02:52.384Z"
   },
   {
    "duration": 8,
    "start_time": "2023-01-09T07:02:52.395Z"
   },
   {
    "duration": 25,
    "start_time": "2023-01-09T07:02:52.405Z"
   },
   {
    "duration": 4,
    "start_time": "2023-01-09T07:02:52.432Z"
   },
   {
    "duration": 87,
    "start_time": "2023-01-09T07:02:52.438Z"
   },
   {
    "duration": 129,
    "start_time": "2023-01-09T07:02:52.528Z"
   },
   {
    "duration": 8,
    "start_time": "2023-01-09T07:02:52.658Z"
   },
   {
    "duration": 11,
    "start_time": "2023-01-09T07:02:52.667Z"
   },
   {
    "duration": 7,
    "start_time": "2023-01-09T07:02:52.721Z"
   },
   {
    "duration": 11,
    "start_time": "2023-01-09T07:02:52.730Z"
   },
   {
    "duration": 8,
    "start_time": "2023-01-09T07:02:52.823Z"
   },
   {
    "duration": 97,
    "start_time": "2023-01-09T07:02:52.833Z"
   },
   {
    "duration": 18,
    "start_time": "2023-01-09T07:02:52.932Z"
   },
   {
    "duration": 18,
    "start_time": "2023-01-09T07:02:52.951Z"
   },
   {
    "duration": 4,
    "start_time": "2023-01-09T07:05:34.536Z"
   },
   {
    "duration": 7,
    "start_time": "2023-01-09T07:05:34.541Z"
   },
   {
    "duration": 65,
    "start_time": "2023-01-09T07:05:34.549Z"
   },
   {
    "duration": 15,
    "start_time": "2023-01-09T07:05:34.616Z"
   },
   {
    "duration": 5,
    "start_time": "2023-01-09T07:05:34.633Z"
   },
   {
    "duration": 7,
    "start_time": "2023-01-09T07:05:34.640Z"
   },
   {
    "duration": 10,
    "start_time": "2023-01-09T07:05:34.649Z"
   },
   {
    "duration": 8,
    "start_time": "2023-01-09T07:05:34.660Z"
   },
   {
    "duration": 171,
    "start_time": "2023-01-09T07:05:34.670Z"
   },
   {
    "duration": 11,
    "start_time": "2023-01-09T07:05:34.843Z"
   },
   {
    "duration": 22,
    "start_time": "2023-01-09T07:05:34.855Z"
   },
   {
    "duration": 1570,
    "start_time": "2023-01-09T07:05:34.878Z"
   },
   {
    "duration": 8,
    "start_time": "2023-01-09T07:05:36.451Z"
   },
   {
    "duration": 32,
    "start_time": "2023-01-09T07:05:36.461Z"
   },
   {
    "duration": 40,
    "start_time": "2023-01-09T07:05:36.494Z"
   },
   {
    "duration": 15,
    "start_time": "2023-01-09T07:05:36.536Z"
   },
   {
    "duration": 70,
    "start_time": "2023-01-09T07:05:36.553Z"
   },
   {
    "duration": 131,
    "start_time": "2023-01-09T07:05:36.625Z"
   },
   {
    "duration": 8,
    "start_time": "2023-01-09T07:05:36.758Z"
   },
   {
    "duration": 14,
    "start_time": "2023-01-09T07:05:36.767Z"
   },
   {
    "duration": 27,
    "start_time": "2023-01-09T07:05:36.783Z"
   },
   {
    "duration": 26,
    "start_time": "2023-01-09T07:05:36.812Z"
   },
   {
    "duration": 20,
    "start_time": "2023-01-09T07:05:36.839Z"
   },
   {
    "duration": 17,
    "start_time": "2023-01-09T07:05:36.860Z"
   },
   {
    "duration": 29,
    "start_time": "2023-01-09T07:05:36.878Z"
   },
   {
    "duration": 6,
    "start_time": "2023-01-09T07:18:57.841Z"
   },
   {
    "duration": 5,
    "start_time": "2023-01-09T07:19:07.828Z"
   },
   {
    "duration": 11,
    "start_time": "2023-01-09T07:19:07.836Z"
   },
   {
    "duration": 66,
    "start_time": "2023-01-09T07:19:07.849Z"
   },
   {
    "duration": 18,
    "start_time": "2023-01-09T07:19:07.917Z"
   },
   {
    "duration": 9,
    "start_time": "2023-01-09T07:19:07.937Z"
   },
   {
    "duration": 15,
    "start_time": "2023-01-09T07:19:07.948Z"
   },
   {
    "duration": 13,
    "start_time": "2023-01-09T07:19:07.964Z"
   },
   {
    "duration": 10,
    "start_time": "2023-01-09T07:19:07.979Z"
   },
   {
    "duration": 177,
    "start_time": "2023-01-09T07:19:07.990Z"
   },
   {
    "duration": 13,
    "start_time": "2023-01-09T07:19:08.168Z"
   },
   {
    "duration": 21,
    "start_time": "2023-01-09T07:19:08.183Z"
   },
   {
    "duration": 1653,
    "start_time": "2023-01-09T07:19:08.222Z"
   },
   {
    "duration": 10,
    "start_time": "2023-01-09T07:19:09.877Z"
   },
   {
    "duration": 9,
    "start_time": "2023-01-09T07:19:09.890Z"
   },
   {
    "duration": 28,
    "start_time": "2023-01-09T07:19:09.900Z"
   },
   {
    "duration": 5,
    "start_time": "2023-01-09T07:19:09.930Z"
   },
   {
    "duration": 12,
    "start_time": "2023-01-09T07:19:09.937Z"
   },
   {
    "duration": 130,
    "start_time": "2023-01-09T07:19:10.023Z"
   },
   {
    "duration": 11,
    "start_time": "2023-01-09T07:19:10.154Z"
   },
   {
    "duration": 15,
    "start_time": "2023-01-09T07:19:10.167Z"
   },
   {
    "duration": 5,
    "start_time": "2023-01-09T07:19:10.183Z"
   },
   {
    "duration": 10,
    "start_time": "2023-01-09T07:19:10.189Z"
   },
   {
    "duration": 32,
    "start_time": "2023-01-09T07:19:10.201Z"
   },
   {
    "duration": 10,
    "start_time": "2023-01-09T07:19:10.235Z"
   },
   {
    "duration": 15,
    "start_time": "2023-01-09T07:19:10.246Z"
   },
   {
    "duration": 5,
    "start_time": "2023-01-09T07:20:37.439Z"
   },
   {
    "duration": 4,
    "start_time": "2023-01-09T07:20:45.632Z"
   },
   {
    "duration": 8,
    "start_time": "2023-01-09T07:20:45.639Z"
   },
   {
    "duration": 67,
    "start_time": "2023-01-09T07:20:45.649Z"
   },
   {
    "duration": 18,
    "start_time": "2023-01-09T07:20:45.718Z"
   },
   {
    "duration": 5,
    "start_time": "2023-01-09T07:20:45.739Z"
   },
   {
    "duration": 8,
    "start_time": "2023-01-09T07:20:45.746Z"
   },
   {
    "duration": 14,
    "start_time": "2023-01-09T07:20:45.756Z"
   },
   {
    "duration": 8,
    "start_time": "2023-01-09T07:20:45.771Z"
   },
   {
    "duration": 185,
    "start_time": "2023-01-09T07:20:45.780Z"
   },
   {
    "duration": 11,
    "start_time": "2023-01-09T07:20:45.966Z"
   },
   {
    "duration": 21,
    "start_time": "2023-01-09T07:20:45.979Z"
   },
   {
    "duration": 1583,
    "start_time": "2023-01-09T07:20:46.001Z"
   },
   {
    "duration": 8,
    "start_time": "2023-01-09T07:20:47.586Z"
   },
   {
    "duration": 6,
    "start_time": "2023-01-09T07:20:47.595Z"
   },
   {
    "duration": 26,
    "start_time": "2023-01-09T07:20:47.603Z"
   },
   {
    "duration": 4,
    "start_time": "2023-01-09T07:20:47.631Z"
   },
   {
    "duration": 14,
    "start_time": "2023-01-09T07:20:47.636Z"
   },
   {
    "duration": 132,
    "start_time": "2023-01-09T07:20:47.723Z"
   },
   {
    "duration": 7,
    "start_time": "2023-01-09T07:20:47.857Z"
   },
   {
    "duration": 2,
    "start_time": "2023-01-09T07:20:47.866Z"
   },
   {
    "duration": 8,
    "start_time": "2023-01-09T07:20:47.869Z"
   },
   {
    "duration": 10,
    "start_time": "2023-01-09T07:20:47.879Z"
   },
   {
    "duration": 11,
    "start_time": "2023-01-09T07:20:47.922Z"
   },
   {
    "duration": 21,
    "start_time": "2023-01-09T07:20:47.934Z"
   },
   {
    "duration": 11,
    "start_time": "2023-01-09T07:20:47.956Z"
   },
   {
    "duration": 3,
    "start_time": "2023-01-09T07:46:31.080Z"
   },
   {
    "duration": 28,
    "start_time": "2023-01-09T07:46:31.087Z"
   },
   {
    "duration": 82,
    "start_time": "2023-01-09T07:46:31.117Z"
   },
   {
    "duration": 17,
    "start_time": "2023-01-09T07:46:31.200Z"
   },
   {
    "duration": 27,
    "start_time": "2023-01-09T07:46:31.219Z"
   },
   {
    "duration": 41,
    "start_time": "2023-01-09T07:46:31.248Z"
   },
   {
    "duration": 33,
    "start_time": "2023-01-09T07:46:31.291Z"
   },
   {
    "duration": 36,
    "start_time": "2023-01-09T07:46:31.326Z"
   },
   {
    "duration": 175,
    "start_time": "2023-01-09T07:46:31.364Z"
   },
   {
    "duration": 11,
    "start_time": "2023-01-09T07:46:31.540Z"
   },
   {
    "duration": 40,
    "start_time": "2023-01-09T07:46:31.553Z"
   },
   {
    "duration": 1383,
    "start_time": "2023-01-09T07:46:31.595Z"
   },
   {
    "duration": 8,
    "start_time": "2023-01-09T07:46:32.979Z"
   },
   {
    "duration": 15,
    "start_time": "2023-01-09T07:46:32.989Z"
   },
   {
    "duration": 21,
    "start_time": "2023-01-09T07:46:33.005Z"
   },
   {
    "duration": 7,
    "start_time": "2023-01-09T07:46:33.028Z"
   },
   {
    "duration": 87,
    "start_time": "2023-01-09T07:46:33.036Z"
   },
   {
    "duration": 131,
    "start_time": "2023-01-09T07:46:33.125Z"
   },
   {
    "duration": 8,
    "start_time": "2023-01-09T07:46:33.258Z"
   },
   {
    "duration": 25,
    "start_time": "2023-01-09T07:46:33.268Z"
   },
   {
    "duration": 27,
    "start_time": "2023-01-09T07:46:33.295Z"
   },
   {
    "duration": 27,
    "start_time": "2023-01-09T07:46:33.324Z"
   },
   {
    "duration": 21,
    "start_time": "2023-01-09T07:46:33.353Z"
   },
   {
    "duration": 41,
    "start_time": "2023-01-09T07:46:33.375Z"
   },
   {
    "duration": 22,
    "start_time": "2023-01-09T07:46:33.417Z"
   },
   {
    "duration": 3,
    "start_time": "2023-01-09T09:07:00.252Z"
   },
   {
    "duration": 47,
    "start_time": "2023-01-09T09:07:00.257Z"
   },
   {
    "duration": 93,
    "start_time": "2023-01-09T09:07:00.306Z"
   },
   {
    "duration": 19,
    "start_time": "2023-01-09T09:07:00.401Z"
   },
   {
    "duration": 14,
    "start_time": "2023-01-09T09:07:00.422Z"
   },
   {
    "duration": 30,
    "start_time": "2023-01-09T09:07:00.438Z"
   },
   {
    "duration": 32,
    "start_time": "2023-01-09T09:07:00.470Z"
   },
   {
    "duration": 26,
    "start_time": "2023-01-09T09:07:00.504Z"
   },
   {
    "duration": 173,
    "start_time": "2023-01-09T09:07:00.533Z"
   },
   {
    "duration": 16,
    "start_time": "2023-01-09T09:07:00.707Z"
   },
   {
    "duration": 32,
    "start_time": "2023-01-09T09:07:00.725Z"
   },
   {
    "duration": 1794,
    "start_time": "2023-01-09T09:07:00.759Z"
   },
   {
    "duration": 8,
    "start_time": "2023-01-09T09:07:02.555Z"
   },
   {
    "duration": 24,
    "start_time": "2023-01-09T09:07:02.565Z"
   },
   {
    "duration": 13,
    "start_time": "2023-01-09T09:07:02.591Z"
   },
   {
    "duration": 16,
    "start_time": "2023-01-09T09:07:02.606Z"
   },
   {
    "duration": 102,
    "start_time": "2023-01-09T09:07:02.624Z"
   },
   {
    "duration": 111,
    "start_time": "2023-01-09T09:07:02.728Z"
   },
   {
    "duration": 8,
    "start_time": "2023-01-09T09:07:02.841Z"
   },
   {
    "duration": 7,
    "start_time": "2023-01-09T09:07:02.850Z"
   },
   {
    "duration": 28,
    "start_time": "2023-01-09T09:07:02.859Z"
   },
   {
    "duration": 32,
    "start_time": "2023-01-09T09:07:02.888Z"
   },
   {
    "duration": 35,
    "start_time": "2023-01-09T09:07:02.922Z"
   },
   {
    "duration": 8,
    "start_time": "2023-01-09T09:07:02.961Z"
   },
   {
    "duration": 8,
    "start_time": "2023-01-09T09:07:02.971Z"
   },
   {
    "duration": 4,
    "start_time": "2023-01-09T09:07:26.245Z"
   },
   {
    "duration": 16,
    "start_time": "2023-01-09T09:07:26.252Z"
   },
   {
    "duration": 73,
    "start_time": "2023-01-09T09:07:26.270Z"
   },
   {
    "duration": 16,
    "start_time": "2023-01-09T09:07:26.345Z"
   },
   {
    "duration": 41,
    "start_time": "2023-01-09T09:07:26.362Z"
   },
   {
    "duration": 20,
    "start_time": "2023-01-09T09:07:26.404Z"
   },
   {
    "duration": 9,
    "start_time": "2023-01-09T09:07:26.426Z"
   },
   {
    "duration": 11,
    "start_time": "2023-01-09T09:07:26.437Z"
   },
   {
    "duration": 152,
    "start_time": "2023-01-09T09:07:26.451Z"
   },
   {
    "duration": 12,
    "start_time": "2023-01-09T09:07:26.605Z"
   },
   {
    "duration": 31,
    "start_time": "2023-01-09T09:07:26.622Z"
   },
   {
    "duration": 1761,
    "start_time": "2023-01-09T09:07:26.655Z"
   },
   {
    "duration": 10,
    "start_time": "2023-01-09T09:07:28.417Z"
   },
   {
    "duration": 13,
    "start_time": "2023-01-09T09:07:28.428Z"
   },
   {
    "duration": 16,
    "start_time": "2023-01-09T09:07:28.443Z"
   },
   {
    "duration": 4,
    "start_time": "2023-01-09T09:07:28.461Z"
   },
   {
    "duration": 63,
    "start_time": "2023-01-09T09:07:28.467Z"
   },
   {
    "duration": 127,
    "start_time": "2023-01-09T09:07:28.532Z"
   },
   {
    "duration": 10,
    "start_time": "2023-01-09T09:07:28.662Z"
   },
   {
    "duration": 3,
    "start_time": "2023-01-09T09:07:28.674Z"
   },
   {
    "duration": 44,
    "start_time": "2023-01-09T09:07:28.679Z"
   },
   {
    "duration": 20,
    "start_time": "2023-01-09T09:07:28.725Z"
   },
   {
    "duration": 17,
    "start_time": "2023-01-09T09:07:28.746Z"
   },
   {
    "duration": 8,
    "start_time": "2023-01-09T09:07:28.765Z"
   },
   {
    "duration": 8,
    "start_time": "2023-01-09T09:07:28.775Z"
   },
   {
    "duration": 1026,
    "start_time": "2023-01-10T11:23:30.873Z"
   },
   {
    "duration": 2,
    "start_time": "2023-01-10T11:23:31.901Z"
   },
   {
    "duration": 164,
    "start_time": "2023-01-10T11:23:31.905Z"
   },
   {
    "duration": 23,
    "start_time": "2023-01-10T11:23:32.071Z"
   },
   {
    "duration": 5,
    "start_time": "2023-01-10T11:23:32.095Z"
   },
   {
    "duration": 13,
    "start_time": "2023-01-10T11:23:32.102Z"
   },
   {
    "duration": 13,
    "start_time": "2023-01-10T11:23:32.117Z"
   },
   {
    "duration": 9,
    "start_time": "2023-01-10T11:23:32.132Z"
   },
   {
    "duration": 535,
    "start_time": "2023-01-10T11:23:32.142Z"
   },
   {
    "duration": 15,
    "start_time": "2023-01-10T11:23:32.680Z"
   },
   {
    "duration": 39,
    "start_time": "2023-01-10T11:23:32.697Z"
   },
   {
    "duration": 1499,
    "start_time": "2023-01-10T11:23:32.738Z"
   },
   {
    "duration": 8,
    "start_time": "2023-01-10T11:23:34.238Z"
   },
   {
    "duration": 8,
    "start_time": "2023-01-10T11:23:34.247Z"
   },
   {
    "duration": 70,
    "start_time": "2023-01-10T11:23:34.257Z"
   },
   {
    "duration": 100,
    "start_time": "2023-01-10T11:23:34.329Z"
   },
   {
    "duration": 197,
    "start_time": "2023-01-10T11:23:34.430Z"
   },
   {
    "duration": 39,
    "start_time": "2023-01-10T11:23:34.629Z"
   },
   {
    "duration": 8,
    "start_time": "2023-01-10T11:23:34.669Z"
   },
   {
    "duration": 5,
    "start_time": "2023-01-10T11:23:34.678Z"
   },
   {
    "duration": 8,
    "start_time": "2023-01-10T11:23:34.684Z"
   },
   {
    "duration": 39,
    "start_time": "2023-01-10T11:23:34.693Z"
   },
   {
    "duration": 13,
    "start_time": "2023-01-10T11:23:34.734Z"
   },
   {
    "duration": 10,
    "start_time": "2023-01-10T11:23:34.749Z"
   },
   {
    "duration": 25,
    "start_time": "2023-01-10T11:23:34.761Z"
   },
   {
    "duration": 4,
    "start_time": "2023-01-10T11:24:35.591Z"
   },
   {
    "duration": 23,
    "start_time": "2023-01-10T11:24:35.597Z"
   },
   {
    "duration": 70,
    "start_time": "2023-01-10T11:24:35.623Z"
   },
   {
    "duration": 18,
    "start_time": "2023-01-10T11:24:35.695Z"
   },
   {
    "duration": 12,
    "start_time": "2023-01-10T11:24:35.716Z"
   },
   {
    "duration": 9,
    "start_time": "2023-01-10T11:24:35.730Z"
   },
   {
    "duration": 20,
    "start_time": "2023-01-10T11:24:35.740Z"
   },
   {
    "duration": 8,
    "start_time": "2023-01-10T11:24:35.761Z"
   },
   {
    "duration": 142,
    "start_time": "2023-01-10T11:24:35.770Z"
   },
   {
    "duration": 15,
    "start_time": "2023-01-10T11:24:35.914Z"
   },
   {
    "duration": 28,
    "start_time": "2023-01-10T11:24:35.931Z"
   },
   {
    "duration": 1453,
    "start_time": "2023-01-10T11:24:35.960Z"
   },
   {
    "duration": 16,
    "start_time": "2023-01-10T11:24:37.414Z"
   },
   {
    "duration": 5,
    "start_time": "2023-01-10T11:24:37.432Z"
   },
   {
    "duration": 11,
    "start_time": "2023-01-10T11:24:37.438Z"
   },
   {
    "duration": 4,
    "start_time": "2023-01-10T11:24:37.450Z"
   },
   {
    "duration": 73,
    "start_time": "2023-01-10T11:24:37.456Z"
   },
   {
    "duration": 123,
    "start_time": "2023-01-10T11:24:37.532Z"
   },
   {
    "duration": 6,
    "start_time": "2023-01-10T11:24:37.657Z"
   },
   {
    "duration": 18,
    "start_time": "2023-01-10T11:24:37.665Z"
   },
   {
    "duration": 25,
    "start_time": "2023-01-10T11:24:37.684Z"
   },
   {
    "duration": 41,
    "start_time": "2023-01-10T11:24:37.710Z"
   },
   {
    "duration": 14,
    "start_time": "2023-01-10T11:24:37.753Z"
   },
   {
    "duration": 23,
    "start_time": "2023-01-10T11:24:37.769Z"
   },
   {
    "duration": 44,
    "start_time": "2023-01-10T11:24:37.793Z"
   },
   {
    "duration": 3,
    "start_time": "2023-01-10T15:18:14.144Z"
   },
   {
    "duration": 19,
    "start_time": "2023-01-10T15:18:14.149Z"
   },
   {
    "duration": 80,
    "start_time": "2023-01-10T15:18:14.170Z"
   },
   {
    "duration": 16,
    "start_time": "2023-01-10T15:18:14.251Z"
   },
   {
    "duration": 5,
    "start_time": "2023-01-10T15:18:14.269Z"
   },
   {
    "duration": 5,
    "start_time": "2023-01-10T15:18:14.276Z"
   },
   {
    "duration": 9,
    "start_time": "2023-01-10T15:18:14.283Z"
   },
   {
    "duration": 7,
    "start_time": "2023-01-10T15:18:14.293Z"
   },
   {
    "duration": 147,
    "start_time": "2023-01-10T15:18:14.302Z"
   },
   {
    "duration": 11,
    "start_time": "2023-01-10T15:18:14.451Z"
   },
   {
    "duration": 26,
    "start_time": "2023-01-10T15:18:14.464Z"
   },
   {
    "duration": 1582,
    "start_time": "2023-01-10T15:18:14.491Z"
   },
   {
    "duration": 7,
    "start_time": "2023-01-10T15:18:16.075Z"
   },
   {
    "duration": 31,
    "start_time": "2023-01-10T15:18:16.084Z"
   },
   {
    "duration": 14,
    "start_time": "2023-01-10T15:18:16.116Z"
   },
   {
    "duration": 4,
    "start_time": "2023-01-10T15:18:16.131Z"
   },
   {
    "duration": 90,
    "start_time": "2023-01-10T15:18:16.136Z"
   },
   {
    "duration": 121,
    "start_time": "2023-01-10T15:18:16.228Z"
   },
   {
    "duration": 8,
    "start_time": "2023-01-10T15:18:16.351Z"
   },
   {
    "duration": 5,
    "start_time": "2023-01-10T15:18:16.361Z"
   },
   {
    "duration": 8,
    "start_time": "2023-01-10T15:18:16.368Z"
   },
   {
    "duration": 22,
    "start_time": "2023-01-10T15:18:16.377Z"
   },
   {
    "duration": 29,
    "start_time": "2023-01-10T15:18:16.400Z"
   },
   {
    "duration": 8,
    "start_time": "2023-01-10T15:18:16.432Z"
   },
   {
    "duration": 10,
    "start_time": "2023-01-10T15:18:16.441Z"
   },
   {
    "duration": 1152,
    "start_time": "2023-01-11T06:55:05.870Z"
   },
   {
    "duration": 3,
    "start_time": "2023-01-11T06:55:07.024Z"
   },
   {
    "duration": 160,
    "start_time": "2023-01-11T06:55:07.029Z"
   },
   {
    "duration": 32,
    "start_time": "2023-01-11T06:55:07.191Z"
   },
   {
    "duration": 7,
    "start_time": "2023-01-11T06:55:07.224Z"
   },
   {
    "duration": 13,
    "start_time": "2023-01-11T06:55:07.233Z"
   },
   {
    "duration": 13,
    "start_time": "2023-01-11T06:55:07.247Z"
   },
   {
    "duration": 12,
    "start_time": "2023-01-11T06:55:07.278Z"
   },
   {
    "duration": 653,
    "start_time": "2023-01-11T06:55:07.292Z"
   },
   {
    "duration": 16,
    "start_time": "2023-01-11T06:55:07.949Z"
   },
   {
    "duration": 35,
    "start_time": "2023-01-11T06:55:07.977Z"
   },
   {
    "duration": 1758,
    "start_time": "2023-01-11T06:55:08.014Z"
   },
   {
    "duration": 11,
    "start_time": "2023-01-11T06:55:09.774Z"
   },
   {
    "duration": 12,
    "start_time": "2023-01-11T06:55:09.787Z"
   },
   {
    "duration": 21,
    "start_time": "2023-01-11T06:55:09.801Z"
   },
   {
    "duration": 105,
    "start_time": "2023-01-11T06:55:09.878Z"
   },
   {
    "duration": 108,
    "start_time": "2023-01-11T06:55:09.986Z"
   },
   {
    "duration": 147,
    "start_time": "2023-01-11T06:55:10.096Z"
   },
   {
    "duration": 9,
    "start_time": "2023-01-11T06:55:10.245Z"
   },
   {
    "duration": 5,
    "start_time": "2023-01-11T06:55:10.256Z"
   },
   {
    "duration": 21,
    "start_time": "2023-01-11T06:55:10.263Z"
   },
   {
    "duration": 19,
    "start_time": "2023-01-11T06:55:10.286Z"
   },
   {
    "duration": 14,
    "start_time": "2023-01-11T06:55:10.306Z"
   },
   {
    "duration": 9,
    "start_time": "2023-01-11T06:55:10.322Z"
   },
   {
    "duration": 30,
    "start_time": "2023-01-11T06:55:10.333Z"
   },
   {
    "duration": 4,
    "start_time": "2023-01-11T06:59:58.047Z"
   },
   {
    "duration": 31,
    "start_time": "2023-01-11T06:59:58.053Z"
   },
   {
    "duration": 71,
    "start_time": "2023-01-11T06:59:58.086Z"
   },
   {
    "duration": 16,
    "start_time": "2023-01-11T06:59:58.159Z"
   },
   {
    "duration": 12,
    "start_time": "2023-01-11T06:59:58.177Z"
   },
   {
    "duration": 22,
    "start_time": "2023-01-11T06:59:58.191Z"
   },
   {
    "duration": 30,
    "start_time": "2023-01-11T06:59:58.215Z"
   },
   {
    "duration": 33,
    "start_time": "2023-01-11T06:59:58.247Z"
   },
   {
    "duration": 186,
    "start_time": "2023-01-11T06:59:58.282Z"
   },
   {
    "duration": 18,
    "start_time": "2023-01-11T06:59:58.470Z"
   },
   {
    "duration": 37,
    "start_time": "2023-01-11T06:59:58.491Z"
   },
   {
    "duration": 1594,
    "start_time": "2023-01-11T06:59:58.530Z"
   },
   {
    "duration": 8,
    "start_time": "2023-01-11T07:00:00.126Z"
   },
   {
    "duration": 13,
    "start_time": "2023-01-11T07:00:00.136Z"
   },
   {
    "duration": 33,
    "start_time": "2023-01-11T07:00:00.150Z"
   },
   {
    "duration": 5,
    "start_time": "2023-01-11T07:00:00.185Z"
   },
   {
    "duration": 187,
    "start_time": "2023-01-11T07:00:00.194Z"
   },
   {
    "duration": 68,
    "start_time": "2023-01-11T07:00:00.383Z"
   },
   {
    "duration": 9,
    "start_time": "2023-01-11T07:00:00.453Z"
   },
   {
    "duration": 2,
    "start_time": "2023-01-11T07:00:00.479Z"
   },
   {
    "duration": 18,
    "start_time": "2023-01-11T07:00:00.483Z"
   },
   {
    "duration": 27,
    "start_time": "2023-01-11T07:00:00.502Z"
   },
   {
    "duration": 41,
    "start_time": "2023-01-11T07:00:00.531Z"
   },
   {
    "duration": 29,
    "start_time": "2023-01-11T07:00:00.574Z"
   },
   {
    "duration": 29,
    "start_time": "2023-01-11T07:00:00.605Z"
   },
   {
    "duration": 4,
    "start_time": "2023-01-11T07:32:21.277Z"
   },
   {
    "duration": 18,
    "start_time": "2023-01-11T07:32:21.297Z"
   },
   {
    "duration": 97,
    "start_time": "2023-01-11T07:32:21.318Z"
   },
   {
    "duration": 24,
    "start_time": "2023-01-11T07:32:21.417Z"
   },
   {
    "duration": 14,
    "start_time": "2023-01-11T07:32:21.444Z"
   },
   {
    "duration": 46,
    "start_time": "2023-01-11T07:32:21.460Z"
   },
   {
    "duration": 57,
    "start_time": "2023-01-11T07:32:21.508Z"
   },
   {
    "duration": 45,
    "start_time": "2023-01-11T07:32:21.566Z"
   },
   {
    "duration": 230,
    "start_time": "2023-01-11T07:32:21.613Z"
   },
   {
    "duration": 17,
    "start_time": "2023-01-11T07:32:21.845Z"
   },
   {
    "duration": 69,
    "start_time": "2023-01-11T07:32:21.880Z"
   },
   {
    "duration": 1946,
    "start_time": "2023-01-11T07:32:21.951Z"
   },
   {
    "duration": 11,
    "start_time": "2023-01-11T07:32:23.899Z"
   },
   {
    "duration": 20,
    "start_time": "2023-01-11T07:32:23.912Z"
   },
   {
    "duration": 24,
    "start_time": "2023-01-11T07:32:23.935Z"
   },
   {
    "duration": 49,
    "start_time": "2023-01-11T07:32:23.961Z"
   },
   {
    "duration": 68,
    "start_time": "2023-01-11T07:32:24.014Z"
   },
   {
    "duration": 158,
    "start_time": "2023-01-11T07:32:24.084Z"
   },
   {
    "duration": 11,
    "start_time": "2023-01-11T07:32:24.245Z"
   },
   {
    "duration": 3,
    "start_time": "2023-01-11T07:32:24.278Z"
   },
   {
    "duration": 37,
    "start_time": "2023-01-11T07:32:24.283Z"
   },
   {
    "duration": 22,
    "start_time": "2023-01-11T07:32:24.323Z"
   },
   {
    "duration": 25,
    "start_time": "2023-01-11T07:32:24.347Z"
   },
   {
    "duration": 11,
    "start_time": "2023-01-11T07:32:24.373Z"
   },
   {
    "duration": 36,
    "start_time": "2023-01-11T07:32:24.387Z"
   },
   {
    "duration": 4,
    "start_time": "2023-01-11T07:33:54.074Z"
   },
   {
    "duration": 19,
    "start_time": "2023-01-11T07:33:54.080Z"
   },
   {
    "duration": 76,
    "start_time": "2023-01-11T07:33:54.104Z"
   },
   {
    "duration": 22,
    "start_time": "2023-01-11T07:33:54.183Z"
   },
   {
    "duration": 5,
    "start_time": "2023-01-11T07:33:54.207Z"
   },
   {
    "duration": 8,
    "start_time": "2023-01-11T07:33:54.214Z"
   },
   {
    "duration": 12,
    "start_time": "2023-01-11T07:33:54.224Z"
   },
   {
    "duration": 45,
    "start_time": "2023-01-11T07:33:54.237Z"
   },
   {
    "duration": 174,
    "start_time": "2023-01-11T07:33:54.284Z"
   },
   {
    "duration": 23,
    "start_time": "2023-01-11T07:33:54.462Z"
   },
   {
    "duration": 24,
    "start_time": "2023-01-11T07:33:54.487Z"
   },
   {
    "duration": 1653,
    "start_time": "2023-01-11T07:33:54.513Z"
   },
   {
    "duration": 16,
    "start_time": "2023-01-11T07:33:56.168Z"
   },
   {
    "duration": 8,
    "start_time": "2023-01-11T07:33:56.187Z"
   },
   {
    "duration": 15,
    "start_time": "2023-01-11T07:33:56.197Z"
   },
   {
    "duration": 9,
    "start_time": "2023-01-11T07:33:56.214Z"
   },
   {
    "duration": 57,
    "start_time": "2023-01-11T07:33:56.225Z"
   },
   {
    "duration": 140,
    "start_time": "2023-01-11T07:33:56.283Z"
   },
   {
    "duration": 10,
    "start_time": "2023-01-11T07:33:56.425Z"
   },
   {
    "duration": 6,
    "start_time": "2023-01-11T07:33:56.436Z"
   },
   {
    "duration": 11,
    "start_time": "2023-01-11T07:33:56.443Z"
   },
   {
    "duration": 9,
    "start_time": "2023-01-11T07:33:56.478Z"
   },
   {
    "duration": 14,
    "start_time": "2023-01-11T07:33:56.490Z"
   },
   {
    "duration": 9,
    "start_time": "2023-01-11T07:33:56.506Z"
   },
   {
    "duration": 7,
    "start_time": "2023-01-11T07:33:56.517Z"
   },
   {
    "duration": 1795,
    "start_time": "2023-01-11T18:45:06.918Z"
   },
   {
    "duration": 2,
    "start_time": "2023-01-11T18:45:08.715Z"
   },
   {
    "duration": 105,
    "start_time": "2023-01-11T18:45:08.719Z"
   },
   {
    "duration": 25,
    "start_time": "2023-01-11T18:45:08.825Z"
   },
   {
    "duration": 7,
    "start_time": "2023-01-11T18:45:08.852Z"
   },
   {
    "duration": 13,
    "start_time": "2023-01-11T18:45:08.860Z"
   },
   {
    "duration": 15,
    "start_time": "2023-01-11T18:45:08.875Z"
   },
   {
    "duration": 18,
    "start_time": "2023-01-11T18:45:08.892Z"
   },
   {
    "duration": 388,
    "start_time": "2023-01-11T18:45:08.911Z"
   },
   {
    "duration": 14,
    "start_time": "2023-01-11T18:45:09.300Z"
   },
   {
    "duration": 47,
    "start_time": "2023-01-11T18:45:09.316Z"
   },
   {
    "duration": 1469,
    "start_time": "2023-01-11T18:45:09.365Z"
   },
   {
    "duration": 7,
    "start_time": "2023-01-11T18:45:10.836Z"
   },
   {
    "duration": 5,
    "start_time": "2023-01-11T18:45:10.846Z"
   },
   {
    "duration": 32,
    "start_time": "2023-01-11T18:45:10.853Z"
   },
   {
    "duration": 5,
    "start_time": "2023-01-11T18:45:10.886Z"
   },
   {
    "duration": 11,
    "start_time": "2023-01-11T18:45:10.892Z"
   },
   {
    "duration": 197,
    "start_time": "2023-01-11T18:45:10.904Z"
   },
   {
    "duration": 9,
    "start_time": "2023-01-11T18:45:11.103Z"
   },
   {
    "duration": 3,
    "start_time": "2023-01-11T18:45:11.113Z"
   },
   {
    "duration": 8,
    "start_time": "2023-01-11T18:45:11.118Z"
   },
   {
    "duration": 9,
    "start_time": "2023-01-11T18:45:11.127Z"
   },
   {
    "duration": 42,
    "start_time": "2023-01-11T18:45:11.137Z"
   },
   {
    "duration": 8,
    "start_time": "2023-01-11T18:45:11.180Z"
   },
   {
    "duration": 18,
    "start_time": "2023-01-11T18:45:11.189Z"
   },
   {
    "duration": 5,
    "start_time": "2023-01-11T18:45:18.309Z"
   }
  ],
  "kernelspec": {
   "display_name": "Python 3 (ipykernel)",
   "language": "python",
   "name": "python3"
  },
  "language_info": {
   "codemirror_mode": {
    "name": "ipython",
    "version": 3
   },
   "file_extension": ".py",
   "mimetype": "text/x-python",
   "name": "python",
   "nbconvert_exporter": "python",
   "pygments_lexer": "ipython3",
   "version": "3.9.13"
  },
  "toc": {
   "base_numbering": 1,
   "nav_menu": {},
   "number_sections": true,
   "sideBar": true,
   "skip_h1_title": true,
   "title_cell": "Table of Contents",
   "title_sidebar": "Contents",
   "toc_cell": false,
   "toc_position": {},
   "toc_section_display": true,
   "toc_window_display": false
  }
 },
 "nbformat": 4,
 "nbformat_minor": 5
}
